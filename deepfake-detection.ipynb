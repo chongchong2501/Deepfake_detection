{
 "cells": [
  {
   "cell_type": "code",
   "execution_count": 1,
   "id": "5adc5384",
   "metadata": {
    "execution": {
     "iopub.execute_input": "2025-07-07T00:27:37.352051Z",
     "iopub.status.busy": "2025-07-07T00:27:37.351803Z",
     "iopub.status.idle": "2025-07-07T00:27:44.949920Z",
     "shell.execute_reply": "2025-07-07T00:27:44.948930Z"
    },
    "papermill": {
     "duration": 7.607322,
     "end_time": "2025-07-07T00:27:44.951547",
     "exception": false,
     "start_time": "2025-07-07T00:27:37.344225",
     "status": "completed"
    },
    "tags": []
   },
   "outputs": [
    {
     "name": "stdout",
     "output_type": "stream",
     "text": [
      "Collecting av\r\n",
      "  Downloading av-15.0.0-cp311-cp311-manylinux_2_28_x86_64.whl.metadata (4.6 kB)\r\n",
      "Downloading av-15.0.0-cp311-cp311-manylinux_2_28_x86_64.whl (39.7 MB)\r\n",
      "\u001b[2K   \u001b[90m━━━━━━━━━━━━━━━━━━━━━━━━━━━━━━━━━━━━━━━━\u001b[0m \u001b[32m39.7/39.7 MB\u001b[0m \u001b[31m43.9 MB/s\u001b[0m eta \u001b[36m0:00:00\u001b[0m\r\n",
      "\u001b[?25hInstalling collected packages: av\r\n",
      "Successfully installed av-15.0.0\r\n"
     ]
    }
   ],
   "source": [
    "!pip install av"
   ]
  },
  {
   "cell_type": "markdown",
   "id": "658037ea",
   "metadata": {
    "papermill": {
     "duration": 0.00535,
     "end_time": "2025-07-07T00:27:44.963546",
     "exception": false,
     "start_time": "2025-07-07T00:27:44.958196",
     "status": "completed"
    },
    "tags": []
   },
   "source": [
    "# Cell 1: 导入库和环境设置"
   ]
  },
  {
   "cell_type": "code",
   "execution_count": 2,
   "id": "fddb9bb8",
   "metadata": {
    "_cell_guid": "4883bd2d-9463-4607-9e61-df4d76492a78",
    "_uuid": "f6ebcf0d-d34a-4e53-b9c4-c85254661e41",
    "collapsed": false,
    "execution": {
     "iopub.execute_input": "2025-07-07T00:27:44.975704Z",
     "iopub.status.busy": "2025-07-07T00:27:44.975112Z",
     "iopub.status.idle": "2025-07-07T00:28:08.041807Z",
     "shell.execute_reply": "2025-07-07T00:28:08.040946Z"
    },
    "jupyter": {
     "outputs_hidden": false
    },
    "papermill": {
     "duration": 23.074173,
     "end_time": "2025-07-07T00:28:08.043021",
     "exception": false,
     "start_time": "2025-07-07T00:27:44.968848",
     "status": "completed"
    },
    "tags": []
   },
   "outputs": [
    {
     "name": "stdout",
     "output_type": "stream",
     "text": [
      "✅ PyAV已安装，支持GPU视频处理\n",
      "✅ 所有库导入完成\n"
     ]
    }
   ],
   "source": [
    "# Cell 1: 导入库和环境设置\n",
    "\n",
    "# 修复CUDA多进程问题\n",
    "import multiprocessing as mp\n",
    "try:\n",
    "    mp.set_start_method('spawn', force=True)\n",
    "except RuntimeError:\n",
    "    pass  # 如果已经设置过，忽略错误\n",
    "\n",
    "import os\n",
    "import cv2\n",
    "import numpy as np\n",
    "import pandas as pd\n",
    "import matplotlib.pyplot as plt\n",
    "import seaborn as sns\n",
    "from tqdm import tqdm\n",
    "import random\n",
    "import warnings\n",
    "import gc\n",
    "import json\n",
    "import time\n",
    "import sys\n",
    "from pathlib import Path\n",
    "from datetime import datetime\n",
    "warnings.filterwarnings('ignore')\n",
    "\n",
    "# PyTorch相关\n",
    "import torch\n",
    "import torch.nn as nn\n",
    "import torch.optim as optim\n",
    "import torch.nn.functional as F\n",
    "from torch.utils.data import Dataset, DataLoader\n",
    "import torchvision.transforms as transforms\n",
    "import torchvision.transforms.functional as TF\n",
    "import torchvision.models as models\n",
    "from torchvision.io import read_video\n",
    "from torch.optim.lr_scheduler import CosineAnnealingWarmRestarts, ReduceLROnPlateau\n",
    "from torch.cuda.amp import GradScaler, autocast\n",
    "\n",
    "# 机器学习指标\n",
    "from sklearn.metrics import (\n",
    "    accuracy_score, precision_score, recall_score, f1_score,\n",
    "    roc_auc_score, confusion_matrix, classification_report,\n",
    "    roc_curve, auc, precision_recall_curve, balanced_accuracy_score\n",
    ")\n",
    "from sklearn.model_selection import train_test_split\n",
    "\n",
    "# 系统监控和性能分析\n",
    "import psutil\n",
    "import traceback\n",
    "\n",
    "\n",
    "# 视频处理 (PyAV)\n",
    "try:\n",
    "    import av\n",
    "    PYAV_AVAILABLE = True\n",
    "    print(\"✅ PyAV已安装，支持GPU视频处理\")\n",
    "except ImportError:\n",
    "    PYAV_AVAILABLE = False\n",
    "    print(\"⚠️ PyAV未安装，视频处理将回退到CPU模式\")\n",
    "\n",
    "# 数据增强\n",
    "try:\n",
    "    import albumentations as A\n",
    "    from albumentations.pytorch import ToTensorV2\n",
    "    ALBUMENTATIONS_AVAILABLE = True\n",
    "except ImportError:\n",
    "    ALBUMENTATIONS_AVAILABLE = False\n",
    "    print(\"警告: albumentations未安装，将使用基础数据增强\")\n",
    "\n",
    "print(\"✅ 所有库导入完成\")"
   ]
  },
  {
   "cell_type": "markdown",
   "id": "c8755e8b",
   "metadata": {
    "papermill": {
     "duration": 0.005374,
     "end_time": "2025-07-07T00:28:08.054257",
     "exception": false,
     "start_time": "2025-07-07T00:28:08.048883",
     "status": "completed"
    },
    "tags": []
   },
   "source": [
    "# Cell 2: 全局配置和工具函数"
   ]
  },
  {
   "cell_type": "code",
   "execution_count": 3,
   "id": "576f4f2f",
   "metadata": {
    "execution": {
     "iopub.execute_input": "2025-07-07T00:28:08.067888Z",
     "iopub.status.busy": "2025-07-07T00:28:08.067456Z",
     "iopub.status.idle": "2025-07-07T00:28:08.386918Z",
     "shell.execute_reply": "2025-07-07T00:28:08.386213Z"
    },
    "papermill": {
     "duration": 0.327043,
     "end_time": "2025-07-07T00:28:08.388285",
     "exception": false,
     "start_time": "2025-07-07T00:28:08.061242",
     "status": "completed"
    },
    "tags": []
   },
   "outputs": [
    {
     "name": "stdout",
     "output_type": "stream",
     "text": [
      "使用设备: cuda\n",
      "GPU型号: Tesla T4\n",
      "GPU内存: 14.7 GB\n",
      "✅ Kaggle T4 GPU优化配置已启用\n",
      "数据类型策略: FP32 (兼容性优先)\n",
      "环境: Kaggle\n",
      "数据基础路径: /kaggle/input/ff-c23/FaceForensics++_C23\n",
      "✅ 环境设置完成\n"
     ]
    }
   ],
   "source": [
    "# Cell 2: 全局配置和工具函数 - Kaggle T4 优化版本\n",
    "\n",
    "def set_seed(seed=42):\n",
    "    \"\"\"设置随机种子确保可重复性\"\"\"\n",
    "    random.seed(seed)\n",
    "    np.random.seed(seed)\n",
    "    torch.manual_seed(seed)\n",
    "    if torch.cuda.is_available():\n",
    "        torch.cuda.manual_seed(seed)\n",
    "        torch.cuda.manual_seed_all(seed)\n",
    "    # Kaggle环境优化：平衡性能和可重复性\n",
    "    torch.backends.cudnn.deterministic = False\n",
    "    torch.backends.cudnn.benchmark = True\n",
    "\n",
    "set_seed(42)\n",
    "\n",
    "# Kaggle T4 GPU配置\n",
    "device = torch.device('cuda' if torch.cuda.is_available() else 'cpu')\n",
    "print(f\"使用设备: {device}\")\n",
    "\n",
    "if torch.cuda.is_available():\n",
    "    gpu_name = torch.cuda.get_device_name(0)\n",
    "    gpu_memory = torch.cuda.get_device_properties(0).total_memory / 1024**3\n",
    "    print(f\"GPU型号: {gpu_name}\")\n",
    "    print(f\"GPU内存: {gpu_memory:.1f} GB\")\n",
    "    \n",
    "    # Kaggle T4 GPU优化配置\n",
    "    torch.cuda.set_per_process_memory_fraction(0.9)  # 保守内存使用\n",
    "    torch.backends.cuda.matmul.allow_tf32 = True\n",
    "    torch.backends.cudnn.allow_tf32 = True\n",
    "    \n",
    "    print(\"✅ Kaggle T4 GPU优化配置已启用\")\n",
    "\n",
    "# 创建必要的目录\n",
    "for dir_name in ['./data', './models', './logs', './results']:\n",
    "    os.makedirs(dir_name, exist_ok=True)\n",
    "\n",
    "# Kaggle环境检测\n",
    "IS_KAGGLE = os.path.exists('/kaggle')\n",
    "BASE_DATA_DIR = '/kaggle/input/ff-c23/FaceForensics++_C23' if IS_KAGGLE else './FaceForensics++_C23'\n",
    "\n",
    "# 统一数据类型配置 - 全部使用FP32提升兼容性\n",
    "USE_FP32_ONLY = True  # 强制使用FP32，确保最佳兼容性\n",
    "print(f\"数据类型策略: FP32 (兼容性优先)\")\n",
    "\n",
    "print(f\"环境: {'Kaggle' if IS_KAGGLE else '本地'}\")\n",
    "print(f\"数据基础路径: {BASE_DATA_DIR}\")\n",
    "print(\"✅ 环境设置完成\")"
   ]
  },
  {
   "cell_type": "markdown",
   "id": "0af5d691",
   "metadata": {
    "papermill": {
     "duration": 0.005425,
     "end_time": "2025-07-07T00:28:08.399736",
     "exception": false,
     "start_time": "2025-07-07T00:28:08.394311",
     "status": "completed"
    },
    "tags": []
   },
   "source": [
    "# Cell 3: 数据处理模块\n"
   ]
  },
  {
   "cell_type": "code",
   "execution_count": 4,
   "id": "a7dbfb03",
   "metadata": {
    "execution": {
     "iopub.execute_input": "2025-07-07T00:28:08.411930Z",
     "iopub.status.busy": "2025-07-07T00:28:08.411423Z",
     "iopub.status.idle": "2025-07-07T00:28:08.439992Z",
     "shell.execute_reply": "2025-07-07T00:28:08.439133Z"
    },
    "papermill": {
     "duration": 0.035981,
     "end_time": "2025-07-07T00:28:08.441130",
     "exception": false,
     "start_time": "2025-07-07T00:28:08.405149",
     "status": "completed"
    },
    "tags": []
   },
   "outputs": [
    {
     "name": "stdout",
     "output_type": "stream",
     "text": [
      "✅ 数据处理函数定义完成\n"
     ]
    }
   ],
   "source": [
    "# Cell 3: GPU加速数据处理模块\n",
    "\n",
    "def extract_frames_gpu_accelerated(video_path, max_frames=16, target_size=(224, 224),\n",
    "                                  quality_threshold=20, use_gpu=True):\n",
    "    \"\"\"GPU加速的帧提取函数\"\"\"\n",
    "    try:\n",
    "        # 检查PyAV是否可用\n",
    "        if not globals().get('PYAV_AVAILABLE', False):\n",
    "            print(f\"PyAV不可用，使用CPU回退处理: {video_path}\")\n",
    "            return extract_frames_cpu_fallback(video_path, max_frames, target_size, quality_threshold)\n",
    "            \n",
    "        # 使用torchvision的GPU加速视频读取\n",
    "        if use_gpu and torch.cuda.is_available():\n",
    "            device = torch.device('cuda')\n",
    "        else:\n",
    "            device = torch.device('cpu')\n",
    "            \n",
    "        # 读取视频（torchvision自动处理解码）\n",
    "        try:\n",
    "            video_tensor, audio, info = read_video(video_path, pts_unit='sec')\n",
    "            # video_tensor shape: (T, H, W, C)\n",
    "        except Exception as e:\n",
    "            print(f\"GPU视频读取失败，回退到CPU: {e}\")\n",
    "            return extract_frames_cpu_fallback(video_path, max_frames, target_size, quality_threshold)\n",
    "        \n",
    "        if video_tensor.size(0) == 0:\n",
    "            return []\n",
    "            \n",
    "        # 移动到GPU进行处理\n",
    "        video_tensor = video_tensor.to(device, non_blocking=True)\n",
    "        total_frames = video_tensor.size(0)\n",
    "        \n",
    "        # 智能帧采样策略\n",
    "        if total_frames <= max_frames:\n",
    "            frame_indices = torch.arange(0, total_frames, device=device)\n",
    "        else:\n",
    "            # 均匀采样\n",
    "            step = total_frames / max_frames\n",
    "            frame_indices = torch.arange(0, total_frames, step, device=device).long()[:max_frames]\n",
    "        \n",
    "        # 批量提取帧\n",
    "        selected_frames = video_tensor[frame_indices]  # (max_frames, H, W, C)\n",
    "        \n",
    "        # GPU上进行质量检测（使用Sobel算子代替Laplacian）\n",
    "        if quality_threshold > 0:\n",
    "            # 转换为灰度图进行质量检测（先转换为float类型）\n",
    "            gray_frames = selected_frames.float().mean(dim=-1, keepdim=True)  # (T, H, W, 1)\n",
    "            gray_frames = gray_frames.permute(0, 3, 1, 2)  # (T, 1, H, W)\n",
    "            \n",
    "            # 使用Sobel算子计算图像质量\n",
    "            sobel_x = torch.tensor([[-1, 0, 1], [-2, 0, 2], [-1, 0, 1]], \n",
    "                                 dtype=torch.float32, device=device).view(1, 1, 3, 3)\n",
    "            sobel_y = torch.tensor([[-1, -2, -1], [0, 0, 0], [1, 2, 1]], \n",
    "                                 dtype=torch.float32, device=device).view(1, 1, 3, 3)\n",
    "            \n",
    "            grad_x = F.conv2d(gray_frames, sobel_x, padding=1)\n",
    "            grad_y = F.conv2d(gray_frames, sobel_y, padding=1)\n",
    "            quality_scores = (grad_x.pow(2) + grad_y.pow(2)).mean(dim=[1, 2, 3])\n",
    "            \n",
    "            # 过滤低质量帧\n",
    "            quality_mask = quality_scores > quality_threshold\n",
    "            if quality_mask.sum() > 0:\n",
    "                selected_frames = selected_frames[quality_mask]\n",
    "            \n",
    "        # GPU上进行尺寸调整\n",
    "        selected_frames = selected_frames.permute(0, 3, 1, 2).float()  # (T, C, H, W)\n",
    "        if selected_frames.size(-1) != target_size[0] or selected_frames.size(-2) != target_size[1]:\n",
    "            selected_frames = F.interpolate(selected_frames, size=target_size, \n",
    "                                          mode='bilinear', align_corners=False)\n",
    "        \n",
    "        # 确保帧数足够\n",
    "        current_frames = selected_frames.size(0)\n",
    "        if current_frames < max_frames:\n",
    "            # 重复最后一帧\n",
    "            if current_frames > 0:\n",
    "                last_frame = selected_frames[-1:].repeat(max_frames - current_frames, 1, 1, 1)\n",
    "                selected_frames = torch.cat([selected_frames, last_frame], dim=0)\n",
    "            else:\n",
    "                # 创建黑色帧\n",
    "                selected_frames = torch.zeros(max_frames, 3, target_size[0], target_size[1], \n",
    "                                            device=device, dtype=torch.float32)\n",
    "        \n",
    "        # 限制到最大帧数\n",
    "        selected_frames = selected_frames[:max_frames]\n",
    "        \n",
    "        # 转换回CPU numpy格式（为了兼容现有代码）\n",
    "        frames_cpu = selected_frames.permute(0, 2, 3, 1).cpu().numpy().astype(np.uint8)\n",
    "        frames_list = [frame for frame in frames_cpu]\n",
    "        \n",
    "        return frames_list\n",
    "        \n",
    "    except Exception as e:\n",
    "        print(f\"GPU帧提取失败，回退到CPU: {e}\")\n",
    "        return extract_frames_cpu_fallback(video_path, max_frames, target_size, quality_threshold)\n",
    "\n",
    "def extract_frames_cpu_fallback(video_path, max_frames=16, target_size=(224, 224), quality_threshold=20):\n",
    "    \"\"\"CPU回退的帧提取函数\"\"\"\n",
    "    cap = cv2.VideoCapture(video_path)\n",
    "    frames = []\n",
    "\n",
    "    if not cap.isOpened():\n",
    "        print(f\"无法打开视频: {video_path}\")\n",
    "        return frames\n",
    "\n",
    "    total_frames = int(cap.get(cv2.CAP_PROP_FRAME_COUNT))\n",
    "    if total_frames == 0:\n",
    "        cap.release()\n",
    "        return frames\n",
    "\n",
    "    # 均匀采样策略\n",
    "    if total_frames <= max_frames:\n",
    "        frame_indices = list(range(0, total_frames, max(1, total_frames // max_frames)))\n",
    "    else:\n",
    "        step = max(1, total_frames // max_frames)\n",
    "        frame_indices = list(range(0, total_frames, step))[:max_frames]\n",
    "\n",
    "    frame_count = 0\n",
    "    for frame_idx in frame_indices:\n",
    "        if frame_count >= max_frames:\n",
    "            break\n",
    "\n",
    "        cap.set(cv2.CAP_PROP_POS_FRAMES, frame_idx)\n",
    "        ret, frame = cap.read()\n",
    "\n",
    "        if ret:\n",
    "            frame = cv2.cvtColor(frame, cv2.COLOR_BGR2RGB)\n",
    "            \n",
    "            # 质量检测\n",
    "            if quality_threshold > 0:\n",
    "                gray = cv2.cvtColor(frame, cv2.COLOR_RGB2GRAY)\n",
    "                quality = cv2.Laplacian(gray, cv2.CV_64F).var()\n",
    "                if quality <= quality_threshold:\n",
    "                    continue\n",
    "            \n",
    "            frame = cv2.resize(frame, target_size)\n",
    "            frames.append(frame)\n",
    "            frame_count += 1\n",
    "\n",
    "    cap.release()\n",
    "\n",
    "    # 如果帧数不足，重复最后一帧\n",
    "    while len(frames) < max_frames and len(frames) > 0:\n",
    "        frames.append(frames[-1].copy())\n",
    "\n",
    "    return frames[:max_frames]\n",
    "\n",
    "# 为了向后兼容，保留原函数名\n",
    "def extract_frames_memory_efficient(video_path, max_frames=16, target_size=(224, 224),\n",
    "                                   quality_threshold=20, skip_frames=3):\n",
    "    \"\"\"兼容性包装函数，优先使用GPU加速\"\"\"\n",
    "    return extract_frames_gpu_accelerated(video_path, max_frames, target_size, quality_threshold)\n",
    "\n",
    "def process_videos_simple(base_data_dir, max_videos_per_class=60, max_frames=16):\n",
    "    \"\"\"简化的视频处理函数\"\"\"\n",
    "    data_list = []\n",
    "    fake_methods = ['Deepfakes', 'Face2Face', 'FaceShifter', 'FaceSwap', 'NeuralTextures']\n",
    "\n",
    "    print(\"开始处理真实视频...\")\n",
    "    # 处理真实视频\n",
    "    original_dir = os.path.join(base_data_dir, 'original')\n",
    "    if os.path.exists(original_dir):\n",
    "        video_files = [f for f in os.listdir(original_dir)\n",
    "                      if f.endswith(('.mp4', '.avi', '.mov'))]\n",
    "        \n",
    "        if len(video_files) > max_videos_per_class:\n",
    "            video_files = random.sample(video_files, max_videos_per_class)\n",
    "\n",
    "        print(f\"找到 {len(video_files)} 个真实视频\")\n",
    "\n",
    "        for video_file in tqdm(video_files, desc=\"处理真实视频\"):\n",
    "            try:\n",
    "                video_path = os.path.join(original_dir, video_file)\n",
    "                frames = extract_frames_memory_efficient(video_path, max_frames)\n",
    "                \n",
    "                if len(frames) >= max_frames // 2:  # 至少要有一半的帧\n",
    "                    data_list.append({\n",
    "                        'video_path': video_path,\n",
    "                        'frames': frames,\n",
    "                        'label': 0,  # 真实视频\n",
    "                        'method': 'original'\n",
    "                    })\n",
    "            except Exception as e:\n",
    "                print(f\"处理视频 {video_file} 时出错: {e}\")\n",
    "                continue\n",
    "\n",
    "    # 处理伪造视频\n",
    "    print(\"开始处理伪造视频...\")\n",
    "    for method in fake_methods:\n",
    "        method_dir = os.path.join(base_data_dir, method)\n",
    "        if os.path.exists(method_dir):\n",
    "            video_files = [f for f in os.listdir(method_dir)\n",
    "                          if f.endswith(('.mp4', '.avi', '.mov'))]\n",
    "            \n",
    "            if len(video_files) > max_videos_per_class:\n",
    "                video_files = random.sample(video_files, max_videos_per_class)\n",
    "\n",
    "            print(f\"处理 {method}: {len(video_files)} 个视频\")\n",
    "\n",
    "            for video_file in tqdm(video_files, desc=f\"处理{method}\"):\n",
    "                try:\n",
    "                    video_path = os.path.join(method_dir, video_file)\n",
    "                    frames = extract_frames_memory_efficient(video_path, max_frames)\n",
    "                    \n",
    "                    if len(frames) >= max_frames // 2:\n",
    "                        data_list.append({\n",
    "                            'video_path': video_path,\n",
    "                            'frames': frames,\n",
    "                            'label': 1,  # 伪造视频\n",
    "                            'method': method\n",
    "                        })\n",
    "                except Exception as e:\n",
    "                    print(f\"处理视频 {video_file} 时出错: {e}\")\n",
    "                    continue\n",
    "\n",
    "    print(f\"\\n✅ 数据处理完成，共处理 {len(data_list)} 个视频\")\n",
    "    return data_list\n",
    "\n",
    "def create_dataset_split(data_list, test_size=0.2, val_size=0.1):\n",
    "    \"\"\"创建数据集划分\"\"\"\n",
    "    # 分离真实和伪造数据\n",
    "    real_data = [item for item in data_list if item['label'] == 0]\n",
    "    fake_data = [item for item in data_list if item['label'] == 1]\n",
    "    \n",
    "    print(f\"真实视频: {len(real_data)} 个\")\n",
    "    print(f\"伪造视频: {len(fake_data)} 个\")\n",
    "    \n",
    "    # 分别划分真实和伪造数据\n",
    "    real_train, real_temp = train_test_split(real_data, test_size=test_size+val_size, random_state=42)\n",
    "    real_val, real_test = train_test_split(real_temp, test_size=test_size/(test_size+val_size), random_state=42)\n",
    "    \n",
    "    fake_train, fake_temp = train_test_split(fake_data, test_size=test_size+val_size, random_state=42)\n",
    "    fake_val, fake_test = train_test_split(fake_temp, test_size=test_size/(test_size+val_size), random_state=42)\n",
    "    \n",
    "    # 合并数据\n",
    "    train_data = real_train + fake_train\n",
    "    val_data = real_val + fake_val\n",
    "    test_data = real_test + fake_test\n",
    "    \n",
    "    # 打乱数据\n",
    "    random.shuffle(train_data)\n",
    "    random.shuffle(val_data)\n",
    "    random.shuffle(test_data)\n",
    "    \n",
    "    return train_data, val_data, test_data\n",
    "\n",
    "def save_dataset_to_csv(data_list, filename):\n",
    "    \"\"\"将数据集保存为CSV文件\"\"\"\n",
    "    df_data = []\n",
    "    for item in data_list:\n",
    "        df_data.append({\n",
    "            'video_path': item['video_path'],\n",
    "            'label': item['label'],\n",
    "            'method': item['method'],\n",
    "            'num_frames': len(item['frames'])\n",
    "        })\n",
    "    \n",
    "    df = pd.DataFrame(df_data)\n",
    "    df.to_csv(filename, index=False)\n",
    "    print(f\"数据集已保存到: {filename}\")\n",
    "    return df\n",
    "\n",
    "print(\"✅ 数据处理函数定义完成\")"
   ]
  },
  {
   "cell_type": "markdown",
   "id": "87f9f45a",
   "metadata": {
    "papermill": {
     "duration": 0.005376,
     "end_time": "2025-07-07T00:28:08.452422",
     "exception": false,
     "start_time": "2025-07-07T00:28:08.447046",
     "status": "completed"
    },
    "tags": []
   },
   "source": [
    "# Cell 4: 数据集类定义\n"
   ]
  },
  {
   "cell_type": "code",
   "execution_count": 5,
   "id": "a1f3732f",
   "metadata": {
    "execution": {
     "iopub.execute_input": "2025-07-07T00:28:08.464917Z",
     "iopub.status.busy": "2025-07-07T00:28:08.464666Z",
     "iopub.status.idle": "2025-07-07T00:28:08.477920Z",
     "shell.execute_reply": "2025-07-07T00:28:08.477136Z"
    },
    "papermill": {
     "duration": 0.020724,
     "end_time": "2025-07-07T00:28:08.479115",
     "exception": false,
     "start_time": "2025-07-07T00:28:08.458391",
     "status": "completed"
    },
    "tags": []
   },
   "outputs": [
    {
     "name": "stdout",
     "output_type": "stream",
     "text": [
      "✅ 数据集类定义完成\n"
     ]
    }
   ],
   "source": [
    "# Cell 4: 数据集类定义\n",
    "\n",
    "class DeepfakeVideoDataset(Dataset):\n",
    "    \"\"\"深度伪造视频数据集类 - Kaggle T4 优化版本\"\"\"\n",
    "    \n",
    "    def __init__(self, csv_file=None, data_list=None, transform=None, max_frames=16, \n",
    "                 gpu_preprocessing=True, cache_frames=False):\n",
    "        if csv_file is not None:\n",
    "            self.df = pd.read_csv(csv_file)\n",
    "            self.data_list = None\n",
    "        elif data_list is not None:\n",
    "            self.data_list = data_list\n",
    "            self.df = None\n",
    "        else:\n",
    "            raise ValueError(\"必须提供csv_file或data_list\")\n",
    "            \n",
    "        self.transform = transform\n",
    "        self.max_frames = max_frames\n",
    "        self.gpu_preprocessing = gpu_preprocessing and torch.cuda.is_available()\n",
    "        self.cache_frames = cache_frames\n",
    "        \n",
    "        # 简化缓存系统 - 仅CPU缓存，避免GPU内存压力\n",
    "        self.frame_cache = {} if cache_frames else None\n",
    "        self.cache_hits = 0\n",
    "        self.cache_misses = 0\n",
    "        \n",
    "        # GPU预处理的标准化参数 - 统一使用FP32\n",
    "        if self.gpu_preprocessing:\n",
    "            self.mean = torch.tensor([0.485, 0.456, 0.406], device='cuda', dtype=torch.float32)\n",
    "            self.std = torch.tensor([0.229, 0.224, 0.225], device='cuda', dtype=torch.float32)\n",
    "            \n",
    "        print(f\"🚀 数据集初始化: GPU预处理={'启用' if self.gpu_preprocessing else '禁用'}, \"\n",
    "              f\"缓存={'启用' if self.cache_frames else '禁用'}, 数据类型=FP32\")\n",
    "    \n",
    "    def __len__(self):\n",
    "        if self.df is not None:\n",
    "            return len(self.df)\n",
    "        return len(self.data_list)\n",
    "    \n",
    "    def __getitem__(self, idx):\n",
    "        if self.data_list is not None:\n",
    "            # 直接从内存中的数据列表获取\n",
    "            item = self.data_list[idx]\n",
    "            frames = item['frames']\n",
    "            label = item['label']\n",
    "            video_path = None\n",
    "        else:\n",
    "            # 从CSV文件获取路径\n",
    "            row = self.df.iloc[idx]\n",
    "            video_path = row['video_path']\n",
    "            label = row['label']\n",
    "            frames = None\n",
    "        \n",
    "        # 简化的数据处理流程\n",
    "        if frames is None:\n",
    "            # 检查CPU缓存\n",
    "            if self.cache_frames and video_path in self.frame_cache:\n",
    "                frames = self.frame_cache[video_path]\n",
    "                self.cache_hits += 1\n",
    "            else:\n",
    "                frames = extract_frames_gpu_accelerated(video_path, self.max_frames, target_size=(224, 224))\n",
    "                self.cache_misses += 1\n",
    "                # 缓存帧数据\n",
    "                if self.cache_frames and len(frames) > 0:\n",
    "                    self.frame_cache[video_path] = frames\n",
    "        \n",
    "        # 确保有足够的帧\n",
    "        if len(frames) == 0:\n",
    "            frames = [np.zeros((224, 224, 3), dtype=np.uint8) for _ in range(self.max_frames)]\n",
    "        \n",
    "        while len(frames) < self.max_frames:\n",
    "            frames.append(frames[-1].copy() if frames else np.zeros((224, 224, 3), dtype=np.uint8))\n",
    "        \n",
    "        frames = frames[:self.max_frames]\n",
    "        \n",
    "        # 统一的数据预处理 - 全部使用FP32\n",
    "        if self.transform:\n",
    "            frames = [self.transform(frame) for frame in frames]\n",
    "            video_tensor = torch.stack(frames)\n",
    "        elif self.gpu_preprocessing:\n",
    "            # GPU预处理：减少CPU-GPU传输次数\n",
    "            frames_array = np.stack(frames)  # (T, H, W, C)\n",
    "            video_tensor = torch.from_numpy(frames_array).permute(0, 3, 1, 2).float()  # (T, C, H, W)\n",
    "            \n",
    "            # 移动到GPU并进行预处理 - 统一使用FP32\n",
    "            video_tensor = video_tensor.to('cuda', non_blocking=True, dtype=torch.float32) / 255.0\n",
    "            \n",
    "            # 标准化\n",
    "            video_tensor = (video_tensor - self.mean.view(1, 3, 1, 1)) / self.std.view(1, 3, 1, 1)\n",
    "        else:\n",
    "            # CPU预处理\n",
    "            frames = [torch.from_numpy(frame).permute(2, 0, 1).float() / 255.0 for frame in frames]\n",
    "            video_tensor = torch.stack(frames)\n",
    "        \n",
    "        # 标签处理 - 统一使用FP32\n",
    "        label_tensor = torch.tensor(label, dtype=torch.float32)\n",
    "        if self.gpu_preprocessing:\n",
    "            label_tensor = label_tensor.to('cuda', non_blocking=True)\n",
    "        \n",
    "        return video_tensor, label_tensor\n",
    "    \n",
    "    def get_cache_stats(self):\n",
    "        \"\"\"获取缓存统计信息\"\"\"\n",
    "        total_requests = self.cache_hits + self.cache_misses\n",
    "        hit_rate = self.cache_hits / total_requests if total_requests > 0 else 0\n",
    "        return {\n",
    "            'cache_hits': self.cache_hits,\n",
    "            'cache_misses': self.cache_misses,\n",
    "            'hit_rate': hit_rate,\n",
    "            'cpu_cache_size': len(self.frame_cache) if self.frame_cache else 0\n",
    "        }\n",
    "\n",
    "print(\"✅ 数据集类定义完成\")"
   ]
  },
  {
   "cell_type": "markdown",
   "id": "c7e31bc3",
   "metadata": {
    "papermill": {
     "duration": 0.005915,
     "end_time": "2025-07-07T00:28:08.490681",
     "exception": false,
     "start_time": "2025-07-07T00:28:08.484766",
     "status": "completed"
    },
    "tags": []
   },
   "source": [
    "# Cell 5: 模型定义"
   ]
  },
  {
   "cell_type": "code",
   "execution_count": 6,
   "id": "76a2505b",
   "metadata": {
    "execution": {
     "iopub.execute_input": "2025-07-07T00:28:08.502853Z",
     "iopub.status.busy": "2025-07-07T00:28:08.502621Z",
     "iopub.status.idle": "2025-07-07T00:28:08.511284Z",
     "shell.execute_reply": "2025-07-07T00:28:08.510502Z"
    },
    "papermill": {
     "duration": 0.016238,
     "end_time": "2025-07-07T00:28:08.512415",
     "exception": false,
     "start_time": "2025-07-07T00:28:08.496177",
     "status": "completed"
    },
    "tags": []
   },
   "outputs": [
    {
     "name": "stdout",
     "output_type": "stream",
     "text": [
      "✅ 模型定义完成\n"
     ]
    }
   ],
   "source": [
    "# Cell 5: 模型定义\n",
    "\n",
    "class OptimizedDeepfakeDetector(nn.Module):\n",
    "    \"\"\"优化的深度伪造检测模型\"\"\"\n",
    "    \n",
    "    def __init__(self, backbone='resnet50', hidden_dim=512, num_layers=2, \n",
    "                 dropout=0.3, use_attention=True):\n",
    "        super(OptimizedDeepfakeDetector, self).__init__()\n",
    "        \n",
    "        self.use_attention = use_attention\n",
    "        \n",
    "        # 特征提取器\n",
    "        if backbone == 'resnet50':\n",
    "            self.backbone = models.resnet50(pretrained=True)\n",
    "            feature_dim = self.backbone.fc.in_features\n",
    "            self.backbone.fc = nn.Identity()\n",
    "        elif backbone == 'resnet18':\n",
    "            self.backbone = models.resnet18(pretrained=True)\n",
    "            feature_dim = self.backbone.fc.in_features\n",
    "            self.backbone.fc = nn.Identity()\n",
    "        else:\n",
    "            raise ValueError(f\"不支持的backbone: {backbone}\")\n",
    "        \n",
    "        # 时序建模\n",
    "        self.lstm = nn.LSTM(\n",
    "            input_size=feature_dim,\n",
    "            hidden_size=hidden_dim,\n",
    "            num_layers=num_layers,\n",
    "            batch_first=True,\n",
    "            dropout=dropout if num_layers > 1 else 0,\n",
    "            bidirectional=True\n",
    "        )\n",
    "        \n",
    "        lstm_output_dim = hidden_dim * 2  # 双向LSTM\n",
    "        \n",
    "        # 注意力机制\n",
    "        if self.use_attention:\n",
    "            self.attention = nn.MultiheadAttention(\n",
    "                embed_dim=lstm_output_dim,\n",
    "                num_heads=8,\n",
    "                dropout=dropout,\n",
    "                batch_first=True\n",
    "            )\n",
    "        \n",
    "        # 分类器 (移除 Sigmoid，因为使用 BCEWithLogitsLoss)\n",
    "        self.classifier = nn.Sequential(\n",
    "            nn.Linear(lstm_output_dim, hidden_dim),\n",
    "            nn.ReLU(),\n",
    "            nn.Dropout(dropout),\n",
    "            nn.Linear(hidden_dim, hidden_dim // 2),\n",
    "            nn.ReLU(),\n",
    "            nn.Dropout(dropout),\n",
    "            nn.Linear(hidden_dim // 2, 1)\n",
    "        )\n",
    "        \n",
    "    def forward(self, x):\n",
    "        # x shape: (batch_size, num_frames, channels, height, width)\n",
    "        batch_size, num_frames = x.shape[:2]\n",
    "        \n",
    "        # 重塑为 (batch_size * num_frames, channels, height, width)\n",
    "        x = x.view(-1, *x.shape[2:])\n",
    "        \n",
    "        # 特征提取\n",
    "        features = self.backbone(x)  # (batch_size * num_frames, feature_dim)\n",
    "        \n",
    "        # 重塑回时序格式\n",
    "        features = features.view(batch_size, num_frames, -1)\n",
    "        \n",
    "        # LSTM处理\n",
    "        lstm_out, _ = self.lstm(features)  # (batch_size, num_frames, hidden_dim*2)\n",
    "        \n",
    "        # 注意力机制\n",
    "        attention_weights = None\n",
    "        if self.use_attention:\n",
    "            attended_out, attention_weights = self.attention(lstm_out, lstm_out, lstm_out)\n",
    "            # 全局平均池化\n",
    "            pooled = attended_out.mean(dim=1)  # (batch_size, hidden_dim*2)\n",
    "        else:\n",
    "            # 简单的全局平均池化\n",
    "            pooled = lstm_out.mean(dim=1)\n",
    "        \n",
    "        # 分类\n",
    "        output = self.classifier(pooled)\n",
    "        \n",
    "        return output.squeeze(-1), attention_weights\n",
    "\n",
    "print(\"✅ 模型定义完成\")"
   ]
  },
  {
   "cell_type": "markdown",
   "id": "1a9c6ae2",
   "metadata": {
    "papermill": {
     "duration": 0.005466,
     "end_time": "2025-07-07T00:28:08.523617",
     "exception": false,
     "start_time": "2025-07-07T00:28:08.518151",
     "status": "completed"
    },
    "tags": []
   },
   "source": [
    "# Cell 6: 损失函数和工具类"
   ]
  },
  {
   "cell_type": "code",
   "execution_count": 7,
   "id": "38c75d8c",
   "metadata": {
    "execution": {
     "iopub.execute_input": "2025-07-07T00:28:08.536120Z",
     "iopub.status.busy": "2025-07-07T00:28:08.535903Z",
     "iopub.status.idle": "2025-07-07T00:28:08.546171Z",
     "shell.execute_reply": "2025-07-07T00:28:08.545446Z"
    },
    "papermill": {
     "duration": 0.017883,
     "end_time": "2025-07-07T00:28:08.547231",
     "exception": false,
     "start_time": "2025-07-07T00:28:08.529348",
     "status": "completed"
    },
    "tags": []
   },
   "outputs": [
    {
     "name": "stdout",
     "output_type": "stream",
     "text": [
      "✅ 损失函数和工具类定义完成\n"
     ]
    }
   ],
   "source": [
    "# Cell 6: 损失函数和工具类\n",
    "\n",
    "class FocalLoss(nn.Module):\n",
    "    \"\"\"焦点损失函数 - 解决类别不平衡问题\"\"\"\n",
    "    \n",
    "    def __init__(self, alpha=1, gamma=2, reduction='mean'):\n",
    "        super(FocalLoss, self).__init__()\n",
    "        self.alpha = alpha\n",
    "        self.gamma = gamma\n",
    "        self.reduction = reduction\n",
    "\n",
    "    def forward(self, inputs, targets):\n",
    "        # 使用 BCEWithLogitsLoss 以兼容 autocast\n",
    "        ce_loss = nn.BCEWithLogitsLoss(reduction='none')(inputs, targets)\n",
    "        # 计算概率用于focal weight\n",
    "        pt = torch.exp(-ce_loss)\n",
    "        focal_loss = self.alpha * (1 - pt) ** self.gamma * ce_loss\n",
    "\n",
    "        if self.reduction == 'mean':\n",
    "            return focal_loss.mean()\n",
    "        elif self.reduction == 'sum':\n",
    "            return focal_loss.sum()\n",
    "        else:\n",
    "            return focal_loss\n",
    "\n",
    "class EarlyStopping:\n",
    "    \"\"\"早停机制\"\"\"\n",
    "    \n",
    "    def __init__(self, patience=7, min_delta=0, restore_best_weights=True):\n",
    "        self.patience = patience\n",
    "        self.min_delta = min_delta\n",
    "        self.restore_best_weights = restore_best_weights\n",
    "        self.best_loss = None\n",
    "        self.counter = 0\n",
    "        self.best_weights = None\n",
    "\n",
    "    def __call__(self, val_loss, model):\n",
    "        if self.best_loss is None:\n",
    "            self.best_loss = val_loss\n",
    "            self.save_checkpoint(model)\n",
    "        elif val_loss < self.best_loss - self.min_delta:\n",
    "            self.best_loss = val_loss\n",
    "            self.counter = 0\n",
    "            self.save_checkpoint(model)\n",
    "        else:\n",
    "            self.counter += 1\n",
    "\n",
    "        if self.counter >= self.patience:\n",
    "            if self.restore_best_weights:\n",
    "                model.load_state_dict(self.best_weights)\n",
    "            return True\n",
    "        return False\n",
    "\n",
    "    def save_checkpoint(self, model):\n",
    "        self.best_weights = model.state_dict().copy()\n",
    "\n",
    "def get_transforms(mode='train', image_size=160):\n",
    "    \"\"\"获取数据变换\"\"\"\n",
    "    if mode == 'train':\n",
    "        return transforms.Compose([\n",
    "            transforms.ToPILImage(),\n",
    "            transforms.Resize((int(image_size * 1.1), int(image_size * 1.1))),\n",
    "            transforms.RandomCrop((image_size, image_size)),\n",
    "            transforms.RandomHorizontalFlip(p=0.5),\n",
    "            transforms.ColorJitter(brightness=0.2, contrast=0.2, saturation=0.2, hue=0.1),\n",
    "            transforms.RandomRotation(degrees=10),\n",
    "            transforms.ToTensor(),\n",
    "            transforms.Normalize(mean=[0.485, 0.456, 0.406], std=[0.229, 0.224, 0.225]),\n",
    "            transforms.RandomErasing(p=0.1, scale=(0.02, 0.1))\n",
    "        ])\n",
    "    else:\n",
    "        return transforms.Compose([\n",
    "            transforms.ToPILImage(),\n",
    "            transforms.Resize((image_size, image_size)),\n",
    "            transforms.ToTensor(),\n",
    "            transforms.Normalize(mean=[0.485, 0.456, 0.406], std=[0.229, 0.224, 0.225])\n",
    "        ])\n",
    "\n",
    "print(\"✅ 损失函数和工具类定义完成\")"
   ]
  },
  {
   "cell_type": "markdown",
   "id": "0cb31b6b",
   "metadata": {
    "papermill": {
     "duration": 0.005379,
     "end_time": "2025-07-07T00:28:08.558344",
     "exception": false,
     "start_time": "2025-07-07T00:28:08.552965",
     "status": "completed"
    },
    "tags": []
   },
   "source": [
    "# Cell 7: 训练和验证函数"
   ]
  },
  {
   "cell_type": "code",
   "execution_count": 8,
   "id": "ce001763",
   "metadata": {
    "execution": {
     "iopub.execute_input": "2025-07-07T00:28:08.571087Z",
     "iopub.status.busy": "2025-07-07T00:28:08.570889Z",
     "iopub.status.idle": "2025-07-07T00:28:08.582398Z",
     "shell.execute_reply": "2025-07-07T00:28:08.581792Z"
    },
    "papermill": {
     "duration": 0.019273,
     "end_time": "2025-07-07T00:28:08.583469",
     "exception": false,
     "start_time": "2025-07-07T00:28:08.564196",
     "status": "completed"
    },
    "tags": []
   },
   "outputs": [
    {
     "name": "stdout",
     "output_type": "stream",
     "text": [
      "✅ 训练和验证函数定义完成\n"
     ]
    }
   ],
   "source": [
    "# Cell 7: 训练和验证函数\n",
    "\n",
    "def train_epoch(model, train_loader, criterion, optimizer, device, scaler=None):\n",
    "    \"\"\"Kaggle T4 GPU优化的训练函数\"\"\"\n",
    "    model.train()\n",
    "    total_loss = 0.0\n",
    "    correct = 0\n",
    "    total = 0\n",
    "    all_preds = []\n",
    "    all_targets = []\n",
    "\n",
    "    pbar = tqdm(train_loader, desc='Training', leave=False)\n",
    "    \n",
    "    for batch_idx, (data, target) in enumerate(pbar):\n",
    "        # 数据传输到GPU\n",
    "        data = data.to(device, non_blocking=True)\n",
    "        target = target.to(device, non_blocking=True)\n",
    "        \n",
    "        # 梯度清零\n",
    "        optimizer.zero_grad(set_to_none=True)\n",
    "\n",
    "        # 前向传播（统一使用FP32）\n",
    "        output, _ = model(data)\n",
    "        loss = criterion(output, target)\n",
    "        \n",
    "        # 反向传播\n",
    "        loss.backward()\n",
    "        torch.nn.utils.clip_grad_norm_(model.parameters(), max_norm=1.0)\n",
    "        optimizer.step()\n",
    "\n",
    "        total_loss += loss.item()\n",
    "        \n",
    "        # 计算准确率\n",
    "        with torch.no_grad():\n",
    "            probs = torch.sigmoid(output)\n",
    "            predicted = (probs > 0.5).float()\n",
    "            total += target.size(0)\n",
    "            correct += (predicted == target).sum().item()\n",
    "\n",
    "            # 收集预测结果\n",
    "            all_preds.extend(probs.detach().cpu().numpy())\n",
    "            all_targets.extend(target.detach().cpu().numpy())\n",
    "\n",
    "        pbar.set_postfix({\n",
    "            'Loss': f'{loss.item():.4f}',\n",
    "            'Acc': f'{100.*correct/total:.2f}%'\n",
    "        })\n",
    "        \n",
    "        # 定期清理GPU缓存\n",
    "        if batch_idx % 50 == 0 and torch.cuda.is_available():\n",
    "            torch.cuda.empty_cache()\n",
    "\n",
    "    avg_loss = total_loss / len(train_loader)\n",
    "    accuracy = 100. * correct / total\n",
    "\n",
    "    try:\n",
    "        auc_score = roc_auc_score(all_targets, all_preds)\n",
    "    except:\n",
    "        auc_score = 0.0\n",
    "\n",
    "    return avg_loss, accuracy, auc_score\n",
    "\n",
    "def validate_epoch(model, val_loader, criterion, device, scaler=None):\n",
    "    \"\"\"Kaggle T4 GPU优化的验证函数\"\"\"\n",
    "    model.eval()\n",
    "    total_loss = 0.0\n",
    "    correct = 0\n",
    "    total = 0\n",
    "    all_preds = []\n",
    "    all_targets = []\n",
    "\n",
    "    with torch.no_grad():\n",
    "        pbar = tqdm(val_loader, desc='Validation', leave=False)\n",
    "\n",
    "        for batch_idx, (data, target) in enumerate(pbar):\n",
    "            # 数据传输到GPU\n",
    "            data = data.to(device, non_blocking=True)\n",
    "            target = target.to(device, non_blocking=True)\n",
    "            \n",
    "            # 前向传播（统一使用FP32）\n",
    "            output, _ = model(data)\n",
    "            loss = criterion(output, target)\n",
    "\n",
    "            total_loss += loss.item()\n",
    "            \n",
    "            # 计算准确率\n",
    "            probs = torch.sigmoid(output)\n",
    "            predicted = (probs > 0.5).float()\n",
    "            total += target.size(0)\n",
    "            correct += (predicted == target).sum().item()\n",
    "\n",
    "            # 收集预测结果\n",
    "            all_preds.extend(probs.cpu().numpy())\n",
    "            all_targets.extend(target.cpu().numpy())\n",
    "\n",
    "            pbar.set_postfix({\n",
    "                'Loss': f'{loss.item():.4f}',\n",
    "                'Acc': f'{100.*correct/total:.2f}%'\n",
    "            })\n",
    "            \n",
    "            # 定期清理GPU缓存\n",
    "            if batch_idx % 50 == 0 and torch.cuda.is_available():\n",
    "                torch.cuda.empty_cache()\n",
    "\n",
    "    avg_loss = total_loss / len(val_loader)\n",
    "    accuracy = 100. * correct / total\n",
    "\n",
    "    try:\n",
    "        auc_score = roc_auc_score(all_targets, all_preds)\n",
    "    except:\n",
    "        auc_score = 0.0\n",
    "\n",
    "    return avg_loss, accuracy, auc_score\n",
    "\n",
    "print(\"✅ 训练和验证函数定义完成\")"
   ]
  },
  {
   "cell_type": "markdown",
   "id": "9d02f7bc",
   "metadata": {
    "papermill": {
     "duration": 0.005417,
     "end_time": "2025-07-07T00:28:08.594418",
     "exception": false,
     "start_time": "2025-07-07T00:28:08.589001",
     "status": "completed"
    },
    "tags": []
   },
   "source": [
    "# Cell 8: 评估函数和可视化"
   ]
  },
  {
   "cell_type": "code",
   "execution_count": 9,
   "id": "db8aba74",
   "metadata": {
    "execution": {
     "iopub.execute_input": "2025-07-07T00:28:08.606471Z",
     "iopub.status.busy": "2025-07-07T00:28:08.606288Z",
     "iopub.status.idle": "2025-07-07T00:28:08.624593Z",
     "shell.execute_reply": "2025-07-07T00:28:08.623846Z"
    },
    "papermill": {
     "duration": 0.025472,
     "end_time": "2025-07-07T00:28:08.625653",
     "exception": false,
     "start_time": "2025-07-07T00:28:08.600181",
     "status": "completed"
    },
    "tags": []
   },
   "outputs": [
    {
     "name": "stdout",
     "output_type": "stream",
     "text": [
      "✅ 评估函数和可视化定义完成\n"
     ]
    }
   ],
   "source": [
    "# Cell 8: 评估函数和可视化\n",
    "\n",
    "def evaluate_model_optimized(model, test_loader, criterion, device):\n",
    "    \"\"\"优化的模型评估函数\"\"\"\n",
    "    model.eval()\n",
    "    total_loss = 0.0\n",
    "    all_predictions = []\n",
    "    all_targets = []\n",
    "    all_scores = []\n",
    "    \n",
    "    inference_times = []\n",
    "    \n",
    "    print(\"🚀 开始模型评估...\")\n",
    "    \n",
    "    with torch.no_grad():\n",
    "        for batch_idx, (data, target) in enumerate(tqdm(test_loader, desc=\"评估进度\")):\n",
    "            data, target = data.to(device), target.to(device)\n",
    "            \n",
    "            # 记录推理时间\n",
    "            start_time = time.time()\n",
    "            output, attention_weights = model(data)\n",
    "            inference_time = time.time() - start_time\n",
    "            inference_times.append(inference_time)\n",
    "            \n",
    "            # 计算损失\n",
    "            loss = criterion(output, target)\n",
    "            total_loss += loss.item()\n",
    "            \n",
    "            # 收集预测结果 (应用 sigmoid 获得概率)\n",
    "            probs = torch.sigmoid(output)\n",
    "            predictions = (probs > 0.5).float()\n",
    "            all_predictions.extend(predictions.cpu().numpy())\n",
    "            all_targets.extend(target.cpu().numpy())\n",
    "            all_scores.extend(probs.cpu().numpy())\n",
    "    \n",
    "    avg_loss = total_loss / len(test_loader)\n",
    "    avg_inference_time = np.mean(inference_times)\n",
    "    total_inference_time = np.sum(inference_times)\n",
    "    \n",
    "    print(f\"✅ 评估完成\")\n",
    "    print(f\"平均损失: {avg_loss:.4f}\")\n",
    "    print(f\"平均推理时间: {avg_inference_time*1000:.2f} ms/batch\")\n",
    "    \n",
    "    return {\n",
    "        'loss': avg_loss,\n",
    "        'predictions': np.array(all_predictions),\n",
    "        'targets': np.array(all_targets),\n",
    "        'scores': np.array(all_scores),\n",
    "        'avg_inference_time': avg_inference_time,\n",
    "        'total_inference_time': total_inference_time\n",
    "    }\n",
    "\n",
    "def calculate_comprehensive_metrics(predictions, targets, scores):\n",
    "    \"\"\"计算全面的评估指标\"\"\"\n",
    "    # 基础指标\n",
    "    accuracy = accuracy_score(targets, predictions)\n",
    "    balanced_acc = balanced_accuracy_score(targets, predictions)\n",
    "    precision = precision_score(targets, predictions, zero_division=0)\n",
    "    recall = recall_score(targets, predictions, zero_division=0)\n",
    "    f1 = f1_score(targets, predictions, zero_division=0)\n",
    "    \n",
    "    # 混淆矩阵\n",
    "    cm = confusion_matrix(targets, predictions)\n",
    "    tn, fp, fn, tp = cm.ravel() if cm.size == 4 else (0, 0, 0, 0)\n",
    "    \n",
    "    # 特异性和负预测值\n",
    "    specificity = tn / (tn + fp) if (tn + fp) > 0 else 0\n",
    "    npv = tn / (tn + fn) if (tn + fn) > 0 else 0\n",
    "    \n",
    "    # AUC指标\n",
    "    try:\n",
    "        auc_roc = roc_auc_score(targets, scores)\n",
    "    except:\n",
    "        auc_roc = 0.0\n",
    "    \n",
    "    try:\n",
    "        precision_curve, recall_curve, _ = precision_recall_curve(targets, scores)\n",
    "        auc_pr = auc(recall_curve, precision_curve)\n",
    "    except:\n",
    "        auc_pr = 0.0\n",
    "    \n",
    "    return {\n",
    "        'accuracy': accuracy,\n",
    "        'balanced_accuracy': balanced_acc,\n",
    "        'precision': precision,\n",
    "        'recall': recall,\n",
    "        'specificity': specificity,\n",
    "        'f1': f1,\n",
    "        'auc_roc': auc_roc,\n",
    "        'auc_pr': auc_pr,\n",
    "        'npv': npv,\n",
    "        'confusion_matrix': cm,\n",
    "        'tn': tn, 'fp': fp, 'fn': fn, 'tp': tp\n",
    "    }\n",
    "\n",
    "def plot_enhanced_confusion_matrix(cm, save_path):\n",
    "    \"\"\"绘制增强的混淆矩阵\"\"\"\n",
    "    plt.figure(figsize=(10, 8))\n",
    "    \n",
    "    # 计算百分比\n",
    "    cm_percent = cm.astype('float') / cm.sum(axis=1)[:, np.newaxis] * 100\n",
    "    \n",
    "    # 创建标签\n",
    "    labels = np.array([[\n",
    "        f'{cm[i,j]}\\n({cm_percent[i,j]:.1f}%)' \n",
    "        for j in range(cm.shape[1])\n",
    "    ] for i in range(cm.shape[0])])\n",
    "    \n",
    "    # 绘制热图\n",
    "    sns.heatmap(cm, annot=labels, fmt='', cmap='Blues', \n",
    "                xticklabels=['真实', '伪造'],\n",
    "                yticklabels=['真实', '伪造'],\n",
    "                cbar_kws={'label': '样本数量'})\n",
    "    \n",
    "    plt.title('增强混淆矩阵', fontsize=16, fontweight='bold')\n",
    "    plt.xlabel('预测标签', fontsize=12)\n",
    "    plt.ylabel('真实标签', fontsize=12)\n",
    "    \n",
    "    # 添加统计信息\n",
    "    tn, fp, fn, tp = cm.ravel()\n",
    "    accuracy = (tp + tn) / (tp + tn + fp + fn)\n",
    "    precision = tp / (tp + fp) if (tp + fp) > 0 else 0\n",
    "    recall = tp / (tp + fn) if (tp + fn) > 0 else 0\n",
    "    f1 = 2 * (precision * recall) / (precision + recall) if (precision + recall) > 0 else 0\n",
    "    \n",
    "    stats_text = f'准确率: {accuracy:.3f}\\n精确率: {precision:.3f}\\n召回率: {recall:.3f}\\nF1分数: {f1:.3f}'\n",
    "    plt.text(2.1, 0.5, stats_text, fontsize=10, \n",
    "             bbox=dict(boxstyle='round', facecolor='lightgray', alpha=0.8))\n",
    "    \n",
    "    plt.tight_layout()\n",
    "    plt.savefig(save_path, dpi=300, bbox_inches='tight')\n",
    "    plt.show()\n",
    "    print(f\"混淆矩阵已保存到: {save_path}\")\n",
    "\n",
    "def plot_roc_pr_curves(targets, scores, save_path):\n",
    "    \"\"\"绘制ROC和PR曲线\"\"\"\n",
    "    fig, (ax1, ax2) = plt.subplots(1, 2, figsize=(15, 6))\n",
    "    \n",
    "    # ROC曲线\n",
    "    fpr, tpr, _ = roc_curve(targets, scores)\n",
    "    roc_auc = auc(fpr, tpr)\n",
    "    \n",
    "    ax1.plot(fpr, tpr, color='darkorange', lw=2,\n",
    "             label=f'ROC曲线 (AUC = {roc_auc:.4f})')\n",
    "    ax1.plot([0, 1], [0, 1], color='navy', lw=2, linestyle='--')\n",
    "    ax1.set_xlim([0.0, 1.0])\n",
    "    ax1.set_ylim([0.0, 1.05])\n",
    "    ax1.set_xlabel('假正率')\n",
    "    ax1.set_ylabel('真正率')\n",
    "    ax1.set_title('ROC曲线')\n",
    "    ax1.legend(loc='lower right')\n",
    "    ax1.grid(True, alpha=0.3)\n",
    "    \n",
    "    # PR曲线\n",
    "    precision_curve, recall_curve, _ = precision_recall_curve(targets, scores)\n",
    "    pr_auc = auc(recall_curve, precision_curve)\n",
    "    \n",
    "    ax2.plot(recall_curve, precision_curve, color='darkgreen', lw=2,\n",
    "             label=f'PR曲线 (AUC = {pr_auc:.4f})')\n",
    "    ax2.set_xlim([0.0, 1.0])\n",
    "    ax2.set_ylim([0.0, 1.05])\n",
    "    ax2.set_xlabel('召回率')\n",
    "    ax2.set_ylabel('精确率')\n",
    "    ax2.set_title('精确率-召回率曲线')\n",
    "    ax2.legend(loc='lower left')\n",
    "    ax2.grid(True, alpha=0.3)\n",
    "    \n",
    "    plt.tight_layout()\n",
    "    plt.savefig(save_path, dpi=300, bbox_inches='tight')\n",
    "    plt.show()\n",
    "    print(f\"ROC/PR曲线已保存到: {save_path}\")\n",
    "\n",
    "print(\"✅ 评估函数和可视化定义完成\")"
   ]
  },
  {
   "cell_type": "markdown",
   "id": "3060af92",
   "metadata": {
    "papermill": {
     "duration": 0.005457,
     "end_time": "2025-07-07T00:28:08.636836",
     "exception": false,
     "start_time": "2025-07-07T00:28:08.631379",
     "status": "completed"
    },
    "tags": []
   },
   "source": [
    "# Cell 9: 数据处理和准备\n"
   ]
  },
  {
   "cell_type": "code",
   "execution_count": 10,
   "id": "68fd22da",
   "metadata": {
    "execution": {
     "iopub.execute_input": "2025-07-07T00:28:08.648968Z",
     "iopub.status.busy": "2025-07-07T00:28:08.648697Z",
     "iopub.status.idle": "2025-07-07T01:26:50.352555Z",
     "shell.execute_reply": "2025-07-07T01:26:50.351276Z"
    },
    "papermill": {
     "duration": 3521.711464,
     "end_time": "2025-07-07T01:26:50.354211",
     "exception": false,
     "start_time": "2025-07-07T00:28:08.642747",
     "status": "completed"
    },
    "tags": []
   },
   "outputs": [
    {
     "name": "stdout",
     "output_type": "stream",
     "text": [
      "📁 开始数据处理...\n",
      "开始处理真实视频...\n",
      "找到 120 个真实视频\n"
     ]
    },
    {
     "name": "stderr",
     "output_type": "stream",
     "text": [
      "处理真实视频: 100%|██████████| 120/120 [10:18<00:00,  5.16s/it]\n"
     ]
    },
    {
     "name": "stdout",
     "output_type": "stream",
     "text": [
      "开始处理伪造视频...\n",
      "处理 Deepfakes: 120 个视频\n"
     ]
    },
    {
     "name": "stderr",
     "output_type": "stream",
     "text": [
      "处理Deepfakes: 100%|██████████| 120/120 [10:28<00:00,  5.24s/it]\n"
     ]
    },
    {
     "name": "stdout",
     "output_type": "stream",
     "text": [
      "处理 Face2Face: 120 个视频\n"
     ]
    },
    {
     "name": "stderr",
     "output_type": "stream",
     "text": [
      "处理Face2Face: 100%|██████████| 120/120 [09:29<00:00,  4.74s/it]\n"
     ]
    },
    {
     "name": "stdout",
     "output_type": "stream",
     "text": [
      "处理 FaceShifter: 120 个视频\n"
     ]
    },
    {
     "name": "stderr",
     "output_type": "stream",
     "text": [
      "处理FaceShifter: 100%|██████████| 120/120 [11:29<00:00,  5.75s/it]\n"
     ]
    },
    {
     "name": "stdout",
     "output_type": "stream",
     "text": [
      "处理 FaceSwap: 120 个视频\n"
     ]
    },
    {
     "name": "stderr",
     "output_type": "stream",
     "text": [
      "处理FaceSwap: 100%|██████████| 120/120 [09:04<00:00,  4.54s/it]\n"
     ]
    },
    {
     "name": "stdout",
     "output_type": "stream",
     "text": [
      "处理 NeuralTextures: 120 个视频\n"
     ]
    },
    {
     "name": "stderr",
     "output_type": "stream",
     "text": [
      "处理NeuralTextures: 100%|██████████| 120/120 [07:51<00:00,  3.93s/it]"
     ]
    },
    {
     "name": "stdout",
     "output_type": "stream",
     "text": [
      "\n",
      "✅ 数据处理完成，共处理 720 个视频\n",
      "真实视频: 120 个\n",
      "伪造视频: 600 个\n",
      "数据集已保存到: ./data/train.csv\n",
      "数据集已保存到: ./data/val.csv\n",
      "数据集已保存到: ./data/test.csv\n",
      "训练集: 502 个样本\n",
      "验证集: 72 个样本\n",
      "测试集: 146 个样本\n",
      "✅ 数据准备完成\n"
     ]
    },
    {
     "name": "stderr",
     "output_type": "stream",
     "text": [
      "\n"
     ]
    }
   ],
   "source": [
    "# Cell 9: 数据处理和准备\n",
    "\n",
    "# 如果需要处理数据（首次运行）\n",
    "if not os.path.exists('./data/train.csv'):\n",
    "    print(\"📁 开始数据处理...\")\n",
    "    data_list = process_videos_simple(BASE_DATA_DIR, max_videos_per_class=120, max_frames=16)\n",
    "    \n",
    "    if len(data_list) == 0:\n",
    "        print(\"❌ 未找到数据，请检查数据路径\")\n",
    "        raise ValueError(\"数据路径错误或数据不存在\")\n",
    "    \n",
    "    train_data, val_data, test_data = create_dataset_split(data_list)\n",
    "    \n",
    "    # 保存数据集\n",
    "    save_dataset_to_csv(train_data, './data/train.csv')\n",
    "    save_dataset_to_csv(val_data, './data/val.csv')\n",
    "    save_dataset_to_csv(test_data, './data/test.csv')\n",
    "    \n",
    "    print(f\"训练集: {len(train_data)} 个样本\")\n",
    "    print(f\"验证集: {len(val_data)} 个样本\")\n",
    "    print(f\"测试集: {len(test_data)} 个样本\")\n",
    "else:\n",
    "    print(\"📊 数据集已存在，跳过数据处理步骤\")\n",
    "    # 读取现有数据集信息\n",
    "    train_df = pd.read_csv('./data/train.csv')\n",
    "    val_df = pd.read_csv('./data/val.csv')\n",
    "    test_df = pd.read_csv('./data/test.csv')\n",
    "    \n",
    "    print(f\"训练集: {len(train_df)} 个样本\")\n",
    "    print(f\"验证集: {len(val_df)} 个样本\")\n",
    "    print(f\"测试集: {len(test_df)} 个样本\")\n",
    "    \n",
    "    # 显示数据分布\n",
    "    print(\"\\n数据分布:\")\n",
    "    print(\"训练集标签分布:\")\n",
    "    print(train_df['label'].value_counts())\n",
    "    print(\"\\n验证集标签分布:\")\n",
    "    print(val_df['label'].value_counts())\n",
    "    print(\"\\n测试集标签分布:\")\n",
    "    print(test_df['label'].value_counts())\n",
    "\n",
    "print(\"✅ 数据准备完成\")"
   ]
  },
  {
   "cell_type": "markdown",
   "id": "df644fce",
   "metadata": {
    "papermill": {
     "duration": 0.034855,
     "end_time": "2025-07-07T01:26:50.429954",
     "exception": false,
     "start_time": "2025-07-07T01:26:50.395099",
     "status": "completed"
    },
    "tags": []
   },
   "source": [
    "# Cell 10: 创建数据加载器\n"
   ]
  },
  {
   "cell_type": "code",
   "execution_count": 11,
   "id": "413bf8e3",
   "metadata": {
    "execution": {
     "iopub.execute_input": "2025-07-07T01:26:50.502672Z",
     "iopub.status.busy": "2025-07-07T01:26:50.502402Z",
     "iopub.status.idle": "2025-07-07T01:26:50.540279Z",
     "shell.execute_reply": "2025-07-07T01:26:50.539422Z"
    },
    "papermill": {
     "duration": 0.076124,
     "end_time": "2025-07-07T01:26:50.541647",
     "exception": false,
     "start_time": "2025-07-07T01:26:50.465523",
     "status": "completed"
    },
    "tags": []
   },
   "outputs": [
    {
     "name": "stdout",
     "output_type": "stream",
     "text": [
      "📊 创建数据加载器...\n",
      "🔧 创建数据集（Kaggle T4优化配置）...\n",
      "📊 数据类型: FP32 (兼容性优先)\n",
      "🚀 数据集初始化: GPU预处理=启用, 缓存=禁用, 数据类型=FP32\n",
      "🚀 数据集初始化: GPU预处理=启用, 缓存=禁用, 数据类型=FP32\n",
      "🚀 数据集初始化: GPU预处理=启用, 缓存=禁用, 数据类型=FP32\n",
      "✅ 数据集创建完成，已优化Kaggle T4环境配置\n",
      "GPU内存: 14.7 GB\n",
      "使用批次大小: 6 (Kaggle T4优化，稳定性优先)\n",
      "📝 Kaggle环境：使用单进程模式\n",
      "数据加载配置: 0 workers, 预取因子: None\n",
      "\n",
      "📊 数据加载器统计:\n",
      "训练批次数: 83 (批次大小: 6)\n",
      "验证批次数: 12\n",
      "测试批次数: 25\n",
      "数据加载worker数: 0\n",
      "✅ 数据加载器创建完成\n"
     ]
    }
   ],
   "source": [
    "# Cell 10: 创建数据加载器 - Kaggle T4 优化版本\n",
    "\n",
    "print(\"📊 创建数据加载器...\")\n",
    "\n",
    "# 简化数据变换 - 使用GPU预处理替代CPU变换\n",
    "train_transform = None\n",
    "val_transform = None\n",
    "\n",
    "print(f\"🔧 创建数据集（Kaggle T4优化配置）...\")\n",
    "print(f\"📊 数据类型: FP32 (兼容性优先)\")\n",
    "\n",
    "train_dataset = DeepfakeVideoDataset(\n",
    "    csv_file='./data/train.csv',\n",
    "    transform=train_transform,\n",
    "    max_frames=16,\n",
    "    gpu_preprocessing=True,    # 启用GPU预处理\n",
    "    cache_frames=False        # 禁用缓存以节省内存\n",
    ")\n",
    "\n",
    "val_dataset = DeepfakeVideoDataset(\n",
    "    csv_file='./data/val.csv',\n",
    "    transform=val_transform,\n",
    "    max_frames=16,\n",
    "    gpu_preprocessing=True,    # 启用GPU预处理\n",
    "    cache_frames=False        # 禁用缓存以节省内存\n",
    ")\n",
    "\n",
    "test_dataset = DeepfakeVideoDataset(\n",
    "    csv_file='./data/test.csv',\n",
    "    transform=val_transform,\n",
    "    max_frames=16,\n",
    "    gpu_preprocessing=True,    # 启用GPU预处理\n",
    "    cache_frames=False        # 禁用缓存以节省内存\n",
    ")\n",
    "print(\"✅ 数据集创建完成，已优化Kaggle T4环境配置\")\n",
    "\n",
    "# Kaggle T4 GPU批次大小优化\n",
    "if torch.cuda.is_available():\n",
    "    gpu_memory = torch.cuda.get_device_properties(0).total_memory / 1024**3\n",
    "    print(f\"GPU内存: {gpu_memory:.1f} GB\")\n",
    "    \n",
    "    # 保守的批次大小设置 - 确保稳定性和兼容性\n",
    "    if gpu_memory >= 15:  # T4 GPU\n",
    "        batch_size = 8  # 保守设置，确保稳定\n",
    "    elif gpu_memory >= 8:\n",
    "        batch_size = 6\n",
    "    else:\n",
    "        batch_size = 4\n",
    "else:\n",
    "    batch_size = 4\n",
    "\n",
    "print(f\"使用批次大小: {batch_size} (Kaggle T4优化，稳定性优先)\")\n",
    "\n",
    "# Kaggle环境多进程配置 - 简化版本\n",
    "if IS_KAGGLE:\n",
    "    # Kaggle环境：使用单进程避免序列化问题\n",
    "    num_workers = 0\n",
    "    prefetch_factor = None\n",
    "    persistent_workers = False\n",
    "    print(\"📝 Kaggle环境：使用单进程模式\")\n",
    "else:\n",
    "    # 本地环境：使用少量worker\n",
    "    num_workers = 2\n",
    "    prefetch_factor = 2\n",
    "    persistent_workers = False\n",
    "    print(f\"🔥 本地环境：使用 {num_workers} workers\")\n",
    "\n",
    "print(f\"数据加载配置: {num_workers} workers, 预取因子: {prefetch_factor}\")\n",
    "\n",
    "# 创建数据加载器 - Kaggle T4优化版本\n",
    "train_loader = DataLoader(\n",
    "    train_dataset, \n",
    "    batch_size=batch_size, \n",
    "    shuffle=True, \n",
    "    num_workers=num_workers,\n",
    "    pin_memory=False,  # GPU预处理，无需pin_memory\n",
    "    drop_last=True,\n",
    "    prefetch_factor=prefetch_factor if num_workers > 0 else None,\n",
    "    persistent_workers=persistent_workers if num_workers > 0 else False\n",
    ")\n",
    "\n",
    "val_loader = DataLoader(\n",
    "    val_dataset, \n",
    "    batch_size=batch_size, \n",
    "    shuffle=False, \n",
    "    num_workers=num_workers,\n",
    "    pin_memory=False,\n",
    "    prefetch_factor=prefetch_factor if num_workers > 0 else None,\n",
    "    persistent_workers=persistent_workers if num_workers > 0 else False\n",
    ")\n",
    "\n",
    "test_loader = DataLoader(\n",
    "    test_dataset, \n",
    "    batch_size=batch_size, \n",
    "    shuffle=False, \n",
    "    num_workers=num_workers,\n",
    "    pin_memory=False,\n",
    "    prefetch_factor=prefetch_factor if num_workers > 0 else None,\n",
    "    persistent_workers=persistent_workers if num_workers > 0 else False\n",
    ")\n",
    "\n",
    "print(f\"\\n📊 数据加载器统计:\")\n",
    "print(f\"训练批次数: {len(train_loader)} (批次大小: {batch_size})\")\n",
    "print(f\"验证批次数: {len(val_loader)}\")\n",
    "print(f\"测试批次数: {len(test_loader)}\")\n",
    "print(f\"数据加载worker数: {num_workers}\")\n",
    "print(\"✅ 数据加载器创建完成\")"
   ]
  },
  {
   "cell_type": "markdown",
   "id": "0ee66262",
   "metadata": {
    "papermill": {
     "duration": 0.038051,
     "end_time": "2025-07-07T01:26:50.619112",
     "exception": false,
     "start_time": "2025-07-07T01:26:50.581061",
     "status": "completed"
    },
    "tags": []
   },
   "source": [
    "# Cell 11: 模型初始化和训练配置\n"
   ]
  },
  {
   "cell_type": "code",
   "execution_count": 12,
   "id": "3f08f041",
   "metadata": {
    "execution": {
     "iopub.execute_input": "2025-07-07T01:26:50.696866Z",
     "iopub.status.busy": "2025-07-07T01:26:50.696258Z",
     "iopub.status.idle": "2025-07-07T01:27:18.704089Z",
     "shell.execute_reply": "2025-07-07T01:27:18.703112Z"
    },
    "papermill": {
     "duration": 28.047957,
     "end_time": "2025-07-07T01:27:18.705805",
     "exception": false,
     "start_time": "2025-07-07T01:26:50.657848",
     "status": "completed"
    },
    "tags": []
   },
   "outputs": [
    {
     "name": "stdout",
     "output_type": "stream",
     "text": [
      "🤖 创建和配置模型...\n"
     ]
    },
    {
     "name": "stderr",
     "output_type": "stream",
     "text": [
      "Downloading: \"https://download.pytorch.org/models/resnet50-0676ba61.pth\" to /root/.cache/torch/hub/checkpoints/resnet50-0676ba61.pth\n",
      "100%|██████████| 97.8M/97.8M [00:00<00:00, 175MB/s]\n"
     ]
    },
    {
     "name": "stdout",
     "output_type": "stream",
     "text": [
      "使用单GPU训练\n",
      "模型总参数数量: 45,156,417\n",
      "可训练参数数量: 45,156,417\n",
      "模型大小估计: 172.3 MB\n",
      "损失函数: FocalLoss\n",
      "优化器: AdamW (lr=0.001)\n",
      "学习率调度器: OneCycleLR\n",
      "早停机制: patience=7, min_delta=0.001\n",
      "数据类型: FP32 (确保兼容性)\n",
      "训练轮数: 20\n",
      "\n",
      "🔍 测试模型前向传播...\n",
      "输入形状: torch.Size([6, 16, 3, 224, 224])\n",
      "输入数据类型: torch.float32\n",
      "输出形状: torch.Size([6])\n",
      "损失值: 0.0431\n",
      "概率范围: [0.501, 0.502]\n",
      "✅ 模型前向传播测试成功\n",
      "✅ 模型配置完成，准备开始训练\n"
     ]
    }
   ],
   "source": [
    "# Cell 11: 模型初始化和训练配置 - Kaggle T4 GPU优化版本\n",
    "\n",
    "print(\"🤖 创建和配置模型...\")\n",
    "\n",
    "# 创建模型 - 针对Kaggle T4 GPU优化\n",
    "model = OptimizedDeepfakeDetector(\n",
    "    backbone='resnet50',\n",
    "    hidden_dim=512,      # 适中的隐藏层维度\n",
    "    num_layers=2,        # 减少LSTM层数\n",
    "    dropout=0.3,         # 适中的dropout\n",
    "    use_attention=True\n",
    ").to(device)\n",
    "\n",
    "# 单GPU配置\n",
    "if torch.cuda.is_available():\n",
    "    torch.cuda.set_per_process_memory_fraction(0.9)\n",
    "    print(\"使用单GPU训练\")\n",
    "\n",
    "# 计算模型参数数量\n",
    "total_params = sum(p.numel() for p in model.parameters())\n",
    "trainable_params = sum(p.numel() for p in model.parameters() if p.requires_grad)\n",
    "\n",
    "print(f\"模型总参数数量: {total_params:,}\")\n",
    "print(f\"可训练参数数量: {trainable_params:,}\")\n",
    "print(f\"模型大小估计: {total_params * 4 / 1024**2:.1f} MB\")\n",
    "\n",
    "# 损失函数\n",
    "criterion = FocalLoss(alpha=0.25, gamma=2.0)\n",
    "print(f\"损失函数: FocalLoss\")\n",
    "\n",
    "# 优化器\n",
    "base_lr = 0.001\n",
    "optimizer = optim.AdamW(\n",
    "    model.parameters(), \n",
    "    lr=base_lr,\n",
    "    weight_decay=0.01\n",
    ")\n",
    "print(f\"优化器: AdamW (lr={base_lr})\")\n",
    "\n",
    "# 学习率调度器\n",
    "scheduler = torch.optim.lr_scheduler.OneCycleLR(\n",
    "    optimizer,\n",
    "    max_lr=base_lr * 5,\n",
    "    epochs=20,\n",
    "    steps_per_epoch=len(train_loader),\n",
    "    pct_start=0.3,\n",
    "    anneal_strategy='cos'\n",
    ")\n",
    "print(f\"学习率调度器: OneCycleLR\")\n",
    "\n",
    "# 早停机制\n",
    "early_stopping = EarlyStopping(patience=7, min_delta=0.001)\n",
    "print(f\"早停机制: patience=7, min_delta=0.001\")\n",
    "\n",
    "# 训练配置 - 统一使用FP32数据类型\n",
    "scaler = None\n",
    "print(\"数据类型: FP32 (确保兼容性)\")\n",
    "\n",
    "num_epochs = 20\n",
    "print(f\"训练轮数: {num_epochs}\")\n",
    "\n",
    "# 测试模型前向传播\n",
    "print(\"\\n🔍 测试模型前向传播...\")\n",
    "try:\n",
    "    model.eval()\n",
    "    with torch.no_grad():\n",
    "        sample_batch = next(iter(train_loader))\n",
    "        videos, labels = sample_batch\n",
    "        videos, labels = videos.to(device), labels.to(device)\n",
    "        \n",
    "        # 前向传播（统一使用FP32）\n",
    "        outputs, attention_weights = model(videos)\n",
    "        loss = criterion(outputs, labels)\n",
    "        \n",
    "        print(f\"输入形状: {videos.shape}\")\n",
    "        print(f\"输入数据类型: {videos.dtype}\")\n",
    "        print(f\"输出形状: {outputs.shape}\")\n",
    "        print(f\"损失值: {loss.item():.4f}\")\n",
    "        \n",
    "        # 显示概率范围\n",
    "        probs = torch.sigmoid(outputs)\n",
    "        print(f\"概率范围: [{probs.min():.3f}, {probs.max():.3f}]\")\n",
    "        \n",
    "        print(\"✅ 模型前向传播测试成功\")\n",
    "except Exception as e:\n",
    "    print(f\"❌ 模型前向传播测试失败: {e}\")\n",
    "    raise e\n",
    "\n",
    "print(\"✅ 模型配置完成，准备开始训练\")"
   ]
  },
  {
   "cell_type": "markdown",
   "id": "6f38e579",
   "metadata": {
    "papermill": {
     "duration": 0.039168,
     "end_time": "2025-07-07T01:27:18.785041",
     "exception": false,
     "start_time": "2025-07-07T01:27:18.745873",
     "status": "completed"
    },
    "tags": []
   },
   "source": [
    "# Cell 12: 模型训练主循环\n"
   ]
  },
  {
   "cell_type": "code",
   "execution_count": 13,
   "id": "a15e2baa",
   "metadata": {
    "execution": {
     "iopub.execute_input": "2025-07-07T01:27:18.864863Z",
     "iopub.status.busy": "2025-07-07T01:27:18.864554Z",
     "iopub.status.idle": "2025-07-07T11:18:27.342578Z",
     "shell.execute_reply": "2025-07-07T11:18:27.341836Z"
    },
    "papermill": {
     "duration": 35468.65722,
     "end_time": "2025-07-07T11:18:27.481320",
     "exception": false,
     "start_time": "2025-07-07T01:27:18.824100",
     "status": "completed"
    },
    "tags": []
   },
   "outputs": [
    {
     "name": "stdout",
     "output_type": "stream",
     "text": [
      "🚀 开始训练...\n",
      "📊 训练配置: 83 个训练批次, 12 个验证批次\n",
      "🎯 模型参数数量: 45,156,417\n",
      "💾 设备: cuda\n",
      "📦 批次大小: 6\n",
      "🎮 GPU: Tesla T4\n",
      "\n",
      "🔄 开始训练循环...\n",
      "\n",
      "Epoch 1/20\n"
     ]
    },
    {
     "name": "stderr",
     "output_type": "stream",
     "text": [
      "Training:  22%|██▏       | 18/83 [09:27<31:05, 28.70s/it, Loss=0.0182, Acc=81.48%]"
     ]
    },
    {
     "name": "stdout",
     "output_type": "stream",
     "text": [
      "GPU帧提取失败，回退到CPU: CUDA out of memory. Tried to allocate 3.87 GiB. GPU 0 has a total capacity of 14.74 GiB of which 2.76 GiB is free. Process 3714 has 11.98 GiB memory in use. 13.27 GiB allowed; Of the allocated memory 851.05 MiB is allocated by PyTorch, and 11.01 GiB is reserved by PyTorch but unallocated. If reserved but unallocated memory is large try setting PYTORCH_CUDA_ALLOC_CONF=expandable_segments:True to avoid fragmentation.  See documentation for Memory Management  (https://pytorch.org/docs/stable/notes/cuda.html#environment-variables)\n"
     ]
    },
    {
     "name": "stderr",
     "output_type": "stream",
     "text": [
      "Training:  49%|████▉     | 41/83 [20:54<20:08, 28.77s/it, Loss=0.0292, Acc=81.71%]"
     ]
    },
    {
     "name": "stdout",
     "output_type": "stream",
     "text": [
      "GPU帧提取失败，回退到CPU: CUDA out of memory. Tried to allocate 3.64 GiB. GPU 0 has a total capacity of 14.74 GiB of which 2.86 GiB is free. Process 3714 has 11.88 GiB memory in use. 13.27 GiB allowed; Of the allocated memory 851.05 MiB is allocated by PyTorch, and 10.91 GiB is reserved by PyTorch but unallocated. If reserved but unallocated memory is large try setting PYTORCH_CUDA_ALLOC_CONF=expandable_segments:True to avoid fragmentation.  See documentation for Memory Management  (https://pytorch.org/docs/stable/notes/cuda.html#environment-variables)\n"
     ]
    },
    {
     "name": "stderr",
     "output_type": "stream",
     "text": [
      "                                                                                    \r"
     ]
    },
    {
     "name": "stdout",
     "output_type": "stream",
     "text": [
      "训练: Loss=0.0326, Acc=83.53%, AUC=0.4966\n",
      "验证: Loss=0.0306, Acc=83.33%, AUC=0.3667\n",
      "学习率: 2.00e-04, 用时: 2966.3s\n",
      "🎯 新的最佳模型! Loss: 0.0306, Acc: 83.33%, AUC: 0.3667\n",
      "💾 最佳模型已保存\n",
      "\n",
      "Epoch 2/20\n"
     ]
    },
    {
     "name": "stderr",
     "output_type": "stream",
     "text": [
      "Training:  96%|█████████▋| 80/83 [40:30<01:57, 39.10s/it, Loss=0.0116, Acc=83.54%]"
     ]
    },
    {
     "name": "stdout",
     "output_type": "stream",
     "text": [
      "GPU帧提取失败，回退到CPU: CUDA out of memory. Tried to allocate 4.27 GiB. GPU 0 has a total capacity of 14.74 GiB of which 2.21 GiB is free. Process 3714 has 12.53 GiB memory in use. 13.27 GiB allowed; Of the allocated memory 859.18 MiB is allocated by PyTorch, and 11.55 GiB is reserved by PyTorch but unallocated. If reserved but unallocated memory is large try setting PYTORCH_CUDA_ALLOC_CONF=expandable_segments:True to avoid fragmentation.  See documentation for Memory Management  (https://pytorch.org/docs/stable/notes/cuda.html#environment-variables)\n"
     ]
    },
    {
     "name": "stderr",
     "output_type": "stream",
     "text": [
      "Validation:  75%|███████▌  | 9/12 [04:28<01:22, 27.61s/it, Loss=0.0307, Acc=85.19%]"
     ]
    },
    {
     "name": "stdout",
     "output_type": "stream",
     "text": [
      "GPU帧提取失败，回退到CPU: CUDA out of memory. Tried to allocate 4.48 GiB. GPU 0 has a total capacity of 14.74 GiB of which 2.23 GiB is free. Process 3714 has 12.51 GiB memory in use. 13.27 GiB allowed; Of the allocated memory 859.18 MiB is allocated by PyTorch, and 11.53 GiB is reserved by PyTorch but unallocated. If reserved but unallocated memory is large try setting PYTORCH_CUDA_ALLOC_CONF=expandable_segments:True to avoid fragmentation.  See documentation for Memory Management  (https://pytorch.org/docs/stable/notes/cuda.html#environment-variables)\n"
     ]
    },
    {
     "name": "stderr",
     "output_type": "stream",
     "text": [
      "                                                                                    \r"
     ]
    },
    {
     "name": "stdout",
     "output_type": "stream",
     "text": [
      "训练: Loss=0.0301, Acc=83.94%, AUC=0.5332\n",
      "验证: Loss=0.0304, Acc=83.33%, AUC=0.4319\n",
      "学习率: 2.00e-04, 用时: 2928.8s\n",
      "🎯 新的最佳模型! Loss: 0.0304, Acc: 83.33%, AUC: 0.4319\n",
      "💾 最佳模型已保存\n",
      "\n",
      "Epoch 3/20\n"
     ]
    },
    {
     "name": "stderr",
     "output_type": "stream",
     "text": [
      "Training:   0%|          | 0/83 [00:00<?, ?it/s]"
     ]
    },
    {
     "name": "stdout",
     "output_type": "stream",
     "text": [
      "GPU帧提取失败，回退到CPU: CUDA out of memory. Tried to allocate 4.07 GiB. GPU 0 has a total capacity of 14.74 GiB of which 2.23 GiB is free. Process 3714 has 12.51 GiB memory in use. 13.27 GiB allowed; Of the allocated memory 794.86 MiB is allocated by PyTorch, and 11.59 GiB is reserved by PyTorch but unallocated. If reserved but unallocated memory is large try setting PYTORCH_CUDA_ALLOC_CONF=expandable_segments:True to avoid fragmentation.  See documentation for Memory Management  (https://pytorch.org/docs/stable/notes/cuda.html#environment-variables)\n"
     ]
    },
    {
     "name": "stderr",
     "output_type": "stream",
     "text": [
      "Training:  13%|█▎        | 11/83 [06:27<36:25, 30.35s/it, Loss=0.0264, Acc=77.27%]"
     ]
    },
    {
     "name": "stdout",
     "output_type": "stream",
     "text": [
      "GPU帧提取失败，回退到CPU: CUDA out of memory. Tried to allocate 4.27 GiB. GPU 0 has a total capacity of 14.74 GiB of which 2.35 GiB is free. Process 3714 has 12.39 GiB memory in use. 13.27 GiB allowed; Of the allocated memory 862.05 MiB is allocated by PyTorch, and 11.41 GiB is reserved by PyTorch but unallocated. If reserved but unallocated memory is large try setting PYTORCH_CUDA_ALLOC_CONF=expandable_segments:True to avoid fragmentation.  See documentation for Memory Management  (https://pytorch.org/docs/stable/notes/cuda.html#environment-variables)\n"
     ]
    },
    {
     "name": "stderr",
     "output_type": "stream",
     "text": [
      "Training:  94%|█████████▍| 78/83 [39:44<02:59, 35.88s/it, Loss=0.0325, Acc=83.97%]"
     ]
    },
    {
     "name": "stdout",
     "output_type": "stream",
     "text": [
      "GPU帧提取失败，回退到CPU: CUDA out of memory. Tried to allocate 4.07 GiB. GPU 0 has a total capacity of 14.74 GiB of which 2.35 GiB is free. Process 3714 has 12.39 GiB memory in use. 13.27 GiB allowed; Of the allocated memory 861.05 MiB is allocated by PyTorch, and 11.41 GiB is reserved by PyTorch but unallocated. If reserved but unallocated memory is large try setting PYTORCH_CUDA_ALLOC_CONF=expandable_segments:True to avoid fragmentation.  See documentation for Memory Management  (https://pytorch.org/docs/stable/notes/cuda.html#environment-variables)\n"
     ]
    },
    {
     "name": "stderr",
     "output_type": "stream",
     "text": [
      "Training:  96%|█████████▋| 80/83 [40:56<01:42, 34.25s/it, Loss=0.0682, Acc=83.54%]"
     ]
    },
    {
     "name": "stdout",
     "output_type": "stream",
     "text": [
      "GPU帧提取失败，回退到CPU: CUDA out of memory. Tried to allocate 4.42 GiB. GPU 0 has a total capacity of 14.74 GiB of which 2.35 GiB is free. Process 3714 has 12.39 GiB memory in use. 13.27 GiB allowed; Of the allocated memory 861.05 MiB is allocated by PyTorch, and 11.41 GiB is reserved by PyTorch but unallocated. If reserved but unallocated memory is large try setting PYTORCH_CUDA_ALLOC_CONF=expandable_segments:True to avoid fragmentation.  See documentation for Memory Management  (https://pytorch.org/docs/stable/notes/cuda.html#environment-variables)\n"
     ]
    },
    {
     "name": "stderr",
     "output_type": "stream",
     "text": [
      "Validation:  75%|███████▌  | 9/12 [04:31<01:23, 27.91s/it, Loss=0.0296, Acc=85.19%]"
     ]
    },
    {
     "name": "stdout",
     "output_type": "stream",
     "text": [
      "GPU帧提取失败，回退到CPU: CUDA out of memory. Tried to allocate 4.48 GiB. GPU 0 has a total capacity of 14.74 GiB of which 2.35 GiB is free. Process 3714 has 12.39 GiB memory in use. 13.27 GiB allowed; Of the allocated memory 862.05 MiB is allocated by PyTorch, and 11.41 GiB is reserved by PyTorch but unallocated. If reserved but unallocated memory is large try setting PYTORCH_CUDA_ALLOC_CONF=expandable_segments:True to avoid fragmentation.  See documentation for Memory Management  (https://pytorch.org/docs/stable/notes/cuda.html#environment-variables)\n"
     ]
    },
    {
     "name": "stderr",
     "output_type": "stream",
     "text": [
      "                                                                                    \r"
     ]
    },
    {
     "name": "stdout",
     "output_type": "stream",
     "text": [
      "训练: Loss=0.0303, Acc=83.33%, AUC=0.5261\n",
      "验证: Loss=0.0296, Acc=83.33%, AUC=0.4736\n",
      "学习率: 2.00e-04, 用时: 2956.4s\n",
      "🎯 新的最佳模型! Loss: 0.0296, Acc: 83.33%, AUC: 0.4736\n",
      "💾 最佳模型已保存\n",
      "\n",
      "Epoch 4/20\n"
     ]
    },
    {
     "name": "stderr",
     "output_type": "stream",
     "text": [
      "Training:  23%|██▎       | 19/83 [08:32<32:23, 30.36s/it, Loss=0.0320, Acc=82.46%]"
     ]
    },
    {
     "name": "stdout",
     "output_type": "stream",
     "text": [
      "GPU帧提取失败，回退到CPU: CUDA out of memory. Tried to allocate 4.07 GiB. GPU 0 has a total capacity of 14.74 GiB of which 2.35 GiB is free. Process 3714 has 12.39 GiB memory in use. 13.27 GiB allowed; Of the allocated memory 834.49 MiB is allocated by PyTorch, and 11.44 GiB is reserved by PyTorch but unallocated. If reserved but unallocated memory is large try setting PYTORCH_CUDA_ALLOC_CONF=expandable_segments:True to avoid fragmentation.  See documentation for Memory Management  (https://pytorch.org/docs/stable/notes/cuda.html#environment-variables)\n"
     ]
    },
    {
     "name": "stderr",
     "output_type": "stream",
     "text": [
      "Training:  52%|█████▏    | 43/83 [21:42<19:38, 29.47s/it, Loss=0.0116, Acc=84.50%]"
     ]
    },
    {
     "name": "stdout",
     "output_type": "stream",
     "text": [
      "GPU帧提取失败，回退到CPU: CUDA out of memory. Tried to allocate 4.27 GiB. GPU 0 has a total capacity of 14.74 GiB of which 2.35 GiB is free. Process 3714 has 12.39 GiB memory in use. 13.27 GiB allowed; Of the allocated memory 843.68 MiB is allocated by PyTorch, and 11.43 GiB is reserved by PyTorch but unallocated. If reserved but unallocated memory is large try setting PYTORCH_CUDA_ALLOC_CONF=expandable_segments:True to avoid fragmentation.  See documentation for Memory Management  (https://pytorch.org/docs/stable/notes/cuda.html#environment-variables)\n"
     ]
    },
    {
     "name": "stderr",
     "output_type": "stream",
     "text": [
      "Training:  58%|█████▊    | 48/83 [24:45<18:55, 32.44s/it, Loss=0.0126, Acc=85.76%]"
     ]
    },
    {
     "name": "stdout",
     "output_type": "stream",
     "text": [
      "GPU帧提取失败，回退到CPU: CUDA out of memory. Tried to allocate 4.42 GiB. GPU 0 has a total capacity of 14.74 GiB of which 2.35 GiB is free. Process 3714 has 12.39 GiB memory in use. 13.27 GiB allowed; Of the allocated memory 861.05 MiB is allocated by PyTorch, and 11.41 GiB is reserved by PyTorch but unallocated. If reserved but unallocated memory is large try setting PYTORCH_CUDA_ALLOC_CONF=expandable_segments:True to avoid fragmentation.  See documentation for Memory Management  (https://pytorch.org/docs/stable/notes/cuda.html#environment-variables)\n"
     ]
    },
    {
     "name": "stderr",
     "output_type": "stream",
     "text": [
      "Training:  95%|█████████▌| 79/83 [40:35<02:14, 33.51s/it, Loss=0.0329, Acc=84.18%]"
     ]
    },
    {
     "name": "stdout",
     "output_type": "stream",
     "text": [
      "GPU帧提取失败，回退到CPU: CUDA out of memory. Tried to allocate 4.07 GiB. GPU 0 has a total capacity of 14.74 GiB of which 2.35 GiB is free. Process 3714 has 12.39 GiB memory in use. 13.27 GiB allowed; Of the allocated memory 825.30 MiB is allocated by PyTorch, and 11.45 GiB is reserved by PyTorch but unallocated. If reserved but unallocated memory is large try setting PYTORCH_CUDA_ALLOC_CONF=expandable_segments:True to avoid fragmentation.  See documentation for Memory Management  (https://pytorch.org/docs/stable/notes/cuda.html#environment-variables)\n"
     ]
    },
    {
     "name": "stderr",
     "output_type": "stream",
     "text": [
      "Validation:  75%|███████▌  | 9/12 [04:28<01:22, 27.64s/it, Loss=0.0318, Acc=85.19%]"
     ]
    },
    {
     "name": "stdout",
     "output_type": "stream",
     "text": [
      "GPU帧提取失败，回退到CPU: CUDA out of memory. Tried to allocate 4.48 GiB. GPU 0 has a total capacity of 14.74 GiB of which 2.35 GiB is free. Process 3714 has 12.39 GiB memory in use. 13.27 GiB allowed; Of the allocated memory 862.05 MiB is allocated by PyTorch, and 11.41 GiB is reserved by PyTorch but unallocated. If reserved but unallocated memory is large try setting PYTORCH_CUDA_ALLOC_CONF=expandable_segments:True to avoid fragmentation.  See documentation for Memory Management  (https://pytorch.org/docs/stable/notes/cuda.html#environment-variables)\n"
     ]
    },
    {
     "name": "stderr",
     "output_type": "stream",
     "text": [
      "                                                                                    \r"
     ]
    },
    {
     "name": "stdout",
     "output_type": "stream",
     "text": [
      "训练: Loss=0.0300, Acc=83.53%, AUC=0.5256\n",
      "验证: Loss=0.0320, Acc=83.33%, AUC=0.3569\n",
      "学习率: 2.01e-04, 用时: 2961.8s\n",
      "\n",
      "Epoch 5/20\n"
     ]
    },
    {
     "name": "stderr",
     "output_type": "stream",
     "text": [
      "Training:  14%|█▍        | 12/83 [05:46<33:52, 28.62s/it, Loss=0.0308, Acc=91.67%]"
     ]
    },
    {
     "name": "stdout",
     "output_type": "stream",
     "text": [
      "GPU帧提取失败，回退到CPU: CUDA out of memory. Tried to allocate 4.07 GiB. GPU 0 has a total capacity of 14.74 GiB of which 2.35 GiB is free. Process 3714 has 12.39 GiB memory in use. 13.27 GiB allowed; Of the allocated memory 851.86 MiB is allocated by PyTorch, and 11.42 GiB is reserved by PyTorch but unallocated. If reserved but unallocated memory is large try setting PYTORCH_CUDA_ALLOC_CONF=expandable_segments:True to avoid fragmentation.  See documentation for Memory Management  (https://pytorch.org/docs/stable/notes/cuda.html#environment-variables)\n"
     ]
    },
    {
     "name": "stderr",
     "output_type": "stream",
     "text": [
      "Training:  31%|███▏      | 26/83 [13:22<30:57, 32.58s/it, Loss=0.0421, Acc=83.97%]"
     ]
    },
    {
     "name": "stdout",
     "output_type": "stream",
     "text": [
      "GPU帧提取失败，回退到CPU: CUDA out of memory. Tried to allocate 4.27 GiB. GPU 0 has a total capacity of 14.74 GiB of which 2.35 GiB is free. Process 3714 has 12.39 GiB memory in use. 13.27 GiB allowed; Of the allocated memory 851.86 MiB is allocated by PyTorch, and 11.42 GiB is reserved by PyTorch but unallocated. If reserved but unallocated memory is large try setting PYTORCH_CUDA_ALLOC_CONF=expandable_segments:True to avoid fragmentation.  See documentation for Memory Management  (https://pytorch.org/docs/stable/notes/cuda.html#environment-variables)\n"
     ]
    },
    {
     "name": "stderr",
     "output_type": "stream",
     "text": [
      "Training:  42%|████▏     | 35/83 [18:35<26:11, 32.74s/it, Loss=0.0327, Acc=83.81%]"
     ]
    },
    {
     "name": "stdout",
     "output_type": "stream",
     "text": [
      "GPU帧提取失败，回退到CPU: CUDA out of memory. Tried to allocate 4.07 GiB. GPU 0 has a total capacity of 14.74 GiB of which 2.35 GiB is free. Process 3714 has 12.39 GiB memory in use. 13.27 GiB allowed; Of the allocated memory 871.24 MiB is allocated by PyTorch, and 11.40 GiB is reserved by PyTorch but unallocated. If reserved but unallocated memory is large try setting PYTORCH_CUDA_ALLOC_CONF=expandable_segments:True to avoid fragmentation.  See documentation for Memory Management  (https://pytorch.org/docs/stable/notes/cuda.html#environment-variables)\n"
     ]
    },
    {
     "name": "stderr",
     "output_type": "stream",
     "text": [
      "Training:  94%|█████████▍| 78/83 [40:27<02:22, 28.41s/it, Loss=0.0162, Acc=83.76%]"
     ]
    },
    {
     "name": "stdout",
     "output_type": "stream",
     "text": [
      "GPU帧提取失败，回退到CPU: CUDA out of memory. Tried to allocate 4.42 GiB. GPU 0 has a total capacity of 14.74 GiB of which 2.35 GiB is free. Process 3714 has 12.39 GiB memory in use. 13.27 GiB allowed; Of the allocated memory 824.30 MiB is allocated by PyTorch, and 11.45 GiB is reserved by PyTorch but unallocated. If reserved but unallocated memory is large try setting PYTORCH_CUDA_ALLOC_CONF=expandable_segments:True to avoid fragmentation.  See documentation for Memory Management  (https://pytorch.org/docs/stable/notes/cuda.html#environment-variables)\n"
     ]
    },
    {
     "name": "stderr",
     "output_type": "stream",
     "text": [
      "Validation:  75%|███████▌  | 9/12 [04:27<01:22, 27.52s/it, Loss=0.0297, Acc=85.19%]"
     ]
    },
    {
     "name": "stdout",
     "output_type": "stream",
     "text": [
      "GPU帧提取失败，回退到CPU: CUDA out of memory. Tried to allocate 4.48 GiB. GPU 0 has a total capacity of 14.74 GiB of which 2.35 GiB is free. Process 3714 has 12.39 GiB memory in use. 13.27 GiB allowed; Of the allocated memory 862.05 MiB is allocated by PyTorch, and 11.41 GiB is reserved by PyTorch but unallocated. If reserved but unallocated memory is large try setting PYTORCH_CUDA_ALLOC_CONF=expandable_segments:True to avoid fragmentation.  See documentation for Memory Management  (https://pytorch.org/docs/stable/notes/cuda.html#environment-variables)\n"
     ]
    },
    {
     "name": "stderr",
     "output_type": "stream",
     "text": [
      "                                                                                    \r"
     ]
    },
    {
     "name": "stdout",
     "output_type": "stream",
     "text": [
      "训练: Loss=0.0312, Acc=83.73%, AUC=0.4240\n",
      "验证: Loss=0.0295, Acc=83.33%, AUC=0.5278\n",
      "学习率: 2.01e-04, 用时: 2961.6s\n",
      "🎯 新的最佳模型! Loss: 0.0295, Acc: 83.33%, AUC: 0.5278\n",
      "💾 最佳模型已保存\n",
      "\n",
      "Epoch 6/20\n"
     ]
    },
    {
     "name": "stderr",
     "output_type": "stream",
     "text": [
      "Training:  43%|████▎     | 36/83 [17:46<24:05, 30.75s/it, Loss=0.0310, Acc=82.41%]"
     ]
    },
    {
     "name": "stdout",
     "output_type": "stream",
     "text": [
      "GPU帧提取失败，回退到CPU: CUDA out of memory. Tried to allocate 4.07 GiB. GPU 0 has a total capacity of 14.74 GiB of which 2.35 GiB is free. Process 3714 has 12.39 GiB memory in use. 13.27 GiB allowed; Of the allocated memory 870.24 MiB is allocated by PyTorch, and 11.40 GiB is reserved by PyTorch but unallocated. If reserved but unallocated memory is large try setting PYTORCH_CUDA_ALLOC_CONF=expandable_segments:True to avoid fragmentation.  See documentation for Memory Management  (https://pytorch.org/docs/stable/notes/cuda.html#environment-variables)\n"
     ]
    },
    {
     "name": "stderr",
     "output_type": "stream",
     "text": [
      "Training:  46%|████▌     | 38/83 [19:11<27:12, 36.27s/it, Loss=0.0122, Acc=83.33%]"
     ]
    },
    {
     "name": "stdout",
     "output_type": "stream",
     "text": [
      "GPU帧提取失败，回退到CPU: CUDA out of memory. Tried to allocate 4.07 GiB. GPU 0 has a total capacity of 14.74 GiB of which 2.35 GiB is free. Process 3714 has 12.39 GiB memory in use. 13.27 GiB allowed; Of the allocated memory 833.49 MiB is allocated by PyTorch, and 11.44 GiB is reserved by PyTorch but unallocated. If reserved but unallocated memory is large try setting PYTORCH_CUDA_ALLOC_CONF=expandable_segments:True to avoid fragmentation.  See documentation for Memory Management  (https://pytorch.org/docs/stable/notes/cuda.html#environment-variables)\n"
     ]
    },
    {
     "name": "stderr",
     "output_type": "stream",
     "text": [
      "Training:  57%|█████▋    | 47/83 [24:41<20:34, 34.29s/it, Loss=0.0046, Acc=84.75%]"
     ]
    },
    {
     "name": "stdout",
     "output_type": "stream",
     "text": [
      "GPU帧提取失败，回退到CPU: CUDA out of memory. Tried to allocate 4.27 GiB. GPU 0 has a total capacity of 14.74 GiB of which 2.35 GiB is free. Process 3714 has 12.39 GiB memory in use. 13.27 GiB allowed; Of the allocated memory 852.86 MiB is allocated by PyTorch, and 11.42 GiB is reserved by PyTorch but unallocated. If reserved but unallocated memory is large try setting PYTORCH_CUDA_ALLOC_CONF=expandable_segments:True to avoid fragmentation.  See documentation for Memory Management  (https://pytorch.org/docs/stable/notes/cuda.html#environment-variables)\n"
     ]
    },
    {
     "name": "stderr",
     "output_type": "stream",
     "text": [
      "Training:  89%|████████▉ | 74/83 [37:46<03:55, 26.21s/it, Loss=0.0307, Acc=84.01%]"
     ]
    },
    {
     "name": "stdout",
     "output_type": "stream",
     "text": [
      "GPU帧提取失败，回退到CPU: CUDA out of memory. Tried to allocate 4.42 GiB. GPU 0 has a total capacity of 14.74 GiB of which 2.35 GiB is free. Process 3714 has 12.39 GiB memory in use. 13.27 GiB allowed; Of the allocated memory 851.86 MiB is allocated by PyTorch, and 11.42 GiB is reserved by PyTorch but unallocated. If reserved but unallocated memory is large try setting PYTORCH_CUDA_ALLOC_CONF=expandable_segments:True to avoid fragmentation.  See documentation for Memory Management  (https://pytorch.org/docs/stable/notes/cuda.html#environment-variables)\n"
     ]
    },
    {
     "name": "stderr",
     "output_type": "stream",
     "text": [
      "Validation:  75%|███████▌  | 9/12 [04:27<01:22, 27.52s/it, Loss=0.0303, Acc=85.19%]"
     ]
    },
    {
     "name": "stdout",
     "output_type": "stream",
     "text": [
      "GPU帧提取失败，回退到CPU: CUDA out of memory. Tried to allocate 4.48 GiB. GPU 0 has a total capacity of 14.74 GiB of which 2.35 GiB is free. Process 3714 has 12.39 GiB memory in use. 13.27 GiB allowed; Of the allocated memory 862.05 MiB is allocated by PyTorch, and 11.41 GiB is reserved by PyTorch but unallocated. If reserved but unallocated memory is large try setting PYTORCH_CUDA_ALLOC_CONF=expandable_segments:True to avoid fragmentation.  See documentation for Memory Management  (https://pytorch.org/docs/stable/notes/cuda.html#environment-variables)\n"
     ]
    },
    {
     "name": "stderr",
     "output_type": "stream",
     "text": [
      "                                                                                    \r"
     ]
    },
    {
     "name": "stdout",
     "output_type": "stream",
     "text": [
      "训练: Loss=0.0294, Acc=83.33%, AUC=0.5799\n",
      "验证: Loss=0.0303, Acc=83.33%, AUC=0.6389\n",
      "学习率: 2.02e-04, 用时: 2952.3s\n",
      "\n",
      "Epoch 7/20\n"
     ]
    },
    {
     "name": "stderr",
     "output_type": "stream",
     "text": [
      "Training:  23%|██▎       | 19/83 [10:23<33:07, 31.05s/it, Loss=0.0522, Acc=83.33%]"
     ]
    },
    {
     "name": "stdout",
     "output_type": "stream",
     "text": [
      "GPU帧提取失败，回退到CPU: CUDA out of memory. Tried to allocate 4.27 GiB. GPU 0 has a total capacity of 14.74 GiB of which 2.35 GiB is free. Process 3714 has 12.39 GiB memory in use. 13.27 GiB allowed; Of the allocated memory 862.05 MiB is allocated by PyTorch, and 11.41 GiB is reserved by PyTorch but unallocated. If reserved but unallocated memory is large try setting PYTORCH_CUDA_ALLOC_CONF=expandable_segments:True to avoid fragmentation.  See documentation for Memory Management  (https://pytorch.org/docs/stable/notes/cuda.html#environment-variables)\n"
     ]
    },
    {
     "name": "stderr",
     "output_type": "stream",
     "text": [
      "Training:  33%|███▎      | 27/83 [14:48<28:23, 30.43s/it, Loss=0.0272, Acc=85.80%]"
     ]
    },
    {
     "name": "stdout",
     "output_type": "stream",
     "text": [
      "GPU帧提取失败，回退到CPU: CUDA out of memory. Tried to allocate 4.07 GiB. GPU 0 has a total capacity of 14.74 GiB of which 2.35 GiB is free. Process 3714 has 12.39 GiB memory in use. 13.27 GiB allowed; Of the allocated memory 871.24 MiB is allocated by PyTorch, and 11.40 GiB is reserved by PyTorch but unallocated. If reserved but unallocated memory is large try setting PYTORCH_CUDA_ALLOC_CONF=expandable_segments:True to avoid fragmentation.  See documentation for Memory Management  (https://pytorch.org/docs/stable/notes/cuda.html#environment-variables)\n"
     ]
    },
    {
     "name": "stderr",
     "output_type": "stream",
     "text": [
      "Training:  59%|█████▉    | 49/83 [27:16<21:48, 38.48s/it, Loss=0.0433, Acc=81.29%]"
     ]
    },
    {
     "name": "stdout",
     "output_type": "stream",
     "text": [
      "GPU帧提取失败，回退到CPU: CUDA out of memory. Tried to allocate 4.42 GiB. GPU 0 has a total capacity of 14.74 GiB of which 2.35 GiB is free. Process 3714 has 12.39 GiB memory in use. 13.27 GiB allowed; Of the allocated memory 862.05 MiB is allocated by PyTorch, and 11.41 GiB is reserved by PyTorch but unallocated. If reserved but unallocated memory is large try setting PYTORCH_CUDA_ALLOC_CONF=expandable_segments:True to avoid fragmentation.  See documentation for Memory Management  (https://pytorch.org/docs/stable/notes/cuda.html#environment-variables)\n"
     ]
    },
    {
     "name": "stderr",
     "output_type": "stream",
     "text": [
      "Training:  73%|███████▎  | 61/83 [33:03<09:12, 25.13s/it, Loss=0.0213, Acc=82.79%]"
     ]
    },
    {
     "name": "stdout",
     "output_type": "stream",
     "text": [
      "GPU帧提取失败，回退到CPU: CUDA out of memory. Tried to allocate 4.07 GiB. GPU 0 has a total capacity of 14.74 GiB of which 2.35 GiB is free. Process 3714 has 12.39 GiB memory in use. 13.27 GiB allowed; Of the allocated memory 862.05 MiB is allocated by PyTorch, and 11.41 GiB is reserved by PyTorch but unallocated. If reserved but unallocated memory is large try setting PYTORCH_CUDA_ALLOC_CONF=expandable_segments:True to avoid fragmentation.  See documentation for Memory Management  (https://pytorch.org/docs/stable/notes/cuda.html#environment-variables)\n"
     ]
    },
    {
     "name": "stderr",
     "output_type": "stream",
     "text": [
      "Validation:  75%|███████▌  | 9/12 [04:28<01:22, 27.61s/it, Loss=0.0326, Acc=85.19%]"
     ]
    },
    {
     "name": "stdout",
     "output_type": "stream",
     "text": [
      "GPU帧提取失败，回退到CPU: CUDA out of memory. Tried to allocate 4.48 GiB. GPU 0 has a total capacity of 14.74 GiB of which 2.35 GiB is free. Process 3714 has 12.39 GiB memory in use. 13.27 GiB allowed; Of the allocated memory 862.05 MiB is allocated by PyTorch, and 11.41 GiB is reserved by PyTorch but unallocated. If reserved but unallocated memory is large try setting PYTORCH_CUDA_ALLOC_CONF=expandable_segments:True to avoid fragmentation.  See documentation for Memory Management  (https://pytorch.org/docs/stable/notes/cuda.html#environment-variables)\n"
     ]
    },
    {
     "name": "stderr",
     "output_type": "stream",
     "text": [
      "                                                                                    \r"
     ]
    },
    {
     "name": "stdout",
     "output_type": "stream",
     "text": [
      "训练: Loss=0.0302, Acc=83.33%, AUC=0.5208\n",
      "验证: Loss=0.0308, Acc=83.33%, AUC=0.4722\n",
      "学习率: 2.02e-04, 用时: 2961.1s\n",
      "\n",
      "Epoch 8/20\n"
     ]
    },
    {
     "name": "stderr",
     "output_type": "stream",
     "text": [
      "Training:  14%|█▍        | 12/83 [06:32<37:51, 32.00s/it, Loss=0.0123, Acc=83.33%]"
     ]
    },
    {
     "name": "stdout",
     "output_type": "stream",
     "text": [
      "GPU帧提取失败，回退到CPU: CUDA out of memory. Tried to allocate 4.07 GiB. GPU 0 has a total capacity of 14.74 GiB of which 2.35 GiB is free. Process 3714 has 12.39 GiB memory in use. 13.27 GiB allowed; Of the allocated memory 851.86 MiB is allocated by PyTorch, and 11.42 GiB is reserved by PyTorch but unallocated. If reserved but unallocated memory is large try setting PYTORCH_CUDA_ALLOC_CONF=expandable_segments:True to avoid fragmentation.  See documentation for Memory Management  (https://pytorch.org/docs/stable/notes/cuda.html#environment-variables)\n"
     ]
    },
    {
     "name": "stderr",
     "output_type": "stream",
     "text": [
      "Training:  41%|████      | 34/83 [18:01<23:45, 29.10s/it, Loss=0.0168, Acc=84.80%]"
     ]
    },
    {
     "name": "stdout",
     "output_type": "stream",
     "text": [
      "GPU帧提取失败，回退到CPU: CUDA out of memory. Tried to allocate 4.27 GiB. GPU 0 has a total capacity of 14.74 GiB of which 2.35 GiB is free. Process 3714 has 12.39 GiB memory in use. 13.27 GiB allowed; Of the allocated memory 861.05 MiB is allocated by PyTorch, and 11.41 GiB is reserved by PyTorch but unallocated. If reserved but unallocated memory is large try setting PYTORCH_CUDA_ALLOC_CONF=expandable_segments:True to avoid fragmentation.  See documentation for Memory Management  (https://pytorch.org/docs/stable/notes/cuda.html#environment-variables)\n"
     ]
    },
    {
     "name": "stderr",
     "output_type": "stream",
     "text": [
      "Training:  49%|████▉     | 41/83 [21:45<21:53, 31.28s/it, Loss=0.0242, Acc=83.74%]"
     ]
    },
    {
     "name": "stdout",
     "output_type": "stream",
     "text": [
      "GPU帧提取失败，回退到CPU: CUDA out of memory. Tried to allocate 4.42 GiB. GPU 0 has a total capacity of 14.74 GiB of which 2.35 GiB is free. Process 3714 has 12.39 GiB memory in use. 13.27 GiB allowed; Of the allocated memory 834.49 MiB is allocated by PyTorch, and 11.44 GiB is reserved by PyTorch but unallocated. If reserved but unallocated memory is large try setting PYTORCH_CUDA_ALLOC_CONF=expandable_segments:True to avoid fragmentation.  See documentation for Memory Management  (https://pytorch.org/docs/stable/notes/cuda.html#environment-variables)\n"
     ]
    },
    {
     "name": "stderr",
     "output_type": "stream",
     "text": [
      "Training:  75%|███████▍  | 62/83 [33:16<11:45, 33.60s/it, Loss=0.0376, Acc=82.80%]"
     ]
    },
    {
     "name": "stdout",
     "output_type": "stream",
     "text": [
      "GPU帧提取失败，回退到CPU: CUDA out of memory. Tried to allocate 4.07 GiB. GPU 0 has a total capacity of 14.74 GiB of which 2.35 GiB is free. Process 3714 has 12.39 GiB memory in use. 13.27 GiB allowed; Of the allocated memory 842.68 MiB is allocated by PyTorch, and 11.43 GiB is reserved by PyTorch but unallocated. If reserved but unallocated memory is large try setting PYTORCH_CUDA_ALLOC_CONF=expandable_segments:True to avoid fragmentation.  See documentation for Memory Management  (https://pytorch.org/docs/stable/notes/cuda.html#environment-variables)\n"
     ]
    },
    {
     "name": "stderr",
     "output_type": "stream",
     "text": [
      "Validation:  75%|███████▌  | 9/12 [04:29<01:23, 27.67s/it, Loss=0.0297, Acc=85.19%]"
     ]
    },
    {
     "name": "stdout",
     "output_type": "stream",
     "text": [
      "GPU帧提取失败，回退到CPU: CUDA out of memory. Tried to allocate 4.48 GiB. GPU 0 has a total capacity of 14.74 GiB of which 2.35 GiB is free. Process 3714 has 12.39 GiB memory in use. 13.27 GiB allowed; Of the allocated memory 862.05 MiB is allocated by PyTorch, and 11.41 GiB is reserved by PyTorch but unallocated. If reserved but unallocated memory is large try setting PYTORCH_CUDA_ALLOC_CONF=expandable_segments:True to avoid fragmentation.  See documentation for Memory Management  (https://pytorch.org/docs/stable/notes/cuda.html#environment-variables)\n"
     ]
    },
    {
     "name": "stderr",
     "output_type": "stream",
     "text": [
      "                                                                                    \r"
     ]
    },
    {
     "name": "stdout",
     "output_type": "stream",
     "text": [
      "训练: Loss=0.0299, Acc=83.53%, AUC=0.5213\n",
      "验证: Loss=0.0307, Acc=83.33%, AUC=0.4000\n",
      "学习率: 2.03e-04, 用时: 2948.8s\n",
      "\n",
      "Epoch 9/20\n"
     ]
    },
    {
     "name": "stderr",
     "output_type": "stream",
     "text": [
      "Training:   1%|          | 1/83 [00:35<48:19, 35.36s/it, Loss=0.0126, Acc=100.00%]"
     ]
    },
    {
     "name": "stdout",
     "output_type": "stream",
     "text": [
      "GPU帧提取失败，回退到CPU: CUDA out of memory. Tried to allocate 4.27 GiB. GPU 0 has a total capacity of 14.74 GiB of which 2.35 GiB is free. Process 3714 has 12.39 GiB memory in use. 13.27 GiB allowed; Of the allocated memory 868.55 MiB is allocated by PyTorch, and 11.41 GiB is reserved by PyTorch but unallocated. If reserved but unallocated memory is large try setting PYTORCH_CUDA_ALLOC_CONF=expandable_segments:True to avoid fragmentation.  See documentation for Memory Management  (https://pytorch.org/docs/stable/notes/cuda.html#environment-variables)\n"
     ]
    },
    {
     "name": "stderr",
     "output_type": "stream",
     "text": [
      "Training:  61%|██████▏   | 51/83 [25:59<18:15, 34.23s/it, Loss=0.0171, Acc=83.01%]"
     ]
    },
    {
     "name": "stdout",
     "output_type": "stream",
     "text": [
      "GPU帧提取失败，回退到CPU: CUDA out of memory. Tried to allocate 4.07 GiB. GPU 0 has a total capacity of 14.74 GiB of which 2.35 GiB is free. Process 3714 has 12.39 GiB memory in use. 13.27 GiB allowed; Of the allocated memory 852.86 MiB is allocated by PyTorch, and 11.42 GiB is reserved by PyTorch but unallocated. If reserved but unallocated memory is large try setting PYTORCH_CUDA_ALLOC_CONF=expandable_segments:True to avoid fragmentation.  See documentation for Memory Management  (https://pytorch.org/docs/stable/notes/cuda.html#environment-variables)\n"
     ]
    },
    {
     "name": "stderr",
     "output_type": "stream",
     "text": [
      "Training:  65%|██████▌   | 54/83 [27:51<16:12, 33.53s/it, Loss=0.0392, Acc=83.02%]"
     ]
    },
    {
     "name": "stdout",
     "output_type": "stream",
     "text": [
      "GPU帧提取失败，回退到CPU: CUDA out of memory. Tried to allocate 4.42 GiB. GPU 0 has a total capacity of 14.74 GiB of which 2.35 GiB is free. Process 3714 has 12.39 GiB memory in use. 13.27 GiB allowed; Of the allocated memory 842.68 MiB is allocated by PyTorch, and 11.43 GiB is reserved by PyTorch but unallocated. If reserved but unallocated memory is large try setting PYTORCH_CUDA_ALLOC_CONF=expandable_segments:True to avoid fragmentation.  See documentation for Memory Management  (https://pytorch.org/docs/stable/notes/cuda.html#environment-variables)\n"
     ]
    },
    {
     "name": "stderr",
     "output_type": "stream",
     "text": [
      "Training:  72%|███████▏  | 60/83 [30:50<10:59, 28.65s/it, Loss=0.0227, Acc=82.50%]"
     ]
    },
    {
     "name": "stdout",
     "output_type": "stream",
     "text": [
      "GPU帧提取失败，回退到CPU: CUDA out of memory. Tried to allocate 4.07 GiB. GPU 0 has a total capacity of 14.74 GiB of which 2.35 GiB is free. Process 3714 has 12.39 GiB memory in use. 13.27 GiB allowed; Of the allocated memory 824.30 MiB is allocated by PyTorch, and 11.45 GiB is reserved by PyTorch but unallocated. If reserved but unallocated memory is large try setting PYTORCH_CUDA_ALLOC_CONF=expandable_segments:True to avoid fragmentation.  See documentation for Memory Management  (https://pytorch.org/docs/stable/notes/cuda.html#environment-variables)\n"
     ]
    },
    {
     "name": "stderr",
     "output_type": "stream",
     "text": [
      "Validation:  75%|███████▌  | 9/12 [04:27<01:22, 27.51s/it, Loss=0.0290, Acc=85.19%]"
     ]
    },
    {
     "name": "stdout",
     "output_type": "stream",
     "text": [
      "GPU帧提取失败，回退到CPU: CUDA out of memory. Tried to allocate 4.48 GiB. GPU 0 has a total capacity of 14.74 GiB of which 2.35 GiB is free. Process 3714 has 12.39 GiB memory in use. 13.27 GiB allowed; Of the allocated memory 862.05 MiB is allocated by PyTorch, and 11.41 GiB is reserved by PyTorch but unallocated. If reserved but unallocated memory is large try setting PYTORCH_CUDA_ALLOC_CONF=expandable_segments:True to avoid fragmentation.  See documentation for Memory Management  (https://pytorch.org/docs/stable/notes/cuda.html#environment-variables)\n"
     ]
    },
    {
     "name": "stderr",
     "output_type": "stream",
     "text": [
      "                                                                                    \r"
     ]
    },
    {
     "name": "stdout",
     "output_type": "stream",
     "text": [
      "训练: Loss=0.0296, Acc=83.33%, AUC=0.5552\n",
      "验证: Loss=0.0305, Acc=83.33%, AUC=0.4681\n",
      "学习率: 2.04e-04, 用时: 2960.9s\n",
      "\n",
      "Epoch 10/20\n"
     ]
    },
    {
     "name": "stderr",
     "output_type": "stream",
     "text": [
      "Training:  39%|███▊      | 32/83 [15:57<25:34, 30.09s/it, Loss=0.0396, Acc=81.77%]"
     ]
    },
    {
     "name": "stdout",
     "output_type": "stream",
     "text": [
      "GPU帧提取失败，回退到CPU: CUDA out of memory. Tried to allocate 4.07 GiB. GPU 0 has a total capacity of 14.74 GiB of which 2.35 GiB is free. Process 3714 has 12.39 GiB memory in use. 13.27 GiB allowed; Of the allocated memory 851.86 MiB is allocated by PyTorch, and 11.42 GiB is reserved by PyTorch but unallocated. If reserved but unallocated memory is large try setting PYTORCH_CUDA_ALLOC_CONF=expandable_segments:True to avoid fragmentation.  See documentation for Memory Management  (https://pytorch.org/docs/stable/notes/cuda.html#environment-variables)\n"
     ]
    },
    {
     "name": "stderr",
     "output_type": "stream",
     "text": [
      "Training:  69%|██████▊   | 57/83 [28:45<11:24, 26.34s/it, Loss=0.0227, Acc=82.75%]"
     ]
    },
    {
     "name": "stdout",
     "output_type": "stream",
     "text": [
      "GPU帧提取失败，回退到CPU: CUDA out of memory. Tried to allocate 4.07 GiB. GPU 0 has a total capacity of 14.74 GiB of which 2.35 GiB is free. Process 3714 has 12.39 GiB memory in use. 13.27 GiB allowed; Of the allocated memory 871.24 MiB is allocated by PyTorch, and 11.40 GiB is reserved by PyTorch but unallocated. If reserved but unallocated memory is large try setting PYTORCH_CUDA_ALLOC_CONF=expandable_segments:True to avoid fragmentation.  See documentation for Memory Management  (https://pytorch.org/docs/stable/notes/cuda.html#environment-variables)\n"
     ]
    },
    {
     "name": "stderr",
     "output_type": "stream",
     "text": [
      "Training:  92%|█████████▏| 76/83 [38:22<03:00, 25.82s/it, Loss=0.0303, Acc=83.11%]"
     ]
    },
    {
     "name": "stdout",
     "output_type": "stream",
     "text": [
      "GPU帧提取失败，回退到CPU: CUDA out of memory. Tried to allocate 4.42 GiB. GPU 0 has a total capacity of 14.74 GiB of which 2.35 GiB is free. Process 3714 has 12.39 GiB memory in use. 13.27 GiB allowed; Of the allocated memory 851.86 MiB is allocated by PyTorch, and 11.42 GiB is reserved by PyTorch but unallocated. If reserved but unallocated memory is large try setting PYTORCH_CUDA_ALLOC_CONF=expandable_segments:True to avoid fragmentation.  See documentation for Memory Management  (https://pytorch.org/docs/stable/notes/cuda.html#environment-variables)\n"
     ]
    },
    {
     "name": "stderr",
     "output_type": "stream",
     "text": [
      "Training:  94%|█████████▍| 78/83 [39:42<02:41, 32.26s/it, Loss=0.0129, Acc=83.33%]"
     ]
    },
    {
     "name": "stdout",
     "output_type": "stream",
     "text": [
      "GPU帧提取失败，回退到CPU: CUDA out of memory. Tried to allocate 4.27 GiB. GPU 0 has a total capacity of 14.74 GiB of which 2.35 GiB is free. Process 3714 has 12.39 GiB memory in use. 13.27 GiB allowed; Of the allocated memory 833.49 MiB is allocated by PyTorch, and 11.44 GiB is reserved by PyTorch but unallocated. If reserved but unallocated memory is large try setting PYTORCH_CUDA_ALLOC_CONF=expandable_segments:True to avoid fragmentation.  See documentation for Memory Management  (https://pytorch.org/docs/stable/notes/cuda.html#environment-variables)\n"
     ]
    },
    {
     "name": "stderr",
     "output_type": "stream",
     "text": [
      "Validation:  75%|███████▌  | 9/12 [04:28<01:22, 27.57s/it, Loss=0.0286, Acc=85.19%]"
     ]
    },
    {
     "name": "stdout",
     "output_type": "stream",
     "text": [
      "GPU帧提取失败，回退到CPU: CUDA out of memory. Tried to allocate 4.48 GiB. GPU 0 has a total capacity of 14.74 GiB of which 2.35 GiB is free. Process 3714 has 12.39 GiB memory in use. 13.27 GiB allowed; Of the allocated memory 862.05 MiB is allocated by PyTorch, and 11.41 GiB is reserved by PyTorch but unallocated. If reserved but unallocated memory is large try setting PYTORCH_CUDA_ALLOC_CONF=expandable_segments:True to avoid fragmentation.  See documentation for Memory Management  (https://pytorch.org/docs/stable/notes/cuda.html#environment-variables)\n"
     ]
    },
    {
     "name": "stderr",
     "output_type": "stream",
     "text": [
      "                                                                                    \r"
     ]
    },
    {
     "name": "stdout",
     "output_type": "stream",
     "text": [
      "训练: Loss=0.0303, Acc=83.33%, AUC=0.4963\n",
      "验证: Loss=0.0300, Acc=83.33%, AUC=0.4208\n",
      "学习率: 2.05e-04, 用时: 2938.6s\n",
      "\n",
      "Epoch 11/20\n"
     ]
    },
    {
     "name": "stderr",
     "output_type": "stream",
     "text": [
      "Training:   5%|▍         | 4/83 [02:13<49:22, 37.50s/it, Loss=0.0182, Acc=87.50%]"
     ]
    },
    {
     "name": "stdout",
     "output_type": "stream",
     "text": [
      "GPU帧提取失败，回退到CPU: CUDA out of memory. Tried to allocate 4.27 GiB. GPU 0 has a total capacity of 14.74 GiB of which 2.35 GiB is free. Process 3714 has 12.39 GiB memory in use. 13.27 GiB allowed; Of the allocated memory 833.49 MiB is allocated by PyTorch, and 11.44 GiB is reserved by PyTorch but unallocated. If reserved but unallocated memory is large try setting PYTORCH_CUDA_ALLOC_CONF=expandable_segments:True to avoid fragmentation.  See documentation for Memory Management  (https://pytorch.org/docs/stable/notes/cuda.html#environment-variables)\n"
     ]
    },
    {
     "name": "stderr",
     "output_type": "stream",
     "text": [
      "Training:  52%|█████▏    | 43/83 [22:08<17:37, 26.43s/it, Loss=0.0321, Acc=85.66%]"
     ]
    },
    {
     "name": "stdout",
     "output_type": "stream",
     "text": [
      "GPU帧提取失败，回退到CPU: CUDA out of memory. Tried to allocate 4.07 GiB. GPU 0 has a total capacity of 14.74 GiB of which 2.35 GiB is free. Process 3714 has 12.39 GiB memory in use. 13.27 GiB allowed; Of the allocated memory 834.49 MiB is allocated by PyTorch, and 11.44 GiB is reserved by PyTorch but unallocated. If reserved but unallocated memory is large try setting PYTORCH_CUDA_ALLOC_CONF=expandable_segments:True to avoid fragmentation.  See documentation for Memory Management  (https://pytorch.org/docs/stable/notes/cuda.html#environment-variables)\n"
     ]
    },
    {
     "name": "stderr",
     "output_type": "stream",
     "text": [
      "Training:  61%|██████▏   | 51/83 [26:05<14:58, 28.07s/it, Loss=0.0172, Acc=86.27%]"
     ]
    },
    {
     "name": "stdout",
     "output_type": "stream",
     "text": [
      "GPU帧提取失败，回退到CPU: CUDA out of memory. Tried to allocate 4.07 GiB. GPU 0 has a total capacity of 14.74 GiB of which 2.35 GiB is free. Process 3714 has 12.39 GiB memory in use. 13.27 GiB allowed; Of the allocated memory 852.86 MiB is allocated by PyTorch, and 11.42 GiB is reserved by PyTorch but unallocated. If reserved but unallocated memory is large try setting PYTORCH_CUDA_ALLOC_CONF=expandable_segments:True to avoid fragmentation.  See documentation for Memory Management  (https://pytorch.org/docs/stable/notes/cuda.html#environment-variables)\n"
     ]
    },
    {
     "name": "stderr",
     "output_type": "stream",
     "text": [
      "Training:  64%|██████▍   | 53/83 [27:45<18:46, 37.56s/it, Loss=0.0143, Acc=86.48%]"
     ]
    },
    {
     "name": "stdout",
     "output_type": "stream",
     "text": [
      "GPU帧提取失败，回退到CPU: CUDA out of memory. Tried to allocate 4.42 GiB. GPU 0 has a total capacity of 14.74 GiB of which 2.35 GiB is free. Process 3714 has 12.39 GiB memory in use. 13.27 GiB allowed; Of the allocated memory 825.30 MiB is allocated by PyTorch, and 11.45 GiB is reserved by PyTorch but unallocated. If reserved but unallocated memory is large try setting PYTORCH_CUDA_ALLOC_CONF=expandable_segments:True to avoid fragmentation.  See documentation for Memory Management  (https://pytorch.org/docs/stable/notes/cuda.html#environment-variables)\n"
     ]
    },
    {
     "name": "stderr",
     "output_type": "stream",
     "text": [
      "Validation:  75%|███████▌  | 9/12 [04:31<01:23, 27.97s/it, Loss=0.0301, Acc=85.19%]"
     ]
    },
    {
     "name": "stdout",
     "output_type": "stream",
     "text": [
      "GPU帧提取失败，回退到CPU: CUDA out of memory. Tried to allocate 4.48 GiB. GPU 0 has a total capacity of 14.74 GiB of which 2.35 GiB is free. Process 3714 has 12.39 GiB memory in use. 13.27 GiB allowed; Of the allocated memory 862.05 MiB is allocated by PyTorch, and 11.41 GiB is reserved by PyTorch but unallocated. If reserved but unallocated memory is large try setting PYTORCH_CUDA_ALLOC_CONF=expandable_segments:True to avoid fragmentation.  See documentation for Memory Management  (https://pytorch.org/docs/stable/notes/cuda.html#environment-variables)\n"
     ]
    },
    {
     "name": "stderr",
     "output_type": "stream",
     "text": [
      "                                                                                    \r"
     ]
    },
    {
     "name": "stdout",
     "output_type": "stream",
     "text": [
      "训练: Loss=0.0294, Acc=83.33%, AUC=0.5670\n",
      "验证: Loss=0.0324, Acc=83.33%, AUC=0.3375\n",
      "学习率: 2.06e-04, 用时: 2964.4s\n",
      "\n",
      "Epoch 12/20\n"
     ]
    },
    {
     "name": "stderr",
     "output_type": "stream",
     "text": [
      "Training:  40%|███▉      | 33/83 [15:35<21:36, 25.93s/it, Loss=0.0449, Acc=82.83%]"
     ]
    },
    {
     "name": "stdout",
     "output_type": "stream",
     "text": [
      "GPU帧提取失败，回退到CPU: CUDA out of memory. Tried to allocate 4.07 GiB. GPU 0 has a total capacity of 14.74 GiB of which 2.35 GiB is free. Process 3714 has 12.39 GiB memory in use. 13.27 GiB allowed; Of the allocated memory 862.05 MiB is allocated by PyTorch, and 11.41 GiB is reserved by PyTorch but unallocated. If reserved but unallocated memory is large try setting PYTORCH_CUDA_ALLOC_CONF=expandable_segments:True to avoid fragmentation.  See documentation for Memory Management  (https://pytorch.org/docs/stable/notes/cuda.html#environment-variables)\n"
     ]
    },
    {
     "name": "stderr",
     "output_type": "stream",
     "text": [
      "Training:  52%|█████▏    | 43/83 [21:18<21:54, 32.86s/it, Loss=0.0151, Acc=84.11%]"
     ]
    },
    {
     "name": "stdout",
     "output_type": "stream",
     "text": [
      "GPU帧提取失败，回退到CPU: CUDA out of memory. Tried to allocate 4.07 GiB. GPU 0 has a total capacity of 14.74 GiB of which 2.35 GiB is free. Process 3714 has 12.39 GiB memory in use. 13.27 GiB allowed; Of the allocated memory 852.86 MiB is allocated by PyTorch, and 11.42 GiB is reserved by PyTorch but unallocated. If reserved but unallocated memory is large try setting PYTORCH_CUDA_ALLOC_CONF=expandable_segments:True to avoid fragmentation.  See documentation for Memory Management  (https://pytorch.org/docs/stable/notes/cuda.html#environment-variables)\n"
     ]
    },
    {
     "name": "stderr",
     "output_type": "stream",
     "text": [
      "Training:  54%|█████▍    | 45/83 [22:49<23:57, 37.82s/it, Loss=0.0263, Acc=83.33%]"
     ]
    },
    {
     "name": "stdout",
     "output_type": "stream",
     "text": [
      "GPU帧提取失败，回退到CPU: CUDA out of memory. Tried to allocate 4.42 GiB. GPU 0 has a total capacity of 14.74 GiB of which 2.35 GiB is free. Process 3714 has 12.39 GiB memory in use. 13.27 GiB allowed; Of the allocated memory 852.86 MiB is allocated by PyTorch, and 11.42 GiB is reserved by PyTorch but unallocated. If reserved but unallocated memory is large try setting PYTORCH_CUDA_ALLOC_CONF=expandable_segments:True to avoid fragmentation.  See documentation for Memory Management  (https://pytorch.org/docs/stable/notes/cuda.html#environment-variables)\n"
     ]
    },
    {
     "name": "stderr",
     "output_type": "stream",
     "text": [
      "Training:  94%|█████████▍| 78/83 [39:52<03:15, 39.15s/it, Loss=0.0336, Acc=82.91%]"
     ]
    },
    {
     "name": "stdout",
     "output_type": "stream",
     "text": [
      "GPU帧提取失败，回退到CPU: CUDA out of memory. Tried to allocate 4.27 GiB. GPU 0 has a total capacity of 14.74 GiB of which 2.35 GiB is free. Process 3714 has 12.39 GiB memory in use. 13.27 GiB allowed; Of the allocated memory 851.86 MiB is allocated by PyTorch, and 11.42 GiB is reserved by PyTorch but unallocated. If reserved but unallocated memory is large try setting PYTORCH_CUDA_ALLOC_CONF=expandable_segments:True to avoid fragmentation.  See documentation for Memory Management  (https://pytorch.org/docs/stable/notes/cuda.html#environment-variables)\n"
     ]
    },
    {
     "name": "stderr",
     "output_type": "stream",
     "text": [
      "Validation:  75%|███████▌  | 9/12 [04:29<01:23, 27.71s/it, Loss=0.0288, Acc=85.19%]"
     ]
    },
    {
     "name": "stdout",
     "output_type": "stream",
     "text": [
      "GPU帧提取失败，回退到CPU: CUDA out of memory. Tried to allocate 4.48 GiB. GPU 0 has a total capacity of 14.74 GiB of which 2.35 GiB is free. Process 3714 has 12.39 GiB memory in use. 13.27 GiB allowed; Of the allocated memory 862.05 MiB is allocated by PyTorch, and 11.41 GiB is reserved by PyTorch but unallocated. If reserved but unallocated memory is large try setting PYTORCH_CUDA_ALLOC_CONF=expandable_segments:True to avoid fragmentation.  See documentation for Memory Management  (https://pytorch.org/docs/stable/notes/cuda.html#environment-variables)\n"
     ]
    },
    {
     "name": "stderr",
     "output_type": "stream",
     "text": [
      "                                                                                    "
     ]
    },
    {
     "name": "stdout",
     "output_type": "stream",
     "text": [
      "训练: Loss=0.0299, Acc=83.53%, AUC=0.5593\n",
      "验证: Loss=0.0303, Acc=83.33%, AUC=0.4306\n",
      "学习率: 2.07e-04, 用时: 2962.7s\n",
      "\n",
      "⏹️ 早停触发，在第 12 轮停止训练\n",
      "\n",
      "✅ 训练完成!\n",
      "🏆 最终最佳性能: Loss=0.0295, Acc=83.33%, AUC=0.5278\n",
      "💾 峰值GPU内存使用: 11.7GB\n"
     ]
    },
    {
     "name": "stderr",
     "output_type": "stream",
     "text": [
      "\r"
     ]
    }
   ],
   "source": [
    "# Cell 12: 训练循环 - Kaggle T4 GPU优化版本\n",
    "\n",
    "# 确保模型保存目录存在\n",
    "os.makedirs('./models', exist_ok=True)\n",
    "\n",
    "print(\"🚀 开始训练...\")\n",
    "print(f\"📊 训练配置: {len(train_loader)} 个训练批次, {len(val_loader)} 个验证批次\")\n",
    "print(f\"🎯 模型参数数量: {sum(p.numel() for p in model.parameters()):,}\")\n",
    "print(f\"💾 设备: {device}\")\n",
    "print(f\"📦 批次大小: {batch_size}\")\n",
    "\n",
    "if torch.cuda.is_available():\n",
    "    print(f\"🎮 GPU: {torch.cuda.get_device_name(0)}\")\n",
    "    torch.cuda.reset_peak_memory_stats()\n",
    "\n",
    "# 训练历史记录\n",
    "train_history = {\n",
    "    'train_loss': [],\n",
    "    'val_loss': [],\n",
    "    'train_acc': [],\n",
    "    'val_acc': [],\n",
    "    'train_auc': [],\n",
    "    'val_auc': []\n",
    "}\n",
    "best_val_loss = float('inf')\n",
    "best_val_acc = 0.0\n",
    "best_val_auc = 0.0\n",
    "best_model_state = None\n",
    "\n",
    "# 训练循环\n",
    "print(\"\\n🔄 开始训练循环...\")\n",
    "for epoch in range(num_epochs):\n",
    "    epoch_start_time = time.time()\n",
    "    print(f\"\\nEpoch {epoch+1}/{num_epochs}\")\n",
    "    \n",
    "    # 训练阶段\n",
    "    train_loss, train_acc, train_auc = train_epoch(model, train_loader, criterion, optimizer, device, scaler)\n",
    "    \n",
    "    # 验证阶段\n",
    "    val_loss, val_acc, val_auc = validate_epoch(model, val_loader, criterion, device, scaler)\n",
    "    \n",
    "    # 记录历史\n",
    "    train_history['train_loss'].append(train_loss)\n",
    "    train_history['train_acc'].append(train_acc)\n",
    "    train_history['train_auc'].append(train_auc)\n",
    "    train_history['val_loss'].append(val_loss)\n",
    "    train_history['val_acc'].append(val_acc)\n",
    "    train_history['val_auc'].append(val_auc)\n",
    "    \n",
    "    # 学习率调度\n",
    "    scheduler.step()\n",
    "    current_lr = optimizer.param_groups[0]['lr']\n",
    "    \n",
    "    # 计算epoch时间\n",
    "    epoch_time = time.time() - epoch_start_time\n",
    "    \n",
    "    # 打印结果\n",
    "    print(f\"训练: Loss={train_loss:.4f}, Acc={train_acc:.2f}%, AUC={train_auc:.4f}\")\n",
    "    print(f\"验证: Loss={val_loss:.4f}, Acc={val_acc:.2f}%, AUC={val_auc:.4f}\")\n",
    "    print(f\"学习率: {current_lr:.2e}, 用时: {epoch_time:.1f}s\")\n",
    "    \n",
    "    # 保存最佳模型\n",
    "    if val_loss < best_val_loss:\n",
    "        best_val_loss = val_loss\n",
    "        best_val_acc = val_acc\n",
    "        best_val_auc = val_auc\n",
    "        best_model_state = model.state_dict().copy()\n",
    "        print(f\"🎯 新的最佳模型! Loss: {best_val_loss:.4f}, Acc: {best_val_acc:.2f}%, AUC: {best_val_auc:.4f}\")\n",
    "        \n",
    "        # 保存最佳模型到文件\n",
    "        torch.save({\n",
    "            'epoch': epoch,\n",
    "            'model_state_dict': best_model_state,\n",
    "            'optimizer_state_dict': optimizer.state_dict(),\n",
    "            'best_val_loss': best_val_loss,\n",
    "            'best_val_acc': best_val_acc,\n",
    "            'best_val_auc': best_val_auc,\n",
    "            'train_history': train_history\n",
    "        }, './models/best_model.pth')\n",
    "        print(\"💾 最佳模型已保存\")\n",
    "    \n",
    "    # 早停检查\n",
    "    if early_stopping(val_loss, model):\n",
    "        print(f\"\\n⏹️ 早停触发，在第 {epoch+1} 轮停止训练\")\n",
    "        break\n",
    "    \n",
    "    # 清理GPU缓存\n",
    "    if torch.cuda.is_available():\n",
    "        torch.cuda.empty_cache()\n",
    "\n",
    "print(\"\\n✅ 训练完成!\")\n",
    "print(f\"🏆 最终最佳性能: Loss={best_val_loss:.4f}, Acc={best_val_acc:.2f}%, AUC={best_val_auc:.4f}\")\n",
    "if torch.cuda.is_available():\n",
    "    print(f\"💾 峰值GPU内存使用: {torch.cuda.max_memory_allocated() / 1024**3:.1f}GB\")"
   ]
  },
  {
   "cell_type": "markdown",
   "id": "a0a3ad5a",
   "metadata": {
    "papermill": {
     "duration": 0.144674,
     "end_time": "2025-07-07T11:18:27.773941",
     "exception": false,
     "start_time": "2025-07-07T11:18:27.629267",
     "status": "completed"
    },
    "tags": []
   },
   "source": [
    "# Cell 13: 模型评估和结果分析\n"
   ]
  },
  {
   "cell_type": "code",
   "execution_count": 14,
   "id": "fbb5a783",
   "metadata": {
    "execution": {
     "iopub.execute_input": "2025-07-07T11:18:28.078040Z",
     "iopub.status.busy": "2025-07-07T11:18:28.077659Z",
     "iopub.status.idle": "2025-07-07T11:29:16.648819Z",
     "shell.execute_reply": "2025-07-07T11:29:16.648005Z"
    },
    "papermill": {
     "duration": 648.739287,
     "end_time": "2025-07-07T11:29:16.650863",
     "exception": false,
     "start_time": "2025-07-07T11:18:27.911576",
     "status": "completed"
    },
    "tags": []
   },
   "outputs": [
    {
     "name": "stdout",
     "output_type": "stream",
     "text": [
      "📊 开始模型评估...\n",
      "============================================================\n",
      "🔄 加载最佳模型...\n",
      "✅ 成功加载第 5 轮的最佳模型\n",
      "最佳验证准确率: 83.33%\n",
      "最佳验证AUC: 0.5278\n",
      "\n",
      "🔍 在测试集上评估模型...\n",
      "🚀 开始模型评估...\n"
     ]
    },
    {
     "name": "stderr",
     "output_type": "stream",
     "text": [
      "评估进度: 100%|██████████| 25/25 [10:45<00:00, 25.80s/it]\n"
     ]
    },
    {
     "name": "stdout",
     "output_type": "stream",
     "text": [
      "✅ 评估完成\n",
      "平均损失: 0.0295\n",
      "平均推理时间: 63.25 ms/batch\n",
      "\n",
      "📈 计算评估指标...\n",
      "\n",
      "📊 详细评估结果:\n",
      "==================================================\n",
      "测试损失: 0.0295\n",
      "准确率: 0.8288 (82.88%)\n",
      "平衡准确率: 0.5000 (50.00%)\n",
      "精确率: 0.8288\n",
      "召回率: 1.0000\n",
      "特异性: 0.0000\n",
      "F1分数: 0.9064\n",
      "AUC-ROC: 0.5312\n",
      "AUC-PR: 0.8300\n",
      "负预测值: 0.0000\n",
      "\n",
      "🔍 混淆矩阵分析:\n",
      "真负例 (TN): 0\n",
      "假正例 (FP): 25\n",
      "假负例 (FN): 0\n",
      "真正例 (TP): 121\n",
      "\n",
      "⚡ 性能分析:\n",
      "平均推理时间: 63.25 ms/batch\n",
      "总推理时间: 1.58 秒\n",
      "每个样本推理时间: 10.54 ms\n",
      "\n",
      "📋 类别特定分析:\n",
      "总样本数: 146\n",
      "真实视频样本: 25 (17.1%)\n",
      "伪造视频样本: 121 (82.9%)\n",
      "真实视频检测准确率: 0.0000 (0.00%)\n",
      "伪造视频检测准确率: 1.0000 (100.00%)\n",
      "\n",
      "📊 生成评估图表...\n"
     ]
    },
    {
     "data": {
      "image/png": "[encoded data removed]",
      "text/plain": [
       "<Figure size 1000x800 with 2 Axes>"
      ]
     },
     "metadata": {},
     "output_type": "display_data"
    },
    {
     "name": "stdout",
     "output_type": "stream",
     "text": [
      "混淆矩阵已保存到: ./results/evaluation/confusion_matrix.png\n"
     ]
    },
    {
     "data": {
      "image/png": "[encoded data removed]",
      "text/plain": [
       "<Figure size 1500x600 with 2 Axes>"
      ]
     },
     "metadata": {},
     "output_type": "display_data"
    },
    {
     "name": "stdout",
     "output_type": "stream",
     "text": [
      "ROC/PR曲线已保存到: ./results/evaluation/roc_pr_curves.png\n"
     ]
    },
    {
     "data": {
      "image/png": "[encoded data removed]",
      "text/plain": [
       "<Figure size 1200x500 with 2 Axes>"
      ]
     },
     "metadata": {},
     "output_type": "display_data"
    },
    {
     "name": "stdout",
     "output_type": "stream",
     "text": [
      "✅ 评估图表生成完成\n",
      "============================================================\n",
      "🎉 模型评估完成！\n",
      "📁 所有结果已保存到 ./results/evaluation/ 目录\n"
     ]
    }
   ],
   "source": [
    "# Cell 13: 模型评估和结果分析\n",
    "\n",
    "print(\"📊 开始模型评估...\")\n",
    "print(\"=\" * 60)\n",
    "\n",
    "# 加载最佳模型\n",
    "print(\"🔄 加载最佳模型...\")\n",
    "try:\n",
    "    # 使用weights_only=False来兼容旧版本的模型文件\n",
    "    checkpoint = torch.load('./models/best_model.pth', map_location=device, weights_only=False)\n",
    "    model.load_state_dict(checkpoint['model_state_dict'])\n",
    "    best_epoch = checkpoint['epoch']\n",
    "    best_val_acc = checkpoint['best_val_acc']\n",
    "    best_val_auc = checkpoint['best_val_auc']\n",
    "    \n",
    "    print(f\"✅ 成功加载第 {best_epoch+1} 轮的最佳模型\")\n",
    "    print(f\"最佳验证准确率: {best_val_acc:.2f}%\")\n",
    "    print(f\"最佳验证AUC: {best_val_auc:.4f}\")\n",
    "except Exception as e:\n",
    "    print(f\"❌ 加载模型失败: {e}\")\n",
    "    print(\"使用当前模型进行评估\")\n",
    "\n",
    "# 在测试集上评估模型\n",
    "print(\"\\n🔍 在测试集上评估模型...\")\n",
    "eval_results = evaluate_model_optimized(model, test_loader, criterion, device)\n",
    "\n",
    "# 计算全面的评估指标\n",
    "print(\"\\n📈 计算评估指标...\")\n",
    "metrics = calculate_comprehensive_metrics(\n",
    "    eval_results['predictions'], \n",
    "    eval_results['targets'], \n",
    "    eval_results['scores']\n",
    ")\n",
    "\n",
    "# 打印详细结果\n",
    "print(\"\\n📊 详细评估结果:\")\n",
    "print(\"=\" * 50)\n",
    "print(f\"测试损失: {eval_results['loss']:.4f}\")\n",
    "print(f\"准确率: {metrics['accuracy']:.4f} ({metrics['accuracy']*100:.2f}%)\")\n",
    "print(f\"平衡准确率: {metrics['balanced_accuracy']:.4f} ({metrics['balanced_accuracy']*100:.2f}%)\")\n",
    "print(f\"精确率: {metrics['precision']:.4f}\")\n",
    "print(f\"召回率: {metrics['recall']:.4f}\")\n",
    "print(f\"特异性: {metrics['specificity']:.4f}\")\n",
    "print(f\"F1分数: {metrics['f1']:.4f}\")\n",
    "print(f\"AUC-ROC: {metrics['auc_roc']:.4f}\")\n",
    "print(f\"AUC-PR: {metrics['auc_pr']:.4f}\")\n",
    "print(f\"负预测值: {metrics['npv']:.4f}\")\n",
    "\n",
    "# 混淆矩阵详细信息\n",
    "print(\"\\n🔍 混淆矩阵分析:\")\n",
    "print(f\"真负例 (TN): {metrics['tn']}\")\n",
    "print(f\"假正例 (FP): {metrics['fp']}\")\n",
    "print(f\"假负例 (FN): {metrics['fn']}\")\n",
    "print(f\"真正例 (TP): {metrics['tp']}\")\n",
    "\n",
    "# 性能分析\n",
    "print(\"\\n⚡ 性能分析:\")\n",
    "print(f\"平均推理时间: {eval_results['avg_inference_time']*1000:.2f} ms/batch\")\n",
    "print(f\"总推理时间: {eval_results['total_inference_time']:.2f} 秒\")\n",
    "print(f\"每个样本推理时间: {eval_results['avg_inference_time']*1000/batch_size:.2f} ms\")\n",
    "\n",
    "# 计算额外指标\n",
    "total_samples = len(eval_results['targets'])\n",
    "real_samples = np.sum(eval_results['targets'] == 0)\n",
    "fake_samples = np.sum(eval_results['targets'] == 1)\n",
    "real_accuracy = np.sum((eval_results['predictions'] == 0) & (eval_results['targets'] == 0)) / real_samples if real_samples > 0 else 0\n",
    "fake_accuracy = np.sum((eval_results['predictions'] == 1) & (eval_results['targets'] == 1)) / fake_samples if fake_samples > 0 else 0\n",
    "\n",
    "print(\"\\n📋 类别特定分析:\")\n",
    "print(f\"总样本数: {total_samples}\")\n",
    "print(f\"真实视频样本: {real_samples} ({real_samples/total_samples*100:.1f}%)\")\n",
    "print(f\"伪造视频样本: {fake_samples} ({fake_samples/total_samples*100:.1f}%)\")\n",
    "print(f\"真实视频检测准确率: {real_accuracy:.4f} ({real_accuracy*100:.2f}%)\")\n",
    "print(f\"伪造视频检测准确率: {fake_accuracy:.4f} ({fake_accuracy*100:.2f}%)\")\n",
    "\n",
    "# 生成可视化图表\n",
    "print(\"\\n📊 生成评估图表...\")\n",
    "\n",
    "# 确保结果目录存在\n",
    "os.makedirs('./results/evaluation', exist_ok=True)\n",
    "\n",
    "# 绘制增强混淆矩阵\n",
    "plot_enhanced_confusion_matrix(\n",
    "    metrics['confusion_matrix'], \n",
    "    './results/evaluation/confusion_matrix.png'\n",
    ")\n",
    "\n",
    "# 绘制ROC和PR曲线\n",
    "plot_roc_pr_curves(\n",
    "    eval_results['targets'], \n",
    "    eval_results['scores'], \n",
    "    './results/evaluation/roc_pr_curves.png'\n",
    ")\n",
    "\n",
    "# 预测分数分布图\n",
    "plt.figure(figsize=(12, 5))\n",
    "\n",
    "# 真实视频的预测分数分布\n",
    "plt.subplot(1, 2, 1)\n",
    "real_scores = eval_results['scores'][eval_results['targets'] == 0]\n",
    "fake_scores = eval_results['scores'][eval_results['targets'] == 1]\n",
    "\n",
    "plt.hist(real_scores, bins=30, alpha=0.7, label='真实视频', color='blue', density=True)\n",
    "plt.hist(fake_scores, bins=30, alpha=0.7, label='伪造视频', color='red', density=True)\n",
    "plt.xlabel('预测分数')\n",
    "plt.ylabel('密度')\n",
    "plt.title('预测分数分布')\n",
    "plt.legend()\n",
    "plt.grid(True, alpha=0.3)\n",
    "\n",
    "# 预测分数箱线图\n",
    "plt.subplot(1, 2, 2)\n",
    "scores_data = [real_scores, fake_scores]\n",
    "labels = ['真实视频', '伪造视频']\n",
    "plt.boxplot(scores_data, labels=labels)\n",
    "plt.ylabel('预测分数')\n",
    "plt.title('预测分数箱线图')\n",
    "plt.grid(True, alpha=0.3)\n",
    "\n",
    "plt.tight_layout()\n",
    "plt.savefig('./results/evaluation/score_distribution.png', dpi=300, bbox_inches='tight')\n",
    "plt.show()\n",
    "\n",
    "print(\"✅ 评估图表生成完成\")\n",
    "print(\"=\" * 60)\n",
    "print(\"🎉 模型评估完成！\")\n",
    "print(\"📁 所有结果已保存到 ./results/evaluation/ 目录\")"
   ]
  },
  {
   "cell_type": "markdown",
   "id": "62a53b20",
   "metadata": {
    "papermill": {
     "duration": 0.143811,
     "end_time": "2025-07-07T11:29:16.952388",
     "exception": false,
     "start_time": "2025-07-07T11:29:16.808577",
     "status": "completed"
    },
    "tags": []
   },
   "source": [
    "# Cell 14: 结果保存和总结\n"
   ]
  },
  {
   "cell_type": "code",
   "execution_count": 15,
   "id": "46d5ee2e",
   "metadata": {
    "execution": {
     "iopub.execute_input": "2025-07-07T11:29:17.244009Z",
     "iopub.status.busy": "2025-07-07T11:29:17.243647Z",
     "iopub.status.idle": "2025-07-07T11:29:17.263264Z",
     "shell.execute_reply": "2025-07-07T11:29:17.262504Z"
    },
    "papermill": {
     "duration": 0.167214,
     "end_time": "2025-07-07T11:29:17.264446",
     "exception": false,
     "start_time": "2025-07-07T11:29:17.097232",
     "status": "completed"
    },
    "tags": []
   },
   "outputs": [
    {
     "name": "stdout",
     "output_type": "stream",
     "text": [
      "💾 保存实验结果...\n",
      "============================================================\n",
      "✅ 实验结果已保存到: ./results/experiment_results.json\n",
      "✅ 训练历史已保存到: ./results/training_history.csv\n",
      "✅ 测试预测结果已保存到: ./results/test_predictions.csv\n",
      "\n",
      "📋 生成实验报告...\n",
      "✅ 实验报告已保存到: ./results/experiment_report.txt\n",
      "\n",
      "============================================================\n",
      "🎉 深度伪造检测模型训练和评估完成！\n",
      "============================================================\n",
      "📊 最终测试准确率: 82.88%\n",
      "📊 AUC-ROC分数: 0.5312\n",
      "📊 F1分数: 0.9064\n",
      "\n",
      "📁 所有结果文件已保存到 ./results/ 目录\n",
      "📁 最佳模型已保存到 ./models/best_model.pth\n",
      "\n",
      "✨ 实验成功完成！\n",
      "============================================================\n",
      "\n",
      "📂 生成的文件结构:\n",
      "\n",
      "./models/\n",
      "  └── best_model.pth\n",
      "./results/\n",
      "  ├── experiment_results.json\n",
      "  ├── experiment_report.txt\n",
      "  ├── training_history.csv\n",
      "  └── test_predictions.csv\n",
      "\n",
      "\n",
      "🚀 可以使用以下代码加载训练好的模型进行推理:\n",
      "\n",
      "# 加载模型\n",
      "model = OptimizedDeepfakeDetector(...)\n",
      "checkpoint = torch.load('./models/best_model.pth', weights_only=False)\n",
      "model.load_state_dict(checkpoint['model_state_dict'])\n",
      "model.eval()\n",
      "\n",
      "\n",
      "✅ Kaggle T4 GPU优化版本 - 训练完成！\n"
     ]
    }
   ],
   "source": [
    "# Cell 14: 结果保存和总结\n",
    "\n",
    "print(\"💾 保存实验结果...\")\n",
    "print(\"=\" * 60)\n",
    "\n",
    "# 确保结果目录存在\n",
    "os.makedirs('./results', exist_ok=True)\n",
    "\n",
    "# 准备保存的结果数据\n",
    "results_summary = {\n",
    "    'experiment_info': {\n",
    "        'timestamp': datetime.now().isoformat(),\n",
    "        'model_architecture': 'OptimizedDeepfakeDetector',\n",
    "        'backbone': 'resnet50',\n",
    "        'total_epochs': len(train_history['train_loss']),\n",
    "        'early_stopping': True\n",
    "    },\n",
    "    'dataset_info': {\n",
    "        'train_samples': len(train_dataset),\n",
    "        'val_samples': len(val_dataset),\n",
    "        'test_samples': len(test_dataset),\n",
    "        'batch_size': batch_size\n",
    "    },\n",
    "    'training_config': {\n",
    "        'optimizer': 'AdamW',\n",
    "        'learning_rate': 1e-4,\n",
    "        'weight_decay': 1e-4,\n",
    "        'loss_function': 'FocalLoss',\n",
    "        'scheduler': 'OneCycleLR',\n",
    "        'early_stopping_patience': 7\n",
    "    },\n",
    "    'final_metrics': {\n",
    "        'test_loss': float(eval_results['loss']),\n",
    "        'accuracy': float(metrics['accuracy']),\n",
    "        'precision': float(metrics['precision']),\n",
    "        'recall': float(metrics['recall']),\n",
    "        'f1_score': float(metrics['f1']),\n",
    "        'auc_roc': float(metrics['auc_roc'])\n",
    "    },\n",
    "    'confusion_matrix': {\n",
    "        'tn': int(metrics['tn']),\n",
    "        'fp': int(metrics['fp']),\n",
    "        'fn': int(metrics['fn']),\n",
    "        'tp': int(metrics['tp'])\n",
    "    },\n",
    "    'training_history': {\n",
    "        'train_loss': [float(x) for x in train_history['train_loss']],\n",
    "        'train_acc': [float(x) for x in train_history['train_acc']],\n",
    "        'train_auc': [float(x) for x in train_history['train_auc']],\n",
    "        'val_loss': [float(x) for x in train_history['val_loss']],\n",
    "        'val_acc': [float(x) for x in train_history['val_acc']],\n",
    "        'val_auc': [float(x) for x in train_history['val_auc']]\n",
    "    },\n",
    "    'class_specific_metrics': {\n",
    "        'real_video_accuracy': float(real_accuracy),\n",
    "        'fake_video_accuracy': float(fake_accuracy),\n",
    "        'real_samples_count': int(real_samples),\n",
    "        'fake_samples_count': int(fake_samples)\n",
    "    }\n",
    "}\n",
    "\n",
    "# 保存结果到JSON文件\n",
    "results_file = './results/experiment_results.json'\n",
    "with open(results_file, 'w', encoding='utf-8') as f:\n",
    "    json.dump(results_summary, f, indent=2, ensure_ascii=False)\n",
    "\n",
    "print(f\"✅ 实验结果已保存到: {results_file}\")\n",
    "\n",
    "# 保存训练历史到CSV\n",
    "history_df = pd.DataFrame(train_history)\n",
    "history_df.to_csv('./results/training_history.csv', index=False)\n",
    "print(\"✅ 训练历史已保存到: ./results/training_history.csv\")\n",
    "\n",
    "# 保存预测结果\n",
    "predictions_df = pd.DataFrame({\n",
    "    'true_label': eval_results['targets'],\n",
    "    'predicted_label': eval_results['predictions'],\n",
    "    'prediction_score': eval_results['scores']\n",
    "})\n",
    "predictions_df.to_csv('./results/test_predictions.csv', index=False)\n",
    "print(\"✅ 测试预测结果已保存到: ./results/test_predictions.csv\")\n",
    "\n",
    "# 生成实验报告\n",
    "print(\"\\n📋 生成实验报告...\")\n",
    "report = f\"\"\"\n",
    "深度伪造检测模型实验报告\n",
    "{'='*50}\n",
    "\n",
    "实验时间: {datetime.now().strftime('%Y-%m-%d %H:%M:%S')}\n",
    "模型架构: OptimizedDeepfakeDetector (ResNet50 + LSTM + Attention)\n",
    "\n",
    "数据集信息:\n",
    "- 训练样本: {len(train_dataset):,}\n",
    "- 验证样本: {len(val_dataset):,}\n",
    "- 测试样本: {len(test_dataset):,}\n",
    "- 批次大小: {batch_size}\n",
    "\n",
    "训练配置:\n",
    "- 优化器: AdamW (lr=1e-4, weight_decay=1e-4)\n",
    "- 损失函数: Focal Loss\n",
    "- 学习率调度: OneCycleLR\n",
    "- 早停机制: patience=7\n",
    "\n",
    "最终性能指标:\n",
    "- 准确率: {metrics['accuracy']*100:.2f}%\n",
    "- 精确率: {metrics['precision']:.4f}\n",
    "- 召回率: {metrics['recall']:.4f}\n",
    "- F1分数: {metrics['f1']:.4f}\n",
    "- AUC-ROC: {metrics['auc_roc']:.4f}\n",
    "\n",
    "混淆矩阵:\n",
    "- 真负例 (TN): {metrics['tn']}\n",
    "- 假正例 (FP): {metrics['fp']}\n",
    "- 假负例 (FN): {metrics['fn']}\n",
    "- 真正例 (TP): {metrics['tp']}\n",
    "\n",
    "类别特定性能:\n",
    "- 真实视频检测准确率: {real_accuracy*100:.2f}%\n",
    "- 伪造视频检测准确率: {fake_accuracy*100:.2f}%\n",
    "\n",
    "训练总结:\n",
    "- 训练轮数: {len(train_history['train_loss'])}\n",
    "- 最佳验证准确率: {max(train_history['val_acc']):.2f}%\n",
    "- 最佳验证AUC: {max(train_history['val_auc']):.4f}\n",
    "\n",
    "文件输出:\n",
    "- 模型权重: ./models/best_model.pth\n",
    "- 实验结果: ./results/experiment_results.json\n",
    "- 训练历史: ./results/training_history.csv\n",
    "- 预测结果: ./results/test_predictions.csv\n",
    "\n",
    "{'='*50}\n",
    "实验完成时间: {datetime.now().strftime('%Y-%m-%d %H:%M:%S')}\n",
    "\"\"\"\n",
    "\n",
    "# 保存报告\n",
    "with open('./results/experiment_report.txt', 'w', encoding='utf-8') as f:\n",
    "    f.write(report)\n",
    "\n",
    "print(\"✅ 实验报告已保存到: ./results/experiment_report.txt\")\n",
    "\n",
    "# 打印最终总结\n",
    "print(\"\\n\" + \"=\"*60)\n",
    "print(\"🎉 深度伪造检测模型训练和评估完成！\")\n",
    "print(\"=\"*60)\n",
    "print(f\"📊 最终测试准确率: {metrics['accuracy']*100:.2f}%\")\n",
    "print(f\"📊 AUC-ROC分数: {metrics['auc_roc']:.4f}\")\n",
    "print(f\"📊 F1分数: {metrics['f1']:.4f}\")\n",
    "print(\"\\n📁 所有结果文件已保存到 ./results/ 目录\")\n",
    "print(\"📁 最佳模型已保存到 ./models/best_model.pth\")\n",
    "print(\"\\n✨ 实验成功完成！\")\n",
    "print(\"=\"*60)\n",
    "\n",
    "# 显示文件结构\n",
    "print(\"\\n📂 生成的文件结构:\")\n",
    "print(\"\"\"\n",
    "./models/\n",
    "  └── best_model.pth\n",
    "./results/\n",
    "  ├── experiment_results.json\n",
    "  ├── experiment_report.txt\n",
    "  ├── training_history.csv\n",
    "  └── test_predictions.csv\n",
    "\"\"\")\n",
    "\n",
    "print(\"\\n🚀 可以使用以下代码加载训练好的模型进行推理:\")\n",
    "print(\"\"\"\n",
    "# 加载模型\n",
    "model = OptimizedDeepfakeDetector(...)\n",
    "checkpoint = torch.load('./models/best_model.pth', weights_only=False)\n",
    "model.load_state_dict(checkpoint['model_state_dict'])\n",
    "model.eval()\n",
    "\"\"\")\n",
    "\n",
    "print(\"\\n✅ Kaggle T4 GPU优化版本 - 训练完成！\")"
   ]
  }
 ],
 "metadata": {
  "kaggle": {
   "accelerator": "nvidiaTeslaT4",
   "dataSources": [
    {
     "datasetId": 6248577,
     "sourceId": 10125851,
     "sourceType": "datasetVersion"
    }
   ],
   "dockerImageVersionId": 31041,
   "isGpuEnabled": true,
   "isInternetEnabled": true,
   "language": "python",
   "sourceType": "notebook"
  },
  "kernelspec": {
   "display_name": "Python 3",
   "language": "python",
   "name": "python3"
  },
  "language_info": {
   "codemirror_mode": {
    "name": "ipython",
    "version": 3
   },
   "file_extension": ".py",
   "mimetype": "text/x-python",
   "name": "python",
   "nbconvert_exporter": "python",
   "pygments_lexer": "ipython3",
   "version": "3.11.11"
  },
  "papermill": {
   "default_parameters": {},
   "duration": 39709.976625,
   "end_time": "2025-07-07T11:29:20.870431",
   "environment_variables": {},
   "exception": null,
   "input_path": "__notebook__.ipynb",
   "output_path": "__notebook__.ipynb",
   "parameters": {},
   "start_time": "2025-07-07T00:27:30.893806",
   "version": "2.6.0"
  }
 },
 "nbformat": 4,
 "nbformat_minor": 5
}
