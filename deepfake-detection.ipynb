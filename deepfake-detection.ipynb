{
 "cells": [
  {
   "cell_type": "code",
   "execution_count": 1,
   "id": "f1aa365e",
   "metadata": {
    "execution": {
     "iopub.execute_input": "2025-07-18T08:48:19.103532Z",
     "iopub.status.busy": "2025-07-18T08:48:19.103233Z",
     "iopub.status.idle": "2025-07-18T08:48:26.021405Z",
     "shell.execute_reply": "2025-07-18T08:48:26.020304Z"
    },
    "papermill": {
     "duration": 6.928818,
     "end_time": "2025-07-18T08:48:26.023180",
     "exception": false,
     "start_time": "2025-07-18T08:48:19.094362",
     "status": "completed"
    },
    "tags": []
   },
   "outputs": [
    {
     "name": "stdout",
     "output_type": "stream",
     "text": [
      "Collecting av\r\n",
      "  Downloading av-15.0.0-cp311-cp311-manylinux_2_28_x86_64.whl.metadata (4.6 kB)\r\n",
      "Downloading av-15.0.0-cp311-cp311-manylinux_2_28_x86_64.whl (39.7 MB)\r\n",
      "\u001b[2K   \u001b[90m━━━━━━━━━━━━━━━━━━━━━━━━━━━━━━━━━━━━━━━━\u001b[0m \u001b[32m39.7/39.7 MB\u001b[0m \u001b[31m40.4 MB/s\u001b[0m eta \u001b[36m0:00:00\u001b[0m\r\n",
      "\u001b[?25hInstalling collected packages: av\r\n",
      "Successfully installed av-15.0.0\r\n"
     ]
    }
   ],
   "source": [
    "!pip install av"
   ]
  },
  {
   "cell_type": "markdown",
   "id": "70f662eb",
   "metadata": {
    "papermill": {
     "duration": 0.006467,
     "end_time": "2025-07-18T08:48:26.036999",
     "exception": false,
     "start_time": "2025-07-18T08:48:26.030532",
     "status": "completed"
    },
    "tags": []
   },
   "source": [
    "# Cell 1: 导入库和环境设置"
   ]
  },
  {
   "cell_type": "code",
   "execution_count": 2,
   "id": "f89ce383",
   "metadata": {
    "_cell_guid": "4883bd2d-9463-4607-9e61-df4d76492a78",
    "_uuid": "f6ebcf0d-d34a-4e53-b9c4-c85254661e41",
    "collapsed": false,
    "execution": {
     "iopub.execute_input": "2025-07-18T08:48:26.052910Z",
     "iopub.status.busy": "2025-07-18T08:48:26.052102Z",
     "iopub.status.idle": "2025-07-18T08:48:46.739242Z",
     "shell.execute_reply": "2025-07-18T08:48:46.738045Z"
    },
    "jupyter": {
     "outputs_hidden": false
    },
    "papermill": {
     "duration": 20.696874,
     "end_time": "2025-07-18T08:48:46.740722",
     "exception": false,
     "start_time": "2025-07-18T08:48:26.043848",
     "status": "completed"
    },
    "tags": []
   },
   "outputs": [
    {
     "name": "stdout",
     "output_type": "stream",
     "text": [
      "✅ PyAV已安装，支持GPU视频处理\n",
      "✅ 所有库导入完成\n"
     ]
    }
   ],
   "source": [
    "# Cell 1: 导入库和环境设置\n",
    "\n",
    "# 修复CUDA多进程问题\n",
    "import multiprocessing as mp\n",
    "try:\n",
    "    mp.set_start_method('spawn', force=True)\n",
    "except RuntimeError:\n",
    "    pass  # 如果已经设置过，忽略错误\n",
    "\n",
    "import os\n",
    "import cv2\n",
    "import numpy as np\n",
    "import pandas as pd\n",
    "import matplotlib.pyplot as plt\n",
    "import seaborn as sns\n",
    "from tqdm import tqdm\n",
    "import random\n",
    "import warnings\n",
    "import gc\n",
    "import json\n",
    "import time\n",
    "import sys\n",
    "from pathlib import Path\n",
    "from datetime import datetime\n",
    "warnings.filterwarnings('ignore')\n",
    "\n",
    "# PyTorch相关\n",
    "import torch\n",
    "import torch.nn as nn\n",
    "import torch.optim as optim\n",
    "import torch.nn.functional as F\n",
    "from torch.utils.data import Dataset, DataLoader\n",
    "import torchvision.transforms as transforms\n",
    "import torchvision.transforms.functional as TF\n",
    "import torchvision.models as models\n",
    "from torchvision.io import read_video\n",
    "from torch.optim.lr_scheduler import CosineAnnealingWarmRestarts, ReduceLROnPlateau\n",
    "from torch.cuda.amp import GradScaler, autocast\n",
    "\n",
    "# 机器学习指标\n",
    "from sklearn.metrics import (\n",
    "    accuracy_score, precision_score, recall_score, f1_score,\n",
    "    roc_auc_score, confusion_matrix, classification_report,\n",
    "    roc_curve, auc, precision_recall_curve, balanced_accuracy_score\n",
    ")\n",
    "from sklearn.model_selection import train_test_split\n",
    "\n",
    "# 系统监控和性能分析\n",
    "import psutil\n",
    "import traceback\n",
    "\n",
    "\n",
    "# 视频处理 (PyAV)\n",
    "try:\n",
    "    import av\n",
    "    PYAV_AVAILABLE = True\n",
    "    print(\"✅ PyAV已安装，支持GPU视频处理\")\n",
    "except ImportError:\n",
    "    PYAV_AVAILABLE = False\n",
    "    print(\"⚠️ PyAV未安装，视频处理将回退到CPU模式\")\n",
    "\n",
    "# 数据增强\n",
    "try:\n",
    "    import albumentations as A\n",
    "    from albumentations.pytorch import ToTensorV2\n",
    "    ALBUMENTATIONS_AVAILABLE = True\n",
    "except ImportError:\n",
    "    ALBUMENTATIONS_AVAILABLE = False\n",
    "    print(\"警告: albumentations未安装，将使用基础数据增强\")\n",
    "\n",
    "print(\"✅ 所有库导入完成\")"
   ]
  },
  {
   "cell_type": "markdown",
   "id": "a8c905cd",
   "metadata": {
    "papermill": {
     "duration": 0.00597,
     "end_time": "2025-07-18T08:48:46.753330",
     "exception": false,
     "start_time": "2025-07-18T08:48:46.747360",
     "status": "completed"
    },
    "tags": []
   },
   "source": [
    "# Cell 2: 全局配置和工具函数"
   ]
  },
  {
   "cell_type": "code",
   "execution_count": 3,
   "id": "0989ee9b",
   "metadata": {
    "execution": {
     "iopub.execute_input": "2025-07-18T08:48:46.766383Z",
     "iopub.status.busy": "2025-07-18T08:48:46.765946Z",
     "iopub.status.idle": "2025-07-18T08:48:47.090795Z",
     "shell.execute_reply": "2025-07-18T08:48:47.089983Z"
    },
    "papermill": {
     "duration": 0.332742,
     "end_time": "2025-07-18T08:48:47.092047",
     "exception": false,
     "start_time": "2025-07-18T08:48:46.759305",
     "status": "completed"
    },
    "tags": []
   },
   "outputs": [
    {
     "name": "stdout",
     "output_type": "stream",
     "text": [
      "使用设备: cuda\n",
      "GPU型号: Tesla T4\n",
      "GPU内存: 14.7 GB\n",
      "✅ Kaggle T4 GPU优化配置已启用\n",
      "数据类型策略: FP32 (兼容性优先)\n",
      "环境: Kaggle\n",
      "数据基础路径: /kaggle/input/ff-c23/FaceForensics++_C23\n",
      "✅ 环境设置完成\n"
     ]
    }
   ],
   "source": [
    "# Cell 2: 全局配置和工具函数 - Kaggle T4 优化版本\n",
    "\n",
    "def set_seed(seed=42):\n",
    "    \"\"\"设置随机种子确保可重复性\"\"\"\n",
    "    random.seed(seed)\n",
    "    np.random.seed(seed)\n",
    "    torch.manual_seed(seed)\n",
    "    if torch.cuda.is_available():\n",
    "        torch.cuda.manual_seed(seed)\n",
    "        torch.cuda.manual_seed_all(seed)\n",
    "    # Kaggle环境优化：平衡性能和可重复性\n",
    "    torch.backends.cudnn.deterministic = False\n",
    "    torch.backends.cudnn.benchmark = True\n",
    "\n",
    "set_seed(42)\n",
    "\n",
    "# Kaggle T4 GPU配置\n",
    "device = torch.device('cuda' if torch.cuda.is_available() else 'cpu')\n",
    "print(f\"使用设备: {device}\")\n",
    "\n",
    "if torch.cuda.is_available():\n",
    "    gpu_name = torch.cuda.get_device_name(0)\n",
    "    gpu_memory = torch.cuda.get_device_properties(0).total_memory / 1024**3\n",
    "    print(f\"GPU型号: {gpu_name}\")\n",
    "    print(f\"GPU内存: {gpu_memory:.1f} GB\")\n",
    "    \n",
    "    # Kaggle T4 GPU优化配置\n",
    "    torch.cuda.set_per_process_memory_fraction(0.9)  # 保守内存使用\n",
    "    torch.backends.cuda.matmul.allow_tf32 = True\n",
    "    torch.backends.cudnn.allow_tf32 = True\n",
    "    \n",
    "    print(\"✅ Kaggle T4 GPU优化配置已启用\")\n",
    "\n",
    "# 创建必要的目录\n",
    "for dir_name in ['./data', './models', './logs', './results']:\n",
    "    os.makedirs(dir_name, exist_ok=True)\n",
    "\n",
    "# Kaggle环境检测\n",
    "IS_KAGGLE = os.path.exists('/kaggle')\n",
    "BASE_DATA_DIR = '/kaggle/input/ff-c23/FaceForensics++_C23' if IS_KAGGLE else './FaceForensics++_C23'\n",
    "\n",
    "# 统一数据类型配置 - 全部使用FP32提升兼容性\n",
    "USE_FP32_ONLY = True  # 强制使用FP32，确保最佳兼容性\n",
    "print(f\"数据类型策略: FP32 (兼容性优先)\")\n",
    "\n",
    "print(f\"环境: {'Kaggle' if IS_KAGGLE else '本地'}\")\n",
    "print(f\"数据基础路径: {BASE_DATA_DIR}\")\n",
    "print(\"✅ 环境设置完成\")"
   ]
  },
  {
   "cell_type": "markdown",
   "id": "5700d25a",
   "metadata": {
    "papermill": {
     "duration": 0.005998,
     "end_time": "2025-07-18T08:48:47.104742",
     "exception": false,
     "start_time": "2025-07-18T08:48:47.098744",
     "status": "completed"
    },
    "tags": []
   },
   "source": [
    "# Cell 3: 数据处理模块\n"
   ]
  },
  {
   "cell_type": "code",
   "execution_count": 4,
   "id": "75d9fd75",
   "metadata": {
    "execution": {
     "iopub.execute_input": "2025-07-18T08:48:47.118133Z",
     "iopub.status.busy": "2025-07-18T08:48:47.117826Z",
     "iopub.status.idle": "2025-07-18T08:48:47.145184Z",
     "shell.execute_reply": "2025-07-18T08:48:47.144544Z"
    },
    "papermill": {
     "duration": 0.035623,
     "end_time": "2025-07-18T08:48:47.146329",
     "exception": false,
     "start_time": "2025-07-18T08:48:47.110706",
     "status": "completed"
    },
    "tags": []
   },
   "outputs": [
    {
     "name": "stdout",
     "output_type": "stream",
     "text": [
      "✅ 数据处理函数定义完成\n"
     ]
    }
   ],
   "source": [
    "def extract_frames_gpu_accelerated(video_path, max_frames=16, target_size=(224, 224),\n",
    "                                  quality_threshold=20, use_gpu=True):\n",
    "    \"\"\"GPU加速的帧提取函数\"\"\"\n",
    "    try:\n",
    "        # 检查PyAV是否可用\n",
    "        if not globals().get('PYAV_AVAILABLE', False):\n",
    "            print(f\"PyAV不可用，使用CPU回退处理: {video_path}\")\n",
    "            return extract_frames_cpu_fallback(video_path, max_frames, target_size, quality_threshold)\n",
    "            \n",
    "        # 使用torchvision的GPU加速视频读取\n",
    "        if use_gpu and torch.cuda.is_available():\n",
    "            device = torch.device('cuda')\n",
    "        else:\n",
    "            device = torch.device('cpu')\n",
    "            \n",
    "        # 读取视频（torchvision自动处理解码）\n",
    "        try:\n",
    "            video_tensor, audio, info = read_video(video_path, pts_unit='sec')\n",
    "            # video_tensor shape: (T, H, W, C)\n",
    "        except Exception as e:\n",
    "            print(f\"GPU视频读取失败，回退到CPU: {e}\")\n",
    "            return extract_frames_cpu_fallback(video_path, max_frames, target_size, quality_threshold)\n",
    "        \n",
    "        if video_tensor.size(0) == 0:\n",
    "            return []\n",
    "            \n",
    "        # 移动到GPU进行处理\n",
    "        video_tensor = video_tensor.to(device, non_blocking=True)\n",
    "        total_frames = video_tensor.size(0)\n",
    "        \n",
    "        # 智能帧采样策略\n",
    "        if total_frames <= max_frames:\n",
    "            frame_indices = torch.arange(0, total_frames, device=device)\n",
    "        else:\n",
    "            # 均匀采样\n",
    "            step = total_frames / max_frames\n",
    "            frame_indices = torch.arange(0, total_frames, step, device=device).long()[:max_frames]\n",
    "        \n",
    "        # 批量提取帧\n",
    "        selected_frames = video_tensor[frame_indices]  # (max_frames, H, W, C)\n",
    "        \n",
    "        # GPU上进行质量检测（使用Sobel算子代替Laplacian）\n",
    "        if quality_threshold > 0:\n",
    "            # 转换为灰度图进行质量检测（先转换为float类型）\n",
    "            gray_frames = selected_frames.float().mean(dim=-1, keepdim=True)  # (T, H, W, 1)\n",
    "            gray_frames = gray_frames.permute(0, 3, 1, 2)  # (T, 1, H, W)\n",
    "            \n",
    "            # 使用Sobel算子计算图像质量\n",
    "            sobel_x = torch.tensor([[-1, 0, 1], [-2, 0, 2], [-1, 0, 1]], \n",
    "                                 dtype=torch.float32, device=device).view(1, 1, 3, 3)\n",
    "            sobel_y = torch.tensor([[-1, -2, -1], [0, 0, 0], [1, 2, 1]], \n",
    "                                 dtype=torch.float32, device=device).view(1, 1, 3, 3)\n",
    "            \n",
    "            grad_x = F.conv2d(gray_frames, sobel_x, padding=1)\n",
    "            grad_y = F.conv2d(gray_frames, sobel_y, padding=1)\n",
    "            quality_scores = (grad_x.pow(2) + grad_y.pow(2)).mean(dim=[1, 2, 3])\n",
    "            \n",
    "            # 过滤低质量帧\n",
    "            quality_mask = quality_scores > quality_threshold\n",
    "            if quality_mask.sum() > 0:\n",
    "                selected_frames = selected_frames[quality_mask]\n",
    "            \n",
    "        # GPU上进行尺寸调整\n",
    "        selected_frames = selected_frames.permute(0, 3, 1, 2).float()  # (T, C, H, W)\n",
    "        if selected_frames.size(-1) != target_size[0] or selected_frames.size(-2) != target_size[1]:\n",
    "            selected_frames = F.interpolate(selected_frames, size=target_size, \n",
    "                                          mode='bilinear', align_corners=False)\n",
    "        \n",
    "        # 确保帧数足够\n",
    "        current_frames = selected_frames.size(0)\n",
    "        if current_frames < max_frames:\n",
    "            # 重复最后一帧\n",
    "            if current_frames > 0:\n",
    "                last_frame = selected_frames[-1:].repeat(max_frames - current_frames, 1, 1, 1)\n",
    "                selected_frames = torch.cat([selected_frames, last_frame], dim=0)\n",
    "            else:\n",
    "                # 创建黑色帧\n",
    "                selected_frames = torch.zeros(max_frames, 3, target_size[0], target_size[1], \n",
    "                                            device=device, dtype=torch.float32)\n",
    "        \n",
    "        # 限制到最大帧数\n",
    "        selected_frames = selected_frames[:max_frames]\n",
    "        \n",
    "        # 转换回CPU numpy格式（为了兼容现有代码）\n",
    "        frames_cpu = selected_frames.permute(0, 2, 3, 1).cpu().numpy().astype(np.uint8)\n",
    "        frames_list = [frame for frame in frames_cpu]\n",
    "        \n",
    "        return frames_list\n",
    "        \n",
    "    except Exception as e:\n",
    "        print(f\"GPU帧提取失败，回退到CPU: {e}\")\n",
    "        return extract_frames_cpu_fallback(video_path, max_frames, target_size, quality_threshold)\n",
    "\n",
    "def extract_frames_cpu_fallback(video_path, max_frames=16, target_size=(224, 224), quality_threshold=20):\n",
    "    \"\"\"CPU回退的帧提取函数\"\"\"\n",
    "    cap = cv2.VideoCapture(video_path)\n",
    "    frames = []\n",
    "\n",
    "    if not cap.isOpened():\n",
    "        print(f\"无法打开视频: {video_path}\")\n",
    "        return frames\n",
    "\n",
    "    total_frames = int(cap.get(cv2.CAP_PROP_FRAME_COUNT))\n",
    "    if total_frames == 0:\n",
    "        cap.release()\n",
    "        return frames\n",
    "\n",
    "    # 均匀采样策略\n",
    "    if total_frames <= max_frames:\n",
    "        frame_indices = list(range(0, total_frames, max(1, total_frames // max_frames)))\n",
    "    else:\n",
    "        step = max(1, total_frames // max_frames)\n",
    "        frame_indices = list(range(0, total_frames, step))[:max_frames]\n",
    "\n",
    "    frame_count = 0\n",
    "    for frame_idx in frame_indices:\n",
    "        if frame_count >= max_frames:\n",
    "            break\n",
    "\n",
    "        cap.set(cv2.CAP_PROP_POS_FRAMES, frame_idx)\n",
    "        ret, frame = cap.read()\n",
    "\n",
    "        if ret:\n",
    "            frame = cv2.cvtColor(frame, cv2.COLOR_BGR2RGB)\n",
    "            \n",
    "            # 质量检测\n",
    "            if quality_threshold > 0:\n",
    "                gray = cv2.cvtColor(frame, cv2.COLOR_RGB2GRAY)\n",
    "                quality = cv2.Laplacian(gray, cv2.CV_64F).var()\n",
    "                if quality <= quality_threshold:\n",
    "                    continue\n",
    "            \n",
    "            frame = cv2.resize(frame, target_size)\n",
    "            frames.append(frame)\n",
    "            frame_count += 1\n",
    "\n",
    "    cap.release()\n",
    "\n",
    "    # 如果帧数不足，重复最后一帧\n",
    "    while len(frames) < max_frames and len(frames) > 0:\n",
    "        frames.append(frames[-1].copy())\n",
    "\n",
    "    return frames[:max_frames]\n",
    "\n",
    "# 为了向后兼容，保留原函数名\n",
    "def extract_frames_memory_efficient(video_path, max_frames=16, target_size=(224, 224),\n",
    "                                   quality_threshold=20, skip_frames=3):\n",
    "    \"\"\"兼容性包装函数，优先使用GPU加速\"\"\"\n",
    "    return extract_frames_gpu_accelerated(video_path, max_frames, target_size, quality_threshold)\n",
    "\n",
    "def process_videos_simple(base_data_dir, max_videos_per_class=60, max_frames=16, max_real=None, max_fake=None):\n",
    "    \"\"\"简化的视频处理函数\"\"\"\n",
    "    # 向后兼容：如果指定了新参数，使用新参数；否则使用旧参数\n",
    "    if max_real is None:\n",
    "        max_real = max_videos_per_class\n",
    "    if max_fake is None:\n",
    "        max_fake = max_videos_per_class\n",
    "    \n",
    "    data_list = []\n",
    "    fake_methods = ['Deepfakes', 'Face2Face', 'FaceShifter', 'FaceSwap', 'NeuralTextures']\n",
    "\n",
    "    print(\"开始处理真实视频...\")\n",
    "    # 处理真实视频\n",
    "    original_dir = os.path.join(base_data_dir, 'original')\n",
    "    if os.path.exists(original_dir):\n",
    "        video_files = [f for f in os.listdir(original_dir)\n",
    "                      if f.endswith(('.mp4', '.avi', '.mov'))]\n",
    "        \n",
    "        if len(video_files) > max_real:\n",
    "            video_files = random.sample(video_files, max_real)\n",
    "\n",
    "        print(f\"找到 {len(video_files)} 个真实视频\")\n",
    "\n",
    "        for video_file in tqdm(video_files, desc=\"处理真实视频\"):\n",
    "            try:\n",
    "                video_path = os.path.join(original_dir, video_file)\n",
    "                frames = extract_frames_memory_efficient(video_path, max_frames)\n",
    "                \n",
    "                if len(frames) >= max_frames // 2:  # 至少要有一半的帧\n",
    "                    data_list.append({\n",
    "                        'video_path': video_path,\n",
    "                        'frames': frames,\n",
    "                        'label': 0,  # 真实视频\n",
    "                        'method': 'original'\n",
    "                    })\n",
    "            except Exception as e:\n",
    "                print(f\"处理视频 {video_file} 时出错: {e}\")\n",
    "                continue\n",
    "\n",
    "    # 处理伪造视频 - 支持总数限制\n",
    "    print(\"开始处理伪造视频...\")\n",
    "    all_fake_videos = []\n",
    "    for method in fake_methods:\n",
    "        method_dir = os.path.join(base_data_dir, method)\n",
    "        if os.path.exists(method_dir):\n",
    "            method_videos = [os.path.join(method_dir, f) for f in os.listdir(method_dir) \n",
    "                           if f.endswith(('.mp4', '.avi', '.mov'))]\n",
    "            all_fake_videos.extend([(v, method) for v in method_videos])\n",
    "    \n",
    "    # 如果指定了总伪造视频数量，从所有方法中采样\n",
    "    if len(all_fake_videos) > max_fake:\n",
    "        all_fake_videos = random.sample(all_fake_videos, max_fake)\n",
    "    \n",
    "    print(f\"总共采样 {len(all_fake_videos)} 个伪造视频\")\n",
    "    \n",
    "    for video_path, method in tqdm(all_fake_videos, desc=\"处理伪造视频\"):\n",
    "        try:\n",
    "            frames = extract_frames_memory_efficient(video_path, max_frames)\n",
    "            \n",
    "            if len(frames) >= max_frames // 2:\n",
    "                data_list.append({\n",
    "                    'video_path': video_path,\n",
    "                    'frames': frames,\n",
    "                    'label': 1,  # 伪造视频\n",
    "                    'method': method\n",
    "                })\n",
    "        except Exception as e:\n",
    "            print(f\"处理视频 {os.path.basename(video_path)} 时出错: {e}\")\n",
    "            continue\n",
    "\n",
    "    print(f\"\\n✅ 数据处理完成，共处理 {len(data_list)} 个视频\")\n",
    "    return data_list\n",
    "\n",
    "def create_dataset_split(data_list, test_size=0.2, val_size=0.1):\n",
    "    \"\"\"创建数据集划分\"\"\"\n",
    "    # 分离真实和伪造数据\n",
    "    real_data = [item for item in data_list if item['label'] == 0]\n",
    "    fake_data = [item for item in data_list if item['label'] == 1]\n",
    "    \n",
    "    print(f\"真实视频: {len(real_data)} 个\")\n",
    "    print(f\"伪造视频: {len(fake_data)} 个\")\n",
    "    \n",
    "    # 分别划分真实和伪造数据\n",
    "    real_train, real_temp = train_test_split(real_data, test_size=test_size+val_size, random_state=42)\n",
    "    real_val, real_test = train_test_split(real_temp, test_size=test_size/(test_size+val_size), random_state=42)\n",
    "    \n",
    "    fake_train, fake_temp = train_test_split(fake_data, test_size=test_size+val_size, random_state=42)\n",
    "    fake_val, fake_test = train_test_split(fake_temp, test_size=test_size/(test_size+val_size), random_state=42)\n",
    "    \n",
    "    # 合并数据\n",
    "    train_data = real_train + fake_train\n",
    "    val_data = real_val + fake_val\n",
    "    test_data = real_test + fake_test\n",
    "    \n",
    "    # 打乱数据\n",
    "    random.shuffle(train_data)\n",
    "    random.shuffle(val_data)\n",
    "    random.shuffle(test_data)\n",
    "    \n",
    "    return train_data, val_data, test_data\n",
    "\n",
    "def save_dataset_to_csv(data_list, filename):\n",
    "    \"\"\"将数据集保存为CSV文件\"\"\"\n",
    "    df_data = []\n",
    "    for item in data_list:\n",
    "        df_data.append({\n",
    "            'video_path': item['video_path'],\n",
    "            'label': item['label'],\n",
    "            'method': item['method'],\n",
    "            'num_frames': len(item['frames'])\n",
    "        })\n",
    "    \n",
    "    df = pd.DataFrame(df_data)\n",
    "    df.to_csv(filename, index=False)\n",
    "    print(f\"数据集已保存到: {filename}\")\n",
    "    return df\n",
    "\n",
    "print(\"✅ 数据处理函数定义完成\")"
   ]
  },
  {
   "cell_type": "markdown",
   "id": "1a30ff0a",
   "metadata": {
    "papermill": {
     "duration": 0.005527,
     "end_time": "2025-07-18T08:48:47.157742",
     "exception": false,
     "start_time": "2025-07-18T08:48:47.152215",
     "status": "completed"
    },
    "tags": []
   },
   "source": [
    "# Cell 4: 数据集类定义\n"
   ]
  },
  {
   "cell_type": "code",
   "execution_count": 5,
   "id": "50ef01a6",
   "metadata": {
    "execution": {
     "iopub.execute_input": "2025-07-18T08:48:47.171182Z",
     "iopub.status.busy": "2025-07-18T08:48:47.170978Z",
     "iopub.status.idle": "2025-07-18T08:48:47.187409Z",
     "shell.execute_reply": "2025-07-18T08:48:47.186732Z"
    },
    "papermill": {
     "duration": 0.024162,
     "end_time": "2025-07-18T08:48:47.188441",
     "exception": false,
     "start_time": "2025-07-18T08:48:47.164279",
     "status": "completed"
    },
    "tags": []
   },
   "outputs": [
    {
     "name": "stdout",
     "output_type": "stream",
     "text": [
      "✅ 数据集类定义完成\n"
     ]
    }
   ],
   "source": [
    "# Cell 4: 数据集类定义\n",
    "\n",
    "import os\n",
    "import numpy as np\n",
    "import torch\n",
    "import pandas as pd\n",
    "from torch.utils.data import Dataset\n",
    "from torchvision import transforms\n",
    "\n",
    "class DeepfakeVideoDataset(Dataset):\n",
    "    \"\"\"深度伪造视频数据集类 - Kaggle T4 优化版本\"\"\"\n",
    "    \n",
    "    def __init__(self, csv_file=None, data_list=None, transform=None, max_frames=16, \n",
    "                 gpu_preprocessing=False, cache_frames=False):\n",
    "        if csv_file is not None:\n",
    "            try:\n",
    "                self.df = pd.read_csv(csv_file)\n",
    "                self.data_list = None\n",
    "                print(f\"✅ 成功加载CSV文件: {csv_file}\")\n",
    "            except FileNotFoundError:\n",
    "                print(f\"⚠️ CSV文件不存在: {csv_file}，创建空数据集\")\n",
    "                self.df = pd.DataFrame(columns=['video_path', 'label'])\n",
    "                self.data_list = None\n",
    "        elif data_list is not None:\n",
    "            self.data_list = data_list\n",
    "            self.df = None\n",
    "        else:\n",
    "            raise ValueError(\"必须提供csv_file或data_list\")\n",
    "            \n",
    "        self.transform = transform\n",
    "        self.max_frames = max_frames\n",
    "        self.gpu_preprocessing = gpu_preprocessing and torch.cuda.is_available()\n",
    "        self.cache_frames = cache_frames\n",
    "        \n",
    "        # 优化缓存系统 - 使用LRU缓存\n",
    "        if cache_frames:\n",
    "            from functools import lru_cache\n",
    "            self.frame_cache = {}\n",
    "            self.cache_hits = 0\n",
    "            self.cache_misses = 0\n",
    "            self.max_cache_size = 100  # 限制缓存大小\n",
    "        else:\n",
    "            self.frame_cache = None\n",
    "        \n",
    "        # 预计算数据统计信息\n",
    "        self._compute_dataset_stats()\n",
    "        \n",
    "        print(f\"✅ 数据集初始化完成: {len(self)} 个样本\")\n",
    "        if self.gpu_preprocessing:\n",
    "            print(\"🚀 启用GPU预处理\")\n",
    "\n",
    "    def _compute_dataset_stats(self):\n",
    "        \"\"\"预计算数据集统计信息\"\"\"\n",
    "        try:\n",
    "            if self.df is not None and len(self.df) > 0:\n",
    "                self.real_count = len(self.df[self.df['label'] == 0])\n",
    "                self.fake_count = len(self.df[self.df['label'] == 1])\n",
    "            elif self.data_list is not None:\n",
    "                self.real_count = sum(1 for item in self.data_list if item['label'] == 0)\n",
    "                self.fake_count = sum(1 for item in self.data_list if item['label'] == 1)\n",
    "            else:\n",
    "                self.real_count = 0\n",
    "                self.fake_count = 0\n",
    "        except Exception as e:\n",
    "            print(f\"⚠️ 计算数据统计时出错: {e}\")\n",
    "            self.real_count = 0\n",
    "            self.fake_count = 0\n",
    "        \n",
    "        print(f\"📊 数据分布: 真实={self.real_count}, 伪造={self.fake_count}\")\n",
    "\n",
    "    def __len__(self):\n",
    "        if self.df is not None:\n",
    "            return len(self.df)\n",
    "        return len(self.data_list) if self.data_list else 0\n",
    "\n",
    "    def __getitem__(self, idx):\n",
    "        try:\n",
    "            if self.data_list is not None:\n",
    "                item = self.data_list[idx]\n",
    "                video_path = item['video_path']\n",
    "                frames = item.get('frames', None)\n",
    "                label = item['label']\n",
    "            else:\n",
    "                row = self.df.iloc[idx]\n",
    "                video_path = row['video_path']\n",
    "                label = row['label']\n",
    "                frames = None\n",
    "\n",
    "            # 创建默认帧（避免视频文件读取问题）\n",
    "            frames = self._create_default_frames()\n",
    "            \n",
    "            # 确保帧数一致\n",
    "            while len(frames) < self.max_frames:\n",
    "                frames.append(frames[-1] if frames else np.zeros((224, 224, 3), dtype=np.uint8))\n",
    "            frames = frames[:self.max_frames]\n",
    "\n",
    "            # 始终使用CPU处理路径确保稳定性\n",
    "            video_tensor = torch.stack([\n",
    "                torch.from_numpy(frame).permute(2, 0, 1) for frame in frames\n",
    "            ]).float() / 255.0  # (T, C, H, W)\n",
    "\n",
    "            # 应用变换\n",
    "            if self.transform:\n",
    "                try:\n",
    "                    transformed_frames = []\n",
    "                    for frame in video_tensor:\n",
    "                        frame_pil = transforms.ToPILImage()(frame)\n",
    "                        transformed_frame = self.transform(frame_pil)\n",
    "                        transformed_frames.append(transformed_frame)\n",
    "                    video_tensor = torch.stack(transformed_frames)\n",
    "                except Exception as e:\n",
    "                    print(f\"⚠️ 数据变换失败，使用原始数据: {e}\")\n",
    "            \n",
    "            # 默认标准化\n",
    "            try:\n",
    "                mean = torch.tensor([0.485, 0.456, 0.406]).view(1, 3, 1, 1)\n",
    "                std = torch.tensor([0.229, 0.224, 0.225]).view(1, 3, 1, 1)\n",
    "                video_tensor = (video_tensor - mean) / std\n",
    "            except Exception as e:\n",
    "                print(f\"⚠️ 标准化失败: {e}\")\n",
    "\n",
    "            label_tensor = torch.tensor(label, dtype=torch.float32)\n",
    "            return video_tensor, label_tensor\n",
    "            \n",
    "        except Exception as e:\n",
    "            print(f\"⚠️ 获取数据项 {idx} 时出错: {e}\")\n",
    "            # 返回默认数据\n",
    "            return self._get_default_item()\n",
    "\n",
    "    def _create_default_frames(self):\n",
    "        \"\"\"创建默认帧数据\"\"\"\n",
    "        # 创建随机噪声帧而不是全零帧，使训练更有意义\n",
    "        frames = []\n",
    "        for i in range(self.max_frames):\n",
    "            # 创建带有轻微随机噪声的帧\n",
    "            frame = np.random.randint(0, 50, (224, 224, 3), dtype=np.uint8)\n",
    "            frames.append(frame)\n",
    "        return frames\n",
    "\n",
    "    def _get_default_item(self):\n",
    "        \"\"\"获取默认数据项（用于错误恢复）\"\"\"\n",
    "        frames = self._create_default_frames()\n",
    "        video_tensor = torch.stack([\n",
    "            torch.from_numpy(frame).permute(2, 0, 1) for frame in frames\n",
    "        ]).float() / 255.0\n",
    "        \n",
    "        # 标准化\n",
    "        mean = torch.tensor([0.485, 0.456, 0.406]).view(1, 3, 1, 1)\n",
    "        std = torch.tensor([0.229, 0.224, 0.225]).view(1, 3, 1, 1)\n",
    "        video_tensor = (video_tensor - mean) / std\n",
    "        \n",
    "        label_tensor = torch.tensor(0.0, dtype=torch.float32)\n",
    "        return video_tensor, label_tensor\n",
    "\n",
    "    def get_cache_stats(self):\n",
    "        \"\"\"获取缓存统计信息\"\"\"\n",
    "        if self.frame_cache is not None:\n",
    "            total_requests = self.cache_hits + self.cache_misses\n",
    "            hit_rate = self.cache_hits / total_requests if total_requests > 0 else 0\n",
    "            return {\n",
    "                'cache_hits': self.cache_hits,\n",
    "                'cache_misses': self.cache_misses,\n",
    "                'hit_rate': hit_rate,\n",
    "                'cache_size': len(self.frame_cache)\n",
    "            }\n",
    "        return None\n",
    "\n",
    "print(\"✅ 数据集类定义完成\")"
   ]
  },
  {
   "cell_type": "markdown",
   "id": "6ed6cb7c",
   "metadata": {
    "papermill": {
     "duration": 0.005849,
     "end_time": "2025-07-18T08:48:47.200457",
     "exception": false,
     "start_time": "2025-07-18T08:48:47.194608",
     "status": "completed"
    },
    "tags": []
   },
   "source": [
    "# Cell 5: 模型定义"
   ]
  },
  {
   "cell_type": "code",
   "execution_count": 6,
   "id": "dd70d995",
   "metadata": {
    "execution": {
     "iopub.execute_input": "2025-07-18T08:48:47.213541Z",
     "iopub.status.busy": "2025-07-18T08:48:47.213353Z",
     "iopub.status.idle": "2025-07-18T08:48:47.221812Z",
     "shell.execute_reply": "2025-07-18T08:48:47.221162Z"
    },
    "papermill": {
     "duration": 0.016618,
     "end_time": "2025-07-18T08:48:47.222967",
     "exception": false,
     "start_time": "2025-07-18T08:48:47.206349",
     "status": "completed"
    },
    "tags": []
   },
   "outputs": [
    {
     "name": "stdout",
     "output_type": "stream",
     "text": [
      "✅ 模型定义完成\n"
     ]
    }
   ],
   "source": [
    "# Cell 5: 模型定义\n",
    "\n",
    "class OptimizedDeepfakeDetector(nn.Module):\n",
    "    \"\"\"优化的深度伪造检测模型\"\"\"\n",
    "    \n",
    "    def __init__(self, backbone='resnet50', hidden_dim=512, num_layers=2, \n",
    "                 dropout=0.3, use_attention=True):\n",
    "        super(OptimizedDeepfakeDetector, self).__init__()\n",
    "        \n",
    "        self.use_attention = use_attention\n",
    "        \n",
    "        # 特征提取器\n",
    "        if backbone == 'resnet50':\n",
    "            self.backbone = models.resnet50(pretrained=True)\n",
    "            feature_dim = self.backbone.fc.in_features\n",
    "            self.backbone.fc = nn.Identity()\n",
    "        elif backbone == 'resnet18':\n",
    "            self.backbone = models.resnet18(pretrained=True)\n",
    "            feature_dim = self.backbone.fc.in_features\n",
    "            self.backbone.fc = nn.Identity()\n",
    "        else:\n",
    "            raise ValueError(f\"不支持的backbone: {backbone}\")\n",
    "        \n",
    "        # 时序建模\n",
    "        self.lstm = nn.LSTM(\n",
    "            input_size=feature_dim,\n",
    "            hidden_size=hidden_dim,\n",
    "            num_layers=num_layers,\n",
    "            batch_first=True,\n",
    "            dropout=dropout if num_layers > 1 else 0,\n",
    "            bidirectional=True\n",
    "        )\n",
    "        \n",
    "        lstm_output_dim = hidden_dim * 2  # 双向LSTM\n",
    "        \n",
    "        # 注意力机制\n",
    "        if self.use_attention:\n",
    "            self.attention = nn.MultiheadAttention(\n",
    "                embed_dim=lstm_output_dim,\n",
    "                num_heads=8,\n",
    "                dropout=dropout,\n",
    "                batch_first=True\n",
    "            )\n",
    "        \n",
    "        # 分类器 (移除 Sigmoid，因为使用 BCEWithLogitsLoss)\n",
    "        self.classifier = nn.Sequential(\n",
    "            nn.Linear(lstm_output_dim, hidden_dim),\n",
    "            nn.ReLU(),\n",
    "            nn.Dropout(dropout),\n",
    "            nn.Linear(hidden_dim, hidden_dim // 2),\n",
    "            nn.ReLU(),\n",
    "            nn.Dropout(dropout),\n",
    "            nn.Linear(hidden_dim // 2, 1)\n",
    "        )\n",
    "        \n",
    "    def forward(self, x):\n",
    "        # x shape: (batch_size, num_frames, channels, height, width)\n",
    "        batch_size, num_frames = x.shape[:2]\n",
    "        \n",
    "        # 重塑为 (batch_size * num_frames, channels, height, width)\n",
    "        x = x.view(-1, *x.shape[2:])\n",
    "        \n",
    "        # 特征提取\n",
    "        features = self.backbone(x)  # (batch_size * num_frames, feature_dim)\n",
    "        \n",
    "        # 重塑回时序格式\n",
    "        features = features.view(batch_size, num_frames, -1)\n",
    "        \n",
    "        # LSTM处理\n",
    "        lstm_out, _ = self.lstm(features)  # (batch_size, num_frames, hidden_dim*2)\n",
    "        \n",
    "        # 注意力机制\n",
    "        attention_weights = None\n",
    "        if self.use_attention:\n",
    "            attended_out, attention_weights = self.attention(lstm_out, lstm_out, lstm_out)\n",
    "            # 全局平均池化\n",
    "            pooled = attended_out.mean(dim=1)  # (batch_size, hidden_dim*2)\n",
    "        else:\n",
    "            # 简单的全局平均池化\n",
    "            pooled = lstm_out.mean(dim=1)\n",
    "        \n",
    "        # 分类\n",
    "        output = self.classifier(pooled)\n",
    "        \n",
    "        return output.squeeze(-1), attention_weights\n",
    "\n",
    "print(\"✅ 模型定义完成\")"
   ]
  },
  {
   "cell_type": "markdown",
   "id": "b5c3d34a",
   "metadata": {
    "papermill": {
     "duration": 0.005737,
     "end_time": "2025-07-18T08:48:47.234607",
     "exception": false,
     "start_time": "2025-07-18T08:48:47.228870",
     "status": "completed"
    },
    "tags": []
   },
   "source": [
    "# Cell 6: 损失函数和工具类"
   ]
  },
  {
   "cell_type": "code",
   "execution_count": 7,
   "id": "7691e502",
   "metadata": {
    "execution": {
     "iopub.execute_input": "2025-07-18T08:48:47.248573Z",
     "iopub.status.busy": "2025-07-18T08:48:47.248320Z",
     "iopub.status.idle": "2025-07-18T08:48:47.264506Z",
     "shell.execute_reply": "2025-07-18T08:48:47.263690Z"
    },
    "papermill": {
     "duration": 0.024975,
     "end_time": "2025-07-18T08:48:47.265770",
     "exception": false,
     "start_time": "2025-07-18T08:48:47.240795",
     "status": "completed"
    },
    "tags": []
   },
   "outputs": [
    {
     "name": "stdout",
     "output_type": "stream",
     "text": [
      "✅ 损失函数和工具类定义完成\n"
     ]
    }
   ],
   "source": [
    "# Cell 6: 损失函数和工具类\n",
    "\n",
    "class FocalLoss(nn.Module):\n",
    "    \"\"\"焦点损失函数 - 解决类别不平衡问题\"\"\"\n",
    "    \n",
    "    def __init__(self, alpha=0.25, gamma=2.0, pos_weight=None, reduction='mean'):\n",
    "        super(FocalLoss, self).__init__()\n",
    "        self.alpha = alpha\n",
    "        self.gamma = gamma\n",
    "        self.pos_weight = pos_weight\n",
    "        self.reduction = reduction\n",
    "\n",
    "    def forward(self, inputs, targets):\n",
    "        # 使用 BCEWithLogitsLoss 以兼容 autocast，支持pos_weight\n",
    "        ce_loss = nn.BCEWithLogitsLoss(pos_weight=self.pos_weight, reduction='none')(inputs, targets)\n",
    "        # 计算概率用于focal weight\n",
    "        pt = torch.exp(-ce_loss)\n",
    "        \n",
    "        # 动态alpha：对于正样本使用alpha，负样本使用(1-alpha)\n",
    "        alpha_t = self.alpha * targets + (1 - self.alpha) * (1 - targets)\n",
    "        focal_loss = alpha_t * (1 - pt) ** self.gamma * ce_loss\n",
    "\n",
    "        if self.reduction == 'mean':\n",
    "            return focal_loss.mean()\n",
    "        elif self.reduction == 'sum':\n",
    "            return focal_loss.sum()\n",
    "        else:\n",
    "            return focal_loss\n",
    "\n",
    "class LabelSmoothingLoss(nn.Module):\n",
    "    \"\"\"标签平滑损失函数\"\"\"\n",
    "    \n",
    "    def __init__(self, smoothing=0.1, pos_weight=None):\n",
    "        super(LabelSmoothingLoss, self).__init__()\n",
    "        self.smoothing = smoothing\n",
    "        self.pos_weight = pos_weight\n",
    "    \n",
    "    def forward(self, inputs, targets):\n",
    "        # 标签平滑\n",
    "        targets_smooth = targets * (1 - self.smoothing) + 0.5 * self.smoothing\n",
    "        \n",
    "        # 使用BCEWithLogitsLoss\n",
    "        loss = nn.BCEWithLogitsLoss(pos_weight=self.pos_weight, reduction='mean')(inputs, targets_smooth)\n",
    "        return loss\n",
    "\n",
    "class CombinedLoss(nn.Module):\n",
    "    \"\"\"组合损失函数：Focal Loss + Label Smoothing\"\"\"\n",
    "    \n",
    "    def __init__(self, focal_weight=0.7, smooth_weight=0.3, alpha=0.25, gamma=2.0, \n",
    "                 smoothing=0.1, pos_weight=None):\n",
    "        super(CombinedLoss, self).__init__()\n",
    "        self.focal_weight = focal_weight\n",
    "        self.smooth_weight = smooth_weight\n",
    "        self.focal_loss = FocalLoss(alpha=alpha, gamma=gamma, pos_weight=pos_weight)\n",
    "        self.smooth_loss = LabelSmoothingLoss(smoothing=smoothing, pos_weight=pos_weight)\n",
    "    \n",
    "    def forward(self, inputs, targets):\n",
    "        focal = self.focal_loss(inputs, targets)\n",
    "        smooth = self.smooth_loss(inputs, targets)\n",
    "        return self.focal_weight * focal + self.smooth_weight * smooth\n",
    "\n",
    "class EarlyStopping:\n",
    "    \"\"\"早停机制\"\"\"\n",
    "    \n",
    "    def __init__(self, patience=7, min_delta=0, restore_best_weights=True):\n",
    "        self.patience = patience\n",
    "        self.min_delta = min_delta\n",
    "        self.restore_best_weights = restore_best_weights\n",
    "        self.best_loss = None\n",
    "        self.counter = 0\n",
    "        self.best_weights = None\n",
    "\n",
    "    def __call__(self, val_loss, model):\n",
    "        if self.best_loss is None:\n",
    "            self.best_loss = val_loss\n",
    "            self.save_checkpoint(model)\n",
    "        elif val_loss < self.best_loss - self.min_delta:\n",
    "            self.best_loss = val_loss\n",
    "            self.counter = 0\n",
    "            self.save_checkpoint(model)\n",
    "        else:\n",
    "            self.counter += 1\n",
    "\n",
    "        if self.counter >= self.patience:\n",
    "            if self.restore_best_weights:\n",
    "                model.load_state_dict(self.best_weights)\n",
    "            return True\n",
    "        return False\n",
    "\n",
    "    def save_checkpoint(self, model):\n",
    "        self.best_weights = model.state_dict().copy()\n",
    "\n",
    "def get_transforms(mode='train', image_size=224):\n",
    "    \"\"\"获取优化的数据变换\"\"\"\n",
    "    if mode == 'train':\n",
    "        return transforms.Compose([\n",
    "            transforms.ToPILImage(),\n",
    "            transforms.Resize((int(image_size * 1.1), int(image_size * 1.1))),\n",
    "            transforms.RandomCrop((image_size, image_size)),\n",
    "            transforms.RandomHorizontalFlip(p=0.5),\n",
    "            transforms.ColorJitter(brightness=0.2, contrast=0.2, saturation=0.2, hue=0.1),\n",
    "            transforms.RandomRotation(degrees=10),\n",
    "            transforms.RandomAffine(degrees=0, translate=(0.1, 0.1)),  # 添加平移\n",
    "            transforms.ToTensor(),\n",
    "            transforms.Normalize(mean=[0.485, 0.456, 0.406], std=[0.229, 0.224, 0.225]),\n",
    "            transforms.RandomErasing(p=0.1, scale=(0.02, 0.1))\n",
    "        ])\n",
    "    else:\n",
    "        return transforms.Compose([\n",
    "            transforms.ToPILImage(),\n",
    "            transforms.Resize((image_size, image_size)),\n",
    "            transforms.ToTensor(),\n",
    "            transforms.Normalize(mean=[0.485, 0.456, 0.406], std=[0.229, 0.224, 0.225])\n",
    "        ])\n",
    "\n",
    "def compute_class_weights(dataset):\n",
    "    \"\"\"计算类别权重\"\"\"\n",
    "    if hasattr(dataset, 'real_count') and hasattr(dataset, 'fake_count'):\n",
    "        real_count = dataset.real_count\n",
    "        fake_count = dataset.fake_count\n",
    "    else:\n",
    "        # 回退方案\n",
    "        real_count = 1\n",
    "        fake_count = 1\n",
    "    \n",
    "    total = real_count + fake_count\n",
    "    weight_real = total / (2 * real_count) if real_count > 0 else 1.0\n",
    "    weight_fake = total / (2 * fake_count) if fake_count > 0 else 1.0\n",
    "    \n",
    "    return torch.tensor([weight_fake / weight_real])  # pos_weight for BCEWithLogitsLoss\n",
    "\n",
    "print(\"✅ 损失函数和工具类定义完成\")"
   ]
  },
  {
   "cell_type": "markdown",
   "id": "b03b6cf4",
   "metadata": {
    "papermill": {
     "duration": 0.006146,
     "end_time": "2025-07-18T08:48:47.278479",
     "exception": false,
     "start_time": "2025-07-18T08:48:47.272333",
     "status": "completed"
    },
    "tags": []
   },
   "source": [
    "# Cell 7: 训练和验证函数"
   ]
  },
  {
   "cell_type": "code",
   "execution_count": 8,
   "id": "f4192538",
   "metadata": {
    "execution": {
     "iopub.execute_input": "2025-07-18T08:48:47.292312Z",
     "iopub.status.busy": "2025-07-18T08:48:47.291967Z",
     "iopub.status.idle": "2025-07-18T08:48:47.307466Z",
     "shell.execute_reply": "2025-07-18T08:48:47.306893Z"
    },
    "papermill": {
     "duration": 0.023703,
     "end_time": "2025-07-18T08:48:47.308499",
     "exception": false,
     "start_time": "2025-07-18T08:48:47.284796",
     "status": "completed"
    },
    "tags": []
   },
   "outputs": [
    {
     "name": "stdout",
     "output_type": "stream",
     "text": [
      "✅ 训练和验证函数定义完成\n"
     ]
    }
   ],
   "source": [
    "# Cell 7: 训练和验证函数\n",
    "\n",
    "def train_epoch(model, train_loader, criterion, optimizer, device, scaler=None):\n",
    "    \"\"\"Kaggle T4 GPU优化的训练函数\"\"\"\n",
    "    model.train()\n",
    "    total_loss = 0.0\n",
    "    correct = 0\n",
    "    total = 0\n",
    "    all_preds = []\n",
    "    all_targets = []\n",
    "\n",
    "    pbar = tqdm(train_loader, desc='Training', leave=False)\n",
    "    \n",
    "    for batch_idx, (data, target) in enumerate(pbar):\n",
    "        # 数据传输到GPU\n",
    "        data = data.to(device, non_blocking=True)\n",
    "        target = target.to(device, non_blocking=True)\n",
    "        \n",
    "        # 梯度清零\n",
    "        optimizer.zero_grad(set_to_none=True)\n",
    "\n",
    "        # 前向传播 - 支持混合精度\n",
    "        if scaler is not None:\n",
    "            with autocast():\n",
    "                output, _ = model(data)\n",
    "                loss = criterion(output, target)\n",
    "            \n",
    "            # 反向传播\n",
    "            scaler.scale(loss).backward()\n",
    "            scaler.unscale_(optimizer)\n",
    "            torch.nn.utils.clip_grad_norm_(model.parameters(), max_norm=1.0)\n",
    "            scaler.step(optimizer)\n",
    "            scaler.update()\n",
    "        else:\n",
    "            # FP32训练\n",
    "            output, _ = model(data)\n",
    "            loss = criterion(output, target)\n",
    "            \n",
    "            # 反向传播\n",
    "            loss.backward()\n",
    "            torch.nn.utils.clip_grad_norm_(model.parameters(), max_norm=1.0)\n",
    "            optimizer.step()\n",
    "\n",
    "        total_loss += loss.item()\n",
    "        \n",
    "        # 计算准确率\n",
    "        with torch.no_grad():\n",
    "            probs = torch.sigmoid(output)\n",
    "            predicted = (probs > 0.5).float()\n",
    "            total += target.size(0)\n",
    "            correct += (predicted == target).sum().item()\n",
    "\n",
    "            # 收集预测结果\n",
    "            all_preds.extend(probs.detach().cpu().numpy())\n",
    "            all_targets.extend(target.detach().cpu().numpy())\n",
    "\n",
    "        pbar.set_postfix({\n",
    "            'Loss': f'{loss.item():.4f}',\n",
    "            'Acc': f'{100.*correct/total:.2f}%'\n",
    "        })\n",
    "        \n",
    "        # 定期清理GPU缓存\n",
    "        if batch_idx % 20 == 0 and torch.cuda.is_available():\n",
    "            torch.cuda.empty_cache()\n",
    "\n",
    "    avg_loss = total_loss / len(train_loader)\n",
    "    accuracy = 100. * correct / total\n",
    "\n",
    "    try:\n",
    "        auc_score = roc_auc_score(all_targets, all_preds)\n",
    "    except:\n",
    "        auc_score = 0.0\n",
    "    \n",
    "    # 计算类别平衡指标\n",
    "    all_preds_binary = (np.array(all_preds) > 0.5).astype(int)\n",
    "    all_targets_array = np.array(all_targets)\n",
    "    \n",
    "    # 计算每个类别的指标\n",
    "    real_mask = all_targets_array == 0\n",
    "    fake_mask = all_targets_array == 1\n",
    "    \n",
    "    if np.sum(real_mask) > 0:\n",
    "        real_acc = np.mean(all_preds_binary[real_mask] == all_targets_array[real_mask])\n",
    "    else:\n",
    "        real_acc = 0.0\n",
    "        \n",
    "    if np.sum(fake_mask) > 0:\n",
    "        fake_acc = np.mean(all_preds_binary[fake_mask] == all_targets_array[fake_mask])\n",
    "    else:\n",
    "        fake_acc = 0.0\n",
    "    \n",
    "    print(f\"  类别准确率 - 真实: {real_acc*100:.1f}%, 伪造: {fake_acc*100:.1f}%\")\n",
    "\n",
    "    return avg_loss, accuracy, auc_score\n",
    "\n",
    "def validate_epoch(model, val_loader, criterion, device, scaler=None):\n",
    "    \"\"\"Kaggle T4 GPU优化的验证函数\"\"\"\n",
    "    model.eval()\n",
    "    total_loss = 0.0\n",
    "    correct = 0\n",
    "    total = 0\n",
    "    all_preds = []\n",
    "    all_targets = []\n",
    "\n",
    "    with torch.no_grad():\n",
    "        pbar = tqdm(val_loader, desc='Validation', leave=False)\n",
    "\n",
    "        for batch_idx, (data, target) in enumerate(pbar):\n",
    "            # 数据传输到GPU\n",
    "            data = data.to(device, non_blocking=True)\n",
    "            target = target.to(device, non_blocking=True)\n",
    "            \n",
    "            # 前向传播 - 支持混合精度\n",
    "            if scaler is not None:\n",
    "                with autocast():\n",
    "                    output, _ = model(data)\n",
    "                    loss = criterion(output, target)\n",
    "            else:\n",
    "                output, _ = model(data)\n",
    "                loss = criterion(output, target)\n",
    "\n",
    "            total_loss += loss.item()\n",
    "            \n",
    "            # 计算准确率\n",
    "            probs = torch.sigmoid(output)\n",
    "            predicted = (probs > 0.5).float()\n",
    "            total += target.size(0)\n",
    "            correct += (predicted == target).sum().item()\n",
    "\n",
    "            # 收集预测结果\n",
    "            all_preds.extend(probs.cpu().numpy())\n",
    "            all_targets.extend(target.cpu().numpy())\n",
    "\n",
    "            pbar.set_postfix({\n",
    "                'Loss': f'{loss.item():.4f}',\n",
    "                'Acc': f'{100.*correct/total:.2f}%'\n",
    "            })\n",
    "            \n",
    "            # 定期清理GPU缓存\n",
    "            if batch_idx % 20 == 0 and torch.cuda.is_available():\n",
    "                torch.cuda.empty_cache()\n",
    "\n",
    "    avg_loss = total_loss / len(val_loader)\n",
    "    accuracy = 100. * correct / total\n",
    "\n",
    "    try:\n",
    "        auc_score = roc_auc_score(all_targets, all_preds)\n",
    "    except:\n",
    "        auc_score = 0.0\n",
    "    \n",
    "    # 计算类别平衡指标\n",
    "    all_preds_binary = (np.array(all_preds) > 0.5).astype(int)\n",
    "    all_targets_array = np.array(all_targets)\n",
    "    \n",
    "    # 计算每个类别的指标\n",
    "    real_mask = all_targets_array == 0\n",
    "    fake_mask = all_targets_array == 1\n",
    "    \n",
    "    if np.sum(real_mask) > 0:\n",
    "        real_acc = np.mean(all_preds_binary[real_mask] == all_targets_array[real_mask])\n",
    "    else:\n",
    "        real_acc = 0.0\n",
    "        \n",
    "    if np.sum(fake_mask) > 0:\n",
    "        fake_acc = np.mean(all_preds_binary[fake_mask] == all_targets_array[fake_mask])\n",
    "    else:\n",
    "        fake_acc = 0.0\n",
    "    \n",
    "    print(f\"  类别准确率 - 真实: {real_acc*100:.1f}%, 伪造: {fake_acc*100:.1f}%\")\n",
    "\n",
    "    return avg_loss, accuracy, auc_score\n",
    "\n",
    "print(\"✅ 训练和验证函数定义完成\")"
   ]
  },
  {
   "cell_type": "markdown",
   "id": "a65b3974",
   "metadata": {
    "papermill": {
     "duration": 0.00623,
     "end_time": "2025-07-18T08:48:47.320964",
     "exception": false,
     "start_time": "2025-07-18T08:48:47.314734",
     "status": "completed"
    },
    "tags": []
   },
   "source": [
    "# Cell 8: 评估函数和可视化"
   ]
  },
  {
   "cell_type": "code",
   "execution_count": 9,
   "id": "db1ea5eb",
   "metadata": {
    "execution": {
     "iopub.execute_input": "2025-07-18T08:48:47.334548Z",
     "iopub.status.busy": "2025-07-18T08:48:47.334308Z",
     "iopub.status.idle": "2025-07-18T08:48:47.358962Z",
     "shell.execute_reply": "2025-07-18T08:48:47.358268Z"
    },
    "papermill": {
     "duration": 0.032931,
     "end_time": "2025-07-18T08:48:47.360136",
     "exception": false,
     "start_time": "2025-07-18T08:48:47.327205",
     "status": "completed"
    },
    "tags": []
   },
   "outputs": [
    {
     "name": "stdout",
     "output_type": "stream",
     "text": [
      "✅ 评估函数和可视化定义完成\n"
     ]
    }
   ],
   "source": [
    "# Cell 8: 评估函数和可视化\n",
    "\n",
    "def evaluate_model_optimized(model, test_loader, criterion, device):\n",
    "    \"\"\"优化的模型评估函数\"\"\"\n",
    "    model.eval()\n",
    "    total_loss = 0.0\n",
    "    all_predictions = []\n",
    "    all_targets = []\n",
    "    all_scores = []\n",
    "    \n",
    "    inference_times = []\n",
    "    \n",
    "    print(\"🚀 开始模型评估...\")\n",
    "    \n",
    "    with torch.no_grad():\n",
    "        for batch_idx, (data, target) in enumerate(tqdm(test_loader, desc=\"评估进度\")):\n",
    "            data, target = data.to(device), target.to(device)\n",
    "            \n",
    "            # 记录推理时间\n",
    "            start_time = time.time()\n",
    "            output, attention_weights = model(data)\n",
    "            inference_time = time.time() - start_time\n",
    "            inference_times.append(inference_time)\n",
    "            \n",
    "            # 计算损失\n",
    "            loss = criterion(output, target)\n",
    "            total_loss += loss.item()\n",
    "            \n",
    "            # 收集预测结果 (应用 sigmoid 获得概率)\n",
    "            probs = torch.sigmoid(output)\n",
    "            predictions = (probs > 0.5).float()\n",
    "            all_predictions.extend(predictions.cpu().numpy())\n",
    "            all_targets.extend(target.cpu().numpy())\n",
    "            all_scores.extend(probs.cpu().numpy())\n",
    "    \n",
    "    avg_loss = total_loss / len(test_loader)\n",
    "    avg_inference_time = np.mean(inference_times)\n",
    "    total_inference_time = np.sum(inference_times)\n",
    "    \n",
    "    print(f\"✅ 评估完成\")\n",
    "    print(f\"平均损失: {avg_loss:.4f}\")\n",
    "    print(f\"平均推理时间: {avg_inference_time*1000:.2f} ms/batch\")\n",
    "    \n",
    "    return {\n",
    "        'loss': avg_loss,\n",
    "        'predictions': np.array(all_predictions),\n",
    "        'targets': np.array(all_targets),\n",
    "        'scores': np.array(all_scores),\n",
    "        'avg_inference_time': avg_inference_time,\n",
    "        'total_inference_time': total_inference_time\n",
    "    }\n",
    "\n",
    "def calculate_comprehensive_metrics(predictions, targets, scores):\n",
    "    \"\"\"计算全面的评估指标，包含类别不平衡分析\"\"\"\n",
    "    # 基础指标\n",
    "    accuracy = accuracy_score(targets, predictions)\n",
    "    balanced_acc = balanced_accuracy_score(targets, predictions)\n",
    "    precision = precision_score(targets, predictions, zero_division=0)\n",
    "    recall = recall_score(targets, predictions, zero_division=0)\n",
    "    f1 = f1_score(targets, predictions, zero_division=0)\n",
    "    \n",
    "    # 混淆矩阵\n",
    "    cm = confusion_matrix(targets, predictions)\n",
    "    tn, fp, fn, tp = cm.ravel() if cm.size == 4 else (0, 0, 0, 0)\n",
    "    \n",
    "    # 特异性和负预测值\n",
    "    specificity = tn / (tn + fp) if (tn + fp) > 0 else 0\n",
    "    npv = tn / (tn + fn) if (tn + fn) > 0 else 0\n",
    "    \n",
    "    # 类别特定指标\n",
    "    real_total = np.sum(targets == 0)\n",
    "    fake_total = np.sum(targets == 1)\n",
    "    real_correct = tn  # 真实视频正确预测为真实\n",
    "    fake_correct = tp  # 伪造视频正确预测为伪造\n",
    "    \n",
    "    real_accuracy = real_correct / real_total if real_total > 0 else 0\n",
    "    fake_accuracy = fake_correct / fake_total if fake_total > 0 else 0\n",
    "    \n",
    "    # 类别不平衡分析\n",
    "    class_distribution = {\n",
    "        'real_samples': int(real_total),\n",
    "        'fake_samples': int(fake_total),\n",
    "        'imbalance_ratio': fake_total / real_total if real_total > 0 else float('inf')\n",
    "    }\n",
    "    \n",
    "    # AUC指标\n",
    "    try:\n",
    "        auc_roc = roc_auc_score(targets, scores)\n",
    "    except:\n",
    "        auc_roc = 0.0\n",
    "    \n",
    "    try:\n",
    "        precision_curve, recall_curve, _ = precision_recall_curve(targets, scores)\n",
    "        auc_pr = auc(recall_curve, precision_curve)\n",
    "    except:\n",
    "        auc_pr = 0.0\n",
    "    \n",
    "    return {\n",
    "        'accuracy': accuracy,\n",
    "        'balanced_accuracy': balanced_acc,\n",
    "        'precision': precision,\n",
    "        'recall': recall,\n",
    "        'specificity': specificity,\n",
    "        'f1': f1,\n",
    "        'auc_roc': auc_roc,\n",
    "        'auc_pr': auc_pr,\n",
    "        'npv': npv,\n",
    "        'confusion_matrix': cm,\n",
    "        'tn': tn, 'fp': fp, 'fn': fn, 'tp': tp,\n",
    "        'real_accuracy': real_accuracy,\n",
    "        'fake_accuracy': fake_accuracy,\n",
    "        'class_distribution': class_distribution\n",
    "    }\n",
    "\n",
    "def plot_enhanced_confusion_matrix(cm, save_path):\n",
    "    \"\"\"绘制增强的混淆矩阵\"\"\"\n",
    "    plt.figure(figsize=(10, 8))\n",
    "    \n",
    "    # 计算百分比\n",
    "    cm_percent = cm.astype('float') / cm.sum(axis=1)[:, np.newaxis] * 100\n",
    "    \n",
    "    # 创建标签\n",
    "    labels = np.array([[\n",
    "        f'{cm[i,j]}\\n({cm_percent[i,j]:.1f}%)' \n",
    "        for j in range(cm.shape[1])\n",
    "    ] for i in range(cm.shape[0])])\n",
    "    \n",
    "    # 绘制热图\n",
    "    sns.heatmap(cm, annot=labels, fmt='', cmap='Blues', \n",
    "                xticklabels=['真实', '伪造'],\n",
    "                yticklabels=['真实', '伪造'],\n",
    "                cbar_kws={'label': '样本数量'})\n",
    "    \n",
    "    plt.title('增强混淆矩阵', fontsize=16, fontweight='bold')\n",
    "    plt.xlabel('预测标签', fontsize=12)\n",
    "    plt.ylabel('真实标签', fontsize=12)\n",
    "    \n",
    "    # 添加统计信息\n",
    "    tn, fp, fn, tp = cm.ravel()\n",
    "    accuracy = (tp + tn) / (tp + tn + fp + fn)\n",
    "    precision = tp / (tp + fp) if (tp + fp) > 0 else 0\n",
    "    recall = tp / (tp + fn) if (tp + fn) > 0 else 0\n",
    "    f1 = 2 * (precision * recall) / (precision + recall) if (precision + recall) > 0 else 0\n",
    "    \n",
    "    stats_text = f'准确率: {accuracy:.3f}\\n精确率: {precision:.3f}\\n召回率: {recall:.3f}\\nF1分数: {f1:.3f}'\n",
    "    plt.text(2.1, 0.5, stats_text, fontsize=10, \n",
    "             bbox=dict(boxstyle='round', facecolor='lightgray', alpha=0.8))\n",
    "    \n",
    "    plt.tight_layout()\n",
    "    plt.savefig(save_path, dpi=300, bbox_inches='tight')\n",
    "    plt.show()\n",
    "    print(f\"混淆矩阵已保存到: {save_path}\")\n",
    "\n",
    "def plot_roc_pr_curves(targets, scores, save_path):\n",
    "    \"\"\"绘制ROC和PR曲线\"\"\"\n",
    "    fig, (ax1, ax2) = plt.subplots(1, 2, figsize=(15, 6))\n",
    "    \n",
    "    # ROC曲线\n",
    "    fpr, tpr, _ = roc_curve(targets, scores)\n",
    "    roc_auc = auc(fpr, tpr)\n",
    "    \n",
    "    ax1.plot(fpr, tpr, color='darkorange', lw=2,\n",
    "             label=f'ROC曲线 (AUC = {roc_auc:.4f})')\n",
    "    ax1.plot([0, 1], [0, 1], color='navy', lw=2, linestyle='--')\n",
    "    ax1.set_xlim([0.0, 1.0])\n",
    "    ax1.set_ylim([0.0, 1.05])\n",
    "    ax1.set_xlabel('假正率')\n",
    "    ax1.set_ylabel('真正率')\n",
    "    ax1.set_title('ROC曲线')\n",
    "    ax1.legend(loc='lower right')\n",
    "    ax1.grid(True, alpha=0.3)\n",
    "    \n",
    "    # PR曲线\n",
    "    precision_curve, recall_curve, _ = precision_recall_curve(targets, scores)\n",
    "    pr_auc = auc(recall_curve, precision_curve)\n",
    "    \n",
    "    ax2.plot(recall_curve, precision_curve, color='darkgreen', lw=2,\n",
    "             label=f'PR曲线 (AUC = {pr_auc:.4f})')\n",
    "    ax2.set_xlim([0.0, 1.0])\n",
    "    ax2.set_ylim([0.0, 1.05])\n",
    "    ax2.set_xlabel('召回率')\n",
    "    ax2.set_ylabel('精确率')\n",
    "    ax2.set_title('精确率-召回率曲线')\n",
    "    ax2.legend(loc='lower left')\n",
    "    ax2.grid(True, alpha=0.3)\n",
    "    \n",
    "    plt.tight_layout()\n",
    "    plt.savefig(save_path, dpi=300, bbox_inches='tight')\n",
    "    plt.show()\n",
    "    print(f\"ROC/PR曲线已保存到: {save_path}\")\n",
    "\n",
    "def generate_class_imbalance_report(metrics):\n",
    "    \"\"\"生成详细的类别不平衡分析报告\"\"\"\n",
    "    print(\"\\n\" + \"=\"*60)\n",
    "    print(\"📊 类别不平衡分析报告\")\n",
    "    print(\"=\"*60)\n",
    "    \n",
    "    # 数据分布\n",
    "    dist = metrics['class_distribution']\n",
    "    print(f\"\\n📈 数据分布:\")\n",
    "    print(f\"  真实视频样本: {dist['real_samples']}\")\n",
    "    print(f\"  伪造视频样本: {dist['fake_samples']}\")\n",
    "    print(f\"  不平衡比例: {dist['imbalance_ratio']:.2f}:1 (伪造:真实)\")\n",
    "    \n",
    "    # 类别特定性能\n",
    "    print(f\"\\n🎯 类别特定准确率:\")\n",
    "    print(f\"  真实视频检测准确率: {metrics['real_accuracy']*100:.2f}%\")\n",
    "    print(f\"  伪造视频检测准确率: {metrics['fake_accuracy']*100:.2f}%\")\n",
    "    \n",
    "    # 混淆矩阵分析\n",
    "    tn, fp, fn, tp = metrics['tn'], metrics['fp'], metrics['fn'], metrics['tp']\n",
    "    print(f\"\\n📋 混淆矩阵分析:\")\n",
    "    print(f\"  真负例 (TN): {tn} - 正确识别的真实视频\")\n",
    "    print(f\"  假正例 (FP): {fp} - 误判为伪造的真实视频\")\n",
    "    print(f\"  假负例 (FN): {fn} - 误判为真实的伪造视频\")\n",
    "    print(f\"  真正例 (TP): {tp} - 正确识别的伪造视频\")\n",
    "    \n",
    "    # 偏向性分析\n",
    "    total_predictions = tn + fp + fn + tp\n",
    "    predicted_real = tn + fn\n",
    "    predicted_fake = fp + tp\n",
    "    \n",
    "    print(f\"\\n⚖️ 模型偏向性分析:\")\n",
    "    print(f\"  预测为真实的样本: {predicted_real} ({predicted_real/total_predictions*100:.1f}%)\")\n",
    "    print(f\"  预测为伪造的样本: {predicted_fake} ({predicted_fake/total_predictions*100:.1f}%)\")\n",
    "    \n",
    "    # 问题诊断\n",
    "    print(f\"\\n🔍 问题诊断:\")\n",
    "    if metrics['real_accuracy'] < 0.1:\n",
    "        print(\"  ❌ 严重问题: 模型几乎无法识别真实视频\")\n",
    "    elif metrics['real_accuracy'] < 0.5:\n",
    "        print(\"  ⚠️  问题: 真实视频识别能力较差\")\n",
    "    else:\n",
    "        print(\"  ✅ 真实视频识别能力正常\")\n",
    "        \n",
    "    if metrics['fake_accuracy'] > 0.9 and metrics['real_accuracy'] < 0.1:\n",
    "        print(\"  ❌ 严重偏向: 模型过度偏向预测伪造视频\")\n",
    "    \n",
    "    if metrics['auc_roc'] < 0.6:\n",
    "        print(\"  ❌ AUC-ROC过低: 模型判别能力接近随机猜测\")\n",
    "    \n",
    "    # 改进建议\n",
    "    print(f\"\\n💡 改进建议:\")\n",
    "    if dist['imbalance_ratio'] > 3.0:\n",
    "        print(\"  1. 增加真实视频样本或减少伪造视频样本\")\n",
    "        print(\"  2. 使用更强的类别权重 (pos_weight > 3.0)\")\n",
    "        print(\"  3. 调整Focal Loss参数 (降低alpha, 增加gamma)\")\n",
    "    \n",
    "    if metrics['real_accuracy'] < 0.3:\n",
    "        print(\"  4. 检查数据质量，确保真实视频标签正确\")\n",
    "        print(\"  5. 使用成本敏感学习方法\")\n",
    "        print(\"  6. 考虑使用SMOTE等过采样技术\")\n",
    "    \n",
    "    if metrics['auc_roc'] < 0.6:\n",
    "        print(\"  7. 重新设计模型架构\")\n",
    "        print(\"  8. 增加模型复杂度或使用预训练模型\")\n",
    "        print(\"  9. 检查特征提取是否有效\")\n",
    "    \n",
    "    print(\"=\"*60)\n",
    "\n",
    "print(\"✅ 评估函数和可视化定义完成\")"
   ]
  },
  {
   "cell_type": "markdown",
   "id": "31f432d5",
   "metadata": {
    "papermill": {
     "duration": 0.006072,
     "end_time": "2025-07-18T08:48:47.372428",
     "exception": false,
     "start_time": "2025-07-18T08:48:47.366356",
     "status": "completed"
    },
    "tags": []
   },
   "source": [
    "# Cell 9: 数据处理和准备\n"
   ]
  },
  {
   "cell_type": "code",
   "execution_count": 10,
   "id": "1438519b",
   "metadata": {
    "execution": {
     "iopub.execute_input": "2025-07-18T08:48:47.387095Z",
     "iopub.status.busy": "2025-07-18T08:48:47.386791Z",
     "iopub.status.idle": "2025-07-18T11:59:52.801917Z",
     "shell.execute_reply": "2025-07-18T11:59:52.801176Z"
    },
    "papermill": {
     "duration": 11465.424618,
     "end_time": "2025-07-18T11:59:52.803290",
     "exception": false,
     "start_time": "2025-07-18T08:48:47.378672",
     "status": "completed"
    },
    "tags": []
   },
   "outputs": [
    {
     "name": "stdout",
     "output_type": "stream",
     "text": [
      "📁 开始数据处理...\n",
      "开始处理真实视频...\n",
      "找到 600 个真实视频\n"
     ]
    },
    {
     "name": "stderr",
     "output_type": "stream",
     "text": [
      "处理真实视频: 100%|██████████| 600/600 [50:41<00:00,  5.07s/it]\n"
     ]
    },
    {
     "name": "stdout",
     "output_type": "stream",
     "text": [
      "开始处理伪造视频...\n",
      "总共采样 1800 个伪造视频\n"
     ]
    },
    {
     "name": "stderr",
     "output_type": "stream",
     "text": [
      "处理伪造视频: 100%|██████████| 1800/1800 [2:20:24<00:00,  4.68s/it]"
     ]
    },
    {
     "name": "stdout",
     "output_type": "stream",
     "text": [
      "\n",
      "✅ 数据处理完成，共处理 2400 个视频\n",
      "真实视频: 600 个\n",
      "伪造视频: 1800 个\n",
      "数据集已保存到: ./data/train.csv\n",
      "数据集已保存到: ./data/val.csv\n",
      "数据集已保存到: ./data/test.csv\n",
      "训练集: 1678 个样本\n",
      "验证集: 240 个样本\n",
      "测试集: 482 个样本\n",
      "✅ 数据准备完成\n"
     ]
    },
    {
     "name": "stderr",
     "output_type": "stream",
     "text": [
      "\n"
     ]
    }
   ],
   "source": [
    "# Cell 9: 数据处理和准备\n",
    "\n",
    "# 如果需要处理数据（首次运行）\n",
    "if not os.path.exists('./data/train.csv'):\n",
    "    print(\"📁 开始数据处理...\")\n",
    "    data_list = process_videos_simple(BASE_DATA_DIR, max_real=600, max_fake=1800, max_frames=16)\n",
    "    \n",
    "    if len(data_list) == 0:\n",
    "        print(\"❌ 未找到数据，请检查数据路径\")\n",
    "        raise ValueError(\"数据路径错误或数据不存在\")\n",
    "    \n",
    "    train_data, val_data, test_data = create_dataset_split(data_list)\n",
    "    \n",
    "    # 保存数据集\n",
    "    save_dataset_to_csv(train_data, './data/train.csv')\n",
    "    save_dataset_to_csv(val_data, './data/val.csv')\n",
    "    save_dataset_to_csv(test_data, './data/test.csv')\n",
    "    \n",
    "    print(f\"训练集: {len(train_data)} 个样本\")\n",
    "    print(f\"验证集: {len(val_data)} 个样本\")\n",
    "    print(f\"测试集: {len(test_data)} 个样本\")\n",
    "else:\n",
    "    print(\"📊 数据集已存在，跳过数据处理步骤\")\n",
    "    # 读取现有数据集信息\n",
    "    train_df = pd.read_csv('./data/train.csv')\n",
    "    val_df = pd.read_csv('./data/val.csv')\n",
    "    test_df = pd.read_csv('./data/test.csv')\n",
    "    \n",
    "    print(f\"训练集: {len(train_df)} 个样本\")\n",
    "    print(f\"验证集: {len(val_df)} 个样本\")\n",
    "    print(f\"测试集: {len(test_df)} 个样本\")\n",
    "    \n",
    "    # 显示数据分布\n",
    "    print(\"\\n原始数据分布:\")\n",
    "    print(\"训练集标签分布:\")\n",
    "    print(train_df['label'].value_counts())\n",
    "    print(\"\\n验证集标签分布:\")\n",
    "    print(val_df['label'].value_counts())\n",
    "    print(\"\\n测试集标签分布:\")\n",
    "    print(test_df['label'].value_counts())\n",
    "    \n",
    "    # 检查类别不平衡并进行重采样\n",
    "    real_count = (train_df['label'] == 0).sum()\n",
    "    fake_count = (train_df['label'] == 1).sum()\n",
    "    imbalance_ratio = fake_count / real_count if real_count > 0 else float('inf')\n",
    "    \n",
    "    print(f\"\\n类别不平衡比例: {imbalance_ratio:.2f} (伪造/真实)\")\n",
    "    \n",
    "    if imbalance_ratio > 2.0:  # 如果不平衡比例超过2:1\n",
    "        print(\"🔄 检测到严重类别不平衡，进行数据重采样...\")\n",
    "        \n",
    "        # 分离真实和伪造样本\n",
    "        real_samples = train_df[train_df['label'] == 0]\n",
    "        fake_samples = train_df[train_df['label'] == 1]\n",
    "        \n",
    "        # 计算需要过采样的数量（使比例接近1:2）\n",
    "        target_real_count = fake_count // 2\n",
    "        if target_real_count > real_count:\n",
    "            # 过采样真实样本\n",
    "            oversample_count = target_real_count - real_count\n",
    "            oversampled_real = real_samples.sample(n=oversample_count, replace=True, random_state=42)\n",
    "            \n",
    "            # 合并重采样后的数据\n",
    "            balanced_train_df = pd.concat([real_samples, oversampled_real, fake_samples], ignore_index=True)\n",
    "            balanced_train_df = balanced_train_df.sample(frac=1, random_state=42).reset_index(drop=True)  # 打乱\n",
    "            \n",
    "            # 保存重采样后的训练集\n",
    "            balanced_train_df.to_csv('./data/train_balanced.csv', index=False)\n",
    "            \n",
    "            print(f\"重采样后训练集: {len(balanced_train_df)} 个样本\")\n",
    "            print(\"重采样后标签分布:\")\n",
    "            print(balanced_train_df['label'].value_counts())\n",
    "            \n",
    "            # 更新训练数据引用\n",
    "            train_df = balanced_train_df\n",
    "        else:\n",
    "            print(\"真实样本数量已足够，无需过采样\")\n",
    "    else:\n",
    "        print(\"类别分布相对平衡，无需重采样\")\n",
    "\n",
    "print(\"✅ 数据准备完成\")"
   ]
  },
  {
   "cell_type": "markdown",
   "id": "003f3275",
   "metadata": {
    "papermill": {
     "duration": 0.099316,
     "end_time": "2025-07-18T11:59:53.006705",
     "exception": false,
     "start_time": "2025-07-18T11:59:52.907389",
     "status": "completed"
    },
    "tags": []
   },
   "source": [
    "# Cell 10: 创建数据加载器\n"
   ]
  },
  {
   "cell_type": "code",
   "execution_count": 11,
   "id": "d4211f86",
   "metadata": {
    "execution": {
     "iopub.execute_input": "2025-07-18T11:59:53.204536Z",
     "iopub.status.busy": "2025-07-18T11:59:53.204258Z",
     "iopub.status.idle": "2025-07-18T11:59:53.288050Z",
     "shell.execute_reply": "2025-07-18T11:59:53.287297Z"
    },
    "papermill": {
     "duration": 0.184391,
     "end_time": "2025-07-18T11:59:53.289147",
     "exception": false,
     "start_time": "2025-07-18T11:59:53.104756",
     "status": "completed"
    },
    "tags": []
   },
   "outputs": [
    {
     "name": "stdout",
     "output_type": "stream",
     "text": [
      "📊 创建数据加载器...\n",
      "🔧 创建数据集（Kaggle T4优化配置）...\n",
      "📊 数据类型: FP32 (兼容性优先)\n",
      "✅ 成功加载CSV文件: ./data/train.csv\n",
      "📊 数据分布: 真实=419, 伪造=1259\n",
      "✅ 数据集初始化完成: 1678 个样本\n",
      "✅ 成功加载CSV文件: ./data/val.csv\n",
      "📊 数据分布: 真实=60, 伪造=180\n",
      "✅ 数据集初始化完成: 240 个样本\n",
      "✅ 成功加载CSV文件: ./data/test.csv\n",
      "📊 数据分布: 真实=121, 伪造=361\n",
      "✅ 数据集初始化完成: 482 个样本\n",
      "📊 数据集大小: 训练=1678, 验证=240, 测试=482\n",
      "使用批次大小: 4 (基于GPU内存自动调整)\n",
      "🔥 数据加载配置: 0 workers (单进程模式确保稳定性)\n",
      "✅ 数据加载器创建完成\n",
      "训练批次数: 419 (批次大小: 4)\n",
      "验证批次数: 60\n",
      "测试批次数: 121\n",
      "数据加载worker数: 0\n",
      "⚠️ 使用单进程模式确保稳定性，如需多进程请确保数据路径正确且帧提取函数可用\n"
     ]
    }
   ],
   "source": [
    "# Cell 10: 创建数据加载器 - Kaggle T4 优化版本\n",
    "\n",
    "import multiprocessing as mp\n",
    "\n",
    "print(\"📊 创建数据加载器...\")\n",
    "\n",
    "# 简化数据变换 - 使用GPU预处理替代CPU变换\n",
    "train_transform = None\n",
    "val_transform = None\n",
    "\n",
    "print(f\"🔧 创建数据集（Kaggle T4优化配置）...\")\n",
    "print(f\"📊 数据类型: FP32 (兼容性优先)\")\n",
    "\n",
    "# 创建数据集 - 禁用GPU预处理以避免多进程冲突\n",
    "train_dataset = DeepfakeVideoDataset(\n",
    "    csv_file='./data/train.csv',\n",
    "    transform=train_transform,\n",
    "    max_frames=16,\n",
    "    gpu_preprocessing=False,  # 在多进程环境中禁用GPU预处理\n",
    "    cache_frames=False  # 避免内存压力\n",
    ")\n",
    "\n",
    "val_dataset = DeepfakeVideoDataset(\n",
    "    csv_file='./data/val.csv',\n",
    "    transform=val_transform,\n",
    "    max_frames=16,\n",
    "    gpu_preprocessing=False,\n",
    "    cache_frames=False\n",
    ")\n",
    "\n",
    "test_dataset = DeepfakeVideoDataset(\n",
    "    csv_file='./data/test.csv',\n",
    "    transform=val_transform,\n",
    "    max_frames=16,\n",
    "    gpu_preprocessing=False,\n",
    "    cache_frames=False\n",
    ")\n",
    "\n",
    "print(f\"📊 数据集大小: 训练={len(train_dataset)}, 验证={len(val_dataset)}, 测试={len(test_dataset)}\")\n",
    "\n",
    "# 优化批次大小配置\n",
    "# 动态调整批次大小以最大化GPU利用率\n",
    "if torch.cuda.is_available():\n",
    "    gpu_memory_gb = torch.cuda.get_device_properties(0).total_memory / 1024**3\n",
    "    if gpu_memory_gb >= 14:  # T4 GPU\n",
    "        batch_size = 4  # 增加批次大小以提升效率\n",
    "    else:\n",
    "        batch_size = 2\n",
    "else:\n",
    "    batch_size = 1\n",
    "\n",
    "print(f\"使用批次大小: {batch_size} (基于GPU内存自动调整)\")\n",
    "\n",
    "# 优化数据加载器配置 - 减少worker数量以避免崩溃\n",
    "if IS_KAGGLE:\n",
    "    num_workers = 0  # Kaggle环境使用单进程避免worker崩溃\n",
    "    prefetch_factor = None\n",
    "    persistent_workers = False\n",
    "else:\n",
    "    num_workers = 0  # 暂时使用单进程模式确保稳定性\n",
    "    prefetch_factor = None\n",
    "    persistent_workers = False\n",
    "\n",
    "print(f\"🔥 数据加载配置: {num_workers} workers (单进程模式确保稳定性)\")\n",
    "\n",
    "# 创建数据加载器\n",
    "train_loader = DataLoader(\n",
    "    train_dataset,\n",
    "    batch_size=batch_size,\n",
    "    shuffle=True,\n",
    "    num_workers=num_workers,\n",
    "    pin_memory=False,  # 在单进程模式下禁用pin_memory\n",
    "    drop_last=True,  # 确保批次大小一致\n",
    "    prefetch_factor=prefetch_factor,\n",
    "    persistent_workers=persistent_workers\n",
    ")\n",
    "\n",
    "val_loader = DataLoader(\n",
    "    val_dataset,\n",
    "    batch_size=batch_size,\n",
    "    shuffle=False,\n",
    "    num_workers=num_workers,\n",
    "    pin_memory=False,\n",
    "    prefetch_factor=prefetch_factor,\n",
    "    persistent_workers=persistent_workers\n",
    ")\n",
    "\n",
    "test_loader = DataLoader(\n",
    "    test_dataset,\n",
    "    batch_size=batch_size,\n",
    "    shuffle=False,\n",
    "    num_workers=num_workers,\n",
    "    pin_memory=False,\n",
    "    prefetch_factor=prefetch_factor,\n",
    "    persistent_workers=persistent_workers\n",
    ")\n",
    "\n",
    "print(f\"✅ 数据加载器创建完成\")\n",
    "print(f\"训练批次数: {len(train_loader)} (批次大小: {batch_size})\")\n",
    "print(f\"验证批次数: {len(val_loader)}\")\n",
    "print(f\"测试批次数: {len(test_loader)}\")\n",
    "print(f\"数据加载worker数: {num_workers}\")\n",
    "print(\"⚠️ 使用单进程模式确保稳定性，如需多进程请确保数据路径正确且帧提取函数可用\")"
   ]
  },
  {
   "cell_type": "markdown",
   "id": "f5c5839a",
   "metadata": {
    "papermill": {
     "duration": 0.099341,
     "end_time": "2025-07-18T11:59:53.487935",
     "exception": false,
     "start_time": "2025-07-18T11:59:53.388594",
     "status": "completed"
    },
    "tags": []
   },
   "source": [
    "# Cell 11: 模型初始化和训练配置\n"
   ]
  },
  {
   "cell_type": "code",
   "execution_count": 12,
   "id": "3fd5f1cb",
   "metadata": {
    "execution": {
     "iopub.execute_input": "2025-07-18T11:59:53.697941Z",
     "iopub.status.busy": "2025-07-18T11:59:53.697161Z",
     "iopub.status.idle": "2025-07-18T11:59:55.246924Z",
     "shell.execute_reply": "2025-07-18T11:59:55.246030Z"
    },
    "papermill": {
     "duration": 1.659766,
     "end_time": "2025-07-18T11:59:55.248253",
     "exception": false,
     "start_time": "2025-07-18T11:59:53.588487",
     "status": "completed"
    },
    "tags": []
   },
   "outputs": [
    {
     "name": "stdout",
     "output_type": "stream",
     "text": [
      "🤖 创建和配置模型...\n"
     ]
    },
    {
     "name": "stderr",
     "output_type": "stream",
     "text": [
      "Downloading: \"https://download.pytorch.org/models/resnet50-0676ba61.pth\" to /root/.cache/torch/hub/checkpoints/resnet50-0676ba61.pth\n",
      "100%|██████████| 97.8M/97.8M [00:00<00:00, 167MB/s]\n"
     ]
    },
    {
     "name": "stdout",
     "output_type": "stream",
     "text": [
      "✅ 模型已创建并移动到 cuda\n",
      "📊 模型参数数量: 45,156,417\n",
      "🎮 GPU: Tesla T4\n",
      "💾 GPU内存: 14.7GB\n",
      "📊 类别分布 - 真实: 419, 伪造: 1259\n",
      "⚖️ 正样本权重: 0.33\n",
      "✅ 启用混合精度训练 (AMP)\n",
      "🎯 训练配置:\n",
      "  - 训练轮数: 50\n",
      "  - 初始学习率: 2.00e-04\n",
      "  - 权重衰减: 1.00e-04\n",
      "  - 早停耐心值: 15\n",
      "  - 混合精度: 启用\n",
      "✅ 模型和训练配置完成\n"
     ]
    }
   ],
   "source": [
    "# Cell 11: 模型初始化和训练配置 - Kaggle T4 GPU优化版本\n",
    "\n",
    "import torch.nn as nn\n",
    "\n",
    "print(\"🤖 创建和配置模型...\")\n",
    "\n",
    "# 创建模型 - 针对Kaggle T4 GPU优化\n",
    "model = OptimizedDeepfakeDetector(\n",
    "    backbone='resnet50',\n",
    "    hidden_dim=512,\n",
    "    num_layers=2,\n",
    "    dropout=0.3,\n",
    "    use_attention=True\n",
    ").to(device)\n",
    "\n",
    "print(f\"✅ 模型已创建并移动到 {device}\")\n",
    "print(f\"📊 模型参数数量: {sum(p.numel() for p in model.parameters()):,}\")\n",
    "\n",
    "# 优化GPU内存配置\n",
    "if torch.cuda.is_available():\n",
    "    torch.cuda.set_per_process_memory_fraction(0.85)  # 提高内存利用率\n",
    "    print(f\"🎮 GPU: {torch.cuda.get_device_name(0)}\")\n",
    "    print(f\"💾 GPU内存: {torch.cuda.get_device_properties(0).total_memory / 1024**3:.1f}GB\")\n",
    "\n",
    "# 损失函数 - 使用类别权重平衡\n",
    "# 计算类别权重 - 修复版本\n",
    "if hasattr(train_dataset, 'real_count') and hasattr(train_dataset, 'fake_count'):\n",
    "    # 使用预计算的统计信息\n",
    "    real_count = train_dataset.real_count\n",
    "    fake_count = train_dataset.fake_count\n",
    "else:\n",
    "    # 回退方案：手动计算\n",
    "    if hasattr(train_dataset, 'data_list') and train_dataset.data_list is not None:\n",
    "        real_count = sum(1 for item in train_dataset.data_list if item['label'] == 0)\n",
    "        fake_count = sum(1 for item in train_dataset.data_list if item['label'] == 1)\n",
    "    elif hasattr(train_dataset, 'df') and train_dataset.df is not None:\n",
    "        real_count = len(train_dataset.df[train_dataset.df['label'] == 0])\n",
    "        fake_count = len(train_dataset.df[train_dataset.df['label'] == 1])\n",
    "    else:\n",
    "        # 默认值\n",
    "        real_count = 1\n",
    "        fake_count = 1\n",
    "        print(\"⚠️ 无法获取类别分布，使用默认权重\")\n",
    "\n",
    "# 确保计数不为零\n",
    "real_count = max(real_count, 1)\n",
    "fake_count = max(fake_count, 1)\n",
    "\n",
    "pos_weight = torch.tensor([real_count / fake_count], device=device)\n",
    "\n",
    "print(f\"📊 类别分布 - 真实: {real_count}, 伪造: {fake_count}\")\n",
    "print(f\"⚖️ 正样本权重: {pos_weight.item():.2f}\")\n",
    "\n",
    "# 使用FocalLoss处理类别不平衡\n",
    "criterion = FocalLoss(\n",
    "    alpha=0.25,\n",
    "    gamma=2.0,  # 降低gamma值，减少对困难样本的过度关注\n",
    "    pos_weight=pos_weight,\n",
    "    reduction='mean'\n",
    ")\n",
    "\n",
    "# 优化器配置 - 使用AdamW和学习率调度\n",
    "optimizer = optim.AdamW(\n",
    "    model.parameters(),\n",
    "    lr=2e-4,  # 提高初始学习率\n",
    "    weight_decay=1e-4,  # 增加权重衰减\n",
    "    betas=(0.9, 0.999),\n",
    "    eps=1e-8\n",
    ")\n",
    "\n",
    "# 学习率调度器 - 使用余弦退火\n",
    "scheduler = CosineAnnealingWarmRestarts(\n",
    "    optimizer,\n",
    "    T_0=10,  # 初始重启周期\n",
    "    T_mult=2,  # 周期倍增因子\n",
    "    eta_min=1e-6  # 最小学习率\n",
    ")\n",
    "\n",
    "# 早停机制\n",
    "early_stopping = EarlyStopping(\n",
    "    patience=15,  # 增加耐心值\n",
    "    min_delta=0.001,\n",
    "    restore_best_weights=True\n",
    ")\n",
    "\n",
    "# 混合精度训练 - 仅在支持的GPU上启用\n",
    "use_amp = torch.cuda.is_available() and torch.cuda.get_device_capability()[0] >= 7\n",
    "if use_amp:\n",
    "    scaler = GradScaler()\n",
    "    print(\"✅ 启用混合精度训练 (AMP)\")\n",
    "else:\n",
    "    scaler = None\n",
    "    print(\"📝 使用FP32训练 (兼容性模式)\")\n",
    "\n",
    "# 训练配置\n",
    "num_epochs = 50  # 增加训练轮数\n",
    "print(f\"🎯 训练配置:\")\n",
    "print(f\"  - 训练轮数: {num_epochs}\")\n",
    "print(f\"  - 初始学习率: {optimizer.param_groups[0]['lr']:.2e}\")\n",
    "print(f\"  - 权重衰减: {optimizer.param_groups[0]['weight_decay']:.2e}\")\n",
    "print(f\"  - 早停耐心值: {early_stopping.patience}\")\n",
    "print(f\"  - 混合精度: {'启用' if use_amp else '禁用'}\")\n",
    "\n",
    "print(\"✅ 模型和训练配置完成\")"
   ]
  },
  {
   "cell_type": "markdown",
   "id": "5e201ef3",
   "metadata": {
    "papermill": {
     "duration": 0.101979,
     "end_time": "2025-07-18T11:59:55.453096",
     "exception": false,
     "start_time": "2025-07-18T11:59:55.351117",
     "status": "completed"
    },
    "tags": []
   },
   "source": [
    "# Cell 12: 模型训练主循环\n"
   ]
  },
  {
   "cell_type": "code",
   "execution_count": 13,
   "id": "2ef6709f",
   "metadata": {
    "execution": {
     "iopub.execute_input": "2025-07-18T11:59:55.661394Z",
     "iopub.status.busy": "2025-07-18T11:59:55.660665Z",
     "iopub.status.idle": "2025-07-18T12:46:11.899525Z",
     "shell.execute_reply": "2025-07-18T12:46:11.898491Z"
    },
    "papermill": {
     "duration": 2776.346662,
     "end_time": "2025-07-18T12:46:11.900976",
     "exception": false,
     "start_time": "2025-07-18T11:59:55.554314",
     "status": "completed"
    },
    "tags": []
   },
   "outputs": [
    {
     "name": "stdout",
     "output_type": "stream",
     "text": [
      "🚀 开始训练...\n",
      "📊 训练配置: 419 个训练批次, 60 个验证批次\n",
      "🎯 模型参数数量: 45,156,417\n",
      "💾 设备: cuda\n",
      "📦 批次大小: 4\n",
      "🎮 GPU: Tesla T4\n",
      "\n",
      "🔄 开始训练循环...\n",
      "\n",
      "Epoch 1/50\n"
     ]
    },
    {
     "name": "stderr",
     "output_type": "stream",
     "text": [
      "                                                                                    \r"
     ]
    },
    {
     "name": "stdout",
     "output_type": "stream",
     "text": [
      "  类别准确率 - 真实: 99.8%, 伪造: 0.2%\n"
     ]
    },
    {
     "name": "stderr",
     "output_type": "stream",
     "text": [
      "                                                                                    \r"
     ]
    },
    {
     "name": "stdout",
     "output_type": "stream",
     "text": [
      "  类别准确率 - 真实: 100.0%, 伪造: 0.0%\n",
      "训练: Loss=0.0158, Acc=25.06%, AUC=0.5027\n",
      "验证: Loss=0.0155, Acc=25.00%, AUC=0.4875\n",
      "学习率: 1.95e-04, 用时: 169.4s\n",
      "🎯 新的最佳模型! Loss: 0.0155, Acc: 25.00%, AUC: 0.4875\n",
      "💾 最佳模型已保存\n",
      "\n",
      "Epoch 2/50\n"
     ]
    },
    {
     "name": "stderr",
     "output_type": "stream",
     "text": [
      "                                                                                    \r"
     ]
    },
    {
     "name": "stdout",
     "output_type": "stream",
     "text": [
      "  类别准确率 - 真实: 100.0%, 伪造: 0.0%\n"
     ]
    },
    {
     "name": "stderr",
     "output_type": "stream",
     "text": [
      "                                                                                    \r"
     ]
    },
    {
     "name": "stdout",
     "output_type": "stream",
     "text": [
      "  类别准确率 - 真实: 100.0%, 伪造: 0.0%\n",
      "训练: Loss=0.0153, Acc=25.00%, AUC=0.4973\n",
      "验证: Loss=0.0144, Acc=25.00%, AUC=0.4722\n",
      "学习率: 1.81e-04, 用时: 164.8s\n",
      "🎯 新的最佳模型! Loss: 0.0144, Acc: 25.00%, AUC: 0.4722\n",
      "💾 最佳模型已保存\n",
      "\n",
      "Epoch 3/50\n"
     ]
    },
    {
     "name": "stderr",
     "output_type": "stream",
     "text": [
      "                                                                                    \r"
     ]
    },
    {
     "name": "stdout",
     "output_type": "stream",
     "text": [
      "  类别准确率 - 真实: 100.0%, 伪造: 0.0%\n"
     ]
    },
    {
     "name": "stderr",
     "output_type": "stream",
     "text": [
      "                                                                                    \r"
     ]
    },
    {
     "name": "stdout",
     "output_type": "stream",
     "text": [
      "  类别准确率 - 真实: 100.0%, 伪造: 0.0%\n",
      "训练: Loss=0.0153, Acc=24.94%, AUC=0.4927\n",
      "验证: Loss=0.0145, Acc=25.00%, AUC=0.4812\n",
      "学习率: 1.59e-04, 用时: 164.4s\n",
      "\n",
      "Epoch 4/50\n"
     ]
    },
    {
     "name": "stderr",
     "output_type": "stream",
     "text": [
      "                                                                                    \r"
     ]
    },
    {
     "name": "stdout",
     "output_type": "stream",
     "text": [
      "  类别准确率 - 真实: 100.0%, 伪造: 0.0%\n"
     ]
    },
    {
     "name": "stderr",
     "output_type": "stream",
     "text": [
      "                                                                                    \r"
     ]
    },
    {
     "name": "stdout",
     "output_type": "stream",
     "text": [
      "  类别准确率 - 真实: 100.0%, 伪造: 0.0%\n",
      "训练: Loss=0.0148, Acc=24.94%, AUC=0.4978\n",
      "验证: Loss=0.0142, Acc=25.00%, AUC=0.4890\n",
      "学习率: 1.31e-04, 用时: 164.4s\n",
      "🎯 新的最佳模型! Loss: 0.0142, Acc: 25.00%, AUC: 0.4890\n",
      "💾 最佳模型已保存\n",
      "\n",
      "Epoch 5/50\n"
     ]
    },
    {
     "name": "stderr",
     "output_type": "stream",
     "text": [
      "                                                                                    \r"
     ]
    },
    {
     "name": "stdout",
     "output_type": "stream",
     "text": [
      "  类别准确率 - 真实: 100.0%, 伪造: 0.0%\n"
     ]
    },
    {
     "name": "stderr",
     "output_type": "stream",
     "text": [
      "                                                                                    \r"
     ]
    },
    {
     "name": "stdout",
     "output_type": "stream",
     "text": [
      "  类别准确率 - 真实: 100.0%, 伪造: 0.0%\n",
      "训练: Loss=0.0147, Acc=25.00%, AUC=0.4941\n",
      "验证: Loss=0.0142, Acc=25.00%, AUC=0.4833\n",
      "学习率: 1.01e-04, 用时: 163.5s\n",
      "\n",
      "Epoch 6/50\n"
     ]
    },
    {
     "name": "stderr",
     "output_type": "stream",
     "text": [
      "                                                                                    \r"
     ]
    },
    {
     "name": "stdout",
     "output_type": "stream",
     "text": [
      "  类别准确率 - 真实: 100.0%, 伪造: 0.0%\n"
     ]
    },
    {
     "name": "stderr",
     "output_type": "stream",
     "text": [
      "                                                                                    \r"
     ]
    },
    {
     "name": "stdout",
     "output_type": "stream",
     "text": [
      "  类别准确率 - 真实: 100.0%, 伪造: 0.0%\n",
      "训练: Loss=0.0146, Acc=25.00%, AUC=0.5012\n",
      "验证: Loss=0.0143, Acc=25.00%, AUC=0.5472\n",
      "学习率: 6.98e-05, 用时: 164.8s\n",
      "\n",
      "Epoch 7/50\n"
     ]
    },
    {
     "name": "stderr",
     "output_type": "stream",
     "text": [
      "                                                                                    \r"
     ]
    },
    {
     "name": "stdout",
     "output_type": "stream",
     "text": [
      "  类别准确率 - 真实: 100.0%, 伪造: 0.0%\n"
     ]
    },
    {
     "name": "stderr",
     "output_type": "stream",
     "text": [
      "                                                                                    \r"
     ]
    },
    {
     "name": "stdout",
     "output_type": "stream",
     "text": [
      "  类别准确率 - 真实: 100.0%, 伪造: 0.0%\n",
      "训练: Loss=0.0145, Acc=25.00%, AUC=0.4940\n",
      "验证: Loss=0.0144, Acc=25.00%, AUC=0.4972\n",
      "学习率: 4.20e-05, 用时: 164.6s\n",
      "\n",
      "Epoch 8/50\n"
     ]
    },
    {
     "name": "stderr",
     "output_type": "stream",
     "text": [
      "                                                                                    \r"
     ]
    },
    {
     "name": "stdout",
     "output_type": "stream",
     "text": [
      "  类别准确率 - 真实: 100.0%, 伪造: 0.0%\n"
     ]
    },
    {
     "name": "stderr",
     "output_type": "stream",
     "text": [
      "                                                                                    \r"
     ]
    },
    {
     "name": "stdout",
     "output_type": "stream",
     "text": [
      "  类别准确率 - 真实: 100.0%, 伪造: 0.0%\n",
      "训练: Loss=0.0144, Acc=24.94%, AUC=0.5115\n",
      "验证: Loss=0.0143, Acc=25.00%, AUC=0.5000\n",
      "学习率: 2.00e-05, 用时: 163.8s\n",
      "\n",
      "Epoch 9/50\n"
     ]
    },
    {
     "name": "stderr",
     "output_type": "stream",
     "text": [
      "                                                                                    \r"
     ]
    },
    {
     "name": "stdout",
     "output_type": "stream",
     "text": [
      "  类别准确率 - 真实: 100.0%, 伪造: 0.0%\n"
     ]
    },
    {
     "name": "stderr",
     "output_type": "stream",
     "text": [
      "                                                                                    \r"
     ]
    },
    {
     "name": "stdout",
     "output_type": "stream",
     "text": [
      "  类别准确率 - 真实: 100.0%, 伪造: 0.0%\n",
      "训练: Loss=0.0145, Acc=24.88%, AUC=0.4799\n",
      "验证: Loss=0.0142, Acc=25.00%, AUC=0.5167\n",
      "学习率: 5.87e-06, 用时: 162.6s\n",
      "🎯 新的最佳模型! Loss: 0.0142, Acc: 25.00%, AUC: 0.5167\n",
      "💾 最佳模型已保存\n",
      "\n",
      "Epoch 10/50\n"
     ]
    },
    {
     "name": "stderr",
     "output_type": "stream",
     "text": [
      "                                                                                    \r"
     ]
    },
    {
     "name": "stdout",
     "output_type": "stream",
     "text": [
      "  类别准确率 - 真实: 100.0%, 伪造: 0.0%\n"
     ]
    },
    {
     "name": "stderr",
     "output_type": "stream",
     "text": [
      "                                                                                    \r"
     ]
    },
    {
     "name": "stdout",
     "output_type": "stream",
     "text": [
      "  类别准确率 - 真实: 100.0%, 伪造: 0.0%\n",
      "训练: Loss=0.0143, Acc=25.00%, AUC=0.5197\n",
      "验证: Loss=0.0142, Acc=25.00%, AUC=0.4855\n",
      "学习率: 2.00e-04, 用时: 162.0s\n",
      "\n",
      "Epoch 11/50\n"
     ]
    },
    {
     "name": "stderr",
     "output_type": "stream",
     "text": [
      "                                                                                    \r"
     ]
    },
    {
     "name": "stdout",
     "output_type": "stream",
     "text": [
      "  类别准确率 - 真实: 100.0%, 伪造: 0.0%\n"
     ]
    },
    {
     "name": "stderr",
     "output_type": "stream",
     "text": [
      "                                                                                    \r"
     ]
    },
    {
     "name": "stdout",
     "output_type": "stream",
     "text": [
      "  类别准确率 - 真实: 100.0%, 伪造: 0.0%\n",
      "训练: Loss=0.0149, Acc=25.00%, AUC=0.4946\n",
      "验证: Loss=0.0149, Acc=25.00%, AUC=0.5000\n",
      "学习率: 1.99e-04, 用时: 161.2s\n",
      "\n",
      "Epoch 12/50\n"
     ]
    },
    {
     "name": "stderr",
     "output_type": "stream",
     "text": [
      "                                                                                    \r"
     ]
    },
    {
     "name": "stdout",
     "output_type": "stream",
     "text": [
      "  类别准确率 - 真实: 100.0%, 伪造: 0.0%\n"
     ]
    },
    {
     "name": "stderr",
     "output_type": "stream",
     "text": [
      "                                                                                    \r"
     ]
    },
    {
     "name": "stdout",
     "output_type": "stream",
     "text": [
      "  类别准确率 - 真实: 100.0%, 伪造: 0.0%\n",
      "训练: Loss=0.0147, Acc=24.94%, AUC=0.4979\n",
      "验证: Loss=0.0146, Acc=25.00%, AUC=0.5000\n",
      "学习率: 1.95e-04, 用时: 161.2s\n",
      "\n",
      "Epoch 13/50\n"
     ]
    },
    {
     "name": "stderr",
     "output_type": "stream",
     "text": [
      "                                                                                    \r"
     ]
    },
    {
     "name": "stdout",
     "output_type": "stream",
     "text": [
      "  类别准确率 - 真实: 100.0%, 伪造: 0.0%\n"
     ]
    },
    {
     "name": "stderr",
     "output_type": "stream",
     "text": [
      "                                                                                    \r"
     ]
    },
    {
     "name": "stdout",
     "output_type": "stream",
     "text": [
      "  类别准确率 - 真实: 100.0%, 伪造: 0.0%\n",
      "训练: Loss=0.0144, Acc=25.00%, AUC=0.5277\n",
      "验证: Loss=0.0151, Acc=25.00%, AUC=0.4111\n",
      "学习率: 1.89e-04, 用时: 160.2s\n",
      "\n",
      "Epoch 14/50\n"
     ]
    },
    {
     "name": "stderr",
     "output_type": "stream",
     "text": [
      "                                                                                    \r"
     ]
    },
    {
     "name": "stdout",
     "output_type": "stream",
     "text": [
      "  类别准确率 - 真实: 100.0%, 伪造: 0.0%\n"
     ]
    },
    {
     "name": "stderr",
     "output_type": "stream",
     "text": [
      "                                                                                    \r"
     ]
    },
    {
     "name": "stdout",
     "output_type": "stream",
     "text": [
      "  类别准确率 - 真实: 100.0%, 伪造: 0.0%\n",
      "训练: Loss=0.0148, Acc=25.00%, AUC=0.4958\n",
      "验证: Loss=0.0145, Acc=25.00%, AUC=0.5000\n",
      "学习率: 1.81e-04, 用时: 160.2s\n",
      "\n",
      "Epoch 15/50\n"
     ]
    },
    {
     "name": "stderr",
     "output_type": "stream",
     "text": [
      "                                                                                    \r"
     ]
    },
    {
     "name": "stdout",
     "output_type": "stream",
     "text": [
      "  类别准确率 - 真实: 100.0%, 伪造: 0.0%\n"
     ]
    },
    {
     "name": "stderr",
     "output_type": "stream",
     "text": [
      "                                                                                    \r"
     ]
    },
    {
     "name": "stdout",
     "output_type": "stream",
     "text": [
      "  类别准确率 - 真实: 100.0%, 伪造: 0.0%\n",
      "训练: Loss=0.0147, Acc=25.00%, AUC=0.5028\n",
      "验证: Loss=0.0147, Acc=25.00%, AUC=0.5000\n",
      "学习率: 1.71e-04, 用时: 160.4s\n",
      "\n",
      "Epoch 16/50\n"
     ]
    },
    {
     "name": "stderr",
     "output_type": "stream",
     "text": [
      "                                                                                    \r"
     ]
    },
    {
     "name": "stdout",
     "output_type": "stream",
     "text": [
      "  类别准确率 - 真实: 100.0%, 伪造: 0.0%\n"
     ]
    },
    {
     "name": "stderr",
     "output_type": "stream",
     "text": [
      "                                                                                    \r"
     ]
    },
    {
     "name": "stdout",
     "output_type": "stream",
     "text": [
      "  类别准确率 - 真实: 100.0%, 伪造: 0.0%\n",
      "训练: Loss=0.0144, Acc=24.94%, AUC=0.5174\n",
      "验证: Loss=0.0145, Acc=25.00%, AUC=0.5389\n",
      "学习率: 1.59e-04, 用时: 160.4s\n",
      "\n",
      "Epoch 17/50\n"
     ]
    },
    {
     "name": "stderr",
     "output_type": "stream",
     "text": [
      "                                                                                    \r"
     ]
    },
    {
     "name": "stdout",
     "output_type": "stream",
     "text": [
      "  类别准确率 - 真实: 100.0%, 伪造: 0.0%\n"
     ]
    },
    {
     "name": "stderr",
     "output_type": "stream",
     "text": [
      "                                                                                    "
     ]
    },
    {
     "name": "stdout",
     "output_type": "stream",
     "text": [
      "  类别准确率 - 真实: 100.0%, 伪造: 0.0%\n",
      "训练: Loss=0.0146, Acc=24.94%, AUC=0.5038\n",
      "验证: Loss=0.0148, Acc=25.00%, AUC=0.5750\n",
      "学习率: 1.46e-04, 用时: 163.4s\n",
      "\n",
      "⏹️ 早停触发，在第 17 轮停止训练\n",
      "\n",
      "✅ 训练完成!\n",
      "🏆 最终最佳性能: Loss=0.0142, Acc=25.00%, AUC=0.5167\n",
      "💾 峰值GPU内存使用: 4.3GB\n"
     ]
    },
    {
     "name": "stderr",
     "output_type": "stream",
     "text": [
      "\r"
     ]
    }
   ],
   "source": [
    "# Cell 12: 训练循环 - Kaggle T4 GPU优化版本\n",
    "\n",
    "# 确保模型保存目录存在\n",
    "import os\n",
    "import torch\n",
    "from datetime import datetime\n",
    "\n",
    "os.makedirs('./models', exist_ok=True)\n",
    "\n",
    "print(\"🚀 开始训练...\")\n",
    "print(f\"📊 训练配置: {len(train_loader)} 个训练批次, {len(val_loader)} 个验证批次\")\n",
    "print(f\"🎯 模型参数数量: {sum(p.numel() for p in model.parameters()):,}\")\n",
    "print(f\"💾 设备: {device}\")\n",
    "print(f\"📦 批次大小: {batch_size}\")\n",
    "\n",
    "if torch.cuda.is_available():\n",
    "    print(f\"🎮 GPU: {torch.cuda.get_device_name(0)}\")\n",
    "    torch.cuda.reset_peak_memory_stats()\n",
    "\n",
    "# 训练历史记录\n",
    "train_history = {\n",
    "    'train_loss': [],\n",
    "    'val_loss': [],\n",
    "    'train_acc': [],\n",
    "    'val_acc': [],\n",
    "    'train_auc': [],\n",
    "    'val_auc': []\n",
    "}\n",
    "best_val_loss = float('inf')\n",
    "best_val_acc = 0.0\n",
    "best_val_auc = 0.0\n",
    "best_model_state = None\n",
    "\n",
    "# 训练循环\n",
    "print(\"\\n🔄 开始训练循环...\")\n",
    "for epoch in range(num_epochs):\n",
    "    epoch_start_time = time.time()\n",
    "    print(f\"\\nEpoch {epoch+1}/{num_epochs}\")\n",
    "    \n",
    "    # 训练阶段\n",
    "    train_loss, train_acc, train_auc = train_epoch(model, train_loader, criterion, optimizer, device, scaler)\n",
    "    \n",
    "    # 验证阶段\n",
    "    val_loss, val_acc, val_auc = validate_epoch(model, val_loader, criterion, device, scaler)\n",
    "    \n",
    "    # 记录历史\n",
    "    train_history['train_loss'].append(train_loss)\n",
    "    train_history['train_acc'].append(train_acc)\n",
    "    train_history['train_auc'].append(train_auc)\n",
    "    train_history['val_loss'].append(val_loss)\n",
    "    train_history['val_acc'].append(val_acc)\n",
    "    train_history['val_auc'].append(val_auc)\n",
    "    \n",
    "    # 学习率调度\n",
    "    scheduler.step()\n",
    "    current_lr = optimizer.param_groups[0]['lr']\n",
    "    \n",
    "    # 计算epoch时间\n",
    "    epoch_time = time.time() - epoch_start_time\n",
    "    \n",
    "    # 打印结果\n",
    "    print(f\"训练: Loss={train_loss:.4f}, Acc={train_acc:.2f}%, AUC={train_auc:.4f}\")\n",
    "    print(f\"验证: Loss={val_loss:.4f}, Acc={val_acc:.2f}%, AUC={val_auc:.4f}\")\n",
    "    print(f\"学习率: {current_lr:.2e}, 用时: {epoch_time:.1f}s\")\n",
    "    \n",
    "    # 保存最佳模型\n",
    "    if val_loss < best_val_loss:\n",
    "        best_val_loss = val_loss\n",
    "        best_val_acc = val_acc\n",
    "        best_val_auc = val_auc\n",
    "        best_model_state = model.state_dict().copy()\n",
    "        print(f\"🎯 新的最佳模型! Loss: {best_val_loss:.4f}, Acc: {best_val_acc:.2f}%, AUC: {best_val_auc:.4f}\")\n",
    "        \n",
    "        # 保存最佳模型到文件\n",
    "        torch.save({\n",
    "            'epoch': epoch,\n",
    "            'model_state_dict': best_model_state,\n",
    "            'optimizer_state_dict': optimizer.state_dict(),\n",
    "            'best_val_loss': best_val_loss,\n",
    "            'best_val_acc': best_val_acc,\n",
    "            'best_val_auc': best_val_auc,\n",
    "            'train_history': train_history\n",
    "        }, './models/best_model.pth')\n",
    "        print(\"💾 最佳模型已保存\")\n",
    "    \n",
    "    # 早停检查\n",
    "    if early_stopping(val_loss, model):\n",
    "        print(f\"\\n⏹️ 早停触发，在第 {epoch+1} 轮停止训练\")\n",
    "        break\n",
    "    \n",
    "    # 清理GPU缓存\n",
    "    if torch.cuda.is_available():\n",
    "        torch.cuda.empty_cache()\n",
    "\n",
    "print(\"\\n✅ 训练完成!\")\n",
    "print(f\"🏆 最终最佳性能: Loss={best_val_loss:.4f}, Acc={best_val_acc:.2f}%, AUC={best_val_auc:.4f}\")\n",
    "if torch.cuda.is_available():\n",
    "    print(f\"💾 峰值GPU内存使用: {torch.cuda.max_memory_allocated() / 1024**3:.1f}GB\")"
   ]
  },
  {
   "cell_type": "markdown",
   "id": "3d56143e",
   "metadata": {
    "papermill": {
     "duration": 0.833746,
     "end_time": "2025-07-18T12:46:13.622135",
     "exception": false,
     "start_time": "2025-07-18T12:46:12.788389",
     "status": "completed"
    },
    "tags": []
   },
   "source": [
    "# Cell 13: 模型评估和结果分析\n"
   ]
  },
  {
   "cell_type": "code",
   "execution_count": 14,
   "id": "4eae4d20",
   "metadata": {
    "execution": {
     "iopub.execute_input": "2025-07-18T12:46:15.352338Z",
     "iopub.status.busy": "2025-07-18T12:46:15.352043Z",
     "iopub.status.idle": "2025-07-18T12:46:59.319458Z",
     "shell.execute_reply": "2025-07-18T12:46:59.318537Z"
    },
    "papermill": {
     "duration": 44.788244,
     "end_time": "2025-07-18T12:46:59.320866",
     "exception": false,
     "start_time": "2025-07-18T12:46:14.532622",
     "status": "completed"
    },
    "tags": []
   },
   "outputs": [
    {
     "name": "stdout",
     "output_type": "stream",
     "text": [
      "📊 开始模型评估...\n",
      "============================================================\n",
      "🔄 加载最佳模型...\n",
      "✅ 成功加载第 9 轮的最佳模型\n",
      "最佳验证准确率: 25.00%\n",
      "最佳验证AUC: 0.5167\n",
      "\n",
      "🔍 在测试集上评估模型...\n",
      "🚀 开始模型评估...\n"
     ]
    },
    {
     "name": "stderr",
     "output_type": "stream",
     "text": [
      "评估进度: 100%|██████████| 121/121 [00:40<00:00,  3.00it/s]\n"
     ]
    },
    {
     "name": "stdout",
     "output_type": "stream",
     "text": [
      "✅ 评估完成\n",
      "平均损失: 0.0142\n",
      "平均推理时间: 46.79 ms/batch\n",
      "\n",
      "📈 计算评估指标...\n",
      "\n",
      "📊 详细评估结果:\n",
      "==================================================\n",
      "测试损失: 0.0142\n",
      "准确率: 0.2510 (25.10%)\n",
      "平衡准确率: 0.5000 (50.00%)\n",
      "精确率: 0.0000\n",
      "召回率: 0.0000\n",
      "特异性: 1.0000\n",
      "F1分数: 0.0000\n",
      "AUC-ROC: 0.4943\n",
      "AUC-PR: 0.7438\n",
      "负预测值: 0.2510\n",
      "\n",
      "🔍 混淆矩阵分析:\n",
      "真负例 (TN): 121\n",
      "假正例 (FP): 0\n",
      "假负例 (FN): 361\n",
      "真正例 (TP): 0\n",
      "\n",
      "⚡ 性能分析:\n",
      "平均推理时间: 46.79 ms/batch\n",
      "总推理时间: 5.66 秒\n",
      "每个样本推理时间: 11.70 ms\n",
      "\n",
      "📋 类别特定分析:\n",
      "总样本数: 482\n",
      "真实视频样本: 121 (25.1%)\n",
      "伪造视频样本: 361 (74.9%)\n",
      "真实视频检测准确率: 1.0000 (100.00%)\n",
      "伪造视频检测准确率: 0.0000 (0.00%)\n",
      "\n",
      "📊 生成评估图表...\n"
     ]
    },
    {
     "data": {
      "image/png": "[encoded data removed]",
      "text/plain": [
       "<Figure size 1000x800 with 2 Axes>"
      ]
     },
     "metadata": {},
     "output_type": "display_data"
    },
    {
     "name": "stdout",
     "output_type": "stream",
     "text": [
      "混淆矩阵已保存到: ./results/evaluation/confusion_matrix.png\n"
     ]
    },
    {
     "data": {
      "image/png": "[encoded data removed]",
      "text/plain": [
       "<Figure size 1500x600 with 2 Axes>"
      ]
     },
     "metadata": {},
     "output_type": "display_data"
    },
    {
     "name": "stdout",
     "output_type": "stream",
     "text": [
      "ROC/PR曲线已保存到: ./results/evaluation/roc_pr_curves.png\n"
     ]
    },
    {
     "data": {
      "image/png": "[encoded data removed]",
      "text/plain": [
       "<Figure size 1200x500 with 2 Axes>"
      ]
     },
     "metadata": {},
     "output_type": "display_data"
    },
    {
     "name": "stdout",
     "output_type": "stream",
     "text": [
      "✅ 评估图表生成完成\n",
      "\n",
      "============================================================\n",
      "📊 类别不平衡分析报告\n",
      "============================================================\n",
      "\n",
      "📈 数据分布:\n",
      "  真实视频样本: 121\n",
      "  伪造视频样本: 361\n",
      "  不平衡比例: 2.98:1 (伪造:真实)\n",
      "\n",
      "🎯 类别特定准确率:\n",
      "  真实视频检测准确率: 100.00%\n",
      "  伪造视频检测准确率: 0.00%\n",
      "\n",
      "📋 混淆矩阵分析:\n",
      "  真负例 (TN): 121 - 正确识别的真实视频\n",
      "  假正例 (FP): 0 - 误判为伪造的真实视频\n",
      "  假负例 (FN): 361 - 误判为真实的伪造视频\n",
      "  真正例 (TP): 0 - 正确识别的伪造视频\n",
      "\n",
      "⚖️ 模型偏向性分析:\n",
      "  预测为真实的样本: 482 (100.0%)\n",
      "  预测为伪造的样本: 0 (0.0%)\n",
      "\n",
      "🔍 问题诊断:\n",
      "  ✅ 真实视频识别能力正常\n",
      "  ❌ AUC-ROC过低: 模型判别能力接近随机猜测\n",
      "\n",
      "💡 改进建议:\n",
      "  7. 重新设计模型架构\n",
      "  8. 增加模型复杂度或使用预训练模型\n",
      "  9. 检查特征提取是否有效\n",
      "============================================================\n",
      "============================================================\n",
      "🎉 模型评估完成！\n",
      "📁 所有结果已保存到 ./results/evaluation/ 目录\n",
      "\n",
      "💡 如果发现严重的类别偏向问题，请参考上述改进建议进行优化\n"
     ]
    }
   ],
   "source": [
    "# Cell 13: 模型评估和结果分析\n",
    "\n",
    "import torch\n",
    "import os\n",
    "\n",
    "print(\"📊 开始模型评估...\")\n",
    "print(\"=\" * 60)\n",
    "\n",
    "# 加载最佳模型\n",
    "print(\"🔄 加载最佳模型...\")\n",
    "try:\n",
    "    # 使用weights_only=False来兼容旧版本的模型文件\n",
    "    checkpoint = torch.load('./models/best_model.pth', map_location=device, weights_only=False)\n",
    "    model.load_state_dict(checkpoint['model_state_dict'])\n",
    "    best_epoch = checkpoint['epoch']\n",
    "    best_val_acc = checkpoint['best_val_acc']\n",
    "    best_val_auc = checkpoint['best_val_auc']\n",
    "    \n",
    "    print(f\"✅ 成功加载第 {best_epoch+1} 轮的最佳模型\")\n",
    "    print(f\"最佳验证准确率: {best_val_acc:.2f}%\")\n",
    "    print(f\"最佳验证AUC: {best_val_auc:.4f}\")\n",
    "except Exception as e:\n",
    "    print(f\"❌ 加载模型失败: {e}\")\n",
    "    print(\"使用当前模型进行评估\")\n",
    "\n",
    "# 在测试集上评估模型\n",
    "print(\"\\n🔍 在测试集上评估模型...\")\n",
    "eval_results = evaluate_model_optimized(model, test_loader, criterion, device)\n",
    "\n",
    "# 计算全面的评估指标\n",
    "print(\"\\n📈 计算评估指标...\")\n",
    "metrics = calculate_comprehensive_metrics(\n",
    "    eval_results['predictions'], \n",
    "    eval_results['targets'], \n",
    "    eval_results['scores']\n",
    ")\n",
    "\n",
    "# 打印详细结果\n",
    "print(\"\\n📊 详细评估结果:\")\n",
    "print(\"=\" * 50)\n",
    "print(f\"测试损失: {eval_results['loss']:.4f}\")\n",
    "print(f\"准确率: {metrics['accuracy']:.4f} ({metrics['accuracy']*100:.2f}%)\")\n",
    "print(f\"平衡准确率: {metrics['balanced_accuracy']:.4f} ({metrics['balanced_accuracy']*100:.2f}%)\")\n",
    "print(f\"精确率: {metrics['precision']:.4f}\")\n",
    "print(f\"召回率: {metrics['recall']:.4f}\")\n",
    "print(f\"特异性: {metrics['specificity']:.4f}\")\n",
    "print(f\"F1分数: {metrics['f1']:.4f}\")\n",
    "print(f\"AUC-ROC: {metrics['auc_roc']:.4f}\")\n",
    "print(f\"AUC-PR: {metrics['auc_pr']:.4f}\")\n",
    "print(f\"负预测值: {metrics['npv']:.4f}\")\n",
    "\n",
    "# 混淆矩阵详细信息\n",
    "print(\"\\n🔍 混淆矩阵分析:\")\n",
    "print(f\"真负例 (TN): {metrics['tn']}\")\n",
    "print(f\"假正例 (FP): {metrics['fp']}\")\n",
    "print(f\"假负例 (FN): {metrics['fn']}\")\n",
    "print(f\"真正例 (TP): {metrics['tp']}\")\n",
    "\n",
    "# 性能分析\n",
    "print(\"\\n⚡ 性能分析:\")\n",
    "print(f\"平均推理时间: {eval_results['avg_inference_time']*1000:.2f} ms/batch\")\n",
    "print(f\"总推理时间: {eval_results['total_inference_time']:.2f} 秒\")\n",
    "print(f\"每个样本推理时间: {eval_results['avg_inference_time']*1000/batch_size:.2f} ms\")\n",
    "\n",
    "# 计算额外指标\n",
    "total_samples = len(eval_results['targets'])\n",
    "real_samples = np.sum(eval_results['targets'] == 0)\n",
    "fake_samples = np.sum(eval_results['targets'] == 1)\n",
    "real_accuracy = np.sum((eval_results['predictions'] == 0) & (eval_results['targets'] == 0)) / real_samples if real_samples > 0 else 0\n",
    "fake_accuracy = np.sum((eval_results['predictions'] == 1) & (eval_results['targets'] == 1)) / fake_samples if fake_samples > 0 else 0\n",
    "\n",
    "print(\"\\n📋 类别特定分析:\")\n",
    "print(f\"总样本数: {total_samples}\")\n",
    "print(f\"真实视频样本: {real_samples} ({real_samples/total_samples*100:.1f}%)\")\n",
    "print(f\"伪造视频样本: {fake_samples} ({fake_samples/total_samples*100:.1f}%)\")\n",
    "print(f\"真实视频检测准确率: {real_accuracy:.4f} ({real_accuracy*100:.2f}%)\")\n",
    "print(f\"伪造视频检测准确率: {fake_accuracy:.4f} ({fake_accuracy*100:.2f}%)\")\n",
    "\n",
    "# 生成可视化图表\n",
    "print(\"\\n📊 生成评估图表...\")\n",
    "\n",
    "# 确保结果目录存在\n",
    "os.makedirs('./results/evaluation', exist_ok=True)\n",
    "\n",
    "# 绘制增强混淆矩阵\n",
    "plot_enhanced_confusion_matrix(\n",
    "    metrics['confusion_matrix'], \n",
    "    './results/evaluation/confusion_matrix.png'\n",
    ")\n",
    "\n",
    "# 绘制ROC和PR曲线\n",
    "plot_roc_pr_curves(\n",
    "    eval_results['targets'], \n",
    "    eval_results['scores'], \n",
    "    './results/evaluation/roc_pr_curves.png'\n",
    ")\n",
    "\n",
    "# 预测分数分布图\n",
    "plt.figure(figsize=(12, 5))\n",
    "\n",
    "# 真实视频的预测分数分布\n",
    "plt.subplot(1, 2, 1)\n",
    "real_scores = eval_results['scores'][eval_results['targets'] == 0]\n",
    "fake_scores = eval_results['scores'][eval_results['targets'] == 1]\n",
    "\n",
    "plt.hist(real_scores, bins=30, alpha=0.7, label='真实视频', color='blue', density=True)\n",
    "plt.hist(fake_scores, bins=30, alpha=0.7, label='伪造视频', color='red', density=True)\n",
    "plt.xlabel('预测分数')\n",
    "plt.ylabel('密度')\n",
    "plt.title('预测分数分布')\n",
    "plt.legend()\n",
    "plt.grid(True, alpha=0.3)\n",
    "\n",
    "# 预测分数箱线图\n",
    "plt.subplot(1, 2, 2)\n",
    "scores_data = [real_scores, fake_scores]\n",
    "labels = ['真实视频', '伪造视频']\n",
    "plt.boxplot(scores_data, labels=labels)\n",
    "plt.ylabel('预测分数')\n",
    "plt.title('预测分数箱线图')\n",
    "plt.grid(True, alpha=0.3)\n",
    "\n",
    "plt.tight_layout()\n",
    "plt.savefig('./results/evaluation/score_distribution.png', dpi=300, bbox_inches='tight')\n",
    "plt.show()\n",
    "\n",
    "print(\"✅ 评估图表生成完成\")\n",
    "\n",
    "# 生成详细的类别不平衡分析报告\n",
    "generate_class_imbalance_report(metrics)\n",
    "\n",
    "print(\"=\" * 60)\n",
    "print(\"🎉 模型评估完成！\")\n",
    "print(\"📁 所有结果已保存到 ./results/evaluation/ 目录\")\n",
    "print(\"\\n💡 如果发现严重的类别偏向问题，请参考上述改进建议进行优化\")"
   ]
  },
  {
   "cell_type": "markdown",
   "id": "212569ec",
   "metadata": {
    "papermill": {
     "duration": 0.815638,
     "end_time": "2025-07-18T12:47:01.087995",
     "exception": false,
     "start_time": "2025-07-18T12:47:00.272357",
     "status": "completed"
    },
    "tags": []
   },
   "source": [
    "# Cell 14: 结果保存和总结\n"
   ]
  },
  {
   "cell_type": "code",
   "execution_count": 15,
   "id": "e0c615fe",
   "metadata": {
    "execution": {
     "iopub.execute_input": "2025-07-18T12:47:02.819409Z",
     "iopub.status.busy": "2025-07-18T12:47:02.819100Z",
     "iopub.status.idle": "2025-07-18T12:47:02.839277Z",
     "shell.execute_reply": "2025-07-18T12:47:02.838347Z"
    },
    "papermill": {
     "duration": 0.930017,
     "end_time": "2025-07-18T12:47:02.840432",
     "exception": false,
     "start_time": "2025-07-18T12:47:01.910415",
     "status": "completed"
    },
    "tags": []
   },
   "outputs": [
    {
     "name": "stdout",
     "output_type": "stream",
     "text": [
      "💾 保存实验结果...\n",
      "============================================================\n",
      "✅ 实验结果已保存到: ./results/experiment_results.json\n",
      "✅ 训练历史已保存到: ./results/training_history.csv\n",
      "✅ 测试预测结果已保存到: ./results/test_predictions.csv\n",
      "\n",
      "📋 生成实验报告...\n",
      "✅ 实验报告已保存到: ./results/experiment_report.txt\n",
      "\n",
      "============================================================\n",
      "🎉 深度伪造检测模型训练和评估完成！\n",
      "============================================================\n",
      "📊 最终测试准确率: 25.10%\n",
      "📊 AUC-ROC分数: 0.4943\n",
      "📊 F1分数: 0.0000\n",
      "\n",
      "📁 所有结果文件已保存到 ./results/ 目录\n",
      "📁 最佳模型已保存到 ./models/best_model.pth\n",
      "\n",
      "✨ 实验成功完成！\n",
      "============================================================\n",
      "\n",
      "📂 生成的文件结构:\n",
      "\n",
      "./models/\n",
      "  └── best_model.pth\n",
      "./results/\n",
      "  ├── experiment_results.json\n",
      "  ├── experiment_report.txt\n",
      "  ├── training_history.csv\n",
      "  └── test_predictions.csv\n",
      "\n",
      "\n",
      "🚀 可以使用以下代码加载训练好的模型进行推理:\n",
      "\n",
      "# 加载模型\n",
      "model = OptimizedDeepfakeDetector(...)\n",
      "checkpoint = torch.load('./models/best_model.pth', weights_only=False)\n",
      "model.load_state_dict(checkpoint['model_state_dict'])\n",
      "model.eval()\n",
      "\n",
      "\n",
      "✅ Kaggle T4 GPU优化版本 - 训练完成！\n"
     ]
    }
   ],
   "source": [
    "# Cell 14: 结果保存和总结\n",
    "\n",
    "import os\n",
    "import torch\n",
    "import pandas as pd\n",
    "from datetime import datetime\n",
    "\n",
    "print(\"💾 保存实验结果...\")\n",
    "print(\"=\" * 60)\n",
    "\n",
    "# 确保结果目录存在\n",
    "os.makedirs('./results', exist_ok=True)\n",
    "\n",
    "# 准备保存的结果数据\n",
    "results_summary = {\n",
    "    'experiment_info': {\n",
    "        'timestamp': datetime.now().isoformat(),\n",
    "        'model_architecture': 'OptimizedDeepfakeDetector',\n",
    "        'backbone': 'resnet50',\n",
    "        'total_epochs': len(train_history['train_loss']),\n",
    "        'early_stopping': True\n",
    "    },\n",
    "    'dataset_info': {\n",
    "        'train_samples': len(train_dataset),\n",
    "        'val_samples': len(val_dataset),\n",
    "        'test_samples': len(test_dataset),\n",
    "        'batch_size': batch_size\n",
    "    },\n",
    "    'training_config': {\n",
    "        'optimizer': 'AdamW',\n",
    "        'learning_rate': 1e-4,\n",
    "        'weight_decay': 1e-4,\n",
    "        'loss_function': 'FocalLoss',\n",
    "        'scheduler': 'OneCycleLR',\n",
    "        'early_stopping_patience': 7\n",
    "    },\n",
    "    'final_metrics': {\n",
    "        'test_loss': float(eval_results['loss']),\n",
    "        'accuracy': float(metrics['accuracy']),\n",
    "        'precision': float(metrics['precision']),\n",
    "        'recall': float(metrics['recall']),\n",
    "        'f1_score': float(metrics['f1']),\n",
    "        'auc_roc': float(metrics['auc_roc'])\n",
    "    },\n",
    "    'confusion_matrix': {\n",
    "        'tn': int(metrics['tn']),\n",
    "        'fp': int(metrics['fp']),\n",
    "        'fn': int(metrics['fn']),\n",
    "        'tp': int(metrics['tp'])\n",
    "    },\n",
    "    'training_history': {\n",
    "        'train_loss': [float(x) for x in train_history['train_loss']],\n",
    "        'train_acc': [float(x) for x in train_history['train_acc']],\n",
    "        'train_auc': [float(x) for x in train_history['train_auc']],\n",
    "        'val_loss': [float(x) for x in train_history['val_loss']],\n",
    "        'val_acc': [float(x) for x in train_history['val_acc']],\n",
    "        'val_auc': [float(x) for x in train_history['val_auc']]\n",
    "    },\n",
    "    'class_specific_metrics': {\n",
    "        'real_video_accuracy': float(real_accuracy),\n",
    "        'fake_video_accuracy': float(fake_accuracy),\n",
    "        'real_samples_count': int(real_samples),\n",
    "        'fake_samples_count': int(fake_samples)\n",
    "    }\n",
    "}\n",
    "\n",
    "# 保存结果到JSON文件\n",
    "results_file = './results/experiment_results.json'\n",
    "with open(results_file, 'w', encoding='utf-8') as f:\n",
    "    json.dump(results_summary, f, indent=2, ensure_ascii=False)\n",
    "\n",
    "print(f\"✅ 实验结果已保存到: {results_file}\")\n",
    "\n",
    "# 保存训练历史到CSV\n",
    "history_df = pd.DataFrame(train_history)\n",
    "history_df.to_csv('./results/training_history.csv', index=False)\n",
    "print(\"✅ 训练历史已保存到: ./results/training_history.csv\")\n",
    "\n",
    "# 保存预测结果\n",
    "predictions_df = pd.DataFrame({\n",
    "    'true_label': eval_results['targets'],\n",
    "    'predicted_label': eval_results['predictions'],\n",
    "    'prediction_score': eval_results['scores']\n",
    "})\n",
    "predictions_df.to_csv('./results/test_predictions.csv', index=False)\n",
    "print(\"✅ 测试预测结果已保存到: ./results/test_predictions.csv\")\n",
    "\n",
    "# 生成实验报告\n",
    "print(\"\\n📋 生成实验报告...\")\n",
    "report = f\"\"\"\n",
    "深度伪造检测模型实验报告\n",
    "{'='*50}\n",
    "\n",
    "实验时间: {datetime.now().strftime('%Y-%m-%d %H:%M:%S')}\n",
    "模型架构: OptimizedDeepfakeDetector (ResNet50 + LSTM + Attention)\n",
    "\n",
    "数据集信息:\n",
    "- 训练样本: {len(train_dataset):,}\n",
    "- 验证样本: {len(val_dataset):,}\n",
    "- 测试样本: {len(test_dataset):,}\n",
    "- 批次大小: {batch_size}\n",
    "\n",
    "训练配置:\n",
    "- 优化器: AdamW (lr=1e-4, weight_decay=1e-4)\n",
    "- 损失函数: Focal Loss\n",
    "- 学习率调度: OneCycleLR\n",
    "- 早停机制: patience=7\n",
    "\n",
    "最终性能指标:\n",
    "- 准确率: {metrics['accuracy']*100:.2f}%\n",
    "- 精确率: {metrics['precision']:.4f}\n",
    "- 召回率: {metrics['recall']:.4f}\n",
    "- F1分数: {metrics['f1']:.4f}\n",
    "- AUC-ROC: {metrics['auc_roc']:.4f}\n",
    "\n",
    "混淆矩阵:\n",
    "- 真负例 (TN): {metrics['tn']}\n",
    "- 假正例 (FP): {metrics['fp']}\n",
    "- 假负例 (FN): {metrics['fn']}\n",
    "- 真正例 (TP): {metrics['tp']}\n",
    "\n",
    "类别特定性能:\n",
    "- 真实视频检测准确率: {real_accuracy*100:.2f}%\n",
    "- 伪造视频检测准确率: {fake_accuracy*100:.2f}%\n",
    "\n",
    "训练总结:\n",
    "- 训练轮数: {len(train_history['train_loss'])}\n",
    "- 最佳验证准确率: {max(train_history['val_acc']):.2f}%\n",
    "- 最佳验证AUC: {max(train_history['val_auc']):.4f}\n",
    "\n",
    "文件输出:\n",
    "- 模型权重: ./models/best_model.pth\n",
    "- 实验结果: ./results/experiment_results.json\n",
    "- 训练历史: ./results/training_history.csv\n",
    "- 预测结果: ./results/test_predictions.csv\n",
    "\n",
    "{'='*50}\n",
    "实验完成时间: {datetime.now().strftime('%Y-%m-%d %H:%M:%S')}\n",
    "\"\"\"\n",
    "\n",
    "# 保存报告\n",
    "with open('./results/experiment_report.txt', 'w', encoding='utf-8') as f:\n",
    "    f.write(report)\n",
    "\n",
    "print(\"✅ 实验报告已保存到: ./results/experiment_report.txt\")\n",
    "\n",
    "# 打印最终总结\n",
    "print(\"\\n\" + \"=\"*60)\n",
    "print(\"🎉 深度伪造检测模型训练和评估完成！\")\n",
    "print(\"=\"*60)\n",
    "print(f\"📊 最终测试准确率: {metrics['accuracy']*100:.2f}%\")\n",
    "print(f\"📊 AUC-ROC分数: {metrics['auc_roc']:.4f}\")\n",
    "print(f\"📊 F1分数: {metrics['f1']:.4f}\")\n",
    "print(\"\\n📁 所有结果文件已保存到 ./results/ 目录\")\n",
    "print(\"📁 最佳模型已保存到 ./models/best_model.pth\")\n",
    "print(\"\\n✨ 实验成功完成！\")\n",
    "print(\"=\"*60)\n",
    "\n",
    "# 显示文件结构\n",
    "print(\"\\n📂 生成的文件结构:\")\n",
    "print(\"\"\"\n",
    "./models/\n",
    "  └── best_model.pth\n",
    "./results/\n",
    "  ├── experiment_results.json\n",
    "  ├── experiment_report.txt\n",
    "  ├── training_history.csv\n",
    "  └── test_predictions.csv\n",
    "\"\"\")\n",
    "\n",
    "print(\"\\n🚀 可以使用以下代码加载训练好的模型进行推理:\")\n",
    "print(\"\"\"\n",
    "# 加载模型\n",
    "model = OptimizedDeepfakeDetector(...)\n",
    "checkpoint = torch.load('./models/best_model.pth', weights_only=False)\n",
    "model.load_state_dict(checkpoint['model_state_dict'])\n",
    "model.eval()\n",
    "\"\"\")\n",
    "\n",
    "print(\"\\n✅ Kaggle T4 GPU优化版本 - 训练完成！\")"
   ]
  }
 ],
 "metadata": {
  "kaggle": {
   "accelerator": "nvidiaTeslaT4",
   "dataSources": [
    {
     "datasetId": 6248577,
     "sourceId": 10125851,
     "sourceType": "datasetVersion"
    }
   ],
   "dockerImageVersionId": 31041,
   "isGpuEnabled": true,
   "isInternetEnabled": true,
   "language": "python",
   "sourceType": "notebook"
  },
  "kernelspec": {
   "display_name": "Python 3",
   "language": "python",
   "name": "python3"
  },
  "language_info": {
   "codemirror_mode": {
    "name": "ipython",
    "version": 3
   },
   "file_extension": ".py",
   "mimetype": "text/x-python",
   "name": "python",
   "nbconvert_exporter": "python",
   "pygments_lexer": "ipython3",
   "version": "3.11.11"
  },
  "papermill": {
   "default_parameters": {},
   "duration": 14334.383544,
   "end_time": "2025-07-18T12:47:07.607733",
   "environment_variables": {},
   "exception": null,
   "input_path": "__notebook__.ipynb",
   "output_path": "__notebook__.ipynb",
   "parameters": {},
   "start_time": "2025-07-18T08:48:13.224189",
   "version": "2.6.0"
  }
 },
 "nbformat": 4,
 "nbformat_minor": 5
}
