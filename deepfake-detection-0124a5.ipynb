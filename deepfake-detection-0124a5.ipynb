{
 "cells": [
  {
   "cell_type": "code",
   "execution_count": 1,
   "id": "857bda1b",
   "metadata": {
    "execution": {
     "iopub.execute_input": "2025-07-24T12:40:08.850866Z",
     "iopub.status.busy": "2025-07-24T12:40:08.850555Z",
     "iopub.status.idle": "2025-07-24T12:40:14.379090Z",
     "shell.execute_reply": "2025-07-24T12:40:14.378340Z"
    },
    "papermill": {
     "duration": 5.539318,
     "end_time": "2025-07-24T12:40:14.380475",
     "exception": false,
     "start_time": "2025-07-24T12:40:08.841157",
     "status": "completed"
    },
    "tags": []
   },
   "outputs": [
    {
     "name": "stdout",
     "output_type": "stream",
     "text": [
      "Collecting av\r\n",
      "  Downloading av-15.0.0-cp311-cp311-manylinux_2_28_x86_64.whl.metadata (4.6 kB)\r\n",
      "Downloading av-15.0.0-cp311-cp311-manylinux_2_28_x86_64.whl (39.7 MB)\r\n",
      "\u001b[2K   \u001b[90m━━━━━━━━━━━━━━━━━━━━━━━━━━━━━━━━━━━━━━━━\u001b[0m \u001b[32m39.7/39.7 MB\u001b[0m \u001b[31m49.7 MB/s\u001b[0m eta \u001b[36m0:00:00\u001b[0m\r\n",
      "\u001b[?25hInstalling collected packages: av\r\n",
      "Successfully installed av-15.0.0\r\n"
     ]
    }
   ],
   "source": [
    "!pip install av"
   ]
  },
  {
   "cell_type": "markdown",
   "id": "66c9127d",
   "metadata": {
    "papermill": {
     "duration": 0.007018,
     "end_time": "2025-07-24T12:40:14.395645",
     "exception": false,
     "start_time": "2025-07-24T12:40:14.388627",
     "status": "completed"
    },
    "tags": []
   },
   "source": [
    "# Cell 1: 导入库和环境设置"
   ]
  },
  {
   "cell_type": "code",
   "execution_count": 2,
   "id": "4d4315a2",
   "metadata": {
    "_cell_guid": "4883bd2d-9463-4607-9e61-df4d76492a78",
    "_uuid": "f6ebcf0d-d34a-4e53-b9c4-c85254661e41",
    "collapsed": false,
    "execution": {
     "iopub.execute_input": "2025-07-24T12:40:14.411344Z",
     "iopub.status.busy": "2025-07-24T12:40:14.410859Z",
     "iopub.status.idle": "2025-07-24T12:40:29.530236Z",
     "shell.execute_reply": "2025-07-24T12:40:29.529242Z"
    },
    "jupyter": {
     "outputs_hidden": false
    },
    "papermill": {
     "duration": 15.128969,
     "end_time": "2025-07-24T12:40:29.531768",
     "exception": false,
     "start_time": "2025-07-24T12:40:14.402799",
     "status": "completed"
    },
    "tags": []
   },
   "outputs": [
    {
     "name": "stdout",
     "output_type": "stream",
     "text": [
      "⚠️ MTCNN未安装，将使用OpenCV人脸检测\n",
      "✅ PyAV已安装，支持GPU视频处理\n",
      "✅ SciPy已安装，支持频域分析\n",
      "✅ 所有库导入完成\n"
     ]
    }
   ],
   "source": [
    "# Cell 1: 导入库和环境设置\n",
    "\n",
    "# 修复CUDA多进程问题\n",
    "import multiprocessing as mp\n",
    "try:\n",
    "    mp.set_start_method('spawn', force=True)\n",
    "except RuntimeError:\n",
    "    pass  # 如果已经设置过，忽略错误\n",
    "\n",
    "import os\n",
    "import cv2\n",
    "import numpy as np\n",
    "import pandas as pd\n",
    "import matplotlib.pyplot as plt\n",
    "import seaborn as sns\n",
    "from tqdm import tqdm\n",
    "import random\n",
    "import warnings\n",
    "import gc\n",
    "import json\n",
    "import time\n",
    "import sys\n",
    "from pathlib import Path\n",
    "from datetime import datetime\n",
    "warnings.filterwarnings('ignore')\n",
    "\n",
    "# PyTorch相关\n",
    "import torch\n",
    "import torch.nn as nn\n",
    "import torch.optim as optim\n",
    "import torch.nn.functional as F\n",
    "from torch.utils.data import Dataset, DataLoader\n",
    "import torchvision.transforms as transforms\n",
    "import torchvision.transforms.functional as TF\n",
    "import torchvision.models as models\n",
    "from torchvision.io import read_video\n",
    "from torch.optim.lr_scheduler import CosineAnnealingWarmRestarts, ReduceLROnPlateau\n",
    "from torch.cuda.amp import GradScaler, autocast\n",
    "\n",
    "# 机器学习指标\n",
    "from sklearn.metrics import (\n",
    "    accuracy_score, precision_score, recall_score, f1_score,\n",
    "    roc_auc_score, confusion_matrix, classification_report,\n",
    "    roc_curve, auc, precision_recall_curve, balanced_accuracy_score\n",
    ")\n",
    "from sklearn.model_selection import train_test_split\n",
    "\n",
    "# 系统监控和性能分析\n",
    "import psutil\n",
    "import traceback\n",
    "\n",
    "# 高精度人脸检测 - MTCNN\n",
    "try:\n",
    "    from mtcnn import MTCNN\n",
    "    MTCNN_AVAILABLE = True\n",
    "    print(\"✅ MTCNN已安装，支持高精度人脸检测\")\n",
    "except ImportError:\n",
    "    MTCNN_AVAILABLE = False\n",
    "    print(\"⚠️ MTCNN未安装，将使用OpenCV人脸检测\")\n",
    "\n",
    "# 视频处理 (PyAV)\n",
    "try:\n",
    "    import av\n",
    "    PYAV_AVAILABLE = True\n",
    "    print(\"✅ PyAV已安装，支持GPU视频处理\")\n",
    "except ImportError:\n",
    "    PYAV_AVAILABLE = False\n",
    "    print(\"⚠️ PyAV未安装，视频处理将回退到CPU模式\")\n",
    "\n",
    "# 数据增强\n",
    "try:\n",
    "    import albumentations as A\n",
    "    from albumentations.pytorch import ToTensorV2\n",
    "    ALBUMENTATIONS_AVAILABLE = True\n",
    "except ImportError:\n",
    "    ALBUMENTATIONS_AVAILABLE = False\n",
    "    print(\"警告: albumentations未安装，将使用基础数据增强\")\n",
    "\n",
    "# 频域分析支持\n",
    "try:\n",
    "    from scipy import fftpack\n",
    "    from scipy.signal import butter, filtfilt\n",
    "    SCIPY_AVAILABLE = True\n",
    "    print(\"✅ SciPy已安装，支持频域分析\")\n",
    "except ImportError:\n",
    "    SCIPY_AVAILABLE = False\n",
    "    print(\"⚠️ SciPy未安装，频域分析功能受限\")\n",
    "\n",
    "print(\"✅ 所有库导入完成\")"
   ]
  },
  {
   "cell_type": "markdown",
   "id": "b8fa6859",
   "metadata": {
    "papermill": {
     "duration": 0.007264,
     "end_time": "2025-07-24T12:40:29.549251",
     "exception": false,
     "start_time": "2025-07-24T12:40:29.541987",
     "status": "completed"
    },
    "tags": []
   },
   "source": [
    "# Cell 2: 全局配置和工具函数"
   ]
  },
  {
   "cell_type": "code",
   "execution_count": 3,
   "id": "47d92746",
   "metadata": {
    "execution": {
     "iopub.execute_input": "2025-07-24T12:40:29.565010Z",
     "iopub.status.busy": "2025-07-24T12:40:29.564358Z",
     "iopub.status.idle": "2025-07-24T12:40:29.858414Z",
     "shell.execute_reply": "2025-07-24T12:40:29.857795Z"
    },
    "papermill": {
     "duration": 0.302976,
     "end_time": "2025-07-24T12:40:29.859541",
     "exception": false,
     "start_time": "2025-07-24T12:40:29.556565",
     "status": "completed"
    },
    "tags": []
   },
   "outputs": [
    {
     "name": "stdout",
     "output_type": "stream",
     "text": [
      "使用设备: cuda\n",
      "GPU型号: Tesla T4\n",
      "GPU内存: 14.7 GB\n",
      "✅ Kaggle T4 GPU优化配置已启用\n",
      "数据类型策略: FP32 (兼容性优先)\n",
      "环境: Kaggle\n",
      "数据基础路径: /kaggle/input/ff-c23/FaceForensics++_C23\n",
      "✅ 环境设置完成\n"
     ]
    }
   ],
   "source": [
    "# Cell 2: 全局配置和工具函数 - Kaggle T4 优化版本\n",
    "\n",
    "import os\n",
    "import random\n",
    "import numpy as np\n",
    "import torch\n",
    "\n",
    "def set_seed(seed=42):\n",
    "    \"\"\"设置随机种子确保可重复性\"\"\"\n",
    "    random.seed(seed)\n",
    "    np.random.seed(seed)\n",
    "    torch.manual_seed(seed)\n",
    "    if torch.cuda.is_available():\n",
    "        torch.cuda.manual_seed(seed)\n",
    "        torch.cuda.manual_seed_all(seed)\n",
    "    # Kaggle环境优化：平衡性能和可重复性\n",
    "    torch.backends.cudnn.deterministic = False\n",
    "    torch.backends.cudnn.benchmark = True\n",
    "\n",
    "set_seed(42)\n",
    "\n",
    "# Kaggle T4 GPU配置\n",
    "device = torch.device('cuda' if torch.cuda.is_available() else 'cpu')\n",
    "print(f\"使用设备: {device}\")\n",
    "\n",
    "if torch.cuda.is_available():\n",
    "    gpu_name = torch.cuda.get_device_name(0)\n",
    "    gpu_memory = torch.cuda.get_device_properties(0).total_memory / 1024**3\n",
    "    print(f\"GPU型号: {gpu_name}\")\n",
    "    print(f\"GPU内存: {gpu_memory:.1f} GB\")\n",
    "    \n",
    "    # Kaggle 双T4 GPU优化配置\n",
    "    torch.cuda.set_per_process_memory_fraction(0.8)  # 双T4可以使用更多内存\n",
    "    torch.backends.cuda.matmul.allow_tf32 = True\n",
    "    torch.backends.cudnn.allow_tf32 = True\n",
    "    \n",
    "    print(\"✅ Kaggle T4 GPU优化配置已启用\")\n",
    "\n",
    "# 创建必要的目录\n",
    "for dir_name in ['./data', './models', './logs', './results']:\n",
    "    os.makedirs(dir_name, exist_ok=True)\n",
    "\n",
    "# Kaggle环境检测\n",
    "IS_KAGGLE = os.path.exists('/kaggle')\n",
    "BASE_DATA_DIR = '/kaggle/input/ff-c23/FaceForensics++_C23' if IS_KAGGLE else './dataset/FaceForensics++_C23'\n",
    "\n",
    "# 统一数据类型配置 - 全部使用FP32提升兼容性\n",
    "USE_FP32_ONLY = True  # 强制使用FP32，确保最佳兼容性\n",
    "print(f\"数据类型策略: FP32 (兼容性优先)\")\n",
    "\n",
    "print(f\"环境: {'Kaggle' if IS_KAGGLE else '本地'}\")\n",
    "print(f\"数据基础路径: {BASE_DATA_DIR}\")\n",
    "print(\"✅ 环境设置完成\")"
   ]
  },
  {
   "cell_type": "markdown",
   "id": "2eefa476",
   "metadata": {
    "papermill": {
     "duration": 0.00703,
     "end_time": "2025-07-24T12:40:29.874393",
     "exception": false,
     "start_time": "2025-07-24T12:40:29.867363",
     "status": "completed"
    },
    "tags": []
   },
   "source": [
    "# Cell 3: 数据处理模块\n"
   ]
  },
  {
   "cell_type": "code",
   "execution_count": 4,
   "id": "c1cfe1eb",
   "metadata": {
    "execution": {
     "iopub.execute_input": "2025-07-24T12:40:29.890425Z",
     "iopub.status.busy": "2025-07-24T12:40:29.889872Z",
     "iopub.status.idle": "2025-07-24T12:40:29.930276Z",
     "shell.execute_reply": "2025-07-24T12:40:29.929538Z"
    },
    "papermill": {
     "duration": 0.049666,
     "end_time": "2025-07-24T12:40:29.931319",
     "exception": false,
     "start_time": "2025-07-24T12:40:29.881653",
     "status": "completed"
    },
    "tags": []
   },
   "outputs": [
    {
     "name": "stdout",
     "output_type": "stream",
     "text": [
      "✅ 数据处理函数定义完成\n"
     ]
    }
   ],
   "source": [
    "# Cell 3: 数据处理函数\n",
    "\n",
    "import os\n",
    "import cv2\n",
    "import numpy as np\n",
    "import torch\n",
    "import torch.nn.functional as F\n",
    "import random\n",
    "import pandas as pd\n",
    "from tqdm import tqdm\n",
    "from sklearn.model_selection import train_test_split\n",
    "from torchvision.io import read_video\n",
    "\n",
    "def extract_frames_gpu_accelerated(video_path, max_frames=16, target_size=(224, 224),\n",
    "                                  quality_threshold=20, use_gpu=True, use_mtcnn=True):\n",
    "    \"\"\"GPU加速的帧提取函数 - 集成MTCNN人脸检测\"\"\"\n",
    "    try:\n",
    "        # 检查PyAV是否可用\n",
    "        if not globals().get('PYAV_AVAILABLE', False):\n",
    "            print(f\"PyAV不可用，使用CPU回退处理: {video_path}\")\n",
    "            return extract_frames_cpu_fallback(video_path, max_frames, target_size, quality_threshold, use_mtcnn)\n",
    "            \n",
    "        # 使用torchvision的GPU加速视频读取\n",
    "        if use_gpu and torch.cuda.is_available():\n",
    "            device = torch.device('cuda')\n",
    "        else:\n",
    "            device = torch.device('cpu')\n",
    "            \n",
    "        # 读取视频（torchvision自动处理解码）\n",
    "        try:\n",
    "            video_tensor, audio, info = read_video(video_path, pts_unit='sec')\n",
    "            # video_tensor shape: (T, H, W, C)\n",
    "        except Exception as e:\n",
    "            print(f\"GPU视频读取失败，回退到CPU: {e}\")\n",
    "            return extract_frames_cpu_fallback(video_path, max_frames, target_size, quality_threshold, use_mtcnn)\n",
    "        \n",
    "        if video_tensor.size(0) == 0:\n",
    "            return []\n",
    "            \n",
    "        # 移动到GPU进行处理\n",
    "        video_tensor = video_tensor.to(device, non_blocking=True)\n",
    "        total_frames = video_tensor.size(0)\n",
    "        \n",
    "        # 智能帧采样策略\n",
    "        if total_frames <= max_frames:\n",
    "            frame_indices = torch.arange(0, total_frames, device=device)\n",
    "        else:\n",
    "            # 均匀采样\n",
    "            step = total_frames / max_frames\n",
    "            frame_indices = torch.arange(0, total_frames, step, device=device).long()[:max_frames]\n",
    "        \n",
    "        # 批量提取帧\n",
    "        selected_frames = video_tensor[frame_indices]  # (max_frames, H, W, C)\n",
    "        \n",
    "        # GPU上进行质量检测（使用Sobel算子代替Laplacian）\n",
    "        if quality_threshold > 0:\n",
    "            # 转换为灰度图进行质量检测（先转换为float类型）\n",
    "            gray_frames = selected_frames.float().mean(dim=-1, keepdim=True)  # (T, H, W, 1)\n",
    "            gray_frames = gray_frames.permute(0, 3, 1, 2)  # (T, 1, H, W)\n",
    "            \n",
    "            # 使用Sobel算子计算图像质量\n",
    "            sobel_x = torch.tensor([[-1, 0, 1], [-2, 0, 2], [-1, 0, 1]], \n",
    "                                 dtype=torch.float32, device=device).view(1, 1, 3, 3)\n",
    "            sobel_y = torch.tensor([[-1, -2, -1], [0, 0, 0], [1, 2, 1]], \n",
    "                                 dtype=torch.float32, device=device).view(1, 1, 3, 3)\n",
    "            \n",
    "            grad_x = F.conv2d(gray_frames, sobel_x, padding=1)\n",
    "            grad_y = F.conv2d(gray_frames, sobel_y, padding=1)\n",
    "            quality_scores = (grad_x.pow(2) + grad_y.pow(2)).mean(dim=[1, 2, 3])\n",
    "            \n",
    "            # 过滤低质量帧\n",
    "            quality_mask = quality_scores > quality_threshold\n",
    "            if quality_mask.sum() > 0:\n",
    "                selected_frames = selected_frames[quality_mask]\n",
    "            \n",
    "        # GPU上进行尺寸调整\n",
    "        selected_frames = selected_frames.permute(0, 3, 1, 2).float()  # (T, C, H, W)\n",
    "        if selected_frames.size(-1) != target_size[0] or selected_frames.size(-2) != target_size[1]:\n",
    "            selected_frames = F.interpolate(selected_frames, size=target_size, \n",
    "                                          mode='bilinear', align_corners=False)\n",
    "        \n",
    "        # 确保帧数足够\n",
    "        current_frames = selected_frames.size(0)\n",
    "        if current_frames < max_frames:\n",
    "            # 重复最后一帧\n",
    "            if current_frames > 0:\n",
    "                last_frame = selected_frames[-1:].repeat(max_frames - current_frames, 1, 1, 1)\n",
    "                selected_frames = torch.cat([selected_frames, last_frame], dim=0)\n",
    "            else:\n",
    "                # 创建黑色帧\n",
    "                selected_frames = torch.zeros(max_frames, 3, target_size[0], target_size[1], \n",
    "                                            device=device, dtype=torch.float32)\n",
    "        \n",
    "        # 限制到最大帧数\n",
    "        selected_frames = selected_frames[:max_frames]\n",
    "        \n",
    "        # 转换回CPU numpy格式（为了兼容现有代码）\n",
    "        frames_cpu = selected_frames.permute(0, 2, 3, 1).cpu().numpy().astype(np.uint8)\n",
    "        frames_list = [frame for frame in frames_cpu]\n",
    "        \n",
    "        # 应用MTCNN人脸检测和裁剪\n",
    "        if use_mtcnn and globals().get('MTCNN_AVAILABLE', False):\n",
    "            frames_list = apply_mtcnn_face_detection(frames_list, target_size)\n",
    "        \n",
    "        return frames_list\n",
    "        \n",
    "    except Exception as e:\n",
    "        print(f\"GPU帧提取失败，回退到CPU: {e}\")\n",
    "        return extract_frames_cpu_fallback(video_path, max_frames, target_size, quality_threshold, use_mtcnn)\n",
    "\n",
    "def apply_mtcnn_face_detection(frames, target_size=(224, 224)):\n",
    "    \"\"\"使用MTCNN进行人脸检测和裁剪\"\"\"\n",
    "    try:\n",
    "        detector = MTCNN(min_face_size=40, scale_factor=0.7, steps_threshold=[0.6, 0.7, 0.8])\n",
    "        processed_frames = []\n",
    "        \n",
    "        for frame in frames:\n",
    "            # MTCNN需要RGB格式\n",
    "            frame_rgb = cv2.cvtColor(frame, cv2.COLOR_BGR2RGB) if len(frame.shape) == 3 else frame\n",
    "            \n",
    "            # 检测人脸\n",
    "            results = detector.detect_faces(frame_rgb)\n",
    "            \n",
    "            if results and len(results) > 0:\n",
    "                # 选择置信度最高的人脸\n",
    "                best_face = max(results, key=lambda x: x['confidence'])\n",
    "                \n",
    "                if best_face['confidence'] > 0.9:  # 高置信度阈值\n",
    "                    # 提取人脸区域\n",
    "                    x, y, w, h = best_face['box']\n",
    "                    \n",
    "                    # 扩展边界框以包含更多上下文\n",
    "                    margin = 0.2\n",
    "                    x_margin = int(w * margin)\n",
    "                    y_margin = int(h * margin)\n",
    "                    \n",
    "                    x1 = max(0, x - x_margin)\n",
    "                    y1 = max(0, y - y_margin)\n",
    "                    x2 = min(frame_rgb.shape[1], x + w + x_margin)\n",
    "                    y2 = min(frame_rgb.shape[0], y + h + y_margin)\n",
    "                    \n",
    "                    # 裁剪人脸\n",
    "                    face_crop = frame_rgb[y1:y2, x1:x2]\n",
    "                    \n",
    "                    # 调整大小\n",
    "                    face_resized = cv2.resize(face_crop, target_size)\n",
    "                    processed_frames.append(face_resized)\n",
    "                else:\n",
    "                    # 置信度不够，使用原始帧\n",
    "                    processed_frames.append(cv2.resize(frame_rgb, target_size))\n",
    "            else:\n",
    "                # 没有检测到人脸，使用原始帧\n",
    "                processed_frames.append(cv2.resize(frame_rgb, target_size))\n",
    "        \n",
    "        return processed_frames\n",
    "        \n",
    "    except Exception as e:\n",
    "        print(f\"MTCNN人脸检测失败，使用原始帧: {e}\")\n",
    "        return [cv2.resize(frame, target_size) for frame in frames]\n",
    "\n",
    "def extract_fourier_features(frame):\n",
    "    \"\"\"提取频域特征用于深度伪造检测\"\"\"\n",
    "    if not globals().get('SCIPY_AVAILABLE', False):\n",
    "        return None\n",
    "    \n",
    "    try:\n",
    "        # 转换为灰度图\n",
    "        if len(frame.shape) == 3:\n",
    "            gray = cv2.cvtColor(frame, cv2.COLOR_RGB2GRAY)\n",
    "        else:\n",
    "            gray = frame\n",
    "        \n",
    "        # 应用傅里叶变换\n",
    "        f_transform = np.fft.fft2(gray)\n",
    "        f_shift = np.fft.fftshift(f_transform)\n",
    "        \n",
    "        # 计算幅度谱\n",
    "        magnitude_spectrum = np.log(np.abs(f_shift) + 1)\n",
    "        \n",
    "        # 提取频域统计特征\n",
    "        features = {\n",
    "            'mean_magnitude': np.mean(magnitude_spectrum),\n",
    "            'std_magnitude': np.std(magnitude_spectrum),\n",
    "            'max_magnitude': np.max(magnitude_spectrum),\n",
    "            'energy': np.sum(magnitude_spectrum ** 2),\n",
    "            'entropy': -np.sum(magnitude_spectrum * np.log(magnitude_spectrum + 1e-10))\n",
    "        }\n",
    "        \n",
    "        return features\n",
    "        \n",
    "    except Exception as e:\n",
    "        print(f\"频域特征提取失败: {e}\")\n",
    "        return None\n",
    "\n",
    "def analyze_compression_artifacts(frame):\n",
    "    \"\"\"分析压缩伪影特征\"\"\"\n",
    "    try:\n",
    "        # 转换为灰度图\n",
    "        if len(frame.shape) == 3:\n",
    "            gray = cv2.cvtColor(frame, cv2.COLOR_RGB2GRAY)\n",
    "        else:\n",
    "            gray = frame\n",
    "        \n",
    "        # DCT变换分析（JPEG压缩伪影）\n",
    "        dct = cv2.dct(np.float32(gray))\n",
    "        \n",
    "        # 计算DCT系数的统计特征\n",
    "        features = {\n",
    "            'dct_mean': np.mean(dct),\n",
    "            'dct_std': np.std(dct),\n",
    "            'dct_energy': np.sum(dct ** 2),\n",
    "            'high_freq_energy': np.sum(dct[gray.shape[0]//2:, gray.shape[1]//2:] ** 2)\n",
    "        }\n",
    "        \n",
    "        # 边缘检测强度\n",
    "        edges = cv2.Canny(gray, 50, 150)\n",
    "        features['edge_density'] = np.sum(edges > 0) / edges.size\n",
    "        \n",
    "        return features\n",
    "        \n",
    "    except Exception as e:\n",
    "        print(f\"压缩伪影分析失败: {e}\")\n",
    "        return None\n",
    "\n",
    "def extract_frames_cpu_fallback(video_path, max_frames=16, target_size=(224, 224), quality_threshold=20, use_mtcnn=True):\n",
    "    \"\"\"CPU回退的帧提取函数 - 集成MTCNN\"\"\"\n",
    "    cap = cv2.VideoCapture(video_path)\n",
    "    frames = []\n",
    "\n",
    "    if not cap.isOpened():\n",
    "        print(f\"无法打开视频: {video_path}\")\n",
    "        return frames\n",
    "\n",
    "    total_frames = int(cap.get(cv2.CAP_PROP_FRAME_COUNT))\n",
    "    if total_frames == 0:\n",
    "        cap.release()\n",
    "        return frames\n",
    "\n",
    "    # 均匀采样策略\n",
    "    if total_frames <= max_frames:\n",
    "        frame_indices = list(range(0, total_frames, max(1, total_frames // max_frames)))\n",
    "    else:\n",
    "        step = max(1, total_frames // max_frames)\n",
    "        frame_indices = list(range(0, total_frames, step))[:max_frames]\n",
    "\n",
    "    frame_count = 0\n",
    "    for frame_idx in frame_indices:\n",
    "        if frame_count >= max_frames:\n",
    "            break\n",
    "\n",
    "        cap.set(cv2.CAP_PROP_POS_FRAMES, frame_idx)\n",
    "        ret, frame = cap.read()\n",
    "\n",
    "        if ret:\n",
    "            frame = cv2.cvtColor(frame, cv2.COLOR_BGR2RGB)\n",
    "            \n",
    "            # 质量检测\n",
    "            if quality_threshold > 0:\n",
    "                gray = cv2.cvtColor(frame, cv2.COLOR_RGB2GRAY)\n",
    "                quality = cv2.Laplacian(gray, cv2.CV_64F).var()\n",
    "                if quality <= quality_threshold:\n",
    "                    continue\n",
    "            \n",
    "            frame = cv2.resize(frame, target_size)\n",
    "            frames.append(frame)\n",
    "            frame_count += 1\n",
    "\n",
    "    cap.release()\n",
    "\n",
    "    # 如果帧数不足，重复最后一帧\n",
    "    while len(frames) < max_frames and len(frames) > 0:\n",
    "        frames.append(frames[-1].copy())\n",
    "\n",
    "    # 应用MTCNN人脸检测\n",
    "    if use_mtcnn and globals().get('MTCNN_AVAILABLE', False):\n",
    "        frames = apply_mtcnn_face_detection(frames, target_size)\n",
    "\n",
    "    return frames[:max_frames]\n",
    "\n",
    "# 为了向后兼容，保留原函数名\n",
    "def extract_frames_memory_efficient(video_path, max_frames=16, target_size=(224, 224),\n",
    "                                   quality_threshold=20, skip_frames=3, use_mtcnn=True):\n",
    "    \"\"\"兼容性包装函数，优先使用GPU加速，集成MTCNN\"\"\"\n",
    "    return extract_frames_gpu_accelerated(video_path, max_frames, target_size, quality_threshold, use_mtcnn=use_mtcnn)\n",
    "\n",
    "def process_videos_simple(base_data_dir, max_videos_per_class=60, max_frames=16, max_real=None, max_fake=None):\n",
    "    \"\"\"简化的视频处理函数 - 优化假视频平均分配\"\"\"\n",
    "    # 向后兼容：如果指定了新参数，使用新参数；否则使用旧参数\n",
    "    if max_real is None:\n",
    "        max_real = max_videos_per_class\n",
    "    if max_fake is None:\n",
    "        max_fake = max_videos_per_class\n",
    "    \n",
    "    data_list = []\n",
    "    fake_methods = ['Deepfakes', 'Face2Face', 'FaceShifter', 'FaceSwap', 'NeuralTextures']\n",
    "\n",
    "    print(\"开始处理真实视频...\")\n",
    "    # 处理真实视频\n",
    "    original_dir = os.path.join(base_data_dir, 'original')\n",
    "    if os.path.exists(original_dir):\n",
    "        video_files = [f for f in os.listdir(original_dir)\n",
    "                      if f.endswith(('.mp4', '.avi', '.mov'))]\n",
    "        \n",
    "        if len(video_files) > max_real:\n",
    "            video_files = random.sample(video_files, max_real)\n",
    "\n",
    "        print(f\"找到 {len(video_files)} 个真实视频\")\n",
    "\n",
    "        for video_file in tqdm(video_files, desc=\"处理真实视频\"):\n",
    "            try:\n",
    "                video_path = os.path.join(original_dir, video_file)\n",
    "                frames = extract_frames_memory_efficient(video_path, max_frames)\n",
    "                \n",
    "                if len(frames) >= max_frames // 2:  # 至少要有一半的帧\n",
    "                    data_list.append({\n",
    "                        'video_path': video_path,\n",
    "                        'frames': frames,\n",
    "                        'label': 0,  # 真实视频\n",
    "                        'method': 'original'\n",
    "                    })\n",
    "            except Exception as e:\n",
    "                print(f\"处理视频 {video_file} 时出错: {e}\")\n",
    "                continue\n",
    "\n",
    "    # 处理伪造视频 - 平均分配策略\n",
    "    print(\"开始处理伪造视频...\")\n",
    "    \n",
    "    # 统计每种方法的可用视频数量\n",
    "    method_videos = {}\n",
    "    total_available_fake = 0\n",
    "    \n",
    "    for method in fake_methods:\n",
    "        method_dir = os.path.join(base_data_dir, method)\n",
    "        if os.path.exists(method_dir):\n",
    "            videos = [os.path.join(method_dir, f) for f in os.listdir(method_dir) \n",
    "                     if f.endswith(('.mp4', '.avi', '.mov'))]\n",
    "            method_videos[method] = videos\n",
    "            total_available_fake += len(videos)\n",
    "            print(f\"  {method}: {len(videos)} 个视频\")\n",
    "        else:\n",
    "            method_videos[method] = []\n",
    "            print(f\"  {method}: 目录不存在\")\n",
    "    \n",
    "    print(f\"总共可用假视频: {total_available_fake} 个\")\n",
    "    \n",
    "    # 计算每种方法应该采样的视频数量（平均分配）\n",
    "    available_methods = [method for method in fake_methods if len(method_videos[method]) > 0]\n",
    "    if not available_methods:\n",
    "        print(\"❌ 未找到任何假视频方法\")\n",
    "        return data_list\n",
    "    \n",
    "    videos_per_method = max_fake // len(available_methods)\n",
    "    remaining_videos = max_fake % len(available_methods)\n",
    "    \n",
    "    print(f\"平均分配策略: 每种方法 {videos_per_method} 个视频\")\n",
    "    if remaining_videos > 0:\n",
    "        print(f\"剩余 {remaining_videos} 个视频将分配给前 {remaining_videos} 种方法\")\n",
    "    \n",
    "    # 为每种方法采样视频\n",
    "    selected_fake_videos = []\n",
    "    for i, method in enumerate(available_methods):\n",
    "        # 计算当前方法应该采样的数量\n",
    "        current_method_quota = videos_per_method\n",
    "        if i < remaining_videos:  # 前几种方法多分配一个\n",
    "            current_method_quota += 1\n",
    "        \n",
    "        available_videos = method_videos[method]\n",
    "        \n",
    "        # 如果可用视频数量少于配额，全部使用\n",
    "        if len(available_videos) <= current_method_quota:\n",
    "            method_selected = available_videos\n",
    "            print(f\"  {method}: 使用全部 {len(method_selected)} 个视频\")\n",
    "        else:\n",
    "            # 随机采样指定数量\n",
    "            method_selected = random.sample(available_videos, current_method_quota)\n",
    "            print(f\"  {method}: 采样 {len(method_selected)} 个视频\")\n",
    "        \n",
    "        selected_fake_videos.extend([(v, method) for v in method_selected])\n",
    "    \n",
    "    print(f\"总共选择 {len(selected_fake_videos)} 个假视频进行处理\")\n",
    "    \n",
    "    # 打乱选择的假视频顺序\n",
    "    random.shuffle(selected_fake_videos)\n",
    "    \n",
    "    # 处理选择的假视频\n",
    "    for video_path, method in tqdm(selected_fake_videos, desc=\"处理伪造视频\"):\n",
    "        try:\n",
    "            frames = extract_frames_memory_efficient(video_path, max_frames)\n",
    "            \n",
    "            if len(frames) >= max_frames // 2:\n",
    "                data_list.append({\n",
    "                    'video_path': video_path,\n",
    "                    'frames': frames,\n",
    "                    'label': 1,  # 伪造视频\n",
    "                    'method': method\n",
    "                })\n",
    "        except Exception as e:\n",
    "            print(f\"处理视频 {os.path.basename(video_path)} 时出错: {e}\")\n",
    "            continue\n",
    "\n",
    "    # 统计最终结果\n",
    "    method_counts = {}\n",
    "    for item in data_list:\n",
    "        if item['label'] == 1:  # 只统计假视频\n",
    "            method = item['method']\n",
    "            method_counts[method] = method_counts.get(method, 0) + 1\n",
    "    \n",
    "    print(f\"\\n✅ 数据处理完成，共处理 {len(data_list)} 个视频\")\n",
    "    print(\"假视频方法分布:\")\n",
    "    for method, count in method_counts.items():\n",
    "        print(f\"  {method}: {count} 个视频\")\n",
    "    \n",
    "    return data_list\n",
    "\n",
    "def create_dataset_split(data_list, test_size=0.2, val_size=0.1):\n",
    "    \"\"\"创建数据集划分\"\"\"\n",
    "    # 分离真实和伪造数据\n",
    "    real_data = [item for item in data_list if item['label'] == 0]\n",
    "    fake_data = [item for item in data_list if item['label'] == 1]\n",
    "    \n",
    "    print(f\"真实视频: {len(real_data)} 个\")\n",
    "    print(f\"伪造视频: {len(fake_data)} 个\")\n",
    "    \n",
    "    # 分别划分真实和伪造数据\n",
    "    real_train, real_temp = train_test_split(real_data, test_size=test_size+val_size, random_state=42)\n",
    "    real_val, real_test = train_test_split(real_temp, test_size=test_size/(test_size+val_size), random_state=42)\n",
    "    \n",
    "    fake_train, fake_temp = train_test_split(fake_data, test_size=test_size+val_size, random_state=42)\n",
    "    fake_val, fake_test = train_test_split(fake_temp, test_size=test_size/(test_size+val_size), random_state=42)\n",
    "    \n",
    "    # 合并数据\n",
    "    train_data = real_train + fake_train\n",
    "    val_data = real_val + fake_val\n",
    "    test_data = real_test + fake_test\n",
    "    \n",
    "    # 打乱数据\n",
    "    random.shuffle(train_data)\n",
    "    random.shuffle(val_data)\n",
    "    random.shuffle(test_data)\n",
    "    \n",
    "    return train_data, val_data, test_data\n",
    "\n",
    "def save_dataset_to_csv(data_list, filename):\n",
    "    \"\"\"将数据集保存为CSV文件\"\"\"\n",
    "    df_data = []\n",
    "    for item in data_list:\n",
    "        df_data.append({\n",
    "            'video_path': item['video_path'],\n",
    "            'label': item['label'],\n",
    "            'method': item['method'],\n",
    "            'num_frames': len(item['frames'])\n",
    "        })\n",
    "    \n",
    "    df = pd.DataFrame(df_data)\n",
    "    df.to_csv(filename, index=False)\n",
    "    print(f\"数据集已保存到: {filename}\")\n",
    "    return df\n",
    "\n",
    "print(\"✅ 数据处理函数定义完成\")"
   ]
  },
  {
   "cell_type": "markdown",
   "id": "511cc5a5",
   "metadata": {
    "papermill": {
     "duration": 0.007061,
     "end_time": "2025-07-24T12:40:29.945791",
     "exception": false,
     "start_time": "2025-07-24T12:40:29.938730",
     "status": "completed"
    },
    "tags": []
   },
   "source": [
    "# Cell 4: 数据集类定义\n"
   ]
  },
  {
   "cell_type": "code",
   "execution_count": 5,
   "id": "e60aa821",
   "metadata": {
    "execution": {
     "iopub.execute_input": "2025-07-24T12:40:29.962317Z",
     "iopub.status.busy": "2025-07-24T12:40:29.962089Z",
     "iopub.status.idle": "2025-07-24T12:40:29.989719Z",
     "shell.execute_reply": "2025-07-24T12:40:29.988991Z"
    },
    "papermill": {
     "duration": 0.037476,
     "end_time": "2025-07-24T12:40:29.990911",
     "exception": false,
     "start_time": "2025-07-24T12:40:29.953435",
     "status": "completed"
    },
    "tags": []
   },
   "outputs": [
    {
     "name": "stdout",
     "output_type": "stream",
     "text": [
      "✅ 数据集类定义完成\n"
     ]
    }
   ],
   "source": [
    "# Cell 4: 数据集类定义\n",
    "\n",
    "import os\n",
    "import numpy as np\n",
    "import torch\n",
    "import pandas as pd\n",
    "from torch.utils.data import Dataset\n",
    "from torchvision import transforms\n",
    "\n",
    "class DeepfakeVideoDataset(Dataset):\n",
    "    \"\"\"深度伪造视频数据集类 - 集成MTCNN和多模态特征\"\"\"\n",
    "    \n",
    "    def __init__(self, csv_file=None, data_list=None, transform=None, max_frames=16, \n",
    "                 gpu_preprocessing=False, cache_frames=False, use_mtcnn=True, \n",
    "                 extract_fourier=False, extract_compression=False):\n",
    "        if csv_file is not None:\n",
    "            try:\n",
    "                self.df = pd.read_csv(csv_file)\n",
    "                self.data_list = None\n",
    "                print(f\"✅ 成功加载CSV文件: {csv_file}\")\n",
    "            except FileNotFoundError:\n",
    "                print(f\"⚠️ CSV文件不存在: {csv_file}，创建空数据集\")\n",
    "                self.df = pd.DataFrame(columns=['video_path', 'label'])\n",
    "                self.data_list = None\n",
    "        elif data_list is not None:\n",
    "            self.data_list = data_list\n",
    "            self.df = None\n",
    "        else:\n",
    "            raise ValueError(\"必须提供csv_file或data_list\")\n",
    "            \n",
    "        self.transform = transform\n",
    "        self.max_frames = max_frames\n",
    "        self.gpu_preprocessing = gpu_preprocessing and torch.cuda.is_available()\n",
    "        self.cache_frames = cache_frames\n",
    "        self.use_mtcnn = use_mtcnn and globals().get('MTCNN_AVAILABLE', False)\n",
    "        self.extract_fourier = extract_fourier and globals().get('SCIPY_AVAILABLE', False)\n",
    "        self.extract_compression = extract_compression\n",
    "        \n",
    "        # 优化缓存系统 - 使用LRU缓存\n",
    "        if cache_frames:\n",
    "            from functools import lru_cache\n",
    "            self.frame_cache = {}\n",
    "            self.cache_hits = 0\n",
    "            self.cache_misses = 0\n",
    "            self.max_cache_size = 100  # 限制缓存大小\n",
    "        else:\n",
    "            self.frame_cache = None\n",
    "        \n",
    "        # 预计算数据统计信息\n",
    "        self._compute_dataset_stats()\n",
    "        \n",
    "        print(f\"✅ 数据集初始化完成: {len(self)} 个样本\")\n",
    "        if self.gpu_preprocessing:\n",
    "            print(\"🚀 启用GPU预处理\")\n",
    "        if self.use_mtcnn:\n",
    "            print(\"👁️ 启用MTCNN人脸检测\")\n",
    "        if self.extract_fourier:\n",
    "            print(\"📊 启用频域特征提取\")\n",
    "        if self.extract_compression:\n",
    "            print(\"🔍 启用压缩伪影分析\")\n",
    "\n",
    "    def _compute_dataset_stats(self):\n",
    "        \"\"\"预计算数据集统计信息\"\"\"\n",
    "        try:\n",
    "            if self.df is not None and len(self.df) > 0:\n",
    "                self.real_count = len(self.df[self.df['label'] == 0])\n",
    "                self.fake_count = len(self.df[self.df['label'] == 1])\n",
    "            elif self.data_list is not None:\n",
    "                self.real_count = sum(1 for item in self.data_list if item['label'] == 0)\n",
    "                self.fake_count = sum(1 for item in self.data_list if item['label'] == 1)\n",
    "            else:\n",
    "                self.real_count = 0\n",
    "                self.fake_count = 0\n",
    "        except Exception as e:\n",
    "            print(f\"⚠️ 计算数据统计时出错: {e}\")\n",
    "            self.real_count = 0\n",
    "            self.fake_count = 0\n",
    "        \n",
    "        print(f\"📊 数据分布: 真实={self.real_count}, 伪造={self.fake_count}\")\n",
    "\n",
    "    def __len__(self):\n",
    "        if self.df is not None:\n",
    "            return len(self.df)\n",
    "        return len(self.data_list) if self.data_list else 0\n",
    "\n",
    "    def __getitem__(self, idx):\n",
    "        try:\n",
    "            if self.data_list is not None:\n",
    "                item = self.data_list[idx]\n",
    "                video_path = item['video_path']\n",
    "                frames = item.get('frames', None)\n",
    "                label = item['label']\n",
    "            else:\n",
    "                row = self.df.iloc[idx]\n",
    "                video_path = row['video_path']\n",
    "                label = row['label']\n",
    "                frames = None\n",
    "\n",
    "            # 如果没有预提取的帧，则实时提取\n",
    "            if frames is None:\n",
    "                try:\n",
    "                    frames = extract_frames_memory_efficient(\n",
    "                        video_path, \n",
    "                        max_frames=self.max_frames,\n",
    "                        use_mtcnn=self.use_mtcnn\n",
    "                    )\n",
    "                except Exception as e:\n",
    "                    print(f\"⚠️ 实时帧提取失败: {e}\")\n",
    "                    frames = self._create_default_frames()\n",
    "            \n",
    "            # 如果仍然没有帧，创建默认帧\n",
    "            if not frames:\n",
    "                frames = self._create_default_frames()\n",
    "            \n",
    "            # 确保帧数一致\n",
    "            while len(frames) < self.max_frames:\n",
    "                frames.append(frames[-1] if frames else np.zeros((224, 224, 3), dtype=np.uint8))\n",
    "            frames = frames[:self.max_frames]\n",
    "\n",
    "            # 提取多模态特征\n",
    "            additional_features = self._extract_additional_features(frames)\n",
    "\n",
    "            # 始终使用CPU处理路径确保稳定性\n",
    "            video_tensor = torch.stack([\n",
    "                torch.from_numpy(frame).permute(2, 0, 1) for frame in frames\n",
    "            ]).float() / 255.0  # (T, C, H, W)\n",
    "\n",
    "            # 应用变换\n",
    "            if self.transform:\n",
    "                try:\n",
    "                    transformed_frames = []\n",
    "                    for frame in video_tensor:\n",
    "                        frame_pil = transforms.ToPILImage()(frame)\n",
    "                        transformed_frame = self.transform(frame_pil)\n",
    "                        transformed_frames.append(transformed_frame)\n",
    "                    video_tensor = torch.stack(transformed_frames)\n",
    "                except Exception as e:\n",
    "                    print(f\"⚠️ 数据变换失败，使用原始数据: {e}\")\n",
    "            \n",
    "            # 默认标准化\n",
    "            try:\n",
    "                mean = torch.tensor([0.485, 0.456, 0.406]).view(1, 3, 1, 1)\n",
    "                std = torch.tensor([0.229, 0.224, 0.225]).view(1, 3, 1, 1)\n",
    "                video_tensor = (video_tensor - mean) / std\n",
    "            except Exception as e:\n",
    "                print(f\"⚠️ 标准化失败: {e}\")\n",
    "\n",
    "            label_tensor = torch.tensor(label, dtype=torch.float32)\n",
    "            \n",
    "            # 返回数据和额外特征\n",
    "            if additional_features:\n",
    "                return video_tensor, label_tensor, additional_features\n",
    "            else:\n",
    "                return video_tensor, label_tensor\n",
    "            \n",
    "        except Exception as e:\n",
    "            print(f\"⚠️ 获取数据项 {idx} 时出错: {e}\")\n",
    "            # 返回默认数据\n",
    "            return self._get_default_item()\n",
    "\n",
    "    def _extract_additional_features(self, frames):\n",
    "        \"\"\"提取额外的多模态特征\"\"\"\n",
    "        features = {}\n",
    "        \n",
    "        try:\n",
    "            if self.extract_fourier:\n",
    "                # 提取频域特征（使用中间帧）\n",
    "                mid_frame = frames[len(frames) // 2]\n",
    "                fourier_features = extract_fourier_features(mid_frame)\n",
    "                if fourier_features:\n",
    "                    features['fourier'] = fourier_features\n",
    "            \n",
    "            if self.extract_compression:\n",
    "                # 提取压缩伪影特征\n",
    "                compression_features = []\n",
    "                for frame in frames[::4]:  # 每4帧采样一次\n",
    "                    comp_feat = analyze_compression_artifacts(frame)\n",
    "                    if comp_feat:\n",
    "                        compression_features.append(comp_feat)\n",
    "                \n",
    "                if compression_features:\n",
    "                    # 聚合压缩特征 - 使用与模型期望匹配的键名\n",
    "                    features['compression'] = {\n",
    "                        'dct_mean': np.mean([f.get('dct_mean', f.get('dct_energy', 0)) for f in compression_features]),\n",
    "                        'dct_std': np.std([f.get('dct_mean', f.get('dct_energy', 0)) for f in compression_features]),\n",
    "                        'dct_energy': np.mean([f.get('dct_energy', 0) for f in compression_features]),\n",
    "                        'high_freq_energy': np.mean([f.get('high_freq_energy', f.get('dct_energy', 0) * 0.1) for f in compression_features]),\n",
    "                        'edge_density': np.mean([f.get('edge_density', 0) for f in compression_features])\n",
    "                    }\n",
    "            \n",
    "            # 计算时序一致性特征\n",
    "            if len(frames) > 1:\n",
    "                temporal_features = self._compute_temporal_consistency(frames)\n",
    "                if temporal_features:\n",
    "                    features['temporal'] = temporal_features\n",
    "            \n",
    "            return features if features else None\n",
    "            \n",
    "        except Exception as e:\n",
    "            print(f\"⚠️ 提取额外特征失败: {e}\")\n",
    "            return None\n",
    "\n",
    "    def _compute_temporal_consistency(self, frames):\n",
    "        \"\"\"计算时序一致性特征\"\"\"\n",
    "        try:\n",
    "            # 计算相邻帧之间的差异\n",
    "            frame_diffs = []\n",
    "            for i in range(len(frames) - 1):\n",
    "                diff = np.mean(np.abs(frames[i+1].astype(float) - frames[i].astype(float)))\n",
    "                frame_diffs.append(diff)\n",
    "            \n",
    "            if frame_diffs:\n",
    "                return {\n",
    "                    'mean_frame_diff': np.mean(frame_diffs),\n",
    "                    'std_frame_diff': np.std(frame_diffs),\n",
    "                    'max_frame_diff': np.max(frame_diffs),\n",
    "                    'temporal_smoothness': 1.0 / (1.0 + np.std(frame_diffs))\n",
    "                }\n",
    "            \n",
    "            return None\n",
    "            \n",
    "        except Exception as e:\n",
    "            print(f\"⚠️ 计算时序特征失败: {e}\")\n",
    "            return None\n",
    "\n",
    "    def _create_default_frames(self):\n",
    "        \"\"\"创建默认帧数据\"\"\"\n",
    "        # 创建随机噪声帧而不是全零帧，使训练更有意义\n",
    "        frames = []\n",
    "        for i in range(self.max_frames):\n",
    "            # 创建带有轻微随机噪声的帧\n",
    "            frame = np.random.randint(0, 50, (224, 224, 3), dtype=np.uint8)\n",
    "            frames.append(frame)\n",
    "        return frames\n",
    "\n",
    "    def _get_default_item(self):\n",
    "        \"\"\"获取默认数据项（用于错误恢复）\"\"\"\n",
    "        frames = self._create_default_frames()\n",
    "        video_tensor = torch.stack([\n",
    "            torch.from_numpy(frame).permute(2, 0, 1) for frame in frames\n",
    "        ]).float() / 255.0\n",
    "        \n",
    "        # 标准化\n",
    "        mean = torch.tensor([0.485, 0.456, 0.406]).view(1, 3, 1, 1)\n",
    "        std = torch.tensor([0.229, 0.224, 0.225]).view(1, 3, 1, 1)\n",
    "        video_tensor = (video_tensor - mean) / std\n",
    "        \n",
    "        label_tensor = torch.tensor(0.0, dtype=torch.float32)\n",
    "        return video_tensor, label_tensor\n",
    "\n",
    "    def get_cache_stats(self):\n",
    "        \"\"\"获取缓存统计信息\"\"\"\n",
    "        if self.frame_cache is not None:\n",
    "            total_requests = self.cache_hits + self.cache_misses\n",
    "            hit_rate = self.cache_hits / total_requests if total_requests > 0 else 0\n",
    "            return {\n",
    "                'cache_hits': self.cache_hits,\n",
    "                'cache_misses': self.cache_misses, \n",
    "                'hit_rate': hit_rate,\n",
    "                'cache_size': len(self.frame_cache)\n",
    "            }\n",
    "        return None\n",
    "\n",
    "    def enable_ensemble_mode(self):\n",
    "        \"\"\"启用集成模式，提取所有可用特征\"\"\"\n",
    "        self.extract_fourier = globals().get('SCIPY_AVAILABLE', False)\n",
    "        self.extract_compression = True\n",
    "        self.use_mtcnn = globals().get('MTCNN_AVAILABLE', False)\n",
    "        print(\"🎯 启用集成模式：所有特征提取已激活\")\n",
    "\n",
    "print(\"✅ 数据集类定义完成\")"
   ]
  },
  {
   "cell_type": "markdown",
   "id": "a3625327",
   "metadata": {
    "papermill": {
     "duration": 0.008399,
     "end_time": "2025-07-24T12:40:30.008556",
     "exception": false,
     "start_time": "2025-07-24T12:40:30.000157",
     "status": "completed"
    },
    "tags": []
   },
   "source": [
    "# Cell 5: 模型定义"
   ]
  },
  {
   "cell_type": "code",
   "execution_count": 6,
   "id": "d2a8481b",
   "metadata": {
    "execution": {
     "iopub.execute_input": "2025-07-24T12:40:30.027704Z",
     "iopub.status.busy": "2025-07-24T12:40:30.027457Z",
     "iopub.status.idle": "2025-07-24T12:40:30.071589Z",
     "shell.execute_reply": "2025-07-24T12:40:30.070973Z"
    },
    "papermill": {
     "duration": 0.055598,
     "end_time": "2025-07-24T12:40:30.072742",
     "exception": false,
     "start_time": "2025-07-24T12:40:30.017144",
     "status": "completed"
    },
    "tags": []
   },
   "outputs": [
    {
     "name": "stdout",
     "output_type": "stream",
     "text": [
      "✅ 优化模型定义完成\n"
     ]
    }
   ],
   "source": [
    "# Cell 5: 模型定义 - 集成多模态特征和Ensemble策略\n",
    "\n",
    "import torch\n",
    "import torch.nn as nn\n",
    "import torch.nn.functional as F\n",
    "import numpy as np\n",
    "from torchvision import models\n",
    "\n",
    "class OptimizedDeepfakeDetector(nn.Module):\n",
    "    \"\"\"优化的深度伪造检测器 - 集成多模态特征和Ensemble策略\"\"\"\n",
    "    \n",
    "    def __init__(self, num_classes=1, dropout_rate=0.3, use_attention=True, \n",
    "                 use_multimodal=False, ensemble_mode=False):\n",
    "        super(OptimizedDeepfakeDetector, self).__init__()\n",
    "        \n",
    "        self.use_attention = use_attention\n",
    "        self.use_multimodal = use_multimodal\n",
    "        self.ensemble_mode = ensemble_mode\n",
    "        \n",
    "        # 主干网络 - ResNet50\n",
    "        self.backbone = models.resnet50(pretrained=True)\n",
    "        backbone_features = self.backbone.fc.in_features\n",
    "        self.backbone.fc = nn.Identity()  # 移除最后的分类层\n",
    "        \n",
    "        # 时序特征提取\n",
    "        self.temporal_conv = nn.Sequential(\n",
    "            nn.Conv3d(3, 64, kernel_size=(3, 3, 3), padding=(1, 1, 1)),\n",
    "            nn.BatchNorm3d(64),\n",
    "            nn.ReLU(inplace=True),\n",
    "            nn.AdaptiveAvgPool3d((1, 7, 7))\n",
    "        )\n",
    "        \n",
    "        # 注意力机制\n",
    "        if use_attention:\n",
    "            self.attention = nn.MultiheadAttention(\n",
    "                embed_dim=backbone_features, \n",
    "                num_heads=8, \n",
    "                dropout=dropout_rate,\n",
    "                batch_first=True\n",
    "            )\n",
    "            self.attention_norm = nn.LayerNorm(backbone_features)\n",
    "        \n",
    "        # 多模态特征融合\n",
    "        if use_multimodal:\n",
    "            # 频域特征处理 - 修正输入维度\n",
    "            self.fourier_fc = nn.Sequential(\n",
    "                nn.Linear(5, 256),  # 频域特征实际维度为5 (mean, std, max, energy, entropy)\n",
    "                nn.ReLU(inplace=True),\n",
    "                nn.Dropout(dropout_rate),\n",
    "                nn.Linear(256, 128)\n",
    "            )\n",
    "            \n",
    "            # 压缩伪影特征处理 - 修正输入维度\n",
    "            self.compression_fc = nn.Sequential(\n",
    "                nn.Linear(5, 64),  # 压缩特征实际维度为5 (dct_mean, dct_std, dct_energy, high_freq_energy, edge_density)\n",
    "                nn.ReLU(inplace=True),\n",
    "                nn.Dropout(dropout_rate),\n",
    "                nn.Linear(64, 32)\n",
    "            )\n",
    "            \n",
    "            # 时序一致性特征处理\n",
    "            self.temporal_fc = nn.Sequential(\n",
    "                nn.Linear(4, 64),  # 时序特征维度为4\n",
    "                nn.ReLU(inplace=True),\n",
    "                nn.Dropout(dropout_rate),\n",
    "                nn.Linear(64, 32)\n",
    "            )\n",
    "            \n",
    "            # 特征融合层 - 动态计算输入维度\n",
    "            # 基础特征: backbone_features (2048)\n",
    "            # 频域特征: 128 (fourier_fc输出)\n",
    "            # 压缩特征: 32 (compression_fc输出)  \n",
    "            # 时序特征: 32 (temporal_fc输出)\n",
    "            fusion_dim = backbone_features + 128 + 32 + 32  # 2048 + 128 + 32 + 32 = 2240\n",
    "            self.fusion_layer = nn.Sequential(\n",
    "                nn.Linear(fusion_dim, 512),\n",
    "                nn.ReLU(inplace=True),\n",
    "                nn.Dropout(dropout_rate),\n",
    "                nn.Linear(512, 256)\n",
    "            )\n",
    "            final_features = 256\n",
    "        else:\n",
    "            final_features = backbone_features\n",
    "        \n",
    "        # 集成模式的多个分类头\n",
    "        if ensemble_mode:\n",
    "            # 主分类器\n",
    "            self.main_classifier = nn.Sequential(\n",
    "                nn.Dropout(dropout_rate),\n",
    "                nn.Linear(final_features, 128),\n",
    "                nn.ReLU(inplace=True),\n",
    "                nn.Dropout(dropout_rate),\n",
    "                nn.Linear(128, num_classes)\n",
    "            )\n",
    "            \n",
    "            # 辅助分类器1 - 专注于空间特征\n",
    "            self.spatial_classifier = nn.Sequential(\n",
    "                nn.Dropout(dropout_rate),\n",
    "                nn.Linear(final_features, 64),\n",
    "                nn.ReLU(inplace=True),\n",
    "                nn.Linear(64, num_classes)\n",
    "            )\n",
    "            \n",
    "            # 辅助分类器2 - 专注于时序特征\n",
    "            self.temporal_classifier = nn.Sequential(\n",
    "                nn.Dropout(dropout_rate),\n",
    "                nn.Linear(final_features, 64),\n",
    "                nn.ReLU(inplace=True),\n",
    "                nn.Linear(64, num_classes)\n",
    "            )\n",
    "            \n",
    "            # 集成权重（可学习）\n",
    "            self.ensemble_weights = nn.Parameter(torch.ones(3) / 3)\n",
    "            \n",
    "        else:\n",
    "            # 单一分类器\n",
    "            self.classifier = nn.Sequential(\n",
    "                nn.Dropout(dropout_rate),\n",
    "                nn.Linear(final_features, 256),\n",
    "                nn.ReLU(inplace=True),\n",
    "                nn.Dropout(dropout_rate),\n",
    "                nn.Linear(256, 128),\n",
    "                nn.ReLU(inplace=True),\n",
    "                nn.Dropout(dropout_rate),\n",
    "                nn.Linear(128, num_classes)\n",
    "            )\n",
    "            \n",
    "            # 添加单一分类器用于处理基础特征（当多模态特征处理失败时）\n",
    "            self.single_classifier = nn.Sequential(\n",
    "                nn.Dropout(dropout_rate),\n",
    "                nn.Linear(backbone_features, 128),  # 直接处理backbone特征\n",
    "                nn.ReLU(inplace=True),\n",
    "                nn.Dropout(dropout_rate),\n",
    "                nn.Linear(128, num_classes)\n",
    "            )\n",
    "        \n",
    "        # 初始化权重\n",
    "        self._initialize_weights()\n",
    "        \n",
    "        print(f\"✅ 模型初始化完成\")\n",
    "        print(f\"   - 注意力机制: {'启用' if use_attention else '禁用'}\")\n",
    "        print(f\"   - 多模态融合: {'启用' if use_multimodal else '禁用'}\")\n",
    "        print(f\"   - 集成模式: {'启用' if ensemble_mode else '禁用'}\")\n",
    "\n",
    "    def _initialize_weights(self):\n",
    "        \"\"\"初始化权重\"\"\"\n",
    "        for m in self.modules():\n",
    "            if isinstance(m, nn.Linear):\n",
    "                nn.init.xavier_uniform_(m.weight)\n",
    "                if m.bias is not None:\n",
    "                    nn.init.constant_(m.bias, 0)\n",
    "            elif isinstance(m, nn.Conv3d):\n",
    "                nn.init.kaiming_normal_(m.weight, mode='fan_out', nonlinearity='relu')\n",
    "\n",
    "    def forward(self, x, additional_features=None):\n",
    "        \"\"\"\n",
    "        前向传播\n",
    "        Args:\n",
    "            x: 视频张量 (B, T, C, H, W)\n",
    "            additional_features: 额外特征字典\n",
    "        \"\"\"\n",
    "        batch_size, num_frames, channels, height, width = x.shape\n",
    "        \n",
    "        # 提取每帧的空间特征\n",
    "        x_reshaped = x.view(batch_size * num_frames, channels, height, width)\n",
    "        spatial_features = self.backbone(x_reshaped)  # (B*T, features)\n",
    "        spatial_features = spatial_features.view(batch_size, num_frames, -1)  # (B, T, features)\n",
    "        \n",
    "        # 时序特征聚合\n",
    "        if self.use_attention:\n",
    "            # 使用注意力机制聚合时序特征\n",
    "            attended_features, attention_weights = self.attention(\n",
    "                spatial_features, spatial_features, spatial_features\n",
    "            )\n",
    "            attended_features = self.attention_norm(attended_features + spatial_features)\n",
    "            # 全局平均池化\n",
    "            temporal_features = torch.mean(attended_features, dim=1)  # (B, features)\n",
    "        else:\n",
    "            # 简单平均池化\n",
    "            temporal_features = torch.mean(spatial_features, dim=1)  # (B, features)\n",
    "        \n",
    "        # 多模态特征融合\n",
    "        if self.use_multimodal and additional_features is not None:\n",
    "            fusion_features = [temporal_features]\n",
    "            \n",
    "            # 处理频域特征\n",
    "            if 'fourier' in additional_features:\n",
    "                try:\n",
    "                    fourier_feat = additional_features['fourier']\n",
    "                    if isinstance(fourier_feat, dict):\n",
    "                        # 安全地提取数值特征\n",
    "                        fourier_values = []\n",
    "                        for value in fourier_feat.values():\n",
    "                            if isinstance(value, (int, float)):\n",
    "                                fourier_values.append(float(value))\n",
    "                            elif isinstance(value, torch.Tensor):\n",
    "                                if value.numel() == 1:\n",
    "                                    fourier_values.append(float(value.item()))\n",
    "                                else:\n",
    "                                    fourier_values.append(float(value.mean().item()))\n",
    "                            elif isinstance(value, np.ndarray):\n",
    "                                if value.size == 1:\n",
    "                                    fourier_values.append(float(value.item()))\n",
    "                                else:\n",
    "                                    fourier_values.append(float(value.mean()))\n",
    "                            else:\n",
    "                                fourier_values.append(0.0)  # 默认值\n",
    "                        \n",
    "                        # 确保有足够的特征维度\n",
    "                        if len(fourier_values) < 5:  # fourier_fc期望5维输入\n",
    "                            fourier_values.extend([0.0] * (5 - len(fourier_values)))\n",
    "                        elif len(fourier_values) > 5:\n",
    "                            fourier_values = fourier_values[:5]\n",
    "                        \n",
    "                        fourier_tensor = torch.tensor([fourier_values] * batch_size, \n",
    "                                                    dtype=torch.float32, \n",
    "                                                    device=temporal_features.device)\n",
    "                    else:\n",
    "                        # 如果已经是张量，确保正确的形状\n",
    "                        if isinstance(fourier_feat, torch.Tensor):\n",
    "                            fourier_tensor = fourier_feat.to(temporal_features.device)\n",
    "                            if fourier_tensor.dim() == 1:\n",
    "                                fourier_tensor = fourier_tensor.unsqueeze(0).repeat(batch_size, 1)\n",
    "                        else:\n",
    "                            # 创建默认张量\n",
    "                            fourier_tensor = torch.zeros(batch_size, 5, \n",
    "                                                        dtype=torch.float32, \n",
    "                                                        device=temporal_features.device)\n",
    "                    \n",
    "                    fourier_processed = self.fourier_fc(fourier_tensor)\n",
    "                    fusion_features.append(fourier_processed)\n",
    "                except Exception as e:\n",
    "                    print(f\"⚠️ 频域特征处理失败: {e}\")\n",
    "                    # 使用默认特征\n",
    "                    fourier_tensor = torch.zeros(batch_size, 5, \n",
    "                                                dtype=torch.float32, \n",
    "                                                device=temporal_features.device)\n",
    "                    fourier_processed = self.fourier_fc(fourier_tensor)\n",
    "                    fusion_features.append(fourier_processed)\n",
    "            \n",
    "            # 处理压缩伪影特征\n",
    "            if 'compression' in additional_features:\n",
    "                try:\n",
    "                    comp_feat = additional_features['compression']\n",
    "                    if isinstance(comp_feat, dict):\n",
    "                        # 安全地提取压缩特征 - 修正为5个特征\n",
    "                        comp_values = []\n",
    "                        for key in ['dct_mean', 'dct_std', 'dct_energy', 'high_freq_energy', 'edge_density']:\n",
    "                            if key in comp_feat:\n",
    "                                value = comp_feat[key]\n",
    "                                if isinstance(value, (int, float)):\n",
    "                                    comp_values.append(float(value))\n",
    "                                elif isinstance(value, torch.Tensor):\n",
    "                                    comp_values.append(float(value.item() if value.numel() == 1 else value.mean().item()))\n",
    "                                elif isinstance(value, np.ndarray):\n",
    "                                    comp_values.append(float(value.item() if value.size == 1 else value.mean()))\n",
    "                                else:\n",
    "                                    comp_values.append(0.0)\n",
    "                            else:\n",
    "                                comp_values.append(0.0)\n",
    "                        \n",
    "                        comp_tensor = torch.tensor([comp_values] * batch_size, \n",
    "                                                 dtype=torch.float32, \n",
    "                                                 device=temporal_features.device)\n",
    "                    else:\n",
    "                        if isinstance(comp_feat, torch.Tensor):\n",
    "                            comp_tensor = comp_feat.to(temporal_features.device)\n",
    "                            if comp_tensor.dim() == 1:\n",
    "                                comp_tensor = comp_tensor.unsqueeze(0).repeat(batch_size, 1)\n",
    "                        else:\n",
    "                            comp_tensor = torch.zeros(batch_size, 5, \n",
    "                                                    dtype=torch.float32, \n",
    "                                                    device=temporal_features.device)\n",
    "                    \n",
    "                    comp_processed = self.compression_fc(comp_tensor)\n",
    "                    fusion_features.append(comp_processed)\n",
    "                except Exception as e:\n",
    "                    print(f\"⚠️ 压缩特征处理失败: {e}\")\n",
    "                    comp_tensor = torch.zeros(batch_size, 5, \n",
    "                                            dtype=torch.float32, \n",
    "                                            device=temporal_features.device)\n",
    "                    comp_processed = self.compression_fc(comp_tensor)\n",
    "                    fusion_features.append(comp_processed)\n",
    "            \n",
    "            # 处理时序一致性特征\n",
    "            if 'temporal' in additional_features:\n",
    "                try:\n",
    "                    temp_feat = additional_features['temporal']\n",
    "                    if isinstance(temp_feat, dict):\n",
    "                        # 安全地提取时序特征\n",
    "                        temp_values = []\n",
    "                        for key in ['mean_frame_diff', 'std_frame_diff', 'max_frame_diff', 'temporal_smoothness']:\n",
    "                            if key in temp_feat:\n",
    "                                value = temp_feat[key]\n",
    "                                if isinstance(value, (int, float)):\n",
    "                                    temp_values.append(float(value))\n",
    "                                elif isinstance(value, torch.Tensor):\n",
    "                                    temp_values.append(float(value.item() if value.numel() == 1 else value.mean().item()))\n",
    "                                elif isinstance(value, np.ndarray):\n",
    "                                    temp_values.append(float(value.item() if value.size == 1 else value.mean()))\n",
    "                                else:\n",
    "                                    temp_values.append(0.0)\n",
    "                            else:\n",
    "                                temp_values.append(0.0)\n",
    "                        \n",
    "                        temp_tensor = torch.tensor([temp_values] * batch_size, \n",
    "                                                 dtype=torch.float32, \n",
    "                                                 device=temporal_features.device)\n",
    "                    else:\n",
    "                        if isinstance(temp_feat, torch.Tensor):\n",
    "                            temp_tensor = temp_feat.to(temporal_features.device)\n",
    "                            if temp_tensor.dim() == 1:\n",
    "                                temp_tensor = temp_tensor.unsqueeze(0).repeat(batch_size, 1)\n",
    "                        else:\n",
    "                            temp_tensor = torch.zeros(batch_size, 4, \n",
    "                                                    dtype=torch.float32, \n",
    "                                                    device=temporal_features.device)\n",
    "                    \n",
    "                    temp_processed = self.temporal_fc(temp_tensor)\n",
    "                    fusion_features.append(temp_processed)\n",
    "                except Exception as e:\n",
    "                    print(f\"⚠️ 时序特征处理失败: {e}\")\n",
    "                    temp_tensor = torch.zeros(batch_size, 4, \n",
    "                                            dtype=torch.float32, \n",
    "                                            device=temporal_features.device)\n",
    "                    temp_processed = self.temporal_fc(temp_tensor)\n",
    "                    fusion_features.append(temp_processed)\n",
    "            \n",
    "            # 特征融合 - 确保维度一致性\n",
    "            if len(fusion_features) > 1:\n",
    "                try:\n",
    "                    # 检查每个特征的维度\n",
    "                    feature_dims = [f.shape[1] for f in fusion_features]\n",
    "                    print(f\"🔍 融合特征维度: {feature_dims}\")\n",
    "                    \n",
    "                    # 计算总维度\n",
    "                    total_dim = sum(feature_dims)\n",
    "                    expected_dim = self.fusion_layer[0].in_features\n",
    "                    \n",
    "                    if total_dim == expected_dim:\n",
    "                        fused_features = torch.cat(fusion_features, dim=1)\n",
    "                        final_features = self.fusion_layer(fused_features)\n",
    "                        print(f\"✅ 特征融合成功: {fused_features.shape} -> {final_features.shape}\")\n",
    "                    else:\n",
    "                        print(f\"⚠️ 维度不匹配: 实际={total_dim}, 期望={expected_dim}\")\n",
    "                        \n",
    "                        # 动态调整特征维度\n",
    "                        if total_dim < expected_dim:\n",
    "                            # 如果维度不足，用零填充\n",
    "                            padding_dim = expected_dim - total_dim\n",
    "                            fused_features = torch.cat(fusion_features, dim=1)\n",
    "                            padding = torch.zeros(batch_size, padding_dim, \n",
    "                                                dtype=fused_features.dtype, \n",
    "                                                device=fused_features.device)\n",
    "                            fused_features = torch.cat([fused_features, padding], dim=1)\n",
    "                            final_features = self.fusion_layer(fused_features)\n",
    "                            print(f\"✅ 特征填充后融合成功: {fused_features.shape} -> {final_features.shape}\")\n",
    "                        elif total_dim > expected_dim:\n",
    "                            # 如果维度过多，截断到期望维度\n",
    "                            fused_features = torch.cat(fusion_features, dim=1)\n",
    "                            fused_features = fused_features[:, :expected_dim]\n",
    "                            final_features = self.fusion_layer(fused_features)\n",
    "                            print(f\"✅ 特征截断后融合成功: {fused_features.shape} -> {final_features.shape}\")\n",
    "                        else:\n",
    "                            # 如果维度相等但仍然失败，使用基础特征\n",
    "                            print(f\"⚠️ 使用基础特征作为后备\")\n",
    "                            final_features = temporal_features\n",
    "                            \n",
    "                except Exception as e:\n",
    "                    print(f\"⚠️ 特征融合失败: {e}\")\n",
    "                    final_features = temporal_features\n",
    "            else:\n",
    "                final_features = temporal_features\n",
    "        else:\n",
    "            final_features = temporal_features\n",
    "        \n",
    "        # 分类预测 - 根据特征维度选择合适的分类器\n",
    "        if self.ensemble_mode:\n",
    "            # 集成预测\n",
    "            main_pred = self.main_classifier(final_features)\n",
    "            spatial_pred = self.spatial_classifier(final_features)\n",
    "            temporal_pred = self.temporal_classifier(final_features)\n",
    "            \n",
    "            # 加权融合\n",
    "            weights = F.softmax(self.ensemble_weights, dim=0)\n",
    "            ensemble_pred = (weights[0] * main_pred + \n",
    "                           weights[1] * spatial_pred + \n",
    "                           weights[2] * temporal_pred)\n",
    "            \n",
    "            if self.training:\n",
    "                # 训练时返回所有预测用于多任务学习\n",
    "                return {\n",
    "                    'main': main_pred,\n",
    "                    'spatial': spatial_pred,\n",
    "                    'temporal': temporal_pred,\n",
    "                    'ensemble': ensemble_pred\n",
    "                }\n",
    "            else:\n",
    "                # 推理时只返回集成结果\n",
    "                return ensemble_pred\n",
    "        else:\n",
    "            # 检查特征维度并选择合适的分类器\n",
    "            feature_dim = final_features.shape[1]\n",
    "            \n",
    "            # 获取分类器的输入维度\n",
    "            classifier_input_dim = None\n",
    "            single_classifier_input_dim = None\n",
    "            \n",
    "            # 找到第一个Linear层来获取输入维度\n",
    "            for layer in self.classifier:\n",
    "                if isinstance(layer, nn.Linear):\n",
    "                    classifier_input_dim = layer.in_features\n",
    "                    break\n",
    "            \n",
    "            for layer in self.single_classifier:\n",
    "                if isinstance(layer, nn.Linear):\n",
    "                    single_classifier_input_dim = layer.in_features\n",
    "                    break\n",
    "            \n",
    "            # 根据特征维度选择合适的分类器\n",
    "            if classifier_input_dim and feature_dim == classifier_input_dim:\n",
    "                return self.classifier(final_features)\n",
    "            elif single_classifier_input_dim and feature_dim == single_classifier_input_dim:\n",
    "                return self.single_classifier(final_features)\n",
    "            else:\n",
    "                # 如果都不匹配，尝试使用单一分类器（通常处理基础特征）\n",
    "                print(f\"⚠️ 特征维度 {feature_dim} 不匹配任何分类器，使用单一分类器\")\n",
    "                return self.single_classifier(final_features)\n",
    "\n",
    "    def get_attention_weights(self, x):\n",
    "        \"\"\"获取注意力权重（用于可视化）\"\"\"\n",
    "        if not self.use_attention:\n",
    "            return None\n",
    "        \n",
    "        batch_size, num_frames, channels, height, width = x.shape\n",
    "        x_reshaped = x.view(batch_size * num_frames, channels, height, width)\n",
    "        spatial_features = self.backbone(x_reshaped)\n",
    "        spatial_features = spatial_features.view(batch_size, num_frames, -1)\n",
    "        \n",
    "        _, attention_weights = self.attention(\n",
    "            spatial_features, spatial_features, spatial_features\n",
    "        )\n",
    "        \n",
    "        return attention_weights\n",
    "\n",
    "    def enable_ensemble_mode(self):\n",
    "        \"\"\"启用集成模式\"\"\"\n",
    "        self.ensemble_mode = True\n",
    "        print(\"🎯 集成模式已启用\")\n",
    "\n",
    "    def disable_ensemble_mode(self):\n",
    "        \"\"\"禁用集成模式\"\"\"\n",
    "        self.ensemble_mode = False\n",
    "        print(\"🎯 集成模式已禁用\")\n",
    "\n",
    "    def get_model_info(self):\n",
    "        \"\"\"获取模型信息\"\"\"\n",
    "        total_params = sum(p.numel() for p in self.parameters())\n",
    "        trainable_params = sum(p.numel() for p in self.parameters() if p.requires_grad)\n",
    "        \n",
    "        return {\n",
    "            'total_parameters': total_params,\n",
    "            'trainable_parameters': trainable_params,\n",
    "            'use_attention': self.use_attention,\n",
    "            'use_multimodal': self.use_multimodal,\n",
    "            'ensemble_mode': self.ensemble_mode\n",
    "        }\n",
    "\n",
    "def create_ensemble_models(num_models=3, **kwargs):\n",
    "    \"\"\"创建多个模型用于集成学习\"\"\"\n",
    "    models = []\n",
    "    for i in range(num_models):\n",
    "        # 为每个模型使用不同的配置\n",
    "        model_kwargs = kwargs.copy()\n",
    "        if i == 0:\n",
    "            model_kwargs.update({'use_attention': True, 'dropout_rate': 0.3})\n",
    "        elif i == 1:\n",
    "            model_kwargs.update({'use_attention': False, 'dropout_rate': 0.4})\n",
    "        else:\n",
    "            model_kwargs.update({'use_attention': True, 'dropout_rate': 0.2})\n",
    "        \n",
    "        model = OptimizedDeepfakeDetector(**model_kwargs)\n",
    "        models.append(model)\n",
    "    \n",
    "    print(f\"✅ 创建了 {num_models} 个集成模型\")\n",
    "    return models\n",
    "\n",
    "print(\"✅ 优化模型定义完成\")"
   ]
  },
  {
   "cell_type": "markdown",
   "id": "80ee0fbc",
   "metadata": {
    "papermill": {
     "duration": 0.008165,
     "end_time": "2025-07-24T12:40:30.089303",
     "exception": false,
     "start_time": "2025-07-24T12:40:30.081138",
     "status": "completed"
    },
    "tags": []
   },
   "source": [
    "# Cell 6: 损失函数和工具类"
   ]
  },
  {
   "cell_type": "code",
   "execution_count": 7,
   "id": "d89131a0",
   "metadata": {
    "execution": {
     "iopub.execute_input": "2025-07-24T12:40:30.107189Z",
     "iopub.status.busy": "2025-07-24T12:40:30.106978Z",
     "iopub.status.idle": "2025-07-24T12:40:30.122222Z",
     "shell.execute_reply": "2025-07-24T12:40:30.121689Z"
    },
    "papermill": {
     "duration": 0.025512,
     "end_time": "2025-07-24T12:40:30.123319",
     "exception": false,
     "start_time": "2025-07-24T12:40:30.097807",
     "status": "completed"
    },
    "tags": []
   },
   "outputs": [
    {
     "name": "stdout",
     "output_type": "stream",
     "text": [
      "✅ 损失函数和工具类定义完成\n"
     ]
    }
   ],
   "source": [
    "# Cell 6: 损失函数和工具类\n",
    "\n",
    "import torch\n",
    "import torch.nn as nn\n",
    "from torchvision import transforms\n",
    "\n",
    "class FocalLoss(nn.Module):\n",
    "    \"\"\"焦点损失函数 - 解决类别不平衡问题\"\"\"\n",
    "    \n",
    "    def __init__(self, alpha=0.25, gamma=2.0, pos_weight=None, reduction='mean'):\n",
    "        super(FocalLoss, self).__init__()\n",
    "        self.alpha = alpha\n",
    "        self.gamma = gamma\n",
    "        self.pos_weight = pos_weight\n",
    "        self.reduction = reduction\n",
    "\n",
    "    def forward(self, inputs, targets):\n",
    "        # 使用 BCEWithLogitsLoss 以兼容 autocast，支持pos_weight\n",
    "        ce_loss = nn.BCEWithLogitsLoss(pos_weight=self.pos_weight, reduction='none')(inputs, targets)\n",
    "        # 计算概率用于focal weight\n",
    "        pt = torch.exp(-ce_loss)\n",
    "        \n",
    "        # 动态alpha：对于正样本使用alpha，负样本使用(1-alpha)\n",
    "        alpha_t = self.alpha * targets + (1 - self.alpha) * (1 - targets)\n",
    "        focal_loss = alpha_t * (1 - pt) ** self.gamma * ce_loss\n",
    "\n",
    "        if self.reduction == 'mean':\n",
    "            return focal_loss.mean()\n",
    "        elif self.reduction == 'sum':\n",
    "            return focal_loss.sum()\n",
    "        else:\n",
    "            return focal_loss\n",
    "\n",
    "class LabelSmoothingLoss(nn.Module):\n",
    "    \"\"\"标签平滑损失函数\"\"\"\n",
    "    \n",
    "    def __init__(self, smoothing=0.1, pos_weight=None):\n",
    "        super(LabelSmoothingLoss, self).__init__()\n",
    "        self.smoothing = smoothing\n",
    "        self.pos_weight = pos_weight\n",
    "    \n",
    "    def forward(self, inputs, targets):\n",
    "        # 标签平滑\n",
    "        targets_smooth = targets * (1 - self.smoothing) + 0.5 * self.smoothing\n",
    "        \n",
    "        # 使用BCEWithLogitsLoss\n",
    "        loss = nn.BCEWithLogitsLoss(pos_weight=self.pos_weight, reduction='mean')(inputs, targets_smooth)\n",
    "        return loss\n",
    "\n",
    "class CombinedLoss(nn.Module):\n",
    "    \"\"\"组合损失函数：Focal Loss + Label Smoothing\"\"\"\n",
    "    \n",
    "    def __init__(self, focal_weight=0.7, smooth_weight=0.3, alpha=0.25, gamma=2.0, \n",
    "                 smoothing=0.1, pos_weight=None):\n",
    "        super(CombinedLoss, self).__init__()\n",
    "        self.focal_weight = focal_weight\n",
    "        self.smooth_weight = smooth_weight\n",
    "        self.focal_loss = FocalLoss(alpha=alpha, gamma=gamma, pos_weight=pos_weight)\n",
    "        self.smooth_loss = LabelSmoothingLoss(smoothing=smoothing, pos_weight=pos_weight)\n",
    "    \n",
    "    def forward(self, inputs, targets):\n",
    "        focal = self.focal_loss(inputs, targets)\n",
    "        smooth = self.smooth_loss(inputs, targets)\n",
    "        return self.focal_weight * focal + self.smooth_weight * smooth\n",
    "\n",
    "class EarlyStopping:\n",
    "    \"\"\"早停机制\"\"\"\n",
    "    \n",
    "    def __init__(self, patience=7, min_delta=0, restore_best_weights=True):\n",
    "        self.patience = patience\n",
    "        self.min_delta = min_delta\n",
    "        self.restore_best_weights = restore_best_weights\n",
    "        self.best_loss = None\n",
    "        self.counter = 0\n",
    "        self.best_weights = None\n",
    "\n",
    "    def __call__(self, val_loss, model):\n",
    "        if self.best_loss is None:\n",
    "            self.best_loss = val_loss\n",
    "            self.save_checkpoint(model)\n",
    "        elif val_loss < self.best_loss - self.min_delta:\n",
    "            self.best_loss = val_loss\n",
    "            self.counter = 0\n",
    "            self.save_checkpoint(model)\n",
    "        else:\n",
    "            self.counter += 1\n",
    "\n",
    "        if self.counter >= self.patience:\n",
    "            if self.restore_best_weights:\n",
    "                model.load_state_dict(self.best_weights)\n",
    "            return True\n",
    "        return False\n",
    "\n",
    "    def save_checkpoint(self, model):\n",
    "        self.best_weights = model.state_dict().copy()\n",
    "\n",
    "def get_transforms(mode='train', image_size=224):\n",
    "    \"\"\"获取优化的数据变换\"\"\"\n",
    "    if mode == 'train':\n",
    "        return transforms.Compose([\n",
    "            transforms.ToPILImage(),\n",
    "            transforms.Resize((int(image_size * 1.1), int(image_size * 1.1))),\n",
    "            transforms.RandomCrop((image_size, image_size)),\n",
    "            transforms.RandomHorizontalFlip(p=0.5),\n",
    "            transforms.ColorJitter(brightness=0.2, contrast=0.2, saturation=0.2, hue=0.1),\n",
    "            transforms.RandomRotation(degrees=10),\n",
    "            transforms.RandomAffine(degrees=0, translate=(0.1, 0.1)),  # 添加平移\n",
    "            transforms.ToTensor(),\n",
    "            transforms.Normalize(mean=[0.485, 0.456, 0.406], std=[0.229, 0.224, 0.225]),\n",
    "            transforms.RandomErasing(p=0.1, scale=(0.02, 0.1))\n",
    "        ])\n",
    "    else:\n",
    "        return transforms.Compose([\n",
    "            transforms.ToPILImage(),\n",
    "            transforms.Resize((image_size, image_size)),\n",
    "            transforms.ToTensor(),\n",
    "            transforms.Normalize(mean=[0.485, 0.456, 0.406], std=[0.229, 0.224, 0.225])\n",
    "        ])\n",
    "\n",
    "def compute_class_weights(dataset):\n",
    "    \"\"\"计算类别权重\"\"\"\n",
    "    if hasattr(dataset, 'real_count') and hasattr(dataset, 'fake_count'):\n",
    "        real_count = dataset.real_count\n",
    "        fake_count = dataset.fake_count\n",
    "    else:\n",
    "        # 回退方案\n",
    "        real_count = 1\n",
    "        fake_count = 1\n",
    "    \n",
    "    total = real_count + fake_count\n",
    "    weight_real = total / (2 * real_count) if real_count > 0 else 1.0\n",
    "    weight_fake = total / (2 * fake_count) if fake_count > 0 else 1.0\n",
    "    \n",
    "    return torch.tensor([weight_fake / weight_real])  # pos_weight for BCEWithLogitsLoss\n",
    "\n",
    "print(\"✅ 损失函数和工具类定义完成\")"
   ]
  },
  {
   "cell_type": "markdown",
   "id": "5336bed5",
   "metadata": {
    "papermill": {
     "duration": 0.007461,
     "end_time": "2025-07-24T12:40:30.138295",
     "exception": false,
     "start_time": "2025-07-24T12:40:30.130834",
     "status": "completed"
    },
    "tags": []
   },
   "source": [
    "# Cell 7: 训练和验证函数"
   ]
  },
  {
   "cell_type": "code",
   "execution_count": 8,
   "id": "1ab186b3",
   "metadata": {
    "execution": {
     "iopub.execute_input": "2025-07-24T12:40:30.154371Z",
     "iopub.status.busy": "2025-07-24T12:40:30.154182Z",
     "iopub.status.idle": "2025-07-24T12:40:30.189816Z",
     "shell.execute_reply": "2025-07-24T12:40:30.189086Z"
    },
    "papermill": {
     "duration": 0.045278,
     "end_time": "2025-07-24T12:40:30.190917",
     "exception": false,
     "start_time": "2025-07-24T12:40:30.145639",
     "status": "completed"
    },
    "tags": []
   },
   "outputs": [
    {
     "name": "stdout",
     "output_type": "stream",
     "text": [
      "✅ 优化训练函数定义完成\n"
     ]
    }
   ],
   "source": [
    "# Cell 7: 训练函数 - 集成多任务学习和高级优化策略\n",
    "\n",
    "import torch\n",
    "import torch.nn.functional as F\n",
    "from tqdm import tqdm\n",
    "import numpy as np\n",
    "\n",
    "def train_epoch(model, train_loader, criterion, optimizer, device, scheduler=None, \n",
    "                use_amp=False, gradient_clip=1.0, ensemble_mode=False):\n",
    "    \"\"\"\n",
    "    训练一个epoch - 支持集成学习和多任务学习\n",
    "    \n",
    "    Args:\n",
    "        model: 模型\n",
    "        train_loader: 训练数据加载器\n",
    "        criterion: 损失函数\n",
    "        optimizer: 优化器\n",
    "        device: 设备\n",
    "        scheduler: 学习率调度器\n",
    "        use_amp: 是否使用混合精度训练\n",
    "        gradient_clip: 梯度裁剪阈值\n",
    "        ensemble_mode: 是否为集成模式\n",
    "    \"\"\"\n",
    "    model.train()\n",
    "    total_loss = 0.0\n",
    "    total_samples = 0\n",
    "    correct_predictions = 0\n",
    "    \n",
    "    # 集成模式的损失统计\n",
    "    if ensemble_mode:\n",
    "        ensemble_losses = {\n",
    "            'main': 0.0,\n",
    "            'spatial': 0.0,\n",
    "            'temporal': 0.0,\n",
    "            'ensemble': 0.0\n",
    "        }\n",
    "    \n",
    "    # 混合精度训练\n",
    "    if use_amp:\n",
    "        scaler = torch.cuda.amp.GradScaler()\n",
    "    \n",
    "    progress_bar = tqdm(train_loader, desc=\"训练中\", leave=False)\n",
    "    \n",
    "    for batch_idx, batch_data in enumerate(progress_bar):\n",
    "        # 处理不同的数据格式\n",
    "        if len(batch_data) == 3:\n",
    "            # 包含额外特征\n",
    "            videos, labels, additional_features = batch_data\n",
    "            videos = videos.to(device)\n",
    "            labels = labels.to(device)\n",
    "            \n",
    "            # 处理额外特征\n",
    "            if additional_features and isinstance(additional_features, dict):\n",
    "                for key, value in additional_features.items():\n",
    "                    if isinstance(value, torch.Tensor):\n",
    "                        additional_features[key] = value.to(device)\n",
    "        else:\n",
    "            # 标准格式\n",
    "            videos, labels = batch_data\n",
    "            videos = videos.to(device)\n",
    "            labels = labels.to(device)\n",
    "            additional_features = None\n",
    "        \n",
    "        optimizer.zero_grad()\n",
    "        \n",
    "        try:\n",
    "            if use_amp:\n",
    "                # 混合精度前向传播\n",
    "                with torch.cuda.amp.autocast():\n",
    "                    if additional_features is not None:\n",
    "                        outputs = model(videos, additional_features)\n",
    "                    else:\n",
    "                        outputs = model(videos)\n",
    "                    \n",
    "                    # 计算损失\n",
    "                    if ensemble_mode and isinstance(outputs, dict):\n",
    "                        # 集成模式的多任务损失\n",
    "                        losses = {}\n",
    "                        total_ensemble_loss = 0\n",
    "                        \n",
    "                        for key, pred in outputs.items():\n",
    "                            if pred.dim() > 1:\n",
    "                                pred = pred.squeeze(-1)\n",
    "                            loss = criterion(pred, labels)\n",
    "                            losses[key] = loss\n",
    "                            \n",
    "                            # 不同任务的权重\n",
    "                            if key == 'ensemble':\n",
    "                                weight = 0.5  # 集成预测权重最高\n",
    "                            elif key == 'main':\n",
    "                                weight = 0.3\n",
    "                            else:\n",
    "                                weight = 0.1  # 辅助任务权重较低\n",
    "                            \n",
    "                            total_ensemble_loss += weight * loss\n",
    "                        \n",
    "                        loss = total_ensemble_loss\n",
    "                        pred_probs = torch.sigmoid(outputs['ensemble'])\n",
    "                        \n",
    "                        # 更新集成损失统计\n",
    "                        for key, l in losses.items():\n",
    "                            ensemble_losses[key] += l.item()\n",
    "                    else:\n",
    "                        # 标准模式\n",
    "                        if outputs.dim() > 1:\n",
    "                            outputs = outputs.squeeze(-1)\n",
    "                        loss = criterion(outputs, labels)\n",
    "                        pred_probs = torch.sigmoid(outputs)\n",
    "                \n",
    "                # 混合精度反向传播\n",
    "                scaler.scale(loss).backward()\n",
    "                \n",
    "                # 梯度裁剪\n",
    "                if gradient_clip > 0:\n",
    "                    scaler.unscale_(optimizer)\n",
    "                    torch.nn.utils.clip_grad_norm_(model.parameters(), gradient_clip)\n",
    "                \n",
    "                scaler.step(optimizer)\n",
    "                scaler.update()\n",
    "            else:\n",
    "                # 标准精度训练\n",
    "                if additional_features is not None:\n",
    "                    outputs = model(videos, additional_features)\n",
    "                else:\n",
    "                    outputs = model(videos)\n",
    "                \n",
    "                # 计算损失\n",
    "                if ensemble_mode and isinstance(outputs, dict):\n",
    "                    # 集成模式的多任务损失\n",
    "                    losses = {}\n",
    "                    total_ensemble_loss = 0\n",
    "                    \n",
    "                    for key, pred in outputs.items():\n",
    "                        if pred.dim() > 1:\n",
    "                            pred = pred.squeeze(-1)\n",
    "                        loss_item = criterion(pred, labels)\n",
    "                        losses[key] = loss_item\n",
    "                        \n",
    "                        # 不同任务的权重\n",
    "                        if key == 'ensemble':\n",
    "                            weight = 0.5\n",
    "                        elif key == 'main':\n",
    "                            weight = 0.3\n",
    "                        else:\n",
    "                            weight = 0.1\n",
    "                        \n",
    "                        total_ensemble_loss += weight * loss_item\n",
    "                    \n",
    "                    loss = total_ensemble_loss\n",
    "                    pred_probs = torch.sigmoid(outputs['ensemble'])\n",
    "                    \n",
    "                    # 更新集成损失统计\n",
    "                    for key, l in losses.items():\n",
    "                        ensemble_losses[key] += l.item()\n",
    "                else:\n",
    "                    # 标准模式\n",
    "                    if outputs.dim() > 1:\n",
    "                        outputs = outputs.squeeze(-1)\n",
    "                    loss = criterion(outputs, labels)\n",
    "                    pred_probs = torch.sigmoid(outputs)\n",
    "                \n",
    "                loss.backward()\n",
    "                \n",
    "                # 梯度裁剪\n",
    "                if gradient_clip > 0:\n",
    "                    torch.nn.utils.clip_grad_norm_(model.parameters(), gradient_clip)\n",
    "                \n",
    "                optimizer.step()\n",
    "            \n",
    "            # 确保pred_probs是正确的张量格式\n",
    "            if pred_probs.dim() > 1:\n",
    "                pred_probs = pred_probs.squeeze(-1)\n",
    "            \n",
    "            # 计算准确率\n",
    "            predictions = (pred_probs > 0.5).float()\n",
    "            correct_predictions += (predictions == labels).sum().item()\n",
    "            \n",
    "            # 更新统计\n",
    "            total_loss += loss.item()\n",
    "            total_samples += labels.size(0)\n",
    "            \n",
    "            # 更新进度条\n",
    "            avg_loss = total_loss / (batch_idx + 1)\n",
    "            accuracy = correct_predictions / total_samples\n",
    "            \n",
    "            if ensemble_mode:\n",
    "                progress_bar.set_postfix({\n",
    "                    'Loss': f'{avg_loss:.4f}',\n",
    "                    'Acc': f'{accuracy:.4f}',\n",
    "                    'Ensemble': f'{ensemble_losses[\"ensemble\"]/(batch_idx+1):.4f}'\n",
    "                })\n",
    "            else:\n",
    "                progress_bar.set_postfix({\n",
    "                    'Loss': f'{avg_loss:.4f}',\n",
    "                    'Acc': f'{accuracy:.4f}'\n",
    "                })\n",
    "            \n",
    "        except Exception as e:\n",
    "            print(f\"⚠️ 训练批次 {batch_idx} 出错: {e}\")\n",
    "            import traceback\n",
    "            print(f\"详细错误信息: {traceback.format_exc()}\")\n",
    "            continue\n",
    "    \n",
    "    # 检查是否有有效的训练数据\n",
    "    if total_samples == 0:\n",
    "        print(\"⚠️ 警告: 没有成功处理任何训练批次!\")\n",
    "        return {\n",
    "            'loss': float('inf'),\n",
    "            'accuracy': 0.0,\n",
    "            'learning_rate': optimizer.param_groups[0]['lr']\n",
    "        }\n",
    "    \n",
    "    # 学习率调度\n",
    "    if scheduler is not None:\n",
    "        if isinstance(scheduler, torch.optim.lr_scheduler.ReduceLROnPlateau):\n",
    "            scheduler.step(total_loss / max(len(train_loader), 1))\n",
    "        else:\n",
    "            scheduler.step()\n",
    "    \n",
    "    # 返回训练结果\n",
    "    avg_loss = total_loss / max(len(train_loader), 1)\n",
    "    accuracy = correct_predictions / max(total_samples, 1)\n",
    "    \n",
    "    results = {\n",
    "        'loss': avg_loss,\n",
    "        'accuracy': accuracy,\n",
    "        'learning_rate': optimizer.param_groups[0]['lr']\n",
    "    }\n",
    "    \n",
    "    if ensemble_mode:\n",
    "        # 添加集成损失统计\n",
    "        for key in ensemble_losses:\n",
    "            results[f'{key}_loss'] = ensemble_losses[key] / len(train_loader)\n",
    "    \n",
    "    return results\n",
    "\n",
    "def validate_epoch(model, val_loader, criterion, device, ensemble_mode=False):\n",
    "    \"\"\"\n",
    "    验证一个epoch - 支持集成学习评估\n",
    "    \n",
    "    Args:\n",
    "        model: 模型\n",
    "        val_loader: 验证数据加载器\n",
    "        criterion: 损失函数\n",
    "        device: 设备\n",
    "        ensemble_mode: 是否为集成模式\n",
    "    \"\"\"\n",
    "    model.eval()\n",
    "    total_loss = 0.0\n",
    "    total_samples = 0\n",
    "    correct_predictions = 0\n",
    "    all_predictions = []\n",
    "    all_labels = []\n",
    "    \n",
    "    # 集成模式的损失统计\n",
    "    if ensemble_mode:\n",
    "        ensemble_losses = {\n",
    "            'main': 0.0,\n",
    "            'spatial': 0.0,\n",
    "            'temporal': 0.0,\n",
    "            'ensemble': 0.0\n",
    "        }\n",
    "        ensemble_predictions = {\n",
    "            'main': [],\n",
    "            'spatial': [],\n",
    "            'temporal': [],\n",
    "            'ensemble': []\n",
    "        }\n",
    "    \n",
    "    progress_bar = tqdm(val_loader, desc=\"验证中\", leave=False)\n",
    "    \n",
    "    with torch.no_grad():\n",
    "        for batch_idx, batch_data in enumerate(progress_bar):\n",
    "            try:\n",
    "                # 处理不同的数据格式\n",
    "                if len(batch_data) == 3:\n",
    "                    videos, labels, additional_features = batch_data\n",
    "                    videos = videos.to(device)\n",
    "                    labels = labels.to(device)\n",
    "                    \n",
    "                    # 处理额外特征\n",
    "                    if additional_features and isinstance(additional_features, dict):\n",
    "                        for key, value in additional_features.items():\n",
    "                            if isinstance(value, torch.Tensor):\n",
    "                                additional_features[key] = value.to(device)\n",
    "                else:\n",
    "                    videos, labels = batch_data\n",
    "                    videos = videos.to(device)\n",
    "                    labels = labels.to(device)\n",
    "                    additional_features = None\n",
    "                \n",
    "                # 前向传播\n",
    "                if additional_features is not None:\n",
    "                    outputs = model(videos, additional_features)\n",
    "                else:\n",
    "                    outputs = model(videos)\n",
    "                \n",
    "                # 计算损失和预测\n",
    "                if ensemble_mode and isinstance(outputs, dict):\n",
    "                    # 集成模式\n",
    "                    losses = {}\n",
    "                    total_ensemble_loss = 0\n",
    "                    \n",
    "                    for key, pred in outputs.items():\n",
    "                        if pred.dim() > 1:\n",
    "                            pred = pred.squeeze(-1)\n",
    "                        loss_item = criterion(pred, labels)\n",
    "                        losses[key] = loss_item\n",
    "                        \n",
    "                        # 权重与训练时保持一致\n",
    "                        if key == 'ensemble':\n",
    "                            weight = 0.5\n",
    "                        elif key == 'main':\n",
    "                            weight = 0.3\n",
    "                        else:\n",
    "                            weight = 0.1\n",
    "                        \n",
    "                        total_ensemble_loss += weight * loss_item\n",
    "                        \n",
    "                        # 保存预测结果\n",
    "                        pred_probs_item = torch.sigmoid(pred)\n",
    "                        ensemble_predictions[key].extend(pred_probs_item.cpu().numpy())\n",
    "                        ensemble_losses[key] += loss_item.item()\n",
    "                    \n",
    "                    loss = total_ensemble_loss\n",
    "                    pred_probs = torch.sigmoid(outputs['ensemble'])\n",
    "                else:\n",
    "                    # 标准模式\n",
    "                    if outputs.dim() > 1:\n",
    "                        outputs = outputs.squeeze(-1)\n",
    "                    loss = criterion(outputs, labels)\n",
    "                    pred_probs = torch.sigmoid(outputs)\n",
    "                \n",
    "                # 确保pred_probs是正确的张量格式\n",
    "                if pred_probs.dim() > 1:\n",
    "                    pred_probs = pred_probs.squeeze(-1)\n",
    "                \n",
    "                # 计算准确率\n",
    "                predictions = (pred_probs > 0.5).float()\n",
    "                correct_predictions += (predictions == labels).sum().item()\n",
    "                \n",
    "                # 保存预测和标签用于详细评估\n",
    "                all_predictions.extend(pred_probs.cpu().numpy())\n",
    "                all_labels.extend(labels.cpu().numpy())\n",
    "                \n",
    "                # 更新统计\n",
    "                total_loss += loss.item()\n",
    "                total_samples += labels.size(0)\n",
    "                \n",
    "                # 更新进度条\n",
    "                avg_loss = total_loss / (batch_idx + 1)\n",
    "                accuracy = correct_predictions / total_samples\n",
    "                progress_bar.set_postfix({\n",
    "                    'Val Loss': f'{avg_loss:.4f}',\n",
    "                    'Val Acc': f'{accuracy:.4f}'\n",
    "                })\n",
    "                \n",
    "            except Exception as e:\n",
    "                print(f\"⚠️ 验证批次 {batch_idx} 出错: {e}\")\n",
    "                import traceback\n",
    "                print(f\"详细错误信息: {traceback.format_exc()}\")\n",
    "                continue\n",
    "    \n",
    "    # 检查是否有有效的验证数据\n",
    "    if total_samples == 0:\n",
    "        print(\"⚠️ 警告: 没有成功处理任何验证批次!\")\n",
    "        return {\n",
    "            'loss': float('inf'),\n",
    "            'accuracy': 0.0,\n",
    "            'auc': 0.0,\n",
    "            'precision': 0.0,\n",
    "            'recall': 0.0,\n",
    "            'f1': 0.0,\n",
    "            'predictions': [],\n",
    "            'labels': []\n",
    "        }\n",
    "    \n",
    "    # 计算最终指标\n",
    "    avg_loss = total_loss / max(len(val_loader), 1)\n",
    "    accuracy = correct_predictions / max(total_samples, 1)\n",
    "    \n",
    "    # 计算AUC等高级指标\n",
    "    try:\n",
    "        from sklearn.metrics import roc_auc_score, precision_recall_fscore_support\n",
    "        auc_score = roc_auc_score(all_labels, all_predictions)\n",
    "        precision, recall, f1, _ = precision_recall_fscore_support(\n",
    "            all_labels, \n",
    "            np.array(all_predictions) > 0.5, \n",
    "            average='binary'\n",
    "        )\n",
    "    except Exception as e:\n",
    "        print(f\"⚠️ 计算高级指标失败: {e}\")\n",
    "        auc_score = 0.0\n",
    "        precision = recall = f1 = 0.0\n",
    "    \n",
    "    results = {\n",
    "        'loss': avg_loss,\n",
    "        'accuracy': accuracy,\n",
    "        'auc': auc_score,\n",
    "        'precision': precision,\n",
    "        'recall': recall,\n",
    "        'f1': f1,\n",
    "        'predictions': all_predictions,\n",
    "        'labels': all_labels\n",
    "    }\n",
    "    \n",
    "    if ensemble_mode:\n",
    "        # 添加集成评估结果\n",
    "        for key in ensemble_losses:\n",
    "            results[f'{key}_loss'] = ensemble_losses[key] / len(val_loader)\n",
    "            results[f'{key}_predictions'] = ensemble_predictions[key]\n",
    "        \n",
    "        # 计算集成模型的AUC\n",
    "        try:\n",
    "            ensemble_auc = roc_auc_score(all_labels, ensemble_predictions['ensemble'])\n",
    "            results['ensemble_auc'] = ensemble_auc\n",
    "        except:\n",
    "            results['ensemble_auc'] = 0.0\n",
    "    \n",
    "    return results\n",
    "\n",
    "def train_ensemble_models(models, train_loader, val_loader, criterion, optimizers, \n",
    "                         device, num_epochs=10, schedulers=None, use_amp=False):\n",
    "    \"\"\"\n",
    "    训练多个模型进行集成学习\n",
    "    \n",
    "    Args:\n",
    "        models: 模型列表\n",
    "        train_loader: 训练数据加载器\n",
    "        val_loader: 验证数据加载器\n",
    "        criterion: 损失函数\n",
    "        optimizers: 优化器列表\n",
    "        device: 设备\n",
    "        num_epochs: 训练轮数\n",
    "        schedulers: 学习率调度器列表\n",
    "        use_amp: 是否使用混合精度训练\n",
    "    \"\"\"\n",
    "    ensemble_results = []\n",
    "    \n",
    "    for i, (model, optimizer) in enumerate(zip(models, optimizers)):\n",
    "        print(f\"\\n🚀 训练集成模型 {i+1}/{len(models)}\")\n",
    "        \n",
    "        scheduler = schedulers[i] if schedulers else None\n",
    "        model_results = {'train_history': [], 'val_history': []}\n",
    "        \n",
    "        best_val_auc = 0.0\n",
    "        best_model_state = None\n",
    "        \n",
    "        for epoch in range(num_epochs):\n",
    "            print(f\"\\nEpoch {epoch+1}/{num_epochs}\")\n",
    "            \n",
    "            # 训练\n",
    "            train_results = train_epoch(\n",
    "                model, train_loader, criterion, optimizer, device,\n",
    "                scheduler=scheduler, use_amp=use_amp\n",
    "            )\n",
    "            \n",
    "            # 验证\n",
    "            val_results = validate_epoch(model, val_loader, criterion, device)\n",
    "            \n",
    "            # 保存历史\n",
    "            model_results['train_history'].append(train_results)\n",
    "            model_results['val_history'].append(val_results)\n",
    "            \n",
    "            # 保存最佳模型\n",
    "            if val_results['auc'] > best_val_auc:\n",
    "                best_val_auc = val_results['auc']\n",
    "                best_model_state = model.state_dict().copy()\n",
    "            \n",
    "            print(f\"训练 - Loss: {train_results['loss']:.4f}, Acc: {train_results['accuracy']:.4f}\")\n",
    "            print(f\"验证 - Loss: {val_results['loss']:.4f}, Acc: {val_results['accuracy']:.4f}, AUC: {val_results['auc']:.4f}\")\n",
    "        \n",
    "        # 加载最佳模型权重\n",
    "        if best_model_state is not None:\n",
    "            model.load_state_dict(best_model_state)\n",
    "        \n",
    "        model_results['best_val_auc'] = best_val_auc\n",
    "        ensemble_results.append(model_results)\n",
    "        \n",
    "        print(f\"✅ 模型 {i+1} 训练完成，最佳验证AUC: {best_val_auc:.4f}\")\n",
    "    \n",
    "    return ensemble_results\n",
    "\n",
    "def ensemble_predict(models, data_loader, device, weights=None):\n",
    "    \"\"\"\n",
    "    使用多个模型进行集成预测\n",
    "    \n",
    "    Args:\n",
    "        models: 模型列表\n",
    "        data_loader: 数据加载器\n",
    "        device: 设备\n",
    "        weights: 模型权重（如果为None则使用平均权重）\n",
    "    \"\"\"\n",
    "    if weights is None:\n",
    "        weights = [1.0 / len(models)] * len(models)\n",
    "    \n",
    "    all_predictions = []\n",
    "    all_labels = []\n",
    "    \n",
    "    # 设置所有模型为评估模式\n",
    "    for model in models:\n",
    "        model.eval()\n",
    "    \n",
    "    with torch.no_grad():\n",
    "        for batch_data in tqdm(data_loader, desc=\"集成预测中\"):\n",
    "            if len(batch_data) == 3:\n",
    "                videos, labels, additional_features = batch_data\n",
    "                videos = videos.to(device)\n",
    "                labels = labels.to(device)\n",
    "                \n",
    "                if additional_features and isinstance(additional_features, dict):\n",
    "                    for key, value in additional_features.items():\n",
    "                        if isinstance(value, torch.Tensor):\n",
    "                            additional_features[key] = value.to(device)\n",
    "            else:\n",
    "                videos, labels = batch_data\n",
    "                videos = videos.to(device)\n",
    "                labels = labels.to(device)\n",
    "                additional_features = None\n",
    "            \n",
    "            # 收集所有模型的预测\n",
    "            batch_predictions = []\n",
    "            for model in models:\n",
    "                if additional_features is not None:\n",
    "                    outputs = model(videos, additional_features)\n",
    "                else:\n",
    "                    outputs = model(videos)\n",
    "                \n",
    "                if isinstance(outputs, dict):\n",
    "                    # 集成模式，使用ensemble输出\n",
    "                    pred = outputs['ensemble']\n",
    "                else:\n",
    "                    pred = outputs\n",
    "                \n",
    "                if pred.dim() > 1:\n",
    "                    pred = pred.squeeze(-1)\n",
    "                \n",
    "                pred_probs = torch.sigmoid(pred)\n",
    "                batch_predictions.append(pred_probs.cpu().numpy())\n",
    "            \n",
    "            # 加权平均\n",
    "            ensemble_pred = np.average(batch_predictions, axis=0, weights=weights)\n",
    "            all_predictions.extend(ensemble_pred)\n",
    "            all_labels.extend(labels.cpu().numpy())\n",
    "    \n",
    "    return np.array(all_predictions), np.array(all_labels)\n",
    "\n",
    "print(\"✅ 优化训练函数定义完成\")"
   ]
  },
  {
   "cell_type": "markdown",
   "id": "92a328e9",
   "metadata": {
    "papermill": {
     "duration": 0.007234,
     "end_time": "2025-07-24T12:40:30.205593",
     "exception": false,
     "start_time": "2025-07-24T12:40:30.198359",
     "status": "completed"
    },
    "tags": []
   },
   "source": [
    "# Cell 8: 评估函数和可视化"
   ]
  },
  {
   "cell_type": "code",
   "execution_count": 9,
   "id": "19ad9097",
   "metadata": {
    "execution": {
     "iopub.execute_input": "2025-07-24T12:40:30.221616Z",
     "iopub.status.busy": "2025-07-24T12:40:30.221272Z",
     "iopub.status.idle": "2025-07-24T12:40:30.431486Z",
     "shell.execute_reply": "2025-07-24T12:40:30.430785Z"
    },
    "papermill": {
     "duration": 0.219703,
     "end_time": "2025-07-24T12:40:30.432601",
     "exception": false,
     "start_time": "2025-07-24T12:40:30.212898",
     "status": "completed"
    },
    "tags": []
   },
   "outputs": [
    {
     "name": "stdout",
     "output_type": "stream",
     "text": [
      "✅ 评估函数和可视化定义完成\n"
     ]
    }
   ],
   "source": [
    "# Cell 8: 评估函数和可视化\n",
    "\n",
    "def evaluate_model_optimized(model, test_loader, criterion, device):\n",
    "    \"\"\"优化的模型评估函数\"\"\"\n",
    "    model.eval()\n",
    "    total_loss = 0.0\n",
    "    all_predictions = []\n",
    "    all_targets = []\n",
    "    all_scores = []\n",
    "    \n",
    "    inference_times = []\n",
    "    \n",
    "    print(\"🚀 开始模型评估...\")\n",
    "    \n",
    "    with torch.no_grad():\n",
    "        for batch_idx, batch_data in enumerate(tqdm(test_loader, desc=\"评估进度\")):\n",
    "            # 处理不同的返回格式：(data, target) 或 (data, target, additional_features)\n",
    "            if len(batch_data) == 2:\n",
    "                data, target = batch_data\n",
    "                additional_features = None\n",
    "            elif len(batch_data) == 3:\n",
    "                data, target, additional_features = batch_data\n",
    "            else:\n",
    "                raise ValueError(f\"数据加载器返回了意外的数据格式，长度为 {len(batch_data)}\")\n",
    "            \n",
    "            data, target = data.to(device), target.to(device)\n",
    "            \n",
    "            # 处理额外特征的设备转移\n",
    "            if additional_features is not None:\n",
    "                if isinstance(additional_features, dict):\n",
    "                    for key, value in additional_features.items():\n",
    "                        if isinstance(value, torch.Tensor):\n",
    "                            additional_features[key] = value.to(device)\n",
    "            \n",
    "            # 记录推理时间\n",
    "            start_time = time.time()\n",
    "            \n",
    "            # 处理模型输出 - 模型可能返回单个张量或字典\n",
    "            if additional_features is not None:\n",
    "                model_output = model(data, additional_features)\n",
    "            else:\n",
    "                model_output = model(data)\n",
    "            \n",
    "            inference_time = time.time() - start_time\n",
    "            inference_times.append(inference_time)\n",
    "            \n",
    "            # 处理不同的输出格式\n",
    "            if isinstance(model_output, dict):\n",
    "                # 集成模式，使用ensemble输出\n",
    "                output = model_output.get('ensemble', model_output.get('main', list(model_output.values())[0]))\n",
    "            else:\n",
    "                # 标准模式，直接使用输出\n",
    "                output = model_output\n",
    "            \n",
    "            # 确保输出和目标的维度匹配\n",
    "            if output.dim() > 1:\n",
    "                output = output.squeeze(-1)  # 将 [batch, 1] 压缩为 [batch]\n",
    "            \n",
    "            # 确保目标标签是正确的数据类型和维度\n",
    "            if target.dim() > 1:\n",
    "                target = target.squeeze(-1)  # 将 [batch, 1] 压缩为 [batch]\n",
    "            target = target.float()  # 确保是float类型\n",
    "            \n",
    "            # 计算损失\n",
    "            loss = criterion(output, target)\n",
    "            total_loss += loss.item()\n",
    "            \n",
    "            # 收集预测结果 (应用 sigmoid 获得概率)\n",
    "            probs = torch.sigmoid(output)\n",
    "            predictions = (probs > 0.5).float()\n",
    "            all_predictions.extend(predictions.cpu().numpy())\n",
    "            all_targets.extend(target.cpu().numpy())\n",
    "            all_scores.extend(probs.cpu().numpy())\n",
    "    \n",
    "    avg_loss = total_loss / len(test_loader)\n",
    "    avg_inference_time = np.mean(inference_times)\n",
    "    total_inference_time = np.sum(inference_times)\n",
    "    \n",
    "    print(f\"✅ 评估完成\")\n",
    "    print(f\"平均损失: {avg_loss:.4f}\")\n",
    "    print(f\"平均推理时间: {avg_inference_time*1000:.2f} ms/batch\")\n",
    "    \n",
    "    return {\n",
    "        'loss': avg_loss,\n",
    "        'predictions': np.array(all_predictions),\n",
    "        'targets': np.array(all_targets),\n",
    "        'scores': np.array(all_scores),\n",
    "        'avg_inference_time': avg_inference_time,\n",
    "        'total_inference_time': total_inference_time\n",
    "    }\n",
    "\n",
    "def calculate_comprehensive_metrics(predictions, targets, scores):\n",
    "    \"\"\"计算全面的评估指标，包含类别不平衡分析\"\"\"\n",
    "    # 基础指标\n",
    "    accuracy = accuracy_score(targets, predictions)\n",
    "    balanced_acc = balanced_accuracy_score(targets, predictions)\n",
    "    precision = precision_score(targets, predictions, zero_division=0)\n",
    "    recall = recall_score(targets, predictions, zero_division=0)\n",
    "    f1 = f1_score(targets, predictions, zero_division=0)\n",
    "    \n",
    "    # 混淆矩阵\n",
    "    cm = confusion_matrix(targets, predictions)\n",
    "    tn, fp, fn, tp = cm.ravel() if cm.size == 4 else (0, 0, 0, 0)\n",
    "    \n",
    "    # 特异性和负预测值\n",
    "    specificity = tn / (tn + fp) if (tn + fp) > 0 else 0\n",
    "    npv = tn / (tn + fn) if (tn + fn) > 0 else 0\n",
    "    \n",
    "    # 类别特定指标\n",
    "    real_total = np.sum(targets == 0)\n",
    "    fake_total = np.sum(targets == 1)\n",
    "    real_correct = tn  # 真实视频正确预测为真实\n",
    "    fake_correct = tp  # 伪造视频正确预测为伪造\n",
    "    \n",
    "    real_accuracy = real_correct / real_total if real_total > 0 else 0\n",
    "    fake_accuracy = fake_correct / fake_total if fake_total > 0 else 0\n",
    "    \n",
    "    # 类别不平衡分析\n",
    "    class_distribution = {\n",
    "        'real_samples': int(real_total),\n",
    "        'fake_samples': int(fake_total),\n",
    "        'imbalance_ratio': fake_total / real_total if real_total > 0 else float('inf')\n",
    "    }\n",
    "    \n",
    "    # AUC指标\n",
    "    try:\n",
    "        auc_roc = roc_auc_score(targets, scores)\n",
    "    except:\n",
    "        auc_roc = 0.0\n",
    "    \n",
    "    try:\n",
    "        precision_curve, recall_curve, _ = precision_recall_curve(targets, scores)\n",
    "        auc_pr = auc(recall_curve, precision_curve)\n",
    "    except:\n",
    "        auc_pr = 0.0\n",
    "    \n",
    "    return {\n",
    "        'accuracy': accuracy,\n",
    "        'balanced_accuracy': balanced_acc,\n",
    "        'precision': precision,\n",
    "        'recall': recall,\n",
    "        'specificity': specificity,\n",
    "        'f1': f1,\n",
    "        'auc_roc': auc_roc,\n",
    "        'auc_pr': auc_pr,\n",
    "        'npv': npv,\n",
    "        'confusion_matrix': cm,\n",
    "        'tn': tn, 'fp': fp, 'fn': fn, 'tp': tp,\n",
    "        'real_accuracy': real_accuracy,\n",
    "        'fake_accuracy': fake_accuracy,\n",
    "        'class_distribution': class_distribution\n",
    "    }\n",
    "\n",
    "def plot_enhanced_confusion_matrix(cm, save_path):\n",
    "    \"\"\"绘制增强的混淆矩阵\"\"\"\n",
    "    plt.figure(figsize=(10, 8))\n",
    "    \n",
    "    # 计算百分比\n",
    "    cm_percent = cm.astype('float') / cm.sum(axis=1)[:, np.newaxis] * 100\n",
    "    \n",
    "    # 创建标签\n",
    "    labels = np.array([[\n",
    "        f'{cm[i,j]}\\n({cm_percent[i,j]:.1f}%)' \n",
    "        for j in range(cm.shape[1])\n",
    "    ] for i in range(cm.shape[0])])\n",
    "    \n",
    "    # 绘制热图\n",
    "    sns.heatmap(cm, annot=labels, fmt='', cmap='Blues', \n",
    "                xticklabels=['真实', '伪造'],\n",
    "                yticklabels=['真实', '伪造'],\n",
    "                cbar_kws={'label': '样本数量'})\n",
    "    \n",
    "    plt.title('增强混淆矩阵', fontsize=16, fontweight='bold')\n",
    "    plt.xlabel('预测标签', fontsize=12)\n",
    "    plt.ylabel('真实标签', fontsize=12)\n",
    "    \n",
    "    # 添加统计信息\n",
    "    tn, fp, fn, tp = cm.ravel()\n",
    "    accuracy = (tp + tn) / (tp + tn + fp + fn)\n",
    "    precision = tp / (tp + fp) if (tp + fp) > 0 else 0\n",
    "    recall = tp / (tp + fn) if (tp + fn) > 0 else 0\n",
    "    f1 = 2 * (precision * recall) / (precision + recall) if (precision + recall) > 0 else 0\n",
    "    \n",
    "    stats_text = f'准确率: {accuracy:.3f}\\n精确率: {precision:.3f}\\n召回率: {recall:.3f}\\nF1分数: {f1:.3f}'\n",
    "    plt.text(2.1, 0.5, stats_text, fontsize=10, \n",
    "             bbox=dict(boxstyle='round', facecolor='lightgray', alpha=0.8))\n",
    "    \n",
    "    plt.tight_layout()\n",
    "    plt.savefig(save_path, dpi=300, bbox_inches='tight')\n",
    "    plt.show()\n",
    "    print(f\"混淆矩阵已保存到: {save_path}\")\n",
    "\n",
    "def plot_roc_pr_curves(targets, scores, save_path):\n",
    "    \"\"\"绘制ROC和PR曲线\"\"\"\n",
    "    fig, (ax1, ax2) = plt.subplots(1, 2, figsize=(15, 6))\n",
    "    \n",
    "    # ROC曲线\n",
    "    fpr, tpr, _ = roc_curve(targets, scores)\n",
    "    roc_auc = auc(fpr, tpr)\n",
    "    \n",
    "    ax1.plot(fpr, tpr, color='darkorange', lw=2,\n",
    "             label=f'ROC曲线 (AUC = {roc_auc:.4f})')\n",
    "    ax1.plot([0, 1], [0, 1], color='navy', lw=2, linestyle='--')\n",
    "    ax1.set_xlim([0.0, 1.0])\n",
    "    ax1.set_ylim([0.0, 1.05])\n",
    "    ax1.set_xlabel('假正率')\n",
    "    ax1.set_ylabel('真正率')\n",
    "    ax1.set_title('ROC曲线')\n",
    "    ax1.legend(loc='lower right')\n",
    "    ax1.grid(True, alpha=0.3)\n",
    "    \n",
    "    # PR曲线\n",
    "    precision_curve, recall_curve, _ = precision_recall_curve(targets, scores)\n",
    "    pr_auc = auc(recall_curve, precision_curve)\n",
    "    \n",
    "    ax2.plot(recall_curve, precision_curve, color='darkgreen', lw=2,\n",
    "             label=f'PR曲线 (AUC = {pr_auc:.4f})')\n",
    "    ax2.set_xlim([0.0, 1.0])\n",
    "    ax2.set_ylim([0.0, 1.05])\n",
    "    ax2.set_xlabel('召回率')\n",
    "    ax2.set_ylabel('精确率')\n",
    "    ax2.set_title('精确率-召回率曲线')\n",
    "    ax2.legend(loc='lower left')\n",
    "    ax2.grid(True, alpha=0.3)\n",
    "    \n",
    "    plt.tight_layout()\n",
    "    plt.savefig(save_path, dpi=300, bbox_inches='tight')\n",
    "    plt.show()\n",
    "    print(f\"ROC/PR曲线已保存到: {save_path}\")\n",
    "\n",
    "def generate_class_imbalance_report(metrics):\n",
    "    \"\"\"生成详细的类别不平衡分析报告\"\"\"\n",
    "    print(\"\\n\" + \"=\"*60)\n",
    "    print(\"📊 类别不平衡分析报告\")\n",
    "    print(\"=\"*60)\n",
    "    \n",
    "    # 数据分布\n",
    "    dist = metrics['class_distribution']\n",
    "    print(f\"\\n📈 数据分布:\")\n",
    "    print(f\"  真实视频样本: {dist['real_samples']}\")\n",
    "    print(f\"  伪造视频样本: {dist['fake_samples']}\")\n",
    "    print(f\"  不平衡比例: {dist['imbalance_ratio']:.2f}:1 (伪造:真实)\")\n",
    "    \n",
    "    # 类别特定性能\n",
    "    print(f\"\\n🎯 类别特定准确率:\")\n",
    "    print(f\"  真实视频检测准确率: {metrics['real_accuracy']*100:.2f}%\")\n",
    "    print(f\"  伪造视频检测准确率: {metrics['fake_accuracy']*100:.2f}%\")\n",
    "    \n",
    "    # 混淆矩阵分析\n",
    "    tn, fp, fn, tp = metrics['tn'], metrics['fp'], metrics['fn'], metrics['tp']\n",
    "    print(f\"\\n📋 混淆矩阵分析:\")\n",
    "    print(f\"  真负例 (TN): {tn} - 正确识别的真实视频\")\n",
    "    print(f\"  假正例 (FP): {fp} - 误判为伪造的真实视频\")\n",
    "    print(f\"  假负例 (FN): {fn} - 误判为真实的伪造视频\")\n",
    "    print(f\"  真正例 (TP): {tp} - 正确识别的伪造视频\")\n",
    "    \n",
    "    # 偏向性分析\n",
    "    total_predictions = tn + fp + fn + tp\n",
    "    predicted_real = tn + fn\n",
    "    predicted_fake = fp + tp\n",
    "    \n",
    "    print(f\"\\n⚖️ 模型偏向性分析:\")\n",
    "    print(f\"  预测为真实的样本: {predicted_real} ({predicted_real/total_predictions*100:.1f}%)\")\n",
    "    print(f\"  预测为伪造的样本: {predicted_fake} ({predicted_fake/total_predictions*100:.1f}%)\")\n",
    "    \n",
    "    # 问题诊断\n",
    "    print(f\"\\n🔍 问题诊断:\")\n",
    "    if metrics['real_accuracy'] < 0.1:\n",
    "        print(\"  ❌ 严重问题: 模型几乎无法识别真实视频\")\n",
    "    elif metrics['real_accuracy'] < 0.5:\n",
    "        print(\"  ⚠️  问题: 真实视频识别能力较差\")\n",
    "    else:\n",
    "        print(\"  ✅ 真实视频识别能力正常\")\n",
    "        \n",
    "    if metrics['fake_accuracy'] > 0.9 and metrics['real_accuracy'] < 0.1:\n",
    "        print(\"  ❌ 严重偏向: 模型过度偏向预测伪造视频\")\n",
    "    \n",
    "    if metrics['auc_roc'] < 0.6:\n",
    "        print(\"  ❌ AUC-ROC过低: 模型判别能力接近随机猜测\")\n",
    "    \n",
    "    # 改进建议\n",
    "    print(f\"\\n💡 改进建议:\")\n",
    "    if dist['imbalance_ratio'] > 3.0:\n",
    "        print(\"  1. 增加真实视频样本或减少伪造视频样本\")\n",
    "        print(\"  2. 使用更强的类别权重 (pos_weight > 3.0)\")\n",
    "        print(\"  3. 调整Focal Loss参数 (降低alpha, 增加gamma)\")\n",
    "    \n",
    "    if metrics['real_accuracy'] < 0.3:\n",
    "        print(\"  4. 检查数据质量，确保真实视频标签正确\")\n",
    "        print(\"  5. 使用成本敏感学习方法\")\n",
    "        print(\"  6. 考虑使用SMOTE等过采样技术\")\n",
    "    \n",
    "    if metrics['auc_roc'] < 0.6:\n",
    "        print(\"  7. 重新设计模型架构\")\n",
    "        print(\"  8. 增加模型复杂度或使用预训练模型\")\n",
    "        print(\"  9. 检查特征提取是否有效\")\n",
    "    \n",
    "    print(\"=\"*60)\n",
    "\n",
    "print(\"✅ 评估函数和可视化定义完成\")"
   ]
  },
  {
   "cell_type": "markdown",
   "id": "8b196c3c",
   "metadata": {
    "papermill": {
     "duration": 0.007474,
     "end_time": "2025-07-24T12:40:30.448367",
     "exception": false,
     "start_time": "2025-07-24T12:40:30.440893",
     "status": "completed"
    },
    "tags": []
   },
   "source": [
    "# Cell 9: 数据处理和准备\n"
   ]
  },
  {
   "cell_type": "code",
   "execution_count": 10,
   "id": "f64442f9",
   "metadata": {
    "execution": {
     "iopub.execute_input": "2025-07-24T12:40:30.464284Z",
     "iopub.status.busy": "2025-07-24T12:40:30.464019Z",
     "iopub.status.idle": "2025-07-24T15:19:26.720805Z",
     "shell.execute_reply": "2025-07-24T15:19:26.719961Z"
    },
    "papermill": {
     "duration": 9536.266286,
     "end_time": "2025-07-24T15:19:26.722087",
     "exception": false,
     "start_time": "2025-07-24T12:40:30.455801",
     "status": "completed"
    },
    "tags": []
   },
   "outputs": [
    {
     "name": "stdout",
     "output_type": "stream",
     "text": [
      "📁 数据预处理配置 - 双T4 GPU优化\n",
      "  - 真实视频: 1200个样本\n",
      "  - 伪造视频: 3600个样本\n",
      "  - 视频帧数: 12帧/视频\n",
      "  - 总计约4800个训练样本\n",
      "📁 开始数据处理...\n",
      "开始处理真实视频...\n",
      "找到 1000 个真实视频\n"
     ]
    },
    {
     "name": "stderr",
     "output_type": "stream",
     "text": [
      "处理真实视频: 100%|██████████| 1000/1000 [1:23:00<00:00,  4.98s/it]\n"
     ]
    },
    {
     "name": "stdout",
     "output_type": "stream",
     "text": [
      "开始处理伪造视频...\n",
      "  Deepfakes: 1000 个视频\n",
      "  Face2Face: 1000 个视频\n",
      "  FaceShifter: 1000 个视频\n",
      "  FaceSwap: 1000 个视频\n",
      "  NeuralTextures: 1000 个视频\n",
      "总共可用假视频: 5000 个\n",
      "平均分配策略: 每种方法 200 个视频\n",
      "  Deepfakes: 采样 200 个视频\n",
      "  Face2Face: 采样 200 个视频\n",
      "  FaceShifter: 采样 200 个视频\n",
      "  FaceSwap: 采样 200 个视频\n",
      "  NeuralTextures: 采样 200 个视频\n",
      "总共选择 1000 个假视频进行处理\n"
     ]
    },
    {
     "name": "stderr",
     "output_type": "stream",
     "text": [
      "处理伪造视频: 100%|██████████| 1000/1000 [1:15:55<00:00,  4.56s/it]"
     ]
    },
    {
     "name": "stdout",
     "output_type": "stream",
     "text": [
      "\n",
      "✅ 数据处理完成，共处理 2000 个视频\n",
      "假视频方法分布:\n",
      "  NeuralTextures: 200 个视频\n",
      "  FaceSwap: 200 个视频\n",
      "  Deepfakes: 200 个视频\n",
      "  Face2Face: 200 个视频\n",
      "  FaceShifter: 200 个视频\n",
      "真实视频: 1000 个\n",
      "伪造视频: 1000 个\n",
      "数据集已保存到: ./data/train.csv\n",
      "数据集已保存到: ./data/val.csv\n",
      "数据集已保存到: ./data/test.csv\n",
      "训练集: 1398 个样本\n",
      "验证集: 200 个样本\n",
      "测试集: 402 个样本\n",
      "总样本数: 2000\n",
      "数据集规模: 中型\n",
      "预估单轮训练时间: 16.7分钟\n",
      "\n",
      "假视频方法分布统计:\n",
      "  NeuralTextures: 200 个视频\n",
      "  FaceSwap: 200 个视频\n",
      "  Deepfakes: 200 个视频\n",
      "  Face2Face: 200 个视频\n",
      "  FaceShifter: 200 个视频\n",
      "✅ 数据准备完成\n"
     ]
    },
    {
     "name": "stderr",
     "output_type": "stream",
     "text": [
      "\n"
     ]
    }
   ],
   "source": [
    "# Cell 9: 数据处理和准备 - 双T4 GPU优化版本\n",
    "\n",
    "import os\n",
    "import pandas as pd\n",
    "\n",
    "# 确保前面的模块已经执行，函数已经定义\n",
    "# 在 Kaggle 环境中，这些函数应该已经通过前面的 cell 定义了\n",
    "\n",
    "print(\"📁 数据预处理配置 - 双T4 GPU优化\")\n",
    "print(\"  - 真实视频: 1200个样本\")\n",
    "print(\"  - 伪造视频: 3600个样本\")\n",
    "print(\"  - 视频帧数: 12帧/视频\")\n",
    "print(\"  - 总计约4800个训练样本\")\n",
    "\n",
    "# 创建数据目录\n",
    "os.makedirs('./data', exist_ok=True)\n",
    "\n",
    "# 如果需要处理数据（首次运行）\n",
    "if not os.path.exists('./data/train.csv'):\n",
    "    print(\"📁 开始数据处理...\")\n",
    "    \n",
    "    # 调用前面定义的数据处理函数 - 双T4 GPU优化配置\n",
    "    data_list = process_videos_simple(BASE_DATA_DIR, max_real=1000, max_fake=1000, max_frames=12)\n",
    "    \n",
    "    if len(data_list) == 0:\n",
    "        print(\"❌ 未找到数据，请检查数据路径\")\n",
    "        raise ValueError(\"数据路径错误或数据不存在\")\n",
    "    \n",
    "    # 创建数据集分割\n",
    "    train_data, val_data, test_data = create_dataset_split(data_list)\n",
    "    \n",
    "    # 保存数据集\n",
    "    save_dataset_to_csv(train_data, './data/train.csv')\n",
    "    save_dataset_to_csv(val_data, './data/val.csv')\n",
    "    save_dataset_to_csv(test_data, './data/test.csv')\n",
    "    \n",
    "    print(f\"训练集: {len(train_data)} 个样本\")\n",
    "    print(f\"验证集: {len(val_data)} 个样本\")\n",
    "    print(f\"测试集: {len(test_data)} 个样本\")\n",
    "    \n",
    "    # 计算数据集规模\n",
    "    total_samples = len(train_data) + len(val_data) + len(test_data)\n",
    "    print(f\"总样本数: {total_samples}\")\n",
    "    print(f\"数据集规模: {'大型' if total_samples > 3000 else '中型' if total_samples > 1000 else '小型'}\")\n",
    "    \n",
    "    # 估算训练时间\n",
    "    estimated_time_per_epoch = total_samples * 0.5 / 60  # 假设每个样本0.5秒\n",
    "    print(f\"预估单轮训练时间: {estimated_time_per_epoch:.1f}分钟\")\n",
    "    \n",
    "    # 显示假视频方法分布\n",
    "    print(\"\\n假视频方法分布统计:\")\n",
    "    fake_method_counts = {}\n",
    "    for item in data_list:\n",
    "        if item['label'] == 1:  # 假视频\n",
    "            method = item['method']\n",
    "            fake_method_counts[method] = fake_method_counts.get(method, 0) + 1\n",
    "    \n",
    "    for method, count in fake_method_counts.items():\n",
    "        print(f\"  {method}: {count} 个视频\")\n",
    "    \n",
    "else:\n",
    "    print(\"📊 数据集已存在，跳过数据处理步骤\")\n",
    "    # 读取现有数据集信息\n",
    "    train_df = pd.read_csv('./data/train.csv')\n",
    "    val_df = pd.read_csv('./data/val.csv')\n",
    "    test_df = pd.read_csv('./data/test.csv')\n",
    "    \n",
    "    print(f\"训练集: {len(train_df)} 个样本\")\n",
    "    print(f\"验证集: {len(val_df)} 个样本\")\n",
    "    print(f\"测试集: {len(test_df)} 个样本\")\n",
    "    \n",
    "    # 显示数据分布\n",
    "    print(\"\\n数据标签分布:\")\n",
    "    print(\"训练集:\", train_df['label'].value_counts().to_dict())\n",
    "    print(\"验证集:\", val_df['label'].value_counts().to_dict())\n",
    "    print(\"测试集:\", test_df['label'].value_counts().to_dict())\n",
    "\n",
    "print(\"✅ 数据准备完成\")"
   ]
  },
  {
   "cell_type": "markdown",
   "id": "8c779d18",
   "metadata": {
    "papermill": {
     "duration": 0.084703,
     "end_time": "2025-07-24T15:19:26.894127",
     "exception": false,
     "start_time": "2025-07-24T15:19:26.809424",
     "status": "completed"
    },
    "tags": []
   },
   "source": [
    "# Cell 10: 创建数据加载器\n"
   ]
  },
  {
   "cell_type": "code",
   "execution_count": 11,
   "id": "7fcd828c",
   "metadata": {
    "execution": {
     "iopub.execute_input": "2025-07-24T15:19:27.064619Z",
     "iopub.status.busy": "2025-07-24T15:19:27.064319Z",
     "iopub.status.idle": "2025-07-24T15:19:27.111099Z",
     "shell.execute_reply": "2025-07-24T15:19:27.110369Z"
    },
    "papermill": {
     "duration": 0.133611,
     "end_time": "2025-07-24T15:19:27.112268",
     "exception": false,
     "start_time": "2025-07-24T15:19:26.978657",
     "status": "completed"
    },
    "tags": []
   },
   "outputs": [
    {
     "name": "stdout",
     "output_type": "stream",
     "text": [
      "📊 创建数据加载器...\n",
      "🔧 创建数据集（Kaggle T4优化配置）...\n",
      "📊 数据类型: FP32 (兼容性优先)\n",
      "✅ 成功加载CSV文件: ./data/train.csv\n",
      "📊 数据分布: 真实=699, 伪造=699\n",
      "✅ 数据集初始化完成: 1398 个样本\n",
      "📊 启用频域特征提取\n",
      "🔍 启用压缩伪影分析\n",
      "✅ 成功加载CSV文件: ./data/val.csv\n",
      "📊 数据分布: 真实=100, 伪造=100\n",
      "✅ 数据集初始化完成: 200 个样本\n",
      "📊 启用频域特征提取\n",
      "🔍 启用压缩伪影分析\n",
      "✅ 成功加载CSV文件: ./data/test.csv\n",
      "📊 数据分布: 真实=201, 伪造=201\n",
      "✅ 数据集初始化完成: 402 个样本\n",
      "📊 启用频域特征提取\n",
      "🔍 启用压缩伪影分析\n",
      "📊 数据集大小: 训练=1398, 验证=200, 测试=402\n",
      "使用批次大小: 2 (基于GPU内存自动调整)\n",
      "🔥 数据加载配置: 0 workers (单进程模式确保稳定性)\n",
      "✅ 数据加载器创建完成\n",
      "训练批次数: 699 (批次大小: 2)\n",
      "验证批次数: 100\n",
      "测试批次数: 201\n",
      "数据加载worker数: 0\n",
      "⚠️ 使用单进程模式确保稳定性，如需多进程请确保数据路径正确且帧提取函数可用\n"
     ]
    }
   ],
   "source": [
    "# Cell 10: 创建数据加载器 - Kaggle T4 优化版本\n",
    "\n",
    "import multiprocessing as mp\n",
    "\n",
    "print(\"📊 创建数据加载器...\")\n",
    "\n",
    "# 简化数据变换 - 使用GPU预处理替代CPU变换\n",
    "train_transform = None\n",
    "val_transform = None\n",
    "\n",
    "print(f\"🔧 创建数据集（Kaggle T4优化配置）...\")\n",
    "print(f\"📊 数据类型: FP32 (兼容性优先)\")\n",
    "\n",
    "# 创建数据集 - 双T4 GPU优化配置\n",
    "train_dataset = DeepfakeVideoDataset(\n",
    "    csv_file='./data/train.csv',\n",
    "    transform=train_transform,\n",
    "    max_frames=12,  # 适中的帧数，平衡性能和内存\n",
    "    gpu_preprocessing=False,  # 在多进程环境中禁用GPU预处理\n",
    "    cache_frames=False,  # 避免内存压力\n",
    "    extract_fourier=True,  # 重新启用频域特征提取\n",
    "    extract_compression=True  # 重新启用压缩特征提取\n",
    ")\n",
    "\n",
    "val_dataset = DeepfakeVideoDataset(\n",
    "    csv_file='./data/val.csv',\n",
    "    transform=val_transform,\n",
    "    max_frames=12,  # 适中的帧数，平衡性能和内存\n",
    "    gpu_preprocessing=False,\n",
    "    cache_frames=False,\n",
    "    extract_fourier=True,  # 重新启用频域特征提取\n",
    "    extract_compression=True  # 重新启用压缩特征提取\n",
    ")\n",
    "\n",
    "test_dataset = DeepfakeVideoDataset(\n",
    "    csv_file='./data/test.csv',\n",
    "    transform=val_transform,\n",
    "    max_frames=12,  # 适中的帧数，平衡性能和内存\n",
    "    gpu_preprocessing=False,\n",
    "    cache_frames=False,\n",
    "    extract_fourier=True,  # 重新启用频域特征提取\n",
    "    extract_compression=True  # 重新启用压缩特征提取\n",
    ")\n",
    "\n",
    "print(f\"📊 数据集大小: 训练={len(train_dataset)}, 验证={len(val_dataset)}, 测试={len(test_dataset)}\")\n",
    "\n",
    "# 批次大小配置\n",
    "batch_size = 2\n",
    "\n",
    "print(f\"使用批次大小: {batch_size} (基于GPU内存自动调整)\")\n",
    "\n",
    "# 优化数据加载器配置 - 减少worker数量以避免崩溃\n",
    "if IS_KAGGLE:\n",
    "    num_workers = 0  # Kaggle环境使用单进程避免worker崩溃\n",
    "    prefetch_factor = None\n",
    "    persistent_workers = False\n",
    "else:\n",
    "    num_workers = 0  # 暂时使用单进程模式确保稳定性\n",
    "    prefetch_factor = None\n",
    "    persistent_workers = False\n",
    "\n",
    "print(f\"🔥 数据加载配置: {num_workers} workers (单进程模式确保稳定性)\")\n",
    "\n",
    "# 创建数据加载器\n",
    "train_loader = DataLoader(\n",
    "    train_dataset,\n",
    "    batch_size=batch_size,\n",
    "    shuffle=True,\n",
    "    num_workers=num_workers,\n",
    "    pin_memory=False,  # 在单进程模式下禁用pin_memory\n",
    "    drop_last=True,  # 确保批次大小一致\n",
    "    prefetch_factor=prefetch_factor,\n",
    "    persistent_workers=persistent_workers\n",
    ")\n",
    "\n",
    "val_loader = DataLoader(\n",
    "    val_dataset,\n",
    "    batch_size=batch_size,\n",
    "    shuffle=False,\n",
    "    num_workers=num_workers,\n",
    "    pin_memory=False,\n",
    "    prefetch_factor=prefetch_factor,\n",
    "    persistent_workers=persistent_workers\n",
    ")\n",
    "\n",
    "test_loader = DataLoader(\n",
    "    test_dataset,\n",
    "    batch_size=batch_size,\n",
    "    shuffle=False,\n",
    "    num_workers=num_workers,\n",
    "    pin_memory=False,\n",
    "    prefetch_factor=prefetch_factor,\n",
    "    persistent_workers=persistent_workers\n",
    ")\n",
    "\n",
    "print(f\"✅ 数据加载器创建完成\")\n",
    "print(f\"训练批次数: {len(train_loader)} (批次大小: {batch_size})\")\n",
    "print(f\"验证批次数: {len(val_loader)}\")\n",
    "print(f\"测试批次数: {len(test_loader)}\")\n",
    "print(f\"数据加载worker数: {num_workers}\")\n",
    "print(\"⚠️ 使用单进程模式确保稳定性，如需多进程请确保数据路径正确且帧提取函数可用\")"
   ]
  },
  {
   "cell_type": "markdown",
   "id": "39b52832",
   "metadata": {
    "papermill": {
     "duration": 0.083802,
     "end_time": "2025-07-24T15:19:27.282495",
     "exception": false,
     "start_time": "2025-07-24T15:19:27.198693",
     "status": "completed"
    },
    "tags": []
   },
   "source": [
    "# Cell 11: 模型初始化和训练配置\n"
   ]
  },
  {
   "cell_type": "code",
   "execution_count": 12,
   "id": "e52076e6",
   "metadata": {
    "execution": {
     "iopub.execute_input": "2025-07-24T15:19:27.454891Z",
     "iopub.status.busy": "2025-07-24T15:19:27.454506Z",
     "iopub.status.idle": "2025-07-24T15:19:28.635354Z",
     "shell.execute_reply": "2025-07-24T15:19:28.634504Z"
    },
    "papermill": {
     "duration": 1.267968,
     "end_time": "2025-07-24T15:19:28.636489",
     "exception": false,
     "start_time": "2025-07-24T15:19:27.368521",
     "status": "completed"
    },
    "tags": []
   },
   "outputs": [
    {
     "name": "stdout",
     "output_type": "stream",
     "text": [
      "🤖 创建和配置模型...\n"
     ]
    },
    {
     "name": "stderr",
     "output_type": "stream",
     "text": [
      "Downloading: \"https://download.pytorch.org/models/resnet50-0676ba61.pth\" to /root/.cache/torch/hub/checkpoints/resnet50-0676ba61.pth\n",
      "100%|██████████| 97.8M/97.8M [00:00<00:00, 213MB/s]\n"
     ]
    },
    {
     "name": "stdout",
     "output_type": "stream",
     "text": [
      "✅ 模型初始化完成\n",
      "   - 注意力机制: 启用\n",
      "   - 多模态融合: 启用\n",
      "   - 集成模式: 禁用\n",
      "✅ 模型已创建并移动到 cuda\n",
      "📊 模型参数数量: 41,982,146\n",
      "🎮 GPU: Tesla T4\n",
      "💾 GPU内存: 14.7GB\n",
      "📊 类别分布 - 真实: 699, 伪造: 699\n",
      "⚖️ 正样本权重: 1.00\n",
      "✅ 启用混合精度训练 (AMP)\n",
      "🎯 训练配置:\n",
      "  - 训练轮数: 15\n",
      "  - 初始学习率: 2.00e-04\n",
      "  - 权重衰减: 1.00e-04\n",
      "  - 早停耐心值: 8\n",
      "  - 混合精度: 启用\n",
      "✅ 模型和训练配置完成\n"
     ]
    }
   ],
   "source": [
    "# Cell 11: 模型初始化和训练配置 - Kaggle T4 GPU优化版本\n",
    "\n",
    "import torch\n",
    "import torch.nn as nn\n",
    "import torch.optim as optim\n",
    "from torch.optim.lr_scheduler import CosineAnnealingWarmRestarts\n",
    "from torch.cuda.amp import GradScaler\n",
    "\n",
    "print(\"🤖 创建和配置模型...\")\n",
    "\n",
    "# 创建模型 - 针对Kaggle T4 GPU优化\n",
    "model = OptimizedDeepfakeDetector(\n",
    "    num_classes=1,\n",
    "    dropout_rate=0.3,\n",
    "    use_attention=True,\n",
    "    use_multimodal=True,  # 启用多模态特征融合\n",
    "    ensemble_mode=False   # 单模型模式\n",
    ").to(device)\n",
    "\n",
    "print(f\"✅ 模型已创建并移动到 {device}\")\n",
    "print(f\"📊 模型参数数量: {sum(p.numel() for p in model.parameters()):,}\")\n",
    "\n",
    "# 优化GPU内存配置 - 双T4 GPU配置\n",
    "if torch.cuda.is_available():\n",
    "    torch.cuda.set_per_process_memory_fraction(0.8)  # 双T4可以使用更多内存\n",
    "    print(f\"🎮 GPU: {torch.cuda.get_device_name(0)}\")\n",
    "    print(f\"💾 GPU内存: {torch.cuda.get_device_properties(0).total_memory / 1024**3:.1f}GB\")\n",
    "\n",
    "# 损失函数 - 使用类别权重平衡\n",
    "# 计算类别权重 - 修复版本\n",
    "if hasattr(train_dataset, 'real_count') and hasattr(train_dataset, 'fake_count'):\n",
    "    # 使用预计算的统计信息\n",
    "    real_count = train_dataset.real_count\n",
    "    fake_count = train_dataset.fake_count\n",
    "else:\n",
    "    # 回退方案：手动计算\n",
    "    if hasattr(train_dataset, 'data_list') and train_dataset.data_list is not None:\n",
    "        real_count = sum(1 for item in train_dataset.data_list if item['label'] == 0)\n",
    "        fake_count = sum(1 for item in train_dataset.data_list if item['label'] == 1)\n",
    "    elif hasattr(train_dataset, 'df') and train_dataset.df is not None:\n",
    "        real_count = len(train_dataset.df[train_dataset.df['label'] == 0])\n",
    "        fake_count = len(train_dataset.df[train_dataset.df['label'] == 1])\n",
    "    else:\n",
    "        # 默认值\n",
    "        real_count = 1\n",
    "        fake_count = 1\n",
    "        print(\"⚠️ 无法获取类别分布，使用默认权重\")\n",
    "\n",
    "# 确保计数不为零\n",
    "real_count = max(real_count, 1)\n",
    "fake_count = max(fake_count, 1)\n",
    "\n",
    "pos_weight = torch.tensor([real_count / fake_count], device=device)\n",
    "\n",
    "print(f\"📊 类别分布 - 真实: {real_count}, 伪造: {fake_count}\")\n",
    "print(f\"⚖️ 正样本权重: {pos_weight.item():.2f}\")\n",
    "\n",
    "# 使用FocalLoss处理类别不平衡\n",
    "criterion = FocalLoss(\n",
    "    alpha=0.25,\n",
    "    gamma=2.0,  # 降低gamma值，减少对困难样本的过度关注\n",
    "    pos_weight=pos_weight,\n",
    "    reduction='mean'\n",
    ")\n",
    "\n",
    "# 优化器配置 - 使用AdamW和学习率调度\n",
    "optimizer = optim.AdamW(\n",
    "    model.parameters(),\n",
    "    lr=2e-4,  # 提高初始学习率\n",
    "    weight_decay=1e-4,  # 增加权重衰减\n",
    "    betas=(0.9, 0.999),\n",
    "    eps=1e-8\n",
    ")\n",
    "\n",
    "# 学习率调度器 - 使用余弦退火\n",
    "scheduler = CosineAnnealingWarmRestarts(\n",
    "    optimizer,\n",
    "    T_0=10,  # 初始重启周期\n",
    "    T_mult=2,  # 周期倍增因子\n",
    "    eta_min=1e-6  # 最小学习率\n",
    ")\n",
    "\n",
    "# 早停机制 - 双T4 GPU配置\n",
    "early_stopping = EarlyStopping(\n",
    "    patience=8,  # 适中的耐心值，适合双T4训练\n",
    "    min_delta=0.001,\n",
    "    restore_best_weights=True\n",
    ")\n",
    "\n",
    "# 混合精度训练 - 仅在支持的GPU上启用\n",
    "use_amp = torch.cuda.is_available() and torch.cuda.get_device_capability()[0] >= 7\n",
    "if use_amp:\n",
    "    scaler = GradScaler()\n",
    "    print(\"✅ 启用混合精度训练 (AMP)\")\n",
    "else:\n",
    "    scaler = None\n",
    "    print(\"📝 使用FP32训练 (兼容性模式)\")\n",
    "\n",
    "# 训练配置 - 双T4 GPU优化\n",
    "num_epochs = 15  # 适中的训练轮数，适合双T4配置\n",
    "print(f\"🎯 训练配置:\")\n",
    "print(f\"  - 训练轮数: {num_epochs}\")\n",
    "print(f\"  - 初始学习率: {optimizer.param_groups[0]['lr']:.2e}\")\n",
    "print(f\"  - 权重衰减: {optimizer.param_groups[0]['weight_decay']:.2e}\")\n",
    "print(f\"  - 早停耐心值: {early_stopping.patience}\")\n",
    "print(f\"  - 混合精度: {'启用' if use_amp else '禁用'}\")\n",
    "\n",
    "print(\"✅ 模型和训练配置完成\")"
   ]
  },
  {
   "cell_type": "markdown",
   "id": "47f185cc",
   "metadata": {
    "papermill": {
     "duration": 0.089401,
     "end_time": "2025-07-24T15:19:28.812832",
     "exception": false,
     "start_time": "2025-07-24T15:19:28.723431",
     "status": "completed"
    },
    "tags": []
   },
   "source": [
    "# Cell 12: 模型训练主循环\n"
   ]
  },
  {
   "cell_type": "code",
   "execution_count": 13,
   "id": "7b0273a1",
   "metadata": {
    "execution": {
     "iopub.execute_input": "2025-07-24T15:19:28.989035Z",
     "iopub.status.busy": "2025-07-24T15:19:28.988739Z",
     "iopub.status.idle": "2025-07-24T17:26:24.786612Z",
     "shell.execute_reply": "2025-07-24T17:26:24.785921Z"
    },
    "papermill": {
     "duration": 7615.887685,
     "end_time": "2025-07-24T17:26:24.788553",
     "exception": false,
     "start_time": "2025-07-24T15:19:28.900868",
     "status": "completed"
    },
    "tags": []
   },
   "outputs": [
    {
     "name": "stdout",
     "output_type": "stream",
     "text": [
      "🚀 开始训练...\n",
      "📊 训练配置: 699 个训练批次, 100 个验证批次\n",
      "🎯 模型参数数量: 41,982,146\n",
      "💾 设备: cuda\n",
      "📦 批次大小: 2\n",
      "🎮 GPU: Tesla T4\n",
      "\n",
      "🔄 开始训练循环...\n",
      "\n",
      "Epoch 1/15\n"
     ]
    },
    {
     "name": "stderr",
     "output_type": "stream",
     "text": [
      "训练中:   0%|          | 0/699 [00:00<?, ?it/s]"
     ]
    },
    {
     "name": "stdout",
     "output_type": "stream",
     "text": [
      "🔍 融合特征维度: [2048, 128, 32, 32]\n",
      "✅ 特征融合成功: torch.Size([2, 2240]) -> torch.Size([2, 256])\n"
     ]
    },
    {
     "name": "stderr",
     "output_type": "stream",
     "text": [
      "训练中:   0%|          | 2/699 [00:08<47:40,  4.10s/it, Loss=nan, Acc=1.0000]  "
     ]
    },
    {
     "name": "stdout",
     "output_type": "stream",
     "text": [
      "🔍 融合特征维度: [2048, 128, 32, 32]\n",
      "✅ 特征融合成功: torch.Size([2, 2240]) -> torch.Size([2, 256])\n"
     ]
    },
    {
     "name": "stderr",
     "output_type": "stream",
     "text": [
      "训练中:   0%|          | 3/699 [00:15<1:00:49,  5.24s/it, Loss=nan, Acc=1.0000]"
     ]
    },
    {
     "name": "stdout",
     "output_type": "stream",
     "text": [
      "🔍 融合特征维度: [2048, 128, 32, 32]\n",
      "✅ 特征融合成功: torch.Size([2, 2240]) -> torch.Size([2, 256])\n"
     ]
    },
    {
     "name": "stderr",
     "output_type": "stream",
     "text": [
      "训练中:   1%|          | 4/699 [00:29<1:41:48,  8.79s/it, Loss=nan, Acc=0.7500]"
     ]
    },
    {
     "name": "stdout",
     "output_type": "stream",
     "text": [
      "🔍 融合特征维度: [2048, 128, 32, 32]\n",
      "✅ 特征融合成功: torch.Size([2, 2240]) -> torch.Size([2, 256])\n"
     ]
    },
    {
     "name": "stderr",
     "output_type": "stream",
     "text": [
      "训练中:   1%|          | 5/699 [00:35<1:30:47,  7.85s/it, Loss=nan, Acc=0.6000]"
     ]
    },
    {
     "name": "stdout",
     "output_type": "stream",
     "text": [
      "🔍 融合特征维度: [2048, 128, 32, 32]\n",
      "✅ 特征融合成功: torch.Size([2, 2240]) -> torch.Size([2, 256])\n"
     ]
    },
    {
     "name": "stderr",
     "output_type": "stream",
     "text": [
      "训练中:   1%|          | 6/699 [00:39<1:15:10,  6.51s/it, Loss=nan, Acc=0.5000]"
     ]
    },
    {
     "name": "stdout",
     "output_type": "stream",
     "text": [
      "🔍 融合特征维度: [2048, 128, 32, 32]\n",
      "✅ 特征融合成功: torch.Size([2, 2240]) -> torch.Size([2, 256])\n"
     ]
    },
    {
     "name": "stderr",
     "output_type": "stream",
     "text": [
      "训练中:   1%|          | 7/699 [00:54<1:48:35,  9.42s/it, Loss=nan, Acc=0.5714]"
     ]
    },
    {
     "name": "stdout",
     "output_type": "stream",
     "text": [
      "🔍 融合特征维度: [2048, 128, 32, 32]\n",
      "✅ 特征融合成功: torch.Size([2, 2240]) -> torch.Size([2, 256])\n"
     ]
    },
    {
     "name": "stderr",
     "output_type": "stream",
     "text": [
      "训练中:   1%|          | 8/699 [01:00<1:33:48,  8.15s/it, Loss=nan, Acc=0.6250]"
     ]
    },
    {
     "name": "stdout",
     "output_type": "stream",
     "text": [
      "🔍 融合特征维度: [2048, 128, 32, 32]\n",
      "✅ 特征融合成功: torch.Size([2, 2240]) -> torch.Size([2, 256])\n"
     ]
    },
    {
     "name": "stderr",
     "output_type": "stream",
     "text": [
      "训练中:   1%|▏         | 9/699 [01:04<1:18:06,  6.79s/it, Loss=nan, Acc=0.5556]"
     ]
    },
    {
     "name": "stdout",
     "output_type": "stream",
     "text": [
      "🔍 融合特征维度: [2048, 128, 32, 32]\n",
      "✅ 特征融合成功: torch.Size([2, 2240]) -> torch.Size([2, 256])\n"
     ]
    },
    {
     "name": "stderr",
     "output_type": "stream",
     "text": [
      "训练中:   1%|▏         | 10/699 [01:10<1:15:45,  6.60s/it, Loss=nan, Acc=0.5500]"
     ]
    },
    {
     "name": "stdout",
     "output_type": "stream",
     "text": [
      "🔍 融合特征维度: [2048, 128, 32, 32]\n",
      "✅ 特征融合成功: torch.Size([2, 2240]) -> torch.Size([2, 256])\n"
     ]
    },
    {
     "name": "stderr",
     "output_type": "stream",
     "text": [
      "训练中:   2%|▏         | 11/699 [01:16<1:13:25,  6.40s/it, Loss=nan, Acc=0.5455]"
     ]
    },
    {
     "name": "stdout",
     "output_type": "stream",
     "text": [
      "🔍 融合特征维度: [2048, 128, 32, 32]\n",
      "✅ 特征融合成功: torch.Size([2, 2240]) -> torch.Size([2, 256])\n"
     ]
    },
    {
     "name": "stderr",
     "output_type": "stream",
     "text": [
      "训练中:   2%|▏         | 12/699 [01:29<1:37:26,  8.51s/it, Loss=nan, Acc=0.5000]"
     ]
    },
    {
     "name": "stdout",
     "output_type": "stream",
     "text": [
      "🔍 融合特征维度: [2048, 128, 32, 32]\n",
      "✅ 特征融合成功: torch.Size([2, 2240]) -> torch.Size([2, 256])\n"
     ]
    },
    {
     "name": "stderr",
     "output_type": "stream",
     "text": [
      "训练中:   2%|▏         | 13/699 [01:33<1:22:18,  7.20s/it, Loss=nan, Acc=0.5385]"
     ]
    },
    {
     "name": "stdout",
     "output_type": "stream",
     "text": [
      "🔍 融合特征维度: [2048, 128, 32, 32]\n",
      "✅ 特征融合成功: torch.Size([2, 2240]) -> torch.Size([2, 256])\n"
     ]
    },
    {
     "name": "stderr",
     "output_type": "stream",
     "text": [
      "训练中:   2%|▏         | 14/699 [01:40<1:20:10,  7.02s/it, Loss=nan, Acc=0.5000]"
     ]
    },
    {
     "name": "stdout",
     "output_type": "stream",
     "text": [
      "🔍 融合特征维度: [2048, 128, 32, 32]\n",
      "✅ 特征融合成功: torch.Size([2, 2240]) -> torch.Size([2, 256])\n"
     ]
    },
    {
     "name": "stderr",
     "output_type": "stream",
     "text": [
      "训练中:   2%|▏         | 15/699 [01:44<1:11:25,  6.27s/it, Loss=nan, Acc=0.5000]"
     ]
    },
    {
     "name": "stdout",
     "output_type": "stream",
     "text": [
      "🔍 融合特征维度: [2048, 128, 32, 32]\n",
      "✅ 特征融合成功: torch.Size([2, 2240]) -> torch.Size([2, 256])\n"
     ]
    },
    {
     "name": "stderr",
     "output_type": "stream",
     "text": [
      "训练中:   2%|▏         | 16/699 [01:50<1:08:13,  5.99s/it, Loss=nan, Acc=0.5312]"
     ]
    },
    {
     "name": "stdout",
     "output_type": "stream",
     "text": [
      "🔍 融合特征维度: [2048, 128, 32, 32]\n",
      "✅ 特征融合成功: torch.Size([2, 2240]) -> torch.Size([2, 256])\n"
     ]
    },
    {
     "name": "stderr",
     "output_type": "stream",
     "text": [
      "训练中:   2%|▏         | 17/699 [02:05<1:39:32,  8.76s/it, Loss=nan, Acc=0.5294]"
     ]
    },
    {
     "name": "stdout",
     "output_type": "stream",
     "text": [
      "🔍 融合特征维度: [2048, 128, 32, 32]\n",
      "✅ 特征融合成功: torch.Size([2, 2240]) -> torch.Size([2, 256])\n"
     ]
    },
    {
     "name": "stderr",
     "output_type": "stream",
     "text": [
      "训练中:   3%|▎         | 18/699 [02:11<1:31:00,  8.02s/it, Loss=nan, Acc=0.5278]"
     ]
    },
    {
     "name": "stdout",
     "output_type": "stream",
     "text": [
      "🔍 融合特征维度: [2048, 128, 32, 32]\n",
      "✅ 特征融合成功: torch.Size([2, 2240]) -> torch.Size([2, 256])\n"
     ]
    },
    {
     "name": "stderr",
     "output_type": "stream",
     "text": [
      "训练中:   3%|▎         | 19/699 [02:24<1:47:10,  9.46s/it, Loss=nan, Acc=0.5263]"
     ]
    },
    {
     "name": "stdout",
     "output_type": "stream",
     "text": [
      "🔍 融合特征维度: [2048, 128, 32, 32]\n",
      "✅ 特征融合成功: torch.Size([2, 2240]) -> torch.Size([2, 256])\n"
     ]
    },
    {
     "name": "stderr",
     "output_type": "stream",
     "text": [
      "训练中:   3%|▎         | 20/699 [02:42<2:14:24, 11.88s/it, Loss=nan, Acc=0.5250]"
     ]
    },
    {
     "name": "stdout",
     "output_type": "stream",
     "text": [
      "🔍 融合特征维度: [2048, 128, 32, 32]\n",
      "✅ 特征融合成功: torch.Size([2, 2240]) -> torch.Size([2, 256])\n"
     ]
    },
    {
     "name": "stderr",
     "output_type": "stream",
     "text": [
      "训练中:   3%|▎         | 21/699 [02:52<2:09:54, 11.50s/it, Loss=nan, Acc=0.5000]"
     ]
    },
    {
     "name": "stdout",
     "output_type": "stream",
     "text": [
      "🔍 融合特征维度: [2048, 128, 32, 32]\n",
      "✅ 特征融合成功: torch.Size([2, 2240]) -> torch.Size([2, 256])\n"
     ]
    },
    {
     "name": "stderr",
     "output_type": "stream",
     "text": [
      "训练中:   3%|▎         | 22/699 [03:06<2:16:34, 12.10s/it, Loss=nan, Acc=0.5000]"
     ]
    },
    {
     "name": "stdout",
     "output_type": "stream",
     "text": [
      "🔍 融合特征维度: [2048, 128, 32, 32]\n",
      "✅ 特征融合成功: torch.Size([2, 2240]) -> torch.Size([2, 256])\n"
     ]
    },
    {
     "name": "stderr",
     "output_type": "stream",
     "text": [
      "训练中:   3%|▎         | 23/699 [03:13<1:59:04, 10.57s/it, Loss=nan, Acc=0.5000]"
     ]
    },
    {
     "name": "stdout",
     "output_type": "stream",
     "text": [
      "🔍 融合特征维度: [2048, 128, 32, 32]\n",
      "✅ 特征融合成功: torch.Size([2, 2240]) -> torch.Size([2, 256])\n"
     ]
    },
    {
     "name": "stderr",
     "output_type": "stream",
     "text": [
      "训练中:   3%|▎         | 24/699 [03:24<1:59:36, 10.63s/it, Loss=nan, Acc=0.5000]"
     ]
    },
    {
     "name": "stdout",
     "output_type": "stream",
     "text": [
      "🔍 融合特征维度: [2048, 128, 32, 32]\n",
      "✅ 特征融合成功: torch.Size([2, 2240]) -> torch.Size([2, 256])\n"
     ]
    },
    {
     "name": "stderr",
     "output_type": "stream",
     "text": [
      "训练中:   4%|▎         | 25/699 [03:27<1:36:33,  8.60s/it, Loss=nan, Acc=0.5000]"
     ]
    },
    {
     "name": "stdout",
     "output_type": "stream",
     "text": [
      "🔍 融合特征维度: [2048, 128, 32, 32]\n",
      "✅ 特征融合成功: torch.Size([2, 2240]) -> torch.Size([2, 256])\n"
     ]
    },
    {
     "name": "stderr",
     "output_type": "stream",
     "text": [
      "训练中:   4%|▎         | 26/699 [03:33<1:26:29,  7.71s/it, Loss=nan, Acc=0.5000]"
     ]
    },
    {
     "name": "stdout",
     "output_type": "stream",
     "text": [
      "🔍 融合特征维度: [2048, 128, 32, 32]\n",
      "✅ 特征融合成功: torch.Size([2, 2240]) -> torch.Size([2, 256])\n"
     ]
    },
    {
     "name": "stderr",
     "output_type": "stream",
     "text": [
      "训练中:   4%|▍         | 27/699 [03:40<1:24:37,  7.56s/it, Loss=nan, Acc=0.4815]"
     ]
    },
    {
     "name": "stdout",
     "output_type": "stream",
     "text": [
      "🔍 融合特征维度: [2048, 128, 32, 32]\n",
      "✅ 特征融合成功: torch.Size([2, 2240]) -> torch.Size([2, 256])\n"
     ]
    },
    {
     "name": "stderr",
     "output_type": "stream",
     "text": [
      "训练中:   4%|▍         | 28/699 [03:49<1:28:58,  7.96s/it, Loss=nan, Acc=0.4643]"
     ]
    },
    {
     "name": "stdout",
     "output_type": "stream",
     "text": [
      "🔍 融合特征维度: [2048, 128, 32, 32]\n",
      "✅ 特征融合成功: torch.Size([2, 2240]) -> torch.Size([2, 256])\n"
     ]
    },
    {
     "name": "stderr",
     "output_type": "stream",
     "text": [
      "训练中:   4%|▍         | 29/699 [03:54<1:17:04,  6.90s/it, Loss=nan, Acc=0.4483]"
     ]
    },
    {
     "name": "stdout",
     "output_type": "stream",
     "text": [
      "🔍 融合特征维度: [2048, 128, 32, 32]\n",
      "✅ 特征融合成功: torch.Size([2, 2240]) -> torch.Size([2, 256])\n"
     ]
    },
    {
     "name": "stderr",
     "output_type": "stream",
     "text": [
      "训练中:   4%|▍         | 30/699 [04:15<2:03:54, 11.11s/it, Loss=nan, Acc=0.4500]"
     ]
    },
    {
     "name": "stdout",
     "output_type": "stream",
     "text": [
      "🔍 融合特征维度: [2048, 128, 32, 32]\n",
      "✅ 特征融合成功: torch.Size([2, 2240]) -> torch.Size([2, 256])\n"
     ]
    },
    {
     "name": "stderr",
     "output_type": "stream",
     "text": [
      "训练中:   4%|▍         | 31/699 [04:21<1:47:23,  9.65s/it, Loss=nan, Acc=0.4516]"
     ]
    },
    {
     "name": "stdout",
     "output_type": "stream",
     "text": [
      "🔍 融合特征维度: [2048, 128, 32, 32]\n",
      "✅ 特征融合成功: torch.Size([2, 2240]) -> torch.Size([2, 256])\n"
     ]
    },
    {
     "name": "stderr",
     "output_type": "stream",
     "text": [
      "训练中:   5%|▍         | 32/699 [04:29<1:41:29,  9.13s/it, Loss=nan, Acc=0.4531]"
     ]
    },
    {
     "name": "stdout",
     "output_type": "stream",
     "text": [
      "🔍 融合特征维度: [2048, 128, 32, 32]\n",
      "✅ 特征融合成功: torch.Size([2, 2240]) -> torch.Size([2, 256])\n"
     ]
    },
    {
     "name": "stderr",
     "output_type": "stream",
     "text": [
      "训练中:   5%|▍         | 33/699 [04:32<1:22:22,  7.42s/it, Loss=nan, Acc=0.4394]"
     ]
    },
    {
     "name": "stdout",
     "output_type": "stream",
     "text": [
      "🔍 融合特征维度: [2048, 128, 32, 32]\n",
      "✅ 特征融合成功: torch.Size([2, 2240]) -> torch.Size([2, 256])\n"
     ]
    },
    {
     "name": "stderr",
     "output_type": "stream",
     "text": [
      "训练中:   5%|▍         | 34/699 [04:36<1:11:15,  6.43s/it, Loss=nan, Acc=0.4412]"
     ]
    },
    {
     "name": "stdout",
     "output_type": "stream",
     "text": [
      "🔍 融合特征维度: [2048, 128, 32, 32]\n",
      "✅ 特征融合成功: torch.Size([2, 2240]) -> torch.Size([2, 256])\n"
     ]
    },
    {
     "name": "stderr",
     "output_type": "stream",
     "text": [
      "训练中:   5%|▌         | 35/699 [04:48<1:29:24,  8.08s/it, Loss=nan, Acc=0.4286]"
     ]
    },
    {
     "name": "stdout",
     "output_type": "stream",
     "text": [
      "🔍 融合特征维度: [2048, 128, 32, 32]\n",
      "✅ 特征融合成功: torch.Size([2, 2240]) -> torch.Size([2, 256])\n"
     ]
    },
    {
     "name": "stderr",
     "output_type": "stream",
     "text": [
      "训练中:   5%|▌         | 36/699 [04:54<1:22:22,  7.45s/it, Loss=nan, Acc=0.4167]"
     ]
    },
    {
     "name": "stdout",
     "output_type": "stream",
     "text": [
      "🔍 融合特征维度: [2048, 128, 32, 32]\n",
      "✅ 特征融合成功: torch.Size([2, 2240]) -> torch.Size([2, 256])\n"
     ]
    },
    {
     "name": "stderr",
     "output_type": "stream",
     "text": [
      "训练中:   5%|▌         | 37/699 [05:13<2:00:40, 10.94s/it, Loss=nan, Acc=0.4189]"
     ]
    },
    {
     "name": "stdout",
     "output_type": "stream",
     "text": [
      "🔍 融合特征维度: [2048, 128, 32, 32]\n",
      "✅ 特征融合成功: torch.Size([2, 2240]) -> torch.Size([2, 256])\n"
     ]
    },
    {
     "name": "stderr",
     "output_type": "stream",
     "text": [
      "训练中:   5%|▌         | 38/699 [05:29<2:16:56, 12.43s/it, Loss=nan, Acc=0.4079]"
     ]
    },
    {
     "name": "stdout",
     "output_type": "stream",
     "text": [
      "🔍 融合特征维度: [2048, 128, 32, 32]\n",
      "✅ 特征融合成功: torch.Size([2, 2240]) -> torch.Size([2, 256])\n"
     ]
    },
    {
     "name": "stderr",
     "output_type": "stream",
     "text": [
      "训练中:   6%|▌         | 39/699 [05:48<2:37:07, 14.28s/it, Loss=nan, Acc=0.3974]"
     ]
    },
    {
     "name": "stdout",
     "output_type": "stream",
     "text": [
      "🔍 融合特征维度: [2048, 128, 32, 32]\n",
      "✅ 特征融合成功: torch.Size([2, 2240]) -> torch.Size([2, 256])\n"
     ]
    },
    {
     "name": "stderr",
     "output_type": "stream",
     "text": [
      "训练中:   6%|▌         | 40/699 [05:54<2:10:56, 11.92s/it, Loss=nan, Acc=0.4125]"
     ]
    },
    {
     "name": "stdout",
     "output_type": "stream",
     "text": [
      "🔍 融合特征维度: [2048, 128, 32, 32]\n",
      "✅ 特征融合成功: torch.Size([2, 2240]) -> torch.Size([2, 256])\n"
     ]
    },
    {
     "name": "stderr",
     "output_type": "stream",
     "text": [
      "训练中:   6%|▌         | 41/699 [05:59<1:45:58,  9.66s/it, Loss=nan, Acc=0.4146]"
     ]
    },
    {
     "name": "stdout",
     "output_type": "stream",
     "text": [
      "🔍 融合特征维度: [2048, 128, 32, 32]\n",
      "✅ 特征融合成功: torch.Size([2, 2240]) -> torch.Size([2, 256])\n"
     ]
    },
    {
     "name": "stderr",
     "output_type": "stream",
     "text": [
      "训练中:   6%|▌         | 42/699 [06:13<2:01:17, 11.08s/it, Loss=nan, Acc=0.4286]"
     ]
    },
    {
     "name": "stdout",
     "output_type": "stream",
     "text": [
      "🔍 融合特征维度: [2048, 128, 32, 32]\n",
      "✅ 特征融合成功: torch.Size([2, 2240]) -> torch.Size([2, 256])\n"
     ]
    },
    {
     "name": "stderr",
     "output_type": "stream",
     "text": [
      "训练中:   6%|▌         | 43/699 [06:17<1:38:01,  8.97s/it, Loss=nan, Acc=0.4302]"
     ]
    },
    {
     "name": "stdout",
     "output_type": "stream",
     "text": [
      "🔍 融合特征维度: [2048, 128, 32, 32]\n",
      "✅ 特征融合成功: torch.Size([2, 2240]) -> torch.Size([2, 256])\n"
     ]
    },
    {
     "name": "stderr",
     "output_type": "stream",
     "text": [
      "训练中:   6%|▋         | 44/699 [06:20<1:19:24,  7.27s/it, Loss=nan, Acc=0.4318]"
     ]
    },
    {
     "name": "stdout",
     "output_type": "stream",
     "text": [
      "🔍 融合特征维度: [2048, 128, 32, 32]\n",
      "✅ 特征融合成功: torch.Size([2, 2240]) -> torch.Size([2, 256])\n"
     ]
    },
    {
     "name": "stderr",
     "output_type": "stream",
     "text": [
      "训练中:   6%|▋         | 45/699 [06:28<1:19:09,  7.26s/it, Loss=nan, Acc=0.4333]"
     ]
    },
    {
     "name": "stdout",
     "output_type": "stream",
     "text": [
      "🔍 融合特征维度: [2048, 128, 32, 32]\n",
      "✅ 特征融合成功: torch.Size([2, 2240]) -> torch.Size([2, 256])\n"
     ]
    },
    {
     "name": "stderr",
     "output_type": "stream",
     "text": [
      "训练中:   7%|▋         | 46/699 [06:32<1:10:43,  6.50s/it, Loss=nan, Acc=0.4348]"
     ]
    },
    {
     "name": "stdout",
     "output_type": "stream",
     "text": [
      "🔍 融合特征维度: [2048, 128, 32, 32]\n",
      "✅ 特征融合成功: torch.Size([2, 2240]) -> torch.Size([2, 256])\n"
     ]
    },
    {
     "name": "stderr",
     "output_type": "stream",
     "text": [
      "训练中:   7%|▋         | 47/699 [06:38<1:09:32,  6.40s/it, Loss=nan, Acc=0.4362]"
     ]
    },
    {
     "name": "stdout",
     "output_type": "stream",
     "text": [
      "🔍 融合特征维度: [2048, 128, 32, 32]\n",
      "✅ 特征融合成功: torch.Size([2, 2240]) -> torch.Size([2, 256])\n"
     ]
    },
    {
     "name": "stderr",
     "output_type": "stream",
     "text": [
      "训练中:   7%|▋         | 48/699 [06:46<1:14:05,  6.83s/it, Loss=nan, Acc=0.4375]"
     ]
    },
    {
     "name": "stdout",
     "output_type": "stream",
     "text": [
      "🔍 融合特征维度: [2048, 128, 32, 32]\n",
      "✅ 特征融合成功: torch.Size([2, 2240]) -> torch.Size([2, 256])\n"
     ]
    },
    {
     "name": "stderr",
     "output_type": "stream",
     "text": [
      "训练中:   7%|▋         | 49/699 [06:53<1:14:09,  6.85s/it, Loss=nan, Acc=0.4286]"
     ]
    },
    {
     "name": "stdout",
     "output_type": "stream",
     "text": [
      "🔍 融合特征维度: [2048, 128, 32, 32]\n",
      "✅ 特征融合成功: torch.Size([2, 2240]) -> torch.Size([2, 256])\n"
     ]
    },
    {
     "name": "stderr",
     "output_type": "stream",
     "text": [
      "训练中:   7%|▋         | 50/699 [07:09<1:44:46,  9.69s/it, Loss=nan, Acc=0.4400]"
     ]
    },
    {
     "name": "stdout",
     "output_type": "stream",
     "text": [
      "🔍 融合特征维度: [2048, 128, 32, 32]\n",
      "✅ 特征融合成功: torch.Size([2, 2240]) -> torch.Size([2, 256])\n"
     ]
    },
    {
     "name": "stderr",
     "output_type": "stream",
     "text": [
      "训练中:   7%|▋         | 51/699 [07:21<1:51:46, 10.35s/it, Loss=nan, Acc=0.4412]"
     ]
    },
    {
     "name": "stdout",
     "output_type": "stream",
     "text": [
      "🔍 融合特征维度: [2048, 128, 32, 32]\n",
      "✅ 特征融合成功: torch.Size([2, 2240]) -> torch.Size([2, 256])\n"
     ]
    },
    {
     "name": "stderr",
     "output_type": "stream",
     "text": [
      "训练中:   7%|▋         | 52/699 [07:32<1:53:04, 10.49s/it, Loss=nan, Acc=0.4423]"
     ]
    },
    {
     "name": "stdout",
     "output_type": "stream",
     "text": [
      "🔍 融合特征维度: [2048, 128, 32, 32]\n",
      "✅ 特征融合成功: torch.Size([2, 2240]) -> torch.Size([2, 256])\n"
     ]
    },
    {
     "name": "stderr",
     "output_type": "stream",
     "text": [
      "训练中:   8%|▊         | 53/699 [07:38<1:38:33,  9.15s/it, Loss=nan, Acc=0.4434]"
     ]
    },
    {
     "name": "stdout",
     "output_type": "stream",
     "text": [
      "🔍 融合特征维度: [2048, 128, 32, 32]\n",
      "✅ 特征融合成功: torch.Size([2, 2240]) -> torch.Size([2, 256])\n"
     ]
    },
    {
     "name": "stderr",
     "output_type": "stream",
     "text": [
      "训练中:   8%|▊         | 54/699 [07:47<1:36:17,  8.96s/it, Loss=nan, Acc=0.4444]"
     ]
    },
    {
     "name": "stdout",
     "output_type": "stream",
     "text": [
      "🔍 融合特征维度: [2048, 128, 32, 32]\n",
      "✅ 特征融合成功: torch.Size([2, 2240]) -> torch.Size([2, 256])\n"
     ]
    },
    {
     "name": "stderr",
     "output_type": "stream",
     "text": [
      "训练中:   8%|▊         | 55/699 [07:51<1:20:43,  7.52s/it, Loss=nan, Acc=0.4455]"
     ]
    },
    {
     "name": "stdout",
     "output_type": "stream",
     "text": [
      "🔍 融合特征维度: [2048, 128, 32, 32]\n",
      "✅ 特征融合成功: torch.Size([2, 2240]) -> torch.Size([2, 256])\n"
     ]
    },
    {
     "name": "stderr",
     "output_type": "stream",
     "text": [
      "训练中:   8%|▊         | 56/699 [07:59<1:23:18,  7.77s/it, Loss=nan, Acc=0.4375]"
     ]
    },
    {
     "name": "stdout",
     "output_type": "stream",
     "text": [
      "🔍 融合特征维度: [2048, 128, 32, 32]\n",
      "✅ 特征融合成功: torch.Size([2, 2240]) -> torch.Size([2, 256])\n"
     ]
    },
    {
     "name": "stderr",
     "output_type": "stream",
     "text": [
      "训练中:   8%|▊         | 57/699 [08:08<1:27:35,  8.19s/it, Loss=nan, Acc=0.4474]"
     ]
    },
    {
     "name": "stdout",
     "output_type": "stream",
     "text": [
      "🔍 融合特征维度: [2048, 128, 32, 32]\n",
      "✅ 特征融合成功: torch.Size([2, 2240]) -> torch.Size([2, 256])\n"
     ]
    },
    {
     "name": "stderr",
     "output_type": "stream",
     "text": [
      "训练中:   8%|▊         | 58/699 [08:13<1:15:48,  7.10s/it, Loss=nan, Acc=0.4397]"
     ]
    },
    {
     "name": "stdout",
     "output_type": "stream",
     "text": [
      "🔍 融合特征维度: [2048, 128, 32, 32]\n",
      "✅ 特征融合成功: torch.Size([2, 2240]) -> torch.Size([2, 256])\n"
     ]
    },
    {
     "name": "stderr",
     "output_type": "stream",
     "text": [
      "训练中:   8%|▊         | 59/699 [08:21<1:19:33,  7.46s/it, Loss=nan, Acc=0.4407]"
     ]
    },
    {
     "name": "stdout",
     "output_type": "stream",
     "text": [
      "🔍 融合特征维度: [2048, 128, 32, 32]\n",
      "✅ 特征融合成功: torch.Size([2, 2240]) -> torch.Size([2, 256])\n"
     ]
    },
    {
     "name": "stderr",
     "output_type": "stream",
     "text": [
      "训练中:   9%|▊         | 60/699 [08:26<1:12:23,  6.80s/it, Loss=nan, Acc=0.4417]"
     ]
    },
    {
     "name": "stdout",
     "output_type": "stream",
     "text": [
      "🔍 融合特征维度: [2048, 128, 32, 32]\n",
      "✅ 特征融合成功: torch.Size([2, 2240]) -> torch.Size([2, 256])\n"
     ]
    },
    {
     "name": "stderr",
     "output_type": "stream",
     "text": [
      "训练中:   9%|▊         | 61/699 [08:38<1:25:53,  8.08s/it, Loss=nan, Acc=0.4344]"
     ]
    },
    {
     "name": "stdout",
     "output_type": "stream",
     "text": [
      "🔍 融合特征维度: [2048, 128, 32, 32]\n",
      "✅ 特征融合成功: torch.Size([2, 2240]) -> torch.Size([2, 256])\n"
     ]
    },
    {
     "name": "stderr",
     "output_type": "stream",
     "text": [
      "训练中:   9%|▉         | 62/699 [08:49<1:36:02,  9.05s/it, Loss=nan, Acc=0.4355]"
     ]
    },
    {
     "name": "stdout",
     "output_type": "stream",
     "text": [
      "🔍 融合特征维度: [2048, 128, 32, 32]\n",
      "✅ 特征融合成功: torch.Size([2, 2240]) -> torch.Size([2, 256])\n"
     ]
    },
    {
     "name": "stderr",
     "output_type": "stream",
     "text": [
      "训练中:   9%|▉         | 63/699 [09:05<1:58:18, 11.16s/it, Loss=nan, Acc=0.4444]"
     ]
    },
    {
     "name": "stdout",
     "output_type": "stream",
     "text": [
      "🔍 融合特征维度: [2048, 128, 32, 32]\n",
      "✅ 特征融合成功: torch.Size([2, 2240]) -> torch.Size([2, 256])\n"
     ]
    },
    {
     "name": "stderr",
     "output_type": "stream",
     "text": [
      "训练中:   9%|▉         | 64/699 [09:16<1:59:17, 11.27s/it, Loss=nan, Acc=0.4531]"
     ]
    },
    {
     "name": "stdout",
     "output_type": "stream",
     "text": [
      "🔍 融合特征维度: [2048, 128, 32, 32]\n",
      "✅ 特征融合成功: torch.Size([2, 2240]) -> torch.Size([2, 256])\n"
     ]
    },
    {
     "name": "stderr",
     "output_type": "stream",
     "text": [
      "训练中:   9%|▉         | 65/699 [09:24<1:45:47, 10.01s/it, Loss=nan, Acc=0.4462]"
     ]
    },
    {
     "name": "stdout",
     "output_type": "stream",
     "text": [
      "🔍 融合特征维度: [2048, 128, 32, 32]\n",
      "✅ 特征融合成功: torch.Size([2, 2240]) -> torch.Size([2, 256])\n"
     ]
    },
    {
     "name": "stderr",
     "output_type": "stream",
     "text": [
      "训练中:   9%|▉         | 66/699 [09:29<1:30:05,  8.54s/it, Loss=nan, Acc=0.4470]"
     ]
    },
    {
     "name": "stdout",
     "output_type": "stream",
     "text": [
      "🔍 融合特征维度: [2048, 128, 32, 32]\n",
      "✅ 特征融合成功: torch.Size([2, 2240]) -> torch.Size([2, 256])\n"
     ]
    },
    {
     "name": "stderr",
     "output_type": "stream",
     "text": [
      "训练中:  10%|▉         | 67/699 [09:43<1:49:23, 10.38s/it, Loss=nan, Acc=0.4403]"
     ]
    },
    {
     "name": "stdout",
     "output_type": "stream",
     "text": [
      "🔍 融合特征维度: [2048, 128, 32, 32]\n",
      "✅ 特征融合成功: torch.Size([2, 2240]) -> torch.Size([2, 256])\n"
     ]
    },
    {
     "name": "stderr",
     "output_type": "stream",
     "text": [
      "训练中:  10%|▉         | 68/699 [09:49<1:32:45,  8.82s/it, Loss=nan, Acc=0.4338]"
     ]
    },
    {
     "name": "stdout",
     "output_type": "stream",
     "text": [
      "🔍 融合特征维度: [2048, 128, 32, 32]\n",
      "✅ 特征融合成功: torch.Size([2, 2240]) -> torch.Size([2, 256])\n"
     ]
    },
    {
     "name": "stderr",
     "output_type": "stream",
     "text": [
      "训练中:  10%|▉         | 69/699 [10:03<1:50:40, 10.54s/it, Loss=nan, Acc=0.4348]"
     ]
    },
    {
     "name": "stdout",
     "output_type": "stream",
     "text": [
      "🔍 融合特征维度: [2048, 128, 32, 32]\n",
      "✅ 特征融合成功: torch.Size([2, 2240]) -> torch.Size([2, 256])\n"
     ]
    },
    {
     "name": "stderr",
     "output_type": "stream",
     "text": [
      "训练中:  10%|█         | 70/699 [10:18<2:04:57, 11.92s/it, Loss=nan, Acc=0.4357]"
     ]
    },
    {
     "name": "stdout",
     "output_type": "stream",
     "text": [
      "🔍 融合特征维度: [2048, 128, 32, 32]\n",
      "✅ 特征融合成功: torch.Size([2, 2240]) -> torch.Size([2, 256])\n"
     ]
    },
    {
     "name": "stderr",
     "output_type": "stream",
     "text": [
      "训练中:  10%|█         | 71/699 [10:33<2:14:14, 12.83s/it, Loss=nan, Acc=0.4437]"
     ]
    },
    {
     "name": "stdout",
     "output_type": "stream",
     "text": [
      "🔍 融合特征维度: [2048, 128, 32, 32]\n",
      "✅ 特征融合成功: torch.Size([2, 2240]) -> torch.Size([2, 256])\n"
     ]
    },
    {
     "name": "stderr",
     "output_type": "stream",
     "text": [
      "训练中:  10%|█         | 72/699 [10:45<2:10:11, 12.46s/it, Loss=nan, Acc=0.4514]"
     ]
    },
    {
     "name": "stdout",
     "output_type": "stream",
     "text": [
      "🔍 融合特征维度: [2048, 128, 32, 32]\n",
      "✅ 特征融合成功: torch.Size([2, 2240]) -> torch.Size([2, 256])\n"
     ]
    },
    {
     "name": "stderr",
     "output_type": "stream",
     "text": [
      "训练中:  10%|█         | 73/699 [10:51<1:49:31, 10.50s/it, Loss=nan, Acc=0.4452]"
     ]
    },
    {
     "name": "stdout",
     "output_type": "stream",
     "text": [
      "🔍 融合特征维度: [2048, 128, 32, 32]\n",
      "✅ 特征融合成功: torch.Size([2, 2240]) -> torch.Size([2, 256])\n"
     ]
    },
    {
     "name": "stderr",
     "output_type": "stream",
     "text": [
      "训练中:  11%|█         | 74/699 [11:03<1:54:25, 10.98s/it, Loss=nan, Acc=0.4392]"
     ]
    },
    {
     "name": "stdout",
     "output_type": "stream",
     "text": [
      "🔍 融合特征维度: [2048, 128, 32, 32]\n",
      "✅ 特征融合成功: torch.Size([2, 2240]) -> torch.Size([2, 256])\n"
     ]
    },
    {
     "name": "stderr",
     "output_type": "stream",
     "text": [
      "训练中:  11%|█         | 75/699 [11:26<2:30:55, 14.51s/it, Loss=nan, Acc=0.4467]"
     ]
    },
    {
     "name": "stdout",
     "output_type": "stream",
     "text": [
      "🔍 融合特征维度: [2048, 128, 32, 32]\n",
      "✅ 特征融合成功: torch.Size([2, 2240]) -> torch.Size([2, 256])\n"
     ]
    },
    {
     "name": "stderr",
     "output_type": "stream",
     "text": [
      "训练中:  11%|█         | 76/699 [11:34<2:11:33, 12.67s/it, Loss=nan, Acc=0.4474]"
     ]
    },
    {
     "name": "stdout",
     "output_type": "stream",
     "text": [
      "🔍 融合特征维度: [2048, 128, 32, 32]\n",
      "✅ 特征融合成功: torch.Size([2, 2240]) -> torch.Size([2, 256])\n"
     ]
    },
    {
     "name": "stderr",
     "output_type": "stream",
     "text": [
      "训练中:  11%|█         | 77/699 [11:42<1:56:35, 11.25s/it, Loss=nan, Acc=0.4481]"
     ]
    },
    {
     "name": "stdout",
     "output_type": "stream",
     "text": [
      "🔍 融合特征维度: [2048, 128, 32, 32]\n",
      "✅ 特征融合成功: torch.Size([2, 2240]) -> torch.Size([2, 256])\n"
     ]
    },
    {
     "name": "stderr",
     "output_type": "stream",
     "text": [
      "训练中:  11%|█         | 78/699 [11:56<2:06:37, 12.23s/it, Loss=nan, Acc=0.4487]"
     ]
    },
    {
     "name": "stdout",
     "output_type": "stream",
     "text": [
      "🔍 融合特征维度: [2048, 128, 32, 32]\n",
      "✅ 特征融合成功: torch.Size([2, 2240]) -> torch.Size([2, 256])\n"
     ]
    },
    {
     "name": "stderr",
     "output_type": "stream",
     "text": [
      "训练中:  11%|█▏        | 79/699 [12:00<1:39:05,  9.59s/it, Loss=nan, Acc=0.4494]"
     ]
    },
    {
     "name": "stdout",
     "output_type": "stream",
     "text": [
      "🔍 融合特征维度: [2048, 128, 32, 32]\n",
      "✅ 特征融合成功: torch.Size([2, 2240]) -> torch.Size([2, 256])\n"
     ]
    },
    {
     "name": "stderr",
     "output_type": "stream",
     "text": [
      "训练中:  11%|█▏        | 80/699 [12:05<1:23:57,  8.14s/it, Loss=nan, Acc=0.4500]"
     ]
    },
    {
     "name": "stdout",
     "output_type": "stream",
     "text": [
      "🔍 融合特征维度: [2048, 128, 32, 32]\n",
      "✅ 特征融合成功: torch.Size([2, 2240]) -> torch.Size([2, 256])\n"
     ]
    },
    {
     "name": "stderr",
     "output_type": "stream",
     "text": [
      "训练中:  12%|█▏        | 81/699 [12:32<2:23:56, 13.97s/it, Loss=nan, Acc=0.4568]"
     ]
    },
    {
     "name": "stdout",
     "output_type": "stream",
     "text": [
      "🔍 融合特征维度: [2048, 128, 32, 32]\n",
      "✅ 特征融合成功: torch.Size([2, 2240]) -> torch.Size([2, 256])\n"
     ]
    },
    {
     "name": "stderr",
     "output_type": "stream",
     "text": [
      "训练中:  12%|█▏        | 82/699 [12:37<1:54:41, 11.15s/it, Loss=nan, Acc=0.4634]"
     ]
    },
    {
     "name": "stdout",
     "output_type": "stream",
     "text": [
      "🔍 融合特征维度: [2048, 128, 32, 32]\n",
      "✅ 特征融合成功: torch.Size([2, 2240]) -> torch.Size([2, 256])\n"
     ]
    },
    {
     "name": "stderr",
     "output_type": "stream",
     "text": [
      "训练中:  12%|█▏        | 83/699 [12:42<1:36:03,  9.36s/it, Loss=nan, Acc=0.4639]"
     ]
    },
    {
     "name": "stdout",
     "output_type": "stream",
     "text": [
      "🔍 融合特征维度: [2048, 128, 32, 32]\n",
      "✅ 特征融合成功: torch.Size([2, 2240]) -> torch.Size([2, 256])\n"
     ]
    },
    {
     "name": "stderr",
     "output_type": "stream",
     "text": [
      "训练中:  12%|█▏        | 84/699 [12:46<1:21:20,  7.94s/it, Loss=nan, Acc=0.4643]"
     ]
    },
    {
     "name": "stdout",
     "output_type": "stream",
     "text": [
      "🔍 融合特征维度: [2048, 128, 32, 32]\n",
      "✅ 特征融合成功: torch.Size([2, 2240]) -> torch.Size([2, 256])\n"
     ]
    },
    {
     "name": "stderr",
     "output_type": "stream",
     "text": [
      "训练中:  12%|█▏        | 85/699 [12:54<1:18:59,  7.72s/it, Loss=nan, Acc=0.4647]"
     ]
    },
    {
     "name": "stdout",
     "output_type": "stream",
     "text": [
      "🔍 融合特征维度: [2048, 128, 32, 32]\n",
      "✅ 特征融合成功: torch.Size([2, 2240]) -> torch.Size([2, 256])\n"
     ]
    },
    {
     "name": "stderr",
     "output_type": "stream",
     "text": [
      "训练中:  12%|█▏        | 86/699 [12:57<1:06:32,  6.51s/it, Loss=nan, Acc=0.4651]"
     ]
    },
    {
     "name": "stdout",
     "output_type": "stream",
     "text": [
      "🔍 融合特征维度: [2048, 128, 32, 32]\n",
      "✅ 特征融合成功: torch.Size([2, 2240]) -> torch.Size([2, 256])\n"
     ]
    },
    {
     "name": "stderr",
     "output_type": "stream",
     "text": [
      "训练中:  12%|█▏        | 87/699 [13:13<1:35:28,  9.36s/it, Loss=nan, Acc=0.4713]"
     ]
    },
    {
     "name": "stdout",
     "output_type": "stream",
     "text": [
      "🔍 融合特征维度: [2048, 128, 32, 32]\n",
      "✅ 特征融合成功: torch.Size([2, 2240]) -> torch.Size([2, 256])\n"
     ]
    },
    {
     "name": "stderr",
     "output_type": "stream",
     "text": [
      "训练中:  13%|█▎        | 88/699 [13:18<1:21:19,  7.99s/it, Loss=nan, Acc=0.4773]"
     ]
    },
    {
     "name": "stdout",
     "output_type": "stream",
     "text": [
      "🔍 融合特征维度: [2048, 128, 32, 32]\n",
      "✅ 特征融合成功: torch.Size([2, 2240]) -> torch.Size([2, 256])\n"
     ]
    },
    {
     "name": "stderr",
     "output_type": "stream",
     "text": [
      "训练中:  13%|█▎        | 89/699 [13:29<1:30:04,  8.86s/it, Loss=nan, Acc=0.4775]"
     ]
    },
    {
     "name": "stdout",
     "output_type": "stream",
     "text": [
      "🔍 融合特征维度: [2048, 128, 32, 32]\n",
      "✅ 特征融合成功: torch.Size([2, 2240]) -> torch.Size([2, 256])\n"
     ]
    },
    {
     "name": "stderr",
     "output_type": "stream",
     "text": [
      "训练中:  13%|█▎        | 90/699 [13:45<1:51:51, 11.02s/it, Loss=nan, Acc=0.4722]"
     ]
    },
    {
     "name": "stdout",
     "output_type": "stream",
     "text": [
      "🔍 融合特征维度: [2048, 128, 32, 32]\n",
      "✅ 特征融合成功: torch.Size([2, 2240]) -> torch.Size([2, 256])\n"
     ]
    },
    {
     "name": "stderr",
     "output_type": "stream",
     "text": [
      "训练中:  13%|█▎        | 91/699 [13:52<1:40:12,  9.89s/it, Loss=nan, Acc=0.4725]"
     ]
    },
    {
     "name": "stdout",
     "output_type": "stream",
     "text": [
      "🔍 融合特征维度: [2048, 128, 32, 32]\n",
      "✅ 特征融合成功: torch.Size([2, 2240]) -> torch.Size([2, 256])\n"
     ]
    },
    {
     "name": "stderr",
     "output_type": "stream",
     "text": [
      "训练中:  13%|█▎        | 92/699 [13:58<1:26:20,  8.53s/it, Loss=nan, Acc=0.4728]"
     ]
    },
    {
     "name": "stdout",
     "output_type": "stream",
     "text": [
      "🔍 融合特征维度: [2048, 128, 32, 32]\n",
      "✅ 特征融合成功: torch.Size([2, 2240]) -> torch.Size([2, 256])\n"
     ]
    },
    {
     "name": "stderr",
     "output_type": "stream",
     "text": [
      "训练中:  13%|█▎        | 93/699 [14:07<1:28:04,  8.72s/it, Loss=nan, Acc=0.4785]"
     ]
    },
    {
     "name": "stdout",
     "output_type": "stream",
     "text": [
      "🔍 融合特征维度: [2048, 128, 32, 32]\n",
      "✅ 特征融合成功: torch.Size([2, 2240]) -> torch.Size([2, 256])\n"
     ]
    },
    {
     "name": "stderr",
     "output_type": "stream",
     "text": [
      "训练中:  13%|█▎        | 94/699 [14:25<1:55:31, 11.46s/it, Loss=nan, Acc=0.4787]"
     ]
    },
    {
     "name": "stdout",
     "output_type": "stream",
     "text": [
      "🔍 融合特征维度: [2048, 128, 32, 32]\n",
      "✅ 特征融合成功: torch.Size([2, 2240]) -> torch.Size([2, 256])\n"
     ]
    },
    {
     "name": "stderr",
     "output_type": "stream",
     "text": [
      "训练中:  14%|█▎        | 95/699 [14:31<1:38:35,  9.79s/it, Loss=nan, Acc=0.4789]"
     ]
    },
    {
     "name": "stdout",
     "output_type": "stream",
     "text": [
      "🔍 融合特征维度: [2048, 128, 32, 32]\n",
      "✅ 特征融合成功: torch.Size([2, 2240]) -> torch.Size([2, 256])\n"
     ]
    },
    {
     "name": "stderr",
     "output_type": "stream",
     "text": [
      "训练中:  14%|█▎        | 96/699 [14:47<1:56:48, 11.62s/it, Loss=nan, Acc=0.4792]"
     ]
    },
    {
     "name": "stdout",
     "output_type": "stream",
     "text": [
      "🔍 融合特征维度: [2048, 128, 32, 32]\n",
      "✅ 特征融合成功: torch.Size([2, 2240]) -> torch.Size([2, 256])\n"
     ]
    },
    {
     "name": "stderr",
     "output_type": "stream",
     "text": [
      "训练中:  14%|█▍        | 97/699 [14:53<1:41:53, 10.16s/it, Loss=nan, Acc=0.4794]"
     ]
    },
    {
     "name": "stdout",
     "output_type": "stream",
     "text": [
      "🔍 融合特征维度: [2048, 128, 32, 32]\n",
      "✅ 特征融合成功: torch.Size([2, 2240]) -> torch.Size([2, 256])\n"
     ]
    },
    {
     "name": "stderr",
     "output_type": "stream",
     "text": [
      "训练中:  14%|█▍        | 98/699 [14:59<1:29:22,  8.92s/it, Loss=nan, Acc=0.4796]"
     ]
    },
    {
     "name": "stdout",
     "output_type": "stream",
     "text": [
      "🔍 融合特征维度: [2048, 128, 32, 32]\n",
      "✅ 特征融合成功: torch.Size([2, 2240]) -> torch.Size([2, 256])\n"
     ]
    },
    {
     "name": "stderr",
     "output_type": "stream",
     "text": [
      "训练中:  14%|█▍        | 99/699 [15:14<1:46:53, 10.69s/it, Loss=nan, Acc=0.4798]"
     ]
    },
    {
     "name": "stdout",
     "output_type": "stream",
     "text": [
      "🔍 融合特征维度: [2048, 128, 32, 32]\n",
      "✅ 特征融合成功: torch.Size([2, 2240]) -> torch.Size([2, 256])\n"
     ]
    },
    {
     "name": "stderr",
     "output_type": "stream",
     "text": [
      "训练中:  14%|█▍        | 100/699 [15:29<1:57:58, 11.82s/it, Loss=nan, Acc=0.4850]"
     ]
    },
    {
     "name": "stdout",
     "output_type": "stream",
     "text": [
      "🔍 融合特征维度: [2048, 128, 32, 32]\n",
      "✅ 特征融合成功: torch.Size([2, 2240]) -> torch.Size([2, 256])\n"
     ]
    },
    {
     "name": "stderr",
     "output_type": "stream",
     "text": [
      "训练中:  14%|█▍        | 101/699 [15:45<2:12:32, 13.30s/it, Loss=nan, Acc=0.4851]"
     ]
    },
    {
     "name": "stdout",
     "output_type": "stream",
     "text": [
      "🔍 融合特征维度: [2048, 128, 32, 32]\n",
      "✅ 特征融合成功: torch.Size([2, 2240]) -> torch.Size([2, 256])\n"
     ]
    },
    {
     "name": "stderr",
     "output_type": "stream",
     "text": [
      "训练中:  15%|█▍        | 102/699 [15:50<1:46:45, 10.73s/it, Loss=nan, Acc=0.4853]"
     ]
    },
    {
     "name": "stdout",
     "output_type": "stream",
     "text": [
      "🔍 融合特征维度: [2048, 128, 32, 32]\n",
      "✅ 特征融合成功: torch.Size([2, 2240]) -> torch.Size([2, 256])\n"
     ]
    },
    {
     "name": "stderr",
     "output_type": "stream",
     "text": [
      "训练中:  15%|█▍        | 103/699 [15:59<1:39:46, 10.04s/it, Loss=nan, Acc=0.4903]"
     ]
    },
    {
     "name": "stdout",
     "output_type": "stream",
     "text": [
      "🔍 融合特征维度: [2048, 128, 32, 32]\n",
      "✅ 特征融合成功: torch.Size([2, 2240]) -> torch.Size([2, 256])\n"
     ]
    },
    {
     "name": "stderr",
     "output_type": "stream",
     "text": [
      "训练中:  15%|█▍        | 104/699 [16:03<1:22:57,  8.37s/it, Loss=nan, Acc=0.4904]"
     ]
    },
    {
     "name": "stdout",
     "output_type": "stream",
     "text": [
      "🔍 融合特征维度: [2048, 128, 32, 32]\n",
      "✅ 特征融合成功: torch.Size([2, 2240]) -> torch.Size([2, 256])\n"
     ]
    },
    {
     "name": "stderr",
     "output_type": "stream",
     "text": [
      "训练中:  15%|█▌        | 105/699 [16:11<1:20:56,  8.18s/it, Loss=nan, Acc=0.4905]"
     ]
    },
    {
     "name": "stdout",
     "output_type": "stream",
     "text": [
      "🔍 融合特征维度: [2048, 128, 32, 32]\n",
      "✅ 特征融合成功: torch.Size([2, 2240]) -> torch.Size([2, 256])\n"
     ]
    },
    {
     "name": "stderr",
     "output_type": "stream",
     "text": [
      "训练中:  15%|█▌        | 106/699 [16:23<1:33:00,  9.41s/it, Loss=nan, Acc=0.4953]"
     ]
    },
    {
     "name": "stdout",
     "output_type": "stream",
     "text": [
      "🔍 融合特征维度: [2048, 128, 32, 32]\n",
      "✅ 特征融合成功: torch.Size([2, 2240]) -> torch.Size([2, 256])\n"
     ]
    },
    {
     "name": "stderr",
     "output_type": "stream",
     "text": [
      "训练中:  15%|█▌        | 107/699 [16:31<1:29:04,  9.03s/it, Loss=nan, Acc=0.5000]"
     ]
    },
    {
     "name": "stdout",
     "output_type": "stream",
     "text": [
      "🔍 融合特征维度: [2048, 128, 32, 32]\n",
      "✅ 特征融合成功: torch.Size([2, 2240]) -> torch.Size([2, 256])\n"
     ]
    },
    {
     "name": "stderr",
     "output_type": "stream",
     "text": [
      "训练中:  15%|█▌        | 108/699 [16:51<2:00:58, 12.28s/it, Loss=nan, Acc=0.5046]"
     ]
    },
    {
     "name": "stdout",
     "output_type": "stream",
     "text": [
      "🔍 融合特征维度: [2048, 128, 32, 32]\n",
      "✅ 特征融合成功: torch.Size([2, 2240]) -> torch.Size([2, 256])\n"
     ]
    },
    {
     "name": "stderr",
     "output_type": "stream",
     "text": [
      "训练中:  16%|█▌        | 109/699 [17:05<2:05:24, 12.75s/it, Loss=nan, Acc=0.5046]"
     ]
    },
    {
     "name": "stdout",
     "output_type": "stream",
     "text": [
      "🔍 融合特征维度: [2048, 128, 32, 32]\n",
      "✅ 特征融合成功: torch.Size([2, 2240]) -> torch.Size([2, 256])\n"
     ]
    },
    {
     "name": "stderr",
     "output_type": "stream",
     "text": [
      "训练中:  16%|█▌        | 110/699 [17:08<1:37:40,  9.95s/it, Loss=nan, Acc=0.5091]"
     ]
    },
    {
     "name": "stdout",
     "output_type": "stream",
     "text": [
      "🔍 融合特征维度: [2048, 128, 32, 32]\n",
      "✅ 特征融合成功: torch.Size([2, 2240]) -> torch.Size([2, 256])\n"
     ]
    },
    {
     "name": "stderr",
     "output_type": "stream",
     "text": [
      "训练中:  16%|█▌        | 111/699 [17:16<1:30:55,  9.28s/it, Loss=nan, Acc=0.5090]"
     ]
    },
    {
     "name": "stdout",
     "output_type": "stream",
     "text": [
      "🔍 融合特征维度: [2048, 128, 32, 32]\n",
      "✅ 特征融合成功: torch.Size([2, 2240]) -> torch.Size([2, 256])\n"
     ]
    },
    {
     "name": "stderr",
     "output_type": "stream",
     "text": [
      "训练中:  16%|█▌        | 112/699 [17:33<1:52:33, 11.50s/it, Loss=nan, Acc=0.5089]"
     ]
    },
    {
     "name": "stdout",
     "output_type": "stream",
     "text": [
      "🔍 融合特征维度: [2048, 128, 32, 32]\n",
      "✅ 特征融合成功: torch.Size([2, 2240]) -> torch.Size([2, 256])\n"
     ]
    },
    {
     "name": "stderr",
     "output_type": "stream",
     "text": [
      "训练中:  16%|█▌        | 113/699 [17:50<2:10:39, 13.38s/it, Loss=nan, Acc=0.5088]"
     ]
    },
    {
     "name": "stdout",
     "output_type": "stream",
     "text": [
      "🔍 融合特征维度: [2048, 128, 32, 32]\n",
      "✅ 特征融合成功: torch.Size([2, 2240]) -> torch.Size([2, 256])\n"
     ]
    },
    {
     "name": "stderr",
     "output_type": "stream",
     "text": [
      "训练中:  16%|█▋        | 114/699 [18:01<2:02:12, 12.53s/it, Loss=nan, Acc=0.5088]"
     ]
    },
    {
     "name": "stdout",
     "output_type": "stream",
     "text": [
      "🔍 融合特征维度: [2048, 128, 32, 32]\n",
      "✅ 特征融合成功: torch.Size([2, 2240]) -> torch.Size([2, 256])\n"
     ]
    },
    {
     "name": "stderr",
     "output_type": "stream",
     "text": [
      "训练中:  16%|█▋        | 115/699 [18:07<1:43:13, 10.60s/it, Loss=nan, Acc=0.5043]"
     ]
    },
    {
     "name": "stdout",
     "output_type": "stream",
     "text": [
      "🔍 融合特征维度: [2048, 128, 32, 32]\n",
      "✅ 特征融合成功: torch.Size([2, 2240]) -> torch.Size([2, 256])\n"
     ]
    },
    {
     "name": "stderr",
     "output_type": "stream",
     "text": [
      "训练中:  17%|█▋        | 116/699 [18:13<1:28:03,  9.06s/it, Loss=nan, Acc=0.5086]"
     ]
    },
    {
     "name": "stdout",
     "output_type": "stream",
     "text": [
      "🔍 融合特征维度: [2048, 128, 32, 32]\n",
      "✅ 特征融合成功: torch.Size([2, 2240]) -> torch.Size([2, 256])\n"
     ]
    },
    {
     "name": "stderr",
     "output_type": "stream",
     "text": [
      "训练中:  17%|█▋        | 117/699 [18:22<1:28:56,  9.17s/it, Loss=nan, Acc=0.5085]"
     ]
    },
    {
     "name": "stdout",
     "output_type": "stream",
     "text": [
      "🔍 融合特征维度: [2048, 128, 32, 32]\n",
      "✅ 特征融合成功: torch.Size([2, 2240]) -> torch.Size([2, 256])\n"
     ]
    },
    {
     "name": "stderr",
     "output_type": "stream",
     "text": [
      "训练中:  17%|█▋        | 118/699 [18:25<1:11:16,  7.36s/it, Loss=nan, Acc=0.5127]"
     ]
    },
    {
     "name": "stdout",
     "output_type": "stream",
     "text": [
      "🔍 融合特征维度: [2048, 128, 32, 32]\n",
      "✅ 特征融合成功: torch.Size([2, 2240]) -> torch.Size([2, 256])\n"
     ]
    },
    {
     "name": "stderr",
     "output_type": "stream",
     "text": [
      "训练中:  17%|█▋        | 119/699 [18:32<1:09:18,  7.17s/it, Loss=nan, Acc=0.5168]"
     ]
    },
    {
     "name": "stdout",
     "output_type": "stream",
     "text": [
      "🔍 融合特征维度: [2048, 128, 32, 32]\n",
      "✅ 特征融合成功: torch.Size([2, 2240]) -> torch.Size([2, 256])\n"
     ]
    },
    {
     "name": "stderr",
     "output_type": "stream",
     "text": [
      "训练中:  17%|█▋        | 120/699 [18:39<1:08:48,  7.13s/it, Loss=nan, Acc=0.5167]"
     ]
    },
    {
     "name": "stdout",
     "output_type": "stream",
     "text": [
      "🔍 融合特征维度: [2048, 128, 32, 32]\n",
      "✅ 特征融合成功: torch.Size([2, 2240]) -> torch.Size([2, 256])\n"
     ]
    },
    {
     "name": "stderr",
     "output_type": "stream",
     "text": [
      "训练中:  17%|█▋        | 121/699 [18:45<1:06:14,  6.88s/it, Loss=nan, Acc=0.5165]"
     ]
    },
    {
     "name": "stdout",
     "output_type": "stream",
     "text": [
      "🔍 融合特征维度: [2048, 128, 32, 32]\n",
      "✅ 特征融合成功: torch.Size([2, 2240]) -> torch.Size([2, 256])\n"
     ]
    },
    {
     "name": "stderr",
     "output_type": "stream",
     "text": [
      "训练中:  17%|█▋        | 122/699 [18:51<1:02:58,  6.55s/it, Loss=nan, Acc=0.5123]"
     ]
    },
    {
     "name": "stdout",
     "output_type": "stream",
     "text": [
      "🔍 融合特征维度: [2048, 128, 32, 32]\n",
      "✅ 特征融合成功: torch.Size([2, 2240]) -> torch.Size([2, 256])\n"
     ]
    },
    {
     "name": "stderr",
     "output_type": "stream",
     "text": [
      "训练中:  18%|█▊        | 123/699 [19:00<1:09:39,  7.26s/it, Loss=nan, Acc=0.5081]"
     ]
    },
    {
     "name": "stdout",
     "output_type": "stream",
     "text": [
      "🔍 融合特征维度: [2048, 128, 32, 32]\n",
      "✅ 特征融合成功: torch.Size([2, 2240]) -> torch.Size([2, 256])\n"
     ]
    },
    {
     "name": "stderr",
     "output_type": "stream",
     "text": [
      "训练中:  18%|█▊        | 124/699 [19:09<1:15:15,  7.85s/it, Loss=nan, Acc=0.5081]"
     ]
    },
    {
     "name": "stdout",
     "output_type": "stream",
     "text": [
      "🔍 融合特征维度: [2048, 128, 32, 32]\n",
      "✅ 特征融合成功: torch.Size([2, 2240]) -> torch.Size([2, 256])\n"
     ]
    },
    {
     "name": "stderr",
     "output_type": "stream",
     "text": [
      "训练中:  18%|█▊        | 125/699 [19:22<1:29:57,  9.40s/it, Loss=nan, Acc=0.5040]"
     ]
    },
    {
     "name": "stdout",
     "output_type": "stream",
     "text": [
      "🔍 融合特征维度: [2048, 128, 32, 32]\n",
      "✅ 特征融合成功: torch.Size([2, 2240]) -> torch.Size([2, 256])\n"
     ]
    },
    {
     "name": "stderr",
     "output_type": "stream",
     "text": [
      "训练中:  18%|█▊        | 126/699 [19:39<1:51:52, 11.71s/it, Loss=nan, Acc=0.5040]"
     ]
    },
    {
     "name": "stdout",
     "output_type": "stream",
     "text": [
      "🔍 融合特征维度: [2048, 128, 32, 32]\n",
      "✅ 特征融合成功: torch.Size([2, 2240]) -> torch.Size([2, 256])\n"
     ]
    },
    {
     "name": "stderr",
     "output_type": "stream",
     "text": [
      "训练中:  18%|█▊        | 127/699 [19:56<2:06:47, 13.30s/it, Loss=nan, Acc=0.5039]"
     ]
    },
    {
     "name": "stdout",
     "output_type": "stream",
     "text": [
      "🔍 融合特征维度: [2048, 128, 32, 32]\n",
      "✅ 特征融合成功: torch.Size([2, 2240]) -> torch.Size([2, 256])\n"
     ]
    },
    {
     "name": "stderr",
     "output_type": "stream",
     "text": [
      "训练中:  18%|█▊        | 128/699 [20:02<1:44:42, 11.00s/it, Loss=nan, Acc=0.5039]"
     ]
    },
    {
     "name": "stdout",
     "output_type": "stream",
     "text": [
      "🔍 融合特征维度: [2048, 128, 32, 32]\n",
      "✅ 特征融合成功: torch.Size([2, 2240]) -> torch.Size([2, 256])\n"
     ]
    },
    {
     "name": "stderr",
     "output_type": "stream",
     "text": [
      "训练中:  18%|█▊        | 129/699 [20:10<1:36:21, 10.14s/it, Loss=nan, Acc=0.5039]"
     ]
    },
    {
     "name": "stdout",
     "output_type": "stream",
     "text": [
      "🔍 融合特征维度: [2048, 128, 32, 32]\n",
      "✅ 特征融合成功: torch.Size([2, 2240]) -> torch.Size([2, 256])\n"
     ]
    },
    {
     "name": "stderr",
     "output_type": "stream",
     "text": [
      "训练中:  19%|█▊        | 130/699 [20:14<1:18:30,  8.28s/it, Loss=nan, Acc=0.5077]"
     ]
    },
    {
     "name": "stdout",
     "output_type": "stream",
     "text": [
      "🔍 融合特征维度: [2048, 128, 32, 32]\n",
      "✅ 特征融合成功: torch.Size([2, 2240]) -> torch.Size([2, 256])\n"
     ]
    },
    {
     "name": "stderr",
     "output_type": "stream",
     "text": [
      "训练中:  19%|█▊        | 131/699 [20:21<1:13:58,  7.81s/it, Loss=nan, Acc=0.5076]"
     ]
    },
    {
     "name": "stdout",
     "output_type": "stream",
     "text": [
      "🔍 融合特征维度: [2048, 128, 32, 32]\n",
      "✅ 特征融合成功: torch.Size([2, 2240]) -> torch.Size([2, 256])\n"
     ]
    },
    {
     "name": "stderr",
     "output_type": "stream",
     "text": [
      "训练中:  19%|█▉        | 132/699 [20:31<1:21:59,  8.68s/it, Loss=nan, Acc=0.5114]"
     ]
    },
    {
     "name": "stdout",
     "output_type": "stream",
     "text": [
      "🔍 融合特征维度: [2048, 128, 32, 32]\n",
      "✅ 特征融合成功: torch.Size([2, 2240]) -> torch.Size([2, 256])\n"
     ]
    },
    {
     "name": "stderr",
     "output_type": "stream",
     "text": [
      "训练中:  19%|█▉        | 133/699 [20:39<1:18:31,  8.32s/it, Loss=nan, Acc=0.5150]"
     ]
    },
    {
     "name": "stdout",
     "output_type": "stream",
     "text": [
      "🔍 融合特征维度: [2048, 128, 32, 32]\n",
      "✅ 特征融合成功: torch.Size([2, 2240]) -> torch.Size([2, 256])\n"
     ]
    },
    {
     "name": "stderr",
     "output_type": "stream",
     "text": [
      "训练中:  19%|█▉        | 134/699 [20:43<1:05:49,  6.99s/it, Loss=nan, Acc=0.5149]"
     ]
    },
    {
     "name": "stdout",
     "output_type": "stream",
     "text": [
      "🔍 融合特征维度: [2048, 128, 32, 32]\n",
      "✅ 特征融合成功: torch.Size([2, 2240]) -> torch.Size([2, 256])\n"
     ]
    },
    {
     "name": "stderr",
     "output_type": "stream",
     "text": [
      "训练中:  19%|█▉        | 135/699 [20:46<56:19,  5.99s/it, Loss=nan, Acc=0.5185]  "
     ]
    },
    {
     "name": "stdout",
     "output_type": "stream",
     "text": [
      "🔍 融合特征维度: [2048, 128, 32, 32]\n",
      "✅ 特征融合成功: torch.Size([2, 2240]) -> torch.Size([2, 256])\n"
     ]
    },
    {
     "name": "stderr",
     "output_type": "stream",
     "text": [
      "训练中:  19%|█▉        | 136/699 [21:00<1:17:03,  8.21s/it, Loss=nan, Acc=0.5184]"
     ]
    },
    {
     "name": "stdout",
     "output_type": "stream",
     "text": [
      "🔍 融合特征维度: [2048, 128, 32, 32]\n",
      "✅ 特征融合成功: torch.Size([2, 2240]) -> torch.Size([2, 256])\n"
     ]
    },
    {
     "name": "stderr",
     "output_type": "stream",
     "text": [
      "训练中:  20%|█▉        | 137/699 [21:06<1:10:41,  7.55s/it, Loss=nan, Acc=0.5146]"
     ]
    },
    {
     "name": "stdout",
     "output_type": "stream",
     "text": [
      "🔍 融合特征维度: [2048, 128, 32, 32]\n",
      "✅ 特征融合成功: torch.Size([2, 2240]) -> torch.Size([2, 256])\n"
     ]
    },
    {
     "name": "stderr",
     "output_type": "stream",
     "text": [
      "训练中:  20%|█▉        | 138/699 [21:24<1:40:48, 10.78s/it, Loss=nan, Acc=0.5145]"
     ]
    },
    {
     "name": "stdout",
     "output_type": "stream",
     "text": [
      "🔍 融合特征维度: [2048, 128, 32, 32]\n",
      "✅ 特征融合成功: torch.Size([2, 2240]) -> torch.Size([2, 256])\n"
     ]
    },
    {
     "name": "stderr",
     "output_type": "stream",
     "text": [
      "训练中:  20%|█▉        | 139/699 [21:41<1:56:28, 12.48s/it, Loss=nan, Acc=0.5108]"
     ]
    },
    {
     "name": "stdout",
     "output_type": "stream",
     "text": [
      "🔍 融合特征维度: [2048, 128, 32, 32]\n",
      "✅ 特征融合成功: torch.Size([2, 2240]) -> torch.Size([2, 256])\n"
     ]
    },
    {
     "name": "stderr",
     "output_type": "stream",
     "text": [
      "训练中:  20%|██        | 140/699 [21:54<1:57:45, 12.64s/it, Loss=nan, Acc=0.5107]"
     ]
    },
    {
     "name": "stdout",
     "output_type": "stream",
     "text": [
      "🔍 融合特征维度: [2048, 128, 32, 32]\n",
      "✅ 特征融合成功: torch.Size([2, 2240]) -> torch.Size([2, 256])\n"
     ]
    },
    {
     "name": "stderr",
     "output_type": "stream",
     "text": [
      "训练中:  20%|██        | 141/699 [22:09<2:06:18, 13.58s/it, Loss=nan, Acc=0.5106]"
     ]
    },
    {
     "name": "stdout",
     "output_type": "stream",
     "text": [
      "🔍 融合特征维度: [2048, 128, 32, 32]\n",
      "✅ 特征融合成功: torch.Size([2, 2240]) -> torch.Size([2, 256])\n"
     ]
    },
    {
     "name": "stderr",
     "output_type": "stream",
     "text": [
      "训练中:  20%|██        | 142/699 [22:19<1:56:10, 12.51s/it, Loss=nan, Acc=0.5106]"
     ]
    },
    {
     "name": "stdout",
     "output_type": "stream",
     "text": [
      "🔍 融合特征维度: [2048, 128, 32, 32]\n",
      "✅ 特征融合成功: torch.Size([2, 2240]) -> torch.Size([2, 256])\n"
     ]
    },
    {
     "name": "stderr",
     "output_type": "stream",
     "text": [
      "训练中:  20%|██        | 143/699 [22:29<1:47:19, 11.58s/it, Loss=nan, Acc=0.5105]"
     ]
    },
    {
     "name": "stdout",
     "output_type": "stream",
     "text": [
      "🔍 融合特征维度: [2048, 128, 32, 32]\n",
      "✅ 特征融合成功: torch.Size([2, 2240]) -> torch.Size([2, 256])\n"
     ]
    },
    {
     "name": "stderr",
     "output_type": "stream",
     "text": [
      "训练中:  21%|██        | 144/699 [22:45<1:59:40, 12.94s/it, Loss=nan, Acc=0.5104]"
     ]
    },
    {
     "name": "stdout",
     "output_type": "stream",
     "text": [
      "🔍 融合特征维度: [2048, 128, 32, 32]\n",
      "✅ 特征融合成功: torch.Size([2, 2240]) -> torch.Size([2, 256])\n"
     ]
    },
    {
     "name": "stderr",
     "output_type": "stream",
     "text": [
      "训练中:  21%|██        | 145/699 [22:53<1:45:21, 11.41s/it, Loss=nan, Acc=0.5138]"
     ]
    },
    {
     "name": "stdout",
     "output_type": "stream",
     "text": [
      "🔍 融合特征维度: [2048, 128, 32, 32]\n",
      "✅ 特征融合成功: torch.Size([2, 2240]) -> torch.Size([2, 256])\n"
     ]
    },
    {
     "name": "stderr",
     "output_type": "stream",
     "text": [
      "训练中:  21%|██        | 146/699 [22:59<1:31:03,  9.88s/it, Loss=nan, Acc=0.5137]"
     ]
    },
    {
     "name": "stdout",
     "output_type": "stream",
     "text": [
      "🔍 融合特征维度: [2048, 128, 32, 32]\n",
      "✅ 特征融合成功: torch.Size([2, 2240]) -> torch.Size([2, 256])\n"
     ]
    },
    {
     "name": "stderr",
     "output_type": "stream",
     "text": [
      "训练中:  21%|██        | 147/699 [23:07<1:26:24,  9.39s/it, Loss=nan, Acc=0.5102]"
     ]
    },
    {
     "name": "stdout",
     "output_type": "stream",
     "text": [
      "🔍 融合特征维度: [2048, 128, 32, 32]\n",
      "✅ 特征融合成功: torch.Size([2, 2240]) -> torch.Size([2, 256])\n"
     ]
    },
    {
     "name": "stderr",
     "output_type": "stream",
     "text": [
      "训练中:  21%|██        | 148/699 [23:19<1:33:01, 10.13s/it, Loss=nan, Acc=0.5101]"
     ]
    },
    {
     "name": "stdout",
     "output_type": "stream",
     "text": [
      "🔍 融合特征维度: [2048, 128, 32, 32]\n",
      "✅ 特征融合成功: torch.Size([2, 2240]) -> torch.Size([2, 256])\n"
     ]
    },
    {
     "name": "stderr",
     "output_type": "stream",
     "text": [
      "训练中:  21%|██▏       | 149/699 [23:35<1:47:45, 11.76s/it, Loss=nan, Acc=0.5067]"
     ]
    },
    {
     "name": "stdout",
     "output_type": "stream",
     "text": [
      "🔍 融合特征维度: [2048, 128, 32, 32]\n",
      "✅ 特征融合成功: torch.Size([2, 2240]) -> torch.Size([2, 256])\n"
     ]
    },
    {
     "name": "stderr",
     "output_type": "stream",
     "text": [
      "训练中:  21%|██▏       | 150/699 [23:41<1:33:41, 10.24s/it, Loss=nan, Acc=0.5100]"
     ]
    },
    {
     "name": "stdout",
     "output_type": "stream",
     "text": [
      "🔍 融合特征维度: [2048, 128, 32, 32]\n",
      "✅ 特征融合成功: torch.Size([2, 2240]) -> torch.Size([2, 256])\n"
     ]
    },
    {
     "name": "stderr",
     "output_type": "stream",
     "text": [
      "训练中:  22%|██▏       | 151/699 [23:46<1:16:56,  8.42s/it, Loss=nan, Acc=0.5099]"
     ]
    },
    {
     "name": "stdout",
     "output_type": "stream",
     "text": [
      "🔍 融合特征维度: [2048, 128, 32, 32]\n",
      "✅ 特征融合成功: torch.Size([2, 2240]) -> torch.Size([2, 256])\n"
     ]
    },
    {
     "name": "stderr",
     "output_type": "stream",
     "text": [
      "训练中:  22%|██▏       | 152/699 [23:53<1:13:24,  8.05s/it, Loss=nan, Acc=0.5099]"
     ]
    },
    {
     "name": "stdout",
     "output_type": "stream",
     "text": [
      "🔍 融合特征维度: [2048, 128, 32, 32]\n",
      "✅ 特征融合成功: torch.Size([2, 2240]) -> torch.Size([2, 256])\n"
     ]
    },
    {
     "name": "stderr",
     "output_type": "stream",
     "text": [
      "训练中:  22%|██▏       | 153/699 [24:00<1:10:09,  7.71s/it, Loss=nan, Acc=0.5098]"
     ]
    },
    {
     "name": "stdout",
     "output_type": "stream",
     "text": [
      "🔍 融合特征维度: [2048, 128, 32, 32]\n",
      "✅ 特征融合成功: torch.Size([2, 2240]) -> torch.Size([2, 256])\n"
     ]
    },
    {
     "name": "stderr",
     "output_type": "stream",
     "text": [
      "训练中:  22%|██▏       | 154/699 [24:04<1:00:54,  6.71s/it, Loss=nan, Acc=0.5097]"
     ]
    },
    {
     "name": "stdout",
     "output_type": "stream",
     "text": [
      "🔍 融合特征维度: [2048, 128, 32, 32]\n",
      "✅ 特征融合成功: torch.Size([2, 2240]) -> torch.Size([2, 256])\n"
     ]
    },
    {
     "name": "stderr",
     "output_type": "stream",
     "text": [
      "训练中:  22%|██▏       | 155/699 [24:14<1:08:41,  7.58s/it, Loss=nan, Acc=0.5097]"
     ]
    },
    {
     "name": "stdout",
     "output_type": "stream",
     "text": [
      "🔍 融合特征维度: [2048, 128, 32, 32]\n",
      "✅ 特征融合成功: torch.Size([2, 2240]) -> torch.Size([2, 256])\n"
     ]
    },
    {
     "name": "stderr",
     "output_type": "stream",
     "text": [
      "训练中:  22%|██▏       | 156/699 [24:24<1:17:03,  8.51s/it, Loss=nan, Acc=0.5064]"
     ]
    },
    {
     "name": "stdout",
     "output_type": "stream",
     "text": [
      "🔍 融合特征维度: [2048, 128, 32, 32]\n",
      "✅ 特征融合成功: torch.Size([2, 2240]) -> torch.Size([2, 256])\n"
     ]
    },
    {
     "name": "stderr",
     "output_type": "stream",
     "text": [
      "训练中:  22%|██▏       | 157/699 [24:36<1:25:40,  9.48s/it, Loss=nan, Acc=0.5064]"
     ]
    },
    {
     "name": "stdout",
     "output_type": "stream",
     "text": [
      "🔍 融合特征维度: [2048, 128, 32, 32]\n",
      "✅ 特征融合成功: torch.Size([2, 2240]) -> torch.Size([2, 256])\n"
     ]
    },
    {
     "name": "stderr",
     "output_type": "stream",
     "text": [
      "训练中:  23%|██▎       | 158/699 [24:50<1:37:43, 10.84s/it, Loss=nan, Acc=0.5063]"
     ]
    },
    {
     "name": "stdout",
     "output_type": "stream",
     "text": [
      "🔍 融合特征维度: [2048, 128, 32, 32]\n",
      "✅ 特征融合成功: torch.Size([2, 2240]) -> torch.Size([2, 256])\n"
     ]
    },
    {
     "name": "stderr",
     "output_type": "stream",
     "text": [
      "训练中:  23%|██▎       | 159/699 [24:54<1:19:52,  8.88s/it, Loss=nan, Acc=0.5063]"
     ]
    },
    {
     "name": "stdout",
     "output_type": "stream",
     "text": [
      "🔍 融合特征维度: [2048, 128, 32, 32]\n",
      "✅ 特征融合成功: torch.Size([2, 2240]) -> torch.Size([2, 256])\n"
     ]
    },
    {
     "name": "stderr",
     "output_type": "stream",
     "text": [
      "训练中:  23%|██▎       | 160/699 [25:14<1:48:31, 12.08s/it, Loss=nan, Acc=0.5094]"
     ]
    },
    {
     "name": "stdout",
     "output_type": "stream",
     "text": [
      "🔍 融合特征维度: [2048, 128, 32, 32]\n",
      "✅ 特征融合成功: torch.Size([2, 2240]) -> torch.Size([2, 256])\n"
     ]
    },
    {
     "name": "stderr",
     "output_type": "stream",
     "text": [
      "训练中:  23%|██▎       | 161/699 [25:18<1:27:47,  9.79s/it, Loss=nan, Acc=0.5093]"
     ]
    },
    {
     "name": "stdout",
     "output_type": "stream",
     "text": [
      "🔍 融合特征维度: [2048, 128, 32, 32]\n",
      "✅ 特征融合成功: torch.Size([2, 2240]) -> torch.Size([2, 256])\n"
     ]
    },
    {
     "name": "stderr",
     "output_type": "stream",
     "text": [
      "训练中:  23%|██▎       | 162/699 [25:27<1:24:21,  9.43s/it, Loss=nan, Acc=0.5093]"
     ]
    },
    {
     "name": "stdout",
     "output_type": "stream",
     "text": [
      "🔍 融合特征维度: [2048, 128, 32, 32]\n",
      "✅ 特征融合成功: torch.Size([2, 2240]) -> torch.Size([2, 256])\n"
     ]
    },
    {
     "name": "stderr",
     "output_type": "stream",
     "text": [
      "训练中:  23%|██▎       | 163/699 [25:48<1:56:32, 13.05s/it, Loss=nan, Acc=0.5061]"
     ]
    },
    {
     "name": "stdout",
     "output_type": "stream",
     "text": [
      "🔍 融合特征维度: [2048, 128, 32, 32]\n",
      "✅ 特征融合成功: torch.Size([2, 2240]) -> torch.Size([2, 256])\n"
     ]
    },
    {
     "name": "stderr",
     "output_type": "stream",
     "text": [
      "训练中:  23%|██▎       | 164/699 [25:59<1:48:23, 12.16s/it, Loss=nan, Acc=0.5030]"
     ]
    },
    {
     "name": "stdout",
     "output_type": "stream",
     "text": [
      "🔍 融合特征维度: [2048, 128, 32, 32]\n",
      "✅ 特征融合成功: torch.Size([2, 2240]) -> torch.Size([2, 256])\n"
     ]
    },
    {
     "name": "stderr",
     "output_type": "stream",
     "text": [
      "训练中:  24%|██▎       | 165/699 [26:04<1:31:05, 10.23s/it, Loss=nan, Acc=0.5061]"
     ]
    },
    {
     "name": "stdout",
     "output_type": "stream",
     "text": [
      "🔍 融合特征维度: [2048, 128, 32, 32]\n",
      "✅ 特征融合成功: torch.Size([2, 2240]) -> torch.Size([2, 256])\n"
     ]
    },
    {
     "name": "stderr",
     "output_type": "stream",
     "text": [
      "训练中:  24%|██▎       | 166/699 [26:09<1:15:27,  8.49s/it, Loss=nan, Acc=0.5090]"
     ]
    },
    {
     "name": "stdout",
     "output_type": "stream",
     "text": [
      "🔍 融合特征维度: [2048, 128, 32, 32]\n",
      "✅ 特征融合成功: torch.Size([2, 2240]) -> torch.Size([2, 256])\n"
     ]
    },
    {
     "name": "stderr",
     "output_type": "stream",
     "text": [
      "训练中:  24%|██▍       | 167/699 [26:15<1:08:57,  7.78s/it, Loss=nan, Acc=0.5090]"
     ]
    },
    {
     "name": "stdout",
     "output_type": "stream",
     "text": [
      "🔍 融合特征维度: [2048, 128, 32, 32]\n",
      "✅ 特征融合成功: torch.Size([2, 2240]) -> torch.Size([2, 256])\n"
     ]
    },
    {
     "name": "stderr",
     "output_type": "stream",
     "text": [
      "训练中:  24%|██▍       | 168/699 [26:18<57:21,  6.48s/it, Loss=nan, Acc=0.5089]  "
     ]
    },
    {
     "name": "stdout",
     "output_type": "stream",
     "text": [
      "🔍 融合特征维度: [2048, 128, 32, 32]\n",
      "✅ 特征融合成功: torch.Size([2, 2240]) -> torch.Size([2, 256])\n"
     ]
    },
    {
     "name": "stderr",
     "output_type": "stream",
     "text": [
      "训练中:  24%|██▍       | 169/699 [26:24<55:37,  6.30s/it, Loss=nan, Acc=0.5089]"
     ]
    },
    {
     "name": "stdout",
     "output_type": "stream",
     "text": [
      "🔍 融合特征维度: [2048, 128, 32, 32]\n",
      "✅ 特征融合成功: torch.Size([2, 2240]) -> torch.Size([2, 256])\n"
     ]
    },
    {
     "name": "stderr",
     "output_type": "stream",
     "text": [
      "训练中:  24%|██▍       | 170/699 [26:28<48:13,  5.47s/it, Loss=nan, Acc=0.5088]"
     ]
    },
    {
     "name": "stdout",
     "output_type": "stream",
     "text": [
      "🔍 融合特征维度: [2048, 128, 32, 32]\n",
      "✅ 特征融合成功: torch.Size([2, 2240]) -> torch.Size([2, 256])\n"
     ]
    },
    {
     "name": "stderr",
     "output_type": "stream",
     "text": [
      "训练中:  24%|██▍       | 171/699 [26:34<49:11,  5.59s/it, Loss=nan, Acc=0.5088]"
     ]
    },
    {
     "name": "stdout",
     "output_type": "stream",
     "text": [
      "🔍 融合特征维度: [2048, 128, 32, 32]\n",
      "✅ 特征融合成功: torch.Size([2, 2240]) -> torch.Size([2, 256])\n"
     ]
    },
    {
     "name": "stderr",
     "output_type": "stream",
     "text": [
      "训练中:  25%|██▍       | 172/699 [26:42<57:30,  6.55s/it, Loss=nan, Acc=0.5087]"
     ]
    },
    {
     "name": "stdout",
     "output_type": "stream",
     "text": [
      "🔍 融合特征维度: [2048, 128, 32, 32]\n",
      "✅ 特征融合成功: torch.Size([2, 2240]) -> torch.Size([2, 256])\n"
     ]
    },
    {
     "name": "stderr",
     "output_type": "stream",
     "text": [
      "训练中:  25%|██▍       | 173/699 [26:52<1:06:26,  7.58s/it, Loss=nan, Acc=0.5116]"
     ]
    },
    {
     "name": "stdout",
     "output_type": "stream",
     "text": [
      "🔍 融合特征维度: [2048, 128, 32, 32]\n",
      "✅ 特征融合成功: torch.Size([2, 2240]) -> torch.Size([2, 256])\n"
     ]
    },
    {
     "name": "stderr",
     "output_type": "stream",
     "text": [
      "训练中:  25%|██▍       | 174/699 [26:58<1:00:16,  6.89s/it, Loss=nan, Acc=0.5115]"
     ]
    },
    {
     "name": "stdout",
     "output_type": "stream",
     "text": [
      "🔍 融合特征维度: [2048, 128, 32, 32]\n",
      "✅ 特征融合成功: torch.Size([2, 2240]) -> torch.Size([2, 256])\n"
     ]
    },
    {
     "name": "stderr",
     "output_type": "stream",
     "text": [
      "训练中:  25%|██▌       | 175/699 [27:15<1:28:54, 10.18s/it, Loss=nan, Acc=0.5114]"
     ]
    },
    {
     "name": "stdout",
     "output_type": "stream",
     "text": [
      "🔍 融合特征维度: [2048, 128, 32, 32]\n",
      "✅ 特征融合成功: torch.Size([2, 2240]) -> torch.Size([2, 256])\n"
     ]
    },
    {
     "name": "stderr",
     "output_type": "stream",
     "text": [
      "训练中:  25%|██▌       | 176/699 [27:25<1:26:05,  9.88s/it, Loss=nan, Acc=0.5114]"
     ]
    },
    {
     "name": "stdout",
     "output_type": "stream",
     "text": [
      "🔍 融合特征维度: [2048, 128, 32, 32]\n",
      "✅ 特征融合成功: torch.Size([2, 2240]) -> torch.Size([2, 256])\n"
     ]
    },
    {
     "name": "stderr",
     "output_type": "stream",
     "text": [
      "训练中:  25%|██▌       | 177/699 [27:28<1:09:38,  8.00s/it, Loss=nan, Acc=0.5085]"
     ]
    },
    {
     "name": "stdout",
     "output_type": "stream",
     "text": [
      "🔍 融合特征维度: [2048, 128, 32, 32]\n",
      "✅ 特征融合成功: torch.Size([2, 2240]) -> torch.Size([2, 256])\n"
     ]
    },
    {
     "name": "stderr",
     "output_type": "stream",
     "text": [
      "训练中:  25%|██▌       | 178/699 [27:35<1:07:11,  7.74s/it, Loss=nan, Acc=0.5112]"
     ]
    },
    {
     "name": "stdout",
     "output_type": "stream",
     "text": [
      "🔍 融合特征维度: [2048, 128, 32, 32]\n",
      "✅ 特征融合成功: torch.Size([2, 2240]) -> torch.Size([2, 256])\n"
     ]
    },
    {
     "name": "stderr",
     "output_type": "stream",
     "text": [
      "训练中:  26%|██▌       | 179/699 [27:39<56:49,  6.56s/it, Loss=nan, Acc=0.5112]  "
     ]
    },
    {
     "name": "stdout",
     "output_type": "stream",
     "text": [
      "🔍 融合特征维度: [2048, 128, 32, 32]\n",
      "✅ 特征融合成功: torch.Size([2, 2240]) -> torch.Size([2, 256])\n"
     ]
    },
    {
     "name": "stderr",
     "output_type": "stream",
     "text": [
      "训练中:  26%|██▌       | 180/699 [27:47<59:30,  6.88s/it, Loss=nan, Acc=0.5111]"
     ]
    },
    {
     "name": "stdout",
     "output_type": "stream",
     "text": [
      "🔍 融合特征维度: [2048, 128, 32, 32]\n",
      "✅ 特征融合成功: torch.Size([2, 2240]) -> torch.Size([2, 256])\n"
     ]
    },
    {
     "name": "stderr",
     "output_type": "stream",
     "text": [
      "训练中:  26%|██▌       | 181/699 [28:11<1:44:19, 12.08s/it, Loss=nan, Acc=0.5083]"
     ]
    },
    {
     "name": "stdout",
     "output_type": "stream",
     "text": [
      "🔍 融合特征维度: [2048, 128, 32, 32]\n",
      "✅ 特征融合成功: torch.Size([2, 2240]) -> torch.Size([2, 256])\n"
     ]
    },
    {
     "name": "stderr",
     "output_type": "stream",
     "text": [
      "训练中:  26%|██▌       | 182/699 [28:25<1:49:18, 12.69s/it, Loss=nan, Acc=0.5055]"
     ]
    },
    {
     "name": "stdout",
     "output_type": "stream",
     "text": [
      "🔍 融合特征维度: [2048, 128, 32, 32]\n",
      "✅ 特征融合成功: torch.Size([2, 2240]) -> torch.Size([2, 256])\n"
     ]
    },
    {
     "name": "stderr",
     "output_type": "stream",
     "text": [
      "训练中:  26%|██▌       | 183/699 [28:33<1:36:35, 11.23s/it, Loss=nan, Acc=0.5082]"
     ]
    },
    {
     "name": "stdout",
     "output_type": "stream",
     "text": [
      "🔍 融合特征维度: [2048, 128, 32, 32]\n",
      "✅ 特征融合成功: torch.Size([2, 2240]) -> torch.Size([2, 256])\n"
     ]
    },
    {
     "name": "stderr",
     "output_type": "stream",
     "text": [
      "训练中:  26%|██▋       | 184/699 [28:36<1:16:26,  8.91s/it, Loss=nan, Acc=0.5054]"
     ]
    },
    {
     "name": "stdout",
     "output_type": "stream",
     "text": [
      "🔍 融合特征维度: [2048, 128, 32, 32]\n",
      "✅ 特征融合成功: torch.Size([2, 2240]) -> torch.Size([2, 256])\n"
     ]
    },
    {
     "name": "stderr",
     "output_type": "stream",
     "text": [
      "训练中:  26%|██▋       | 185/699 [28:52<1:32:32, 10.80s/it, Loss=nan, Acc=0.5081]"
     ]
    },
    {
     "name": "stdout",
     "output_type": "stream",
     "text": [
      "🔍 融合特征维度: [2048, 128, 32, 32]\n",
      "✅ 特征融合成功: torch.Size([2, 2240]) -> torch.Size([2, 256])\n"
     ]
    },
    {
     "name": "stderr",
     "output_type": "stream",
     "text": [
      "训练中:  27%|██▋       | 186/699 [29:01<1:29:44, 10.50s/it, Loss=nan, Acc=0.5081]"
     ]
    },
    {
     "name": "stdout",
     "output_type": "stream",
     "text": [
      "🔍 融合特征维度: [2048, 128, 32, 32]\n",
      "✅ 特征融合成功: torch.Size([2, 2240]) -> torch.Size([2, 256])\n"
     ]
    },
    {
     "name": "stderr",
     "output_type": "stream",
     "text": [
      "训练中:  27%|██▋       | 187/699 [29:11<1:26:32, 10.14s/it, Loss=nan, Acc=0.5107]"
     ]
    },
    {
     "name": "stdout",
     "output_type": "stream",
     "text": [
      "🔍 融合特征维度: [2048, 128, 32, 32]\n",
      "✅ 特征融合成功: torch.Size([2, 2240]) -> torch.Size([2, 256])\n"
     ]
    },
    {
     "name": "stderr",
     "output_type": "stream",
     "text": [
      "训练中:  27%|██▋       | 188/699 [29:17<1:17:30,  9.10s/it, Loss=nan, Acc=0.5133]"
     ]
    },
    {
     "name": "stdout",
     "output_type": "stream",
     "text": [
      "🔍 融合特征维度: [2048, 128, 32, 32]\n",
      "✅ 特征融合成功: torch.Size([2, 2240]) -> torch.Size([2, 256])\n"
     ]
    },
    {
     "name": "stderr",
     "output_type": "stream",
     "text": [
      "训练中:  27%|██▋       | 189/699 [29:21<1:04:09,  7.55s/it, Loss=nan, Acc=0.5132]"
     ]
    },
    {
     "name": "stdout",
     "output_type": "stream",
     "text": [
      "🔍 融合特征维度: [2048, 128, 32, 32]\n",
      "✅ 特征融合成功: torch.Size([2, 2240]) -> torch.Size([2, 256])\n"
     ]
    },
    {
     "name": "stderr",
     "output_type": "stream",
     "text": [
      "训练中:  27%|██▋       | 190/699 [29:25<53:54,  6.36s/it, Loss=nan, Acc=0.5132]  "
     ]
    },
    {
     "name": "stdout",
     "output_type": "stream",
     "text": [
      "🔍 融合特征维度: [2048, 128, 32, 32]\n",
      "✅ 特征融合成功: torch.Size([2, 2240]) -> torch.Size([2, 256])\n"
     ]
    },
    {
     "name": "stderr",
     "output_type": "stream",
     "text": [
      "训练中:  27%|██▋       | 191/699 [29:30<50:16,  5.94s/it, Loss=nan, Acc=0.5131]"
     ]
    },
    {
     "name": "stdout",
     "output_type": "stream",
     "text": [
      "🔍 融合特征维度: [2048, 128, 32, 32]\n",
      "✅ 特征融合成功: torch.Size([2, 2240]) -> torch.Size([2, 256])\n"
     ]
    },
    {
     "name": "stderr",
     "output_type": "stream",
     "text": [
      "训练中:  27%|██▋       | 192/699 [29:34<45:16,  5.36s/it, Loss=nan, Acc=0.5156]"
     ]
    },
    {
     "name": "stdout",
     "output_type": "stream",
     "text": [
      "🔍 融合特征维度: [2048, 128, 32, 32]\n",
      "✅ 特征融合成功: torch.Size([2, 2240]) -> torch.Size([2, 256])\n"
     ]
    },
    {
     "name": "stderr",
     "output_type": "stream",
     "text": [
      "训练中:  28%|██▊       | 193/699 [29:45<58:44,  6.97s/it, Loss=nan, Acc=0.5155]"
     ]
    },
    {
     "name": "stdout",
     "output_type": "stream",
     "text": [
      "🔍 融合特征维度: [2048, 128, 32, 32]\n",
      "✅ 特征融合成功: torch.Size([2, 2240]) -> torch.Size([2, 256])\n"
     ]
    },
    {
     "name": "stderr",
     "output_type": "stream",
     "text": [
      "训练中:  28%|██▊       | 194/699 [29:57<1:11:36,  8.51s/it, Loss=nan, Acc=0.5155]"
     ]
    },
    {
     "name": "stdout",
     "output_type": "stream",
     "text": [
      "🔍 融合特征维度: [2048, 128, 32, 32]\n",
      "✅ 特征融合成功: torch.Size([2, 2240]) -> torch.Size([2, 256])\n"
     ]
    },
    {
     "name": "stderr",
     "output_type": "stream",
     "text": [
      "训练中:  28%|██▊       | 195/699 [30:06<1:14:33,  8.88s/it, Loss=nan, Acc=0.5128]"
     ]
    },
    {
     "name": "stdout",
     "output_type": "stream",
     "text": [
      "🔍 融合特征维度: [2048, 128, 32, 32]\n",
      "✅ 特征融合成功: torch.Size([2, 2240]) -> torch.Size([2, 256])\n"
     ]
    },
    {
     "name": "stderr",
     "output_type": "stream",
     "text": [
      "训练中:  28%|██▊       | 196/699 [30:14<1:11:27,  8.52s/it, Loss=nan, Acc=0.5128]"
     ]
    },
    {
     "name": "stdout",
     "output_type": "stream",
     "text": [
      "🔍 融合特征维度: [2048, 128, 32, 32]\n",
      "✅ 特征融合成功: torch.Size([2, 2240]) -> torch.Size([2, 256])\n"
     ]
    },
    {
     "name": "stderr",
     "output_type": "stream",
     "text": [
      "训练中:  28%|██▊       | 197/699 [30:19<1:00:47,  7.27s/it, Loss=nan, Acc=0.5102]"
     ]
    },
    {
     "name": "stdout",
     "output_type": "stream",
     "text": [
      "🔍 融合特征维度: [2048, 128, 32, 32]\n",
      "✅ 特征融合成功: torch.Size([2, 2240]) -> torch.Size([2, 256])\n"
     ]
    },
    {
     "name": "stderr",
     "output_type": "stream",
     "text": [
      "训练中:  28%|██▊       | 198/699 [30:34<1:20:18,  9.62s/it, Loss=nan, Acc=0.5076]"
     ]
    },
    {
     "name": "stdout",
     "output_type": "stream",
     "text": [
      "🔍 融合特征维度: [2048, 128, 32, 32]\n",
      "✅ 特征融合成功: torch.Size([2, 2240]) -> torch.Size([2, 256])\n"
     ]
    },
    {
     "name": "stderr",
     "output_type": "stream",
     "text": [
      "训练中:  28%|██▊       | 199/699 [30:42<1:17:21,  9.28s/it, Loss=nan, Acc=0.5075]"
     ]
    },
    {
     "name": "stdout",
     "output_type": "stream",
     "text": [
      "🔍 融合特征维度: [2048, 128, 32, 32]\n",
      "✅ 特征融合成功: torch.Size([2, 2240]) -> torch.Size([2, 256])\n"
     ]
    },
    {
     "name": "stderr",
     "output_type": "stream",
     "text": [
      "训练中:  29%|██▊       | 200/699 [30:52<1:17:57,  9.37s/it, Loss=nan, Acc=0.5050]"
     ]
    },
    {
     "name": "stdout",
     "output_type": "stream",
     "text": [
      "🔍 融合特征维度: [2048, 128, 32, 32]\n",
      "✅ 特征融合成功: torch.Size([2, 2240]) -> torch.Size([2, 256])\n"
     ]
    },
    {
     "name": "stderr",
     "output_type": "stream",
     "text": [
      "训练中:  29%|██▉       | 201/699 [31:00<1:14:30,  8.98s/it, Loss=nan, Acc=0.5050]"
     ]
    },
    {
     "name": "stdout",
     "output_type": "stream",
     "text": [
      "🔍 融合特征维度: [2048, 128, 32, 32]\n",
      "✅ 特征融合成功: torch.Size([2, 2240]) -> torch.Size([2, 256])\n"
     ]
    },
    {
     "name": "stderr",
     "output_type": "stream",
     "text": [
      "训练中:  29%|██▉       | 202/699 [31:10<1:16:38,  9.25s/it, Loss=nan, Acc=0.5025]"
     ]
    },
    {
     "name": "stdout",
     "output_type": "stream",
     "text": [
      "🔍 融合特征维度: [2048, 128, 32, 32]\n",
      "✅ 特征融合成功: torch.Size([2, 2240]) -> torch.Size([2, 256])\n"
     ]
    },
    {
     "name": "stderr",
     "output_type": "stream",
     "text": [
      "训练中:  29%|██▉       | 203/699 [31:13<1:01:32,  7.44s/it, Loss=nan, Acc=0.5025]"
     ]
    },
    {
     "name": "stdout",
     "output_type": "stream",
     "text": [
      "🔍 融合特征维度: [2048, 128, 32, 32]\n",
      "✅ 特征融合成功: torch.Size([2, 2240]) -> torch.Size([2, 256])\n"
     ]
    },
    {
     "name": "stderr",
     "output_type": "stream",
     "text": [
      "训练中:  29%|██▉       | 204/699 [31:21<1:03:34,  7.71s/it, Loss=nan, Acc=0.5000]"
     ]
    },
    {
     "name": "stdout",
     "output_type": "stream",
     "text": [
      "🔍 融合特征维度: [2048, 128, 32, 32]\n",
      "✅ 特征融合成功: torch.Size([2, 2240]) -> torch.Size([2, 256])\n"
     ]
    },
    {
     "name": "stderr",
     "output_type": "stream",
     "text": [
      "训练中:  29%|██▉       | 205/699 [31:27<59:05,  7.18s/it, Loss=nan, Acc=0.5000]  "
     ]
    },
    {
     "name": "stdout",
     "output_type": "stream",
     "text": [
      "🔍 融合特征维度: [2048, 128, 32, 32]\n",
      "✅ 特征融合成功: torch.Size([2, 2240]) -> torch.Size([2, 256])\n"
     ]
    },
    {
     "name": "stderr",
     "output_type": "stream",
     "text": [
      "训练中:  29%|██▉       | 206/699 [31:34<59:11,  7.20s/it, Loss=nan, Acc=0.4976]"
     ]
    },
    {
     "name": "stdout",
     "output_type": "stream",
     "text": [
      "🔍 融合特征维度: [2048, 128, 32, 32]\n",
      "✅ 特征融合成功: torch.Size([2, 2240]) -> torch.Size([2, 256])\n"
     ]
    },
    {
     "name": "stderr",
     "output_type": "stream",
     "text": [
      "训练中:  30%|██▉       | 207/699 [31:44<1:04:16,  7.84s/it, Loss=nan, Acc=0.4976]"
     ]
    },
    {
     "name": "stdout",
     "output_type": "stream",
     "text": [
      "🔍 融合特征维度: [2048, 128, 32, 32]\n",
      "✅ 特征融合成功: torch.Size([2, 2240]) -> torch.Size([2, 256])\n"
     ]
    },
    {
     "name": "stderr",
     "output_type": "stream",
     "text": [
      "训练中:  30%|██▉       | 208/699 [31:56<1:14:38,  9.12s/it, Loss=nan, Acc=0.5000]"
     ]
    },
    {
     "name": "stdout",
     "output_type": "stream",
     "text": [
      "🔍 融合特征维度: [2048, 128, 32, 32]\n",
      "✅ 特征融合成功: torch.Size([2, 2240]) -> torch.Size([2, 256])\n"
     ]
    },
    {
     "name": "stderr",
     "output_type": "stream",
     "text": [
      "训练中:  30%|██▉       | 209/699 [32:10<1:27:15, 10.69s/it, Loss=nan, Acc=0.5000]"
     ]
    },
    {
     "name": "stdout",
     "output_type": "stream",
     "text": [
      "🔍 融合特征维度: [2048, 128, 32, 32]\n",
      "✅ 特征融合成功: torch.Size([2, 2240]) -> torch.Size([2, 256])\n"
     ]
    },
    {
     "name": "stderr",
     "output_type": "stream",
     "text": [
      "训练中:  30%|███       | 210/699 [32:22<1:29:01, 10.92s/it, Loss=nan, Acc=0.5024]"
     ]
    },
    {
     "name": "stdout",
     "output_type": "stream",
     "text": [
      "🔍 融合特征维度: [2048, 128, 32, 32]\n",
      "✅ 特征融合成功: torch.Size([2, 2240]) -> torch.Size([2, 256])\n"
     ]
    },
    {
     "name": "stderr",
     "output_type": "stream",
     "text": [
      "训练中:  30%|███       | 211/699 [32:26<1:13:08,  8.99s/it, Loss=nan, Acc=0.5000]"
     ]
    },
    {
     "name": "stdout",
     "output_type": "stream",
     "text": [
      "🔍 融合特征维度: [2048, 128, 32, 32]\n",
      "✅ 特征融合成功: torch.Size([2, 2240]) -> torch.Size([2, 256])\n"
     ]
    },
    {
     "name": "stderr",
     "output_type": "stream",
     "text": [
      "训练中:  30%|███       | 212/699 [32:48<1:43:28, 12.75s/it, Loss=nan, Acc=0.5000]"
     ]
    },
    {
     "name": "stdout",
     "output_type": "stream",
     "text": [
      "🔍 融合特征维度: [2048, 128, 32, 32]\n",
      "✅ 特征融合成功: torch.Size([2, 2240]) -> torch.Size([2, 256])\n"
     ]
    },
    {
     "name": "stderr",
     "output_type": "stream",
     "text": [
      "训练中:  30%|███       | 213/699 [32:56<1:31:46, 11.33s/it, Loss=nan, Acc=0.4977]"
     ]
    },
    {
     "name": "stdout",
     "output_type": "stream",
     "text": [
      "🔍 融合特征维度: [2048, 128, 32, 32]\n",
      "✅ 特征融合成功: torch.Size([2, 2240]) -> torch.Size([2, 256])\n"
     ]
    },
    {
     "name": "stderr",
     "output_type": "stream",
     "text": [
      "训练中:  31%|███       | 214/699 [33:02<1:18:44,  9.74s/it, Loss=nan, Acc=0.4977]"
     ]
    },
    {
     "name": "stdout",
     "output_type": "stream",
     "text": [
      "🔍 融合特征维度: [2048, 128, 32, 32]\n",
      "✅ 特征融合成功: torch.Size([2, 2240]) -> torch.Size([2, 256])\n"
     ]
    },
    {
     "name": "stderr",
     "output_type": "stream",
     "text": [
      "训练中:  31%|███       | 215/699 [33:16<1:30:10, 11.18s/it, Loss=nan, Acc=0.4977]"
     ]
    },
    {
     "name": "stdout",
     "output_type": "stream",
     "text": [
      "🔍 融合特征维度: [2048, 128, 32, 32]\n",
      "✅ 特征融合成功: torch.Size([2, 2240]) -> torch.Size([2, 256])\n"
     ]
    },
    {
     "name": "stderr",
     "output_type": "stream",
     "text": [
      "训练中:  31%|███       | 216/699 [33:24<1:21:01, 10.07s/it, Loss=nan, Acc=0.4977]"
     ]
    },
    {
     "name": "stdout",
     "output_type": "stream",
     "text": [
      "🔍 融合特征维度: [2048, 128, 32, 32]\n",
      "✅ 特征融合成功: torch.Size([2, 2240]) -> torch.Size([2, 256])\n"
     ]
    },
    {
     "name": "stderr",
     "output_type": "stream",
     "text": [
      "训练中:  31%|███       | 217/699 [33:37<1:28:40, 11.04s/it, Loss=nan, Acc=0.4977]"
     ]
    },
    {
     "name": "stdout",
     "output_type": "stream",
     "text": [
      "🔍 融合特征维度: [2048, 128, 32, 32]\n",
      "✅ 特征融合成功: torch.Size([2, 2240]) -> torch.Size([2, 256])\n"
     ]
    },
    {
     "name": "stderr",
     "output_type": "stream",
     "text": [
      "训练中:  31%|███       | 218/699 [33:49<1:31:13, 11.38s/it, Loss=nan, Acc=0.4954]"
     ]
    },
    {
     "name": "stdout",
     "output_type": "stream",
     "text": [
      "🔍 融合特征维度: [2048, 128, 32, 32]\n",
      "✅ 特征融合成功: torch.Size([2, 2240]) -> torch.Size([2, 256])\n"
     ]
    },
    {
     "name": "stderr",
     "output_type": "stream",
     "text": [
      "训练中:  31%|███▏      | 219/699 [33:55<1:18:10,  9.77s/it, Loss=nan, Acc=0.4932]"
     ]
    },
    {
     "name": "stdout",
     "output_type": "stream",
     "text": [
      "🔍 融合特征维度: [2048, 128, 32, 32]\n",
      "✅ 特征融合成功: torch.Size([2, 2240]) -> torch.Size([2, 256])\n"
     ]
    },
    {
     "name": "stderr",
     "output_type": "stream",
     "text": [
      "训练中:  31%|███▏      | 220/699 [33:59<1:03:08,  7.91s/it, Loss=nan, Acc=0.4909]"
     ]
    },
    {
     "name": "stdout",
     "output_type": "stream",
     "text": [
      "🔍 融合特征维度: [2048, 128, 32, 32]\n",
      "✅ 特征融合成功: torch.Size([2, 2240]) -> torch.Size([2, 256])\n"
     ]
    },
    {
     "name": "stderr",
     "output_type": "stream",
     "text": [
      "训练中:  32%|███▏      | 221/699 [34:02<52:25,  6.58s/it, Loss=nan, Acc=0.4910]  "
     ]
    },
    {
     "name": "stdout",
     "output_type": "stream",
     "text": [
      "🔍 融合特征维度: [2048, 128, 32, 32]\n",
      "✅ 特征融合成功: torch.Size([2, 2240]) -> torch.Size([2, 256])\n"
     ]
    },
    {
     "name": "stderr",
     "output_type": "stream",
     "text": [
      "训练中:  32%|███▏      | 222/699 [34:22<1:24:37, 10.64s/it, Loss=nan, Acc=0.4887]"
     ]
    },
    {
     "name": "stdout",
     "output_type": "stream",
     "text": [
      "🔍 融合特征维度: [2048, 128, 32, 32]\n",
      "✅ 特征融合成功: torch.Size([2, 2240]) -> torch.Size([2, 256])\n"
     ]
    },
    {
     "name": "stderr",
     "output_type": "stream",
     "text": [
      "训练中:  32%|███▏      | 223/699 [34:39<1:38:23, 12.40s/it, Loss=nan, Acc=0.4865]"
     ]
    },
    {
     "name": "stdout",
     "output_type": "stream",
     "text": [
      "🔍 融合特征维度: [2048, 128, 32, 32]\n",
      "✅ 特征融合成功: torch.Size([2, 2240]) -> torch.Size([2, 256])\n"
     ]
    },
    {
     "name": "stderr",
     "output_type": "stream",
     "text": [
      "训练中:  32%|███▏      | 224/699 [34:51<1:37:00, 12.25s/it, Loss=nan, Acc=0.4888]"
     ]
    },
    {
     "name": "stdout",
     "output_type": "stream",
     "text": [
      "🔍 融合特征维度: [2048, 128, 32, 32]\n",
      "✅ 特征融合成功: torch.Size([2, 2240]) -> torch.Size([2, 256])\n"
     ]
    },
    {
     "name": "stderr",
     "output_type": "stream",
     "text": [
      "训练中:  32%|███▏      | 225/699 [34:55<1:17:55,  9.86s/it, Loss=nan, Acc=0.4889]"
     ]
    },
    {
     "name": "stdout",
     "output_type": "stream",
     "text": [
      "🔍 融合特征维度: [2048, 128, 32, 32]\n",
      "✅ 特征融合成功: torch.Size([2, 2240]) -> torch.Size([2, 256])\n"
     ]
    },
    {
     "name": "stderr",
     "output_type": "stream",
     "text": [
      "训练中:  32%|███▏      | 226/699 [35:02<1:09:50,  8.86s/it, Loss=nan, Acc=0.4889]"
     ]
    },
    {
     "name": "stdout",
     "output_type": "stream",
     "text": [
      "🔍 融合特征维度: [2048, 128, 32, 32]\n",
      "✅ 特征融合成功: torch.Size([2, 2240]) -> torch.Size([2, 256])\n"
     ]
    },
    {
     "name": "stderr",
     "output_type": "stream",
     "text": [
      "训练中:  32%|███▏      | 227/699 [35:22<1:37:50, 12.44s/it, Loss=nan, Acc=0.4868]"
     ]
    },
    {
     "name": "stdout",
     "output_type": "stream",
     "text": [
      "🔍 融合特征维度: [2048, 128, 32, 32]\n",
      "✅ 特征融合成功: torch.Size([2, 2240]) -> torch.Size([2, 256])\n"
     ]
    },
    {
     "name": "stderr",
     "output_type": "stream",
     "text": [
      "训练中:  33%|███▎      | 228/699 [35:30<1:27:19, 11.12s/it, Loss=nan, Acc=0.4846]"
     ]
    },
    {
     "name": "stdout",
     "output_type": "stream",
     "text": [
      "🔍 融合特征维度: [2048, 128, 32, 32]\n",
      "✅ 特征融合成功: torch.Size([2, 2240]) -> torch.Size([2, 256])\n"
     ]
    },
    {
     "name": "stderr",
     "output_type": "stream",
     "text": [
      "训练中:  33%|███▎      | 229/699 [35:42<1:27:32, 11.18s/it, Loss=nan, Acc=0.4825]"
     ]
    },
    {
     "name": "stdout",
     "output_type": "stream",
     "text": [
      "🔍 融合特征维度: [2048, 128, 32, 32]\n",
      "✅ 特征融合成功: torch.Size([2, 2240]) -> torch.Size([2, 256])\n"
     ]
    },
    {
     "name": "stderr",
     "output_type": "stream",
     "text": [
      "训练中:  33%|███▎      | 230/699 [35:52<1:26:03, 11.01s/it, Loss=nan, Acc=0.4826]"
     ]
    },
    {
     "name": "stdout",
     "output_type": "stream",
     "text": [
      "🔍 融合特征维度: [2048, 128, 32, 32]\n",
      "✅ 特征融合成功: torch.Size([2, 2240]) -> torch.Size([2, 256])\n"
     ]
    },
    {
     "name": "stderr",
     "output_type": "stream",
     "text": [
      "训练中:  33%|███▎      | 231/699 [35:59<1:16:17,  9.78s/it, Loss=nan, Acc=0.4827]"
     ]
    },
    {
     "name": "stdout",
     "output_type": "stream",
     "text": [
      "🔍 融合特征维度: [2048, 128, 32, 32]\n",
      "✅ 特征融合成功: torch.Size([2, 2240]) -> torch.Size([2, 256])\n"
     ]
    },
    {
     "name": "stderr",
     "output_type": "stream",
     "text": [
      "训练中:  33%|███▎      | 232/699 [36:18<1:37:26, 12.52s/it, Loss=nan, Acc=0.4849]"
     ]
    },
    {
     "name": "stdout",
     "output_type": "stream",
     "text": [
      "🔍 融合特征维度: [2048, 128, 32, 32]\n",
      "✅ 特征融合成功: torch.Size([2, 2240]) -> torch.Size([2, 256])\n"
     ]
    },
    {
     "name": "stderr",
     "output_type": "stream",
     "text": [
      "训练中:  33%|███▎      | 233/699 [36:29<1:32:09, 11.87s/it, Loss=nan, Acc=0.4871]"
     ]
    },
    {
     "name": "stdout",
     "output_type": "stream",
     "text": [
      "🔍 融合特征维度: [2048, 128, 32, 32]\n",
      "✅ 特征融合成功: torch.Size([2, 2240]) -> torch.Size([2, 256])\n"
     ]
    },
    {
     "name": "stderr",
     "output_type": "stream",
     "text": [
      "训练中:  33%|███▎      | 234/699 [36:43<1:38:33, 12.72s/it, Loss=nan, Acc=0.4850]"
     ]
    },
    {
     "name": "stdout",
     "output_type": "stream",
     "text": [
      "🔍 融合特征维度: [2048, 128, 32, 32]\n",
      "✅ 特征融合成功: torch.Size([2, 2240]) -> torch.Size([2, 256])\n"
     ]
    },
    {
     "name": "stderr",
     "output_type": "stream",
     "text": [
      "训练中:  34%|███▎      | 235/699 [36:54<1:34:55, 12.27s/it, Loss=nan, Acc=0.4851]"
     ]
    },
    {
     "name": "stdout",
     "output_type": "stream",
     "text": [
      "🔍 融合特征维度: [2048, 128, 32, 32]\n",
      "✅ 特征融合成功: torch.Size([2, 2240]) -> torch.Size([2, 256])\n"
     ]
    },
    {
     "name": "stderr",
     "output_type": "stream",
     "text": [
      "训练中:  34%|███▍      | 236/699 [37:04<1:27:41, 11.36s/it, Loss=nan, Acc=0.4831]"
     ]
    },
    {
     "name": "stdout",
     "output_type": "stream",
     "text": [
      "🔍 融合特征维度: [2048, 128, 32, 32]\n",
      "✅ 特征融合成功: torch.Size([2, 2240]) -> torch.Size([2, 256])\n"
     ]
    },
    {
     "name": "stderr",
     "output_type": "stream",
     "text": [
      "训练中:  34%|███▍      | 237/699 [37:07<1:08:37,  8.91s/it, Loss=nan, Acc=0.4852]"
     ]
    },
    {
     "name": "stdout",
     "output_type": "stream",
     "text": [
      "🔍 融合特征维度: [2048, 128, 32, 32]\n",
      "✅ 特征融合成功: torch.Size([2, 2240]) -> torch.Size([2, 256])\n"
     ]
    },
    {
     "name": "stderr",
     "output_type": "stream",
     "text": [
      "训练中:  34%|███▍      | 238/699 [37:20<1:18:01, 10.16s/it, Loss=nan, Acc=0.4874]"
     ]
    },
    {
     "name": "stdout",
     "output_type": "stream",
     "text": [
      "🔍 融合特征维度: [2048, 128, 32, 32]\n",
      "✅ 特征融合成功: torch.Size([2, 2240]) -> torch.Size([2, 256])\n"
     ]
    },
    {
     "name": "stderr",
     "output_type": "stream",
     "text": [
      "训练中:  34%|███▍      | 239/699 [37:37<1:32:34, 12.07s/it, Loss=nan, Acc=0.4895]"
     ]
    },
    {
     "name": "stdout",
     "output_type": "stream",
     "text": [
      "🔍 融合特征维度: [2048, 128, 32, 32]\n",
      "✅ 特征融合成功: torch.Size([2, 2240]) -> torch.Size([2, 256])\n"
     ]
    },
    {
     "name": "stderr",
     "output_type": "stream",
     "text": [
      "训练中:  34%|███▍      | 240/699 [37:45<1:25:08, 11.13s/it, Loss=nan, Acc=0.4917]"
     ]
    },
    {
     "name": "stdout",
     "output_type": "stream",
     "text": [
      "🔍 融合特征维度: [2048, 128, 32, 32]\n",
      "✅ 特征融合成功: torch.Size([2, 2240]) -> torch.Size([2, 256])\n"
     ]
    },
    {
     "name": "stderr",
     "output_type": "stream",
     "text": [
      "训练中:  34%|███▍      | 241/699 [37:56<1:23:49, 10.98s/it, Loss=nan, Acc=0.4917]"
     ]
    },
    {
     "name": "stdout",
     "output_type": "stream",
     "text": [
      "🔍 融合特征维度: [2048, 128, 32, 32]\n",
      "✅ 特征融合成功: torch.Size([2, 2240]) -> torch.Size([2, 256])\n"
     ]
    },
    {
     "name": "stderr",
     "output_type": "stream",
     "text": [
      "训练中:  35%|███▍      | 242/699 [38:04<1:16:25, 10.03s/it, Loss=nan, Acc=0.4897]"
     ]
    },
    {
     "name": "stdout",
     "output_type": "stream",
     "text": [
      "🔍 融合特征维度: [2048, 128, 32, 32]\n",
      "✅ 特征融合成功: torch.Size([2, 2240]) -> torch.Size([2, 256])\n"
     ]
    },
    {
     "name": "stderr",
     "output_type": "stream",
     "text": [
      "训练中:  35%|███▍      | 243/699 [38:16<1:21:23, 10.71s/it, Loss=nan, Acc=0.4918]"
     ]
    },
    {
     "name": "stdout",
     "output_type": "stream",
     "text": [
      "🔍 融合特征维度: [2048, 128, 32, 32]\n",
      "✅ 特征融合成功: torch.Size([2, 2240]) -> torch.Size([2, 256])\n"
     ]
    },
    {
     "name": "stderr",
     "output_type": "stream",
     "text": [
      "训练中:  35%|███▍      | 244/699 [38:34<1:36:25, 12.71s/it, Loss=nan, Acc=0.4939]"
     ]
    },
    {
     "name": "stdout",
     "output_type": "stream",
     "text": [
      "🔍 融合特征维度: [2048, 128, 32, 32]\n",
      "✅ 特征融合成功: torch.Size([2, 2240]) -> torch.Size([2, 256])\n"
     ]
    },
    {
     "name": "stderr",
     "output_type": "stream",
     "text": [
      "训练中:  35%|███▌      | 245/699 [38:38<1:16:43, 10.14s/it, Loss=nan, Acc=0.4959]"
     ]
    },
    {
     "name": "stdout",
     "output_type": "stream",
     "text": [
      "🔍 融合特征维度: [2048, 128, 32, 32]\n",
      "✅ 特征融合成功: torch.Size([2, 2240]) -> torch.Size([2, 256])\n"
     ]
    },
    {
     "name": "stderr",
     "output_type": "stream",
     "text": [
      "训练中:  35%|███▌      | 246/699 [38:54<1:29:49, 11.90s/it, Loss=nan, Acc=0.4959]"
     ]
    },
    {
     "name": "stdout",
     "output_type": "stream",
     "text": [
      "🔍 融合特征维度: [2048, 128, 32, 32]\n",
      "✅ 特征融合成功: torch.Size([2, 2240]) -> torch.Size([2, 256])\n"
     ]
    },
    {
     "name": "stderr",
     "output_type": "stream",
     "text": [
      "训练中:  35%|███▌      | 247/699 [38:58<1:12:11,  9.58s/it, Loss=nan, Acc=0.4960]"
     ]
    },
    {
     "name": "stdout",
     "output_type": "stream",
     "text": [
      "🔍 融合特征维度: [2048, 128, 32, 32]\n",
      "✅ 特征融合成功: torch.Size([2, 2240]) -> torch.Size([2, 256])\n"
     ]
    },
    {
     "name": "stderr",
     "output_type": "stream",
     "text": [
      "训练中:  35%|███▌      | 248/699 [39:02<1:00:04,  7.99s/it, Loss=nan, Acc=0.4960]"
     ]
    },
    {
     "name": "stdout",
     "output_type": "stream",
     "text": [
      "🔍 融合特征维度: [2048, 128, 32, 32]\n",
      "✅ 特征融合成功: torch.Size([2, 2240]) -> torch.Size([2, 256])\n"
     ]
    },
    {
     "name": "stderr",
     "output_type": "stream",
     "text": [
      "训练中:  36%|███▌      | 249/699 [39:10<58:34,  7.81s/it, Loss=nan, Acc=0.4940]  "
     ]
    },
    {
     "name": "stdout",
     "output_type": "stream",
     "text": [
      "🔍 融合特征维度: [2048, 128, 32, 32]\n",
      "✅ 特征融合成功: torch.Size([2, 2240]) -> torch.Size([2, 256])\n"
     ]
    },
    {
     "name": "stderr",
     "output_type": "stream",
     "text": [
      "训练中:  36%|███▌      | 250/699 [39:20<1:03:46,  8.52s/it, Loss=nan, Acc=0.4940]"
     ]
    },
    {
     "name": "stdout",
     "output_type": "stream",
     "text": [
      "🔍 融合特征维度: [2048, 128, 32, 32]\n",
      "✅ 特征融合成功: torch.Size([2, 2240]) -> torch.Size([2, 256])\n"
     ]
    },
    {
     "name": "stderr",
     "output_type": "stream",
     "text": [
      "训练中:  36%|███▌      | 251/699 [39:26<59:00,  7.90s/it, Loss=nan, Acc=0.4960]  "
     ]
    },
    {
     "name": "stdout",
     "output_type": "stream",
     "text": [
      "🔍 融合特征维度: [2048, 128, 32, 32]\n",
      "✅ 特征融合成功: torch.Size([2, 2240]) -> torch.Size([2, 256])\n"
     ]
    },
    {
     "name": "stderr",
     "output_type": "stream",
     "text": [
      "训练中:  36%|███▌      | 252/699 [39:40<1:13:00,  9.80s/it, Loss=nan, Acc=0.4980]"
     ]
    },
    {
     "name": "stdout",
     "output_type": "stream",
     "text": [
      "🔍 融合特征维度: [2048, 128, 32, 32]\n",
      "✅ 特征融合成功: torch.Size([2, 2240]) -> torch.Size([2, 256])\n"
     ]
    },
    {
     "name": "stderr",
     "output_type": "stream",
     "text": [
      "训练中:  36%|███▌      | 253/699 [39:48<1:08:37,  9.23s/it, Loss=nan, Acc=0.4980]"
     ]
    },
    {
     "name": "stdout",
     "output_type": "stream",
     "text": [
      "🔍 融合特征维度: [2048, 128, 32, 32]\n",
      "✅ 特征融合成功: torch.Size([2, 2240]) -> torch.Size([2, 256])\n"
     ]
    },
    {
     "name": "stderr",
     "output_type": "stream",
     "text": [
      "训练中:  36%|███▋      | 254/699 [40:01<1:15:31, 10.18s/it, Loss=nan, Acc=0.4961]"
     ]
    },
    {
     "name": "stdout",
     "output_type": "stream",
     "text": [
      "🔍 融合特征维度: [2048, 128, 32, 32]\n",
      "✅ 特征融合成功: torch.Size([2, 2240]) -> torch.Size([2, 256])\n"
     ]
    },
    {
     "name": "stderr",
     "output_type": "stream",
     "text": [
      "训练中:  36%|███▋      | 255/699 [40:07<1:05:50,  8.90s/it, Loss=nan, Acc=0.4961]"
     ]
    },
    {
     "name": "stdout",
     "output_type": "stream",
     "text": [
      "🔍 融合特征维度: [2048, 128, 32, 32]\n",
      "✅ 特征融合成功: torch.Size([2, 2240]) -> torch.Size([2, 256])\n"
     ]
    },
    {
     "name": "stderr",
     "output_type": "stream",
     "text": [
      "训练中:  37%|███▋      | 256/699 [40:25<1:26:55, 11.77s/it, Loss=nan, Acc=0.4980]"
     ]
    },
    {
     "name": "stdout",
     "output_type": "stream",
     "text": [
      "🔍 融合特征维度: [2048, 128, 32, 32]\n",
      "✅ 特征融合成功: torch.Size([2, 2240]) -> torch.Size([2, 256])\n"
     ]
    },
    {
     "name": "stderr",
     "output_type": "stream",
     "text": [
      "训练中:  37%|███▋      | 257/699 [40:40<1:33:14, 12.66s/it, Loss=nan, Acc=0.5000]"
     ]
    },
    {
     "name": "stdout",
     "output_type": "stream",
     "text": [
      "🔍 融合特征维度: [2048, 128, 32, 32]\n",
      "✅ 特征融合成功: torch.Size([2, 2240]) -> torch.Size([2, 256])\n"
     ]
    },
    {
     "name": "stderr",
     "output_type": "stream",
     "text": [
      "训练中:  37%|███▋      | 258/699 [40:44<1:13:45, 10.03s/it, Loss=nan, Acc=0.5000]"
     ]
    },
    {
     "name": "stdout",
     "output_type": "stream",
     "text": [
      "🔍 融合特征维度: [2048, 128, 32, 32]\n",
      "✅ 特征融合成功: torch.Size([2, 2240]) -> torch.Size([2, 256])\n"
     ]
    },
    {
     "name": "stderr",
     "output_type": "stream",
     "text": [
      "训练中:  37%|███▋      | 259/699 [40:48<1:01:33,  8.39s/it, Loss=nan, Acc=0.4981]"
     ]
    },
    {
     "name": "stdout",
     "output_type": "stream",
     "text": [
      "🔍 融合特征维度: [2048, 128, 32, 32]\n",
      "✅ 特征融合成功: torch.Size([2, 2240]) -> torch.Size([2, 256])\n"
     ]
    },
    {
     "name": "stderr",
     "output_type": "stream",
     "text": [
      "训练中:  37%|███▋      | 260/699 [40:55<57:28,  7.85s/it, Loss=nan, Acc=0.4981]  "
     ]
    },
    {
     "name": "stdout",
     "output_type": "stream",
     "text": [
      "🔍 融合特征维度: [2048, 128, 32, 32]\n",
      "✅ 特征融合成功: torch.Size([2, 2240]) -> torch.Size([2, 256])\n"
     ]
    },
    {
     "name": "stderr",
     "output_type": "stream",
     "text": [
      "训练中:  37%|███▋      | 261/699 [41:12<1:17:00, 10.55s/it, Loss=nan, Acc=0.5000]"
     ]
    },
    {
     "name": "stdout",
     "output_type": "stream",
     "text": [
      "🔍 融合特征维度: [2048, 128, 32, 32]\n",
      "✅ 特征融合成功: torch.Size([2, 2240]) -> torch.Size([2, 256])\n"
     ]
    },
    {
     "name": "stderr",
     "output_type": "stream",
     "text": [
      "训练中:  37%|███▋      | 262/699 [41:30<1:33:14, 12.80s/it, Loss=nan, Acc=0.5019]"
     ]
    },
    {
     "name": "stdout",
     "output_type": "stream",
     "text": [
      "🔍 融合特征维度: [2048, 128, 32, 32]\n",
      "✅ 特征融合成功: torch.Size([2, 2240]) -> torch.Size([2, 256])\n"
     ]
    },
    {
     "name": "stderr",
     "output_type": "stream",
     "text": [
      "训练中:  38%|███▊      | 263/699 [41:34<1:13:45, 10.15s/it, Loss=nan, Acc=0.5019]"
     ]
    },
    {
     "name": "stdout",
     "output_type": "stream",
     "text": [
      "🔍 融合特征维度: [2048, 128, 32, 32]\n",
      "✅ 特征融合成功: torch.Size([2, 2240]) -> torch.Size([2, 256])\n"
     ]
    },
    {
     "name": "stderr",
     "output_type": "stream",
     "text": [
      "训练中:  38%|███▊      | 264/699 [41:44<1:13:56, 10.20s/it, Loss=nan, Acc=0.5038]"
     ]
    },
    {
     "name": "stdout",
     "output_type": "stream",
     "text": [
      "🔍 融合特征维度: [2048, 128, 32, 32]\n",
      "✅ 特征融合成功: torch.Size([2, 2240]) -> torch.Size([2, 256])\n"
     ]
    },
    {
     "name": "stderr",
     "output_type": "stream",
     "text": [
      "训练中:  38%|███▊      | 265/699 [41:59<1:23:26, 11.54s/it, Loss=nan, Acc=0.5057]"
     ]
    },
    {
     "name": "stdout",
     "output_type": "stream",
     "text": [
      "🔍 融合特征维度: [2048, 128, 32, 32]\n",
      "✅ 特征融合成功: torch.Size([2, 2240]) -> torch.Size([2, 256])\n"
     ]
    },
    {
     "name": "stderr",
     "output_type": "stream",
     "text": [
      "训练中:  38%|███▊      | 266/699 [42:04<1:09:58,  9.70s/it, Loss=nan, Acc=0.5075]"
     ]
    },
    {
     "name": "stdout",
     "output_type": "stream",
     "text": [
      "🔍 融合特征维度: [2048, 128, 32, 32]\n",
      "✅ 特征融合成功: torch.Size([2, 2240]) -> torch.Size([2, 256])\n"
     ]
    },
    {
     "name": "stderr",
     "output_type": "stream",
     "text": [
      "训练中:  38%|███▊      | 267/699 [42:09<59:54,  8.32s/it, Loss=nan, Acc=0.5075]  "
     ]
    },
    {
     "name": "stdout",
     "output_type": "stream",
     "text": [
      "🔍 融合特征维度: [2048, 128, 32, 32]\n",
      "✅ 特征融合成功: torch.Size([2, 2240]) -> torch.Size([2, 256])\n"
     ]
    },
    {
     "name": "stderr",
     "output_type": "stream",
     "text": [
      "训练中:  38%|███▊      | 268/699 [42:30<1:25:44, 11.94s/it, Loss=nan, Acc=0.5075]"
     ]
    },
    {
     "name": "stdout",
     "output_type": "stream",
     "text": [
      "🔍 融合特征维度: [2048, 128, 32, 32]\n",
      "✅ 特征融合成功: torch.Size([2, 2240]) -> torch.Size([2, 256])\n"
     ]
    },
    {
     "name": "stderr",
     "output_type": "stream",
     "text": [
      "训练中:  38%|███▊      | 269/699 [42:34<1:08:46,  9.60s/it, Loss=nan, Acc=0.5074]"
     ]
    },
    {
     "name": "stdout",
     "output_type": "stream",
     "text": [
      "🔍 融合特征维度: [2048, 128, 32, 32]\n",
      "✅ 特征融合成功: torch.Size([2, 2240]) -> torch.Size([2, 256])\n"
     ]
    },
    {
     "name": "stderr",
     "output_type": "stream",
     "text": [
      "训练中:  39%|███▊      | 270/699 [42:38<57:46,  8.08s/it, Loss=nan, Acc=0.5074]  "
     ]
    },
    {
     "name": "stdout",
     "output_type": "stream",
     "text": [
      "🔍 融合特征维度: [2048, 128, 32, 32]\n",
      "✅ 特征融合成功: torch.Size([2, 2240]) -> torch.Size([2, 256])\n"
     ]
    },
    {
     "name": "stderr",
     "output_type": "stream",
     "text": [
      "训练中:  39%|███▉      | 271/699 [42:47<59:44,  8.38s/it, Loss=nan, Acc=0.5055]"
     ]
    },
    {
     "name": "stdout",
     "output_type": "stream",
     "text": [
      "🔍 融合特征维度: [2048, 128, 32, 32]\n",
      "✅ 特征融合成功: torch.Size([2, 2240]) -> torch.Size([2, 256])\n"
     ]
    },
    {
     "name": "stderr",
     "output_type": "stream",
     "text": [
      "训练中:  39%|███▉      | 272/699 [42:54<56:05,  7.88s/it, Loss=nan, Acc=0.5055]"
     ]
    },
    {
     "name": "stdout",
     "output_type": "stream",
     "text": [
      "🔍 融合特征维度: [2048, 128, 32, 32]\n",
      "✅ 特征融合成功: torch.Size([2, 2240]) -> torch.Size([2, 256])\n"
     ]
    },
    {
     "name": "stderr",
     "output_type": "stream",
     "text": [
      "训练中:  39%|███▉      | 273/699 [42:59<49:00,  6.90s/it, Loss=nan, Acc=0.5055]"
     ]
    },
    {
     "name": "stdout",
     "output_type": "stream",
     "text": [
      "🔍 融合特征维度: [2048, 128, 32, 32]\n",
      "✅ 特征融合成功: torch.Size([2, 2240]) -> torch.Size([2, 256])\n"
     ]
    },
    {
     "name": "stderr",
     "output_type": "stream",
     "text": [
      "训练中:  39%|███▉      | 274/699 [43:05<47:34,  6.72s/it, Loss=nan, Acc=0.5055]"
     ]
    },
    {
     "name": "stdout",
     "output_type": "stream",
     "text": [
      "🔍 融合特征维度: [2048, 128, 32, 32]\n",
      "✅ 特征融合成功: torch.Size([2, 2240]) -> torch.Size([2, 256])\n"
     ]
    },
    {
     "name": "stderr",
     "output_type": "stream",
     "text": [
      "训练中:  39%|███▉      | 275/699 [43:16<56:54,  8.05s/it, Loss=nan, Acc=0.5036]"
     ]
    },
    {
     "name": "stdout",
     "output_type": "stream",
     "text": [
      "🔍 融合特征维度: [2048, 128, 32, 32]\n",
      "✅ 特征融合成功: torch.Size([2, 2240]) -> torch.Size([2, 256])\n"
     ]
    },
    {
     "name": "stderr",
     "output_type": "stream",
     "text": [
      "训练中:  39%|███▉      | 276/699 [43:20<48:36,  6.89s/it, Loss=nan, Acc=0.5036]"
     ]
    },
    {
     "name": "stdout",
     "output_type": "stream",
     "text": [
      "🔍 融合特征维度: [2048, 128, 32, 32]\n",
      "✅ 特征融合成功: torch.Size([2, 2240]) -> torch.Size([2, 256])\n"
     ]
    },
    {
     "name": "stderr",
     "output_type": "stream",
     "text": [
      "训练中:  40%|███▉      | 277/699 [43:25<44:16,  6.30s/it, Loss=nan, Acc=0.5036]"
     ]
    },
    {
     "name": "stdout",
     "output_type": "stream",
     "text": [
      "🔍 融合特征维度: [2048, 128, 32, 32]\n",
      "✅ 特征融合成功: torch.Size([2, 2240]) -> torch.Size([2, 256])\n"
     ]
    },
    {
     "name": "stderr",
     "output_type": "stream",
     "text": [
      "训练中:  40%|███▉      | 278/699 [43:30<41:43,  5.95s/it, Loss=nan, Acc=0.5018]"
     ]
    },
    {
     "name": "stdout",
     "output_type": "stream",
     "text": [
      "🔍 融合特征维度: [2048, 128, 32, 32]\n",
      "✅ 特征融合成功: torch.Size([2, 2240]) -> torch.Size([2, 256])\n"
     ]
    },
    {
     "name": "stderr",
     "output_type": "stream",
     "text": [
      "训练中:  40%|███▉      | 279/699 [43:45<1:00:32,  8.65s/it, Loss=nan, Acc=0.5036]"
     ]
    },
    {
     "name": "stdout",
     "output_type": "stream",
     "text": [
      "🔍 融合特征维度: [2048, 128, 32, 32]\n",
      "✅ 特征融合成功: torch.Size([2, 2240]) -> torch.Size([2, 256])\n"
     ]
    },
    {
     "name": "stderr",
     "output_type": "stream",
     "text": [
      "训练中:  40%|████      | 280/699 [43:56<1:03:43,  9.13s/it, Loss=nan, Acc=0.5036]"
     ]
    },
    {
     "name": "stdout",
     "output_type": "stream",
     "text": [
      "🔍 融合特征维度: [2048, 128, 32, 32]\n",
      "✅ 特征融合成功: torch.Size([2, 2240]) -> torch.Size([2, 256])\n"
     ]
    },
    {
     "name": "stderr",
     "output_type": "stream",
     "text": [
      "训练中:  40%|████      | 281/699 [44:20<1:34:34, 13.57s/it, Loss=nan, Acc=0.5053]"
     ]
    },
    {
     "name": "stdout",
     "output_type": "stream",
     "text": [
      "🔍 融合特征维度: [2048, 128, 32, 32]\n",
      "✅ 特征融合成功: torch.Size([2, 2240]) -> torch.Size([2, 256])\n"
     ]
    },
    {
     "name": "stderr",
     "output_type": "stream",
     "text": [
      "训练中:  40%|████      | 282/699 [44:34<1:35:28, 13.74s/it, Loss=nan, Acc=0.5053]"
     ]
    },
    {
     "name": "stdout",
     "output_type": "stream",
     "text": [
      "🔍 融合特征维度: [2048, 128, 32, 32]\n",
      "✅ 特征融合成功: torch.Size([2, 2240]) -> torch.Size([2, 256])\n"
     ]
    },
    {
     "name": "stderr",
     "output_type": "stream",
     "text": [
      "训练中:  40%|████      | 283/699 [44:45<1:29:29, 12.91s/it, Loss=nan, Acc=0.5071]"
     ]
    },
    {
     "name": "stdout",
     "output_type": "stream",
     "text": [
      "🔍 融合特征维度: [2048, 128, 32, 32]\n",
      "✅ 特征融合成功: torch.Size([2, 2240]) -> torch.Size([2, 256])\n"
     ]
    },
    {
     "name": "stderr",
     "output_type": "stream",
     "text": [
      "训练中:  41%|████      | 284/699 [44:50<1:13:02, 10.56s/it, Loss=nan, Acc=0.5088]"
     ]
    },
    {
     "name": "stdout",
     "output_type": "stream",
     "text": [
      "🔍 融合特征维度: [2048, 128, 32, 32]\n",
      "✅ 特征融合成功: torch.Size([2, 2240]) -> torch.Size([2, 256])\n"
     ]
    },
    {
     "name": "stderr",
     "output_type": "stream",
     "text": [
      "训练中:  41%|████      | 285/699 [45:03<1:18:15, 11.34s/it, Loss=nan, Acc=0.5105]"
     ]
    },
    {
     "name": "stdout",
     "output_type": "stream",
     "text": [
      "🔍 融合特征维度: [2048, 128, 32, 32]\n",
      "✅ 特征融合成功: torch.Size([2, 2240]) -> torch.Size([2, 256])\n"
     ]
    },
    {
     "name": "stderr",
     "output_type": "stream",
     "text": [
      "训练中:  41%|████      | 286/699 [45:07<1:02:10,  9.03s/it, Loss=nan, Acc=0.5087]"
     ]
    },
    {
     "name": "stdout",
     "output_type": "stream",
     "text": [
      "🔍 融合特征维度: [2048, 128, 32, 32]\n",
      "✅ 特征融合成功: torch.Size([2, 2240]) -> torch.Size([2, 256])\n"
     ]
    },
    {
     "name": "stderr",
     "output_type": "stream",
     "text": [
      "训练中:  41%|████      | 287/699 [45:11<53:19,  7.76s/it, Loss=nan, Acc=0.5087]  "
     ]
    },
    {
     "name": "stdout",
     "output_type": "stream",
     "text": [
      "🔍 融合特征维度: [2048, 128, 32, 32]\n",
      "✅ 特征融合成功: torch.Size([2, 2240]) -> torch.Size([2, 256])\n"
     ]
    },
    {
     "name": "stderr",
     "output_type": "stream",
     "text": [
      "训练中:  41%|████      | 288/699 [45:15<45:42,  6.67s/it, Loss=nan, Acc=0.5069]"
     ]
    },
    {
     "name": "stdout",
     "output_type": "stream",
     "text": [
      "🔍 融合特征维度: [2048, 128, 32, 32]\n",
      "✅ 特征融合成功: torch.Size([2, 2240]) -> torch.Size([2, 256])\n"
     ]
    },
    {
     "name": "stderr",
     "output_type": "stream",
     "text": [
      "训练中:  41%|████▏     | 289/699 [45:28<57:16,  8.38s/it, Loss=nan, Acc=0.5087]"
     ]
    },
    {
     "name": "stdout",
     "output_type": "stream",
     "text": [
      "🔍 融合特征维度: [2048, 128, 32, 32]\n",
      "✅ 特征融合成功: torch.Size([2, 2240]) -> torch.Size([2, 256])\n"
     ]
    },
    {
     "name": "stderr",
     "output_type": "stream",
     "text": [
      "训练中:  41%|████▏     | 290/699 [45:36<56:53,  8.35s/it, Loss=nan, Acc=0.5103]"
     ]
    },
    {
     "name": "stdout",
     "output_type": "stream",
     "text": [
      "🔍 融合特征维度: [2048, 128, 32, 32]\n",
      "✅ 特征融合成功: torch.Size([2, 2240]) -> torch.Size([2, 256])\n"
     ]
    },
    {
     "name": "stderr",
     "output_type": "stream",
     "text": [
      "训练中:  42%|████▏     | 291/699 [45:40<48:40,  7.16s/it, Loss=nan, Acc=0.5103]"
     ]
    },
    {
     "name": "stdout",
     "output_type": "stream",
     "text": [
      "🔍 融合特征维度: [2048, 128, 32, 32]\n",
      "✅ 特征融合成功: torch.Size([2, 2240]) -> torch.Size([2, 256])\n"
     ]
    },
    {
     "name": "stderr",
     "output_type": "stream",
     "text": [
      "训练中:  42%|████▏     | 292/699 [45:48<49:58,  7.37s/it, Loss=nan, Acc=0.5103]"
     ]
    },
    {
     "name": "stdout",
     "output_type": "stream",
     "text": [
      "🔍 融合特征维度: [2048, 128, 32, 32]\n",
      "✅ 特征融合成功: torch.Size([2, 2240]) -> torch.Size([2, 256])\n"
     ]
    },
    {
     "name": "stderr",
     "output_type": "stream",
     "text": [
      "训练中:  42%|████▏     | 293/699 [45:59<55:33,  8.21s/it, Loss=nan, Acc=0.5119]"
     ]
    },
    {
     "name": "stdout",
     "output_type": "stream",
     "text": [
      "🔍 融合特征维度: [2048, 128, 32, 32]\n",
      "✅ 特征融合成功: torch.Size([2, 2240]) -> torch.Size([2, 256])\n"
     ]
    },
    {
     "name": "stderr",
     "output_type": "stream",
     "text": [
      "训练中:  42%|████▏     | 294/699 [46:10<1:01:29,  9.11s/it, Loss=nan, Acc=0.5136]"
     ]
    },
    {
     "name": "stdout",
     "output_type": "stream",
     "text": [
      "🔍 融合特征维度: [2048, 128, 32, 32]\n",
      "✅ 特征融合成功: torch.Size([2, 2240]) -> torch.Size([2, 256])\n"
     ]
    },
    {
     "name": "stderr",
     "output_type": "stream",
     "text": [
      "训练中:  42%|████▏     | 295/699 [46:24<1:12:02, 10.70s/it, Loss=nan, Acc=0.5153]"
     ]
    },
    {
     "name": "stdout",
     "output_type": "stream",
     "text": [
      "🔍 融合特征维度: [2048, 128, 32, 32]\n",
      "✅ 特征融合成功: torch.Size([2, 2240]) -> torch.Size([2, 256])\n"
     ]
    },
    {
     "name": "stderr",
     "output_type": "stream",
     "text": [
      "训练中:  42%|████▏     | 296/699 [46:35<1:12:38, 10.81s/it, Loss=nan, Acc=0.5135]"
     ]
    },
    {
     "name": "stdout",
     "output_type": "stream",
     "text": [
      "🔍 融合特征维度: [2048, 128, 32, 32]\n",
      "✅ 特征融合成功: torch.Size([2, 2240]) -> torch.Size([2, 256])\n"
     ]
    },
    {
     "name": "stderr",
     "output_type": "stream",
     "text": [
      "训练中:  42%|████▏     | 297/699 [46:52<1:24:58, 12.68s/it, Loss=nan, Acc=0.5135]"
     ]
    },
    {
     "name": "stdout",
     "output_type": "stream",
     "text": [
      "🔍 融合特征维度: [2048, 128, 32, 32]\n",
      "✅ 特征融合成功: torch.Size([2, 2240]) -> torch.Size([2, 256])\n"
     ]
    },
    {
     "name": "stderr",
     "output_type": "stream",
     "text": [
      "训练中:  43%|████▎     | 298/699 [46:59<1:12:33, 10.86s/it, Loss=nan, Acc=0.5117]"
     ]
    },
    {
     "name": "stdout",
     "output_type": "stream",
     "text": [
      "🔍 融合特征维度: [2048, 128, 32, 32]\n",
      "✅ 特征融合成功: torch.Size([2, 2240]) -> torch.Size([2, 256])\n"
     ]
    },
    {
     "name": "stderr",
     "output_type": "stream",
     "text": [
      "训练中:  43%|████▎     | 299/699 [47:12<1:17:21, 11.60s/it, Loss=nan, Acc=0.5117]"
     ]
    },
    {
     "name": "stdout",
     "output_type": "stream",
     "text": [
      "🔍 融合特征维度: [2048, 128, 32, 32]\n",
      "✅ 特征融合成功: torch.Size([2, 2240]) -> torch.Size([2, 256])\n"
     ]
    },
    {
     "name": "stderr",
     "output_type": "stream",
     "text": [
      "训练中:  43%|████▎     | 300/699 [47:26<1:20:46, 12.15s/it, Loss=nan, Acc=0.5117]"
     ]
    },
    {
     "name": "stdout",
     "output_type": "stream",
     "text": [
      "🔍 融合特征维度: [2048, 128, 32, 32]\n",
      "✅ 特征融合成功: torch.Size([2, 2240]) -> torch.Size([2, 256])\n"
     ]
    },
    {
     "name": "stderr",
     "output_type": "stream",
     "text": [
      "训练中:  43%|████▎     | 301/699 [47:31<1:06:56, 10.09s/it, Loss=nan, Acc=0.5116]"
     ]
    },
    {
     "name": "stdout",
     "output_type": "stream",
     "text": [
      "🔍 融合特征维度: [2048, 128, 32, 32]\n",
      "✅ 特征融合成功: torch.Size([2, 2240]) -> torch.Size([2, 256])\n"
     ]
    },
    {
     "name": "stderr",
     "output_type": "stream",
     "text": [
      "训练中:  43%|████▎     | 302/699 [47:41<1:05:54,  9.96s/it, Loss=nan, Acc=0.5116]"
     ]
    },
    {
     "name": "stdout",
     "output_type": "stream",
     "text": [
      "🔍 融合特征维度: [2048, 128, 32, 32]\n",
      "✅ 特征融合成功: torch.Size([2, 2240]) -> torch.Size([2, 256])\n"
     ]
    },
    {
     "name": "stderr",
     "output_type": "stream",
     "text": [
      "训练中:  43%|████▎     | 303/699 [47:46<57:25,  8.70s/it, Loss=nan, Acc=0.5116]  "
     ]
    },
    {
     "name": "stdout",
     "output_type": "stream",
     "text": [
      "🔍 融合特征维度: [2048, 128, 32, 32]\n",
      "✅ 特征融合成功: torch.Size([2, 2240]) -> torch.Size([2, 256])\n"
     ]
    },
    {
     "name": "stderr",
     "output_type": "stream",
     "text": [
      "训练中:  43%|████▎     | 304/699 [47:53<52:29,  7.97s/it, Loss=nan, Acc=0.5115]"
     ]
    },
    {
     "name": "stdout",
     "output_type": "stream",
     "text": [
      "🔍 融合特征维度: [2048, 128, 32, 32]\n",
      "✅ 特征融合成功: torch.Size([2, 2240]) -> torch.Size([2, 256])\n"
     ]
    },
    {
     "name": "stderr",
     "output_type": "stream",
     "text": [
      "训练中:  44%|████▎     | 305/699 [47:59<49:46,  7.58s/it, Loss=nan, Acc=0.5098]"
     ]
    },
    {
     "name": "stdout",
     "output_type": "stream",
     "text": [
      "🔍 融合特征维度: [2048, 128, 32, 32]\n",
      "✅ 特征融合成功: torch.Size([2, 2240]) -> torch.Size([2, 256])\n"
     ]
    },
    {
     "name": "stderr",
     "output_type": "stream",
     "text": [
      "训练中:  44%|████▍     | 306/699 [48:07<49:51,  7.61s/it, Loss=nan, Acc=0.5114]"
     ]
    },
    {
     "name": "stdout",
     "output_type": "stream",
     "text": [
      "🔍 融合特征维度: [2048, 128, 32, 32]\n",
      "✅ 特征融合成功: torch.Size([2, 2240]) -> torch.Size([2, 256])\n"
     ]
    },
    {
     "name": "stderr",
     "output_type": "stream",
     "text": [
      "训练中:  44%|████▍     | 307/699 [48:12<45:23,  6.95s/it, Loss=nan, Acc=0.5114]"
     ]
    },
    {
     "name": "stdout",
     "output_type": "stream",
     "text": [
      "🔍 融合特征维度: [2048, 128, 32, 32]\n",
      "✅ 特征融合成功: torch.Size([2, 2240]) -> torch.Size([2, 256])\n"
     ]
    },
    {
     "name": "stderr",
     "output_type": "stream",
     "text": [
      "训练中:  44%|████▍     | 308/699 [48:19<43:47,  6.72s/it, Loss=nan, Acc=0.5097]"
     ]
    },
    {
     "name": "stdout",
     "output_type": "stream",
     "text": [
      "🔍 融合特征维度: [2048, 128, 32, 32]\n",
      "✅ 特征融合成功: torch.Size([2, 2240]) -> torch.Size([2, 256])\n"
     ]
    },
    {
     "name": "stderr",
     "output_type": "stream",
     "text": [
      "训练中:  44%|████▍     | 309/699 [48:23<39:44,  6.11s/it, Loss=nan, Acc=0.5113]"
     ]
    },
    {
     "name": "stdout",
     "output_type": "stream",
     "text": [
      "🔍 融合特征维度: [2048, 128, 32, 32]\n",
      "✅ 特征融合成功: torch.Size([2, 2240]) -> torch.Size([2, 256])\n"
     ]
    },
    {
     "name": "stderr",
     "output_type": "stream",
     "text": [
      "训练中:  44%|████▍     | 310/699 [48:34<49:07,  7.58s/it, Loss=nan, Acc=0.5113]"
     ]
    },
    {
     "name": "stdout",
     "output_type": "stream",
     "text": [
      "🔍 融合特征维度: [2048, 128, 32, 32]\n",
      "✅ 特征融合成功: torch.Size([2, 2240]) -> torch.Size([2, 256])\n"
     ]
    },
    {
     "name": "stderr",
     "output_type": "stream",
     "text": [
      "训练中:  44%|████▍     | 311/699 [48:48<1:00:18,  9.33s/it, Loss=nan, Acc=0.5113]"
     ]
    },
    {
     "name": "stdout",
     "output_type": "stream",
     "text": [
      "🔍 融合特征维度: [2048, 128, 32, 32]\n",
      "✅ 特征融合成功: torch.Size([2, 2240]) -> torch.Size([2, 256])\n"
     ]
    },
    {
     "name": "stderr",
     "output_type": "stream",
     "text": [
      "训练中:  45%|████▍     | 312/699 [48:52<50:03,  7.76s/it, Loss=nan, Acc=0.5112]  "
     ]
    },
    {
     "name": "stdout",
     "output_type": "stream",
     "text": [
      "🔍 融合特征维度: [2048, 128, 32, 32]\n",
      "✅ 特征融合成功: torch.Size([2, 2240]) -> torch.Size([2, 256])\n"
     ]
    },
    {
     "name": "stderr",
     "output_type": "stream",
     "text": [
      "训练中:  45%|████▍     | 313/699 [48:57<45:57,  7.14s/it, Loss=nan, Acc=0.5112]"
     ]
    },
    {
     "name": "stdout",
     "output_type": "stream",
     "text": [
      "🔍 融合特征维度: [2048, 128, 32, 32]\n",
      "✅ 特征融合成功: torch.Size([2, 2240]) -> torch.Size([2, 256])\n"
     ]
    },
    {
     "name": "stderr",
     "output_type": "stream",
     "text": [
      "训练中:  45%|████▍     | 314/699 [49:07<51:06,  7.96s/it, Loss=nan, Acc=0.5111]"
     ]
    },
    {
     "name": "stdout",
     "output_type": "stream",
     "text": [
      "🔍 融合特征维度: [2048, 128, 32, 32]\n",
      "✅ 特征融合成功: torch.Size([2, 2240]) -> torch.Size([2, 256])\n"
     ]
    },
    {
     "name": "stderr",
     "output_type": "stream",
     "text": [
      "训练中:  45%|████▌     | 315/699 [49:21<1:01:17,  9.58s/it, Loss=nan, Acc=0.5127]"
     ]
    },
    {
     "name": "stdout",
     "output_type": "stream",
     "text": [
      "🔍 融合特征维度: [2048, 128, 32, 32]\n",
      "✅ 特征融合成功: torch.Size([2, 2240]) -> torch.Size([2, 256])\n"
     ]
    },
    {
     "name": "stderr",
     "output_type": "stream",
     "text": [
      "训练中:  45%|████▌     | 316/699 [49:40<1:19:55, 12.52s/it, Loss=nan, Acc=0.5142]"
     ]
    },
    {
     "name": "stdout",
     "output_type": "stream",
     "text": [
      "🔍 融合特征维度: [2048, 128, 32, 32]\n",
      "✅ 特征融合成功: torch.Size([2, 2240]) -> torch.Size([2, 256])\n"
     ]
    },
    {
     "name": "stderr",
     "output_type": "stream",
     "text": [
      "训练中:  45%|████▌     | 317/699 [49:44<1:03:29,  9.97s/it, Loss=nan, Acc=0.5142]"
     ]
    },
    {
     "name": "stdout",
     "output_type": "stream",
     "text": [
      "🔍 融合特征维度: [2048, 128, 32, 32]\n",
      "✅ 特征融合成功: torch.Size([2, 2240]) -> torch.Size([2, 256])\n"
     ]
    },
    {
     "name": "stderr",
     "output_type": "stream",
     "text": [
      "训练中:  45%|████▌     | 318/699 [49:48<51:59,  8.19s/it, Loss=nan, Acc=0.5157]  "
     ]
    },
    {
     "name": "stdout",
     "output_type": "stream",
     "text": [
      "🔍 融合特征维度: [2048, 128, 32, 32]\n",
      "✅ 特征融合成功: torch.Size([2, 2240]) -> torch.Size([2, 256])\n"
     ]
    },
    {
     "name": "stderr",
     "output_type": "stream",
     "text": [
      "训练中:  46%|████▌     | 319/699 [49:58<54:52,  8.66s/it, Loss=nan, Acc=0.5172]"
     ]
    },
    {
     "name": "stdout",
     "output_type": "stream",
     "text": [
      "🔍 融合特征维度: [2048, 128, 32, 32]\n",
      "✅ 特征融合成功: torch.Size([2, 2240]) -> torch.Size([2, 256])\n"
     ]
    },
    {
     "name": "stderr",
     "output_type": "stream",
     "text": [
      "训练中:  46%|████▌     | 320/699 [50:08<58:14,  9.22s/it, Loss=nan, Acc=0.5188]"
     ]
    },
    {
     "name": "stdout",
     "output_type": "stream",
     "text": [
      "🔍 融合特征维度: [2048, 128, 32, 32]\n",
      "✅ 特征融合成功: torch.Size([2, 2240]) -> torch.Size([2, 256])\n"
     ]
    },
    {
     "name": "stderr",
     "output_type": "stream",
     "text": [
      "训练中:  46%|████▌     | 321/699 [50:38<1:35:55, 15.22s/it, Loss=nan, Acc=0.5187]"
     ]
    },
    {
     "name": "stdout",
     "output_type": "stream",
     "text": [
      "🔍 融合特征维度: [2048, 128, 32, 32]\n",
      "✅ 特征融合成功: torch.Size([2, 2240]) -> torch.Size([2, 256])\n"
     ]
    },
    {
     "name": "stderr",
     "output_type": "stream",
     "text": [
      "训练中:  46%|████▌     | 322/699 [50:56<1:42:12, 16.27s/it, Loss=nan, Acc=0.5171]"
     ]
    },
    {
     "name": "stdout",
     "output_type": "stream",
     "text": [
      "🔍 融合特征维度: [2048, 128, 32, 32]\n",
      "✅ 特征融合成功: torch.Size([2, 2240]) -> torch.Size([2, 256])\n"
     ]
    },
    {
     "name": "stderr",
     "output_type": "stream",
     "text": [
      "训练中:  46%|████▌     | 323/699 [51:05<1:27:43, 14.00s/it, Loss=nan, Acc=0.5186]"
     ]
    },
    {
     "name": "stdout",
     "output_type": "stream",
     "text": [
      "🔍 融合特征维度: [2048, 128, 32, 32]\n",
      "✅ 特征融合成功: torch.Size([2, 2240]) -> torch.Size([2, 256])\n"
     ]
    },
    {
     "name": "stderr",
     "output_type": "stream",
     "text": [
      "训练中:  46%|████▋     | 324/699 [51:16<1:22:00, 13.12s/it, Loss=nan, Acc=0.5170]"
     ]
    },
    {
     "name": "stdout",
     "output_type": "stream",
     "text": [
      "🔍 融合特征维度: [2048, 128, 32, 32]\n",
      "✅ 特征融合成功: torch.Size([2, 2240]) -> torch.Size([2, 256])\n"
     ]
    },
    {
     "name": "stderr",
     "output_type": "stream",
     "text": [
      "训练中:  46%|████▋     | 325/699 [51:20<1:04:58, 10.42s/it, Loss=nan, Acc=0.5185]"
     ]
    },
    {
     "name": "stdout",
     "output_type": "stream",
     "text": [
      "🔍 融合特征维度: [2048, 128, 32, 32]\n",
      "✅ 特征融合成功: torch.Size([2, 2240]) -> torch.Size([2, 256])\n"
     ]
    },
    {
     "name": "stderr",
     "output_type": "stream",
     "text": [
      "训练中:  47%|████▋     | 326/699 [51:32<1:07:21, 10.83s/it, Loss=nan, Acc=0.5184]"
     ]
    },
    {
     "name": "stdout",
     "output_type": "stream",
     "text": [
      "🔍 融合特征维度: [2048, 128, 32, 32]\n",
      "✅ 特征融合成功: torch.Size([2, 2240]) -> torch.Size([2, 256])\n"
     ]
    },
    {
     "name": "stderr",
     "output_type": "stream",
     "text": [
      "训练中:  47%|████▋     | 327/699 [51:35<52:24,  8.45s/it, Loss=nan, Acc=0.5183]  "
     ]
    },
    {
     "name": "stdout",
     "output_type": "stream",
     "text": [
      "🔍 融合特征维度: [2048, 128, 32, 32]\n",
      "✅ 特征融合成功: torch.Size([2, 2240]) -> torch.Size([2, 256])\n"
     ]
    },
    {
     "name": "stderr",
     "output_type": "stream",
     "text": [
      "训练中:  47%|████▋     | 328/699 [51:39<44:42,  7.23s/it, Loss=nan, Acc=0.5183]"
     ]
    },
    {
     "name": "stdout",
     "output_type": "stream",
     "text": [
      "🔍 融合特征维度: [2048, 128, 32, 32]\n",
      "✅ 特征融合成功: torch.Size([2, 2240]) -> torch.Size([2, 256])\n"
     ]
    },
    {
     "name": "stderr",
     "output_type": "stream",
     "text": [
      "训练中:  47%|████▋     | 329/699 [51:43<37:34,  6.09s/it, Loss=nan, Acc=0.5182]"
     ]
    },
    {
     "name": "stdout",
     "output_type": "stream",
     "text": [
      "🔍 融合特征维度: [2048, 128, 32, 32]\n",
      "✅ 特征融合成功: torch.Size([2, 2240]) -> torch.Size([2, 256])\n"
     ]
    },
    {
     "name": "stderr",
     "output_type": "stream",
     "text": [
      "训练中:  47%|████▋     | 330/699 [51:49<38:30,  6.26s/it, Loss=nan, Acc=0.5167]"
     ]
    },
    {
     "name": "stdout",
     "output_type": "stream",
     "text": [
      "🔍 融合特征维度: [2048, 128, 32, 32]\n",
      "✅ 特征融合成功: torch.Size([2, 2240]) -> torch.Size([2, 256])\n"
     ]
    },
    {
     "name": "stderr",
     "output_type": "stream",
     "text": [
      "训练中:  47%|████▋     | 331/699 [52:07<1:00:04,  9.79s/it, Loss=nan, Acc=0.5151]"
     ]
    },
    {
     "name": "stdout",
     "output_type": "stream",
     "text": [
      "🔍 融合特征维度: [2048, 128, 32, 32]\n",
      "✅ 特征融合成功: torch.Size([2, 2240]) -> torch.Size([2, 256])\n"
     ]
    },
    {
     "name": "stderr",
     "output_type": "stream",
     "text": [
      "训练中:  47%|████▋     | 332/699 [52:19<1:03:42, 10.42s/it, Loss=nan, Acc=0.5136]"
     ]
    },
    {
     "name": "stdout",
     "output_type": "stream",
     "text": [
      "🔍 融合特征维度: [2048, 128, 32, 32]\n",
      "✅ 特征融合成功: torch.Size([2, 2240]) -> torch.Size([2, 256])\n"
     ]
    },
    {
     "name": "stderr",
     "output_type": "stream",
     "text": [
      "训练中:  48%|████▊     | 333/699 [52:30<1:03:40, 10.44s/it, Loss=nan, Acc=0.5150]"
     ]
    },
    {
     "name": "stdout",
     "output_type": "stream",
     "text": [
      "🔍 融合特征维度: [2048, 128, 32, 32]\n",
      "✅ 特征融合成功: torch.Size([2, 2240]) -> torch.Size([2, 256])\n"
     ]
    },
    {
     "name": "stderr",
     "output_type": "stream",
     "text": [
      "训练中:  48%|████▊     | 334/699 [52:35<54:31,  8.96s/it, Loss=nan, Acc=0.5150]  "
     ]
    },
    {
     "name": "stdout",
     "output_type": "stream",
     "text": [
      "🔍 融合特征维度: [2048, 128, 32, 32]\n",
      "✅ 特征融合成功: torch.Size([2, 2240]) -> torch.Size([2, 256])\n"
     ]
    },
    {
     "name": "stderr",
     "output_type": "stream",
     "text": [
      "训练中:  48%|████▊     | 335/699 [52:50<1:04:23, 10.61s/it, Loss=nan, Acc=0.5164]"
     ]
    },
    {
     "name": "stdout",
     "output_type": "stream",
     "text": [
      "🔍 融合特征维度: [2048, 128, 32, 32]\n",
      "✅ 特征融合成功: torch.Size([2, 2240]) -> torch.Size([2, 256])\n"
     ]
    },
    {
     "name": "stderr",
     "output_type": "stream",
     "text": [
      "训练中:  48%|████▊     | 336/699 [53:01<1:04:36, 10.68s/it, Loss=nan, Acc=0.5164]"
     ]
    },
    {
     "name": "stdout",
     "output_type": "stream",
     "text": [
      "🔍 融合特征维度: [2048, 128, 32, 32]\n",
      "✅ 特征融合成功: torch.Size([2, 2240]) -> torch.Size([2, 256])\n"
     ]
    },
    {
     "name": "stderr",
     "output_type": "stream",
     "text": [
      "训练中:  48%|████▊     | 337/699 [53:06<55:25,  9.19s/it, Loss=nan, Acc=0.5178]  "
     ]
    },
    {
     "name": "stdout",
     "output_type": "stream",
     "text": [
      "🔍 融合特征维度: [2048, 128, 32, 32]\n",
      "✅ 特征融合成功: torch.Size([2, 2240]) -> torch.Size([2, 256])\n"
     ]
    },
    {
     "name": "stderr",
     "output_type": "stream",
     "text": [
      "训练中:  48%|████▊     | 338/699 [53:12<48:45,  8.11s/it, Loss=nan, Acc=0.5163]"
     ]
    },
    {
     "name": "stdout",
     "output_type": "stream",
     "text": [
      "🔍 融合特征维度: [2048, 128, 32, 32]\n",
      "✅ 特征融合成功: torch.Size([2, 2240]) -> torch.Size([2, 256])\n"
     ]
    },
    {
     "name": "stderr",
     "output_type": "stream",
     "text": [
      "训练中:  48%|████▊     | 339/699 [53:36<1:17:37, 12.94s/it, Loss=nan, Acc=0.5147]"
     ]
    },
    {
     "name": "stdout",
     "output_type": "stream",
     "text": [
      "🔍 融合特征维度: [2048, 128, 32, 32]\n",
      "✅ 特征融合成功: torch.Size([2, 2240]) -> torch.Size([2, 256])\n"
     ]
    },
    {
     "name": "stderr",
     "output_type": "stream",
     "text": [
      "训练中:  49%|████▊     | 340/699 [53:40<1:00:56, 10.19s/it, Loss=nan, Acc=0.5147]"
     ]
    },
    {
     "name": "stdout",
     "output_type": "stream",
     "text": [
      "🔍 融合特征维度: [2048, 128, 32, 32]\n",
      "✅ 特征融合成功: torch.Size([2, 2240]) -> torch.Size([2, 256])\n"
     ]
    },
    {
     "name": "stderr",
     "output_type": "stream",
     "text": [
      "训练中:  49%|████▉     | 341/699 [53:46<53:44,  9.01s/it, Loss=nan, Acc=0.5147]  "
     ]
    },
    {
     "name": "stdout",
     "output_type": "stream",
     "text": [
      "🔍 融合特征维度: [2048, 128, 32, 32]\n",
      "✅ 特征融合成功: torch.Size([2, 2240]) -> torch.Size([2, 256])\n"
     ]
    },
    {
     "name": "stderr",
     "output_type": "stream",
     "text": [
      "训练中:  49%|████▉     | 342/699 [53:50<44:38,  7.50s/it, Loss=nan, Acc=0.5146]"
     ]
    },
    {
     "name": "stdout",
     "output_type": "stream",
     "text": [
      "🔍 融合特征维度: [2048, 128, 32, 32]\n",
      "✅ 特征融合成功: torch.Size([2, 2240]) -> torch.Size([2, 256])\n"
     ]
    },
    {
     "name": "stderr",
     "output_type": "stream",
     "text": [
      "训练中:  49%|████▉     | 343/699 [53:58<44:22,  7.48s/it, Loss=nan, Acc=0.5146]"
     ]
    },
    {
     "name": "stdout",
     "output_type": "stream",
     "text": [
      "🔍 融合特征维度: [2048, 128, 32, 32]\n",
      "✅ 特征融合成功: torch.Size([2, 2240]) -> torch.Size([2, 256])\n"
     ]
    },
    {
     "name": "stderr",
     "output_type": "stream",
     "text": [
      "训练中:  49%|████▉     | 344/699 [54:08<49:49,  8.42s/it, Loss=nan, Acc=0.5145]"
     ]
    },
    {
     "name": "stdout",
     "output_type": "stream",
     "text": [
      "🔍 融合特征维度: [2048, 128, 32, 32]\n",
      "✅ 特征融合成功: torch.Size([2, 2240]) -> torch.Size([2, 256])\n"
     ]
    },
    {
     "name": "stderr",
     "output_type": "stream",
     "text": [
      "训练中:  49%|████▉     | 345/699 [54:14<44:15,  7.50s/it, Loss=nan, Acc=0.5145]"
     ]
    },
    {
     "name": "stdout",
     "output_type": "stream",
     "text": [
      "🔍 融合特征维度: [2048, 128, 32, 32]\n",
      "✅ 特征融合成功: torch.Size([2, 2240]) -> torch.Size([2, 256])\n"
     ]
    },
    {
     "name": "stderr",
     "output_type": "stream",
     "text": [
      "训练中:  49%|████▉     | 346/699 [54:33<1:06:01, 11.22s/it, Loss=nan, Acc=0.5145]"
     ]
    },
    {
     "name": "stdout",
     "output_type": "stream",
     "text": [
      "🔍 融合特征维度: [2048, 128, 32, 32]\n",
      "✅ 特征融合成功: torch.Size([2, 2240]) -> torch.Size([2, 256])\n"
     ]
    },
    {
     "name": "stderr",
     "output_type": "stream",
     "text": [
      "训练中:  50%|████▉     | 347/699 [54:41<58:54, 10.04s/it, Loss=nan, Acc=0.5130]  "
     ]
    },
    {
     "name": "stdout",
     "output_type": "stream",
     "text": [
      "🔍 融合特征维度: [2048, 128, 32, 32]\n",
      "✅ 特征融合成功: torch.Size([2, 2240]) -> torch.Size([2, 256])\n"
     ]
    },
    {
     "name": "stderr",
     "output_type": "stream",
     "text": [
      "训练中:  50%|████▉     | 348/699 [54:45<47:51,  8.18s/it, Loss=nan, Acc=0.5115]"
     ]
    },
    {
     "name": "stdout",
     "output_type": "stream",
     "text": [
      "🔍 融合特征维度: [2048, 128, 32, 32]\n",
      "✅ 特征融合成功: torch.Size([2, 2240]) -> torch.Size([2, 256])\n"
     ]
    },
    {
     "name": "stderr",
     "output_type": "stream",
     "text": [
      "训练中:  50%|████▉     | 349/699 [54:48<39:38,  6.80s/it, Loss=nan, Acc=0.5100]"
     ]
    },
    {
     "name": "stdout",
     "output_type": "stream",
     "text": [
      "🔍 融合特征维度: [2048, 128, 32, 32]\n",
      "✅ 特征融合成功: torch.Size([2, 2240]) -> torch.Size([2, 256])\n"
     ]
    },
    {
     "name": "stderr",
     "output_type": "stream",
     "text": [
      "训练中:  50%|█████     | 350/699 [54:52<33:50,  5.82s/it, Loss=nan, Acc=0.5100]"
     ]
    },
    {
     "name": "stdout",
     "output_type": "stream",
     "text": [
      "🔍 融合特征维度: [2048, 128, 32, 32]\n",
      "✅ 特征融合成功: torch.Size([2, 2240]) -> torch.Size([2, 256])\n"
     ]
    },
    {
     "name": "stderr",
     "output_type": "stream",
     "text": [
      "训练中:  50%|█████     | 351/699 [54:58<34:36,  5.97s/it, Loss=nan, Acc=0.5114]"
     ]
    },
    {
     "name": "stdout",
     "output_type": "stream",
     "text": [
      "🔍 融合特征维度: [2048, 128, 32, 32]\n",
      "✅ 特征融合成功: torch.Size([2, 2240]) -> torch.Size([2, 256])\n"
     ]
    },
    {
     "name": "stderr",
     "output_type": "stream",
     "text": [
      "训练中:  50%|█████     | 352/699 [55:21<1:03:18, 10.95s/it, Loss=nan, Acc=0.5114]"
     ]
    },
    {
     "name": "stdout",
     "output_type": "stream",
     "text": [
      "🔍 融合特征维度: [2048, 128, 32, 32]\n",
      "✅ 特征融合成功: torch.Size([2, 2240]) -> torch.Size([2, 256])\n"
     ]
    },
    {
     "name": "stderr",
     "output_type": "stream",
     "text": [
      "训练中:  51%|█████     | 353/699 [55:29<58:30, 10.15s/it, Loss=nan, Acc=0.5113]  "
     ]
    },
    {
     "name": "stdout",
     "output_type": "stream",
     "text": [
      "🔍 融合特征维度: [2048, 128, 32, 32]\n",
      "✅ 特征融合成功: torch.Size([2, 2240]) -> torch.Size([2, 256])\n"
     ]
    },
    {
     "name": "stderr",
     "output_type": "stream",
     "text": [
      "训练中:  51%|█████     | 354/699 [55:41<1:02:42, 10.91s/it, Loss=nan, Acc=0.5113]"
     ]
    },
    {
     "name": "stdout",
     "output_type": "stream",
     "text": [
      "🔍 融合特征维度: [2048, 128, 32, 32]\n",
      "✅ 特征融合成功: torch.Size([2, 2240]) -> torch.Size([2, 256])\n"
     ]
    },
    {
     "name": "stderr",
     "output_type": "stream",
     "text": [
      "训练中:  51%|█████     | 355/699 [55:46<50:43,  8.85s/it, Loss=nan, Acc=0.5099]  "
     ]
    },
    {
     "name": "stdout",
     "output_type": "stream",
     "text": [
      "🔍 融合特征维度: [2048, 128, 32, 32]\n",
      "✅ 特征融合成功: torch.Size([2, 2240]) -> torch.Size([2, 256])\n"
     ]
    },
    {
     "name": "stderr",
     "output_type": "stream",
     "text": [
      "训练中:  51%|█████     | 356/699 [56:03<1:05:16, 11.42s/it, Loss=nan, Acc=0.5112]"
     ]
    },
    {
     "name": "stdout",
     "output_type": "stream",
     "text": [
      "🔍 融合特征维度: [2048, 128, 32, 32]\n",
      "✅ 特征融合成功: torch.Size([2, 2240]) -> torch.Size([2, 256])\n"
     ]
    },
    {
     "name": "stderr",
     "output_type": "stream",
     "text": [
      "训练中:  51%|█████     | 357/699 [56:12<1:01:44, 10.83s/it, Loss=nan, Acc=0.5098]"
     ]
    },
    {
     "name": "stdout",
     "output_type": "stream",
     "text": [
      "🔍 融合特征维度: [2048, 128, 32, 32]\n",
      "✅ 特征融合成功: torch.Size([2, 2240]) -> torch.Size([2, 256])\n"
     ]
    },
    {
     "name": "stderr",
     "output_type": "stream",
     "text": [
      "训练中:  51%|█████     | 358/699 [56:19<54:04,  9.52s/it, Loss=nan, Acc=0.5112]  "
     ]
    },
    {
     "name": "stdout",
     "output_type": "stream",
     "text": [
      "🔍 融合特征维度: [2048, 128, 32, 32]\n",
      "✅ 特征融合成功: torch.Size([2, 2240]) -> torch.Size([2, 256])\n"
     ]
    },
    {
     "name": "stderr",
     "output_type": "stream",
     "text": [
      "训练中:  51%|█████▏    | 359/699 [56:29<54:38,  9.64s/it, Loss=nan, Acc=0.5111]"
     ]
    },
    {
     "name": "stdout",
     "output_type": "stream",
     "text": [
      "🔍 融合特征维度: [2048, 128, 32, 32]\n",
      "✅ 特征融合成功: torch.Size([2, 2240]) -> torch.Size([2, 256])\n"
     ]
    },
    {
     "name": "stderr",
     "output_type": "stream",
     "text": [
      "训练中:  52%|█████▏    | 360/699 [56:34<47:48,  8.46s/it, Loss=nan, Acc=0.5125]"
     ]
    },
    {
     "name": "stdout",
     "output_type": "stream",
     "text": [
      "🔍 融合特征维度: [2048, 128, 32, 32]\n",
      "✅ 特征融合成功: torch.Size([2, 2240]) -> torch.Size([2, 256])\n"
     ]
    },
    {
     "name": "stderr",
     "output_type": "stream",
     "text": [
      "训练中:  52%|█████▏    | 361/699 [56:50<58:54, 10.46s/it, Loss=nan, Acc=0.5139]"
     ]
    },
    {
     "name": "stdout",
     "output_type": "stream",
     "text": [
      "🔍 融合特征维度: [2048, 128, 32, 32]\n",
      "✅ 特征融合成功: torch.Size([2, 2240]) -> torch.Size([2, 256])\n"
     ]
    },
    {
     "name": "stderr",
     "output_type": "stream",
     "text": [
      "训练中:  52%|█████▏    | 362/699 [56:57<54:21,  9.68s/it, Loss=nan, Acc=0.5138]"
     ]
    },
    {
     "name": "stdout",
     "output_type": "stream",
     "text": [
      "🔍 融合特征维度: [2048, 128, 32, 32]\n",
      "✅ 特征融合成功: torch.Size([2, 2240]) -> torch.Size([2, 256])\n"
     ]
    },
    {
     "name": "stderr",
     "output_type": "stream",
     "text": [
      "训练中:  52%|█████▏    | 363/699 [57:10<59:40, 10.66s/it, Loss=nan, Acc=0.5138]"
     ]
    },
    {
     "name": "stdout",
     "output_type": "stream",
     "text": [
      "🔍 融合特征维度: [2048, 128, 32, 32]\n",
      "✅ 特征融合成功: torch.Size([2, 2240]) -> torch.Size([2, 256])\n"
     ]
    },
    {
     "name": "stderr",
     "output_type": "stream",
     "text": [
      "训练中:  52%|█████▏    | 364/699 [57:34<1:21:01, 14.51s/it, Loss=nan, Acc=0.5151]"
     ]
    },
    {
     "name": "stdout",
     "output_type": "stream",
     "text": [
      "🔍 融合特征维度: [2048, 128, 32, 32]\n",
      "✅ 特征融合成功: torch.Size([2, 2240]) -> torch.Size([2, 256])\n"
     ]
    },
    {
     "name": "stderr",
     "output_type": "stream",
     "text": [
      "训练中:  52%|█████▏    | 365/699 [57:41<1:08:49, 12.36s/it, Loss=nan, Acc=0.5164]"
     ]
    },
    {
     "name": "stdout",
     "output_type": "stream",
     "text": [
      "🔍 融合特征维度: [2048, 128, 32, 32]\n",
      "✅ 特征融合成功: torch.Size([2, 2240]) -> torch.Size([2, 256])\n"
     ]
    },
    {
     "name": "stderr",
     "output_type": "stream",
     "text": [
      "训练中:  52%|█████▏    | 366/699 [57:48<59:11, 10.67s/it, Loss=nan, Acc=0.5164]  "
     ]
    },
    {
     "name": "stdout",
     "output_type": "stream",
     "text": [
      "🔍 融合特征维度: [2048, 128, 32, 32]\n",
      "✅ 特征融合成功: torch.Size([2, 2240]) -> torch.Size([2, 256])\n"
     ]
    },
    {
     "name": "stderr",
     "output_type": "stream",
     "text": [
      "训练中:  53%|█████▎    | 367/699 [57:59<1:00:00, 10.84s/it, Loss=nan, Acc=0.5150]"
     ]
    },
    {
     "name": "stdout",
     "output_type": "stream",
     "text": [
      "🔍 融合特征维度: [2048, 128, 32, 32]\n",
      "✅ 特征融合成功: torch.Size([2, 2240]) -> torch.Size([2, 256])\n"
     ]
    },
    {
     "name": "stderr",
     "output_type": "stream",
     "text": [
      "训练中:  53%|█████▎    | 368/699 [58:06<52:33,  9.53s/it, Loss=nan, Acc=0.5149]  "
     ]
    },
    {
     "name": "stdout",
     "output_type": "stream",
     "text": [
      "🔍 融合特征维度: [2048, 128, 32, 32]\n",
      "✅ 特征融合成功: torch.Size([2, 2240]) -> torch.Size([2, 256])\n"
     ]
    },
    {
     "name": "stderr",
     "output_type": "stream",
     "text": [
      "训练中:  53%|█████▎    | 369/699 [58:10<43:47,  7.96s/it, Loss=nan, Acc=0.5136]"
     ]
    },
    {
     "name": "stdout",
     "output_type": "stream",
     "text": [
      "🔍 融合特征维度: [2048, 128, 32, 32]\n",
      "✅ 特征融合成功: torch.Size([2, 2240]) -> torch.Size([2, 256])\n"
     ]
    },
    {
     "name": "stderr",
     "output_type": "stream",
     "text": [
      "训练中:  53%|█████▎    | 370/699 [58:18<43:20,  7.90s/it, Loss=nan, Acc=0.5135]"
     ]
    },
    {
     "name": "stdout",
     "output_type": "stream",
     "text": [
      "🔍 融合特征维度: [2048, 128, 32, 32]\n",
      "✅ 特征融合成功: torch.Size([2, 2240]) -> torch.Size([2, 256])\n"
     ]
    },
    {
     "name": "stderr",
     "output_type": "stream",
     "text": [
      "训练中:  53%|█████▎    | 371/699 [58:32<54:23,  9.95s/it, Loss=nan, Acc=0.5121]"
     ]
    },
    {
     "name": "stdout",
     "output_type": "stream",
     "text": [
      "🔍 融合特征维度: [2048, 128, 32, 32]\n",
      "✅ 特征融合成功: torch.Size([2, 2240]) -> torch.Size([2, 256])\n"
     ]
    },
    {
     "name": "stderr",
     "output_type": "stream",
     "text": [
      "训练中:  53%|█████▎    | 372/699 [58:37<45:26,  8.34s/it, Loss=nan, Acc=0.5108]"
     ]
    },
    {
     "name": "stdout",
     "output_type": "stream",
     "text": [
      "🔍 融合特征维度: [2048, 128, 32, 32]\n",
      "✅ 特征融合成功: torch.Size([2, 2240]) -> torch.Size([2, 256])\n"
     ]
    },
    {
     "name": "stderr",
     "output_type": "stream",
     "text": [
      "训练中:  53%|█████▎    | 373/699 [58:44<43:10,  7.95s/it, Loss=nan, Acc=0.5107]"
     ]
    },
    {
     "name": "stdout",
     "output_type": "stream",
     "text": [
      "🔍 融合特征维度: [2048, 128, 32, 32]\n",
      "✅ 特征融合成功: torch.Size([2, 2240]) -> torch.Size([2, 256])\n"
     ]
    },
    {
     "name": "stderr",
     "output_type": "stream",
     "text": [
      "训练中:  54%|█████▎    | 374/699 [58:55<48:13,  8.90s/it, Loss=nan, Acc=0.5107]"
     ]
    },
    {
     "name": "stdout",
     "output_type": "stream",
     "text": [
      "🔍 融合特征维度: [2048, 128, 32, 32]\n",
      "✅ 特征融合成功: torch.Size([2, 2240]) -> torch.Size([2, 256])\n"
     ]
    },
    {
     "name": "stderr",
     "output_type": "stream",
     "text": [
      "训练中:  54%|█████▎    | 375/699 [59:05<48:54,  9.06s/it, Loss=nan, Acc=0.5120]"
     ]
    },
    {
     "name": "stdout",
     "output_type": "stream",
     "text": [
      "🔍 融合特征维度: [2048, 128, 32, 32]\n",
      "✅ 特征融合成功: torch.Size([2, 2240]) -> torch.Size([2, 256])\n"
     ]
    },
    {
     "name": "stderr",
     "output_type": "stream",
     "text": [
      "训练中:  54%|█████▍    | 376/699 [59:09<41:31,  7.71s/it, Loss=nan, Acc=0.5106]"
     ]
    },
    {
     "name": "stdout",
     "output_type": "stream",
     "text": [
      "🔍 融合特征维度: [2048, 128, 32, 32]\n",
      "✅ 特征融合成功: torch.Size([2, 2240]) -> torch.Size([2, 256])\n"
     ]
    },
    {
     "name": "stderr",
     "output_type": "stream",
     "text": [
      "训练中:  54%|█████▍    | 377/699 [59:23<51:30,  9.60s/it, Loss=nan, Acc=0.5106]"
     ]
    },
    {
     "name": "stdout",
     "output_type": "stream",
     "text": [
      "🔍 融合特征维度: [2048, 128, 32, 32]\n",
      "✅ 特征融合成功: torch.Size([2, 2240]) -> torch.Size([2, 256])\n"
     ]
    },
    {
     "name": "stderr",
     "output_type": "stream",
     "text": [
      "训练中:  54%|█████▍    | 378/699 [59:27<41:43,  7.80s/it, Loss=nan, Acc=0.5106]"
     ]
    },
    {
     "name": "stdout",
     "output_type": "stream",
     "text": [
      "🔍 融合特征维度: [2048, 128, 32, 32]\n",
      "✅ 特征融合成功: torch.Size([2, 2240]) -> torch.Size([2, 256])\n"
     ]
    },
    {
     "name": "stderr",
     "output_type": "stream",
     "text": [
      "训练中:  54%|█████▍    | 379/699 [59:37<45:41,  8.57s/it, Loss=nan, Acc=0.5119]"
     ]
    },
    {
     "name": "stdout",
     "output_type": "stream",
     "text": [
      "🔍 融合特征维度: [2048, 128, 32, 32]\n",
      "✅ 特征融合成功: torch.Size([2, 2240]) -> torch.Size([2, 256])\n"
     ]
    },
    {
     "name": "stderr",
     "output_type": "stream",
     "text": [
      "训练中:  54%|█████▍    | 380/699 [59:51<54:27, 10.24s/it, Loss=nan, Acc=0.5118]"
     ]
    },
    {
     "name": "stdout",
     "output_type": "stream",
     "text": [
      "🔍 融合特征维度: [2048, 128, 32, 32]\n",
      "✅ 特征融合成功: torch.Size([2, 2240]) -> torch.Size([2, 256])\n"
     ]
    },
    {
     "name": "stderr",
     "output_type": "stream",
     "text": [
      "训练中:  55%|█████▍    | 381/699 [1:00:15<1:14:56, 14.14s/it, Loss=nan, Acc=0.5118]"
     ]
    },
    {
     "name": "stdout",
     "output_type": "stream",
     "text": [
      "🔍 融合特征维度: [2048, 128, 32, 32]\n",
      "✅ 特征融合成功: torch.Size([2, 2240]) -> torch.Size([2, 256])\n"
     ]
    },
    {
     "name": "stderr",
     "output_type": "stream",
     "text": [
      "训练中:  55%|█████▍    | 382/699 [1:00:26<1:10:14, 13.29s/it, Loss=nan, Acc=0.5118]"
     ]
    },
    {
     "name": "stdout",
     "output_type": "stream",
     "text": [
      "🔍 融合特征维度: [2048, 128, 32, 32]\n",
      "✅ 特征融合成功: torch.Size([2, 2240]) -> torch.Size([2, 256])\n"
     ]
    },
    {
     "name": "stderr",
     "output_type": "stream",
     "text": [
      "训练中:  55%|█████▍    | 383/699 [1:00:42<1:14:45, 14.20s/it, Loss=nan, Acc=0.5117]"
     ]
    },
    {
     "name": "stdout",
     "output_type": "stream",
     "text": [
      "🔍 融合特征维度: [2048, 128, 32, 32]\n",
      "✅ 特征融合成功: torch.Size([2, 2240]) -> torch.Size([2, 256])\n"
     ]
    },
    {
     "name": "stderr",
     "output_type": "stream",
     "text": [
      "训练中:  55%|█████▍    | 384/699 [1:00:47<1:00:09, 11.46s/it, Loss=nan, Acc=0.5130]"
     ]
    },
    {
     "name": "stdout",
     "output_type": "stream",
     "text": [
      "🔍 融合特征维度: [2048, 128, 32, 32]\n",
      "✅ 特征融合成功: torch.Size([2, 2240]) -> torch.Size([2, 256])\n"
     ]
    },
    {
     "name": "stderr",
     "output_type": "stream",
     "text": [
      "训练中:  55%|█████▌    | 385/699 [1:00:53<51:07,  9.77s/it, Loss=nan, Acc=0.5117]  "
     ]
    },
    {
     "name": "stdout",
     "output_type": "stream",
     "text": [
      "🔍 融合特征维度: [2048, 128, 32, 32]\n",
      "✅ 特征融合成功: torch.Size([2, 2240]) -> torch.Size([2, 256])\n"
     ]
    },
    {
     "name": "stderr",
     "output_type": "stream",
     "text": [
      "训练中:  55%|█████▌    | 386/699 [1:01:02<49:46,  9.54s/it, Loss=nan, Acc=0.5117]"
     ]
    },
    {
     "name": "stdout",
     "output_type": "stream",
     "text": [
      "🔍 融合特征维度: [2048, 128, 32, 32]\n",
      "✅ 特征融合成功: torch.Size([2, 2240]) -> torch.Size([2, 256])\n"
     ]
    },
    {
     "name": "stderr",
     "output_type": "stream",
     "text": [
      "训练中:  55%|█████▌    | 387/699 [1:01:16<55:40, 10.71s/it, Loss=nan, Acc=0.5103]"
     ]
    },
    {
     "name": "stdout",
     "output_type": "stream",
     "text": [
      "🔍 融合特征维度: [2048, 128, 32, 32]\n",
      "✅ 特征融合成功: torch.Size([2, 2240]) -> torch.Size([2, 256])\n"
     ]
    },
    {
     "name": "stderr",
     "output_type": "stream",
     "text": [
      "训练中:  56%|█████▌    | 388/699 [1:01:26<54:30, 10.52s/it, Loss=nan, Acc=0.5103]"
     ]
    },
    {
     "name": "stdout",
     "output_type": "stream",
     "text": [
      "🔍 融合特征维度: [2048, 128, 32, 32]\n",
      "✅ 特征融合成功: torch.Size([2, 2240]) -> torch.Size([2, 256])\n"
     ]
    },
    {
     "name": "stderr",
     "output_type": "stream",
     "text": [
      "训练中:  56%|█████▌    | 389/699 [1:01:29<43:46,  8.47s/it, Loss=nan, Acc=0.5103]"
     ]
    },
    {
     "name": "stdout",
     "output_type": "stream",
     "text": [
      "🔍 融合特征维度: [2048, 128, 32, 32]\n",
      "✅ 特征融合成功: torch.Size([2, 2240]) -> torch.Size([2, 256])\n"
     ]
    },
    {
     "name": "stderr",
     "output_type": "stream",
     "text": [
      "训练中:  56%|█████▌    | 390/699 [1:01:37<43:10,  8.38s/it, Loss=nan, Acc=0.5103]"
     ]
    },
    {
     "name": "stdout",
     "output_type": "stream",
     "text": [
      "🔍 融合特征维度: [2048, 128, 32, 32]\n",
      "✅ 特征融合成功: torch.Size([2, 2240]) -> torch.Size([2, 256])\n"
     ]
    },
    {
     "name": "stderr",
     "output_type": "stream",
     "text": [
      "训练中:  56%|█████▌    | 391/699 [1:01:45<41:47,  8.14s/it, Loss=nan, Acc=0.5102]"
     ]
    },
    {
     "name": "stdout",
     "output_type": "stream",
     "text": [
      "🔍 融合特征维度: [2048, 128, 32, 32]\n",
      "✅ 特征融合成功: torch.Size([2, 2240]) -> torch.Size([2, 256])\n"
     ]
    },
    {
     "name": "stderr",
     "output_type": "stream",
     "text": [
      "训练中:  56%|█████▌    | 392/699 [1:01:51<38:21,  7.50s/it, Loss=nan, Acc=0.5115]"
     ]
    },
    {
     "name": "stdout",
     "output_type": "stream",
     "text": [
      "🔍 融合特征维度: [2048, 128, 32, 32]\n",
      "✅ 特征融合成功: torch.Size([2, 2240]) -> torch.Size([2, 256])\n"
     ]
    },
    {
     "name": "stderr",
     "output_type": "stream",
     "text": [
      "训练中:  56%|█████▌    | 393/699 [1:02:06<48:53,  9.59s/it, Loss=nan, Acc=0.5115]"
     ]
    },
    {
     "name": "stdout",
     "output_type": "stream",
     "text": [
      "🔍 融合特征维度: [2048, 128, 32, 32]\n",
      "✅ 特征融合成功: torch.Size([2, 2240]) -> torch.Size([2, 256])\n"
     ]
    },
    {
     "name": "stderr",
     "output_type": "stream",
     "text": [
      "训练中:  56%|█████▋    | 394/699 [1:02:10<40:59,  8.06s/it, Loss=nan, Acc=0.5127]"
     ]
    },
    {
     "name": "stdout",
     "output_type": "stream",
     "text": [
      "🔍 融合特征维度: [2048, 128, 32, 32]\n",
      "✅ 特征融合成功: torch.Size([2, 2240]) -> torch.Size([2, 256])\n"
     ]
    },
    {
     "name": "stderr",
     "output_type": "stream",
     "text": [
      "训练中:  57%|█████▋    | 395/699 [1:02:13<33:19,  6.58s/it, Loss=nan, Acc=0.5114]"
     ]
    },
    {
     "name": "stdout",
     "output_type": "stream",
     "text": [
      "🔍 融合特征维度: [2048, 128, 32, 32]\n",
      "✅ 特征融合成功: torch.Size([2, 2240]) -> torch.Size([2, 256])\n"
     ]
    },
    {
     "name": "stderr",
     "output_type": "stream",
     "text": [
      "训练中:  57%|█████▋    | 396/699 [1:02:22<37:00,  7.33s/it, Loss=nan, Acc=0.5126]"
     ]
    },
    {
     "name": "stdout",
     "output_type": "stream",
     "text": [
      "🔍 融合特征维度: [2048, 128, 32, 32]\n",
      "✅ 特征融合成功: torch.Size([2, 2240]) -> torch.Size([2, 256])\n"
     ]
    },
    {
     "name": "stderr",
     "output_type": "stream",
     "text": [
      "训练中:  57%|█████▋    | 397/699 [1:02:28<34:41,  6.89s/it, Loss=nan, Acc=0.5113]"
     ]
    },
    {
     "name": "stdout",
     "output_type": "stream",
     "text": [
      "🔍 融合特征维度: [2048, 128, 32, 32]\n",
      "✅ 特征融合成功: torch.Size([2, 2240]) -> torch.Size([2, 256])\n"
     ]
    },
    {
     "name": "stderr",
     "output_type": "stream",
     "text": [
      "训练中:  57%|█████▋    | 398/699 [1:02:35<35:08,  7.00s/it, Loss=nan, Acc=0.5113]"
     ]
    },
    {
     "name": "stdout",
     "output_type": "stream",
     "text": [
      "🔍 融合特征维度: [2048, 128, 32, 32]\n",
      "✅ 特征融合成功: torch.Size([2, 2240]) -> torch.Size([2, 256])\n"
     ]
    },
    {
     "name": "stderr",
     "output_type": "stream",
     "text": [
      "训练中:  57%|█████▋    | 399/699 [1:02:51<47:45,  9.55s/it, Loss=nan, Acc=0.5113]"
     ]
    },
    {
     "name": "stdout",
     "output_type": "stream",
     "text": [
      "🔍 融合特征维度: [2048, 128, 32, 32]\n",
      "✅ 特征融合成功: torch.Size([2, 2240]) -> torch.Size([2, 256])\n"
     ]
    },
    {
     "name": "stderr",
     "output_type": "stream",
     "text": [
      "训练中:  57%|█████▋    | 400/699 [1:02:56<41:25,  8.31s/it, Loss=nan, Acc=0.5125]"
     ]
    },
    {
     "name": "stdout",
     "output_type": "stream",
     "text": [
      "🔍 融合特征维度: [2048, 128, 32, 32]\n",
      "✅ 特征融合成功: torch.Size([2, 2240]) -> torch.Size([2, 256])\n"
     ]
    },
    {
     "name": "stderr",
     "output_type": "stream",
     "text": [
      "训练中:  57%|█████▋    | 401/699 [1:03:00<34:34,  6.96s/it, Loss=nan, Acc=0.5112]"
     ]
    },
    {
     "name": "stdout",
     "output_type": "stream",
     "text": [
      "🔍 融合特征维度: [2048, 128, 32, 32]\n",
      "✅ 特征融合成功: torch.Size([2, 2240]) -> torch.Size([2, 256])\n"
     ]
    },
    {
     "name": "stderr",
     "output_type": "stream",
     "text": [
      "训练中:  58%|█████▊    | 402/699 [1:03:07<34:55,  7.06s/it, Loss=nan, Acc=0.5124]"
     ]
    },
    {
     "name": "stdout",
     "output_type": "stream",
     "text": [
      "🔍 融合特征维度: [2048, 128, 32, 32]\n",
      "✅ 特征融合成功: torch.Size([2, 2240]) -> torch.Size([2, 256])\n"
     ]
    },
    {
     "name": "stderr",
     "output_type": "stream",
     "text": [
      "训练中:  58%|█████▊    | 403/699 [1:03:17<38:35,  7.82s/it, Loss=nan, Acc=0.5112]"
     ]
    },
    {
     "name": "stdout",
     "output_type": "stream",
     "text": [
      "🔍 融合特征维度: [2048, 128, 32, 32]\n",
      "✅ 特征融合成功: torch.Size([2, 2240]) -> torch.Size([2, 256])\n"
     ]
    },
    {
     "name": "stderr",
     "output_type": "stream",
     "text": [
      "训练中:  58%|█████▊    | 404/699 [1:03:29<44:06,  8.97s/it, Loss=nan, Acc=0.5099]"
     ]
    },
    {
     "name": "stdout",
     "output_type": "stream",
     "text": [
      "🔍 融合特征维度: [2048, 128, 32, 32]\n",
      "✅ 特征融合成功: torch.Size([2, 2240]) -> torch.Size([2, 256])\n"
     ]
    },
    {
     "name": "stderr",
     "output_type": "stream",
     "text": [
      "训练中:  58%|█████▊    | 405/699 [1:03:51<1:03:38, 12.99s/it, Loss=nan, Acc=0.5099]"
     ]
    },
    {
     "name": "stdout",
     "output_type": "stream",
     "text": [
      "🔍 融合特征维度: [2048, 128, 32, 32]\n",
      "✅ 特征融合成功: torch.Size([2, 2240]) -> torch.Size([2, 256])\n"
     ]
    },
    {
     "name": "stderr",
     "output_type": "stream",
     "text": [
      "训练中:  58%|█████▊    | 406/699 [1:03:59<55:56, 11.45s/it, Loss=nan, Acc=0.5099]  "
     ]
    },
    {
     "name": "stdout",
     "output_type": "stream",
     "text": [
      "🔍 融合特征维度: [2048, 128, 32, 32]\n",
      "✅ 特征融合成功: torch.Size([2, 2240]) -> torch.Size([2, 256])\n"
     ]
    },
    {
     "name": "stderr",
     "output_type": "stream",
     "text": [
      "训练中:  58%|█████▊    | 407/699 [1:04:23<1:13:36, 15.12s/it, Loss=nan, Acc=0.5098]"
     ]
    },
    {
     "name": "stdout",
     "output_type": "stream",
     "text": [
      "🔍 融合特征维度: [2048, 128, 32, 32]\n",
      "✅ 特征融合成功: torch.Size([2, 2240]) -> torch.Size([2, 256])\n"
     ]
    },
    {
     "name": "stderr",
     "output_type": "stream",
     "text": [
      "训练中:  58%|█████▊    | 408/699 [1:04:43<1:20:59, 16.70s/it, Loss=nan, Acc=0.5110]"
     ]
    },
    {
     "name": "stdout",
     "output_type": "stream",
     "text": [
      "🔍 融合特征维度: [2048, 128, 32, 32]\n",
      "✅ 特征融合成功: torch.Size([2, 2240]) -> torch.Size([2, 256])\n"
     ]
    },
    {
     "name": "stderr",
     "output_type": "stream",
     "text": [
      "训练中:  59%|█████▊    | 409/699 [1:04:53<1:11:28, 14.79s/it, Loss=nan, Acc=0.5098]"
     ]
    },
    {
     "name": "stdout",
     "output_type": "stream",
     "text": [
      "🔍 融合特征维度: [2048, 128, 32, 32]\n",
      "✅ 特征融合成功: torch.Size([2, 2240]) -> torch.Size([2, 256])\n"
     ]
    },
    {
     "name": "stderr",
     "output_type": "stream",
     "text": [
      "训练中:  59%|█████▊    | 410/699 [1:05:03<1:03:35, 13.20s/it, Loss=nan, Acc=0.5098]"
     ]
    },
    {
     "name": "stdout",
     "output_type": "stream",
     "text": [
      "🔍 融合特征维度: [2048, 128, 32, 32]\n",
      "✅ 特征融合成功: torch.Size([2, 2240]) -> torch.Size([2, 256])\n"
     ]
    },
    {
     "name": "stderr",
     "output_type": "stream",
     "text": [
      "训练中:  59%|█████▉    | 411/699 [1:05:10<54:49, 11.42s/it, Loss=nan, Acc=0.5097]  "
     ]
    },
    {
     "name": "stdout",
     "output_type": "stream",
     "text": [
      "🔍 融合特征维度: [2048, 128, 32, 32]\n",
      "✅ 特征融合成功: torch.Size([2, 2240]) -> torch.Size([2, 256])\n"
     ]
    },
    {
     "name": "stderr",
     "output_type": "stream",
     "text": [
      "训练中:  59%|█████▉    | 412/699 [1:05:18<50:10, 10.49s/it, Loss=nan, Acc=0.5097]"
     ]
    },
    {
     "name": "stdout",
     "output_type": "stream",
     "text": [
      "🔍 融合特征维度: [2048, 128, 32, 32]\n",
      "✅ 特征融合成功: torch.Size([2, 2240]) -> torch.Size([2, 256])\n"
     ]
    },
    {
     "name": "stderr",
     "output_type": "stream",
     "text": [
      "训练中:  59%|█████▉    | 413/699 [1:05:25<44:09,  9.26s/it, Loss=nan, Acc=0.5097]"
     ]
    },
    {
     "name": "stdout",
     "output_type": "stream",
     "text": [
      "🔍 融合特征维度: [2048, 128, 32, 32]\n",
      "✅ 特征融合成功: torch.Size([2, 2240]) -> torch.Size([2, 256])\n"
     ]
    },
    {
     "name": "stderr",
     "output_type": "stream",
     "text": [
      "训练中:  59%|█████▉    | 414/699 [1:05:48<1:03:46, 13.43s/it, Loss=nan, Acc=0.5097]"
     ]
    },
    {
     "name": "stdout",
     "output_type": "stream",
     "text": [
      "🔍 融合特征维度: [2048, 128, 32, 32]\n",
      "✅ 特征融合成功: torch.Size([2, 2240]) -> torch.Size([2, 256])\n"
     ]
    },
    {
     "name": "stderr",
     "output_type": "stream",
     "text": [
      "训练中:  59%|█████▉    | 415/699 [1:05:52<50:10, 10.60s/it, Loss=nan, Acc=0.5108]  "
     ]
    },
    {
     "name": "stdout",
     "output_type": "stream",
     "text": [
      "🔍 融合特征维度: [2048, 128, 32, 32]\n",
      "✅ 特征融合成功: torch.Size([2, 2240]) -> torch.Size([2, 256])\n"
     ]
    },
    {
     "name": "stderr",
     "output_type": "stream",
     "text": [
      "训练中:  60%|█████▉    | 416/699 [1:05:56<40:32,  8.60s/it, Loss=nan, Acc=0.5096]"
     ]
    },
    {
     "name": "stdout",
     "output_type": "stream",
     "text": [
      "🔍 融合特征维度: [2048, 128, 32, 32]\n",
      "✅ 特征融合成功: torch.Size([2, 2240]) -> torch.Size([2, 256])\n"
     ]
    },
    {
     "name": "stderr",
     "output_type": "stream",
     "text": [
      "训练中:  60%|█████▉    | 417/699 [1:05:59<32:21,  6.88s/it, Loss=nan, Acc=0.5084]"
     ]
    },
    {
     "name": "stdout",
     "output_type": "stream",
     "text": [
      "🔍 融合特征维度: [2048, 128, 32, 32]\n",
      "✅ 特征融合成功: torch.Size([2, 2240]) -> torch.Size([2, 256])\n"
     ]
    },
    {
     "name": "stderr",
     "output_type": "stream",
     "text": [
      "训练中:  60%|█████▉    | 418/699 [1:06:03<28:30,  6.09s/it, Loss=nan, Acc=0.5072]"
     ]
    },
    {
     "name": "stdout",
     "output_type": "stream",
     "text": [
      "🔍 融合特征维度: [2048, 128, 32, 32]\n",
      "✅ 特征融合成功: torch.Size([2, 2240]) -> torch.Size([2, 256])\n"
     ]
    },
    {
     "name": "stderr",
     "output_type": "stream",
     "text": [
      "训练中:  60%|█████▉    | 419/699 [1:06:09<28:25,  6.09s/it, Loss=nan, Acc=0.5072]"
     ]
    },
    {
     "name": "stdout",
     "output_type": "stream",
     "text": [
      "🔍 融合特征维度: [2048, 128, 32, 32]\n",
      "✅ 特征融合成功: torch.Size([2, 2240]) -> torch.Size([2, 256])\n"
     ]
    },
    {
     "name": "stderr",
     "output_type": "stream",
     "text": [
      "训练中:  60%|██████    | 420/699 [1:06:17<30:48,  6.62s/it, Loss=nan, Acc=0.5083]"
     ]
    },
    {
     "name": "stdout",
     "output_type": "stream",
     "text": [
      "🔍 融合特征维度: [2048, 128, 32, 32]\n",
      "✅ 特征融合成功: torch.Size([2, 2240]) -> torch.Size([2, 256])\n"
     ]
    },
    {
     "name": "stderr",
     "output_type": "stream",
     "text": [
      "训练中:  60%|██████    | 421/699 [1:06:24<31:17,  6.75s/it, Loss=nan, Acc=0.5071]"
     ]
    },
    {
     "name": "stdout",
     "output_type": "stream",
     "text": [
      "🔍 融合特征维度: [2048, 128, 32, 32]\n",
      "✅ 特征融合成功: torch.Size([2, 2240]) -> torch.Size([2, 256])\n"
     ]
    },
    {
     "name": "stderr",
     "output_type": "stream",
     "text": [
      "训练中:  60%|██████    | 422/699 [1:06:28<27:02,  5.86s/it, Loss=nan, Acc=0.5083]"
     ]
    },
    {
     "name": "stdout",
     "output_type": "stream",
     "text": [
      "🔍 融合特征维度: [2048, 128, 32, 32]\n",
      "✅ 特征融合成功: torch.Size([2, 2240]) -> torch.Size([2, 256])\n"
     ]
    },
    {
     "name": "stderr",
     "output_type": "stream",
     "text": [
      "训练中:  61%|██████    | 423/699 [1:06:33<25:38,  5.57s/it, Loss=nan, Acc=0.5071]"
     ]
    },
    {
     "name": "stdout",
     "output_type": "stream",
     "text": [
      "🔍 融合特征维度: [2048, 128, 32, 32]\n",
      "✅ 特征融合成功: torch.Size([2, 2240]) -> torch.Size([2, 256])\n"
     ]
    },
    {
     "name": "stderr",
     "output_type": "stream",
     "text": [
      "训练中:  61%|██████    | 424/699 [1:06:38<25:29,  5.56s/it, Loss=nan, Acc=0.5071]"
     ]
    },
    {
     "name": "stdout",
     "output_type": "stream",
     "text": [
      "🔍 融合特征维度: [2048, 128, 32, 32]\n",
      "✅ 特征融合成功: torch.Size([2, 2240]) -> torch.Size([2, 256])\n"
     ]
    },
    {
     "name": "stderr",
     "output_type": "stream",
     "text": [
      "训练中:  61%|██████    | 425/699 [1:06:53<37:43,  8.26s/it, Loss=nan, Acc=0.5059]"
     ]
    },
    {
     "name": "stdout",
     "output_type": "stream",
     "text": [
      "🔍 融合特征维度: [2048, 128, 32, 32]\n",
      "✅ 特征融合成功: torch.Size([2, 2240]) -> torch.Size([2, 256])\n"
     ]
    },
    {
     "name": "stderr",
     "output_type": "stream",
     "text": [
      "训练中:  61%|██████    | 426/699 [1:07:00<36:45,  8.08s/it, Loss=nan, Acc=0.5059]"
     ]
    },
    {
     "name": "stdout",
     "output_type": "stream",
     "text": [
      "🔍 融合特征维度: [2048, 128, 32, 32]\n",
      "✅ 特征融合成功: torch.Size([2, 2240]) -> torch.Size([2, 256])\n"
     ]
    },
    {
     "name": "stderr",
     "output_type": "stream",
     "text": [
      "训练中:  61%|██████    | 427/699 [1:07:08<36:17,  8.00s/it, Loss=nan, Acc=0.5059]"
     ]
    },
    {
     "name": "stdout",
     "output_type": "stream",
     "text": [
      "🔍 融合特征维度: [2048, 128, 32, 32]\n",
      "✅ 特征融合成功: torch.Size([2, 2240]) -> torch.Size([2, 256])\n"
     ]
    },
    {
     "name": "stderr",
     "output_type": "stream",
     "text": [
      "训练中:  61%|██████    | 428/699 [1:07:17<36:52,  8.16s/it, Loss=nan, Acc=0.5070]"
     ]
    },
    {
     "name": "stdout",
     "output_type": "stream",
     "text": [
      "🔍 融合特征维度: [2048, 128, 32, 32]\n",
      "✅ 特征融合成功: torch.Size([2, 2240]) -> torch.Size([2, 256])\n"
     ]
    },
    {
     "name": "stderr",
     "output_type": "stream",
     "text": [
      "训练中:  61%|██████▏   | 429/699 [1:07:33<47:04, 10.46s/it, Loss=nan, Acc=0.5070]"
     ]
    },
    {
     "name": "stdout",
     "output_type": "stream",
     "text": [
      "🔍 融合特征维度: [2048, 128, 32, 32]\n",
      "✅ 特征融合成功: torch.Size([2, 2240]) -> torch.Size([2, 256])\n"
     ]
    },
    {
     "name": "stderr",
     "output_type": "stream",
     "text": [
      "训练中:  62%|██████▏   | 430/699 [1:07:48<53:52, 12.02s/it, Loss=nan, Acc=0.5081]"
     ]
    },
    {
     "name": "stdout",
     "output_type": "stream",
     "text": [
      "🔍 融合特征维度: [2048, 128, 32, 32]\n",
      "✅ 特征融合成功: torch.Size([2, 2240]) -> torch.Size([2, 256])\n"
     ]
    },
    {
     "name": "stderr",
     "output_type": "stream",
     "text": [
      "训练中:  62%|██████▏   | 431/699 [1:07:57<48:50, 10.94s/it, Loss=nan, Acc=0.5081]"
     ]
    },
    {
     "name": "stdout",
     "output_type": "stream",
     "text": [
      "🔍 融合特征维度: [2048, 128, 32, 32]\n",
      "✅ 特征融合成功: torch.Size([2, 2240]) -> torch.Size([2, 256])\n"
     ]
    },
    {
     "name": "stderr",
     "output_type": "stream",
     "text": [
      "训练中:  62%|██████▏   | 432/699 [1:08:07<47:40, 10.71s/it, Loss=nan, Acc=0.5093]"
     ]
    },
    {
     "name": "stdout",
     "output_type": "stream",
     "text": [
      "🔍 融合特征维度: [2048, 128, 32, 32]\n",
      "✅ 特征融合成功: torch.Size([2, 2240]) -> torch.Size([2, 256])\n"
     ]
    },
    {
     "name": "stderr",
     "output_type": "stream",
     "text": [
      "训练中:  62%|██████▏   | 433/699 [1:08:19<49:15, 11.11s/it, Loss=nan, Acc=0.5081]"
     ]
    },
    {
     "name": "stdout",
     "output_type": "stream",
     "text": [
      "🔍 融合特征维度: [2048, 128, 32, 32]\n",
      "✅ 特征融合成功: torch.Size([2, 2240]) -> torch.Size([2, 256])\n"
     ]
    },
    {
     "name": "stderr",
     "output_type": "stream",
     "text": [
      "训练中:  62%|██████▏   | 434/699 [1:08:26<43:36,  9.87s/it, Loss=nan, Acc=0.5069]"
     ]
    },
    {
     "name": "stdout",
     "output_type": "stream",
     "text": [
      "🔍 融合特征维度: [2048, 128, 32, 32]\n",
      "✅ 特征融合成功: torch.Size([2, 2240]) -> torch.Size([2, 256])\n"
     ]
    },
    {
     "name": "stderr",
     "output_type": "stream",
     "text": [
      "训练中:  62%|██████▏   | 435/699 [1:08:55<1:09:19, 15.76s/it, Loss=nan, Acc=0.5080]"
     ]
    },
    {
     "name": "stdout",
     "output_type": "stream",
     "text": [
      "🔍 融合特征维度: [2048, 128, 32, 32]\n",
      "✅ 特征融合成功: torch.Size([2, 2240]) -> torch.Size([2, 256])\n"
     ]
    },
    {
     "name": "stderr",
     "output_type": "stream",
     "text": [
      "训练中:  62%|██████▏   | 436/699 [1:09:01<55:32, 12.67s/it, Loss=nan, Acc=0.5069]  "
     ]
    },
    {
     "name": "stdout",
     "output_type": "stream",
     "text": [
      "🔍 融合特征维度: [2048, 128, 32, 32]\n",
      "✅ 特征融合成功: torch.Size([2, 2240]) -> torch.Size([2, 256])\n"
     ]
    },
    {
     "name": "stderr",
     "output_type": "stream",
     "text": [
      "训练中:  63%|██████▎   | 437/699 [1:09:06<45:39, 10.46s/it, Loss=nan, Acc=0.5069]"
     ]
    },
    {
     "name": "stdout",
     "output_type": "stream",
     "text": [
      "🔍 融合特征维度: [2048, 128, 32, 32]\n",
      "✅ 特征融合成功: torch.Size([2, 2240]) -> torch.Size([2, 256])\n"
     ]
    },
    {
     "name": "stderr",
     "output_type": "stream",
     "text": [
      "训练中:  63%|██████▎   | 438/699 [1:09:22<52:24, 12.05s/it, Loss=nan, Acc=0.5080]"
     ]
    },
    {
     "name": "stdout",
     "output_type": "stream",
     "text": [
      "🔍 融合特征维度: [2048, 128, 32, 32]\n",
      "✅ 特征融合成功: torch.Size([2, 2240]) -> torch.Size([2, 256])\n"
     ]
    },
    {
     "name": "stderr",
     "output_type": "stream",
     "text": [
      "训练中:  63%|██████▎   | 439/699 [1:09:28<44:00, 10.16s/it, Loss=nan, Acc=0.5091]"
     ]
    },
    {
     "name": "stdout",
     "output_type": "stream",
     "text": [
      "🔍 融合特征维度: [2048, 128, 32, 32]\n",
      "✅ 特征融合成功: torch.Size([2, 2240]) -> torch.Size([2, 256])\n"
     ]
    },
    {
     "name": "stderr",
     "output_type": "stream",
     "text": [
      "训练中:  63%|██████▎   | 440/699 [1:09:35<40:13,  9.32s/it, Loss=nan, Acc=0.5091]"
     ]
    },
    {
     "name": "stdout",
     "output_type": "stream",
     "text": [
      "🔍 融合特征维度: [2048, 128, 32, 32]\n",
      "✅ 特征融合成功: torch.Size([2, 2240]) -> torch.Size([2, 256])\n"
     ]
    },
    {
     "name": "stderr",
     "output_type": "stream",
     "text": [
      "训练中:  63%|██████▎   | 441/699 [1:09:40<35:11,  8.18s/it, Loss=nan, Acc=0.5079]"
     ]
    },
    {
     "name": "stdout",
     "output_type": "stream",
     "text": [
      "🔍 融合特征维度: [2048, 128, 32, 32]\n",
      "✅ 特征融合成功: torch.Size([2, 2240]) -> torch.Size([2, 256])\n"
     ]
    },
    {
     "name": "stderr",
     "output_type": "stream",
     "text": [
      "训练中:  63%|██████▎   | 442/699 [1:09:52<39:15,  9.16s/it, Loss=nan, Acc=0.5090]"
     ]
    },
    {
     "name": "stdout",
     "output_type": "stream",
     "text": [
      "🔍 融合特征维度: [2048, 128, 32, 32]\n",
      "✅ 特征融合成功: torch.Size([2, 2240]) -> torch.Size([2, 256])\n"
     ]
    },
    {
     "name": "stderr",
     "output_type": "stream",
     "text": [
      "训练中:  63%|██████▎   | 443/699 [1:09:56<32:10,  7.54s/it, Loss=nan, Acc=0.5102]"
     ]
    },
    {
     "name": "stdout",
     "output_type": "stream",
     "text": [
      "🔍 融合特征维度: [2048, 128, 32, 32]\n",
      "✅ 特征融合成功: torch.Size([2, 2240]) -> torch.Size([2, 256])\n"
     ]
    },
    {
     "name": "stderr",
     "output_type": "stream",
     "text": [
      "训练中:  64%|██████▎   | 444/699 [1:10:12<43:34, 10.25s/it, Loss=nan, Acc=0.5101]"
     ]
    },
    {
     "name": "stdout",
     "output_type": "stream",
     "text": [
      "🔍 融合特征维度: [2048, 128, 32, 32]\n",
      "✅ 特征融合成功: torch.Size([2, 2240]) -> torch.Size([2, 256])\n"
     ]
    },
    {
     "name": "stderr",
     "output_type": "stream",
     "text": [
      "训练中:  64%|██████▎   | 445/699 [1:10:18<37:35,  8.88s/it, Loss=nan, Acc=0.5101]"
     ]
    },
    {
     "name": "stdout",
     "output_type": "stream",
     "text": [
      "🔍 融合特征维度: [2048, 128, 32, 32]\n",
      "✅ 特征融合成功: torch.Size([2, 2240]) -> torch.Size([2, 256])\n"
     ]
    },
    {
     "name": "stderr",
     "output_type": "stream",
     "text": [
      "训练中:  64%|██████▍   | 446/699 [1:10:24<33:32,  7.96s/it, Loss=nan, Acc=0.5101]"
     ]
    },
    {
     "name": "stdout",
     "output_type": "stream",
     "text": [
      "🔍 融合特征维度: [2048, 128, 32, 32]\n",
      "✅ 特征融合成功: torch.Size([2, 2240]) -> torch.Size([2, 256])\n"
     ]
    },
    {
     "name": "stderr",
     "output_type": "stream",
     "text": [
      "训练中:  64%|██████▍   | 447/699 [1:10:28<29:18,  6.98s/it, Loss=nan, Acc=0.5089]"
     ]
    },
    {
     "name": "stdout",
     "output_type": "stream",
     "text": [
      "🔍 融合特征维度: [2048, 128, 32, 32]\n",
      "✅ 特征融合成功: torch.Size([2, 2240]) -> torch.Size([2, 256])\n"
     ]
    },
    {
     "name": "stderr",
     "output_type": "stream",
     "text": [
      "训练中:  64%|██████▍   | 448/699 [1:10:52<50:07, 11.98s/it, Loss=nan, Acc=0.5089]"
     ]
    },
    {
     "name": "stdout",
     "output_type": "stream",
     "text": [
      "🔍 融合特征维度: [2048, 128, 32, 32]\n",
      "✅ 特征融合成功: torch.Size([2, 2240]) -> torch.Size([2, 256])\n"
     ]
    },
    {
     "name": "stderr",
     "output_type": "stream",
     "text": [
      "训练中:  64%|██████▍   | 449/699 [1:10:56<40:20,  9.68s/it, Loss=nan, Acc=0.5089]"
     ]
    },
    {
     "name": "stdout",
     "output_type": "stream",
     "text": [
      "🔍 融合特征维度: [2048, 128, 32, 32]\n",
      "✅ 特征融合成功: torch.Size([2, 2240]) -> torch.Size([2, 256])\n"
     ]
    },
    {
     "name": "stderr",
     "output_type": "stream",
     "text": [
      "训练中:  64%|██████▍   | 450/699 [1:11:01<33:33,  8.09s/it, Loss=nan, Acc=0.5078]"
     ]
    },
    {
     "name": "stdout",
     "output_type": "stream",
     "text": [
      "🔍 融合特征维度: [2048, 128, 32, 32]\n",
      "✅ 特征融合成功: torch.Size([2, 2240]) -> torch.Size([2, 256])\n"
     ]
    },
    {
     "name": "stderr",
     "output_type": "stream",
     "text": [
      "训练中:  65%|██████▍   | 451/699 [1:11:17<44:03, 10.66s/it, Loss=nan, Acc=0.5078]"
     ]
    },
    {
     "name": "stdout",
     "output_type": "stream",
     "text": [
      "🔍 融合特征维度: [2048, 128, 32, 32]\n",
      "✅ 特征融合成功: torch.Size([2, 2240]) -> torch.Size([2, 256])\n"
     ]
    },
    {
     "name": "stderr",
     "output_type": "stream",
     "text": [
      "训练中:  65%|██████▍   | 452/699 [1:11:25<39:36,  9.62s/it, Loss=nan, Acc=0.5077]"
     ]
    },
    {
     "name": "stdout",
     "output_type": "stream",
     "text": [
      "🔍 融合特征维度: [2048, 128, 32, 32]\n",
      "✅ 特征融合成功: torch.Size([2, 2240]) -> torch.Size([2, 256])\n"
     ]
    },
    {
     "name": "stderr",
     "output_type": "stream",
     "text": [
      "训练中:  65%|██████▍   | 453/699 [1:11:51<1:00:20, 14.72s/it, Loss=nan, Acc=0.5077]"
     ]
    },
    {
     "name": "stdout",
     "output_type": "stream",
     "text": [
      "🔍 融合特征维度: [2048, 128, 32, 32]\n",
      "✅ 特征融合成功: torch.Size([2, 2240]) -> torch.Size([2, 256])\n"
     ]
    },
    {
     "name": "stderr",
     "output_type": "stream",
     "text": [
      "训练中:  65%|██████▍   | 454/699 [1:12:03<56:53, 13.93s/it, Loss=nan, Acc=0.5077]  "
     ]
    },
    {
     "name": "stdout",
     "output_type": "stream",
     "text": [
      "🔍 融合特征维度: [2048, 128, 32, 32]\n",
      "✅ 特征融合成功: torch.Size([2, 2240]) -> torch.Size([2, 256])\n"
     ]
    },
    {
     "name": "stderr",
     "output_type": "stream",
     "text": [
      "训练中:  65%|██████▌   | 455/699 [1:12:12<49:57, 12.29s/it, Loss=nan, Acc=0.5088]"
     ]
    },
    {
     "name": "stdout",
     "output_type": "stream",
     "text": [
      "🔍 融合特征维度: [2048, 128, 32, 32]\n",
      "✅ 特征融合成功: torch.Size([2, 2240]) -> torch.Size([2, 256])\n"
     ]
    },
    {
     "name": "stderr",
     "output_type": "stream",
     "text": [
      "训练中:  65%|██████▌   | 456/699 [1:12:17<41:28, 10.24s/it, Loss=nan, Acc=0.5077]"
     ]
    },
    {
     "name": "stdout",
     "output_type": "stream",
     "text": [
      "🔍 融合特征维度: [2048, 128, 32, 32]\n",
      "✅ 特征融合成功: torch.Size([2, 2240]) -> torch.Size([2, 256])\n"
     ]
    },
    {
     "name": "stderr",
     "output_type": "stream",
     "text": [
      "训练中:  65%|██████▌   | 457/699 [1:12:33<47:55, 11.88s/it, Loss=nan, Acc=0.5066]"
     ]
    },
    {
     "name": "stdout",
     "output_type": "stream",
     "text": [
      "🔍 融合特征维度: [2048, 128, 32, 32]\n",
      "✅ 特征融合成功: torch.Size([2, 2240]) -> torch.Size([2, 256])\n"
     ]
    },
    {
     "name": "stderr",
     "output_type": "stream",
     "text": [
      "训练中:  66%|██████▌   | 458/699 [1:12:59<1:05:03, 16.20s/it, Loss=nan, Acc=0.5076]"
     ]
    },
    {
     "name": "stdout",
     "output_type": "stream",
     "text": [
      "🔍 融合特征维度: [2048, 128, 32, 32]\n",
      "✅ 特征融合成功: torch.Size([2, 2240]) -> torch.Size([2, 256])\n"
     ]
    },
    {
     "name": "stderr",
     "output_type": "stream",
     "text": [
      "训练中:  66%|██████▌   | 459/699 [1:13:11<59:06, 14.78s/it, Loss=nan, Acc=0.5076]  "
     ]
    },
    {
     "name": "stdout",
     "output_type": "stream",
     "text": [
      "🔍 融合特征维度: [2048, 128, 32, 32]\n",
      "✅ 特征融合成功: torch.Size([2, 2240]) -> torch.Size([2, 256])\n"
     ]
    },
    {
     "name": "stderr",
     "output_type": "stream",
     "text": [
      "训练中:  66%|██████▌   | 460/699 [1:13:15<46:09, 11.59s/it, Loss=nan, Acc=0.5076]"
     ]
    },
    {
     "name": "stdout",
     "output_type": "stream",
     "text": [
      "🔍 融合特征维度: [2048, 128, 32, 32]\n",
      "✅ 特征融合成功: torch.Size([2, 2240]) -> torch.Size([2, 256])\n"
     ]
    },
    {
     "name": "stderr",
     "output_type": "stream",
     "text": [
      "训练中:  66%|██████▌   | 461/699 [1:13:43<1:05:16, 16.46s/it, Loss=nan, Acc=0.5076]"
     ]
    },
    {
     "name": "stdout",
     "output_type": "stream",
     "text": [
      "🔍 融合特征维度: [2048, 128, 32, 32]\n",
      "✅ 特征融合成功: torch.Size([2, 2240]) -> torch.Size([2, 256])\n"
     ]
    },
    {
     "name": "stderr",
     "output_type": "stream",
     "text": [
      "训练中:  66%|██████▌   | 462/699 [1:13:46<49:31, 12.54s/it, Loss=nan, Acc=0.5065]  "
     ]
    },
    {
     "name": "stdout",
     "output_type": "stream",
     "text": [
      "🔍 融合特征维度: [2048, 128, 32, 32]\n",
      "✅ 特征融合成功: torch.Size([2, 2240]) -> torch.Size([2, 256])\n"
     ]
    },
    {
     "name": "stderr",
     "output_type": "stream",
     "text": [
      "训练中:  66%|██████▌   | 463/699 [1:13:56<46:11, 11.74s/it, Loss=nan, Acc=0.5065]"
     ]
    },
    {
     "name": "stdout",
     "output_type": "stream",
     "text": [
      "🔍 融合特征维度: [2048, 128, 32, 32]\n",
      "✅ 特征融合成功: torch.Size([2, 2240]) -> torch.Size([2, 256])\n"
     ]
    },
    {
     "name": "stderr",
     "output_type": "stream",
     "text": [
      "训练中:  66%|██████▋   | 464/699 [1:14:03<40:28, 10.33s/it, Loss=nan, Acc=0.5075]"
     ]
    },
    {
     "name": "stdout",
     "output_type": "stream",
     "text": [
      "🔍 融合特征维度: [2048, 128, 32, 32]\n",
      "✅ 特征融合成功: torch.Size([2, 2240]) -> torch.Size([2, 256])\n"
     ]
    },
    {
     "name": "stderr",
     "output_type": "stream",
     "text": [
      "训练中:  67%|██████▋   | 465/699 [1:14:17<44:10, 11.33s/it, Loss=nan, Acc=0.5075]"
     ]
    },
    {
     "name": "stdout",
     "output_type": "stream",
     "text": [
      "🔍 融合特征维度: [2048, 128, 32, 32]\n",
      "✅ 特征融合成功: torch.Size([2, 2240]) -> torch.Size([2, 256])\n"
     ]
    },
    {
     "name": "stderr",
     "output_type": "stream",
     "text": [
      "训练中:  67%|██████▋   | 466/699 [1:14:23<37:58,  9.78s/it, Loss=nan, Acc=0.5075]"
     ]
    },
    {
     "name": "stdout",
     "output_type": "stream",
     "text": [
      "🔍 融合特征维度: [2048, 128, 32, 32]\n",
      "✅ 特征融合成功: torch.Size([2, 2240]) -> torch.Size([2, 256])\n"
     ]
    },
    {
     "name": "stderr",
     "output_type": "stream",
     "text": [
      "训练中:  67%|██████▋   | 467/699 [1:14:27<30:50,  7.98s/it, Loss=nan, Acc=0.5075]"
     ]
    },
    {
     "name": "stdout",
     "output_type": "stream",
     "text": [
      "🔍 融合特征维度: [2048, 128, 32, 32]\n",
      "✅ 特征融合成功: torch.Size([2, 2240]) -> torch.Size([2, 256])\n"
     ]
    },
    {
     "name": "stderr",
     "output_type": "stream",
     "text": [
      "训练中:  67%|██████▋   | 468/699 [1:14:37<33:16,  8.64s/it, Loss=nan, Acc=0.5075]"
     ]
    },
    {
     "name": "stdout",
     "output_type": "stream",
     "text": [
      "🔍 融合特征维度: [2048, 128, 32, 32]\n",
      "✅ 特征融合成功: torch.Size([2, 2240]) -> torch.Size([2, 256])\n"
     ]
    },
    {
     "name": "stderr",
     "output_type": "stream",
     "text": [
      "训练中:  67%|██████▋   | 469/699 [1:14:41<28:22,  7.40s/it, Loss=nan, Acc=0.5075]"
     ]
    },
    {
     "name": "stdout",
     "output_type": "stream",
     "text": [
      "🔍 融合特征维度: [2048, 128, 32, 32]\n",
      "✅ 特征融合成功: torch.Size([2, 2240]) -> torch.Size([2, 256])\n"
     ]
    },
    {
     "name": "stderr",
     "output_type": "stream",
     "text": [
      "训练中:  67%|██████▋   | 470/699 [1:14:47<26:35,  6.97s/it, Loss=nan, Acc=0.5085]"
     ]
    },
    {
     "name": "stdout",
     "output_type": "stream",
     "text": [
      "🔍 融合特征维度: [2048, 128, 32, 32]\n",
      "✅ 特征融合成功: torch.Size([2, 2240]) -> torch.Size([2, 256])\n"
     ]
    },
    {
     "name": "stderr",
     "output_type": "stream",
     "text": [
      "训练中:  67%|██████▋   | 471/699 [1:14:54<26:37,  7.01s/it, Loss=nan, Acc=0.5096]"
     ]
    },
    {
     "name": "stdout",
     "output_type": "stream",
     "text": [
      "🔍 融合特征维度: [2048, 128, 32, 32]\n",
      "✅ 特征融合成功: torch.Size([2, 2240]) -> torch.Size([2, 256])\n"
     ]
    },
    {
     "name": "stderr",
     "output_type": "stream",
     "text": [
      "训练中:  68%|██████▊   | 472/699 [1:15:06<31:50,  8.42s/it, Loss=nan, Acc=0.5085]"
     ]
    },
    {
     "name": "stdout",
     "output_type": "stream",
     "text": [
      "🔍 融合特征维度: [2048, 128, 32, 32]\n",
      "✅ 特征融合成功: torch.Size([2, 2240]) -> torch.Size([2, 256])\n"
     ]
    },
    {
     "name": "stderr",
     "output_type": "stream",
     "text": [
      "训练中:  68%|██████▊   | 473/699 [1:15:12<28:58,  7.69s/it, Loss=nan, Acc=0.5085]"
     ]
    },
    {
     "name": "stdout",
     "output_type": "stream",
     "text": [
      "🔍 融合特征维度: [2048, 128, 32, 32]\n",
      "✅ 特征融合成功: torch.Size([2, 2240]) -> torch.Size([2, 256])\n"
     ]
    },
    {
     "name": "stderr",
     "output_type": "stream",
     "text": [
      "训练中:  68%|██████▊   | 474/699 [1:15:20<29:38,  7.90s/it, Loss=nan, Acc=0.5084]"
     ]
    },
    {
     "name": "stdout",
     "output_type": "stream",
     "text": [
      "🔍 融合特征维度: [2048, 128, 32, 32]\n",
      "✅ 特征融合成功: torch.Size([2, 2240]) -> torch.Size([2, 256])\n"
     ]
    },
    {
     "name": "stderr",
     "output_type": "stream",
     "text": [
      "训练中:  68%|██████▊   | 475/699 [1:15:27<27:27,  7.36s/it, Loss=nan, Acc=0.5084]"
     ]
    },
    {
     "name": "stdout",
     "output_type": "stream",
     "text": [
      "🔍 融合特征维度: [2048, 128, 32, 32]\n",
      "✅ 特征融合成功: torch.Size([2, 2240]) -> torch.Size([2, 256])\n"
     ]
    },
    {
     "name": "stderr",
     "output_type": "stream",
     "text": [
      "训练中:  68%|██████▊   | 476/699 [1:15:41<35:49,  9.64s/it, Loss=nan, Acc=0.5095]"
     ]
    },
    {
     "name": "stdout",
     "output_type": "stream",
     "text": [
      "🔍 融合特征维度: [2048, 128, 32, 32]\n",
      "✅ 特征融合成功: torch.Size([2, 2240]) -> torch.Size([2, 256])\n"
     ]
    },
    {
     "name": "stderr",
     "output_type": "stream",
     "text": [
      "训练中:  68%|██████▊   | 477/699 [1:15:46<30:24,  8.22s/it, Loss=nan, Acc=0.5094]"
     ]
    },
    {
     "name": "stdout",
     "output_type": "stream",
     "text": [
      "🔍 融合特征维度: [2048, 128, 32, 32]\n",
      "✅ 特征融合成功: torch.Size([2, 2240]) -> torch.Size([2, 256])\n"
     ]
    },
    {
     "name": "stderr",
     "output_type": "stream",
     "text": [
      "训练中:  68%|██████▊   | 478/699 [1:15:56<31:54,  8.66s/it, Loss=nan, Acc=0.5084]"
     ]
    },
    {
     "name": "stdout",
     "output_type": "stream",
     "text": [
      "🔍 融合特征维度: [2048, 128, 32, 32]\n",
      "✅ 特征融合成功: torch.Size([2, 2240]) -> torch.Size([2, 256])\n"
     ]
    },
    {
     "name": "stderr",
     "output_type": "stream",
     "text": [
      "训练中:  69%|██████▊   | 479/699 [1:16:06<33:40,  9.18s/it, Loss=nan, Acc=0.5084]"
     ]
    },
    {
     "name": "stdout",
     "output_type": "stream",
     "text": [
      "🔍 融合特征维度: [2048, 128, 32, 32]\n",
      "✅ 特征融合成功: torch.Size([2, 2240]) -> torch.Size([2, 256])\n"
     ]
    },
    {
     "name": "stderr",
     "output_type": "stream",
     "text": [
      "训练中:  69%|██████▊   | 480/699 [1:16:14<31:37,  8.66s/it, Loss=nan, Acc=0.5083]"
     ]
    },
    {
     "name": "stdout",
     "output_type": "stream",
     "text": [
      "🔍 融合特征维度: [2048, 128, 32, 32]\n",
      "✅ 特征融合成功: torch.Size([2, 2240]) -> torch.Size([2, 256])\n"
     ]
    },
    {
     "name": "stderr",
     "output_type": "stream",
     "text": [
      "训练中:  69%|██████▉   | 481/699 [1:16:30<39:03, 10.75s/it, Loss=nan, Acc=0.5083]"
     ]
    },
    {
     "name": "stdout",
     "output_type": "stream",
     "text": [
      "🔍 融合特征维度: [2048, 128, 32, 32]\n",
      "✅ 特征融合成功: torch.Size([2, 2240]) -> torch.Size([2, 256])\n"
     ]
    },
    {
     "name": "stderr",
     "output_type": "stream",
     "text": [
      "训练中:  69%|██████▉   | 482/699 [1:16:51<50:16, 13.90s/it, Loss=nan, Acc=0.5083]"
     ]
    },
    {
     "name": "stdout",
     "output_type": "stream",
     "text": [
      "🔍 融合特征维度: [2048, 128, 32, 32]\n",
      "✅ 特征融合成功: torch.Size([2, 2240]) -> torch.Size([2, 256])\n"
     ]
    },
    {
     "name": "stderr",
     "output_type": "stream",
     "text": [
      "训练中:  69%|██████▉   | 483/699 [1:17:05<50:11, 13.94s/it, Loss=nan, Acc=0.5093]"
     ]
    },
    {
     "name": "stdout",
     "output_type": "stream",
     "text": [
      "🔍 融合特征维度: [2048, 128, 32, 32]\n",
      "✅ 特征融合成功: torch.Size([2, 2240]) -> torch.Size([2, 256])\n"
     ]
    },
    {
     "name": "stderr",
     "output_type": "stream",
     "text": [
      "训练中:  69%|██████▉   | 484/699 [1:17:10<40:23, 11.27s/it, Loss=nan, Acc=0.5083]"
     ]
    },
    {
     "name": "stdout",
     "output_type": "stream",
     "text": [
      "🔍 融合特征维度: [2048, 128, 32, 32]\n",
      "✅ 特征融合成功: torch.Size([2, 2240]) -> torch.Size([2, 256])\n"
     ]
    },
    {
     "name": "stderr",
     "output_type": "stream",
     "text": [
      "训练中:  69%|██████▉   | 485/699 [1:17:14<32:05,  9.00s/it, Loss=nan, Acc=0.5093]"
     ]
    },
    {
     "name": "stdout",
     "output_type": "stream",
     "text": [
      "🔍 融合特征维度: [2048, 128, 32, 32]\n",
      "✅ 特征融合成功: torch.Size([2, 2240]) -> torch.Size([2, 256])\n"
     ]
    },
    {
     "name": "stderr",
     "output_type": "stream",
     "text": [
      "训练中:  70%|██████▉   | 486/699 [1:17:25<34:17,  9.66s/it, Loss=nan, Acc=0.5082]"
     ]
    },
    {
     "name": "stdout",
     "output_type": "stream",
     "text": [
      "🔍 融合特征维度: [2048, 128, 32, 32]\n",
      "✅ 特征融合成功: torch.Size([2, 2240]) -> torch.Size([2, 256])\n"
     ]
    },
    {
     "name": "stderr",
     "output_type": "stream",
     "text": [
      "训练中:  70%|██████▉   | 487/699 [1:17:36<36:07, 10.23s/it, Loss=nan, Acc=0.5082]"
     ]
    },
    {
     "name": "stdout",
     "output_type": "stream",
     "text": [
      "🔍 融合特征维度: [2048, 128, 32, 32]\n",
      "✅ 特征融合成功: torch.Size([2, 2240]) -> torch.Size([2, 256])\n"
     ]
    },
    {
     "name": "stderr",
     "output_type": "stream",
     "text": [
      "训练中:  70%|██████▉   | 488/699 [1:17:41<30:10,  8.58s/it, Loss=nan, Acc=0.5082]"
     ]
    },
    {
     "name": "stdout",
     "output_type": "stream",
     "text": [
      "🔍 融合特征维度: [2048, 128, 32, 32]\n",
      "✅ 特征融合成功: torch.Size([2, 2240]) -> torch.Size([2, 256])\n"
     ]
    },
    {
     "name": "stderr",
     "output_type": "stream",
     "text": [
      "训练中:  70%|██████▉   | 489/699 [1:18:05<46:12, 13.20s/it, Loss=nan, Acc=0.5082]"
     ]
    },
    {
     "name": "stdout",
     "output_type": "stream",
     "text": [
      "🔍 融合特征维度: [2048, 128, 32, 32]\n",
      "✅ 特征融合成功: torch.Size([2, 2240]) -> torch.Size([2, 256])\n"
     ]
    },
    {
     "name": "stderr",
     "output_type": "stream",
     "text": [
      "训练中:  70%|███████   | 490/699 [1:18:10<37:03, 10.64s/it, Loss=nan, Acc=0.5082]"
     ]
    },
    {
     "name": "stdout",
     "output_type": "stream",
     "text": [
      "🔍 融合特征维度: [2048, 128, 32, 32]\n",
      "✅ 特征融合成功: torch.Size([2, 2240]) -> torch.Size([2, 256])\n"
     ]
    },
    {
     "name": "stderr",
     "output_type": "stream",
     "text": [
      "训练中:  70%|███████   | 491/699 [1:18:19<35:49, 10.33s/it, Loss=nan, Acc=0.5081]"
     ]
    },
    {
     "name": "stdout",
     "output_type": "stream",
     "text": [
      "🔍 融合特征维度: [2048, 128, 32, 32]\n",
      "✅ 特征融合成功: torch.Size([2, 2240]) -> torch.Size([2, 256])\n"
     ]
    },
    {
     "name": "stderr",
     "output_type": "stream",
     "text": [
      "训练中:  70%|███████   | 492/699 [1:18:24<30:02,  8.71s/it, Loss=nan, Acc=0.5081]"
     ]
    },
    {
     "name": "stdout",
     "output_type": "stream",
     "text": [
      "🔍 融合特征维度: [2048, 128, 32, 32]\n",
      "✅ 特征融合成功: torch.Size([2, 2240]) -> torch.Size([2, 256])\n"
     ]
    },
    {
     "name": "stderr",
     "output_type": "stream",
     "text": [
      "训练中:  71%|███████   | 493/699 [1:18:29<26:12,  7.63s/it, Loss=nan, Acc=0.5081]"
     ]
    },
    {
     "name": "stdout",
     "output_type": "stream",
     "text": [
      "🔍 融合特征维度: [2048, 128, 32, 32]\n",
      "✅ 特征融合成功: torch.Size([2, 2240]) -> torch.Size([2, 256])\n"
     ]
    },
    {
     "name": "stderr",
     "output_type": "stream",
     "text": [
      "训练中:  71%|███████   | 494/699 [1:18:39<27:46,  8.13s/it, Loss=nan, Acc=0.5071]"
     ]
    },
    {
     "name": "stdout",
     "output_type": "stream",
     "text": [
      "🔍 融合特征维度: [2048, 128, 32, 32]\n",
      "✅ 特征融合成功: torch.Size([2, 2240]) -> torch.Size([2, 256])\n"
     ]
    },
    {
     "name": "stderr",
     "output_type": "stream",
     "text": [
      "训练中:  71%|███████   | 495/699 [1:18:47<27:34,  8.11s/it, Loss=nan, Acc=0.5061]"
     ]
    },
    {
     "name": "stdout",
     "output_type": "stream",
     "text": [
      "🔍 融合特征维度: [2048, 128, 32, 32]\n",
      "✅ 特征融合成功: torch.Size([2, 2240]) -> torch.Size([2, 256])\n"
     ]
    },
    {
     "name": "stderr",
     "output_type": "stream",
     "text": [
      "训练中:  71%|███████   | 496/699 [1:18:55<27:15,  8.06s/it, Loss=nan, Acc=0.5060]"
     ]
    },
    {
     "name": "stdout",
     "output_type": "stream",
     "text": [
      "🔍 融合特征维度: [2048, 128, 32, 32]\n",
      "✅ 特征融合成功: torch.Size([2, 2240]) -> torch.Size([2, 256])\n"
     ]
    },
    {
     "name": "stderr",
     "output_type": "stream",
     "text": [
      "训练中:  71%|███████   | 497/699 [1:19:03<27:52,  8.28s/it, Loss=nan, Acc=0.5070]"
     ]
    },
    {
     "name": "stdout",
     "output_type": "stream",
     "text": [
      "🔍 融合特征维度: [2048, 128, 32, 32]\n",
      "✅ 特征融合成功: torch.Size([2, 2240]) -> torch.Size([2, 256])\n"
     ]
    },
    {
     "name": "stderr",
     "output_type": "stream",
     "text": [
      "训练中:  71%|███████   | 498/699 [1:19:07<23:02,  6.88s/it, Loss=nan, Acc=0.5070]"
     ]
    },
    {
     "name": "stdout",
     "output_type": "stream",
     "text": [
      "🔍 融合特征维度: [2048, 128, 32, 32]\n",
      "✅ 特征融合成功: torch.Size([2, 2240]) -> torch.Size([2, 256])\n"
     ]
    },
    {
     "name": "stderr",
     "output_type": "stream",
     "text": [
      "训练中:  71%|███████▏  | 499/699 [1:19:20<28:48,  8.64s/it, Loss=nan, Acc=0.5070]"
     ]
    },
    {
     "name": "stdout",
     "output_type": "stream",
     "text": [
      "🔍 融合特征维度: [2048, 128, 32, 32]\n",
      "✅ 特征融合成功: torch.Size([2, 2240]) -> torch.Size([2, 256])\n"
     ]
    },
    {
     "name": "stderr",
     "output_type": "stream",
     "text": [
      "训练中:  72%|███████▏  | 500/699 [1:19:28<27:43,  8.36s/it, Loss=nan, Acc=0.5070]"
     ]
    },
    {
     "name": "stdout",
     "output_type": "stream",
     "text": [
      "🔍 融合特征维度: [2048, 128, 32, 32]\n",
      "✅ 特征融合成功: torch.Size([2, 2240]) -> torch.Size([2, 256])\n"
     ]
    },
    {
     "name": "stderr",
     "output_type": "stream",
     "text": [
      "训练中:  72%|███████▏  | 501/699 [1:19:33<24:53,  7.54s/it, Loss=nan, Acc=0.5070]"
     ]
    },
    {
     "name": "stdout",
     "output_type": "stream",
     "text": [
      "🔍 融合特征维度: [2048, 128, 32, 32]\n",
      "✅ 特征融合成功: torch.Size([2, 2240]) -> torch.Size([2, 256])\n"
     ]
    },
    {
     "name": "stderr",
     "output_type": "stream",
     "text": [
      "训练中:  72%|███████▏  | 502/699 [1:19:41<25:27,  7.75s/it, Loss=nan, Acc=0.5080]"
     ]
    },
    {
     "name": "stdout",
     "output_type": "stream",
     "text": [
      "🔍 融合特征维度: [2048, 128, 32, 32]\n",
      "✅ 特征融合成功: torch.Size([2, 2240]) -> torch.Size([2, 256])\n"
     ]
    },
    {
     "name": "stderr",
     "output_type": "stream",
     "text": [
      "训练中:  72%|███████▏  | 503/699 [1:19:46<22:40,  6.94s/it, Loss=nan, Acc=0.5070]"
     ]
    },
    {
     "name": "stdout",
     "output_type": "stream",
     "text": [
      "🔍 融合特征维度: [2048, 128, 32, 32]\n",
      "✅ 特征融合成功: torch.Size([2, 2240]) -> torch.Size([2, 256])\n"
     ]
    },
    {
     "name": "stderr",
     "output_type": "stream",
     "text": [
      "训练中:  72%|███████▏  | 504/699 [1:19:49<18:26,  5.68s/it, Loss=nan, Acc=0.5060]"
     ]
    },
    {
     "name": "stdout",
     "output_type": "stream",
     "text": [
      "🔍 融合特征维度: [2048, 128, 32, 32]\n",
      "✅ 特征融合成功: torch.Size([2, 2240]) -> torch.Size([2, 256])\n"
     ]
    },
    {
     "name": "stderr",
     "output_type": "stream",
     "text": [
      "训练中:  72%|███████▏  | 505/699 [1:19:59<21:55,  6.78s/it, Loss=nan, Acc=0.5069]"
     ]
    },
    {
     "name": "stdout",
     "output_type": "stream",
     "text": [
      "🔍 融合特征维度: [2048, 128, 32, 32]\n",
      "✅ 特征融合成功: torch.Size([2, 2240]) -> torch.Size([2, 256])\n"
     ]
    },
    {
     "name": "stderr",
     "output_type": "stream",
     "text": [
      "训练中:  72%|███████▏  | 506/699 [1:20:03<19:24,  6.04s/it, Loss=nan, Acc=0.5059]"
     ]
    },
    {
     "name": "stdout",
     "output_type": "stream",
     "text": [
      "🔍 融合特征维度: [2048, 128, 32, 32]\n",
      "✅ 特征融合成功: torch.Size([2, 2240]) -> torch.Size([2, 256])\n"
     ]
    },
    {
     "name": "stderr",
     "output_type": "stream",
     "text": [
      "训练中:  73%|███████▎  | 507/699 [1:20:10<20:10,  6.31s/it, Loss=nan, Acc=0.5059]"
     ]
    },
    {
     "name": "stdout",
     "output_type": "stream",
     "text": [
      "🔍 融合特征维度: [2048, 128, 32, 32]\n",
      "✅ 特征融合成功: torch.Size([2, 2240]) -> torch.Size([2, 256])\n"
     ]
    },
    {
     "name": "stderr",
     "output_type": "stream",
     "text": [
      "训练中:  73%|███████▎  | 508/699 [1:20:23<26:25,  8.30s/it, Loss=nan, Acc=0.5069]"
     ]
    },
    {
     "name": "stdout",
     "output_type": "stream",
     "text": [
      "🔍 融合特征维度: [2048, 128, 32, 32]\n",
      "✅ 特征融合成功: torch.Size([2, 2240]) -> torch.Size([2, 256])\n"
     ]
    },
    {
     "name": "stderr",
     "output_type": "stream",
     "text": [
      "训练中:  73%|███████▎  | 509/699 [1:20:31<26:37,  8.41s/it, Loss=nan, Acc=0.5069]"
     ]
    },
    {
     "name": "stdout",
     "output_type": "stream",
     "text": [
      "🔍 融合特征维度: [2048, 128, 32, 32]\n",
      "✅ 特征融合成功: torch.Size([2, 2240]) -> torch.Size([2, 256])\n"
     ]
    },
    {
     "name": "stderr",
     "output_type": "stream",
     "text": [
      "训练中:  73%|███████▎  | 510/699 [1:20:37<23:34,  7.48s/it, Loss=nan, Acc=0.5059]"
     ]
    },
    {
     "name": "stdout",
     "output_type": "stream",
     "text": [
      "🔍 融合特征维度: [2048, 128, 32, 32]\n",
      "✅ 特征融合成功: torch.Size([2, 2240]) -> torch.Size([2, 256])\n"
     ]
    },
    {
     "name": "stderr",
     "output_type": "stream",
     "text": [
      "训练中:  73%|███████▎  | 511/699 [1:20:40<19:56,  6.36s/it, Loss=nan, Acc=0.5059]"
     ]
    },
    {
     "name": "stdout",
     "output_type": "stream",
     "text": [
      "🔍 融合特征维度: [2048, 128, 32, 32]\n",
      "✅ 特征融合成功: torch.Size([2, 2240]) -> torch.Size([2, 256])\n"
     ]
    },
    {
     "name": "stderr",
     "output_type": "stream",
     "text": [
      "训练中:  73%|███████▎  | 512/699 [1:20:49<21:27,  6.89s/it, Loss=nan, Acc=0.5059]"
     ]
    },
    {
     "name": "stdout",
     "output_type": "stream",
     "text": [
      "🔍 融合特征维度: [2048, 128, 32, 32]\n",
      "✅ 特征融合成功: torch.Size([2, 2240]) -> torch.Size([2, 256])\n"
     ]
    },
    {
     "name": "stderr",
     "output_type": "stream",
     "text": [
      "训练中:  73%|███████▎  | 513/699 [1:20:55<20:49,  6.72s/it, Loss=nan, Acc=0.5068]"
     ]
    },
    {
     "name": "stdout",
     "output_type": "stream",
     "text": [
      "🔍 融合特征维度: [2048, 128, 32, 32]\n",
      "✅ 特征融合成功: torch.Size([2, 2240]) -> torch.Size([2, 256])\n"
     ]
    },
    {
     "name": "stderr",
     "output_type": "stream",
     "text": [
      "训练中:  74%|███████▎  | 514/699 [1:21:01<20:21,  6.60s/it, Loss=nan, Acc=0.5068]"
     ]
    },
    {
     "name": "stdout",
     "output_type": "stream",
     "text": [
      "🔍 融合特征维度: [2048, 128, 32, 32]\n",
      "✅ 特征融合成功: torch.Size([2, 2240]) -> torch.Size([2, 256])\n"
     ]
    },
    {
     "name": "stderr",
     "output_type": "stream",
     "text": [
      "训练中:  74%|███████▎  | 515/699 [1:21:10<22:28,  7.33s/it, Loss=nan, Acc=0.5068]"
     ]
    },
    {
     "name": "stdout",
     "output_type": "stream",
     "text": [
      "🔍 融合特征维度: [2048, 128, 32, 32]\n",
      "✅ 特征融合成功: torch.Size([2, 2240]) -> torch.Size([2, 256])\n"
     ]
    },
    {
     "name": "stderr",
     "output_type": "stream",
     "text": [
      "训练中:  74%|███████▍  | 516/699 [1:21:19<23:20,  7.66s/it, Loss=nan, Acc=0.5058]"
     ]
    },
    {
     "name": "stdout",
     "output_type": "stream",
     "text": [
      "🔍 融合特征维度: [2048, 128, 32, 32]\n",
      "✅ 特征融合成功: torch.Size([2, 2240]) -> torch.Size([2, 256])\n"
     ]
    },
    {
     "name": "stderr",
     "output_type": "stream",
     "text": [
      "训练中:  74%|███████▍  | 517/699 [1:21:27<24:18,  8.01s/it, Loss=nan, Acc=0.5068]"
     ]
    },
    {
     "name": "stdout",
     "output_type": "stream",
     "text": [
      "🔍 融合特征维度: [2048, 128, 32, 32]\n",
      "✅ 特征融合成功: torch.Size([2, 2240]) -> torch.Size([2, 256])\n"
     ]
    },
    {
     "name": "stderr",
     "output_type": "stream",
     "text": [
      "训练中:  74%|███████▍  | 518/699 [1:21:33<21:32,  7.14s/it, Loss=nan, Acc=0.5068]"
     ]
    },
    {
     "name": "stdout",
     "output_type": "stream",
     "text": [
      "🔍 融合特征维度: [2048, 128, 32, 32]\n",
      "✅ 特征融合成功: torch.Size([2, 2240]) -> torch.Size([2, 256])\n"
     ]
    },
    {
     "name": "stderr",
     "output_type": "stream",
     "text": [
      "训练中:  74%|███████▍  | 519/699 [1:21:40<21:29,  7.16s/it, Loss=nan, Acc=0.5067]"
     ]
    },
    {
     "name": "stdout",
     "output_type": "stream",
     "text": [
      "🔍 融合特征维度: [2048, 128, 32, 32]\n",
      "✅ 特征融合成功: torch.Size([2, 2240]) -> torch.Size([2, 256])\n"
     ]
    },
    {
     "name": "stderr",
     "output_type": "stream",
     "text": [
      "训练中:  74%|███████▍  | 520/699 [1:21:52<25:25,  8.52s/it, Loss=nan, Acc=0.5077]"
     ]
    },
    {
     "name": "stdout",
     "output_type": "stream",
     "text": [
      "🔍 融合特征维度: [2048, 128, 32, 32]\n",
      "✅ 特征融合成功: torch.Size([2, 2240]) -> torch.Size([2, 256])\n"
     ]
    },
    {
     "name": "stderr",
     "output_type": "stream",
     "text": [
      "训练中:  75%|███████▍  | 521/699 [1:21:54<20:12,  6.81s/it, Loss=nan, Acc=0.5077]"
     ]
    },
    {
     "name": "stdout",
     "output_type": "stream",
     "text": [
      "🔍 融合特征维度: [2048, 128, 32, 32]\n",
      "✅ 特征融合成功: torch.Size([2, 2240]) -> torch.Size([2, 256])\n"
     ]
    },
    {
     "name": "stderr",
     "output_type": "stream",
     "text": [
      "训练中:  75%|███████▍  | 522/699 [1:22:08<26:28,  8.97s/it, Loss=nan, Acc=0.5077]"
     ]
    },
    {
     "name": "stdout",
     "output_type": "stream",
     "text": [
      "🔍 融合特征维度: [2048, 128, 32, 32]\n",
      "✅ 特征融合成功: torch.Size([2, 2240]) -> torch.Size([2, 256])\n"
     ]
    },
    {
     "name": "stderr",
     "output_type": "stream",
     "text": [
      "训练中:  75%|███████▍  | 523/699 [1:22:17<26:02,  8.88s/it, Loss=nan, Acc=0.5086]"
     ]
    },
    {
     "name": "stdout",
     "output_type": "stream",
     "text": [
      "🔍 融合特征维度: [2048, 128, 32, 32]\n",
      "✅ 特征融合成功: torch.Size([2, 2240]) -> torch.Size([2, 256])\n"
     ]
    },
    {
     "name": "stderr",
     "output_type": "stream",
     "text": [
      "训练中:  75%|███████▍  | 524/699 [1:22:28<27:37,  9.47s/it, Loss=nan, Acc=0.5076]"
     ]
    },
    {
     "name": "stdout",
     "output_type": "stream",
     "text": [
      "🔍 融合特征维度: [2048, 128, 32, 32]\n",
      "✅ 特征融合成功: torch.Size([2, 2240]) -> torch.Size([2, 256])\n"
     ]
    },
    {
     "name": "stderr",
     "output_type": "stream",
     "text": [
      "训练中:  75%|███████▌  | 525/699 [1:22:38<28:15,  9.75s/it, Loss=nan, Acc=0.5076]"
     ]
    },
    {
     "name": "stdout",
     "output_type": "stream",
     "text": [
      "🔍 融合特征维度: [2048, 128, 32, 32]\n",
      "✅ 特征融合成功: torch.Size([2, 2240]) -> torch.Size([2, 256])\n"
     ]
    },
    {
     "name": "stderr",
     "output_type": "stream",
     "text": [
      "训练中:  75%|███████▌  | 526/699 [1:22:44<24:16,  8.42s/it, Loss=nan, Acc=0.5086]"
     ]
    },
    {
     "name": "stdout",
     "output_type": "stream",
     "text": [
      "🔍 融合特征维度: [2048, 128, 32, 32]\n",
      "✅ 特征融合成功: torch.Size([2, 2240]) -> torch.Size([2, 256])\n"
     ]
    },
    {
     "name": "stderr",
     "output_type": "stream",
     "text": [
      "训练中:  75%|███████▌  | 527/699 [1:22:55<26:32,  9.26s/it, Loss=nan, Acc=0.5085]"
     ]
    },
    {
     "name": "stdout",
     "output_type": "stream",
     "text": [
      "🔍 融合特征维度: [2048, 128, 32, 32]\n",
      "✅ 特征融合成功: torch.Size([2, 2240]) -> torch.Size([2, 256])\n"
     ]
    },
    {
     "name": "stderr",
     "output_type": "stream",
     "text": [
      "训练中:  76%|███████▌  | 528/699 [1:23:04<26:33,  9.32s/it, Loss=nan, Acc=0.5085]"
     ]
    },
    {
     "name": "stdout",
     "output_type": "stream",
     "text": [
      "🔍 融合特征维度: [2048, 128, 32, 32]\n",
      "✅ 特征融合成功: torch.Size([2, 2240]) -> torch.Size([2, 256])\n"
     ]
    },
    {
     "name": "stderr",
     "output_type": "stream",
     "text": [
      "训练中:  76%|███████▌  | 529/699 [1:23:15<27:27,  9.69s/it, Loss=nan, Acc=0.5085]"
     ]
    },
    {
     "name": "stdout",
     "output_type": "stream",
     "text": [
      "🔍 融合特征维度: [2048, 128, 32, 32]\n",
      "✅ 特征融合成功: torch.Size([2, 2240]) -> torch.Size([2, 256])\n"
     ]
    },
    {
     "name": "stderr",
     "output_type": "stream",
     "text": [
      "训练中:  76%|███████▌  | 530/699 [1:23:26<28:19, 10.06s/it, Loss=nan, Acc=0.5085]"
     ]
    },
    {
     "name": "stdout",
     "output_type": "stream",
     "text": [
      "🔍 融合特征维度: [2048, 128, 32, 32]\n",
      "✅ 特征融合成功: torch.Size([2, 2240]) -> torch.Size([2, 256])\n"
     ]
    },
    {
     "name": "stderr",
     "output_type": "stream",
     "text": [
      "训练中:  76%|███████▌  | 531/699 [1:23:43<34:35, 12.35s/it, Loss=nan, Acc=0.5094]"
     ]
    },
    {
     "name": "stdout",
     "output_type": "stream",
     "text": [
      "🔍 融合特征维度: [2048, 128, 32, 32]\n",
      "✅ 特征融合成功: torch.Size([2, 2240]) -> torch.Size([2, 256])\n"
     ]
    },
    {
     "name": "stderr",
     "output_type": "stream",
     "text": [
      "训练中:  76%|███████▌  | 532/699 [1:23:47<27:05,  9.74s/it, Loss=nan, Acc=0.5094]"
     ]
    },
    {
     "name": "stdout",
     "output_type": "stream",
     "text": [
      "🔍 融合特征维度: [2048, 128, 32, 32]\n",
      "✅ 特征融合成功: torch.Size([2, 2240]) -> torch.Size([2, 256])\n"
     ]
    },
    {
     "name": "stderr",
     "output_type": "stream",
     "text": [
      "训练中:  76%|███████▋  | 533/699 [1:23:59<28:22, 10.25s/it, Loss=nan, Acc=0.5084]"
     ]
    },
    {
     "name": "stdout",
     "output_type": "stream",
     "text": [
      "🔍 融合特征维度: [2048, 128, 32, 32]\n",
      "✅ 特征融合成功: torch.Size([2, 2240]) -> torch.Size([2, 256])\n"
     ]
    },
    {
     "name": "stderr",
     "output_type": "stream",
     "text": [
      "训练中:  76%|███████▋  | 534/699 [1:24:03<23:38,  8.60s/it, Loss=nan, Acc=0.5075]"
     ]
    },
    {
     "name": "stdout",
     "output_type": "stream",
     "text": [
      "🔍 融合特征维度: [2048, 128, 32, 32]\n",
      "✅ 特征融合成功: torch.Size([2, 2240]) -> torch.Size([2, 256])\n"
     ]
    },
    {
     "name": "stderr",
     "output_type": "stream",
     "text": [
      "训练中:  77%|███████▋  | 535/699 [1:24:18<28:08, 10.30s/it, Loss=nan, Acc=0.5075]"
     ]
    },
    {
     "name": "stdout",
     "output_type": "stream",
     "text": [
      "🔍 融合特征维度: [2048, 128, 32, 32]\n",
      "✅ 特征融合成功: torch.Size([2, 2240]) -> torch.Size([2, 256])\n"
     ]
    },
    {
     "name": "stderr",
     "output_type": "stream",
     "text": [
      "训练中:  77%|███████▋  | 536/699 [1:24:26<26:36,  9.80s/it, Loss=nan, Acc=0.5065]"
     ]
    },
    {
     "name": "stdout",
     "output_type": "stream",
     "text": [
      "🔍 融合特征维度: [2048, 128, 32, 32]\n",
      "✅ 特征融合成功: torch.Size([2, 2240]) -> torch.Size([2, 256])\n"
     ]
    },
    {
     "name": "stderr",
     "output_type": "stream",
     "text": [
      "训练中:  77%|███████▋  | 537/699 [1:24:31<22:31,  8.34s/it, Loss=nan, Acc=0.5065]"
     ]
    },
    {
     "name": "stdout",
     "output_type": "stream",
     "text": [
      "🔍 融合特征维度: [2048, 128, 32, 32]\n",
      "✅ 特征融合成功: torch.Size([2, 2240]) -> torch.Size([2, 256])\n"
     ]
    },
    {
     "name": "stderr",
     "output_type": "stream",
     "text": [
      "训练中:  77%|███████▋  | 538/699 [1:24:40<22:36,  8.42s/it, Loss=nan, Acc=0.5056]"
     ]
    },
    {
     "name": "stdout",
     "output_type": "stream",
     "text": [
      "🔍 融合特征维度: [2048, 128, 32, 32]\n",
      "✅ 特征融合成功: torch.Size([2, 2240]) -> torch.Size([2, 256])\n"
     ]
    },
    {
     "name": "stderr",
     "output_type": "stream",
     "text": [
      "训练中:  77%|███████▋  | 539/699 [1:24:47<21:29,  8.06s/it, Loss=nan, Acc=0.5056]"
     ]
    },
    {
     "name": "stdout",
     "output_type": "stream",
     "text": [
      "🔍 融合特征维度: [2048, 128, 32, 32]\n",
      "✅ 特征融合成功: torch.Size([2, 2240]) -> torch.Size([2, 256])\n"
     ]
    },
    {
     "name": "stderr",
     "output_type": "stream",
     "text": [
      "训练中:  77%|███████▋  | 540/699 [1:24:54<20:58,  7.92s/it, Loss=nan, Acc=0.5056]"
     ]
    },
    {
     "name": "stdout",
     "output_type": "stream",
     "text": [
      "🔍 融合特征维度: [2048, 128, 32, 32]\n",
      "✅ 特征融合成功: torch.Size([2, 2240]) -> torch.Size([2, 256])\n"
     ]
    },
    {
     "name": "stderr",
     "output_type": "stream",
     "text": [
      "训练中:  77%|███████▋  | 541/699 [1:25:09<26:20, 10.00s/it, Loss=nan, Acc=0.5055]"
     ]
    },
    {
     "name": "stdout",
     "output_type": "stream",
     "text": [
      "🔍 融合特征维度: [2048, 128, 32, 32]\n",
      "✅ 特征融合成功: torch.Size([2, 2240]) -> torch.Size([2, 256])\n"
     ]
    },
    {
     "name": "stderr",
     "output_type": "stream",
     "text": [
      "训练中:  78%|███████▊  | 542/699 [1:25:15<22:35,  8.63s/it, Loss=nan, Acc=0.5065]"
     ]
    },
    {
     "name": "stdout",
     "output_type": "stream",
     "text": [
      "🔍 融合特征维度: [2048, 128, 32, 32]\n",
      "✅ 特征融合成功: torch.Size([2, 2240]) -> torch.Size([2, 256])\n"
     ]
    },
    {
     "name": "stderr",
     "output_type": "stream",
     "text": [
      "训练中:  78%|███████▊  | 543/699 [1:25:23<21:57,  8.45s/it, Loss=nan, Acc=0.5064]"
     ]
    },
    {
     "name": "stdout",
     "output_type": "stream",
     "text": [
      "🔍 融合特征维度: [2048, 128, 32, 32]\n",
      "✅ 特征融合成功: torch.Size([2, 2240]) -> torch.Size([2, 256])\n"
     ]
    },
    {
     "name": "stderr",
     "output_type": "stream",
     "text": [
      "训练中:  78%|███████▊  | 544/699 [1:25:42<30:13, 11.70s/it, Loss=nan, Acc=0.5064]"
     ]
    },
    {
     "name": "stdout",
     "output_type": "stream",
     "text": [
      "🔍 融合特征维度: [2048, 128, 32, 32]\n",
      "✅ 特征融合成功: torch.Size([2, 2240]) -> torch.Size([2, 256])\n"
     ]
    },
    {
     "name": "stderr",
     "output_type": "stream",
     "text": [
      "训练中:  78%|███████▊  | 545/699 [1:25:45<23:25,  9.13s/it, Loss=nan, Acc=0.5055]"
     ]
    },
    {
     "name": "stdout",
     "output_type": "stream",
     "text": [
      "🔍 融合特征维度: [2048, 128, 32, 32]\n",
      "✅ 特征融合成功: torch.Size([2, 2240]) -> torch.Size([2, 256])\n"
     ]
    },
    {
     "name": "stderr",
     "output_type": "stream",
     "text": [
      "训练中:  78%|███████▊  | 546/699 [1:26:09<34:23, 13.49s/it, Loss=nan, Acc=0.5064]"
     ]
    },
    {
     "name": "stdout",
     "output_type": "stream",
     "text": [
      "🔍 融合特征维度: [2048, 128, 32, 32]\n",
      "✅ 特征融合成功: torch.Size([2, 2240]) -> torch.Size([2, 256])\n"
     ]
    },
    {
     "name": "stderr",
     "output_type": "stream",
     "text": [
      "训练中:  78%|███████▊  | 547/699 [1:26:15<28:56, 11.42s/it, Loss=nan, Acc=0.5064]"
     ]
    },
    {
     "name": "stdout",
     "output_type": "stream",
     "text": [
      "🔍 融合特征维度: [2048, 128, 32, 32]\n",
      "✅ 特征融合成功: torch.Size([2, 2240]) -> torch.Size([2, 256])\n"
     ]
    },
    {
     "name": "stderr",
     "output_type": "stream",
     "text": [
      "训练中:  78%|███████▊  | 548/699 [1:26:27<28:53, 11.48s/it, Loss=nan, Acc=0.5073]"
     ]
    },
    {
     "name": "stdout",
     "output_type": "stream",
     "text": [
      "🔍 融合特征维度: [2048, 128, 32, 32]\n",
      "✅ 特征融合成功: torch.Size([2, 2240]) -> torch.Size([2, 256])\n"
     ]
    },
    {
     "name": "stderr",
     "output_type": "stream",
     "text": [
      "训练中:  79%|███████▊  | 549/699 [1:26:43<32:19, 12.93s/it, Loss=nan, Acc=0.5064]"
     ]
    },
    {
     "name": "stdout",
     "output_type": "stream",
     "text": [
      "🔍 融合特征维度: [2048, 128, 32, 32]\n",
      "✅ 特征融合成功: torch.Size([2, 2240]) -> torch.Size([2, 256])\n"
     ]
    },
    {
     "name": "stderr",
     "output_type": "stream",
     "text": [
      "训练中:  79%|███████▊  | 550/699 [1:26:57<32:14, 12.98s/it, Loss=nan, Acc=0.5073]"
     ]
    },
    {
     "name": "stdout",
     "output_type": "stream",
     "text": [
      "🔍 融合特征维度: [2048, 128, 32, 32]\n",
      "✅ 特征融合成功: torch.Size([2, 2240]) -> torch.Size([2, 256])\n"
     ]
    },
    {
     "name": "stderr",
     "output_type": "stream",
     "text": [
      "训练中:  79%|███████▉  | 551/699 [1:27:03<27:29, 11.14s/it, Loss=nan, Acc=0.5073]"
     ]
    },
    {
     "name": "stdout",
     "output_type": "stream",
     "text": [
      "🔍 融合特征维度: [2048, 128, 32, 32]\n",
      "✅ 特征融合成功: torch.Size([2, 2240]) -> torch.Size([2, 256])\n"
     ]
    },
    {
     "name": "stderr",
     "output_type": "stream",
     "text": [
      "训练中:  79%|███████▉  | 552/699 [1:27:14<27:03, 11.04s/it, Loss=nan, Acc=0.5082]"
     ]
    },
    {
     "name": "stdout",
     "output_type": "stream",
     "text": [
      "🔍 融合特征维度: [2048, 128, 32, 32]\n",
      "✅ 特征融合成功: torch.Size([2, 2240]) -> torch.Size([2, 256])\n"
     ]
    },
    {
     "name": "stderr",
     "output_type": "stream",
     "text": [
      "训练中:  79%|███████▉  | 553/699 [1:27:28<28:46, 11.83s/it, Loss=nan, Acc=0.5072]"
     ]
    },
    {
     "name": "stdout",
     "output_type": "stream",
     "text": [
      "🔍 融合特征维度: [2048, 128, 32, 32]\n",
      "✅ 特征融合成功: torch.Size([2, 2240]) -> torch.Size([2, 256])\n"
     ]
    },
    {
     "name": "stderr",
     "output_type": "stream",
     "text": [
      "训练中:  79%|███████▉  | 554/699 [1:27:33<23:38,  9.78s/it, Loss=nan, Acc=0.5063]"
     ]
    },
    {
     "name": "stdout",
     "output_type": "stream",
     "text": [
      "🔍 融合特征维度: [2048, 128, 32, 32]\n",
      "✅ 特征融合成功: torch.Size([2, 2240]) -> torch.Size([2, 256])\n"
     ]
    },
    {
     "name": "stderr",
     "output_type": "stream",
     "text": [
      "训练中:  79%|███████▉  | 555/699 [1:27:43<23:46,  9.91s/it, Loss=nan, Acc=0.5054]"
     ]
    },
    {
     "name": "stdout",
     "output_type": "stream",
     "text": [
      "🔍 融合特征维度: [2048, 128, 32, 32]\n",
      "✅ 特征融合成功: torch.Size([2, 2240]) -> torch.Size([2, 256])\n"
     ]
    },
    {
     "name": "stderr",
     "output_type": "stream",
     "text": [
      "训练中:  80%|███████▉  | 556/699 [1:27:47<19:33,  8.21s/it, Loss=nan, Acc=0.5063]"
     ]
    },
    {
     "name": "stdout",
     "output_type": "stream",
     "text": [
      "🔍 融合特征维度: [2048, 128, 32, 32]\n",
      "✅ 特征融合成功: torch.Size([2, 2240]) -> torch.Size([2, 256])\n"
     ]
    },
    {
     "name": "stderr",
     "output_type": "stream",
     "text": [
      "训练中:  80%|███████▉  | 557/699 [1:28:03<24:37, 10.41s/it, Loss=nan, Acc=0.5072]"
     ]
    },
    {
     "name": "stdout",
     "output_type": "stream",
     "text": [
      "🔍 融合特征维度: [2048, 128, 32, 32]\n",
      "✅ 特征融合成功: torch.Size([2, 2240]) -> torch.Size([2, 256])\n"
     ]
    },
    {
     "name": "stderr",
     "output_type": "stream",
     "text": [
      "训练中:  80%|███████▉  | 558/699 [1:28:08<20:42,  8.81s/it, Loss=nan, Acc=0.5063]"
     ]
    },
    {
     "name": "stdout",
     "output_type": "stream",
     "text": [
      "🔍 融合特征维度: [2048, 128, 32, 32]\n",
      "✅ 特征融合成功: torch.Size([2, 2240]) -> torch.Size([2, 256])\n"
     ]
    },
    {
     "name": "stderr",
     "output_type": "stream",
     "text": [
      "训练中:  80%|███████▉  | 559/699 [1:28:11<16:48,  7.20s/it, Loss=nan, Acc=0.5072]"
     ]
    },
    {
     "name": "stdout",
     "output_type": "stream",
     "text": [
      "🔍 融合特征维度: [2048, 128, 32, 32]\n",
      "✅ 特征融合成功: torch.Size([2, 2240]) -> torch.Size([2, 256])\n"
     ]
    },
    {
     "name": "stderr",
     "output_type": "stream",
     "text": [
      "训练中:  80%|████████  | 560/699 [1:28:25<20:49,  8.99s/it, Loss=nan, Acc=0.5062]"
     ]
    },
    {
     "name": "stdout",
     "output_type": "stream",
     "text": [
      "🔍 融合特征维度: [2048, 128, 32, 32]\n",
      "✅ 特征融合成功: torch.Size([2, 2240]) -> torch.Size([2, 256])\n"
     ]
    },
    {
     "name": "stderr",
     "output_type": "stream",
     "text": [
      "训练中:  80%|████████  | 561/699 [1:28:32<19:47,  8.61s/it, Loss=nan, Acc=0.5053]"
     ]
    },
    {
     "name": "stdout",
     "output_type": "stream",
     "text": [
      "🔍 融合特征维度: [2048, 128, 32, 32]\n",
      "✅ 特征融合成功: torch.Size([2, 2240]) -> torch.Size([2, 256])\n"
     ]
    },
    {
     "name": "stderr",
     "output_type": "stream",
     "text": [
      "训练中:  80%|████████  | 562/699 [1:28:37<17:18,  7.58s/it, Loss=nan, Acc=0.5053]"
     ]
    },
    {
     "name": "stdout",
     "output_type": "stream",
     "text": [
      "🔍 融合特征维度: [2048, 128, 32, 32]\n",
      "✅ 特征融合成功: torch.Size([2, 2240]) -> torch.Size([2, 256])\n"
     ]
    },
    {
     "name": "stderr",
     "output_type": "stream",
     "text": [
      "训练中:  81%|████████  | 563/699 [1:28:47<18:14,  8.05s/it, Loss=nan, Acc=0.5053]"
     ]
    },
    {
     "name": "stdout",
     "output_type": "stream",
     "text": [
      "🔍 融合特征维度: [2048, 128, 32, 32]\n",
      "✅ 特征融合成功: torch.Size([2, 2240]) -> torch.Size([2, 256])\n"
     ]
    },
    {
     "name": "stderr",
     "output_type": "stream",
     "text": [
      "训练中:  81%|████████  | 564/699 [1:28:53<17:01,  7.56s/it, Loss=nan, Acc=0.5044]"
     ]
    },
    {
     "name": "stdout",
     "output_type": "stream",
     "text": [
      "🔍 融合特征维度: [2048, 128, 32, 32]\n",
      "✅ 特征融合成功: torch.Size([2, 2240]) -> torch.Size([2, 256])\n"
     ]
    },
    {
     "name": "stderr",
     "output_type": "stream",
     "text": [
      "训练中:  81%|████████  | 565/699 [1:28:58<15:15,  6.83s/it, Loss=nan, Acc=0.5044]"
     ]
    },
    {
     "name": "stdout",
     "output_type": "stream",
     "text": [
      "🔍 融合特征维度: [2048, 128, 32, 32]\n",
      "✅ 特征融合成功: torch.Size([2, 2240]) -> torch.Size([2, 256])\n"
     ]
    },
    {
     "name": "stderr",
     "output_type": "stream",
     "text": [
      "训练中:  81%|████████  | 566/699 [1:29:07<16:25,  7.41s/it, Loss=nan, Acc=0.5053]"
     ]
    },
    {
     "name": "stdout",
     "output_type": "stream",
     "text": [
      "🔍 融合特征维度: [2048, 128, 32, 32]\n",
      "✅ 特征融合成功: torch.Size([2, 2240]) -> torch.Size([2, 256])\n"
     ]
    },
    {
     "name": "stderr",
     "output_type": "stream",
     "text": [
      "训练中:  81%|████████  | 567/699 [1:29:15<16:48,  7.64s/it, Loss=nan, Acc=0.5044]"
     ]
    },
    {
     "name": "stdout",
     "output_type": "stream",
     "text": [
      "🔍 融合特征维度: [2048, 128, 32, 32]\n",
      "✅ 特征融合成功: torch.Size([2, 2240]) -> torch.Size([2, 256])\n"
     ]
    },
    {
     "name": "stderr",
     "output_type": "stream",
     "text": [
      "训练中:  81%|████████▏ | 568/699 [1:29:22<16:09,  7.40s/it, Loss=nan, Acc=0.5044]"
     ]
    },
    {
     "name": "stdout",
     "output_type": "stream",
     "text": [
      "🔍 融合特征维度: [2048, 128, 32, 32]\n",
      "✅ 特征融合成功: torch.Size([2, 2240]) -> torch.Size([2, 256])\n"
     ]
    },
    {
     "name": "stderr",
     "output_type": "stream",
     "text": [
      "训练中:  81%|████████▏ | 569/699 [1:29:33<18:38,  8.60s/it, Loss=nan, Acc=0.5053]"
     ]
    },
    {
     "name": "stdout",
     "output_type": "stream",
     "text": [
      "🔍 融合特征维度: [2048, 128, 32, 32]\n",
      "✅ 特征融合成功: torch.Size([2, 2240]) -> torch.Size([2, 256])\n"
     ]
    },
    {
     "name": "stderr",
     "output_type": "stream",
     "text": [
      "训练中:  82%|████████▏ | 570/699 [1:29:48<22:18, 10.38s/it, Loss=nan, Acc=0.5053]"
     ]
    },
    {
     "name": "stdout",
     "output_type": "stream",
     "text": [
      "🔍 融合特征维度: [2048, 128, 32, 32]\n",
      "✅ 特征融合成功: torch.Size([2, 2240]) -> torch.Size([2, 256])\n"
     ]
    },
    {
     "name": "stderr",
     "output_type": "stream",
     "text": [
      "训练中:  82%|████████▏ | 571/699 [1:29:54<19:12,  9.00s/it, Loss=nan, Acc=0.5044]"
     ]
    },
    {
     "name": "stdout",
     "output_type": "stream",
     "text": [
      "🔍 融合特征维度: [2048, 128, 32, 32]\n",
      "✅ 特征融合成功: torch.Size([2, 2240]) -> torch.Size([2, 256])\n"
     ]
    },
    {
     "name": "stderr",
     "output_type": "stream",
     "text": [
      "训练中:  82%|████████▏ | 572/699 [1:29:58<16:17,  7.69s/it, Loss=nan, Acc=0.5052]"
     ]
    },
    {
     "name": "stdout",
     "output_type": "stream",
     "text": [
      "🔍 融合特征维度: [2048, 128, 32, 32]\n",
      "✅ 特征融合成功: torch.Size([2, 2240]) -> torch.Size([2, 256])\n"
     ]
    },
    {
     "name": "stderr",
     "output_type": "stream",
     "text": [
      "训练中:  82%|████████▏ | 573/699 [1:30:03<14:10,  6.75s/it, Loss=nan, Acc=0.5044]"
     ]
    },
    {
     "name": "stdout",
     "output_type": "stream",
     "text": [
      "🔍 融合特征维度: [2048, 128, 32, 32]\n",
      "✅ 特征融合成功: torch.Size([2, 2240]) -> torch.Size([2, 256])\n"
     ]
    },
    {
     "name": "stderr",
     "output_type": "stream",
     "text": [
      "训练中:  82%|████████▏ | 574/699 [1:30:08<13:16,  6.37s/it, Loss=nan, Acc=0.5035]"
     ]
    },
    {
     "name": "stdout",
     "output_type": "stream",
     "text": [
      "🔍 融合特征维度: [2048, 128, 32, 32]\n",
      "✅ 特征融合成功: torch.Size([2, 2240]) -> torch.Size([2, 256])\n"
     ]
    },
    {
     "name": "stderr",
     "output_type": "stream",
     "text": [
      "训练中:  82%|████████▏ | 575/699 [1:30:25<19:29,  9.43s/it, Loss=nan, Acc=0.5035]"
     ]
    },
    {
     "name": "stdout",
     "output_type": "stream",
     "text": [
      "🔍 融合特征维度: [2048, 128, 32, 32]\n",
      "✅ 特征融合成功: torch.Size([2, 2240]) -> torch.Size([2, 256])\n"
     ]
    },
    {
     "name": "stderr",
     "output_type": "stream",
     "text": [
      "训练中:  82%|████████▏ | 576/699 [1:30:33<18:19,  8.94s/it, Loss=nan, Acc=0.5035]"
     ]
    },
    {
     "name": "stdout",
     "output_type": "stream",
     "text": [
      "🔍 融合特征维度: [2048, 128, 32, 32]\n",
      "✅ 特征融合成功: torch.Size([2, 2240]) -> torch.Size([2, 256])\n"
     ]
    },
    {
     "name": "stderr",
     "output_type": "stream",
     "text": [
      "训练中:  83%|████████▎ | 577/699 [1:30:37<15:33,  7.65s/it, Loss=nan, Acc=0.5026]"
     ]
    },
    {
     "name": "stdout",
     "output_type": "stream",
     "text": [
      "🔍 融合特征维度: [2048, 128, 32, 32]\n",
      "✅ 特征融合成功: torch.Size([2, 2240]) -> torch.Size([2, 256])\n"
     ]
    },
    {
     "name": "stderr",
     "output_type": "stream",
     "text": [
      "训练中:  83%|████████▎ | 578/699 [1:30:54<20:56, 10.38s/it, Loss=nan, Acc=0.5017]"
     ]
    },
    {
     "name": "stdout",
     "output_type": "stream",
     "text": [
      "🔍 融合特征维度: [2048, 128, 32, 32]\n",
      "✅ 特征融合成功: torch.Size([2, 2240]) -> torch.Size([2, 256])\n"
     ]
    },
    {
     "name": "stderr",
     "output_type": "stream",
     "text": [
      "训练中:  83%|████████▎ | 579/699 [1:31:13<25:42, 12.86s/it, Loss=nan, Acc=0.5017]"
     ]
    },
    {
     "name": "stdout",
     "output_type": "stream",
     "text": [
      "🔍 融合特征维度: [2048, 128, 32, 32]\n",
      "✅ 特征融合成功: torch.Size([2, 2240]) -> torch.Size([2, 256])\n"
     ]
    },
    {
     "name": "stderr",
     "output_type": "stream",
     "text": [
      "训练中:  83%|████████▎ | 580/699 [1:31:23<24:06, 12.15s/it, Loss=nan, Acc=0.5017]"
     ]
    },
    {
     "name": "stdout",
     "output_type": "stream",
     "text": [
      "🔍 融合特征维度: [2048, 128, 32, 32]\n",
      "✅ 特征融合成功: torch.Size([2, 2240]) -> torch.Size([2, 256])\n"
     ]
    },
    {
     "name": "stderr",
     "output_type": "stream",
     "text": [
      "训练中:  83%|████████▎ | 581/699 [1:31:38<25:11, 12.81s/it, Loss=nan, Acc=0.5017]"
     ]
    },
    {
     "name": "stdout",
     "output_type": "stream",
     "text": [
      "🔍 融合特征维度: [2048, 128, 32, 32]\n",
      "✅ 特征融合成功: torch.Size([2, 2240]) -> torch.Size([2, 256])\n"
     ]
    },
    {
     "name": "stderr",
     "output_type": "stream",
     "text": [
      "训练中:  83%|████████▎ | 582/699 [1:31:41<19:45, 10.14s/it, Loss=nan, Acc=0.5009]"
     ]
    },
    {
     "name": "stdout",
     "output_type": "stream",
     "text": [
      "🔍 融合特征维度: [2048, 128, 32, 32]\n",
      "✅ 特征融合成功: torch.Size([2, 2240]) -> torch.Size([2, 256])\n"
     ]
    },
    {
     "name": "stderr",
     "output_type": "stream",
     "text": [
      "训练中:  83%|████████▎ | 583/699 [1:31:48<17:19,  8.96s/it, Loss=nan, Acc=0.5009]"
     ]
    },
    {
     "name": "stdout",
     "output_type": "stream",
     "text": [
      "🔍 融合特征维度: [2048, 128, 32, 32]\n",
      "✅ 特征融合成功: torch.Size([2, 2240]) -> torch.Size([2, 256])\n"
     ]
    },
    {
     "name": "stderr",
     "output_type": "stream",
     "text": [
      "训练中:  84%|████████▎ | 584/699 [1:31:54<15:32,  8.11s/it, Loss=nan, Acc=0.5009]"
     ]
    },
    {
     "name": "stdout",
     "output_type": "stream",
     "text": [
      "🔍 融合特征维度: [2048, 128, 32, 32]\n",
      "✅ 特征融合成功: torch.Size([2, 2240]) -> torch.Size([2, 256])\n"
     ]
    },
    {
     "name": "stderr",
     "output_type": "stream",
     "text": [
      "训练中:  84%|████████▎ | 585/699 [1:32:03<16:15,  8.56s/it, Loss=nan, Acc=0.5017]"
     ]
    },
    {
     "name": "stdout",
     "output_type": "stream",
     "text": [
      "🔍 融合特征维度: [2048, 128, 32, 32]\n",
      "✅ 特征融合成功: torch.Size([2, 2240]) -> torch.Size([2, 256])\n"
     ]
    },
    {
     "name": "stderr",
     "output_type": "stream",
     "text": [
      "训练中:  84%|████████▍ | 586/699 [1:32:18<19:28, 10.34s/it, Loss=nan, Acc=0.5017]"
     ]
    },
    {
     "name": "stdout",
     "output_type": "stream",
     "text": [
      "🔍 融合特征维度: [2048, 128, 32, 32]\n",
      "✅ 特征融合成功: torch.Size([2, 2240]) -> torch.Size([2, 256])\n"
     ]
    },
    {
     "name": "stderr",
     "output_type": "stream",
     "text": [
      "训练中:  84%|████████▍ | 587/699 [1:32:29<19:59, 10.71s/it, Loss=nan, Acc=0.5026]"
     ]
    },
    {
     "name": "stdout",
     "output_type": "stream",
     "text": [
      "🔍 融合特征维度: [2048, 128, 32, 32]\n",
      "✅ 特征融合成功: torch.Size([2, 2240]) -> torch.Size([2, 256])\n"
     ]
    },
    {
     "name": "stderr",
     "output_type": "stream",
     "text": [
      "训练中:  84%|████████▍ | 588/699 [1:32:45<22:15, 12.03s/it, Loss=nan, Acc=0.5017]"
     ]
    },
    {
     "name": "stdout",
     "output_type": "stream",
     "text": [
      "🔍 融合特征维度: [2048, 128, 32, 32]\n",
      "✅ 特征融合成功: torch.Size([2, 2240]) -> torch.Size([2, 256])\n"
     ]
    },
    {
     "name": "stderr",
     "output_type": "stream",
     "text": [
      "训练中:  84%|████████▍ | 589/699 [1:32:49<17:53,  9.76s/it, Loss=nan, Acc=0.5025]"
     ]
    },
    {
     "name": "stdout",
     "output_type": "stream",
     "text": [
      "🔍 融合特征维度: [2048, 128, 32, 32]\n",
      "✅ 特征融合成功: torch.Size([2, 2240]) -> torch.Size([2, 256])\n"
     ]
    },
    {
     "name": "stderr",
     "output_type": "stream",
     "text": [
      "训练中:  84%|████████▍ | 590/699 [1:33:10<24:01, 13.23s/it, Loss=nan, Acc=0.5025]"
     ]
    },
    {
     "name": "stdout",
     "output_type": "stream",
     "text": [
      "🔍 融合特征维度: [2048, 128, 32, 32]\n",
      "✅ 特征融合成功: torch.Size([2, 2240]) -> torch.Size([2, 256])\n"
     ]
    },
    {
     "name": "stderr",
     "output_type": "stream",
     "text": [
      "训练中:  85%|████████▍ | 591/699 [1:33:15<19:07, 10.62s/it, Loss=nan, Acc=0.5025]"
     ]
    },
    {
     "name": "stdout",
     "output_type": "stream",
     "text": [
      "🔍 融合特征维度: [2048, 128, 32, 32]\n",
      "✅ 特征融合成功: torch.Size([2, 2240]) -> torch.Size([2, 256])\n"
     ]
    },
    {
     "name": "stderr",
     "output_type": "stream",
     "text": [
      "训练中:  85%|████████▍ | 592/699 [1:33:19<15:12,  8.53s/it, Loss=nan, Acc=0.5025]"
     ]
    },
    {
     "name": "stdout",
     "output_type": "stream",
     "text": [
      "🔍 融合特征维度: [2048, 128, 32, 32]\n",
      "✅ 特征融合成功: torch.Size([2, 2240]) -> torch.Size([2, 256])\n"
     ]
    },
    {
     "name": "stderr",
     "output_type": "stream",
     "text": [
      "训练中:  85%|████████▍ | 593/699 [1:33:32<17:26,  9.87s/it, Loss=nan, Acc=0.5017]"
     ]
    },
    {
     "name": "stdout",
     "output_type": "stream",
     "text": [
      "🔍 融合特征维度: [2048, 128, 32, 32]\n",
      "✅ 特征融合成功: torch.Size([2, 2240]) -> torch.Size([2, 256])\n"
     ]
    },
    {
     "name": "stderr",
     "output_type": "stream",
     "text": [
      "训练中:  85%|████████▍ | 594/699 [1:33:35<14:01,  8.01s/it, Loss=nan, Acc=0.5025]"
     ]
    },
    {
     "name": "stdout",
     "output_type": "stream",
     "text": [
      "🔍 融合特征维度: [2048, 128, 32, 32]\n",
      "✅ 特征融合成功: torch.Size([2, 2240]) -> torch.Size([2, 256])\n"
     ]
    },
    {
     "name": "stderr",
     "output_type": "stream",
     "text": [
      "训练中:  85%|████████▌ | 595/699 [1:33:41<12:44,  7.35s/it, Loss=nan, Acc=0.5034]"
     ]
    },
    {
     "name": "stdout",
     "output_type": "stream",
     "text": [
      "🔍 融合特征维度: [2048, 128, 32, 32]\n",
      "✅ 特征融合成功: torch.Size([2, 2240]) -> torch.Size([2, 256])\n"
     ]
    },
    {
     "name": "stderr",
     "output_type": "stream",
     "text": [
      "训练中:  85%|████████▌ | 596/699 [1:33:47<12:08,  7.08s/it, Loss=nan, Acc=0.5034]"
     ]
    },
    {
     "name": "stdout",
     "output_type": "stream",
     "text": [
      "🔍 融合特征维度: [2048, 128, 32, 32]\n",
      "✅ 特征融合成功: torch.Size([2, 2240]) -> torch.Size([2, 256])\n"
     ]
    },
    {
     "name": "stderr",
     "output_type": "stream",
     "text": [
      "训练中:  85%|████████▌ | 597/699 [1:33:51<10:21,  6.09s/it, Loss=nan, Acc=0.5042]"
     ]
    },
    {
     "name": "stdout",
     "output_type": "stream",
     "text": [
      "🔍 融合特征维度: [2048, 128, 32, 32]\n",
      "✅ 特征融合成功: torch.Size([2, 2240]) -> torch.Size([2, 256])\n"
     ]
    },
    {
     "name": "stderr",
     "output_type": "stream",
     "text": [
      "训练中:  86%|████████▌ | 598/699 [1:33:59<11:06,  6.60s/it, Loss=nan, Acc=0.5042]"
     ]
    },
    {
     "name": "stdout",
     "output_type": "stream",
     "text": [
      "🔍 融合特征维度: [2048, 128, 32, 32]\n",
      "✅ 特征融合成功: torch.Size([2, 2240]) -> torch.Size([2, 256])\n"
     ]
    },
    {
     "name": "stderr",
     "output_type": "stream",
     "text": [
      "训练中:  86%|████████▌ | 599/699 [1:34:02<09:17,  5.58s/it, Loss=nan, Acc=0.5042]"
     ]
    },
    {
     "name": "stdout",
     "output_type": "stream",
     "text": [
      "🔍 融合特征维度: [2048, 128, 32, 32]\n",
      "✅ 特征融合成功: torch.Size([2, 2240]) -> torch.Size([2, 256])\n"
     ]
    },
    {
     "name": "stderr",
     "output_type": "stream",
     "text": [
      "训练中:  86%|████████▌ | 600/699 [1:34:12<11:28,  6.95s/it, Loss=nan, Acc=0.5042]"
     ]
    },
    {
     "name": "stdout",
     "output_type": "stream",
     "text": [
      "🔍 融合特征维度: [2048, 128, 32, 32]\n",
      "✅ 特征融合成功: torch.Size([2, 2240]) -> torch.Size([2, 256])\n"
     ]
    },
    {
     "name": "stderr",
     "output_type": "stream",
     "text": [
      "训练中:  86%|████████▌ | 601/699 [1:34:17<10:25,  6.38s/it, Loss=nan, Acc=0.5042]"
     ]
    },
    {
     "name": "stdout",
     "output_type": "stream",
     "text": [
      "🔍 融合特征维度: [2048, 128, 32, 32]\n",
      "✅ 特征融合成功: torch.Size([2, 2240]) -> torch.Size([2, 256])\n"
     ]
    },
    {
     "name": "stderr",
     "output_type": "stream",
     "text": [
      "训练中:  86%|████████▌ | 602/699 [1:34:21<08:45,  5.42s/it, Loss=nan, Acc=0.5033]"
     ]
    },
    {
     "name": "stdout",
     "output_type": "stream",
     "text": [
      "🔍 融合特征维度: [2048, 128, 32, 32]\n",
      "✅ 特征融合成功: torch.Size([2, 2240]) -> torch.Size([2, 256])\n"
     ]
    },
    {
     "name": "stderr",
     "output_type": "stream",
     "text": [
      "训练中:  86%|████████▋ | 603/699 [1:34:32<11:43,  7.33s/it, Loss=nan, Acc=0.5033]"
     ]
    },
    {
     "name": "stdout",
     "output_type": "stream",
     "text": [
      "🔍 融合特征维度: [2048, 128, 32, 32]\n",
      "✅ 特征融合成功: torch.Size([2, 2240]) -> torch.Size([2, 256])\n"
     ]
    },
    {
     "name": "stderr",
     "output_type": "stream",
     "text": [
      "训练中:  86%|████████▋ | 604/699 [1:34:57<19:45, 12.48s/it, Loss=nan, Acc=0.5041]"
     ]
    },
    {
     "name": "stdout",
     "output_type": "stream",
     "text": [
      "🔍 融合特征维度: [2048, 128, 32, 32]\n",
      "✅ 特征融合成功: torch.Size([2, 2240]) -> torch.Size([2, 256])\n"
     ]
    },
    {
     "name": "stderr",
     "output_type": "stream",
     "text": [
      "训练中:  87%|████████▋ | 605/699 [1:35:00<15:15,  9.74s/it, Loss=nan, Acc=0.5033]"
     ]
    },
    {
     "name": "stdout",
     "output_type": "stream",
     "text": [
      "🔍 融合特征维度: [2048, 128, 32, 32]\n",
      "✅ 特征融合成功: torch.Size([2, 2240]) -> torch.Size([2, 256])\n"
     ]
    },
    {
     "name": "stderr",
     "output_type": "stream",
     "text": [
      "训练中:  87%|████████▋ | 606/699 [1:35:08<13:57,  9.00s/it, Loss=nan, Acc=0.5033]"
     ]
    },
    {
     "name": "stdout",
     "output_type": "stream",
     "text": [
      "🔍 融合特征维度: [2048, 128, 32, 32]\n",
      "✅ 特征融合成功: torch.Size([2, 2240]) -> torch.Size([2, 256])\n"
     ]
    },
    {
     "name": "stderr",
     "output_type": "stream",
     "text": [
      "训练中:  87%|████████▋ | 607/699 [1:35:31<20:26, 13.33s/it, Loss=nan, Acc=0.5025]"
     ]
    },
    {
     "name": "stdout",
     "output_type": "stream",
     "text": [
      "🔍 融合特征维度: [2048, 128, 32, 32]\n",
      "✅ 特征融合成功: torch.Size([2, 2240]) -> torch.Size([2, 256])\n"
     ]
    },
    {
     "name": "stderr",
     "output_type": "stream",
     "text": [
      "训练中:  87%|████████▋ | 608/699 [1:35:38<17:33, 11.58s/it, Loss=nan, Acc=0.5033]"
     ]
    },
    {
     "name": "stdout",
     "output_type": "stream",
     "text": [
      "🔍 融合特征维度: [2048, 128, 32, 32]\n",
      "✅ 特征融合成功: torch.Size([2, 2240]) -> torch.Size([2, 256])\n"
     ]
    },
    {
     "name": "stderr",
     "output_type": "stream",
     "text": [
      "训练中:  87%|████████▋ | 609/699 [1:35:42<13:34,  9.05s/it, Loss=nan, Acc=0.5025]"
     ]
    },
    {
     "name": "stdout",
     "output_type": "stream",
     "text": [
      "🔍 融合特征维度: [2048, 128, 32, 32]\n",
      "✅ 特征融合成功: torch.Size([2, 2240]) -> torch.Size([2, 256])\n"
     ]
    },
    {
     "name": "stderr",
     "output_type": "stream",
     "text": [
      "训练中:  87%|████████▋ | 610/699 [1:35:53<14:17,  9.64s/it, Loss=nan, Acc=0.5025]"
     ]
    },
    {
     "name": "stdout",
     "output_type": "stream",
     "text": [
      "🔍 融合特征维度: [2048, 128, 32, 32]\n",
      "✅ 特征融合成功: torch.Size([2, 2240]) -> torch.Size([2, 256])\n"
     ]
    },
    {
     "name": "stderr",
     "output_type": "stream",
     "text": [
      "训练中:  87%|████████▋ | 611/699 [1:36:01<13:37,  9.29s/it, Loss=nan, Acc=0.5016]"
     ]
    },
    {
     "name": "stdout",
     "output_type": "stream",
     "text": [
      "🔍 融合特征维度: [2048, 128, 32, 32]\n",
      "✅ 特征融合成功: torch.Size([2, 2240]) -> torch.Size([2, 256])\n"
     ]
    },
    {
     "name": "stderr",
     "output_type": "stream",
     "text": [
      "训练中:  88%|████████▊ | 612/699 [1:36:05<11:15,  7.77s/it, Loss=nan, Acc=0.5016]"
     ]
    },
    {
     "name": "stdout",
     "output_type": "stream",
     "text": [
      "🔍 融合特征维度: [2048, 128, 32, 32]\n",
      "✅ 特征融合成功: torch.Size([2, 2240]) -> torch.Size([2, 256])\n"
     ]
    },
    {
     "name": "stderr",
     "output_type": "stream",
     "text": [
      "训练中:  88%|████████▊ | 613/699 [1:36:13<11:14,  7.84s/it, Loss=nan, Acc=0.5008]"
     ]
    },
    {
     "name": "stdout",
     "output_type": "stream",
     "text": [
      "🔍 融合特征维度: [2048, 128, 32, 32]\n",
      "✅ 特征融合成功: torch.Size([2, 2240]) -> torch.Size([2, 256])\n"
     ]
    },
    {
     "name": "stderr",
     "output_type": "stream",
     "text": [
      "训练中:  88%|████████▊ | 614/699 [1:36:21<11:14,  7.93s/it, Loss=nan, Acc=0.5008]"
     ]
    },
    {
     "name": "stdout",
     "output_type": "stream",
     "text": [
      "🔍 融合特征维度: [2048, 128, 32, 32]\n",
      "✅ 特征融合成功: torch.Size([2, 2240]) -> torch.Size([2, 256])\n"
     ]
    },
    {
     "name": "stderr",
     "output_type": "stream",
     "text": [
      "训练中:  88%|████████▊ | 615/699 [1:36:40<15:26, 11.03s/it, Loss=nan, Acc=0.5008]"
     ]
    },
    {
     "name": "stdout",
     "output_type": "stream",
     "text": [
      "🔍 融合特征维度: [2048, 128, 32, 32]\n",
      "✅ 特征融合成功: torch.Size([2, 2240]) -> torch.Size([2, 256])\n"
     ]
    },
    {
     "name": "stderr",
     "output_type": "stream",
     "text": [
      "训练中:  88%|████████▊ | 616/699 [1:36:53<15:59, 11.56s/it, Loss=nan, Acc=0.5016]"
     ]
    },
    {
     "name": "stdout",
     "output_type": "stream",
     "text": [
      "🔍 融合特征维度: [2048, 128, 32, 32]\n",
      "✅ 特征融合成功: torch.Size([2, 2240]) -> torch.Size([2, 256])\n"
     ]
    },
    {
     "name": "stderr",
     "output_type": "stream",
     "text": [
      "训练中:  88%|████████▊ | 617/699 [1:37:02<14:45, 10.80s/it, Loss=nan, Acc=0.5008]"
     ]
    },
    {
     "name": "stdout",
     "output_type": "stream",
     "text": [
      "🔍 融合特征维度: [2048, 128, 32, 32]\n",
      "✅ 特征融合成功: torch.Size([2, 2240]) -> torch.Size([2, 256])\n"
     ]
    },
    {
     "name": "stderr",
     "output_type": "stream",
     "text": [
      "训练中:  88%|████████▊ | 618/699 [1:37:10<13:32, 10.03s/it, Loss=nan, Acc=0.5008]"
     ]
    },
    {
     "name": "stdout",
     "output_type": "stream",
     "text": [
      "🔍 融合特征维度: [2048, 128, 32, 32]\n",
      "✅ 特征融合成功: torch.Size([2, 2240]) -> torch.Size([2, 256])\n"
     ]
    },
    {
     "name": "stderr",
     "output_type": "stream",
     "text": [
      "训练中:  89%|████████▊ | 619/699 [1:37:23<14:41, 11.02s/it, Loss=nan, Acc=0.5000]"
     ]
    },
    {
     "name": "stdout",
     "output_type": "stream",
     "text": [
      "🔍 融合特征维度: [2048, 128, 32, 32]\n",
      "✅ 特征融合成功: torch.Size([2, 2240]) -> torch.Size([2, 256])\n"
     ]
    },
    {
     "name": "stderr",
     "output_type": "stream",
     "text": [
      "训练中:  89%|████████▊ | 620/699 [1:37:29<12:31,  9.52s/it, Loss=nan, Acc=0.5000]"
     ]
    },
    {
     "name": "stdout",
     "output_type": "stream",
     "text": [
      "🔍 融合特征维度: [2048, 128, 32, 32]\n",
      "✅ 特征融合成功: torch.Size([2, 2240]) -> torch.Size([2, 256])\n"
     ]
    },
    {
     "name": "stderr",
     "output_type": "stream",
     "text": [
      "训练中:  89%|████████▉ | 621/699 [1:37:36<11:13,  8.63s/it, Loss=nan, Acc=0.5008]"
     ]
    },
    {
     "name": "stdout",
     "output_type": "stream",
     "text": [
      "🔍 融合特征维度: [2048, 128, 32, 32]\n",
      "✅ 特征融合成功: torch.Size([2, 2240]) -> torch.Size([2, 256])\n"
     ]
    },
    {
     "name": "stderr",
     "output_type": "stream",
     "text": [
      "训练中:  89%|████████▉ | 622/699 [1:37:43<10:42,  8.34s/it, Loss=nan, Acc=0.5000]"
     ]
    },
    {
     "name": "stdout",
     "output_type": "stream",
     "text": [
      "🔍 融合特征维度: [2048, 128, 32, 32]\n",
      "✅ 特征融合成功: torch.Size([2, 2240]) -> torch.Size([2, 256])\n"
     ]
    },
    {
     "name": "stderr",
     "output_type": "stream",
     "text": [
      "训练中:  89%|████████▉ | 623/699 [1:37:47<08:56,  7.06s/it, Loss=nan, Acc=0.5000]"
     ]
    },
    {
     "name": "stdout",
     "output_type": "stream",
     "text": [
      "🔍 融合特征维度: [2048, 128, 32, 32]\n",
      "✅ 特征融合成功: torch.Size([2, 2240]) -> torch.Size([2, 256])\n"
     ]
    },
    {
     "name": "stderr",
     "output_type": "stream",
     "text": [
      "训练中:  89%|████████▉ | 624/699 [1:37:52<07:55,  6.34s/it, Loss=nan, Acc=0.5000]"
     ]
    },
    {
     "name": "stdout",
     "output_type": "stream",
     "text": [
      "🔍 融合特征维度: [2048, 128, 32, 32]\n",
      "✅ 特征融合成功: torch.Size([2, 2240]) -> torch.Size([2, 256])\n"
     ]
    },
    {
     "name": "stderr",
     "output_type": "stream",
     "text": [
      "训练中:  89%|████████▉ | 625/699 [1:38:10<11:56,  9.68s/it, Loss=nan, Acc=0.5000]"
     ]
    },
    {
     "name": "stdout",
     "output_type": "stream",
     "text": [
      "🔍 融合特征维度: [2048, 128, 32, 32]\n",
      "✅ 特征融合成功: torch.Size([2, 2240]) -> torch.Size([2, 256])\n"
     ]
    },
    {
     "name": "stderr",
     "output_type": "stream",
     "text": [
      "训练中:  90%|████████▉ | 626/699 [1:38:16<10:45,  8.85s/it, Loss=nan, Acc=0.5000]"
     ]
    },
    {
     "name": "stdout",
     "output_type": "stream",
     "text": [
      "🔍 融合特征维度: [2048, 128, 32, 32]\n",
      "✅ 特征融合成功: torch.Size([2, 2240]) -> torch.Size([2, 256])\n"
     ]
    },
    {
     "name": "stderr",
     "output_type": "stream",
     "text": [
      "训练中:  90%|████████▉ | 627/699 [1:38:26<10:52,  9.06s/it, Loss=nan, Acc=0.4992]"
     ]
    },
    {
     "name": "stdout",
     "output_type": "stream",
     "text": [
      "🔍 融合特征维度: [2048, 128, 32, 32]\n",
      "✅ 特征融合成功: torch.Size([2, 2240]) -> torch.Size([2, 256])\n"
     ]
    },
    {
     "name": "stderr",
     "output_type": "stream",
     "text": [
      "训练中:  90%|████████▉ | 628/699 [1:38:44<13:49, 11.69s/it, Loss=nan, Acc=0.4992]"
     ]
    },
    {
     "name": "stdout",
     "output_type": "stream",
     "text": [
      "🔍 融合特征维度: [2048, 128, 32, 32]\n",
      "✅ 特征融合成功: torch.Size([2, 2240]) -> torch.Size([2, 256])\n"
     ]
    },
    {
     "name": "stderr",
     "output_type": "stream",
     "text": [
      "训练中:  90%|████████▉ | 629/699 [1:39:03<16:13, 13.90s/it, Loss=nan, Acc=0.4984]"
     ]
    },
    {
     "name": "stdout",
     "output_type": "stream",
     "text": [
      "🔍 融合特征维度: [2048, 128, 32, 32]\n",
      "✅ 特征融合成功: torch.Size([2, 2240]) -> torch.Size([2, 256])\n"
     ]
    },
    {
     "name": "stderr",
     "output_type": "stream",
     "text": [
      "训练中:  90%|█████████ | 630/699 [1:39:21<17:24, 15.14s/it, Loss=nan, Acc=0.4984]"
     ]
    },
    {
     "name": "stdout",
     "output_type": "stream",
     "text": [
      "🔍 融合特征维度: [2048, 128, 32, 32]\n",
      "✅ 特征融合成功: torch.Size([2, 2240]) -> torch.Size([2, 256])\n"
     ]
    },
    {
     "name": "stderr",
     "output_type": "stream",
     "text": [
      "训练中:  90%|█████████ | 631/699 [1:39:31<15:32, 13.71s/it, Loss=nan, Acc=0.4984]"
     ]
    },
    {
     "name": "stdout",
     "output_type": "stream",
     "text": [
      "🔍 融合特征维度: [2048, 128, 32, 32]\n",
      "✅ 特征融合成功: torch.Size([2, 2240]) -> torch.Size([2, 256])\n"
     ]
    },
    {
     "name": "stderr",
     "output_type": "stream",
     "text": [
      "训练中:  90%|█████████ | 632/699 [1:39:51<17:17, 15.48s/it, Loss=nan, Acc=0.4984]"
     ]
    },
    {
     "name": "stdout",
     "output_type": "stream",
     "text": [
      "🔍 融合特征维度: [2048, 128, 32, 32]\n",
      "✅ 特征融合成功: torch.Size([2, 2240]) -> torch.Size([2, 256])\n"
     ]
    },
    {
     "name": "stderr",
     "output_type": "stream",
     "text": [
      "训练中:  91%|█████████ | 633/699 [1:39:57<13:57, 12.68s/it, Loss=nan, Acc=0.4976]"
     ]
    },
    {
     "name": "stdout",
     "output_type": "stream",
     "text": [
      "🔍 融合特征维度: [2048, 128, 32, 32]\n",
      "✅ 特征融合成功: torch.Size([2, 2240]) -> torch.Size([2, 256])\n"
     ]
    },
    {
     "name": "stderr",
     "output_type": "stream",
     "text": [
      "训练中:  91%|█████████ | 634/699 [1:40:03<11:32, 10.65s/it, Loss=nan, Acc=0.4976]"
     ]
    },
    {
     "name": "stdout",
     "output_type": "stream",
     "text": [
      "🔍 融合特征维度: [2048, 128, 32, 32]\n",
      "✅ 特征融合成功: torch.Size([2, 2240]) -> torch.Size([2, 256])\n"
     ]
    },
    {
     "name": "stderr",
     "output_type": "stream",
     "text": [
      "训练中:  91%|█████████ | 635/699 [1:40:11<10:22,  9.72s/it, Loss=nan, Acc=0.4976]"
     ]
    },
    {
     "name": "stdout",
     "output_type": "stream",
     "text": [
      "🔍 融合特征维度: [2048, 128, 32, 32]\n",
      "✅ 特征融合成功: torch.Size([2, 2240]) -> torch.Size([2, 256])\n"
     ]
    },
    {
     "name": "stderr",
     "output_type": "stream",
     "text": [
      "训练中:  91%|█████████ | 636/699 [1:40:21<10:30, 10.00s/it, Loss=nan, Acc=0.4969]"
     ]
    },
    {
     "name": "stdout",
     "output_type": "stream",
     "text": [
      "🔍 融合特征维度: [2048, 128, 32, 32]\n",
      "✅ 特征融合成功: torch.Size([2, 2240]) -> torch.Size([2, 256])\n"
     ]
    },
    {
     "name": "stderr",
     "output_type": "stream",
     "text": [
      "训练中:  91%|█████████ | 637/699 [1:40:29<09:36,  9.30s/it, Loss=nan, Acc=0.4961]"
     ]
    },
    {
     "name": "stdout",
     "output_type": "stream",
     "text": [
      "🔍 融合特征维度: [2048, 128, 32, 32]\n",
      "✅ 特征融合成功: torch.Size([2, 2240]) -> torch.Size([2, 256])\n"
     ]
    },
    {
     "name": "stderr",
     "output_type": "stream",
     "text": [
      "训练中:  91%|█████████▏| 638/699 [1:40:35<08:34,  8.44s/it, Loss=nan, Acc=0.4961]"
     ]
    },
    {
     "name": "stdout",
     "output_type": "stream",
     "text": [
      "🔍 融合特征维度: [2048, 128, 32, 32]\n",
      "✅ 特征融合成功: torch.Size([2, 2240]) -> torch.Size([2, 256])\n"
     ]
    },
    {
     "name": "stderr",
     "output_type": "stream",
     "text": [
      "训练中:  91%|█████████▏| 639/699 [1:40:42<07:47,  7.78s/it, Loss=nan, Acc=0.4961]"
     ]
    },
    {
     "name": "stdout",
     "output_type": "stream",
     "text": [
      "🔍 融合特征维度: [2048, 128, 32, 32]\n",
      "✅ 特征融合成功: torch.Size([2, 2240]) -> torch.Size([2, 256])\n"
     ]
    },
    {
     "name": "stderr",
     "output_type": "stream",
     "text": [
      "训练中:  92%|█████████▏| 640/699 [1:40:54<08:57,  9.12s/it, Loss=nan, Acc=0.4961]"
     ]
    },
    {
     "name": "stdout",
     "output_type": "stream",
     "text": [
      "🔍 融合特征维度: [2048, 128, 32, 32]\n",
      "✅ 特征融合成功: torch.Size([2, 2240]) -> torch.Size([2, 256])\n"
     ]
    },
    {
     "name": "stderr",
     "output_type": "stream",
     "text": [
      "训练中:  92%|█████████▏| 641/699 [1:41:09<10:42, 11.08s/it, Loss=nan, Acc=0.4961]"
     ]
    },
    {
     "name": "stdout",
     "output_type": "stream",
     "text": [
      "🔍 融合特征维度: [2048, 128, 32, 32]\n",
      "✅ 特征融合成功: torch.Size([2, 2240]) -> torch.Size([2, 256])\n"
     ]
    },
    {
     "name": "stderr",
     "output_type": "stream",
     "text": [
      "训练中:  92%|█████████▏| 642/699 [1:41:17<09:24,  9.91s/it, Loss=nan, Acc=0.4953]"
     ]
    },
    {
     "name": "stdout",
     "output_type": "stream",
     "text": [
      "🔍 融合特征维度: [2048, 128, 32, 32]\n",
      "✅ 特征融合成功: torch.Size([2, 2240]) -> torch.Size([2, 256])\n"
     ]
    },
    {
     "name": "stderr",
     "output_type": "stream",
     "text": [
      "训练中:  92%|█████████▏| 643/699 [1:41:22<07:57,  8.53s/it, Loss=nan, Acc=0.4953]"
     ]
    },
    {
     "name": "stdout",
     "output_type": "stream",
     "text": [
      "🔍 融合特征维度: [2048, 128, 32, 32]\n",
      "✅ 特征融合成功: torch.Size([2, 2240]) -> torch.Size([2, 256])\n"
     ]
    },
    {
     "name": "stderr",
     "output_type": "stream",
     "text": [
      "训练中:  92%|█████████▏| 644/699 [1:41:27<06:44,  7.36s/it, Loss=nan, Acc=0.4953]"
     ]
    },
    {
     "name": "stdout",
     "output_type": "stream",
     "text": [
      "🔍 融合特征维度: [2048, 128, 32, 32]\n",
      "✅ 特征融合成功: torch.Size([2, 2240]) -> torch.Size([2, 256])\n"
     ]
    },
    {
     "name": "stderr",
     "output_type": "stream",
     "text": [
      "训练中:  92%|█████████▏| 645/699 [1:41:38<07:38,  8.49s/it, Loss=nan, Acc=0.4961]"
     ]
    },
    {
     "name": "stdout",
     "output_type": "stream",
     "text": [
      "🔍 融合特征维度: [2048, 128, 32, 32]\n",
      "✅ 特征融合成功: torch.Size([2, 2240]) -> torch.Size([2, 256])\n"
     ]
    },
    {
     "name": "stderr",
     "output_type": "stream",
     "text": [
      "训练中:  92%|█████████▏| 646/699 [1:41:44<06:54,  7.82s/it, Loss=nan, Acc=0.4961]"
     ]
    },
    {
     "name": "stdout",
     "output_type": "stream",
     "text": [
      "🔍 融合特征维度: [2048, 128, 32, 32]\n",
      "✅ 特征融合成功: torch.Size([2, 2240]) -> torch.Size([2, 256])\n"
     ]
    },
    {
     "name": "stderr",
     "output_type": "stream",
     "text": [
      "训练中:  93%|█████████▎| 647/699 [1:41:51<06:28,  7.48s/it, Loss=nan, Acc=0.4969]"
     ]
    },
    {
     "name": "stdout",
     "output_type": "stream",
     "text": [
      "🔍 融合特征维度: [2048, 128, 32, 32]\n",
      "✅ 特征融合成功: torch.Size([2, 2240]) -> torch.Size([2, 256])\n"
     ]
    },
    {
     "name": "stderr",
     "output_type": "stream",
     "text": [
      "训练中:  93%|█████████▎| 648/699 [1:42:07<08:33, 10.06s/it, Loss=nan, Acc=0.4977]"
     ]
    },
    {
     "name": "stdout",
     "output_type": "stream",
     "text": [
      "🔍 融合特征维度: [2048, 128, 32, 32]\n",
      "✅ 特征融合成功: torch.Size([2, 2240]) -> torch.Size([2, 256])\n"
     ]
    },
    {
     "name": "stderr",
     "output_type": "stream",
     "text": [
      "训练中:  93%|█████████▎| 649/699 [1:42:18<08:42, 10.45s/it, Loss=nan, Acc=0.4977]"
     ]
    },
    {
     "name": "stdout",
     "output_type": "stream",
     "text": [
      "🔍 融合特征维度: [2048, 128, 32, 32]\n",
      "✅ 特征融合成功: torch.Size([2, 2240]) -> torch.Size([2, 256])\n"
     ]
    },
    {
     "name": "stderr",
     "output_type": "stream",
     "text": [
      "训练中:  93%|█████████▎| 650/699 [1:42:22<06:58,  8.55s/it, Loss=nan, Acc=0.4969]"
     ]
    },
    {
     "name": "stdout",
     "output_type": "stream",
     "text": [
      "🔍 融合特征维度: [2048, 128, 32, 32]\n",
      "✅ 特征融合成功: torch.Size([2, 2240]) -> torch.Size([2, 256])\n"
     ]
    },
    {
     "name": "stderr",
     "output_type": "stream",
     "text": [
      "训练中:  93%|█████████▎| 651/699 [1:42:35<07:56,  9.92s/it, Loss=nan, Acc=0.4977]"
     ]
    },
    {
     "name": "stdout",
     "output_type": "stream",
     "text": [
      "🔍 融合特征维度: [2048, 128, 32, 32]\n",
      "✅ 特征融合成功: torch.Size([2, 2240]) -> torch.Size([2, 256])\n"
     ]
    },
    {
     "name": "stderr",
     "output_type": "stream",
     "text": [
      "训练中:  93%|█████████▎| 652/699 [1:42:42<07:03,  9.01s/it, Loss=nan, Acc=0.4969]"
     ]
    },
    {
     "name": "stdout",
     "output_type": "stream",
     "text": [
      "🔍 融合特征维度: [2048, 128, 32, 32]\n",
      "✅ 特征融合成功: torch.Size([2, 2240]) -> torch.Size([2, 256])\n"
     ]
    },
    {
     "name": "stderr",
     "output_type": "stream",
     "text": [
      "训练中:  93%|█████████▎| 653/699 [1:42:58<08:30, 11.10s/it, Loss=nan, Acc=0.4977]"
     ]
    },
    {
     "name": "stdout",
     "output_type": "stream",
     "text": [
      "🔍 融合特征维度: [2048, 128, 32, 32]\n",
      "✅ 特征融合成功: torch.Size([2, 2240]) -> torch.Size([2, 256])\n"
     ]
    },
    {
     "name": "stderr",
     "output_type": "stream",
     "text": [
      "训练中:  94%|█████████▎| 654/699 [1:43:01<06:28,  8.63s/it, Loss=nan, Acc=0.4977]"
     ]
    },
    {
     "name": "stdout",
     "output_type": "stream",
     "text": [
      "🔍 融合特征维度: [2048, 128, 32, 32]\n",
      "✅ 特征融合成功: torch.Size([2, 2240]) -> torch.Size([2, 256])\n"
     ]
    },
    {
     "name": "stderr",
     "output_type": "stream",
     "text": [
      "训练中:  94%|█████████▎| 655/699 [1:43:05<05:22,  7.32s/it, Loss=nan, Acc=0.4985]"
     ]
    },
    {
     "name": "stdout",
     "output_type": "stream",
     "text": [
      "🔍 融合特征维度: [2048, 128, 32, 32]\n",
      "✅ 特征融合成功: torch.Size([2, 2240]) -> torch.Size([2, 256])\n"
     ]
    },
    {
     "name": "stderr",
     "output_type": "stream",
     "text": [
      "训练中:  94%|█████████▍| 656/699 [1:43:10<04:38,  6.48s/it, Loss=nan, Acc=0.4977]"
     ]
    },
    {
     "name": "stdout",
     "output_type": "stream",
     "text": [
      "🔍 融合特征维度: [2048, 128, 32, 32]\n",
      "✅ 特征融合成功: torch.Size([2, 2240]) -> torch.Size([2, 256])\n"
     ]
    },
    {
     "name": "stderr",
     "output_type": "stream",
     "text": [
      "训练中:  94%|█████████▍| 657/699 [1:43:25<06:25,  9.18s/it, Loss=nan, Acc=0.4970]"
     ]
    },
    {
     "name": "stdout",
     "output_type": "stream",
     "text": [
      "🔍 融合特征维度: [2048, 128, 32, 32]\n",
      "✅ 特征融合成功: torch.Size([2, 2240]) -> torch.Size([2, 256])\n"
     ]
    },
    {
     "name": "stderr",
     "output_type": "stream",
     "text": [
      "训练中:  94%|█████████▍| 658/699 [1:43:45<08:22, 12.25s/it, Loss=nan, Acc=0.4970]"
     ]
    },
    {
     "name": "stdout",
     "output_type": "stream",
     "text": [
      "🔍 融合特征维度: [2048, 128, 32, 32]\n",
      "✅ 特征融合成功: torch.Size([2, 2240]) -> torch.Size([2, 256])\n"
     ]
    },
    {
     "name": "stderr",
     "output_type": "stream",
     "text": [
      "训练中:  94%|█████████▍| 659/699 [1:43:58<08:20, 12.50s/it, Loss=nan, Acc=0.4970]"
     ]
    },
    {
     "name": "stdout",
     "output_type": "stream",
     "text": [
      "🔍 融合特征维度: [2048, 128, 32, 32]\n",
      "✅ 特征融合成功: torch.Size([2, 2240]) -> torch.Size([2, 256])\n"
     ]
    },
    {
     "name": "stderr",
     "output_type": "stream",
     "text": [
      "训练中:  94%|█████████▍| 660/699 [1:44:16<09:16, 14.26s/it, Loss=nan, Acc=0.4962]"
     ]
    },
    {
     "name": "stdout",
     "output_type": "stream",
     "text": [
      "🔍 融合特征维度: [2048, 128, 32, 32]\n",
      "✅ 特征融合成功: torch.Size([2, 2240]) -> torch.Size([2, 256])\n"
     ]
    },
    {
     "name": "stderr",
     "output_type": "stream",
     "text": [
      "训练中:  95%|█████████▍| 661/699 [1:44:22<07:25, 11.72s/it, Loss=nan, Acc=0.4962]"
     ]
    },
    {
     "name": "stdout",
     "output_type": "stream",
     "text": [
      "🔍 融合特征维度: [2048, 128, 32, 32]\n",
      "✅ 特征融合成功: torch.Size([2, 2240]) -> torch.Size([2, 256])\n"
     ]
    },
    {
     "name": "stderr",
     "output_type": "stream",
     "text": [
      "训练中:  95%|█████████▍| 662/699 [1:44:27<06:04,  9.85s/it, Loss=nan, Acc=0.4955]"
     ]
    },
    {
     "name": "stdout",
     "output_type": "stream",
     "text": [
      "🔍 融合特征维度: [2048, 128, 32, 32]\n",
      "✅ 特征融合成功: torch.Size([2, 2240]) -> torch.Size([2, 256])\n"
     ]
    },
    {
     "name": "stderr",
     "output_type": "stream",
     "text": [
      "训练中:  95%|█████████▍| 663/699 [1:44:33<05:08,  8.56s/it, Loss=nan, Acc=0.4955]"
     ]
    },
    {
     "name": "stdout",
     "output_type": "stream",
     "text": [
      "🔍 融合特征维度: [2048, 128, 32, 32]\n",
      "✅ 特征融合成功: torch.Size([2, 2240]) -> torch.Size([2, 256])\n"
     ]
    },
    {
     "name": "stderr",
     "output_type": "stream",
     "text": [
      "训练中:  95%|█████████▍| 664/699 [1:44:45<05:31,  9.48s/it, Loss=nan, Acc=0.4947]"
     ]
    },
    {
     "name": "stdout",
     "output_type": "stream",
     "text": [
      "🔍 融合特征维度: [2048, 128, 32, 32]\n",
      "✅ 特征融合成功: torch.Size([2, 2240]) -> torch.Size([2, 256])\n"
     ]
    },
    {
     "name": "stderr",
     "output_type": "stream",
     "text": [
      "训练中:  95%|█████████▌| 665/699 [1:44:58<06:05, 10.75s/it, Loss=nan, Acc=0.4955]"
     ]
    },
    {
     "name": "stdout",
     "output_type": "stream",
     "text": [
      "🔍 融合特征维度: [2048, 128, 32, 32]\n",
      "✅ 特征融合成功: torch.Size([2, 2240]) -> torch.Size([2, 256])\n"
     ]
    },
    {
     "name": "stderr",
     "output_type": "stream",
     "text": [
      "训练中:  95%|█████████▌| 666/699 [1:45:05<05:13,  9.51s/it, Loss=nan, Acc=0.4962]"
     ]
    },
    {
     "name": "stdout",
     "output_type": "stream",
     "text": [
      "🔍 融合特征维度: [2048, 128, 32, 32]\n",
      "✅ 特征融合成功: torch.Size([2, 2240]) -> torch.Size([2, 256])\n"
     ]
    },
    {
     "name": "stderr",
     "output_type": "stream",
     "text": [
      "训练中:  95%|█████████▌| 667/699 [1:45:15<05:12,  9.77s/it, Loss=nan, Acc=0.4955]"
     ]
    },
    {
     "name": "stdout",
     "output_type": "stream",
     "text": [
      "🔍 融合特征维度: [2048, 128, 32, 32]\n",
      "✅ 特征融合成功: torch.Size([2, 2240]) -> torch.Size([2, 256])\n"
     ]
    },
    {
     "name": "stderr",
     "output_type": "stream",
     "text": [
      "训练中:  96%|█████████▌| 668/699 [1:45:20<04:18,  8.34s/it, Loss=nan, Acc=0.4948]"
     ]
    },
    {
     "name": "stdout",
     "output_type": "stream",
     "text": [
      "🔍 融合特征维度: [2048, 128, 32, 32]\n",
      "✅ 特征融合成功: torch.Size([2, 2240]) -> torch.Size([2, 256])\n"
     ]
    },
    {
     "name": "stderr",
     "output_type": "stream",
     "text": [
      "训练中:  96%|█████████▌| 669/699 [1:45:30<04:20,  8.68s/it, Loss=nan, Acc=0.4948]"
     ]
    },
    {
     "name": "stdout",
     "output_type": "stream",
     "text": [
      "🔍 融合特征维度: [2048, 128, 32, 32]\n",
      "✅ 特征融合成功: torch.Size([2, 2240]) -> torch.Size([2, 256])\n"
     ]
    },
    {
     "name": "stderr",
     "output_type": "stream",
     "text": [
      "训练中:  96%|█████████▌| 670/699 [1:45:37<04:00,  8.31s/it, Loss=nan, Acc=0.4948]"
     ]
    },
    {
     "name": "stdout",
     "output_type": "stream",
     "text": [
      "🔍 融合特征维度: [2048, 128, 32, 32]\n",
      "✅ 特征融合成功: torch.Size([2, 2240]) -> torch.Size([2, 256])\n"
     ]
    },
    {
     "name": "stderr",
     "output_type": "stream",
     "text": [
      "训练中:  96%|█████████▌| 671/699 [1:45:59<05:47, 12.42s/it, Loss=nan, Acc=0.4940]"
     ]
    },
    {
     "name": "stdout",
     "output_type": "stream",
     "text": [
      "🔍 融合特征维度: [2048, 128, 32, 32]\n",
      "✅ 特征融合成功: torch.Size([2, 2240]) -> torch.Size([2, 256])\n"
     ]
    },
    {
     "name": "stderr",
     "output_type": "stream",
     "text": [
      "训练中:  96%|█████████▌| 672/699 [1:46:22<06:55, 15.39s/it, Loss=nan, Acc=0.4940]"
     ]
    },
    {
     "name": "stdout",
     "output_type": "stream",
     "text": [
      "🔍 融合特征维度: [2048, 128, 32, 32]\n",
      "✅ 特征融合成功: torch.Size([2, 2240]) -> torch.Size([2, 256])\n"
     ]
    },
    {
     "name": "stderr",
     "output_type": "stream",
     "text": [
      "训练中:  96%|█████████▋| 673/699 [1:46:26<05:11, 11.97s/it, Loss=nan, Acc=0.4941]"
     ]
    },
    {
     "name": "stdout",
     "output_type": "stream",
     "text": [
      "🔍 融合特征维度: [2048, 128, 32, 32]\n",
      "✅ 特征融合成功: torch.Size([2, 2240]) -> torch.Size([2, 256])\n"
     ]
    },
    {
     "name": "stderr",
     "output_type": "stream",
     "text": [
      "训练中:  96%|█████████▋| 674/699 [1:46:45<05:54, 14.18s/it, Loss=nan, Acc=0.4941]"
     ]
    },
    {
     "name": "stdout",
     "output_type": "stream",
     "text": [
      "🔍 融合特征维度: [2048, 128, 32, 32]\n",
      "✅ 特征融合成功: torch.Size([2, 2240]) -> torch.Size([2, 256])\n"
     ]
    },
    {
     "name": "stderr",
     "output_type": "stream",
     "text": [
      "训练中:  97%|█████████▋| 675/699 [1:46:59<05:39, 14.14s/it, Loss=nan, Acc=0.4941]"
     ]
    },
    {
     "name": "stdout",
     "output_type": "stream",
     "text": [
      "🔍 融合特征维度: [2048, 128, 32, 32]\n",
      "✅ 特征融合成功: torch.Size([2, 2240]) -> torch.Size([2, 256])\n"
     ]
    },
    {
     "name": "stderr",
     "output_type": "stream",
     "text": [
      "训练中:  97%|█████████▋| 676/699 [1:47:07<04:44, 12.38s/it, Loss=nan, Acc=0.4941]"
     ]
    },
    {
     "name": "stdout",
     "output_type": "stream",
     "text": [
      "🔍 融合特征维度: [2048, 128, 32, 32]\n",
      "✅ 特征融合成功: torch.Size([2, 2240]) -> torch.Size([2, 256])\n"
     ]
    },
    {
     "name": "stderr",
     "output_type": "stream",
     "text": [
      "训练中:  97%|█████████▋| 677/699 [1:47:16<04:10, 11.41s/it, Loss=nan, Acc=0.4948]"
     ]
    },
    {
     "name": "stdout",
     "output_type": "stream",
     "text": [
      "🔍 融合特征维度: [2048, 128, 32, 32]\n",
      "✅ 特征融合成功: torch.Size([2, 2240]) -> torch.Size([2, 256])\n"
     ]
    },
    {
     "name": "stderr",
     "output_type": "stream",
     "text": [
      "训练中:  97%|█████████▋| 678/699 [1:47:28<04:01, 11.52s/it, Loss=nan, Acc=0.4941]"
     ]
    },
    {
     "name": "stdout",
     "output_type": "stream",
     "text": [
      "🔍 融合特征维度: [2048, 128, 32, 32]\n",
      "✅ 特征融合成功: torch.Size([2, 2240]) -> torch.Size([2, 256])\n"
     ]
    },
    {
     "name": "stderr",
     "output_type": "stream",
     "text": [
      "训练中:  97%|█████████▋| 679/699 [1:47:40<03:51, 11.55s/it, Loss=nan, Acc=0.4948]"
     ]
    },
    {
     "name": "stdout",
     "output_type": "stream",
     "text": [
      "🔍 融合特征维度: [2048, 128, 32, 32]\n",
      "✅ 特征融合成功: torch.Size([2, 2240]) -> torch.Size([2, 256])\n"
     ]
    },
    {
     "name": "stderr",
     "output_type": "stream",
     "text": [
      "训练中:  97%|█████████▋| 680/699 [1:47:47<03:12, 10.12s/it, Loss=nan, Acc=0.4956]"
     ]
    },
    {
     "name": "stdout",
     "output_type": "stream",
     "text": [
      "🔍 融合特征维度: [2048, 128, 32, 32]\n",
      "✅ 特征融合成功: torch.Size([2, 2240]) -> torch.Size([2, 256])\n"
     ]
    },
    {
     "name": "stderr",
     "output_type": "stream",
     "text": [
      "训练中:  97%|█████████▋| 681/699 [1:47:55<02:54,  9.70s/it, Loss=nan, Acc=0.4963]"
     ]
    },
    {
     "name": "stdout",
     "output_type": "stream",
     "text": [
      "🔍 融合特征维度: [2048, 128, 32, 32]\n",
      "✅ 特征融合成功: torch.Size([2, 2240]) -> torch.Size([2, 256])\n"
     ]
    },
    {
     "name": "stderr",
     "output_type": "stream",
     "text": [
      "训练中:  98%|█████████▊| 682/699 [1:48:00<02:17,  8.08s/it, Loss=nan, Acc=0.4963]"
     ]
    },
    {
     "name": "stdout",
     "output_type": "stream",
     "text": [
      "🔍 融合特征维度: [2048, 128, 32, 32]\n",
      "✅ 特征融合成功: torch.Size([2, 2240]) -> torch.Size([2, 256])\n"
     ]
    },
    {
     "name": "stderr",
     "output_type": "stream",
     "text": [
      "训练中:  98%|█████████▊| 683/699 [1:48:17<02:55, 10.99s/it, Loss=nan, Acc=0.4971]"
     ]
    },
    {
     "name": "stdout",
     "output_type": "stream",
     "text": [
      "🔍 融合特征维度: [2048, 128, 32, 32]\n",
      "✅ 特征融合成功: torch.Size([2, 2240]) -> torch.Size([2, 256])\n"
     ]
    },
    {
     "name": "stderr",
     "output_type": "stream",
     "text": [
      "训练中:  98%|█████████▊| 684/699 [1:48:28<02:44, 10.96s/it, Loss=nan, Acc=0.4971]"
     ]
    },
    {
     "name": "stdout",
     "output_type": "stream",
     "text": [
      "🔍 融合特征维度: [2048, 128, 32, 32]\n",
      "✅ 特征融合成功: torch.Size([2, 2240]) -> torch.Size([2, 256])\n"
     ]
    },
    {
     "name": "stderr",
     "output_type": "stream",
     "text": [
      "训练中:  98%|█████████▊| 685/699 [1:48:39<02:32, 10.92s/it, Loss=nan, Acc=0.4978]"
     ]
    },
    {
     "name": "stdout",
     "output_type": "stream",
     "text": [
      "🔍 融合特征维度: [2048, 128, 32, 32]\n",
      "✅ 特征融合成功: torch.Size([2, 2240]) -> torch.Size([2, 256])\n"
     ]
    },
    {
     "name": "stderr",
     "output_type": "stream",
     "text": [
      "训练中:  98%|█████████▊| 686/699 [1:48:44<01:59,  9.20s/it, Loss=nan, Acc=0.4985]"
     ]
    },
    {
     "name": "stdout",
     "output_type": "stream",
     "text": [
      "🔍 融合特征维度: [2048, 128, 32, 32]\n",
      "✅ 特征融合成功: torch.Size([2, 2240]) -> torch.Size([2, 256])\n"
     ]
    },
    {
     "name": "stderr",
     "output_type": "stream",
     "text": [
      "训练中:  98%|█████████▊| 687/699 [1:49:00<02:14, 11.20s/it, Loss=nan, Acc=0.4985]"
     ]
    },
    {
     "name": "stdout",
     "output_type": "stream",
     "text": [
      "🔍 融合特征维度: [2048, 128, 32, 32]\n",
      "✅ 特征融合成功: torch.Size([2, 2240]) -> torch.Size([2, 256])\n"
     ]
    },
    {
     "name": "stderr",
     "output_type": "stream",
     "text": [
      "训练中:  98%|█████████▊| 688/699 [1:49:07<01:47,  9.81s/it, Loss=nan, Acc=0.4985]"
     ]
    },
    {
     "name": "stdout",
     "output_type": "stream",
     "text": [
      "🔍 融合特征维度: [2048, 128, 32, 32]\n",
      "✅ 特征融合成功: torch.Size([2, 2240]) -> torch.Size([2, 256])\n"
     ]
    },
    {
     "name": "stderr",
     "output_type": "stream",
     "text": [
      "训练中:  99%|█████████▊| 689/699 [1:49:14<01:31,  9.16s/it, Loss=nan, Acc=0.4978]"
     ]
    },
    {
     "name": "stdout",
     "output_type": "stream",
     "text": [
      "🔍 融合特征维度: [2048, 128, 32, 32]\n",
      "✅ 特征融合成功: torch.Size([2, 2240]) -> torch.Size([2, 256])\n"
     ]
    },
    {
     "name": "stderr",
     "output_type": "stream",
     "text": [
      "训练中:  99%|█████████▊| 690/699 [1:49:23<01:22,  9.16s/it, Loss=nan, Acc=0.4978]"
     ]
    },
    {
     "name": "stdout",
     "output_type": "stream",
     "text": [
      "🔍 融合特征维度: [2048, 128, 32, 32]\n",
      "✅ 特征融合成功: torch.Size([2, 2240]) -> torch.Size([2, 256])\n"
     ]
    },
    {
     "name": "stderr",
     "output_type": "stream",
     "text": [
      "训练中:  99%|█████████▉| 691/699 [1:49:32<01:12,  9.02s/it, Loss=nan, Acc=0.4978]"
     ]
    },
    {
     "name": "stdout",
     "output_type": "stream",
     "text": [
      "🔍 融合特征维度: [2048, 128, 32, 32]\n",
      "✅ 特征融合成功: torch.Size([2, 2240]) -> torch.Size([2, 256])\n"
     ]
    },
    {
     "name": "stderr",
     "output_type": "stream",
     "text": [
      "训练中:  99%|█████████▉| 692/699 [1:49:43<01:07,  9.65s/it, Loss=nan, Acc=0.4978]"
     ]
    },
    {
     "name": "stdout",
     "output_type": "stream",
     "text": [
      "🔍 融合特征维度: [2048, 128, 32, 32]\n",
      "✅ 特征融合成功: torch.Size([2, 2240]) -> torch.Size([2, 256])\n"
     ]
    },
    {
     "name": "stderr",
     "output_type": "stream",
     "text": [
      "训练中:  99%|█████████▉| 693/699 [1:50:01<01:12, 12.04s/it, Loss=nan, Acc=0.4986]"
     ]
    },
    {
     "name": "stdout",
     "output_type": "stream",
     "text": [
      "🔍 融合特征维度: [2048, 128, 32, 32]\n",
      "✅ 特征融合成功: torch.Size([2, 2240]) -> torch.Size([2, 256])\n"
     ]
    },
    {
     "name": "stderr",
     "output_type": "stream",
     "text": [
      "训练中:  99%|█████████▉| 694/699 [1:50:10<00:55, 11.16s/it, Loss=nan, Acc=0.4993]"
     ]
    },
    {
     "name": "stdout",
     "output_type": "stream",
     "text": [
      "🔍 融合特征维度: [2048, 128, 32, 32]\n",
      "✅ 特征融合成功: torch.Size([2, 2240]) -> torch.Size([2, 256])\n"
     ]
    },
    {
     "name": "stderr",
     "output_type": "stream",
     "text": [
      "训练中:  99%|█████████▉| 695/699 [1:50:20<00:42, 10.68s/it, Loss=nan, Acc=0.4993]"
     ]
    },
    {
     "name": "stdout",
     "output_type": "stream",
     "text": [
      "🔍 融合特征维度: [2048, 128, 32, 32]\n",
      "✅ 特征融合成功: torch.Size([2, 2240]) -> torch.Size([2, 256])\n"
     ]
    },
    {
     "name": "stderr",
     "output_type": "stream",
     "text": [
      "训练中: 100%|█████████▉| 696/699 [1:50:31<00:32, 10.88s/it, Loss=nan, Acc=0.4993]"
     ]
    },
    {
     "name": "stdout",
     "output_type": "stream",
     "text": [
      "🔍 融合特征维度: [2048, 128, 32, 32]\n",
      "✅ 特征融合成功: torch.Size([2, 2240]) -> torch.Size([2, 256])\n"
     ]
    },
    {
     "name": "stderr",
     "output_type": "stream",
     "text": [
      "训练中: 100%|█████████▉| 697/699 [1:50:36<00:18,  9.07s/it, Loss=nan, Acc=0.5000]"
     ]
    },
    {
     "name": "stdout",
     "output_type": "stream",
     "text": [
      "🔍 融合特征维度: [2048, 128, 32, 32]\n",
      "✅ 特征融合成功: torch.Size([2, 2240]) -> torch.Size([2, 256])\n"
     ]
    },
    {
     "name": "stderr",
     "output_type": "stream",
     "text": [
      "训练中: 100%|█████████▉| 698/699 [1:50:46<00:09,  9.29s/it, Loss=nan, Acc=0.5000]"
     ]
    },
    {
     "name": "stdout",
     "output_type": "stream",
     "text": [
      "🔍 融合特征维度: [2048, 128, 32, 32]\n",
      "✅ 特征融合成功: torch.Size([2, 2240]) -> torch.Size([2, 256])\n"
     ]
    },
    {
     "name": "stderr",
     "output_type": "stream",
     "text": [
      "                                                                                 \r"
     ]
    },
    {
     "name": "stdout",
     "output_type": "stream",
     "text": [
      "🔍 融合特征维度: [2048, 128, 32, 32]\n",
      "✅ 特征融合成功: torch.Size([2, 2240]) -> torch.Size([2, 256])\n"
     ]
    },
    {
     "name": "stderr",
     "output_type": "stream",
     "text": [
      "验证中:   1%|          | 1/100 [00:13<22:05, 13.39s/it, Val Loss=186312.1406, Val Acc=0.5000]"
     ]
    },
    {
     "name": "stdout",
     "output_type": "stream",
     "text": [
      "🔍 融合特征维度: [2048, 128, 32, 32]\n",
      "✅ 特征融合成功: torch.Size([2, 2240]) -> torch.Size([2, 256])\n"
     ]
    },
    {
     "name": "stderr",
     "output_type": "stream",
     "text": [
      "验证中:   2%|▏         | 2/100 [00:24<19:12, 11.76s/it, Val Loss=93156.0703, Val Acc=0.7500]"
     ]
    },
    {
     "name": "stdout",
     "output_type": "stream",
     "text": [
      "🔍 融合特征维度: [2048, 128, 32, 32]\n",
      "✅ 特征融合成功: torch.Size([2, 2240]) -> torch.Size([2, 256])\n"
     ]
    },
    {
     "name": "stderr",
     "output_type": "stream",
     "text": [
      "验证中:   3%|▎         | 3/100 [00:28<13:39,  8.44s/it, Val Loss=209242.9010, Val Acc=0.6667]"
     ]
    },
    {
     "name": "stdout",
     "output_type": "stream",
     "text": [
      "🔍 融合特征维度: [2048, 128, 32, 32]\n",
      "✅ 特征融合成功: torch.Size([2, 2240]) -> torch.Size([2, 256])\n"
     ]
    },
    {
     "name": "stderr",
     "output_type": "stream",
     "text": [
      "验证中:   4%|▍         | 4/100 [00:44<18:12, 11.38s/it, Val Loss=156932.1758, Val Acc=0.7500]"
     ]
    },
    {
     "name": "stdout",
     "output_type": "stream",
     "text": [
      "🔍 融合特征维度: [2048, 128, 32, 32]\n",
      "✅ 特征融合成功: torch.Size([2, 2240]) -> torch.Size([2, 256])\n"
     ]
    },
    {
     "name": "stderr",
     "output_type": "stream",
     "text": [
      "验证中:   5%|▌         | 5/100 [00:54<17:23, 10.98s/it, Val Loss=125545.7406, Val Acc=0.8000]"
     ]
    },
    {
     "name": "stdout",
     "output_type": "stream",
     "text": [
      "🔍 融合特征维度: [2048, 128, 32, 32]\n",
      "✅ 特征融合成功: torch.Size([2, 2240]) -> torch.Size([2, 256])\n"
     ]
    },
    {
     "name": "stderr",
     "output_type": "stream",
     "text": [
      "验证中:   6%|▌         | 6/100 [00:58<13:28,  8.61s/it, Val Loss=221190.7734, Val Acc=0.6667]"
     ]
    },
    {
     "name": "stdout",
     "output_type": "stream",
     "text": [
      "🔍 融合特征维度: [2048, 128, 32, 32]\n",
      "✅ 特征融合成功: torch.Size([2, 2240]) -> torch.Size([2, 256])\n"
     ]
    },
    {
     "name": "stderr",
     "output_type": "stream",
     "text": [
      "验证中:   7%|▋         | 7/100 [01:13<16:44, 10.80s/it, Val Loss=189592.0915, Val Acc=0.7143]"
     ]
    },
    {
     "name": "stdout",
     "output_type": "stream",
     "text": [
      "🔍 融合特征维度: [2048, 128, 32, 32]\n",
      "✅ 特征融合成功: torch.Size([2, 2240]) -> torch.Size([2, 256])\n"
     ]
    },
    {
     "name": "stderr",
     "output_type": "stream",
     "text": [
      "验证中:   8%|▊         | 8/100 [01:18<13:26,  8.77s/it, Val Loss=227793.4395, Val Acc=0.6875]"
     ]
    },
    {
     "name": "stdout",
     "output_type": "stream",
     "text": [
      "🔍 融合特征维度: [2048, 128, 32, 32]\n",
      "✅ 特征融合成功: torch.Size([2, 2240]) -> torch.Size([2, 256])\n"
     ]
    },
    {
     "name": "stderr",
     "output_type": "stream",
     "text": [
      "验证中:   9%|▉         | 9/100 [01:22<11:02,  7.28s/it, Val Loss=282191.4878, Val Acc=0.6667]"
     ]
    },
    {
     "name": "stdout",
     "output_type": "stream",
     "text": [
      "🔍 融合特征维度: [2048, 128, 32, 32]\n",
      "✅ 特征融合成功: torch.Size([2, 2240]) -> torch.Size([2, 256])\n"
     ]
    },
    {
     "name": "stderr",
     "output_type": "stream",
     "text": [
      "验证中:  10%|█         | 10/100 [01:26<09:28,  6.32s/it, Val Loss=318326.6766, Val Acc=0.6500]"
     ]
    },
    {
     "name": "stdout",
     "output_type": "stream",
     "text": [
      "🔍 融合特征维度: [2048, 128, 32, 32]\n",
      "✅ 特征融合成功: torch.Size([2, 2240]) -> torch.Size([2, 256])\n"
     ]
    },
    {
     "name": "stderr",
     "output_type": "stream",
     "text": [
      "验证中:  11%|█         | 11/100 [01:33<09:43,  6.56s/it, Val Loss=350738.5014, Val Acc=0.5909]"
     ]
    },
    {
     "name": "stdout",
     "output_type": "stream",
     "text": [
      "🔍 融合特征维度: [2048, 128, 32, 32]\n",
      "✅ 特征融合成功: torch.Size([2, 2240]) -> torch.Size([2, 256])\n"
     ]
    },
    {
     "name": "stderr",
     "output_type": "stream",
     "text": [
      "验证中:  12%|█▏        | 12/100 [01:44<11:35,  7.91s/it, Val Loss=321510.2930, Val Acc=0.6250]"
     ]
    },
    {
     "name": "stdout",
     "output_type": "stream",
     "text": [
      "🔍 融合特征维度: [2048, 128, 32, 32]\n",
      "✅ 特征融合成功: torch.Size([2, 2240]) -> torch.Size([2, 256])\n"
     ]
    },
    {
     "name": "stderr",
     "output_type": "stream",
     "text": [
      "验证中:  13%|█▎        | 13/100 [02:00<15:04, 10.40s/it, Val Loss=296778.7320, Val Acc=0.6538]"
     ]
    },
    {
     "name": "stdout",
     "output_type": "stream",
     "text": [
      "🔍 融合特征维度: [2048, 128, 32, 32]\n",
      "✅ 特征融合成功: torch.Size([2, 2240]) -> torch.Size([2, 256])\n"
     ]
    },
    {
     "name": "stderr",
     "output_type": "stream",
     "text": [
      "验证中:  14%|█▍        | 14/100 [02:10<14:37, 10.20s/it, Val Loss=297464.7757, Val Acc=0.6429]"
     ]
    },
    {
     "name": "stdout",
     "output_type": "stream",
     "text": [
      "🔍 融合特征维度: [2048, 128, 32, 32]\n",
      "✅ 特征融合成功: torch.Size([2, 2240]) -> torch.Size([2, 256])\n"
     ]
    },
    {
     "name": "stderr",
     "output_type": "stream",
     "text": [
      "验证中:  15%|█▌        | 15/100 [02:16<12:41,  8.95s/it, Val Loss=311392.1719, Val Acc=0.6333]"
     ]
    },
    {
     "name": "stdout",
     "output_type": "stream",
     "text": [
      "🔍 融合特征维度: [2048, 128, 32, 32]\n",
      "✅ 特征融合成功: torch.Size([2, 2240]) -> torch.Size([2, 256])\n"
     ]
    },
    {
     "name": "stderr",
     "output_type": "stream",
     "text": [
      "验证中:  16%|█▌        | 16/100 [02:22<11:27,  8.18s/it, Val Loss=343636.9736, Val Acc=0.5938]"
     ]
    },
    {
     "name": "stdout",
     "output_type": "stream",
     "text": [
      "🔍 融合特征维度: [2048, 128, 32, 32]\n",
      "✅ 特征融合成功: torch.Size([2, 2240]) -> torch.Size([2, 256])\n"
     ]
    },
    {
     "name": "stderr",
     "output_type": "stream",
     "text": [
      "验证中:  17%|█▋        | 17/100 [02:28<10:21,  7.49s/it, Val Loss=351009.5726, Val Acc=0.5882]"
     ]
    },
    {
     "name": "stdout",
     "output_type": "stream",
     "text": [
      "🔍 融合特征维度: [2048, 128, 32, 32]\n",
      "✅ 特征融合成功: torch.Size([2, 2240]) -> torch.Size([2, 256])\n"
     ]
    },
    {
     "name": "stderr",
     "output_type": "stream",
     "text": [
      "验证中:  18%|█▊        | 18/100 [02:48<15:20, 11.22s/it, Val Loss=365356.1519, Val Acc=0.5556]"
     ]
    },
    {
     "name": "stdout",
     "output_type": "stream",
     "text": [
      "🔍 融合特征维度: [2048, 128, 32, 32]\n",
      "✅ 特征融合成功: torch.Size([2, 2240]) -> torch.Size([2, 256])\n"
     ]
    },
    {
     "name": "stderr",
     "output_type": "stream",
     "text": [
      "验证中:  19%|█▉        | 19/100 [02:53<12:34,  9.32s/it, Val Loss=377798.0683, Val Acc=0.5526]"
     ]
    },
    {
     "name": "stdout",
     "output_type": "stream",
     "text": [
      "🔍 融合特征维度: [2048, 128, 32, 32]\n",
      "✅ 特征融合成功: torch.Size([2, 2240]) -> torch.Size([2, 256])\n"
     ]
    },
    {
     "name": "stderr",
     "output_type": "stream",
     "text": [
      "验证中:  20%|██        | 20/100 [02:58<10:48,  8.11s/it, Val Loss=378609.3180, Val Acc=0.5500]"
     ]
    },
    {
     "name": "stdout",
     "output_type": "stream",
     "text": [
      "🔍 融合特征维度: [2048, 128, 32, 32]\n",
      "✅ 特征融合成功: torch.Size([2, 2240]) -> torch.Size([2, 256])\n"
     ]
    },
    {
     "name": "stderr",
     "output_type": "stream",
     "text": [
      "验证中:  21%|██        | 21/100 [03:06<10:15,  7.79s/it, Val Loss=378314.6094, Val Acc=0.5476]"
     ]
    },
    {
     "name": "stdout",
     "output_type": "stream",
     "text": [
      "🔍 融合特征维度: [2048, 128, 32, 32]\n",
      "✅ 特征融合成功: torch.Size([2, 2240]) -> torch.Size([2, 256])\n"
     ]
    },
    {
     "name": "stderr",
     "output_type": "stream",
     "text": [
      "验证中:  22%|██▏       | 22/100 [03:15<10:53,  8.38s/it, Val Loss=403636.3061, Val Acc=0.5455]"
     ]
    },
    {
     "name": "stdout",
     "output_type": "stream",
     "text": [
      "🔍 融合特征维度: [2048, 128, 32, 32]\n",
      "✅ 特征融合成功: torch.Size([2, 2240]) -> torch.Size([2, 256])\n"
     ]
    },
    {
     "name": "stderr",
     "output_type": "stream",
     "text": [
      "验证中:  23%|██▎       | 23/100 [03:34<14:39, 11.42s/it, Val Loss=418334.2439, Val Acc=0.5435]"
     ]
    },
    {
     "name": "stdout",
     "output_type": "stream",
     "text": [
      "🔍 融合特征维度: [2048, 128, 32, 32]\n",
      "✅ 特征融合成功: torch.Size([2, 2240]) -> torch.Size([2, 256])\n"
     ]
    },
    {
     "name": "stderr",
     "output_type": "stream",
     "text": [
      "验证中:  24%|██▍       | 24/100 [03:44<13:53, 10.96s/it, Val Loss=426657.8014, Val Acc=0.5417]"
     ]
    },
    {
     "name": "stdout",
     "output_type": "stream",
     "text": [
      "🔍 融合特征维度: [2048, 128, 32, 32]\n",
      "✅ 特征融合成功: torch.Size([2, 2240]) -> torch.Size([2, 256])\n"
     ]
    },
    {
     "name": "stderr",
     "output_type": "stream",
     "text": [
      "验证中:  25%|██▌       | 25/100 [03:53<13:15, 10.61s/it, Val Loss=429814.9581, Val Acc=0.5400]"
     ]
    },
    {
     "name": "stdout",
     "output_type": "stream",
     "text": [
      "🔍 融合特征维度: [2048, 128, 32, 32]\n",
      "✅ 特征融合成功: torch.Size([2, 2240]) -> torch.Size([2, 256])\n"
     ]
    },
    {
     "name": "stderr",
     "output_type": "stream",
     "text": [
      "验证中:  26%|██▌       | 26/100 [04:04<13:11, 10.69s/it, Val Loss=433782.5992, Val Acc=0.5385]"
     ]
    },
    {
     "name": "stdout",
     "output_type": "stream",
     "text": [
      "🔍 融合特征维度: [2048, 128, 32, 32]\n",
      "✅ 特征融合成功: torch.Size([2, 2240]) -> torch.Size([2, 256])\n"
     ]
    },
    {
     "name": "stderr",
     "output_type": "stream",
     "text": [
      "验证中:  27%|██▋       | 27/100 [04:12<11:51,  9.75s/it, Val Loss=417716.5770, Val Acc=0.5556]"
     ]
    },
    {
     "name": "stdout",
     "output_type": "stream",
     "text": [
      "🔍 融合特征维度: [2048, 128, 32, 32]\n",
      "✅ 特征融合成功: torch.Size([2, 2240]) -> torch.Size([2, 256])\n"
     ]
    },
    {
     "name": "stderr",
     "output_type": "stream",
     "text": [
      "验证中:  28%|██▊       | 28/100 [04:20<11:00,  9.18s/it, Val Loss=419662.6881, Val Acc=0.5536]"
     ]
    },
    {
     "name": "stdout",
     "output_type": "stream",
     "text": [
      "🔍 融合特征维度: [2048, 128, 32, 32]\n",
      "✅ 特征融合成功: torch.Size([2, 2240]) -> torch.Size([2, 256])\n"
     ]
    },
    {
     "name": "stderr",
     "output_type": "stream",
     "text": [
      "验证中:  29%|██▉       | 29/100 [04:25<09:36,  8.12s/it, Val Loss=414424.3357, Val Acc=0.5517]"
     ]
    },
    {
     "name": "stdout",
     "output_type": "stream",
     "text": [
      "🔍 融合特征维度: [2048, 128, 32, 32]\n",
      "✅ 特征融合成功: torch.Size([2, 2240]) -> torch.Size([2, 256])\n"
     ]
    },
    {
     "name": "stderr",
     "output_type": "stream",
     "text": [
      "验证中:  30%|███       | 30/100 [04:34<09:39,  8.27s/it, Val Loss=421951.3661, Val Acc=0.5500]"
     ]
    },
    {
     "name": "stdout",
     "output_type": "stream",
     "text": [
      "🔍 融合特征维度: [2048, 128, 32, 32]\n",
      "✅ 特征融合成功: torch.Size([2, 2240]) -> torch.Size([2, 256])\n"
     ]
    },
    {
     "name": "stderr",
     "output_type": "stream",
     "text": [
      "验证中:  31%|███       | 31/100 [04:55<14:01, 12.20s/it, Val Loss=433164.4229, Val Acc=0.5323]"
     ]
    },
    {
     "name": "stdout",
     "output_type": "stream",
     "text": [
      "🔍 融合特征维度: [2048, 128, 32, 32]\n",
      "✅ 特征融合成功: torch.Size([2, 2240]) -> torch.Size([2, 256])\n"
     ]
    },
    {
     "name": "stderr",
     "output_type": "stream",
     "text": [
      "验证中:  32%|███▏      | 32/100 [05:16<16:34, 14.62s/it, Val Loss=430868.1089, Val Acc=0.5312]"
     ]
    },
    {
     "name": "stdout",
     "output_type": "stream",
     "text": [
      "🔍 融合特征维度: [2048, 128, 32, 32]\n",
      "✅ 特征融合成功: torch.Size([2, 2240]) -> torch.Size([2, 256])\n"
     ]
    },
    {
     "name": "stderr",
     "output_type": "stream",
     "text": [
      "验证中:  33%|███▎      | 33/100 [05:23<13:57, 12.50s/it, Val Loss=429381.6899, Val Acc=0.5303]"
     ]
    },
    {
     "name": "stdout",
     "output_type": "stream",
     "text": [
      "🔍 融合特征维度: [2048, 128, 32, 32]\n",
      "✅ 特征融合成功: torch.Size([2, 2240]) -> torch.Size([2, 256])\n"
     ]
    },
    {
     "name": "stderr",
     "output_type": "stream",
     "text": [
      "验证中:  34%|███▍      | 34/100 [05:47<17:35, 15.99s/it, Val Loss=435043.0960, Val Acc=0.5294]"
     ]
    },
    {
     "name": "stdout",
     "output_type": "stream",
     "text": [
      "🔍 融合特征维度: [2048, 128, 32, 32]\n",
      "✅ 特征融合成功: torch.Size([2, 2240]) -> torch.Size([2, 256])\n"
     ]
    },
    {
     "name": "stderr",
     "output_type": "stream",
     "text": [
      "验证中:  35%|███▌      | 35/100 [05:52<13:45, 12.71s/it, Val Loss=453779.2790, Val Acc=0.5143]"
     ]
    },
    {
     "name": "stdout",
     "output_type": "stream",
     "text": [
      "🔍 融合特征维度: [2048, 128, 32, 32]\n",
      "✅ 特征融合成功: torch.Size([2, 2240]) -> torch.Size([2, 256])\n"
     ]
    },
    {
     "name": "stderr",
     "output_type": "stream",
     "text": [
      "验证中:  36%|███▌      | 36/100 [06:05<13:39, 12.81s/it, Val Loss=466699.4154, Val Acc=0.5000]"
     ]
    },
    {
     "name": "stdout",
     "output_type": "stream",
     "text": [
      "🔍 融合特征维度: [2048, 128, 32, 32]\n",
      "✅ 特征融合成功: torch.Size([2, 2240]) -> torch.Size([2, 256])\n"
     ]
    },
    {
     "name": "stderr",
     "output_type": "stream",
     "text": [
      "验证中:  37%|███▋      | 37/100 [06:21<14:15, 13.58s/it, Val Loss=459586.0942, Val Acc=0.5000]"
     ]
    },
    {
     "name": "stdout",
     "output_type": "stream",
     "text": [
      "🔍 融合特征维度: [2048, 128, 32, 32]\n",
      "✅ 特征融合成功: torch.Size([2, 2240]) -> torch.Size([2, 256])\n"
     ]
    },
    {
     "name": "stderr",
     "output_type": "stream",
     "text": [
      "验证中:  38%|███▊      | 38/100 [06:24<10:53, 10.54s/it, Val Loss=457510.7266, Val Acc=0.5000]"
     ]
    },
    {
     "name": "stdout",
     "output_type": "stream",
     "text": [
      "🔍 融合特征维度: [2048, 128, 32, 32]\n",
      "✅ 特征融合成功: torch.Size([2, 2240]) -> torch.Size([2, 256])\n"
     ]
    },
    {
     "name": "stderr",
     "output_type": "stream",
     "text": [
      "验证中:  39%|███▉      | 39/100 [06:30<09:13,  9.08s/it, Val Loss=445779.6823, Val Acc=0.5128]"
     ]
    },
    {
     "name": "stdout",
     "output_type": "stream",
     "text": [
      "🔍 融合特征维度: [2048, 128, 32, 32]\n",
      "✅ 特征融合成功: torch.Size([2, 2240]) -> torch.Size([2, 256])\n"
     ]
    },
    {
     "name": "stderr",
     "output_type": "stream",
     "text": [
      "验证中:  40%|████      | 40/100 [06:33<07:25,  7.43s/it, Val Loss=434635.1902, Val Acc=0.5250]"
     ]
    },
    {
     "name": "stdout",
     "output_type": "stream",
     "text": [
      "🔍 融合特征维度: [2048, 128, 32, 32]\n",
      "✅ 特征融合成功: torch.Size([2, 2240]) -> torch.Size([2, 256])\n"
     ]
    },
    {
     "name": "stderr",
     "output_type": "stream",
     "text": [
      "验证中:  41%|████      | 41/100 [07:03<13:56, 14.18s/it, Val Loss=446077.8106, Val Acc=0.5122]"
     ]
    },
    {
     "name": "stdout",
     "output_type": "stream",
     "text": [
      "🔍 融合特征维度: [2048, 128, 32, 32]\n",
      "✅ 特征融合成功: torch.Size([2, 2240]) -> torch.Size([2, 256])\n"
     ]
    },
    {
     "name": "stderr",
     "output_type": "stream",
     "text": [
      "验证中:  42%|████▏     | 42/100 [07:14<12:40, 13.11s/it, Val Loss=445416.0889, Val Acc=0.5119]"
     ]
    },
    {
     "name": "stdout",
     "output_type": "stream",
     "text": [
      "🔍 融合特征维度: [2048, 128, 32, 32]\n",
      "✅ 特征融合成功: torch.Size([2, 2240]) -> torch.Size([2, 256])\n"
     ]
    },
    {
     "name": "stderr",
     "output_type": "stream",
     "text": [
      "验证中:  43%|████▎     | 43/100 [07:21<10:42, 11.28s/it, Val Loss=435057.5752, Val Acc=0.5233]"
     ]
    },
    {
     "name": "stdout",
     "output_type": "stream",
     "text": [
      "🔍 融合特征维度: [2048, 128, 32, 32]\n",
      "✅ 特征融合成功: torch.Size([2, 2240]) -> torch.Size([2, 256])\n"
     ]
    },
    {
     "name": "stderr",
     "output_type": "stream",
     "text": [
      "验证中:  44%|████▍     | 44/100 [07:46<14:26, 15.48s/it, Val Loss=446408.2340, Val Acc=0.5114]"
     ]
    },
    {
     "name": "stdout",
     "output_type": "stream",
     "text": [
      "🔍 融合特征维度: [2048, 128, 32, 32]\n",
      "✅ 特征融合成功: torch.Size([2, 2240]) -> torch.Size([2, 256])\n"
     ]
    },
    {
     "name": "stderr",
     "output_type": "stream",
     "text": [
      "验证中:  45%|████▌     | 45/100 [07:55<12:24, 13.54s/it, Val Loss=461241.8566, Val Acc=0.5000]"
     ]
    },
    {
     "name": "stdout",
     "output_type": "stream",
     "text": [
      "🔍 融合特征维度: [2048, 128, 32, 32]\n",
      "✅ 特征融合成功: torch.Size([2, 2240]) -> torch.Size([2, 256])\n"
     ]
    },
    {
     "name": "stderr",
     "output_type": "stream",
     "text": [
      "验证中:  46%|████▌     | 46/100 [08:00<09:42, 10.80s/it, Val Loss=463291.5676, Val Acc=0.5000]"
     ]
    },
    {
     "name": "stdout",
     "output_type": "stream",
     "text": [
      "🔍 融合特征维度: [2048, 128, 32, 32]\n",
      "✅ 特征融合成功: torch.Size([2, 2240]) -> torch.Size([2, 256])\n"
     ]
    },
    {
     "name": "stderr",
     "output_type": "stream",
     "text": [
      "验证中:  47%|████▋     | 47/100 [08:15<10:47, 12.21s/it, Val Loss=476561.0662, Val Acc=0.4894]"
     ]
    },
    {
     "name": "stdout",
     "output_type": "stream",
     "text": [
      "🔍 融合特征维度: [2048, 128, 32, 32]\n",
      "✅ 特征融合成功: torch.Size([2, 2240]) -> torch.Size([2, 256])\n"
     ]
    },
    {
     "name": "stderr",
     "output_type": "stream",
     "text": [
      "验证中:  48%|████▊     | 48/100 [08:21<08:53, 10.26s/it, Val Loss=476965.7673, Val Acc=0.4792]"
     ]
    },
    {
     "name": "stdout",
     "output_type": "stream",
     "text": [
      "🔍 融合特征维度: [2048, 128, 32, 32]\n",
      "✅ 特征融合成功: torch.Size([2, 2240]) -> torch.Size([2, 256])\n"
     ]
    },
    {
     "name": "stderr",
     "output_type": "stream",
     "text": [
      "验证中:  49%|████▉     | 49/100 [08:31<08:47, 10.33s/it, Val Loss=479285.4098, Val Acc=0.4796]"
     ]
    },
    {
     "name": "stdout",
     "output_type": "stream",
     "text": [
      "🔍 融合特征维度: [2048, 128, 32, 32]\n",
      "✅ 特征融合成功: torch.Size([2, 2240]) -> torch.Size([2, 256])\n"
     ]
    },
    {
     "name": "stderr",
     "output_type": "stream",
     "text": [
      "验证中:  50%|█████     | 50/100 [08:46<09:37, 11.54s/it, Val Loss=482779.1016, Val Acc=0.4700]"
     ]
    },
    {
     "name": "stdout",
     "output_type": "stream",
     "text": [
      "🔍 融合特征维度: [2048, 128, 32, 32]\n",
      "✅ 特征融合成功: torch.Size([2, 2240]) -> torch.Size([2, 256])\n"
     ]
    },
    {
     "name": "stderr",
     "output_type": "stream",
     "text": [
      "验证中:  51%|█████     | 51/100 [08:53<08:16, 10.12s/it, Val Loss=481479.9439, Val Acc=0.4706]"
     ]
    },
    {
     "name": "stdout",
     "output_type": "stream",
     "text": [
      "🔍 融合特征维度: [2048, 128, 32, 32]\n",
      "✅ 特征融合成功: torch.Size([2, 2240]) -> torch.Size([2, 256])\n"
     ]
    },
    {
     "name": "stderr",
     "output_type": "stream",
     "text": [
      "验证中:  52%|█████▏    | 52/100 [09:09<09:39, 12.06s/it, Val Loss=503354.1710, Val Acc=0.4615]"
     ]
    },
    {
     "name": "stdout",
     "output_type": "stream",
     "text": [
      "🔍 融合特征维度: [2048, 128, 32, 32]\n",
      "✅ 特征融合成功: torch.Size([2, 2240]) -> torch.Size([2, 256])\n"
     ]
    },
    {
     "name": "stderr",
     "output_type": "stream",
     "text": [
      "验证中:  53%|█████▎    | 53/100 [09:13<07:37,  9.73s/it, Val Loss=499449.0445, Val Acc=0.4623]"
     ]
    },
    {
     "name": "stdout",
     "output_type": "stream",
     "text": [
      "🔍 融合特征维度: [2048, 128, 32, 32]\n",
      "✅ 特征融合成功: torch.Size([2, 2240]) -> torch.Size([2, 256])\n"
     ]
    },
    {
     "name": "stderr",
     "output_type": "stream",
     "text": [
      "验证中:  54%|█████▍    | 54/100 [09:24<07:37,  9.95s/it, Val Loss=497175.0090, Val Acc=0.4630]"
     ]
    },
    {
     "name": "stdout",
     "output_type": "stream",
     "text": [
      "🔍 融合特征维度: [2048, 128, 32, 32]\n",
      "✅ 特征融合成功: torch.Size([2, 2240]) -> torch.Size([2, 256])\n"
     ]
    },
    {
     "name": "stderr",
     "output_type": "stream",
     "text": [
      "验证中:  55%|█████▌    | 55/100 [09:28<06:11,  8.26s/it, Val Loss=493913.2736, Val Acc=0.4636]"
     ]
    },
    {
     "name": "stdout",
     "output_type": "stream",
     "text": [
      "🔍 融合特征维度: [2048, 128, 32, 32]\n",
      "✅ 特征融合成功: torch.Size([2, 2240]) -> torch.Size([2, 256])\n"
     ]
    },
    {
     "name": "stderr",
     "output_type": "stream",
     "text": [
      "验证中:  56%|█████▌    | 56/100 [09:36<05:50,  7.96s/it, Val Loss=498716.5901, Val Acc=0.4554]"
     ]
    },
    {
     "name": "stdout",
     "output_type": "stream",
     "text": [
      "🔍 融合特征维度: [2048, 128, 32, 32]\n",
      "✅ 特征融合成功: torch.Size([2, 2240]) -> torch.Size([2, 256])\n"
     ]
    },
    {
     "name": "stderr",
     "output_type": "stream",
     "text": [
      "验证中:  57%|█████▋    | 57/100 [09:41<05:05,  7.11s/it, Val Loss=497180.9838, Val Acc=0.4561]"
     ]
    },
    {
     "name": "stdout",
     "output_type": "stream",
     "text": [
      "🔍 融合特征维度: [2048, 128, 32, 32]\n",
      "✅ 特征融合成功: torch.Size([2, 2240]) -> torch.Size([2, 256])\n"
     ]
    },
    {
     "name": "stderr",
     "output_type": "stream",
     "text": [
      "验证中:  58%|█████▊    | 58/100 [09:47<04:44,  6.79s/it, Val Loss=492417.7233, Val Acc=0.4569]"
     ]
    },
    {
     "name": "stdout",
     "output_type": "stream",
     "text": [
      "🔍 融合特征维度: [2048, 128, 32, 32]\n",
      "✅ 特征融合成功: torch.Size([2, 2240]) -> torch.Size([2, 256])\n"
     ]
    },
    {
     "name": "stderr",
     "output_type": "stream",
     "text": [
      "验证中:  59%|█████▉    | 59/100 [10:01<06:16,  9.18s/it, Val Loss=484071.6602, Val Acc=0.4661]"
     ]
    },
    {
     "name": "stdout",
     "output_type": "stream",
     "text": [
      "🔍 融合特征维度: [2048, 128, 32, 32]\n",
      "✅ 特征融合成功: torch.Size([2, 2240]) -> torch.Size([2, 256])\n"
     ]
    },
    {
     "name": "stderr",
     "output_type": "stream",
     "text": [
      "验证中:  60%|██████    | 60/100 [10:06<05:14,  7.85s/it, Val Loss=484102.7086, Val Acc=0.4667]"
     ]
    },
    {
     "name": "stdout",
     "output_type": "stream",
     "text": [
      "🔍 融合特征维度: [2048, 128, 32, 32]\n",
      "✅ 特征融合成功: torch.Size([2, 2240]) -> torch.Size([2, 256])\n"
     ]
    },
    {
     "name": "stderr",
     "output_type": "stream",
     "text": [
      "验证中:  61%|██████    | 61/100 [10:19<06:07,  9.41s/it, Val Loss=494041.8507, Val Acc=0.4590]"
     ]
    },
    {
     "name": "stdout",
     "output_type": "stream",
     "text": [
      "🔍 融合特征维度: [2048, 128, 32, 32]\n",
      "✅ 特征融合成功: torch.Size([2, 2240]) -> torch.Size([2, 256])\n"
     ]
    },
    {
     "name": "stderr",
     "output_type": "stream",
     "text": [
      "验证中:  62%|██████▏   | 62/100 [10:43<08:38, 13.64s/it, Val Loss=490184.7266, Val Acc=0.4597]"
     ]
    },
    {
     "name": "stdout",
     "output_type": "stream",
     "text": [
      "🔍 融合特征维度: [2048, 128, 32, 32]\n",
      "✅ 特征融合成功: torch.Size([2, 2240]) -> torch.Size([2, 256])\n"
     ]
    },
    {
     "name": "stderr",
     "output_type": "stream",
     "text": [
      "验证中:  63%|██████▎   | 63/100 [11:06<10:06, 16.39s/it, Val Loss=482404.0166, Val Acc=0.4683]"
     ]
    },
    {
     "name": "stdout",
     "output_type": "stream",
     "text": [
      "🔍 融合特征维度: [2048, 128, 32, 32]\n",
      "✅ 特征融合成功: torch.Size([2, 2240]) -> torch.Size([2, 256])\n"
     ]
    },
    {
     "name": "stderr",
     "output_type": "stream",
     "text": [
      "验证中:  64%|██████▍   | 64/100 [11:09<07:33, 12.59s/it, Val Loss=478484.2302, Val Acc=0.4688]"
     ]
    },
    {
     "name": "stdout",
     "output_type": "stream",
     "text": [
      "🔍 融合特征维度: [2048, 128, 32, 32]\n",
      "✅ 特征融合成功: torch.Size([2, 2240]) -> torch.Size([2, 256])\n"
     ]
    },
    {
     "name": "stderr",
     "output_type": "stream",
     "text": [
      "验证中:  65%|██████▌   | 65/100 [11:14<06:02, 10.35s/it, Val Loss=471122.9344, Val Acc=0.4769]"
     ]
    },
    {
     "name": "stdout",
     "output_type": "stream",
     "text": [
      "🔍 融合特征维度: [2048, 128, 32, 32]\n",
      "✅ 特征融合成功: torch.Size([2, 2240]) -> torch.Size([2, 256])\n"
     ]
    },
    {
     "name": "stderr",
     "output_type": "stream",
     "text": [
      "验证中:  66%|██████▌   | 66/100 [11:29<06:38, 11.72s/it, Val Loss=469704.3274, Val Acc=0.4773]"
     ]
    },
    {
     "name": "stdout",
     "output_type": "stream",
     "text": [
      "🔍 融合特征维度: [2048, 128, 32, 32]\n",
      "✅ 特征融合成功: torch.Size([2, 2240]) -> torch.Size([2, 256])\n"
     ]
    },
    {
     "name": "stderr",
     "output_type": "stream",
     "text": [
      "验证中:  67%|██████▋   | 67/100 [11:39<06:03, 11.03s/it, Val Loss=468257.0548, Val Acc=0.4701]"
     ]
    },
    {
     "name": "stdout",
     "output_type": "stream",
     "text": [
      "🔍 融合特征维度: [2048, 128, 32, 32]\n",
      "✅ 特征融合成功: torch.Size([2, 2240]) -> torch.Size([2, 256])\n"
     ]
    },
    {
     "name": "stderr",
     "output_type": "stream",
     "text": [
      "验证中:  68%|██████▊   | 68/100 [11:53<06:25, 12.04s/it, Val Loss=471832.9823, Val Acc=0.4632]"
     ]
    },
    {
     "name": "stdout",
     "output_type": "stream",
     "text": [
      "🔍 融合特征维度: [2048, 128, 32, 32]\n",
      "✅ 特征融合成功: torch.Size([2, 2240]) -> torch.Size([2, 256])\n"
     ]
    },
    {
     "name": "stderr",
     "output_type": "stream",
     "text": [
      "验证中:  69%|██████▉   | 69/100 [11:59<05:20, 10.32s/it, Val Loss=467973.9006, Val Acc=0.4638]"
     ]
    },
    {
     "name": "stdout",
     "output_type": "stream",
     "text": [
      "🔍 融合特征维度: [2048, 128, 32, 32]\n",
      "✅ 特征融合成功: torch.Size([2, 2240]) -> torch.Size([2, 256])\n"
     ]
    },
    {
     "name": "stderr",
     "output_type": "stream",
     "text": [
      "验证中:  70%|███████   | 70/100 [12:05<04:25,  8.84s/it, Val Loss=463855.4368, Val Acc=0.4643]"
     ]
    },
    {
     "name": "stdout",
     "output_type": "stream",
     "text": [
      "🔍 融合特征维度: [2048, 128, 32, 32]\n",
      "✅ 特征融合成功: torch.Size([2, 2240]) -> torch.Size([2, 256])\n"
     ]
    },
    {
     "name": "stderr",
     "output_type": "stream",
     "text": [
      "验证中:  71%|███████   | 71/100 [12:24<05:48, 12.02s/it, Val Loss=461559.6402, Val Acc=0.4648]"
     ]
    },
    {
     "name": "stdout",
     "output_type": "stream",
     "text": [
      "🔍 融合特征维度: [2048, 128, 32, 32]\n",
      "✅ 特征融合成功: torch.Size([2, 2240]) -> torch.Size([2, 256])\n"
     ]
    },
    {
     "name": "stderr",
     "output_type": "stream",
     "text": [
      "验证中:  72%|███████▏  | 72/100 [12:28<04:30,  9.67s/it, Val Loss=464456.9941, Val Acc=0.4583]"
     ]
    },
    {
     "name": "stdout",
     "output_type": "stream",
     "text": [
      "🔍 融合特征维度: [2048, 128, 32, 32]\n",
      "✅ 特征融合成功: torch.Size([2, 2240]) -> torch.Size([2, 256])\n"
     ]
    },
    {
     "name": "stderr",
     "output_type": "stream",
     "text": [
      "验证中:  73%|███████▎  | 73/100 [12:41<04:40, 10.39s/it, Val Loss=462166.7793, Val Acc=0.4589]"
     ]
    },
    {
     "name": "stdout",
     "output_type": "stream",
     "text": [
      "🔍 融合特征维度: [2048, 128, 32, 32]\n",
      "✅ 特征融合成功: torch.Size([2, 2240]) -> torch.Size([2, 256])\n"
     ]
    },
    {
     "name": "stderr",
     "output_type": "stream",
     "text": [
      "验证中:  74%|███████▍  | 74/100 [12:49<04:12,  9.73s/it, Val Loss=455921.2823, Val Acc=0.4662]"
     ]
    },
    {
     "name": "stdout",
     "output_type": "stream",
     "text": [
      "🔍 融合特征维度: [2048, 128, 32, 32]\n",
      "✅ 特征融合成功: torch.Size([2, 2240]) -> torch.Size([2, 256])\n"
     ]
    },
    {
     "name": "stderr",
     "output_type": "stream",
     "text": [
      "验证中:  75%|███████▌  | 75/100 [12:53<03:22,  8.09s/it, Val Loss=457613.0252, Val Acc=0.4667]"
     ]
    },
    {
     "name": "stdout",
     "output_type": "stream",
     "text": [
      "🔍 融合特征维度: [2048, 128, 32, 32]\n",
      "✅ 特征融合成功: torch.Size([2, 2240]) -> torch.Size([2, 256])\n"
     ]
    },
    {
     "name": "stderr",
     "output_type": "stream",
     "text": [
      "验证中:  76%|███████▌  | 76/100 [13:08<04:01, 10.08s/it, Val Loss=451591.8012, Val Acc=0.4737]"
     ]
    },
    {
     "name": "stdout",
     "output_type": "stream",
     "text": [
      "🔍 融合特征维度: [2048, 128, 32, 32]\n",
      "✅ 特征融合成功: torch.Size([2, 2240]) -> torch.Size([2, 256])\n"
     ]
    },
    {
     "name": "stderr",
     "output_type": "stream",
     "text": [
      "验证中:  77%|███████▋  | 77/100 [13:12<03:08,  8.20s/it, Val Loss=445726.9726, Val Acc=0.4805]"
     ]
    },
    {
     "name": "stdout",
     "output_type": "stream",
     "text": [
      "🔍 融合特征维度: [2048, 128, 32, 32]\n",
      "✅ 特征融合成功: torch.Size([2, 2240]) -> torch.Size([2, 256])\n"
     ]
    },
    {
     "name": "stderr",
     "output_type": "stream",
     "text": [
      "验证中:  78%|███████▊  | 78/100 [13:22<03:12,  8.77s/it, Val Loss=440012.5242, Val Acc=0.4872]"
     ]
    },
    {
     "name": "stdout",
     "output_type": "stream",
     "text": [
      "🔍 融合特征维度: [2048, 128, 32, 32]\n",
      "✅ 特征融合成功: torch.Size([2, 2240]) -> torch.Size([2, 256])\n"
     ]
    },
    {
     "name": "stderr",
     "output_type": "stream",
     "text": [
      "验证中:  79%|███████▉  | 79/100 [13:28<02:52,  8.21s/it, Val Loss=442502.4780, Val Acc=0.4810]"
     ]
    },
    {
     "name": "stdout",
     "output_type": "stream",
     "text": [
      "🔍 融合特征维度: [2048, 128, 32, 32]\n",
      "✅ 特征融合成功: torch.Size([2, 2240]) -> torch.Size([2, 256])\n"
     ]
    },
    {
     "name": "stderr",
     "output_type": "stream",
     "text": [
      "验证中:  80%|████████  | 80/100 [13:41<03:07,  9.40s/it, Val Loss=442451.5064, Val Acc=0.4750]"
     ]
    },
    {
     "name": "stdout",
     "output_type": "stream",
     "text": [
      "🔍 融合特征维度: [2048, 128, 32, 32]\n",
      "✅ 特征融合成功: torch.Size([2, 2240]) -> torch.Size([2, 256])\n"
     ]
    },
    {
     "name": "stderr",
     "output_type": "stream",
     "text": [
      "验证中:  81%|████████  | 81/100 [13:55<03:25, 10.80s/it, Val Loss=436989.1422, Val Acc=0.4815]"
     ]
    },
    {
     "name": "stdout",
     "output_type": "stream",
     "text": [
      "🔍 融合特征维度: [2048, 128, 32, 32]\n",
      "✅ 特征融合成功: torch.Size([2, 2240]) -> torch.Size([2, 256])\n"
     ]
    },
    {
     "name": "stderr",
     "output_type": "stream",
     "text": [
      "验证中:  82%|████████▏ | 82/100 [14:07<03:19, 11.09s/it, Val Loss=436581.9308, Val Acc=0.4817]"
     ]
    },
    {
     "name": "stdout",
     "output_type": "stream",
     "text": [
      "🔍 融合特征维度: [2048, 128, 32, 32]\n",
      "✅ 特征融合成功: torch.Size([2, 2240]) -> torch.Size([2, 256])\n"
     ]
    },
    {
     "name": "stderr",
     "output_type": "stream",
     "text": [
      "验证中:  83%|████████▎ | 83/100 [14:11<02:34,  9.08s/it, Val Loss=435293.3119, Val Acc=0.4819]"
     ]
    },
    {
     "name": "stdout",
     "output_type": "stream",
     "text": [
      "🔍 融合特征维度: [2048, 128, 32, 32]\n",
      "✅ 特征融合成功: torch.Size([2, 2240]) -> torch.Size([2, 256])\n"
     ]
    },
    {
     "name": "stderr",
     "output_type": "stream",
     "text": [
      "验证中:  84%|████████▍ | 84/100 [14:19<02:21,  8.85s/it, Val Loss=430111.2487, Val Acc=0.4881]"
     ]
    },
    {
     "name": "stdout",
     "output_type": "stream",
     "text": [
      "🔍 融合特征维度: [2048, 128, 32, 32]\n",
      "✅ 特征融合成功: torch.Size([2, 2240]) -> torch.Size([2, 256])\n"
     ]
    },
    {
     "name": "stderr",
     "output_type": "stream",
     "text": [
      "验证中:  85%|████████▌ | 85/100 [14:23<01:49,  7.33s/it, Val Loss=435221.2803, Val Acc=0.4824]"
     ]
    },
    {
     "name": "stdout",
     "output_type": "stream",
     "text": [
      "🔍 融合特征维度: [2048, 128, 32, 32]\n",
      "✅ 特征融合成功: torch.Size([2, 2240]) -> torch.Size([2, 256])\n"
     ]
    },
    {
     "name": "stderr",
     "output_type": "stream",
     "text": [
      "验证中:  86%|████████▌ | 86/100 [14:30<01:39,  7.13s/it, Val Loss=436856.6964, Val Acc=0.4826]"
     ]
    },
    {
     "name": "stdout",
     "output_type": "stream",
     "text": [
      "🔍 融合特征维度: [2048, 128, 32, 32]\n",
      "✅ 特征融合成功: torch.Size([2, 2240]) -> torch.Size([2, 256])\n"
     ]
    },
    {
     "name": "stderr",
     "output_type": "stream",
     "text": [
      "验证中:  87%|████████▋ | 87/100 [14:34<01:20,  6.23s/it, Val Loss=436127.6600, Val Acc=0.4770]"
     ]
    },
    {
     "name": "stdout",
     "output_type": "stream",
     "text": [
      "🔍 融合特征维度: [2048, 128, 32, 32]\n",
      "✅ 特征融合成功: torch.Size([2, 2240]) -> torch.Size([2, 256])\n"
     ]
    },
    {
     "name": "stderr",
     "output_type": "stream",
     "text": [
      "验证中:  88%|████████▊ | 88/100 [14:44<01:30,  7.56s/it, Val Loss=431171.6639, Val Acc=0.4830]"
     ]
    },
    {
     "name": "stdout",
     "output_type": "stream",
     "text": [
      "🔍 融合特征维度: [2048, 128, 32, 32]\n",
      "✅ 特征融合成功: torch.Size([2, 2240]) -> torch.Size([2, 256])\n"
     ]
    },
    {
     "name": "stderr",
     "output_type": "stream",
     "text": [
      "验证中:  89%|████████▉ | 89/100 [14:49<01:13,  6.72s/it, Val Loss=430358.0118, Val Acc=0.4831]"
     ]
    },
    {
     "name": "stdout",
     "output_type": "stream",
     "text": [
      "🔍 融合特征维度: [2048, 128, 32, 32]\n",
      "✅ 特征融合成功: torch.Size([2, 2240]) -> torch.Size([2, 256])\n"
     ]
    },
    {
     "name": "stderr",
     "output_type": "stream",
     "text": [
      "验证中:  90%|█████████ | 90/100 [14:55<01:03,  6.39s/it, Val Loss=430122.8727, Val Acc=0.4833]"
     ]
    },
    {
     "name": "stdout",
     "output_type": "stream",
     "text": [
      "🔍 融合特征维度: [2048, 128, 32, 32]\n",
      "✅ 特征融合成功: torch.Size([2, 2240]) -> torch.Size([2, 256])\n"
     ]
    },
    {
     "name": "stderr",
     "output_type": "stream",
     "text": [
      "验证中:  91%|█████████ | 91/100 [14:59<00:50,  5.60s/it, Val Loss=425396.2478, Val Acc=0.4890]"
     ]
    },
    {
     "name": "stdout",
     "output_type": "stream",
     "text": [
      "🔍 融合特征维度: [2048, 128, 32, 32]\n",
      "✅ 特征融合成功: torch.Size([2, 2240]) -> torch.Size([2, 256])\n"
     ]
    },
    {
     "name": "stderr",
     "output_type": "stream",
     "text": [
      "验证中:  92%|█████████▏| 92/100 [15:07<00:52,  6.58s/it, Val Loss=420772.3755, Val Acc=0.4946]"
     ]
    },
    {
     "name": "stdout",
     "output_type": "stream",
     "text": [
      "🔍 融合特征维度: [2048, 128, 32, 32]\n",
      "✅ 特征融合成功: torch.Size([2, 2240]) -> torch.Size([2, 256])\n"
     ]
    },
    {
     "name": "stderr",
     "output_type": "stream",
     "text": [
      "验证中:  93%|█████████▎| 93/100 [15:16<00:50,  7.18s/it, Val Loss=416247.9414, Val Acc=0.5000]"
     ]
    },
    {
     "name": "stdout",
     "output_type": "stream",
     "text": [
      "🔍 融合特征维度: [2048, 128, 32, 32]\n",
      "✅ 特征融合成功: torch.Size([2, 2240]) -> torch.Size([2, 256])\n"
     ]
    },
    {
     "name": "stderr",
     "output_type": "stream",
     "text": [
      "验证中:  94%|█████████▍| 94/100 [15:24<00:45,  7.52s/it, Val Loss=411819.7718, Val Acc=0.5053]"
     ]
    },
    {
     "name": "stdout",
     "output_type": "stream",
     "text": [
      "🔍 融合特征维度: [2048, 128, 32, 32]\n",
      "✅ 特征融合成功: torch.Size([2, 2240]) -> torch.Size([2, 256])\n"
     ]
    },
    {
     "name": "stderr",
     "output_type": "stream",
     "text": [
      "验证中:  95%|█████████▌| 95/100 [15:33<00:38,  7.75s/it, Val Loss=410201.0697, Val Acc=0.5053]"
     ]
    },
    {
     "name": "stdout",
     "output_type": "stream",
     "text": [
      "🔍 融合特征维度: [2048, 128, 32, 32]\n",
      "✅ 特征融合成功: torch.Size([2, 2240]) -> torch.Size([2, 256])\n"
     ]
    },
    {
     "name": "stderr",
     "output_type": "stream",
     "text": [
      "验证中:  96%|█████████▌| 96/100 [15:39<00:29,  7.34s/it, Val Loss=411306.9515, Val Acc=0.5052]"
     ]
    },
    {
     "name": "stdout",
     "output_type": "stream",
     "text": [
      "🔍 融合特征维度: [2048, 128, 32, 32]\n",
      "✅ 特征融合成功: torch.Size([2, 2240]) -> torch.Size([2, 256])\n"
     ]
    },
    {
     "name": "stderr",
     "output_type": "stream",
     "text": [
      "验证中:  97%|█████████▋| 97/100 [15:47<00:22,  7.47s/it, Val Loss=413169.3966, Val Acc=0.5052]"
     ]
    },
    {
     "name": "stdout",
     "output_type": "stream",
     "text": [
      "🔍 融合特征维度: [2048, 128, 32, 32]\n",
      "✅ 特征融合成功: torch.Size([2, 2240]) -> torch.Size([2, 256])\n"
     ]
    },
    {
     "name": "stderr",
     "output_type": "stream",
     "text": [
      "验证中:  98%|█████████▊| 98/100 [15:53<00:14,  7.16s/it, Val Loss=413790.0702, Val Acc=0.5051]"
     ]
    },
    {
     "name": "stdout",
     "output_type": "stream",
     "text": [
      "🔍 融合特征维度: [2048, 128, 32, 32]\n",
      "✅ 特征融合成功: torch.Size([2, 2240]) -> torch.Size([2, 256])\n"
     ]
    },
    {
     "name": "stderr",
     "output_type": "stream",
     "text": [
      "验证中:  99%|█████████▉| 99/100 [16:00<00:06,  6.96s/it, Val Loss=416158.7929, Val Acc=0.5000]"
     ]
    },
    {
     "name": "stdout",
     "output_type": "stream",
     "text": [
      "🔍 融合特征维度: [2048, 128, 32, 32]\n",
      "✅ 特征融合成功: torch.Size([2, 2240]) -> torch.Size([2, 256])\n"
     ]
    },
    {
     "name": "stderr",
     "output_type": "stream",
     "text": [
      "                                                                                               "
     ]
    },
    {
     "name": "stdout",
     "output_type": "stream",
     "text": [
      "🔍 融合特征维度: [2048, 128, 32, 32]\n",
      "✅ 特征融合成功: torch.Size([2, 2240]) -> torch.Size([2, 256])\n",
      "训练: Loss=nan, Acc=50.00%\n",
      "验证: Loss=416057.6244, Acc=50.00%, AUC=0.5000, F1=0.6667\n",
      "学习率: 1.81e-04, 用时: 7613.7s\n",
      "🎯 新的最佳模型! Acc: 50.00%, AUC: 0.5000\n"
     ]
    },
    {
     "name": "stderr",
     "output_type": "stream",
     "text": [
      "\r"
     ]
    },
    {
     "name": "stdout",
     "output_type": "stream",
     "text": [
      "💾 最佳模型已保存\n",
      "⏰ 训练时间过长 (126.9分钟)，提前停止\n",
      "\n",
      "✅ 训练完成!\n",
      "🏆 最终最佳性能: Loss=416057.6244, Acc=50.00%, AUC=0.5000\n",
      "💾 峰值GPU内存使用: 6.3GB\n"
     ]
    },
    {
     "data": {
      "image/png": "[encoded data removed]",
      "text/plain": [
       "<Figure size 1500x1000 with 4 Axes>"
      ]
     },
     "metadata": {},
     "output_type": "display_data"
    },
    {
     "name": "stdout",
     "output_type": "stream",
     "text": [
      "📊 训练历史图表已保存到 ./models/training_history.png\n"
     ]
    }
   ],
   "source": [
    "# Cell 12: 训练循环\n",
    "\n",
    "import os\n",
    "import time\n",
    "\n",
    "# 确保模型保存目录存在\n",
    "os.makedirs('./models', exist_ok=True)\n",
    "\n",
    "print(\"🚀 开始训练...\")\n",
    "print(f\"📊 训练配置: {len(train_loader)} 个训练批次, {len(val_loader)} 个验证批次\")\n",
    "print(f\"🎯 模型参数数量: {sum(p.numel() for p in model.parameters()):,}\")\n",
    "print(f\"💾 设备: {device}\")\n",
    "print(f\"📦 批次大小: {batch_size}\")\n",
    "\n",
    "if torch.cuda.is_available():\n",
    "    print(f\"🎮 GPU: {torch.cuda.get_device_name(0)}\")\n",
    "    torch.cuda.reset_peak_memory_stats()\n",
    "\n",
    "# 训练历史记录\n",
    "train_history = {\n",
    "    'train_loss': [],\n",
    "    'val_loss': [],\n",
    "    'train_acc': [],\n",
    "    'val_acc': [],\n",
    "    'val_auc': [],\n",
    "    'val_precision': [],\n",
    "    'val_recall': [],\n",
    "    'val_f1': []\n",
    "}\n",
    "\n",
    "best_val_loss = float('inf')\n",
    "best_val_acc = 0.0\n",
    "best_val_auc = 0.0\n",
    "\n",
    "# 训练循环\n",
    "print(\"\\n🔄 开始训练循环...\")\n",
    "for epoch in range(num_epochs):\n",
    "    epoch_start_time = time.time()\n",
    "    print(f\"\\nEpoch {epoch+1}/{num_epochs}\")\n",
    "    \n",
    "    # 训练阶段\n",
    "    train_results = train_epoch(\n",
    "        model, train_loader, criterion, optimizer, device, \n",
    "        scheduler=scheduler, use_amp=True, gradient_clip=1.0\n",
    "    )\n",
    "    \n",
    "    # 验证阶段\n",
    "    val_results = validate_epoch(\n",
    "        model, val_loader, criterion, device\n",
    "    )\n",
    "    \n",
    "    # 提取结果\n",
    "    train_loss = train_results['loss']\n",
    "    train_acc = train_results['accuracy'] * 100\n",
    "    \n",
    "    val_loss = val_results['loss']\n",
    "    val_acc = val_results['accuracy'] * 100\n",
    "    val_auc = val_results['auc']\n",
    "    val_precision = val_results['precision']\n",
    "    val_recall = val_results['recall']\n",
    "    val_f1 = val_results['f1']\n",
    "    \n",
    "    # 记录历史\n",
    "    train_history['train_loss'].append(train_loss)\n",
    "    train_history['train_acc'].append(train_acc)\n",
    "    train_history['val_loss'].append(val_loss)\n",
    "    train_history['val_acc'].append(val_acc)\n",
    "    train_history['val_auc'].append(val_auc)\n",
    "    train_history['val_precision'].append(val_precision)\n",
    "    train_history['val_recall'].append(val_recall)\n",
    "    train_history['val_f1'].append(val_f1)\n",
    "    \n",
    "    # 学习率调度\n",
    "    scheduler.step()\n",
    "    current_lr = optimizer.param_groups[0]['lr']\n",
    "    \n",
    "    # 计算epoch时间\n",
    "    epoch_time = time.time() - epoch_start_time\n",
    "    \n",
    "    # 打印结果\n",
    "    print(f\"训练: Loss={train_loss:.4f}, Acc={train_acc:.2f}%\")\n",
    "    print(f\"验证: Loss={val_loss:.4f}, Acc={val_acc:.2f}%, AUC={val_auc:.4f}, F1={val_f1:.4f}\")\n",
    "    print(f\"学习率: {current_lr:.2e}, 用时: {epoch_time:.1f}s\")\n",
    "    \n",
    "    # 保存最佳模型\n",
    "    if val_acc > best_val_acc:\n",
    "        best_val_loss = val_loss\n",
    "        best_val_acc = val_acc\n",
    "        best_val_auc = val_auc\n",
    "        \n",
    "        print(f\"🎯 新的最佳模型! Acc: {best_val_acc:.2f}%, AUC: {best_val_auc:.4f}\")\n",
    "        \n",
    "        # 保存最佳模型\n",
    "        torch.save({\n",
    "            'epoch': epoch,\n",
    "            'model_state_dict': model.state_dict(),\n",
    "            'optimizer_state_dict': optimizer.state_dict(),\n",
    "            'best_val_loss': best_val_loss,\n",
    "            'best_val_acc': best_val_acc,\n",
    "            'best_val_auc': best_val_auc,\n",
    "            'train_history': train_history\n",
    "        }, './models/best_model.pth')\n",
    "        print(\"💾 最佳模型已保存\")\n",
    "    \n",
    "    # 早停检查\n",
    "    if early_stopping(val_loss, model):\n",
    "        print(f\"\\n⏹️ 早停触发，在第 {epoch+1} 轮停止训练\")\n",
    "        break\n",
    "    \n",
    "    # 清理GPU缓存 - 双T4 GPU内存管理\n",
    "    if torch.cuda.is_available():\n",
    "        torch.cuda.empty_cache()\n",
    "        # 检查内存使用情况 - 双T4有更大内存容量\n",
    "        memory_used = torch.cuda.memory_allocated() / 1024**3\n",
    "        if memory_used > 20:  # 双T4可以使用更多内存，提高阈值到20GB\n",
    "            torch.cuda.empty_cache()\n",
    "            print(f\"⚠️ 内存使用过高 ({memory_used:.1f}GB)，已清理缓存\")\n",
    "    \n",
    "    # 检查训练时间，防止超时 - 双T4可以运行更长时间\n",
    "    total_time = time.time() - epoch_start_time\n",
    "    if total_time > 7200:  # 双T4可以运行更长时间，提高到2小时\n",
    "        print(f\"⏰ 训练时间过长 ({total_time/60:.1f}分钟)，提前停止\")\n",
    "        break\n",
    "\n",
    "print(\"\\n✅ 训练完成!\")\n",
    "print(f\"🏆 最终最佳性能: Loss={best_val_loss:.4f}, Acc={best_val_acc:.2f}%, AUC={best_val_auc:.4f}\")\n",
    "\n",
    "if torch.cuda.is_available():\n",
    "    print(f\"💾 峰值GPU内存使用: {torch.cuda.max_memory_allocated() / 1024**3:.1f}GB\")\n",
    "\n",
    "# 绘制训练历史\n",
    "def plot_training_history():\n",
    "    \"\"\"绘制训练历史图表\"\"\"\n",
    "    fig, axes = plt.subplots(2, 2, figsize=(15, 10))\n",
    "    fig.suptitle('训练历史', fontsize=16, fontweight='bold')\n",
    "    \n",
    "    # Loss\n",
    "    axes[0, 0].plot(train_history['train_loss'], label='训练Loss', color='blue')\n",
    "    axes[0, 0].plot(train_history['val_loss'], label='验证Loss', color='red')\n",
    "    axes[0, 0].set_title('Loss变化')\n",
    "    axes[0, 0].set_xlabel('Epoch')\n",
    "    axes[0, 0].set_ylabel('Loss')\n",
    "    axes[0, 0].legend()\n",
    "    axes[0, 0].grid(True)\n",
    "    \n",
    "    # Accuracy\n",
    "    axes[0, 1].plot(train_history['train_acc'], label='训练Acc', color='blue')\n",
    "    axes[0, 1].plot(train_history['val_acc'], label='验证Acc', color='red')\n",
    "    axes[0, 1].set_title('准确率变化')\n",
    "    axes[0, 1].set_xlabel('Epoch')\n",
    "    axes[0, 1].set_ylabel('Accuracy (%)')\n",
    "    axes[0, 1].legend()\n",
    "    axes[0, 1].grid(True)\n",
    "    \n",
    "    # AUC\n",
    "    axes[1, 0].plot(train_history['val_auc'], label='验证AUC', color='red')\n",
    "    axes[1, 0].set_title('AUC变化')\n",
    "    axes[1, 0].set_xlabel('Epoch')\n",
    "    axes[1, 0].set_ylabel('AUC')\n",
    "    axes[1, 0].legend()\n",
    "    axes[1, 0].grid(True)\n",
    "    \n",
    "    # F1 Score\n",
    "    axes[1, 1].plot(train_history['val_f1'], label='验证F1', color='red')\n",
    "    axes[1, 1].set_title('F1分数变化')\n",
    "    axes[1, 1].set_xlabel('Epoch')\n",
    "    axes[1, 1].set_ylabel('F1 Score')\n",
    "    axes[1, 1].legend()\n",
    "    axes[1, 1].grid(True)\n",
    "    \n",
    "    plt.tight_layout()\n",
    "    plt.savefig('./models/training_history.png', dpi=300, bbox_inches='tight')\n",
    "    plt.show()\n",
    "\n",
    "# 绘制训练历史\n",
    "plot_training_history()\n",
    "\n",
    "print(\"📊 训练历史图表已保存到 ./models/training_history.png\")"
   ]
  },
  {
   "cell_type": "markdown",
   "id": "dc0eae5f",
   "metadata": {
    "papermill": {
     "duration": 0.181399,
     "end_time": "2025-07-24T17:26:25.228615",
     "exception": false,
     "start_time": "2025-07-24T17:26:25.047216",
     "status": "completed"
    },
    "tags": []
   },
   "source": [
    "# Cell 13: 模型评估和结果分析\n"
   ]
  },
  {
   "cell_type": "code",
   "execution_count": 14,
   "id": "35d2f56d",
   "metadata": {
    "execution": {
     "iopub.execute_input": "2025-07-24T17:26:25.599676Z",
     "iopub.status.busy": "2025-07-24T17:26:25.599194Z",
     "iopub.status.idle": "2025-07-24T17:58:28.782090Z",
     "shell.execute_reply": "2025-07-24T17:58:28.781295Z"
    },
    "papermill": {
     "duration": 1923.369491,
     "end_time": "2025-07-24T17:58:28.783779",
     "exception": false,
     "start_time": "2025-07-24T17:26:25.414288",
     "status": "completed"
    },
    "tags": []
   },
   "outputs": [
    {
     "name": "stdout",
     "output_type": "stream",
     "text": [
      "📊 开始模型评估...\n",
      "============================================================\n",
      "🔄 加载最佳模型...\n",
      "✅ 成功加载第 1 轮的最佳模型\n",
      "最佳验证准确率: 50.00%\n",
      "最佳验证AUC: 0.5000\n",
      "\n",
      "🔍 在测试集上评估模型...\n",
      "🚀 开始模型评估...\n"
     ]
    },
    {
     "name": "stderr",
     "output_type": "stream",
     "text": [
      "评估进度:   0%|          | 1/201 [00:03<11:47,  3.54s/it]"
     ]
    },
    {
     "name": "stdout",
     "output_type": "stream",
     "text": [
      "🔍 融合特征维度: [2048, 128, 32, 32]\n",
      "✅ 特征融合成功: torch.Size([2, 2240]) -> torch.Size([2, 256])\n"
     ]
    },
    {
     "name": "stderr",
     "output_type": "stream",
     "text": [
      "评估进度:   1%|          | 2/201 [00:19<36:42, 11.07s/it]"
     ]
    },
    {
     "name": "stdout",
     "output_type": "stream",
     "text": [
      "🔍 融合特征维度: [2048, 128, 32, 32]\n",
      "✅ 特征融合成功: torch.Size([2, 2240]) -> torch.Size([2, 256])\n"
     ]
    },
    {
     "name": "stderr",
     "output_type": "stream",
     "text": [
      "评估进度:   1%|▏         | 3/201 [00:29<34:54, 10.58s/it]"
     ]
    },
    {
     "name": "stdout",
     "output_type": "stream",
     "text": [
      "🔍 融合特征维度: [2048, 128, 32, 32]\n",
      "✅ 特征融合成功: torch.Size([2, 2240]) -> torch.Size([2, 256])\n"
     ]
    },
    {
     "name": "stderr",
     "output_type": "stream",
     "text": [
      "评估进度:   2%|▏         | 4/201 [00:34<27:10,  8.28s/it]"
     ]
    },
    {
     "name": "stdout",
     "output_type": "stream",
     "text": [
      "🔍 融合特征维度: [2048, 128, 32, 32]\n",
      "✅ 特征融合成功: torch.Size([2, 2240]) -> torch.Size([2, 256])\n"
     ]
    },
    {
     "name": "stderr",
     "output_type": "stream",
     "text": [
      "评估进度:   2%|▏         | 5/201 [00:45<29:54,  9.16s/it]"
     ]
    },
    {
     "name": "stdout",
     "output_type": "stream",
     "text": [
      "🔍 融合特征维度: [2048, 128, 32, 32]\n",
      "✅ 特征融合成功: torch.Size([2, 2240]) -> torch.Size([2, 256])\n"
     ]
    },
    {
     "name": "stderr",
     "output_type": "stream",
     "text": [
      "评估进度:   3%|▎         | 6/201 [00:55<31:03,  9.56s/it]"
     ]
    },
    {
     "name": "stdout",
     "output_type": "stream",
     "text": [
      "🔍 融合特征维度: [2048, 128, 32, 32]\n",
      "✅ 特征融合成功: torch.Size([2, 2240]) -> torch.Size([2, 256])\n"
     ]
    },
    {
     "name": "stderr",
     "output_type": "stream",
     "text": [
      "评估进度:   3%|▎         | 7/201 [00:59<24:43,  7.65s/it]"
     ]
    },
    {
     "name": "stdout",
     "output_type": "stream",
     "text": [
      "🔍 融合特征维度: [2048, 128, 32, 32]\n",
      "✅ 特征融合成功: torch.Size([2, 2240]) -> torch.Size([2, 256])\n"
     ]
    },
    {
     "name": "stderr",
     "output_type": "stream",
     "text": [
      "评估进度:   4%|▍         | 8/201 [01:12<30:06,  9.36s/it]"
     ]
    },
    {
     "name": "stdout",
     "output_type": "stream",
     "text": [
      "🔍 融合特征维度: [2048, 128, 32, 32]\n",
      "✅ 特征融合成功: torch.Size([2, 2240]) -> torch.Size([2, 256])\n"
     ]
    },
    {
     "name": "stderr",
     "output_type": "stream",
     "text": [
      "评估进度:   4%|▍         | 9/201 [01:20<28:26,  8.89s/it]"
     ]
    },
    {
     "name": "stdout",
     "output_type": "stream",
     "text": [
      "🔍 融合特征维度: [2048, 128, 32, 32]\n",
      "✅ 特征融合成功: torch.Size([2, 2240]) -> torch.Size([2, 256])\n"
     ]
    },
    {
     "name": "stderr",
     "output_type": "stream",
     "text": [
      "评估进度:   5%|▍         | 10/201 [01:24<23:43,  7.45s/it]"
     ]
    },
    {
     "name": "stdout",
     "output_type": "stream",
     "text": [
      "🔍 融合特征维度: [2048, 128, 32, 32]\n",
      "✅ 特征融合成功: torch.Size([2, 2240]) -> torch.Size([2, 256])\n"
     ]
    },
    {
     "name": "stderr",
     "output_type": "stream",
     "text": [
      "评估进度:   5%|▌         | 11/201 [01:31<22:51,  7.22s/it]"
     ]
    },
    {
     "name": "stdout",
     "output_type": "stream",
     "text": [
      "🔍 融合特征维度: [2048, 128, 32, 32]\n",
      "✅ 特征融合成功: torch.Size([2, 2240]) -> torch.Size([2, 256])\n"
     ]
    },
    {
     "name": "stderr",
     "output_type": "stream",
     "text": [
      "评估进度:   6%|▌         | 12/201 [01:35<20:12,  6.42s/it]"
     ]
    },
    {
     "name": "stdout",
     "output_type": "stream",
     "text": [
      "🔍 融合特征维度: [2048, 128, 32, 32]\n",
      "✅ 特征融合成功: torch.Size([2, 2240]) -> torch.Size([2, 256])\n"
     ]
    },
    {
     "name": "stderr",
     "output_type": "stream",
     "text": [
      "评估进度:   6%|▋         | 13/201 [01:49<27:01,  8.63s/it]"
     ]
    },
    {
     "name": "stdout",
     "output_type": "stream",
     "text": [
      "🔍 融合特征维度: [2048, 128, 32, 32]\n",
      "✅ 特征融合成功: torch.Size([2, 2240]) -> torch.Size([2, 256])\n"
     ]
    },
    {
     "name": "stderr",
     "output_type": "stream",
     "text": [
      "评估进度:   7%|▋         | 14/201 [02:03<31:31, 10.11s/it]"
     ]
    },
    {
     "name": "stdout",
     "output_type": "stream",
     "text": [
      "🔍 融合特征维度: [2048, 128, 32, 32]\n",
      "✅ 特征融合成功: torch.Size([2, 2240]) -> torch.Size([2, 256])\n"
     ]
    },
    {
     "name": "stderr",
     "output_type": "stream",
     "text": [
      "评估进度:   7%|▋         | 15/201 [02:16<34:11, 11.03s/it]"
     ]
    },
    {
     "name": "stdout",
     "output_type": "stream",
     "text": [
      "🔍 融合特征维度: [2048, 128, 32, 32]\n",
      "✅ 特征融合成功: torch.Size([2, 2240]) -> torch.Size([2, 256])\n"
     ]
    },
    {
     "name": "stderr",
     "output_type": "stream",
     "text": [
      "评估进度:   8%|▊         | 16/201 [02:23<30:08,  9.78s/it]"
     ]
    },
    {
     "name": "stdout",
     "output_type": "stream",
     "text": [
      "🔍 融合特征维度: [2048, 128, 32, 32]\n",
      "✅ 特征融合成功: torch.Size([2, 2240]) -> torch.Size([2, 256])\n"
     ]
    },
    {
     "name": "stderr",
     "output_type": "stream",
     "text": [
      "评估进度:   8%|▊         | 17/201 [02:33<30:20,  9.89s/it]"
     ]
    },
    {
     "name": "stdout",
     "output_type": "stream",
     "text": [
      "🔍 融合特征维度: [2048, 128, 32, 32]\n",
      "✅ 特征融合成功: torch.Size([2, 2240]) -> torch.Size([2, 256])\n"
     ]
    },
    {
     "name": "stderr",
     "output_type": "stream",
     "text": [
      "评估进度:   9%|▉         | 18/201 [02:39<26:37,  8.73s/it]"
     ]
    },
    {
     "name": "stdout",
     "output_type": "stream",
     "text": [
      "🔍 融合特征维度: [2048, 128, 32, 32]\n",
      "✅ 特征融合成功: torch.Size([2, 2240]) -> torch.Size([2, 256])\n"
     ]
    },
    {
     "name": "stderr",
     "output_type": "stream",
     "text": [
      "评估进度:   9%|▉         | 19/201 [02:46<25:06,  8.28s/it]"
     ]
    },
    {
     "name": "stdout",
     "output_type": "stream",
     "text": [
      "🔍 融合特征维度: [2048, 128, 32, 32]\n",
      "✅ 特征融合成功: torch.Size([2, 2240]) -> torch.Size([2, 256])\n"
     ]
    },
    {
     "name": "stderr",
     "output_type": "stream",
     "text": [
      "评估进度:  10%|▉         | 20/201 [02:54<24:30,  8.12s/it]"
     ]
    },
    {
     "name": "stdout",
     "output_type": "stream",
     "text": [
      "🔍 融合特征维度: [2048, 128, 32, 32]\n",
      "✅ 特征融合成功: torch.Size([2, 2240]) -> torch.Size([2, 256])\n"
     ]
    },
    {
     "name": "stderr",
     "output_type": "stream",
     "text": [
      "评估进度:  10%|█         | 21/201 [03:12<33:20, 11.11s/it]"
     ]
    },
    {
     "name": "stdout",
     "output_type": "stream",
     "text": [
      "🔍 融合特征维度: [2048, 128, 32, 32]\n",
      "✅ 特征融合成功: torch.Size([2, 2240]) -> torch.Size([2, 256])\n"
     ]
    },
    {
     "name": "stderr",
     "output_type": "stream",
     "text": [
      "评估进度:  11%|█         | 22/201 [03:24<33:48, 11.33s/it]"
     ]
    },
    {
     "name": "stdout",
     "output_type": "stream",
     "text": [
      "🔍 融合特征维度: [2048, 128, 32, 32]\n",
      "✅ 特征融合成功: torch.Size([2, 2240]) -> torch.Size([2, 256])\n"
     ]
    },
    {
     "name": "stderr",
     "output_type": "stream",
     "text": [
      "评估进度:  11%|█▏        | 23/201 [03:32<30:38, 10.33s/it]"
     ]
    },
    {
     "name": "stdout",
     "output_type": "stream",
     "text": [
      "🔍 融合特征维度: [2048, 128, 32, 32]\n",
      "✅ 特征融合成功: torch.Size([2, 2240]) -> torch.Size([2, 256])\n"
     ]
    },
    {
     "name": "stderr",
     "output_type": "stream",
     "text": [
      "评估进度:  12%|█▏        | 24/201 [03:35<24:32,  8.32s/it]"
     ]
    },
    {
     "name": "stdout",
     "output_type": "stream",
     "text": [
      "🔍 融合特征维度: [2048, 128, 32, 32]\n",
      "✅ 特征融合成功: torch.Size([2, 2240]) -> torch.Size([2, 256])\n"
     ]
    },
    {
     "name": "stderr",
     "output_type": "stream",
     "text": [
      "评估进度:  12%|█▏        | 25/201 [03:41<22:30,  7.67s/it]"
     ]
    },
    {
     "name": "stdout",
     "output_type": "stream",
     "text": [
      "🔍 融合特征维度: [2048, 128, 32, 32]\n",
      "✅ 特征融合成功: torch.Size([2, 2240]) -> torch.Size([2, 256])\n"
     ]
    },
    {
     "name": "stderr",
     "output_type": "stream",
     "text": [
      "评估进度:  13%|█▎        | 26/201 [03:50<23:33,  8.08s/it]"
     ]
    },
    {
     "name": "stdout",
     "output_type": "stream",
     "text": [
      "🔍 融合特征维度: [2048, 128, 32, 32]\n",
      "✅ 特征融合成功: torch.Size([2, 2240]) -> torch.Size([2, 256])\n"
     ]
    },
    {
     "name": "stderr",
     "output_type": "stream",
     "text": [
      "评估进度:  13%|█▎        | 27/201 [04:03<26:53,  9.27s/it]"
     ]
    },
    {
     "name": "stdout",
     "output_type": "stream",
     "text": [
      "🔍 融合特征维度: [2048, 128, 32, 32]\n",
      "✅ 特征融合成功: torch.Size([2, 2240]) -> torch.Size([2, 256])\n"
     ]
    },
    {
     "name": "stderr",
     "output_type": "stream",
     "text": [
      "评估进度:  14%|█▍        | 28/201 [04:14<28:50, 10.00s/it]"
     ]
    },
    {
     "name": "stdout",
     "output_type": "stream",
     "text": [
      "🔍 融合特征维度: [2048, 128, 32, 32]\n",
      "✅ 特征融合成功: torch.Size([2, 2240]) -> torch.Size([2, 256])\n"
     ]
    },
    {
     "name": "stderr",
     "output_type": "stream",
     "text": [
      "评估进度:  14%|█▍        | 29/201 [04:29<32:30, 11.34s/it]"
     ]
    },
    {
     "name": "stdout",
     "output_type": "stream",
     "text": [
      "🔍 融合特征维度: [2048, 128, 32, 32]\n",
      "✅ 特征融合成功: torch.Size([2, 2240]) -> torch.Size([2, 256])\n"
     ]
    },
    {
     "name": "stderr",
     "output_type": "stream",
     "text": [
      "评估进度:  15%|█▍        | 30/201 [04:38<30:20, 10.65s/it]"
     ]
    },
    {
     "name": "stdout",
     "output_type": "stream",
     "text": [
      "🔍 融合特征维度: [2048, 128, 32, 32]\n",
      "✅ 特征融合成功: torch.Size([2, 2240]) -> torch.Size([2, 256])\n"
     ]
    },
    {
     "name": "stderr",
     "output_type": "stream",
     "text": [
      "评估进度:  15%|█▌        | 31/201 [04:44<26:09,  9.23s/it]"
     ]
    },
    {
     "name": "stdout",
     "output_type": "stream",
     "text": [
      "🔍 融合特征维度: [2048, 128, 32, 32]\n",
      "✅ 特征融合成功: torch.Size([2, 2240]) -> torch.Size([2, 256])\n"
     ]
    },
    {
     "name": "stderr",
     "output_type": "stream",
     "text": [
      "评估进度:  16%|█▌        | 32/201 [05:13<42:51, 15.21s/it]"
     ]
    },
    {
     "name": "stdout",
     "output_type": "stream",
     "text": [
      "🔍 融合特征维度: [2048, 128, 32, 32]\n",
      "✅ 特征融合成功: torch.Size([2, 2240]) -> torch.Size([2, 256])\n"
     ]
    },
    {
     "name": "stderr",
     "output_type": "stream",
     "text": [
      "评估进度:  16%|█▋        | 33/201 [05:22<37:53, 13.53s/it]"
     ]
    },
    {
     "name": "stdout",
     "output_type": "stream",
     "text": [
      "🔍 融合特征维度: [2048, 128, 32, 32]\n",
      "✅ 特征融合成功: torch.Size([2, 2240]) -> torch.Size([2, 256])\n"
     ]
    },
    {
     "name": "stderr",
     "output_type": "stream",
     "text": [
      "评估进度:  17%|█▋        | 34/201 [05:33<35:20, 12.70s/it]"
     ]
    },
    {
     "name": "stdout",
     "output_type": "stream",
     "text": [
      "🔍 融合特征维度: [2048, 128, 32, 32]\n",
      "✅ 特征融合成功: torch.Size([2, 2240]) -> torch.Size([2, 256])\n"
     ]
    },
    {
     "name": "stderr",
     "output_type": "stream",
     "text": [
      "评估进度:  17%|█▋        | 35/201 [05:46<35:22, 12.79s/it]"
     ]
    },
    {
     "name": "stdout",
     "output_type": "stream",
     "text": [
      "🔍 融合特征维度: [2048, 128, 32, 32]\n",
      "✅ 特征融合成功: torch.Size([2, 2240]) -> torch.Size([2, 256])\n"
     ]
    },
    {
     "name": "stderr",
     "output_type": "stream",
     "text": [
      "评估进度:  18%|█▊        | 36/201 [05:54<30:58, 11.27s/it]"
     ]
    },
    {
     "name": "stdout",
     "output_type": "stream",
     "text": [
      "🔍 融合特征维度: [2048, 128, 32, 32]\n",
      "✅ 特征融合成功: torch.Size([2, 2240]) -> torch.Size([2, 256])\n"
     ]
    },
    {
     "name": "stderr",
     "output_type": "stream",
     "text": [
      "评估进度:  18%|█▊        | 37/201 [05:59<26:00,  9.51s/it]"
     ]
    },
    {
     "name": "stdout",
     "output_type": "stream",
     "text": [
      "🔍 融合特征维度: [2048, 128, 32, 32]\n",
      "✅ 特征融合成功: torch.Size([2, 2240]) -> torch.Size([2, 256])\n"
     ]
    },
    {
     "name": "stderr",
     "output_type": "stream",
     "text": [
      "评估进度:  19%|█▉        | 38/201 [06:04<21:48,  8.03s/it]"
     ]
    },
    {
     "name": "stdout",
     "output_type": "stream",
     "text": [
      "🔍 融合特征维度: [2048, 128, 32, 32]\n",
      "✅ 特征融合成功: torch.Size([2, 2240]) -> torch.Size([2, 256])\n"
     ]
    },
    {
     "name": "stderr",
     "output_type": "stream",
     "text": [
      "评估进度:  19%|█▉        | 39/201 [06:14<23:28,  8.70s/it]"
     ]
    },
    {
     "name": "stdout",
     "output_type": "stream",
     "text": [
      "🔍 融合特征维度: [2048, 128, 32, 32]\n",
      "✅ 特征融合成功: torch.Size([2, 2240]) -> torch.Size([2, 256])\n"
     ]
    },
    {
     "name": "stderr",
     "output_type": "stream",
     "text": [
      "评估进度:  20%|█▉        | 40/201 [06:29<28:39, 10.68s/it]"
     ]
    },
    {
     "name": "stdout",
     "output_type": "stream",
     "text": [
      "🔍 融合特征维度: [2048, 128, 32, 32]\n",
      "✅ 特征融合成功: torch.Size([2, 2240]) -> torch.Size([2, 256])\n"
     ]
    },
    {
     "name": "stderr",
     "output_type": "stream",
     "text": [
      "评估进度:  20%|██        | 41/201 [06:41<28:57, 10.86s/it]"
     ]
    },
    {
     "name": "stdout",
     "output_type": "stream",
     "text": [
      "🔍 融合特征维度: [2048, 128, 32, 32]\n",
      "✅ 特征融合成功: torch.Size([2, 2240]) -> torch.Size([2, 256])\n"
     ]
    },
    {
     "name": "stderr",
     "output_type": "stream",
     "text": [
      "评估进度:  21%|██        | 42/201 [06:58<34:06, 12.87s/it]"
     ]
    },
    {
     "name": "stdout",
     "output_type": "stream",
     "text": [
      "🔍 融合特征维度: [2048, 128, 32, 32]\n",
      "✅ 特征融合成功: torch.Size([2, 2240]) -> torch.Size([2, 256])\n"
     ]
    },
    {
     "name": "stderr",
     "output_type": "stream",
     "text": [
      "评估进度:  21%|██▏       | 43/201 [07:07<30:47, 11.69s/it]"
     ]
    },
    {
     "name": "stdout",
     "output_type": "stream",
     "text": [
      "🔍 融合特征维度: [2048, 128, 32, 32]\n",
      "✅ 特征融合成功: torch.Size([2, 2240]) -> torch.Size([2, 256])\n"
     ]
    },
    {
     "name": "stderr",
     "output_type": "stream",
     "text": [
      "评估进度:  22%|██▏       | 44/201 [07:15<27:18, 10.44s/it]"
     ]
    },
    {
     "name": "stdout",
     "output_type": "stream",
     "text": [
      "🔍 融合特征维度: [2048, 128, 32, 32]\n",
      "✅ 特征融合成功: torch.Size([2, 2240]) -> torch.Size([2, 256])\n"
     ]
    },
    {
     "name": "stderr",
     "output_type": "stream",
     "text": [
      "评估进度:  22%|██▏       | 45/201 [07:19<22:34,  8.68s/it]"
     ]
    },
    {
     "name": "stdout",
     "output_type": "stream",
     "text": [
      "🔍 融合特征维度: [2048, 128, 32, 32]\n",
      "✅ 特征融合成功: torch.Size([2, 2240]) -> torch.Size([2, 256])\n"
     ]
    },
    {
     "name": "stderr",
     "output_type": "stream",
     "text": [
      "评估进度:  23%|██▎       | 46/201 [07:33<26:19, 10.19s/it]"
     ]
    },
    {
     "name": "stdout",
     "output_type": "stream",
     "text": [
      "🔍 融合特征维度: [2048, 128, 32, 32]\n",
      "✅ 特征融合成功: torch.Size([2, 2240]) -> torch.Size([2, 256])\n"
     ]
    },
    {
     "name": "stderr",
     "output_type": "stream",
     "text": [
      "评估进度:  23%|██▎       | 47/201 [07:40<23:20,  9.10s/it]"
     ]
    },
    {
     "name": "stdout",
     "output_type": "stream",
     "text": [
      "🔍 融合特征维度: [2048, 128, 32, 32]\n",
      "✅ 特征融合成功: torch.Size([2, 2240]) -> torch.Size([2, 256])\n"
     ]
    },
    {
     "name": "stderr",
     "output_type": "stream",
     "text": [
      "评估进度:  24%|██▍       | 48/201 [07:44<19:38,  7.70s/it]"
     ]
    },
    {
     "name": "stdout",
     "output_type": "stream",
     "text": [
      "🔍 融合特征维度: [2048, 128, 32, 32]\n",
      "✅ 特征融合成功: torch.Size([2, 2240]) -> torch.Size([2, 256])\n"
     ]
    },
    {
     "name": "stderr",
     "output_type": "stream",
     "text": [
      "评估进度:  24%|██▍       | 49/201 [07:57<23:38,  9.33s/it]"
     ]
    },
    {
     "name": "stdout",
     "output_type": "stream",
     "text": [
      "🔍 融合特征维度: [2048, 128, 32, 32]\n",
      "✅ 特征融合成功: torch.Size([2, 2240]) -> torch.Size([2, 256])\n"
     ]
    },
    {
     "name": "stderr",
     "output_type": "stream",
     "text": [
      "评估进度:  25%|██▍       | 50/201 [08:04<21:50,  8.68s/it]"
     ]
    },
    {
     "name": "stdout",
     "output_type": "stream",
     "text": [
      "🔍 融合特征维度: [2048, 128, 32, 32]\n",
      "✅ 特征融合成功: torch.Size([2, 2240]) -> torch.Size([2, 256])\n"
     ]
    },
    {
     "name": "stderr",
     "output_type": "stream",
     "text": [
      "评估进度:  25%|██▌       | 51/201 [08:11<20:21,  8.14s/it]"
     ]
    },
    {
     "name": "stdout",
     "output_type": "stream",
     "text": [
      "🔍 融合特征维度: [2048, 128, 32, 32]\n",
      "✅ 特征融合成功: torch.Size([2, 2240]) -> torch.Size([2, 256])\n"
     ]
    },
    {
     "name": "stderr",
     "output_type": "stream",
     "text": [
      "评估进度:  26%|██▌       | 52/201 [08:28<26:54, 10.84s/it]"
     ]
    },
    {
     "name": "stdout",
     "output_type": "stream",
     "text": [
      "🔍 融合特征维度: [2048, 128, 32, 32]\n",
      "✅ 特征融合成功: torch.Size([2, 2240]) -> torch.Size([2, 256])\n"
     ]
    },
    {
     "name": "stderr",
     "output_type": "stream",
     "text": [
      "评估进度:  26%|██▋       | 53/201 [08:49<33:55, 13.75s/it]"
     ]
    },
    {
     "name": "stdout",
     "output_type": "stream",
     "text": [
      "🔍 融合特征维度: [2048, 128, 32, 32]\n",
      "✅ 特征融合成功: torch.Size([2, 2240]) -> torch.Size([2, 256])\n"
     ]
    },
    {
     "name": "stderr",
     "output_type": "stream",
     "text": [
      "评估进度:  27%|██▋       | 54/201 [08:56<28:39, 11.70s/it]"
     ]
    },
    {
     "name": "stdout",
     "output_type": "stream",
     "text": [
      "🔍 融合特征维度: [2048, 128, 32, 32]\n",
      "✅ 特征融合成功: torch.Size([2, 2240]) -> torch.Size([2, 256])\n"
     ]
    },
    {
     "name": "stderr",
     "output_type": "stream",
     "text": [
      "评估进度:  27%|██▋       | 55/201 [09:03<25:27, 10.46s/it]"
     ]
    },
    {
     "name": "stdout",
     "output_type": "stream",
     "text": [
      "🔍 融合特征维度: [2048, 128, 32, 32]\n",
      "✅ 特征融合成功: torch.Size([2, 2240]) -> torch.Size([2, 256])\n"
     ]
    },
    {
     "name": "stderr",
     "output_type": "stream",
     "text": [
      "评估进度:  28%|██▊       | 56/201 [09:11<23:33,  9.75s/it]"
     ]
    },
    {
     "name": "stdout",
     "output_type": "stream",
     "text": [
      "🔍 融合特征维度: [2048, 128, 32, 32]\n",
      "✅ 特征融合成功: torch.Size([2, 2240]) -> torch.Size([2, 256])\n"
     ]
    },
    {
     "name": "stderr",
     "output_type": "stream",
     "text": [
      "评估进度:  28%|██▊       | 57/201 [09:17<20:15,  8.44s/it]"
     ]
    },
    {
     "name": "stdout",
     "output_type": "stream",
     "text": [
      "🔍 融合特征维度: [2048, 128, 32, 32]\n",
      "✅ 特征融合成功: torch.Size([2, 2240]) -> torch.Size([2, 256])\n"
     ]
    },
    {
     "name": "stderr",
     "output_type": "stream",
     "text": [
      "评估进度:  29%|██▉       | 58/201 [09:21<16:55,  7.10s/it]"
     ]
    },
    {
     "name": "stdout",
     "output_type": "stream",
     "text": [
      "🔍 融合特征维度: [2048, 128, 32, 32]\n",
      "✅ 特征融合成功: torch.Size([2, 2240]) -> torch.Size([2, 256])\n"
     ]
    },
    {
     "name": "stderr",
     "output_type": "stream",
     "text": [
      "评估进度:  29%|██▉       | 59/201 [09:37<23:31,  9.94s/it]"
     ]
    },
    {
     "name": "stdout",
     "output_type": "stream",
     "text": [
      "🔍 融合特征维度: [2048, 128, 32, 32]\n",
      "✅ 特征融合成功: torch.Size([2, 2240]) -> torch.Size([2, 256])\n"
     ]
    },
    {
     "name": "stderr",
     "output_type": "stream",
     "text": [
      "评估进度:  30%|██▉       | 60/201 [09:41<18:53,  8.04s/it]"
     ]
    },
    {
     "name": "stdout",
     "output_type": "stream",
     "text": [
      "🔍 融合特征维度: [2048, 128, 32, 32]\n",
      "✅ 特征融合成功: torch.Size([2, 2240]) -> torch.Size([2, 256])\n"
     ]
    },
    {
     "name": "stderr",
     "output_type": "stream",
     "text": [
      "评估进度:  30%|███       | 61/201 [09:48<17:42,  7.59s/it]"
     ]
    },
    {
     "name": "stdout",
     "output_type": "stream",
     "text": [
      "🔍 融合特征维度: [2048, 128, 32, 32]\n",
      "✅ 特征融合成功: torch.Size([2, 2240]) -> torch.Size([2, 256])\n"
     ]
    },
    {
     "name": "stderr",
     "output_type": "stream",
     "text": [
      "评估进度:  31%|███       | 62/201 [10:07<25:39, 11.08s/it]"
     ]
    },
    {
     "name": "stdout",
     "output_type": "stream",
     "text": [
      "🔍 融合特征维度: [2048, 128, 32, 32]\n",
      "✅ 特征融合成功: torch.Size([2, 2240]) -> torch.Size([2, 256])\n"
     ]
    },
    {
     "name": "stderr",
     "output_type": "stream",
     "text": [
      "评估进度:  31%|███▏      | 63/201 [10:24<29:35, 12.87s/it]"
     ]
    },
    {
     "name": "stdout",
     "output_type": "stream",
     "text": [
      "🔍 融合特征维度: [2048, 128, 32, 32]\n",
      "✅ 特征融合成功: torch.Size([2, 2240]) -> torch.Size([2, 256])\n"
     ]
    },
    {
     "name": "stderr",
     "output_type": "stream",
     "text": [
      "评估进度:  32%|███▏      | 64/201 [10:43<33:45, 14.79s/it]"
     ]
    },
    {
     "name": "stdout",
     "output_type": "stream",
     "text": [
      "🔍 融合特征维度: [2048, 128, 32, 32]\n",
      "✅ 特征融合成功: torch.Size([2, 2240]) -> torch.Size([2, 256])\n"
     ]
    },
    {
     "name": "stderr",
     "output_type": "stream",
     "text": [
      "评估进度:  32%|███▏      | 65/201 [10:49<27:37, 12.19s/it]"
     ]
    },
    {
     "name": "stdout",
     "output_type": "stream",
     "text": [
      "🔍 融合特征维度: [2048, 128, 32, 32]\n",
      "✅ 特征融合成功: torch.Size([2, 2240]) -> torch.Size([2, 256])\n"
     ]
    },
    {
     "name": "stderr",
     "output_type": "stream",
     "text": [
      "评估进度:  33%|███▎      | 66/201 [11:06<30:47, 13.69s/it]"
     ]
    },
    {
     "name": "stdout",
     "output_type": "stream",
     "text": [
      "🔍 融合特征维度: [2048, 128, 32, 32]\n",
      "✅ 特征融合成功: torch.Size([2, 2240]) -> torch.Size([2, 256])\n"
     ]
    },
    {
     "name": "stderr",
     "output_type": "stream",
     "text": [
      "评估进度:  33%|███▎      | 67/201 [11:13<25:38, 11.48s/it]"
     ]
    },
    {
     "name": "stdout",
     "output_type": "stream",
     "text": [
      "🔍 融合特征维度: [2048, 128, 32, 32]\n",
      "✅ 特征融合成功: torch.Size([2, 2240]) -> torch.Size([2, 256])\n"
     ]
    },
    {
     "name": "stderr",
     "output_type": "stream",
     "text": [
      "评估进度:  34%|███▍      | 68/201 [11:34<31:45, 14.33s/it]"
     ]
    },
    {
     "name": "stdout",
     "output_type": "stream",
     "text": [
      "🔍 融合特征维度: [2048, 128, 32, 32]\n",
      "✅ 特征融合成功: torch.Size([2, 2240]) -> torch.Size([2, 256])\n"
     ]
    },
    {
     "name": "stderr",
     "output_type": "stream",
     "text": [
      "评估进度:  34%|███▍      | 69/201 [11:38<25:07, 11.42s/it]"
     ]
    },
    {
     "name": "stdout",
     "output_type": "stream",
     "text": [
      "🔍 融合特征维度: [2048, 128, 32, 32]\n",
      "✅ 特征融合成功: torch.Size([2, 2240]) -> torch.Size([2, 256])\n"
     ]
    },
    {
     "name": "stderr",
     "output_type": "stream",
     "text": [
      "评估进度:  35%|███▍      | 70/201 [11:51<25:27, 11.66s/it]"
     ]
    },
    {
     "name": "stdout",
     "output_type": "stream",
     "text": [
      "🔍 融合特征维度: [2048, 128, 32, 32]\n",
      "✅ 特征融合成功: torch.Size([2, 2240]) -> torch.Size([2, 256])\n"
     ]
    },
    {
     "name": "stderr",
     "output_type": "stream",
     "text": [
      "评估进度:  35%|███▌      | 71/201 [11:58<22:41, 10.48s/it]"
     ]
    },
    {
     "name": "stdout",
     "output_type": "stream",
     "text": [
      "🔍 融合特征维度: [2048, 128, 32, 32]\n",
      "✅ 特征融合成功: torch.Size([2, 2240]) -> torch.Size([2, 256])\n"
     ]
    },
    {
     "name": "stderr",
     "output_type": "stream",
     "text": [
      "评估进度:  36%|███▌      | 72/201 [12:04<19:38,  9.14s/it]"
     ]
    },
    {
     "name": "stdout",
     "output_type": "stream",
     "text": [
      "🔍 融合特征维度: [2048, 128, 32, 32]\n",
      "✅ 特征融合成功: torch.Size([2, 2240]) -> torch.Size([2, 256])\n"
     ]
    },
    {
     "name": "stderr",
     "output_type": "stream",
     "text": [
      "评估进度:  36%|███▋      | 73/201 [12:10<17:25,  8.17s/it]"
     ]
    },
    {
     "name": "stdout",
     "output_type": "stream",
     "text": [
      "🔍 融合特征维度: [2048, 128, 32, 32]\n",
      "✅ 特征融合成功: torch.Size([2, 2240]) -> torch.Size([2, 256])\n"
     ]
    },
    {
     "name": "stderr",
     "output_type": "stream",
     "text": [
      "评估进度:  37%|███▋      | 74/201 [12:31<25:01, 11.82s/it]"
     ]
    },
    {
     "name": "stdout",
     "output_type": "stream",
     "text": [
      "🔍 融合特征维度: [2048, 128, 32, 32]\n",
      "✅ 特征融合成功: torch.Size([2, 2240]) -> torch.Size([2, 256])\n"
     ]
    },
    {
     "name": "stderr",
     "output_type": "stream",
     "text": [
      "评估进度:  37%|███▋      | 75/201 [12:49<28:57, 13.79s/it]"
     ]
    },
    {
     "name": "stdout",
     "output_type": "stream",
     "text": [
      "🔍 融合特征维度: [2048, 128, 32, 32]\n",
      "✅ 特征融合成功: torch.Size([2, 2240]) -> torch.Size([2, 256])\n"
     ]
    },
    {
     "name": "stderr",
     "output_type": "stream",
     "text": [
      "评估进度:  38%|███▊      | 76/201 [12:57<25:04, 12.03s/it]"
     ]
    },
    {
     "name": "stdout",
     "output_type": "stream",
     "text": [
      "🔍 融合特征维度: [2048, 128, 32, 32]\n",
      "✅ 特征融合成功: torch.Size([2, 2240]) -> torch.Size([2, 256])\n"
     ]
    },
    {
     "name": "stderr",
     "output_type": "stream",
     "text": [
      "评估进度:  38%|███▊      | 77/201 [13:04<22:06, 10.70s/it]"
     ]
    },
    {
     "name": "stdout",
     "output_type": "stream",
     "text": [
      "🔍 融合特征维度: [2048, 128, 32, 32]\n",
      "✅ 特征融合成功: torch.Size([2, 2240]) -> torch.Size([2, 256])\n"
     ]
    },
    {
     "name": "stderr",
     "output_type": "stream",
     "text": [
      "评估进度:  39%|███▉      | 78/201 [13:12<19:54,  9.71s/it]"
     ]
    },
    {
     "name": "stdout",
     "output_type": "stream",
     "text": [
      "🔍 融合特征维度: [2048, 128, 32, 32]\n",
      "✅ 特征融合成功: torch.Size([2, 2240]) -> torch.Size([2, 256])\n"
     ]
    },
    {
     "name": "stderr",
     "output_type": "stream",
     "text": [
      "评估进度:  39%|███▉      | 79/201 [13:16<16:22,  8.05s/it]"
     ]
    },
    {
     "name": "stdout",
     "output_type": "stream",
     "text": [
      "🔍 融合特征维度: [2048, 128, 32, 32]\n",
      "✅ 特征融合成功: torch.Size([2, 2240]) -> torch.Size([2, 256])\n"
     ]
    },
    {
     "name": "stderr",
     "output_type": "stream",
     "text": [
      "评估进度:  40%|███▉      | 80/201 [13:27<18:16,  9.06s/it]"
     ]
    },
    {
     "name": "stdout",
     "output_type": "stream",
     "text": [
      "🔍 融合特征维度: [2048, 128, 32, 32]\n",
      "✅ 特征融合成功: torch.Size([2, 2240]) -> torch.Size([2, 256])\n"
     ]
    },
    {
     "name": "stderr",
     "output_type": "stream",
     "text": [
      "评估进度:  40%|████      | 81/201 [13:34<16:35,  8.29s/it]"
     ]
    },
    {
     "name": "stdout",
     "output_type": "stream",
     "text": [
      "🔍 融合特征维度: [2048, 128, 32, 32]\n",
      "✅ 特征融合成功: torch.Size([2, 2240]) -> torch.Size([2, 256])\n"
     ]
    },
    {
     "name": "stderr",
     "output_type": "stream",
     "text": [
      "评估进度:  41%|████      | 82/201 [13:43<16:57,  8.55s/it]"
     ]
    },
    {
     "name": "stdout",
     "output_type": "stream",
     "text": [
      "🔍 融合特征维度: [2048, 128, 32, 32]\n",
      "✅ 特征融合成功: torch.Size([2, 2240]) -> torch.Size([2, 256])\n"
     ]
    },
    {
     "name": "stderr",
     "output_type": "stream",
     "text": [
      "评估进度:  41%|████▏     | 83/201 [13:50<15:49,  8.05s/it]"
     ]
    },
    {
     "name": "stdout",
     "output_type": "stream",
     "text": [
      "🔍 融合特征维度: [2048, 128, 32, 32]\n",
      "✅ 特征融合成功: torch.Size([2, 2240]) -> torch.Size([2, 256])\n"
     ]
    },
    {
     "name": "stderr",
     "output_type": "stream",
     "text": [
      "评估进度:  42%|████▏     | 84/201 [13:53<12:53,  6.61s/it]"
     ]
    },
    {
     "name": "stdout",
     "output_type": "stream",
     "text": [
      "🔍 融合特征维度: [2048, 128, 32, 32]\n",
      "✅ 特征融合成功: torch.Size([2, 2240]) -> torch.Size([2, 256])\n"
     ]
    },
    {
     "name": "stderr",
     "output_type": "stream",
     "text": [
      "评估进度:  42%|████▏     | 85/201 [14:01<13:43,  7.10s/it]"
     ]
    },
    {
     "name": "stdout",
     "output_type": "stream",
     "text": [
      "🔍 融合特征维度: [2048, 128, 32, 32]\n",
      "✅ 特征融合成功: torch.Size([2, 2240]) -> torch.Size([2, 256])\n"
     ]
    },
    {
     "name": "stderr",
     "output_type": "stream",
     "text": [
      "评估进度:  43%|████▎     | 86/201 [14:12<15:43,  8.20s/it]"
     ]
    },
    {
     "name": "stdout",
     "output_type": "stream",
     "text": [
      "🔍 融合特征维度: [2048, 128, 32, 32]\n",
      "✅ 特征融合成功: torch.Size([2, 2240]) -> torch.Size([2, 256])\n"
     ]
    },
    {
     "name": "stderr",
     "output_type": "stream",
     "text": [
      "评估进度:  43%|████▎     | 87/201 [14:18<14:06,  7.43s/it]"
     ]
    },
    {
     "name": "stdout",
     "output_type": "stream",
     "text": [
      "🔍 融合特征维度: [2048, 128, 32, 32]\n",
      "✅ 特征融合成功: torch.Size([2, 2240]) -> torch.Size([2, 256])\n"
     ]
    },
    {
     "name": "stderr",
     "output_type": "stream",
     "text": [
      "评估进度:  44%|████▍     | 88/201 [14:33<18:37,  9.89s/it]"
     ]
    },
    {
     "name": "stdout",
     "output_type": "stream",
     "text": [
      "🔍 融合特征维度: [2048, 128, 32, 32]\n",
      "✅ 特征融合成功: torch.Size([2, 2240]) -> torch.Size([2, 256])\n"
     ]
    },
    {
     "name": "stderr",
     "output_type": "stream",
     "text": [
      "评估进度:  44%|████▍     | 89/201 [14:42<17:43,  9.49s/it]"
     ]
    },
    {
     "name": "stdout",
     "output_type": "stream",
     "text": [
      "🔍 融合特征维度: [2048, 128, 32, 32]\n",
      "✅ 特征融合成功: torch.Size([2, 2240]) -> torch.Size([2, 256])\n"
     ]
    },
    {
     "name": "stderr",
     "output_type": "stream",
     "text": [
      "评估进度:  45%|████▍     | 90/201 [14:54<18:49, 10.18s/it]"
     ]
    },
    {
     "name": "stdout",
     "output_type": "stream",
     "text": [
      "🔍 融合特征维度: [2048, 128, 32, 32]\n",
      "✅ 特征融合成功: torch.Size([2, 2240]) -> torch.Size([2, 256])\n"
     ]
    },
    {
     "name": "stderr",
     "output_type": "stream",
     "text": [
      "评估进度:  45%|████▌     | 91/201 [15:19<26:42, 14.56s/it]"
     ]
    },
    {
     "name": "stdout",
     "output_type": "stream",
     "text": [
      "🔍 融合特征维度: [2048, 128, 32, 32]\n",
      "✅ 特征融合成功: torch.Size([2, 2240]) -> torch.Size([2, 256])\n"
     ]
    },
    {
     "name": "stderr",
     "output_type": "stream",
     "text": [
      "评估进度:  46%|████▌     | 92/201 [15:28<23:47, 13.10s/it]"
     ]
    },
    {
     "name": "stdout",
     "output_type": "stream",
     "text": [
      "🔍 融合特征维度: [2048, 128, 32, 32]\n",
      "✅ 特征融合成功: torch.Size([2, 2240]) -> torch.Size([2, 256])\n"
     ]
    },
    {
     "name": "stderr",
     "output_type": "stream",
     "text": [
      "评估进度:  46%|████▋     | 93/201 [15:38<21:46, 12.09s/it]"
     ]
    },
    {
     "name": "stdout",
     "output_type": "stream",
     "text": [
      "🔍 融合特征维度: [2048, 128, 32, 32]\n",
      "✅ 特征融合成功: torch.Size([2, 2240]) -> torch.Size([2, 256])\n"
     ]
    },
    {
     "name": "stderr",
     "output_type": "stream",
     "text": [
      "评估进度:  47%|████▋     | 94/201 [15:45<18:56, 10.62s/it]"
     ]
    },
    {
     "name": "stdout",
     "output_type": "stream",
     "text": [
      "🔍 融合特征维度: [2048, 128, 32, 32]\n",
      "✅ 特征融合成功: torch.Size([2, 2240]) -> torch.Size([2, 256])\n"
     ]
    },
    {
     "name": "stderr",
     "output_type": "stream",
     "text": [
      "评估进度:  47%|████▋     | 95/201 [16:05<23:33, 13.34s/it]"
     ]
    },
    {
     "name": "stdout",
     "output_type": "stream",
     "text": [
      "🔍 融合特征维度: [2048, 128, 32, 32]\n",
      "✅ 特征融合成功: torch.Size([2, 2240]) -> torch.Size([2, 256])\n"
     ]
    },
    {
     "name": "stderr",
     "output_type": "stream",
     "text": [
      "评估进度:  48%|████▊     | 96/201 [16:14<21:05, 12.06s/it]"
     ]
    },
    {
     "name": "stdout",
     "output_type": "stream",
     "text": [
      "🔍 融合特征维度: [2048, 128, 32, 32]\n",
      "✅ 特征融合成功: torch.Size([2, 2240]) -> torch.Size([2, 256])\n"
     ]
    },
    {
     "name": "stderr",
     "output_type": "stream",
     "text": [
      "评估进度:  48%|████▊     | 97/201 [16:19<17:13,  9.94s/it]"
     ]
    },
    {
     "name": "stdout",
     "output_type": "stream",
     "text": [
      "🔍 融合特征维度: [2048, 128, 32, 32]\n",
      "✅ 特征融合成功: torch.Size([2, 2240]) -> torch.Size([2, 256])\n"
     ]
    },
    {
     "name": "stderr",
     "output_type": "stream",
     "text": [
      "评估进度:  49%|████▉     | 98/201 [16:29<17:09,  9.99s/it]"
     ]
    },
    {
     "name": "stdout",
     "output_type": "stream",
     "text": [
      "🔍 融合特征维度: [2048, 128, 32, 32]\n",
      "✅ 特征融合成功: torch.Size([2, 2240]) -> torch.Size([2, 256])\n"
     ]
    },
    {
     "name": "stderr",
     "output_type": "stream",
     "text": [
      "评估进度:  49%|████▉     | 99/201 [16:37<15:54,  9.35s/it]"
     ]
    },
    {
     "name": "stdout",
     "output_type": "stream",
     "text": [
      "🔍 融合特征维度: [2048, 128, 32, 32]\n",
      "✅ 特征融合成功: torch.Size([2, 2240]) -> torch.Size([2, 256])\n"
     ]
    },
    {
     "name": "stderr",
     "output_type": "stream",
     "text": [
      "评估进度:  50%|████▉     | 100/201 [16:44<14:23,  8.55s/it]"
     ]
    },
    {
     "name": "stdout",
     "output_type": "stream",
     "text": [
      "🔍 融合特征维度: [2048, 128, 32, 32]\n",
      "✅ 特征融合成功: torch.Size([2, 2240]) -> torch.Size([2, 256])\n"
     ]
    },
    {
     "name": "stderr",
     "output_type": "stream",
     "text": [
      "评估进度:  50%|█████     | 101/201 [16:51<13:25,  8.05s/it]"
     ]
    },
    {
     "name": "stdout",
     "output_type": "stream",
     "text": [
      "🔍 融合特征维度: [2048, 128, 32, 32]\n",
      "✅ 特征融合成功: torch.Size([2, 2240]) -> torch.Size([2, 256])\n"
     ]
    },
    {
     "name": "stderr",
     "output_type": "stream",
     "text": [
      "评估进度:  51%|█████     | 102/201 [16:56<11:55,  7.23s/it]"
     ]
    },
    {
     "name": "stdout",
     "output_type": "stream",
     "text": [
      "🔍 融合特征维度: [2048, 128, 32, 32]\n",
      "✅ 特征融合成功: torch.Size([2, 2240]) -> torch.Size([2, 256])\n"
     ]
    },
    {
     "name": "stderr",
     "output_type": "stream",
     "text": [
      "评估进度:  51%|█████     | 103/201 [16:59<09:59,  6.11s/it]"
     ]
    },
    {
     "name": "stdout",
     "output_type": "stream",
     "text": [
      "🔍 融合特征维度: [2048, 128, 32, 32]\n",
      "✅ 特征融合成功: torch.Size([2, 2240]) -> torch.Size([2, 256])\n"
     ]
    },
    {
     "name": "stderr",
     "output_type": "stream",
     "text": [
      "评估进度:  52%|█████▏    | 104/201 [17:04<09:00,  5.58s/it]"
     ]
    },
    {
     "name": "stdout",
     "output_type": "stream",
     "text": [
      "🔍 融合特征维度: [2048, 128, 32, 32]\n",
      "✅ 特征融合成功: torch.Size([2, 2240]) -> torch.Size([2, 256])\n"
     ]
    },
    {
     "name": "stderr",
     "output_type": "stream",
     "text": [
      "评估进度:  52%|█████▏    | 105/201 [17:26<16:52, 10.55s/it]"
     ]
    },
    {
     "name": "stdout",
     "output_type": "stream",
     "text": [
      "🔍 融合特征维度: [2048, 128, 32, 32]\n",
      "✅ 特征融合成功: torch.Size([2, 2240]) -> torch.Size([2, 256])\n"
     ]
    },
    {
     "name": "stderr",
     "output_type": "stream",
     "text": [
      "评估进度:  53%|█████▎    | 106/201 [17:30<13:49,  8.73s/it]"
     ]
    },
    {
     "name": "stdout",
     "output_type": "stream",
     "text": [
      "🔍 融合特征维度: [2048, 128, 32, 32]\n",
      "✅ 特征融合成功: torch.Size([2, 2240]) -> torch.Size([2, 256])\n"
     ]
    },
    {
     "name": "stderr",
     "output_type": "stream",
     "text": [
      "评估进度:  53%|█████▎    | 107/201 [17:38<13:09,  8.40s/it]"
     ]
    },
    {
     "name": "stdout",
     "output_type": "stream",
     "text": [
      "🔍 融合特征维度: [2048, 128, 32, 32]\n",
      "✅ 特征融合成功: torch.Size([2, 2240]) -> torch.Size([2, 256])\n"
     ]
    },
    {
     "name": "stderr",
     "output_type": "stream",
     "text": [
      "评估进度:  54%|█████▎    | 108/201 [17:46<12:51,  8.29s/it]"
     ]
    },
    {
     "name": "stdout",
     "output_type": "stream",
     "text": [
      "🔍 融合特征维度: [2048, 128, 32, 32]\n",
      "✅ 特征融合成功: torch.Size([2, 2240]) -> torch.Size([2, 256])\n"
     ]
    },
    {
     "name": "stderr",
     "output_type": "stream",
     "text": [
      "评估进度:  54%|█████▍    | 109/201 [17:54<12:27,  8.12s/it]"
     ]
    },
    {
     "name": "stdout",
     "output_type": "stream",
     "text": [
      "🔍 融合特征维度: [2048, 128, 32, 32]\n",
      "✅ 特征融合成功: torch.Size([2, 2240]) -> torch.Size([2, 256])\n"
     ]
    },
    {
     "name": "stderr",
     "output_type": "stream",
     "text": [
      "评估进度:  55%|█████▍    | 110/201 [17:58<10:31,  6.94s/it]"
     ]
    },
    {
     "name": "stdout",
     "output_type": "stream",
     "text": [
      "🔍 融合特征维度: [2048, 128, 32, 32]\n",
      "✅ 特征融合成功: torch.Size([2, 2240]) -> torch.Size([2, 256])\n"
     ]
    },
    {
     "name": "stderr",
     "output_type": "stream",
     "text": [
      "评估进度:  55%|█████▌    | 111/201 [18:11<13:01,  8.69s/it]"
     ]
    },
    {
     "name": "stdout",
     "output_type": "stream",
     "text": [
      "🔍 融合特征维度: [2048, 128, 32, 32]\n",
      "✅ 特征融合成功: torch.Size([2, 2240]) -> torch.Size([2, 256])\n"
     ]
    },
    {
     "name": "stderr",
     "output_type": "stream",
     "text": [
      "评估进度:  56%|█████▌    | 112/201 [18:37<20:57, 14.13s/it]"
     ]
    },
    {
     "name": "stdout",
     "output_type": "stream",
     "text": [
      "🔍 融合特征维度: [2048, 128, 32, 32]\n",
      "✅ 特征融合成功: torch.Size([2, 2240]) -> torch.Size([2, 256])\n"
     ]
    },
    {
     "name": "stderr",
     "output_type": "stream",
     "text": [
      "评估进度:  56%|█████▌    | 113/201 [18:44<17:34, 11.98s/it]"
     ]
    },
    {
     "name": "stdout",
     "output_type": "stream",
     "text": [
      "🔍 融合特征维度: [2048, 128, 32, 32]\n",
      "✅ 特征融合成功: torch.Size([2, 2240]) -> torch.Size([2, 256])\n"
     ]
    },
    {
     "name": "stderr",
     "output_type": "stream",
     "text": [
      "评估进度:  57%|█████▋    | 114/201 [18:48<13:37,  9.40s/it]"
     ]
    },
    {
     "name": "stdout",
     "output_type": "stream",
     "text": [
      "🔍 融合特征维度: [2048, 128, 32, 32]\n",
      "✅ 特征融合成功: torch.Size([2, 2240]) -> torch.Size([2, 256])\n"
     ]
    },
    {
     "name": "stderr",
     "output_type": "stream",
     "text": [
      "评估进度:  57%|█████▋    | 115/201 [18:52<11:12,  7.82s/it]"
     ]
    },
    {
     "name": "stdout",
     "output_type": "stream",
     "text": [
      "🔍 融合特征维度: [2048, 128, 32, 32]\n",
      "✅ 特征融合成功: torch.Size([2, 2240]) -> torch.Size([2, 256])\n"
     ]
    },
    {
     "name": "stderr",
     "output_type": "stream",
     "text": [
      "评估进度:  58%|█████▊    | 116/201 [18:58<10:32,  7.44s/it]"
     ]
    },
    {
     "name": "stdout",
     "output_type": "stream",
     "text": [
      "🔍 融合特征维度: [2048, 128, 32, 32]\n",
      "✅ 特征融合成功: torch.Size([2, 2240]) -> torch.Size([2, 256])\n"
     ]
    },
    {
     "name": "stderr",
     "output_type": "stream",
     "text": [
      "评估进度:  58%|█████▊    | 117/201 [19:03<09:21,  6.68s/it]"
     ]
    },
    {
     "name": "stdout",
     "output_type": "stream",
     "text": [
      "🔍 融合特征维度: [2048, 128, 32, 32]\n",
      "✅ 特征融合成功: torch.Size([2, 2240]) -> torch.Size([2, 256])\n"
     ]
    },
    {
     "name": "stderr",
     "output_type": "stream",
     "text": [
      "评估进度:  59%|█████▊    | 118/201 [19:09<08:40,  6.27s/it]"
     ]
    },
    {
     "name": "stdout",
     "output_type": "stream",
     "text": [
      "🔍 融合特征维度: [2048, 128, 32, 32]\n",
      "✅ 特征融合成功: torch.Size([2, 2240]) -> torch.Size([2, 256])\n"
     ]
    },
    {
     "name": "stderr",
     "output_type": "stream",
     "text": [
      "评估进度:  59%|█████▉    | 119/201 [19:31<15:17, 11.18s/it]"
     ]
    },
    {
     "name": "stdout",
     "output_type": "stream",
     "text": [
      "🔍 融合特征维度: [2048, 128, 32, 32]\n",
      "✅ 特征融合成功: torch.Size([2, 2240]) -> torch.Size([2, 256])\n"
     ]
    },
    {
     "name": "stderr",
     "output_type": "stream",
     "text": [
      "评估进度:  60%|█████▉    | 120/201 [19:50<18:01, 13.35s/it]"
     ]
    },
    {
     "name": "stdout",
     "output_type": "stream",
     "text": [
      "🔍 融合特征维度: [2048, 128, 32, 32]\n",
      "✅ 特征融合成功: torch.Size([2, 2240]) -> torch.Size([2, 256])\n"
     ]
    },
    {
     "name": "stderr",
     "output_type": "stream",
     "text": [
      "评估进度:  60%|██████    | 121/201 [19:57<15:32, 11.66s/it]"
     ]
    },
    {
     "name": "stdout",
     "output_type": "stream",
     "text": [
      "🔍 融合特征维度: [2048, 128, 32, 32]\n",
      "✅ 特征融合成功: torch.Size([2, 2240]) -> torch.Size([2, 256])\n"
     ]
    },
    {
     "name": "stderr",
     "output_type": "stream",
     "text": [
      "评估进度:  61%|██████    | 122/201 [20:11<16:04, 12.21s/it]"
     ]
    },
    {
     "name": "stdout",
     "output_type": "stream",
     "text": [
      "🔍 融合特征维度: [2048, 128, 32, 32]\n",
      "✅ 特征融合成功: torch.Size([2, 2240]) -> torch.Size([2, 256])\n"
     ]
    },
    {
     "name": "stderr",
     "output_type": "stream",
     "text": [
      "评估进度:  61%|██████    | 123/201 [20:29<18:07, 13.94s/it]"
     ]
    },
    {
     "name": "stdout",
     "output_type": "stream",
     "text": [
      "🔍 融合特征维度: [2048, 128, 32, 32]\n",
      "✅ 特征融合成功: torch.Size([2, 2240]) -> torch.Size([2, 256])\n"
     ]
    },
    {
     "name": "stderr",
     "output_type": "stream",
     "text": [
      "评估进度:  62%|██████▏   | 124/201 [20:36<15:05, 11.76s/it]"
     ]
    },
    {
     "name": "stdout",
     "output_type": "stream",
     "text": [
      "🔍 融合特征维度: [2048, 128, 32, 32]\n",
      "✅ 特征融合成功: torch.Size([2, 2240]) -> torch.Size([2, 256])\n"
     ]
    },
    {
     "name": "stderr",
     "output_type": "stream",
     "text": [
      "评估进度:  62%|██████▏   | 125/201 [20:45<13:48, 10.91s/it]"
     ]
    },
    {
     "name": "stdout",
     "output_type": "stream",
     "text": [
      "🔍 融合特征维度: [2048, 128, 32, 32]\n",
      "✅ 特征融合成功: torch.Size([2, 2240]) -> torch.Size([2, 256])\n"
     ]
    },
    {
     "name": "stderr",
     "output_type": "stream",
     "text": [
      "评估进度:  63%|██████▎   | 126/201 [20:56<13:43, 10.97s/it]"
     ]
    },
    {
     "name": "stdout",
     "output_type": "stream",
     "text": [
      "🔍 融合特征维度: [2048, 128, 32, 32]\n",
      "✅ 特征融合成功: torch.Size([2, 2240]) -> torch.Size([2, 256])\n"
     ]
    },
    {
     "name": "stderr",
     "output_type": "stream",
     "text": [
      "评估进度:  63%|██████▎   | 127/201 [20:59<10:48,  8.77s/it]"
     ]
    },
    {
     "name": "stdout",
     "output_type": "stream",
     "text": [
      "🔍 融合特征维度: [2048, 128, 32, 32]\n",
      "✅ 特征融合成功: torch.Size([2, 2240]) -> torch.Size([2, 256])\n"
     ]
    },
    {
     "name": "stderr",
     "output_type": "stream",
     "text": [
      "评估进度:  64%|██████▎   | 128/201 [21:05<09:33,  7.85s/it]"
     ]
    },
    {
     "name": "stdout",
     "output_type": "stream",
     "text": [
      "🔍 融合特征维度: [2048, 128, 32, 32]\n",
      "✅ 特征融合成功: torch.Size([2, 2240]) -> torch.Size([2, 256])\n"
     ]
    },
    {
     "name": "stderr",
     "output_type": "stream",
     "text": [
      "评估进度:  64%|██████▍   | 129/201 [21:18<11:24,  9.51s/it]"
     ]
    },
    {
     "name": "stdout",
     "output_type": "stream",
     "text": [
      "🔍 融合特征维度: [2048, 128, 32, 32]\n",
      "✅ 特征融合成功: torch.Size([2, 2240]) -> torch.Size([2, 256])\n"
     ]
    },
    {
     "name": "stderr",
     "output_type": "stream",
     "text": [
      "评估进度:  65%|██████▍   | 130/201 [21:32<12:36, 10.65s/it]"
     ]
    },
    {
     "name": "stdout",
     "output_type": "stream",
     "text": [
      "🔍 融合特征维度: [2048, 128, 32, 32]\n",
      "✅ 特征融合成功: torch.Size([2, 2240]) -> torch.Size([2, 256])\n"
     ]
    },
    {
     "name": "stderr",
     "output_type": "stream",
     "text": [
      "评估进度:  65%|██████▌   | 131/201 [21:40<11:45, 10.08s/it]"
     ]
    },
    {
     "name": "stdout",
     "output_type": "stream",
     "text": [
      "🔍 融合特征维度: [2048, 128, 32, 32]\n",
      "✅ 特征融合成功: torch.Size([2, 2240]) -> torch.Size([2, 256])\n"
     ]
    },
    {
     "name": "stderr",
     "output_type": "stream",
     "text": [
      "评估进度:  66%|██████▌   | 132/201 [21:46<10:08,  8.82s/it]"
     ]
    },
    {
     "name": "stdout",
     "output_type": "stream",
     "text": [
      "🔍 融合特征维度: [2048, 128, 32, 32]\n",
      "✅ 特征融合成功: torch.Size([2, 2240]) -> torch.Size([2, 256])\n"
     ]
    },
    {
     "name": "stderr",
     "output_type": "stream",
     "text": [
      "评估进度:  66%|██████▌   | 133/201 [21:52<09:05,  8.02s/it]"
     ]
    },
    {
     "name": "stdout",
     "output_type": "stream",
     "text": [
      "🔍 融合特征维度: [2048, 128, 32, 32]\n",
      "✅ 特征融合成功: torch.Size([2, 2240]) -> torch.Size([2, 256])\n"
     ]
    },
    {
     "name": "stderr",
     "output_type": "stream",
     "text": [
      "评估进度:  67%|██████▋   | 134/201 [22:02<09:31,  8.52s/it]"
     ]
    },
    {
     "name": "stdout",
     "output_type": "stream",
     "text": [
      "🔍 融合特征维度: [2048, 128, 32, 32]\n",
      "✅ 特征融合成功: torch.Size([2, 2240]) -> torch.Size([2, 256])\n"
     ]
    },
    {
     "name": "stderr",
     "output_type": "stream",
     "text": [
      "评估进度:  67%|██████▋   | 135/201 [22:06<07:54,  7.18s/it]"
     ]
    },
    {
     "name": "stdout",
     "output_type": "stream",
     "text": [
      "🔍 融合特征维度: [2048, 128, 32, 32]\n",
      "✅ 特征融合成功: torch.Size([2, 2240]) -> torch.Size([2, 256])\n"
     ]
    },
    {
     "name": "stderr",
     "output_type": "stream",
     "text": [
      "评估进度:  68%|██████▊   | 136/201 [22:11<07:07,  6.58s/it]"
     ]
    },
    {
     "name": "stdout",
     "output_type": "stream",
     "text": [
      "🔍 融合特征维度: [2048, 128, 32, 32]\n",
      "✅ 特征融合成功: torch.Size([2, 2240]) -> torch.Size([2, 256])\n"
     ]
    },
    {
     "name": "stderr",
     "output_type": "stream",
     "text": [
      "评估进度:  68%|██████▊   | 137/201 [22:15<06:01,  5.64s/it]"
     ]
    },
    {
     "name": "stdout",
     "output_type": "stream",
     "text": [
      "🔍 融合特征维度: [2048, 128, 32, 32]\n",
      "✅ 特征融合成功: torch.Size([2, 2240]) -> torch.Size([2, 256])\n"
     ]
    },
    {
     "name": "stderr",
     "output_type": "stream",
     "text": [
      "评估进度:  69%|██████▊   | 138/201 [22:21<06:12,  5.92s/it]"
     ]
    },
    {
     "name": "stdout",
     "output_type": "stream",
     "text": [
      "🔍 融合特征维度: [2048, 128, 32, 32]\n",
      "✅ 特征融合成功: torch.Size([2, 2240]) -> torch.Size([2, 256])\n"
     ]
    },
    {
     "name": "stderr",
     "output_type": "stream",
     "text": [
      "评估进度:  69%|██████▉   | 139/201 [22:26<05:48,  5.62s/it]"
     ]
    },
    {
     "name": "stdout",
     "output_type": "stream",
     "text": [
      "🔍 融合特征维度: [2048, 128, 32, 32]\n",
      "✅ 特征融合成功: torch.Size([2, 2240]) -> torch.Size([2, 256])\n"
     ]
    },
    {
     "name": "stderr",
     "output_type": "stream",
     "text": [
      "评估进度:  70%|██████▉   | 140/201 [22:39<07:53,  7.76s/it]"
     ]
    },
    {
     "name": "stdout",
     "output_type": "stream",
     "text": [
      "🔍 融合特征维度: [2048, 128, 32, 32]\n",
      "✅ 特征融合成功: torch.Size([2, 2240]) -> torch.Size([2, 256])\n"
     ]
    },
    {
     "name": "stderr",
     "output_type": "stream",
     "text": [
      "评估进度:  70%|███████   | 141/201 [22:46<07:37,  7.63s/it]"
     ]
    },
    {
     "name": "stdout",
     "output_type": "stream",
     "text": [
      "🔍 融合特征维度: [2048, 128, 32, 32]\n",
      "✅ 特征融合成功: torch.Size([2, 2240]) -> torch.Size([2, 256])\n"
     ]
    },
    {
     "name": "stderr",
     "output_type": "stream",
     "text": [
      "评估进度:  71%|███████   | 142/201 [22:57<08:27,  8.60s/it]"
     ]
    },
    {
     "name": "stdout",
     "output_type": "stream",
     "text": [
      "🔍 融合特征维度: [2048, 128, 32, 32]\n",
      "✅ 特征融合成功: torch.Size([2, 2240]) -> torch.Size([2, 256])\n"
     ]
    },
    {
     "name": "stderr",
     "output_type": "stream",
     "text": [
      "评估进度:  71%|███████   | 143/201 [23:07<08:36,  8.91s/it]"
     ]
    },
    {
     "name": "stdout",
     "output_type": "stream",
     "text": [
      "🔍 融合特征维度: [2048, 128, 32, 32]\n",
      "✅ 特征融合成功: torch.Size([2, 2240]) -> torch.Size([2, 256])\n"
     ]
    },
    {
     "name": "stderr",
     "output_type": "stream",
     "text": [
      "评估进度:  72%|███████▏  | 144/201 [23:19<09:22,  9.86s/it]"
     ]
    },
    {
     "name": "stdout",
     "output_type": "stream",
     "text": [
      "🔍 融合特征维度: [2048, 128, 32, 32]\n",
      "✅ 特征融合成功: torch.Size([2, 2240]) -> torch.Size([2, 256])\n"
     ]
    },
    {
     "name": "stderr",
     "output_type": "stream",
     "text": [
      "评估进度:  72%|███████▏  | 145/201 [23:27<08:44,  9.36s/it]"
     ]
    },
    {
     "name": "stdout",
     "output_type": "stream",
     "text": [
      "🔍 融合特征维度: [2048, 128, 32, 32]\n",
      "✅ 特征融合成功: torch.Size([2, 2240]) -> torch.Size([2, 256])\n"
     ]
    },
    {
     "name": "stderr",
     "output_type": "stream",
     "text": [
      "评估进度:  73%|███████▎  | 146/201 [23:35<08:16,  9.03s/it]"
     ]
    },
    {
     "name": "stdout",
     "output_type": "stream",
     "text": [
      "🔍 融合特征维度: [2048, 128, 32, 32]\n",
      "✅ 特征融合成功: torch.Size([2, 2240]) -> torch.Size([2, 256])\n"
     ]
    },
    {
     "name": "stderr",
     "output_type": "stream",
     "text": [
      "评估进度:  73%|███████▎  | 147/201 [23:39<06:38,  7.38s/it]"
     ]
    },
    {
     "name": "stdout",
     "output_type": "stream",
     "text": [
      "🔍 融合特征维度: [2048, 128, 32, 32]\n",
      "✅ 特征融合成功: torch.Size([2, 2240]) -> torch.Size([2, 256])\n"
     ]
    },
    {
     "name": "stderr",
     "output_type": "stream",
     "text": [
      "评估进度:  74%|███████▎  | 148/201 [23:44<05:46,  6.54s/it]"
     ]
    },
    {
     "name": "stdout",
     "output_type": "stream",
     "text": [
      "🔍 融合特征维度: [2048, 128, 32, 32]\n",
      "✅ 特征融合成功: torch.Size([2, 2240]) -> torch.Size([2, 256])\n"
     ]
    },
    {
     "name": "stderr",
     "output_type": "stream",
     "text": [
      "评估进度:  74%|███████▍  | 149/201 [24:10<10:52, 12.55s/it]"
     ]
    },
    {
     "name": "stdout",
     "output_type": "stream",
     "text": [
      "🔍 融合特征维度: [2048, 128, 32, 32]\n",
      "✅ 特征融合成功: torch.Size([2, 2240]) -> torch.Size([2, 256])\n"
     ]
    },
    {
     "name": "stderr",
     "output_type": "stream",
     "text": [
      "评估进度:  75%|███████▍  | 150/201 [24:16<09:03, 10.66s/it]"
     ]
    },
    {
     "name": "stdout",
     "output_type": "stream",
     "text": [
      "🔍 融合特征维度: [2048, 128, 32, 32]\n",
      "✅ 特征融合成功: torch.Size([2, 2240]) -> torch.Size([2, 256])\n"
     ]
    },
    {
     "name": "stderr",
     "output_type": "stream",
     "text": [
      "评估进度:  75%|███████▌  | 151/201 [24:20<07:06,  8.53s/it]"
     ]
    },
    {
     "name": "stdout",
     "output_type": "stream",
     "text": [
      "🔍 融合特征维度: [2048, 128, 32, 32]\n",
      "✅ 特征融合成功: torch.Size([2, 2240]) -> torch.Size([2, 256])\n"
     ]
    },
    {
     "name": "stderr",
     "output_type": "stream",
     "text": [
      "评估进度:  76%|███████▌  | 152/201 [24:24<05:57,  7.30s/it]"
     ]
    },
    {
     "name": "stdout",
     "output_type": "stream",
     "text": [
      "🔍 融合特征维度: [2048, 128, 32, 32]\n",
      "✅ 特征融合成功: torch.Size([2, 2240]) -> torch.Size([2, 256])\n"
     ]
    },
    {
     "name": "stderr",
     "output_type": "stream",
     "text": [
      "评估进度:  76%|███████▌  | 153/201 [24:31<05:38,  7.06s/it]"
     ]
    },
    {
     "name": "stdout",
     "output_type": "stream",
     "text": [
      "🔍 融合特征维度: [2048, 128, 32, 32]\n",
      "✅ 特征融合成功: torch.Size([2, 2240]) -> torch.Size([2, 256])\n"
     ]
    },
    {
     "name": "stderr",
     "output_type": "stream",
     "text": [
      "评估进度:  77%|███████▋  | 154/201 [24:44<06:57,  8.89s/it]"
     ]
    },
    {
     "name": "stdout",
     "output_type": "stream",
     "text": [
      "🔍 融合特征维度: [2048, 128, 32, 32]\n",
      "✅ 特征融合成功: torch.Size([2, 2240]) -> torch.Size([2, 256])\n"
     ]
    },
    {
     "name": "stderr",
     "output_type": "stream",
     "text": [
      "评估进度:  77%|███████▋  | 155/201 [25:06<09:48, 12.79s/it]"
     ]
    },
    {
     "name": "stdout",
     "output_type": "stream",
     "text": [
      "🔍 融合特征维度: [2048, 128, 32, 32]\n",
      "✅ 特征融合成功: torch.Size([2, 2240]) -> torch.Size([2, 256])\n"
     ]
    },
    {
     "name": "stderr",
     "output_type": "stream",
     "text": [
      "评估进度:  78%|███████▊  | 156/201 [25:20<09:47, 13.06s/it]"
     ]
    },
    {
     "name": "stdout",
     "output_type": "stream",
     "text": [
      "🔍 融合特征维度: [2048, 128, 32, 32]\n",
      "✅ 特征融合成功: torch.Size([2, 2240]) -> torch.Size([2, 256])\n"
     ]
    },
    {
     "name": "stderr",
     "output_type": "stream",
     "text": [
      "评估进度:  78%|███████▊  | 157/201 [25:23<07:26, 10.14s/it]"
     ]
    },
    {
     "name": "stdout",
     "output_type": "stream",
     "text": [
      "🔍 融合特征维度: [2048, 128, 32, 32]\n",
      "✅ 特征融合成功: torch.Size([2, 2240]) -> torch.Size([2, 256])\n"
     ]
    },
    {
     "name": "stderr",
     "output_type": "stream",
     "text": [
      "评估进度:  79%|███████▊  | 158/201 [25:33<07:14, 10.11s/it]"
     ]
    },
    {
     "name": "stdout",
     "output_type": "stream",
     "text": [
      "🔍 融合特征维度: [2048, 128, 32, 32]\n",
      "✅ 特征融合成功: torch.Size([2, 2240]) -> torch.Size([2, 256])\n"
     ]
    },
    {
     "name": "stderr",
     "output_type": "stream",
     "text": [
      "评估进度:  79%|███████▉  | 159/201 [25:37<05:48,  8.31s/it]"
     ]
    },
    {
     "name": "stdout",
     "output_type": "stream",
     "text": [
      "🔍 融合特征维度: [2048, 128, 32, 32]\n",
      "✅ 特征融合成功: torch.Size([2, 2240]) -> torch.Size([2, 256])\n"
     ]
    },
    {
     "name": "stderr",
     "output_type": "stream",
     "text": [
      "评估进度:  80%|███████▉  | 160/201 [25:44<05:24,  7.92s/it]"
     ]
    },
    {
     "name": "stdout",
     "output_type": "stream",
     "text": [
      "🔍 融合特征维度: [2048, 128, 32, 32]\n",
      "✅ 特征融合成功: torch.Size([2, 2240]) -> torch.Size([2, 256])\n"
     ]
    },
    {
     "name": "stderr",
     "output_type": "stream",
     "text": [
      "评估进度:  80%|████████  | 161/201 [25:51<05:10,  7.76s/it]"
     ]
    },
    {
     "name": "stdout",
     "output_type": "stream",
     "text": [
      "🔍 融合特征维度: [2048, 128, 32, 32]\n",
      "✅ 特征融合成功: torch.Size([2, 2240]) -> torch.Size([2, 256])\n"
     ]
    },
    {
     "name": "stderr",
     "output_type": "stream",
     "text": [
      "评估进度:  81%|████████  | 162/201 [26:09<06:55, 10.66s/it]"
     ]
    },
    {
     "name": "stdout",
     "output_type": "stream",
     "text": [
      "🔍 融合特征维度: [2048, 128, 32, 32]\n",
      "✅ 特征融合成功: torch.Size([2, 2240]) -> torch.Size([2, 256])\n"
     ]
    },
    {
     "name": "stderr",
     "output_type": "stream",
     "text": [
      "评估进度:  81%|████████  | 163/201 [26:15<05:56,  9.38s/it]"
     ]
    },
    {
     "name": "stdout",
     "output_type": "stream",
     "text": [
      "🔍 融合特征维度: [2048, 128, 32, 32]\n",
      "✅ 特征融合成功: torch.Size([2, 2240]) -> torch.Size([2, 256])\n"
     ]
    },
    {
     "name": "stderr",
     "output_type": "stream",
     "text": [
      "评估进度:  82%|████████▏ | 164/201 [26:19<04:44,  7.69s/it]"
     ]
    },
    {
     "name": "stdout",
     "output_type": "stream",
     "text": [
      "🔍 融合特征维度: [2048, 128, 32, 32]\n",
      "✅ 特征融合成功: torch.Size([2, 2240]) -> torch.Size([2, 256])\n"
     ]
    },
    {
     "name": "stderr",
     "output_type": "stream",
     "text": [
      "评估进度:  82%|████████▏ | 165/201 [26:32<05:32,  9.25s/it]"
     ]
    },
    {
     "name": "stdout",
     "output_type": "stream",
     "text": [
      "🔍 融合特征维度: [2048, 128, 32, 32]\n",
      "✅ 特征融合成功: torch.Size([2, 2240]) -> torch.Size([2, 256])\n"
     ]
    },
    {
     "name": "stderr",
     "output_type": "stream",
     "text": [
      "评估进度:  83%|████████▎ | 166/201 [26:41<05:26,  9.33s/it]"
     ]
    },
    {
     "name": "stdout",
     "output_type": "stream",
     "text": [
      "🔍 融合特征维度: [2048, 128, 32, 32]\n",
      "✅ 特征融合成功: torch.Size([2, 2240]) -> torch.Size([2, 256])\n"
     ]
    },
    {
     "name": "stderr",
     "output_type": "stream",
     "text": [
      "评估进度:  83%|████████▎ | 167/201 [26:49<05:00,  8.85s/it]"
     ]
    },
    {
     "name": "stdout",
     "output_type": "stream",
     "text": [
      "🔍 融合特征维度: [2048, 128, 32, 32]\n",
      "✅ 特征融合成功: torch.Size([2, 2240]) -> torch.Size([2, 256])\n"
     ]
    },
    {
     "name": "stderr",
     "output_type": "stream",
     "text": [
      "评估进度:  84%|████████▎ | 168/201 [26:56<04:31,  8.23s/it]"
     ]
    },
    {
     "name": "stdout",
     "output_type": "stream",
     "text": [
      "🔍 融合特征维度: [2048, 128, 32, 32]\n",
      "✅ 特征融合成功: torch.Size([2, 2240]) -> torch.Size([2, 256])\n"
     ]
    },
    {
     "name": "stderr",
     "output_type": "stream",
     "text": [
      "评估进度:  84%|████████▍ | 169/201 [27:15<06:05, 11.41s/it]"
     ]
    },
    {
     "name": "stdout",
     "output_type": "stream",
     "text": [
      "🔍 融合特征维度: [2048, 128, 32, 32]\n",
      "✅ 特征融合成功: torch.Size([2, 2240]) -> torch.Size([2, 256])\n"
     ]
    },
    {
     "name": "stderr",
     "output_type": "stream",
     "text": [
      "评估进度:  85%|████████▍ | 170/201 [27:22<05:16, 10.22s/it]"
     ]
    },
    {
     "name": "stdout",
     "output_type": "stream",
     "text": [
      "🔍 融合特征维度: [2048, 128, 32, 32]\n",
      "✅ 特征融合成功: torch.Size([2, 2240]) -> torch.Size([2, 256])\n"
     ]
    },
    {
     "name": "stderr",
     "output_type": "stream",
     "text": [
      "评估进度:  85%|████████▌ | 171/201 [27:27<04:14,  8.48s/it]"
     ]
    },
    {
     "name": "stdout",
     "output_type": "stream",
     "text": [
      "🔍 融合特征维度: [2048, 128, 32, 32]\n",
      "✅ 特征融合成功: torch.Size([2, 2240]) -> torch.Size([2, 256])\n"
     ]
    },
    {
     "name": "stderr",
     "output_type": "stream",
     "text": [
      "评估进度:  86%|████████▌ | 172/201 [27:35<04:04,  8.42s/it]"
     ]
    },
    {
     "name": "stdout",
     "output_type": "stream",
     "text": [
      "🔍 融合特征维度: [2048, 128, 32, 32]\n",
      "✅ 特征融合成功: torch.Size([2, 2240]) -> torch.Size([2, 256])\n"
     ]
    },
    {
     "name": "stderr",
     "output_type": "stream",
     "text": [
      "评估进度:  86%|████████▌ | 173/201 [28:00<06:18, 13.51s/it]"
     ]
    },
    {
     "name": "stdout",
     "output_type": "stream",
     "text": [
      "🔍 融合特征维度: [2048, 128, 32, 32]\n",
      "✅ 特征融合成功: torch.Size([2, 2240]) -> torch.Size([2, 256])\n"
     ]
    },
    {
     "name": "stderr",
     "output_type": "stream",
     "text": [
      "评估进度:  87%|████████▋ | 174/201 [28:06<05:03, 11.23s/it]"
     ]
    },
    {
     "name": "stdout",
     "output_type": "stream",
     "text": [
      "🔍 融合特征维度: [2048, 128, 32, 32]\n",
      "✅ 特征融合成功: torch.Size([2, 2240]) -> torch.Size([2, 256])\n"
     ]
    },
    {
     "name": "stderr",
     "output_type": "stream",
     "text": [
      "评估进度:  87%|████████▋ | 175/201 [28:13<04:18,  9.95s/it]"
     ]
    },
    {
     "name": "stdout",
     "output_type": "stream",
     "text": [
      "🔍 融合特征维度: [2048, 128, 32, 32]\n",
      "✅ 特征融合成功: torch.Size([2, 2240]) -> torch.Size([2, 256])\n"
     ]
    },
    {
     "name": "stderr",
     "output_type": "stream",
     "text": [
      "评估进度:  88%|████████▊ | 176/201 [28:17<03:24,  8.16s/it]"
     ]
    },
    {
     "name": "stdout",
     "output_type": "stream",
     "text": [
      "🔍 融合特征维度: [2048, 128, 32, 32]\n",
      "✅ 特征融合成功: torch.Size([2, 2240]) -> torch.Size([2, 256])\n"
     ]
    },
    {
     "name": "stderr",
     "output_type": "stream",
     "text": [
      "评估进度:  88%|████████▊ | 177/201 [28:20<02:37,  6.57s/it]"
     ]
    },
    {
     "name": "stdout",
     "output_type": "stream",
     "text": [
      "🔍 融合特征维度: [2048, 128, 32, 32]\n",
      "✅ 特征融合成功: torch.Size([2, 2240]) -> torch.Size([2, 256])\n"
     ]
    },
    {
     "name": "stderr",
     "output_type": "stream",
     "text": [
      "评估进度:  89%|████████▊ | 178/201 [28:32<03:09,  8.25s/it]"
     ]
    },
    {
     "name": "stdout",
     "output_type": "stream",
     "text": [
      "🔍 融合特征维度: [2048, 128, 32, 32]\n",
      "✅ 特征融合成功: torch.Size([2, 2240]) -> torch.Size([2, 256])\n"
     ]
    },
    {
     "name": "stderr",
     "output_type": "stream",
     "text": [
      "评估进度:  89%|████████▉ | 179/201 [28:40<02:58,  8.10s/it]"
     ]
    },
    {
     "name": "stdout",
     "output_type": "stream",
     "text": [
      "🔍 融合特征维度: [2048, 128, 32, 32]\n",
      "✅ 特征融合成功: torch.Size([2, 2240]) -> torch.Size([2, 256])\n"
     ]
    },
    {
     "name": "stderr",
     "output_type": "stream",
     "text": [
      "评估进度:  90%|████████▉ | 180/201 [28:49<02:56,  8.40s/it]"
     ]
    },
    {
     "name": "stdout",
     "output_type": "stream",
     "text": [
      "🔍 融合特征维度: [2048, 128, 32, 32]\n",
      "✅ 特征融合成功: torch.Size([2, 2240]) -> torch.Size([2, 256])\n"
     ]
    },
    {
     "name": "stderr",
     "output_type": "stream",
     "text": [
      "评估进度:  90%|█████████ | 181/201 [28:54<02:29,  7.47s/it]"
     ]
    },
    {
     "name": "stdout",
     "output_type": "stream",
     "text": [
      "🔍 融合特征维度: [2048, 128, 32, 32]\n",
      "✅ 特征融合成功: torch.Size([2, 2240]) -> torch.Size([2, 256])\n"
     ]
    },
    {
     "name": "stderr",
     "output_type": "stream",
     "text": [
      "评估进度:  91%|█████████ | 182/201 [29:08<02:59,  9.45s/it]"
     ]
    },
    {
     "name": "stdout",
     "output_type": "stream",
     "text": [
      "🔍 融合特征维度: [2048, 128, 32, 32]\n",
      "✅ 特征融合成功: torch.Size([2, 2240]) -> torch.Size([2, 256])\n"
     ]
    },
    {
     "name": "stderr",
     "output_type": "stream",
     "text": [
      "评估进度:  91%|█████████ | 183/201 [29:23<03:16, 10.90s/it]"
     ]
    },
    {
     "name": "stdout",
     "output_type": "stream",
     "text": [
      "🔍 融合特征维度: [2048, 128, 32, 32]\n",
      "✅ 特征融合成功: torch.Size([2, 2240]) -> torch.Size([2, 256])\n"
     ]
    },
    {
     "name": "stderr",
     "output_type": "stream",
     "text": [
      "评估进度:  92%|█████████▏| 184/201 [29:30<02:46,  9.80s/it]"
     ]
    },
    {
     "name": "stdout",
     "output_type": "stream",
     "text": [
      "🔍 融合特征维度: [2048, 128, 32, 32]\n",
      "✅ 特征融合成功: torch.Size([2, 2240]) -> torch.Size([2, 256])\n"
     ]
    },
    {
     "name": "stderr",
     "output_type": "stream",
     "text": [
      "评估进度:  92%|█████████▏| 185/201 [29:34<02:11,  8.21s/it]"
     ]
    },
    {
     "name": "stdout",
     "output_type": "stream",
     "text": [
      "🔍 融合特征维度: [2048, 128, 32, 32]\n",
      "✅ 特征融合成功: torch.Size([2, 2240]) -> torch.Size([2, 256])\n"
     ]
    },
    {
     "name": "stderr",
     "output_type": "stream",
     "text": [
      "评估进度:  93%|█████████▎| 186/201 [29:42<02:00,  8.04s/it]"
     ]
    },
    {
     "name": "stdout",
     "output_type": "stream",
     "text": [
      "🔍 融合特征维度: [2048, 128, 32, 32]\n",
      "✅ 特征融合成功: torch.Size([2, 2240]) -> torch.Size([2, 256])\n"
     ]
    },
    {
     "name": "stderr",
     "output_type": "stream",
     "text": [
      "评估进度:  93%|█████████▎| 187/201 [29:53<02:06,  9.04s/it]"
     ]
    },
    {
     "name": "stdout",
     "output_type": "stream",
     "text": [
      "🔍 融合特征维度: [2048, 128, 32, 32]\n",
      "✅ 特征融合成功: torch.Size([2, 2240]) -> torch.Size([2, 256])\n"
     ]
    },
    {
     "name": "stderr",
     "output_type": "stream",
     "text": [
      "评估进度:  94%|█████████▎| 188/201 [29:58<01:39,  7.64s/it]"
     ]
    },
    {
     "name": "stdout",
     "output_type": "stream",
     "text": [
      "🔍 融合特征维度: [2048, 128, 32, 32]\n",
      "✅ 特征融合成功: torch.Size([2, 2240]) -> torch.Size([2, 256])\n"
     ]
    },
    {
     "name": "stderr",
     "output_type": "stream",
     "text": [
      "评估进度:  94%|█████████▍| 189/201 [30:08<01:41,  8.45s/it]"
     ]
    },
    {
     "name": "stdout",
     "output_type": "stream",
     "text": [
      "🔍 融合特征维度: [2048, 128, 32, 32]\n",
      "✅ 特征融合成功: torch.Size([2, 2240]) -> torch.Size([2, 256])\n"
     ]
    },
    {
     "name": "stderr",
     "output_type": "stream",
     "text": [
      "评估进度:  95%|█████████▍| 190/201 [30:15<01:28,  8.00s/it]"
     ]
    },
    {
     "name": "stdout",
     "output_type": "stream",
     "text": [
      "🔍 融合特征维度: [2048, 128, 32, 32]\n",
      "✅ 特征融合成功: torch.Size([2, 2240]) -> torch.Size([2, 256])\n"
     ]
    },
    {
     "name": "stderr",
     "output_type": "stream",
     "text": [
      "评估进度:  95%|█████████▌| 191/201 [30:22<01:15,  7.56s/it]"
     ]
    },
    {
     "name": "stdout",
     "output_type": "stream",
     "text": [
      "🔍 融合特征维度: [2048, 128, 32, 32]\n",
      "✅ 特征融合成功: torch.Size([2, 2240]) -> torch.Size([2, 256])\n"
     ]
    },
    {
     "name": "stderr",
     "output_type": "stream",
     "text": [
      "评估进度:  96%|█████████▌| 192/201 [30:30<01:10,  7.88s/it]"
     ]
    },
    {
     "name": "stdout",
     "output_type": "stream",
     "text": [
      "🔍 融合特征维度: [2048, 128, 32, 32]\n",
      "✅ 特征融合成功: torch.Size([2, 2240]) -> torch.Size([2, 256])\n"
     ]
    },
    {
     "name": "stderr",
     "output_type": "stream",
     "text": [
      "评估进度:  96%|█████████▌| 193/201 [30:45<01:18,  9.83s/it]"
     ]
    },
    {
     "name": "stdout",
     "output_type": "stream",
     "text": [
      "🔍 融合特征维度: [2048, 128, 32, 32]\n",
      "✅ 特征融合成功: torch.Size([2, 2240]) -> torch.Size([2, 256])\n"
     ]
    },
    {
     "name": "stderr",
     "output_type": "stream",
     "text": [
      "评估进度:  97%|█████████▋| 194/201 [30:49<00:57,  8.22s/it]"
     ]
    },
    {
     "name": "stdout",
     "output_type": "stream",
     "text": [
      "🔍 融合特征维度: [2048, 128, 32, 32]\n",
      "✅ 特征融合成功: torch.Size([2, 2240]) -> torch.Size([2, 256])\n"
     ]
    },
    {
     "name": "stderr",
     "output_type": "stream",
     "text": [
      "评估进度:  97%|█████████▋| 195/201 [30:59<00:52,  8.83s/it]"
     ]
    },
    {
     "name": "stdout",
     "output_type": "stream",
     "text": [
      "🔍 融合特征维度: [2048, 128, 32, 32]\n",
      "✅ 特征融合成功: torch.Size([2, 2240]) -> torch.Size([2, 256])\n"
     ]
    },
    {
     "name": "stderr",
     "output_type": "stream",
     "text": [
      "评估进度:  98%|█████████▊| 196/201 [31:04<00:37,  7.46s/it]"
     ]
    },
    {
     "name": "stdout",
     "output_type": "stream",
     "text": [
      "🔍 融合特征维度: [2048, 128, 32, 32]\n",
      "✅ 特征融合成功: torch.Size([2, 2240]) -> torch.Size([2, 256])\n"
     ]
    },
    {
     "name": "stderr",
     "output_type": "stream",
     "text": [
      "评估进度:  98%|█████████▊| 197/201 [31:15<00:34,  8.71s/it]"
     ]
    },
    {
     "name": "stdout",
     "output_type": "stream",
     "text": [
      "🔍 融合特征维度: [2048, 128, 32, 32]\n",
      "✅ 特征融合成功: torch.Size([2, 2240]) -> torch.Size([2, 256])\n"
     ]
    },
    {
     "name": "stderr",
     "output_type": "stream",
     "text": [
      "评估进度:  99%|█████████▊| 198/201 [31:34<00:35, 11.82s/it]"
     ]
    },
    {
     "name": "stdout",
     "output_type": "stream",
     "text": [
      "🔍 融合特征维度: [2048, 128, 32, 32]\n",
      "✅ 特征融合成功: torch.Size([2, 2240]) -> torch.Size([2, 256])\n"
     ]
    },
    {
     "name": "stderr",
     "output_type": "stream",
     "text": [
      "评估进度:  99%|█████████▉| 199/201 [31:41<00:20, 10.27s/it]"
     ]
    },
    {
     "name": "stdout",
     "output_type": "stream",
     "text": [
      "🔍 融合特征维度: [2048, 128, 32, 32]\n",
      "✅ 特征融合成功: torch.Size([2, 2240]) -> torch.Size([2, 256])\n"
     ]
    },
    {
     "name": "stderr",
     "output_type": "stream",
     "text": [
      "评估进度: 100%|█████████▉| 200/201 [31:47<00:09,  9.00s/it]"
     ]
    },
    {
     "name": "stdout",
     "output_type": "stream",
     "text": [
      "🔍 融合特征维度: [2048, 128, 32, 32]\n",
      "✅ 特征融合成功: torch.Size([2, 2240]) -> torch.Size([2, 256])\n"
     ]
    },
    {
     "name": "stderr",
     "output_type": "stream",
     "text": [
      "评估进度: 100%|██████████| 201/201 [32:00<00:00,  9.55s/it]"
     ]
    },
    {
     "name": "stdout",
     "output_type": "stream",
     "text": [
      "🔍 融合特征维度: [2048, 128, 32, 32]\n",
      "✅ 特征融合成功: torch.Size([2, 2240]) -> torch.Size([2, 256])\n",
      "✅ 评估完成\n",
      "平均损失: 460131.3891\n",
      "平均推理时间: 94.27 ms/batch\n",
      "\n",
      "📈 计算评估指标...\n",
      "\n",
      "📊 详细评估结果:\n",
      "==================================================\n",
      "测试损失: 460131.3891\n",
      "准确率: 0.5000 (50.00%)\n",
      "平衡准确率: 0.5000 (50.00%)\n",
      "精确率: 0.5000\n",
      "召回率: 1.0000\n",
      "特异性: 0.0000\n",
      "F1分数: 0.6667\n",
      "AUC-ROC: 0.5000\n",
      "AUC-PR: 0.7500\n",
      "负预测值: 0.0000\n",
      "\n",
      "🔍 混淆矩阵分析:\n",
      "真负例 (TN): 0\n",
      "假正例 (FP): 201\n",
      "假负例 (FN): 0\n",
      "真正例 (TP): 201\n",
      "\n",
      "⚡ 性能分析:\n",
      "平均推理时间: 94.27 ms/batch\n",
      "总推理时间: 18.95 秒\n",
      "每个样本推理时间: 47.13 ms\n",
      "\n",
      "📋 类别特定分析:\n",
      "总样本数: 402\n",
      "真实视频样本: 201 (50.0%)\n",
      "伪造视频样本: 201 (50.0%)\n",
      "真实视频检测准确率: 0.0000 (0.00%)\n",
      "伪造视频检测准确率: 1.0000 (100.00%)\n",
      "\n",
      "📊 生成评估图表...\n"
     ]
    },
    {
     "name": "stderr",
     "output_type": "stream",
     "text": [
      "\n"
     ]
    },
    {
     "data": {
      "image/png": "[encoded data removed]",
      "text/plain": [
       "<Figure size 1000x800 with 2 Axes>"
      ]
     },
     "metadata": {},
     "output_type": "display_data"
    },
    {
     "name": "stdout",
     "output_type": "stream",
     "text": [
      "混淆矩阵已保存到: ./results/evaluation/confusion_matrix.png\n"
     ]
    },
    {
     "data": {
      "image/png": "[encoded data removed]",
      "text/plain": [
       "<Figure size 1500x600 with 2 Axes>"
      ]
     },
     "metadata": {},
     "output_type": "display_data"
    },
    {
     "name": "stdout",
     "output_type": "stream",
     "text": [
      "ROC/PR曲线已保存到: ./results/evaluation/roc_pr_curves.png\n"
     ]
    },
    {
     "data": {
      "image/png": "[encoded data removed]",
      "text/plain": [
       "<Figure size 1200x500 with 2 Axes>"
      ]
     },
     "metadata": {},
     "output_type": "display_data"
    },
    {
     "name": "stdout",
     "output_type": "stream",
     "text": [
      "✅ 评估图表生成完成\n",
      "\n",
      "============================================================\n",
      "📊 类别不平衡分析报告\n",
      "============================================================\n",
      "\n",
      "📈 数据分布:\n",
      "  真实视频样本: 201\n",
      "  伪造视频样本: 201\n",
      "  不平衡比例: 1.00:1 (伪造:真实)\n",
      "\n",
      "🎯 类别特定准确率:\n",
      "  真实视频检测准确率: 0.00%\n",
      "  伪造视频检测准确率: 100.00%\n",
      "\n",
      "📋 混淆矩阵分析:\n",
      "  真负例 (TN): 0 - 正确识别的真实视频\n",
      "  假正例 (FP): 201 - 误判为伪造的真实视频\n",
      "  假负例 (FN): 0 - 误判为真实的伪造视频\n",
      "  真正例 (TP): 201 - 正确识别的伪造视频\n",
      "\n",
      "⚖️ 模型偏向性分析:\n",
      "  预测为真实的样本: 0 (0.0%)\n",
      "  预测为伪造的样本: 402 (100.0%)\n",
      "\n",
      "🔍 问题诊断:\n",
      "  ❌ 严重问题: 模型几乎无法识别真实视频\n",
      "  ❌ 严重偏向: 模型过度偏向预测伪造视频\n",
      "  ❌ AUC-ROC过低: 模型判别能力接近随机猜测\n",
      "\n",
      "💡 改进建议:\n",
      "  4. 检查数据质量，确保真实视频标签正确\n",
      "  5. 使用成本敏感学习方法\n",
      "  6. 考虑使用SMOTE等过采样技术\n",
      "  7. 重新设计模型架构\n",
      "  8. 增加模型复杂度或使用预训练模型\n",
      "  9. 检查特征提取是否有效\n",
      "============================================================\n",
      "============================================================\n",
      "🎉 模型评估完成！\n",
      "📁 所有结果已保存到 ./results/evaluation/ 目录\n",
      "\n",
      "💡 如果发现严重的类别偏向问题，请参考上述改进建议进行优化\n"
     ]
    }
   ],
   "source": [
    "# Cell 13: 模型评估和结果分析\n",
    "\n",
    "import torch\n",
    "import os\n",
    "\n",
    "print(\"📊 开始模型评估...\")\n",
    "print(\"=\" * 60)\n",
    "\n",
    "# 加载最佳模型\n",
    "print(\"🔄 加载最佳模型...\")\n",
    "try:\n",
    "    # 使用weights_only=False来兼容旧版本的模型文件\n",
    "    checkpoint = torch.load('./models/best_model.pth', map_location=device, weights_only=False)\n",
    "    model.load_state_dict(checkpoint['model_state_dict'])\n",
    "    best_epoch = checkpoint['epoch']\n",
    "    best_val_acc = checkpoint['best_val_acc']\n",
    "    best_val_auc = checkpoint['best_val_auc']\n",
    "    \n",
    "    print(f\"✅ 成功加载第 {best_epoch+1} 轮的最佳模型\")\n",
    "    print(f\"最佳验证准确率: {best_val_acc:.2f}%\")\n",
    "    print(f\"最佳验证AUC: {best_val_auc:.4f}\")\n",
    "except Exception as e:\n",
    "    print(f\"❌ 加载模型失败: {e}\")\n",
    "    print(\"使用当前模型进行评估\")\n",
    "\n",
    "# 在测试集上评估模型\n",
    "print(\"\\n🔍 在测试集上评估模型...\")\n",
    "eval_results = evaluate_model_optimized(model, test_loader, criterion, device)\n",
    "\n",
    "# 计算全面的评估指标\n",
    "print(\"\\n📈 计算评估指标...\")\n",
    "metrics = calculate_comprehensive_metrics(\n",
    "    eval_results['predictions'], \n",
    "    eval_results['targets'], \n",
    "    eval_results['scores']\n",
    ")\n",
    "\n",
    "# 打印详细结果\n",
    "print(\"\\n📊 详细评估结果:\")\n",
    "print(\"=\" * 50)\n",
    "print(f\"测试损失: {eval_results['loss']:.4f}\")\n",
    "print(f\"准确率: {metrics['accuracy']:.4f} ({metrics['accuracy']*100:.2f}%)\")\n",
    "print(f\"平衡准确率: {metrics['balanced_accuracy']:.4f} ({metrics['balanced_accuracy']*100:.2f}%)\")\n",
    "print(f\"精确率: {metrics['precision']:.4f}\")\n",
    "print(f\"召回率: {metrics['recall']:.4f}\")\n",
    "print(f\"特异性: {metrics['specificity']:.4f}\")\n",
    "print(f\"F1分数: {metrics['f1']:.4f}\")\n",
    "print(f\"AUC-ROC: {metrics['auc_roc']:.4f}\")\n",
    "print(f\"AUC-PR: {metrics['auc_pr']:.4f}\")\n",
    "print(f\"负预测值: {metrics['npv']:.4f}\")\n",
    "\n",
    "# 混淆矩阵详细信息\n",
    "print(\"\\n🔍 混淆矩阵分析:\")\n",
    "print(f\"真负例 (TN): {metrics['tn']}\")\n",
    "print(f\"假正例 (FP): {metrics['fp']}\")\n",
    "print(f\"假负例 (FN): {metrics['fn']}\")\n",
    "print(f\"真正例 (TP): {metrics['tp']}\")\n",
    "\n",
    "# 性能分析\n",
    "print(\"\\n⚡ 性能分析:\")\n",
    "print(f\"平均推理时间: {eval_results['avg_inference_time']*1000:.2f} ms/batch\")\n",
    "print(f\"总推理时间: {eval_results['total_inference_time']:.2f} 秒\")\n",
    "print(f\"每个样本推理时间: {eval_results['avg_inference_time']*1000/batch_size:.2f} ms\")\n",
    "\n",
    "# 计算额外指标\n",
    "total_samples = len(eval_results['targets'])\n",
    "real_samples = np.sum(eval_results['targets'] == 0)\n",
    "fake_samples = np.sum(eval_results['targets'] == 1)\n",
    "real_accuracy = np.sum((eval_results['predictions'] == 0) & (eval_results['targets'] == 0)) / real_samples if real_samples > 0 else 0\n",
    "fake_accuracy = np.sum((eval_results['predictions'] == 1) & (eval_results['targets'] == 1)) / fake_samples if fake_samples > 0 else 0\n",
    "\n",
    "print(\"\\n📋 类别特定分析:\")\n",
    "print(f\"总样本数: {total_samples}\")\n",
    "print(f\"真实视频样本: {real_samples} ({real_samples/total_samples*100:.1f}%)\")\n",
    "print(f\"伪造视频样本: {fake_samples} ({fake_samples/total_samples*100:.1f}%)\")\n",
    "print(f\"真实视频检测准确率: {real_accuracy:.4f} ({real_accuracy*100:.2f}%)\")\n",
    "print(f\"伪造视频检测准确率: {fake_accuracy:.4f} ({fake_accuracy*100:.2f}%)\")\n",
    "\n",
    "# 生成可视化图表\n",
    "print(\"\\n📊 生成评估图表...\")\n",
    "\n",
    "# 确保结果目录存在\n",
    "os.makedirs('./results/evaluation', exist_ok=True)\n",
    "\n",
    "# 绘制增强混淆矩阵\n",
    "plot_enhanced_confusion_matrix(\n",
    "    metrics['confusion_matrix'], \n",
    "    './results/evaluation/confusion_matrix.png'\n",
    ")\n",
    "\n",
    "# 绘制ROC和PR曲线\n",
    "plot_roc_pr_curves(\n",
    "    eval_results['targets'], \n",
    "    eval_results['scores'], \n",
    "    './results/evaluation/roc_pr_curves.png'\n",
    ")\n",
    "\n",
    "# 预测分数分布图\n",
    "plt.figure(figsize=(12, 5))\n",
    "\n",
    "# 真实视频的预测分数分布\n",
    "plt.subplot(1, 2, 1)\n",
    "real_scores = eval_results['scores'][eval_results['targets'] == 0]\n",
    "fake_scores = eval_results['scores'][eval_results['targets'] == 1]\n",
    "\n",
    "plt.hist(real_scores, bins=30, alpha=0.7, label='真实视频', color='blue', density=True)\n",
    "plt.hist(fake_scores, bins=30, alpha=0.7, label='伪造视频', color='red', density=True)\n",
    "plt.xlabel('预测分数')\n",
    "plt.ylabel('密度')\n",
    "plt.title('预测分数分布')\n",
    "plt.legend()\n",
    "plt.grid(True, alpha=0.3)\n",
    "\n",
    "# 预测分数箱线图\n",
    "plt.subplot(1, 2, 2)\n",
    "scores_data = [real_scores, fake_scores]\n",
    "labels = ['真实视频', '伪造视频']\n",
    "plt.boxplot(scores_data, labels=labels)\n",
    "plt.ylabel('预测分数')\n",
    "plt.title('预测分数箱线图')\n",
    "plt.grid(True, alpha=0.3)\n",
    "\n",
    "plt.tight_layout()\n",
    "plt.savefig('./results/evaluation/score_distribution.png', dpi=300, bbox_inches='tight')\n",
    "plt.show()\n",
    "\n",
    "print(\"✅ 评估图表生成完成\")\n",
    "\n",
    "# 生成详细的类别不平衡分析报告\n",
    "generate_class_imbalance_report(metrics)\n",
    "\n",
    "print(\"=\" * 60)\n",
    "print(\"🎉 模型评估完成！\")\n",
    "print(\"📁 所有结果已保存到 ./results/evaluation/ 目录\")\n",
    "print(\"\\n💡 如果发现严重的类别偏向问题，请参考上述改进建议进行优化\")"
   ]
  },
  {
   "cell_type": "markdown",
   "id": "c4429f4a",
   "metadata": {
    "papermill": {
     "duration": 0.197763,
     "end_time": "2025-07-24T17:58:29.263431",
     "exception": false,
     "start_time": "2025-07-24T17:58:29.065668",
     "status": "completed"
    },
    "tags": []
   },
   "source": [
    "# Cell 14: 结果保存和总结\n"
   ]
  },
  {
   "cell_type": "code",
   "execution_count": 15,
   "id": "7e896e65",
   "metadata": {
    "execution": {
     "iopub.execute_input": "2025-07-24T17:58:29.678571Z",
     "iopub.status.busy": "2025-07-24T17:58:29.677821Z",
     "iopub.status.idle": "2025-07-24T17:58:29.704102Z",
     "shell.execute_reply": "2025-07-24T17:58:29.703306Z"
    },
    "papermill": {
     "duration": 0.240338,
     "end_time": "2025-07-24T17:58:29.705698",
     "exception": false,
     "start_time": "2025-07-24T17:58:29.465360",
     "status": "completed"
    },
    "tags": []
   },
   "outputs": [
    {
     "name": "stdout",
     "output_type": "stream",
     "text": [
      "💾 保存实验结果...\n",
      "============================================================\n",
      "✅ 实验结果已保存到: ./results/experiment_results.json\n",
      "✅ 训练历史已保存到: ./results/training_history.csv\n",
      "✅ 测试预测结果已保存到: ./results/test_predictions.csv\n",
      "\n",
      "📋 生成实验报告...\n",
      "✅ 实验报告已保存到: ./results/experiment_report.txt\n",
      "\n",
      "============================================================\n",
      "🎉 深度伪造检测模型训练和评估完成！\n",
      "============================================================\n",
      "📊 最终测试准确率: 50.00%\n",
      "📊 AUC-ROC分数: 0.5000\n",
      "📊 F1分数: 0.6667\n",
      "\n",
      "📁 所有结果文件已保存到 ./results/ 目录\n",
      "📁 最佳模型已保存到 ./models/best_model.pth\n",
      "\n",
      "✨ 实验成功完成！\n",
      "============================================================\n",
      "\n",
      "📂 生成的文件结构:\n",
      "\n",
      "./models/\n",
      "  └── best_model.pth\n",
      "./results/\n",
      "  ├── experiment_results.json\n",
      "  ├── experiment_report.txt\n",
      "  ├── training_history.csv\n",
      "  └── test_predictions.csv\n",
      "\n",
      "\n",
      "🚀 可以使用以下代码加载训练好的模型进行推理:\n",
      "\n",
      "# 加载模型\n",
      "model = OptimizedDeepfakeDetector(...)\n",
      "checkpoint = torch.load('./models/best_model.pth', weights_only=False)\n",
      "model.load_state_dict(checkpoint['model_state_dict'])\n",
      "model.eval()\n",
      "\n",
      "\n",
      "✅ Kaggle T4 GPU优化版本 - 训练完成！\n"
     ]
    }
   ],
   "source": [
    "# Cell 14: 结果保存和总结\n",
    "\n",
    "import os\n",
    "import torch\n",
    "import pandas as pd\n",
    "from datetime import datetime\n",
    "\n",
    "print(\"💾 保存实验结果...\")\n",
    "print(\"=\" * 60)\n",
    "\n",
    "# 确保结果目录存在\n",
    "os.makedirs('./results', exist_ok=True)\n",
    "\n",
    "# 准备保存的结果数据\n",
    "results_summary = {\n",
    "    'experiment_info': {\n",
    "        'timestamp': datetime.now().isoformat(),\n",
    "        'model_architecture': 'OptimizedDeepfakeDetector',\n",
    "        'backbone': 'resnet50',\n",
    "        'total_epochs': len(train_history['train_loss']),\n",
    "        'early_stopping': True\n",
    "    },\n",
    "    'dataset_info': {\n",
    "        'train_samples': len(train_dataset),\n",
    "        'val_samples': len(val_dataset),\n",
    "        'test_samples': len(test_dataset),\n",
    "        'batch_size': batch_size\n",
    "    },\n",
    "    'training_config': {\n",
    "        'optimizer': 'AdamW',\n",
    "        'learning_rate': 1e-4,\n",
    "        'weight_decay': 1e-4,\n",
    "        'loss_function': 'FocalLoss',\n",
    "        'scheduler': 'OneCycleLR',\n",
    "        'early_stopping_patience': 7\n",
    "    },\n",
    "    'final_metrics': {\n",
    "        'test_loss': float(eval_results['loss']),\n",
    "        'accuracy': float(metrics['accuracy']),\n",
    "        'precision': float(metrics['precision']),\n",
    "        'recall': float(metrics['recall']),\n",
    "        'f1_score': float(metrics['f1']),\n",
    "        'auc_roc': float(metrics['auc_roc'])\n",
    "    },\n",
    "    'confusion_matrix': {\n",
    "        'tn': int(metrics['tn']),\n",
    "        'fp': int(metrics['fp']),\n",
    "        'fn': int(metrics['fn']),\n",
    "        'tp': int(metrics['tp'])\n",
    "    },\n",
    "    'training_history': {\n",
    "        'train_loss': [float(x) for x in train_history['train_loss']],\n",
    "        'train_acc': [float(x) for x in train_history['train_acc']],\n",
    "        'val_loss': [float(x) for x in train_history['val_loss']],\n",
    "        'val_acc': [float(x) for x in train_history['val_acc']],\n",
    "        'val_auc': [float(x) for x in train_history['val_auc']],\n",
    "        'val_precision': [float(x) for x in train_history.get('val_precision', [])],\n",
    "        'val_recall': [float(x) for x in train_history.get('val_recall', [])],\n",
    "        'val_f1': [float(x) for x in train_history.get('val_f1', [])]\n",
    "    },\n",
    "    'class_specific_metrics': {\n",
    "        'real_video_accuracy': float(real_accuracy),\n",
    "        'fake_video_accuracy': float(fake_accuracy),\n",
    "        'real_samples_count': int(real_samples),\n",
    "        'fake_samples_count': int(fake_samples)\n",
    "    }\n",
    "}\n",
    "\n",
    "# 保存结果到JSON文件\n",
    "results_file = './results/experiment_results.json'\n",
    "with open(results_file, 'w', encoding='utf-8') as f:\n",
    "    json.dump(results_summary, f, indent=2, ensure_ascii=False)\n",
    "\n",
    "print(f\"✅ 实验结果已保存到: {results_file}\")\n",
    "\n",
    "# 保存训练历史到CSV\n",
    "history_df = pd.DataFrame(train_history)\n",
    "history_df.to_csv('./results/training_history.csv', index=False)\n",
    "print(\"✅ 训练历史已保存到: ./results/training_history.csv\")\n",
    "\n",
    "# 保存预测结果\n",
    "predictions_df = pd.DataFrame({\n",
    "    'true_label': eval_results['targets'],\n",
    "    'predicted_label': eval_results['predictions'],\n",
    "    'prediction_score': eval_results['scores']\n",
    "})\n",
    "predictions_df.to_csv('./results/test_predictions.csv', index=False)\n",
    "print(\"✅ 测试预测结果已保存到: ./results/test_predictions.csv\")\n",
    "\n",
    "# 生成实验报告\n",
    "print(\"\\n📋 生成实验报告...\")\n",
    "report = f\"\"\"\n",
    "深度伪造检测模型实验报告\n",
    "{'='*50}\n",
    "\n",
    "实验时间: {datetime.now().strftime('%Y-%m-%d %H:%M:%S')}\n",
    "模型架构: OptimizedDeepfakeDetector (ResNet50 + LSTM + Attention)\n",
    "\n",
    "数据集信息:\n",
    "- 训练样本: {len(train_dataset):,}\n",
    "- 验证样本: {len(val_dataset):,}\n",
    "- 测试样本: {len(test_dataset):,}\n",
    "- 批次大小: {batch_size}\n",
    "\n",
    "训练配置:\n",
    "- 优化器: AdamW (lr=1e-4, weight_decay=1e-4)\n",
    "- 损失函数: Focal Loss\n",
    "- 学习率调度: OneCycleLR\n",
    "- 早停机制: patience=7\n",
    "\n",
    "最终性能指标:\n",
    "- 准确率: {metrics['accuracy']*100:.2f}%\n",
    "- 精确率: {metrics['precision']:.4f}\n",
    "- 召回率: {metrics['recall']:.4f}\n",
    "- F1分数: {metrics['f1']:.4f}\n",
    "- AUC-ROC: {metrics['auc_roc']:.4f}\n",
    "\n",
    "混淆矩阵:\n",
    "- 真负例 (TN): {metrics['tn']}\n",
    "- 假正例 (FP): {metrics['fp']}\n",
    "- 假负例 (FN): {metrics['fn']}\n",
    "- 真正例 (TP): {metrics['tp']}\n",
    "\n",
    "类别特定性能:\n",
    "- 真实视频检测准确率: {real_accuracy*100:.2f}%\n",
    "- 伪造视频检测准确率: {fake_accuracy*100:.2f}%\n",
    "\n",
    "训练总结:\n",
    "- 训练轮数: {len(train_history['train_loss'])}\n",
    "- 最佳验证准确率: {max(train_history['val_acc']):.2f}%\n",
    "- 最佳验证AUC: {max(train_history['val_auc']):.4f}\n",
    "\n",
    "文件输出:\n",
    "- 模型权重: ./models/best_model.pth\n",
    "- 实验结果: ./results/experiment_results.json\n",
    "- 训练历史: ./results/training_history.csv\n",
    "- 预测结果: ./results/test_predictions.csv\n",
    "\n",
    "{'='*50}\n",
    "实验完成时间: {datetime.now().strftime('%Y-%m-%d %H:%M:%S')}\n",
    "\"\"\"\n",
    "\n",
    "# 保存报告\n",
    "with open('./results/experiment_report.txt', 'w', encoding='utf-8') as f:\n",
    "    f.write(report)\n",
    "\n",
    "print(\"✅ 实验报告已保存到: ./results/experiment_report.txt\")\n",
    "\n",
    "# 打印最终总结\n",
    "print(\"\\n\" + \"=\"*60)\n",
    "print(\"🎉 深度伪造检测模型训练和评估完成！\")\n",
    "print(\"=\"*60)\n",
    "print(f\"📊 最终测试准确率: {metrics['accuracy']*100:.2f}%\")\n",
    "print(f\"📊 AUC-ROC分数: {metrics['auc_roc']:.4f}\")\n",
    "print(f\"📊 F1分数: {metrics['f1']:.4f}\")\n",
    "print(\"\\n📁 所有结果文件已保存到 ./results/ 目录\")\n",
    "print(\"📁 最佳模型已保存到 ./models/best_model.pth\")\n",
    "print(\"\\n✨ 实验成功完成！\")\n",
    "print(\"=\"*60)\n",
    "\n",
    "# 显示文件结构\n",
    "print(\"\\n📂 生成的文件结构:\")\n",
    "print(\"\"\"\n",
    "./models/\n",
    "  └── best_model.pth\n",
    "./results/\n",
    "  ├── experiment_results.json\n",
    "  ├── experiment_report.txt\n",
    "  ├── training_history.csv\n",
    "  └── test_predictions.csv\n",
    "\"\"\")\n",
    "\n",
    "print(\"\\n🚀 可以使用以下代码加载训练好的模型进行推理:\")\n",
    "print(\"\"\"\n",
    "# 加载模型\n",
    "model = OptimizedDeepfakeDetector(...)\n",
    "checkpoint = torch.load('./models/best_model.pth', weights_only=False)\n",
    "model.load_state_dict(checkpoint['model_state_dict'])\n",
    "model.eval()\n",
    "\"\"\")\n",
    "\n",
    "print(\"\\n✅ Kaggle T4 GPU优化版本 - 训练完成！\")"
   ]
  }
 ],
 "metadata": {
  "kaggle": {
   "accelerator": "nvidiaTeslaT4",
   "dataSources": [
    {
     "datasetId": 6248577,
     "sourceId": 10125851,
     "sourceType": "datasetVersion"
    }
   ],
   "dockerImageVersionId": 31041,
   "isGpuEnabled": true,
   "isInternetEnabled": true,
   "language": "python",
   "sourceType": "notebook"
  },
  "kernelspec": {
   "display_name": "Python 3",
   "language": "python",
   "name": "python3"
  },
  "language_info": {
   "codemirror_mode": {
    "name": "ipython",
    "version": 3
   },
   "file_extension": ".py",
   "mimetype": "text/x-python",
   "name": "python",
   "nbconvert_exporter": "python",
   "pygments_lexer": "ipython3",
   "version": "3.11.11"
  },
  "papermill": {
   "default_parameters": {},
   "duration": 19109.285169,
   "end_time": "2025-07-24T17:58:33.757651",
   "environment_variables": {},
   "exception": null,
   "input_path": "__notebook__.ipynb",
   "output_path": "__notebook__.ipynb",
   "parameters": {},
   "start_time": "2025-07-24T12:40:04.472482",
   "version": "2.6.0"
  }
 },
 "nbformat": 4,
 "nbformat_minor": 5
}
