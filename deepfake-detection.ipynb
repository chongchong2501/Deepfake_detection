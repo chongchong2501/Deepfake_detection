{
 "cells": [
  {
   "cell_type": "code",
   "execution_count": 1,
   "id": "424e5fa5",
   "metadata": {
    "execution": {
     "iopub.execute_input": "2025-07-30T12:22:18.592884Z",
     "iopub.status.busy": "2025-07-30T12:22:18.592681Z",
     "iopub.status.idle": "2025-07-30T12:22:29.265568Z",
     "shell.execute_reply": "2025-07-30T12:22:29.264583Z"
    },
    "papermill": {
     "duration": 10.684001,
     "end_time": "2025-07-30T12:22:29.267168",
     "exception": false,
     "start_time": "2025-07-30T12:22:18.583167",
     "status": "completed"
    },
    "tags": []
   },
   "outputs": [
    {
     "name": "stdout",
     "output_type": "stream",
     "text": [
      "Collecting av\r\n",
      "  Downloading av-15.0.0-cp311-cp311-manylinux_2_28_x86_64.whl.metadata (4.6 kB)\r\n",
      "Downloading av-15.0.0-cp311-cp311-manylinux_2_28_x86_64.whl (39.7 MB)\r\n",
      "\u001b[2K   \u001b[90m━━━━━━━━━━━━━━━━━━━━━━━━━━━━━━━━━━━━━━━━\u001b[0m \u001b[32m39.7/39.7 MB\u001b[0m \u001b[31m43.5 MB/s\u001b[0m eta \u001b[36m0:00:00\u001b[0m\r\n",
      "\u001b[?25hInstalling collected packages: av\r\n",
      "Successfully installed av-15.0.0\r\n",
      "Collecting mtcnn\r\n",
      "  Downloading mtcnn-1.0.0-py3-none-any.whl.metadata (5.8 kB)\r\n",
      "Requirement already satisfied: joblib>=1.4.2 in /usr/local/lib/python3.11/dist-packages (from mtcnn) (1.5.0)\r\n",
      "Collecting lz4>=4.3.3 (from mtcnn)\r\n",
      "  Downloading lz4-4.4.4-cp311-cp311-manylinux_2_17_x86_64.manylinux2014_x86_64.whl.metadata (3.8 kB)\r\n",
      "Downloading mtcnn-1.0.0-py3-none-any.whl (1.9 MB)\r\n",
      "\u001b[2K   \u001b[90m━━━━━━━━━━━━━━━━━━━━━━━━━━━━━━━━━━━━━━━━\u001b[0m \u001b[32m1.9/1.9 MB\u001b[0m \u001b[31m23.7 MB/s\u001b[0m eta \u001b[36m0:00:00\u001b[0m\r\n",
      "\u001b[?25hDownloading lz4-4.4.4-cp311-cp311-manylinux_2_17_x86_64.manylinux2014_x86_64.whl (1.3 MB)\r\n",
      "\u001b[2K   \u001b[90m━━━━━━━━━━━━━━━━━━━━━━━━━━━━━━━━━━━━━━━━\u001b[0m \u001b[32m1.3/1.3 MB\u001b[0m \u001b[31m48.6 MB/s\u001b[0m eta \u001b[36m0:00:00\u001b[0m\r\n",
      "\u001b[?25hInstalling collected packages: lz4, mtcnn\r\n",
      "Successfully installed lz4-4.4.4 mtcnn-1.0.0\r\n"
     ]
    }
   ],
   "source": [
    "!pip install av\n",
    "!pip install mtcnn"
   ]
  },
  {
   "cell_type": "code",
   "execution_count": 2,
   "id": "eeb49137",
   "metadata": {
    "_cell_guid": "4883bd2d-9463-4607-9e61-df4d76492a78",
    "_uuid": "f6ebcf0d-d34a-4e53-b9c4-c85254661e41",
    "execution": {
     "iopub.execute_input": "2025-07-30T12:22:29.286570Z",
     "iopub.status.busy": "2025-07-30T12:22:29.286181Z",
     "iopub.status.idle": "2025-07-30T12:23:08.001112Z",
     "shell.execute_reply": "2025-07-30T12:23:08.000206Z"
    },
    "jupyter": {
     "source_hidden": true
    },
    "papermill": {
     "duration": 38.726581,
     "end_time": "2025-07-30T12:23:08.002582",
     "exception": false,
     "start_time": "2025-07-30T12:22:29.276001",
     "status": "completed"
    },
    "tags": []
   },
   "outputs": [
    {
     "name": "stdout",
     "output_type": "stream",
     "text": [
      "🚀 CUDA已初始化，检测到 2 个GPU设备\n",
      "   - GPU 0: Tesla T4 (14.7 GB)\n",
      "   - GPU 1: Tesla T4 (14.7 GB)\n"
     ]
    },
    {
     "name": "stderr",
     "output_type": "stream",
     "text": [
      "WARNING: All log messages before absl::InitializeLog() is called are written to STDERR\n",
      "E0000 00:00:1753878171.655918      19 cuda_dnn.cc:8310] Unable to register cuDNN factory: Attempting to register factory for plugin cuDNN when one has already been registered\n",
      "E0000 00:00:1753878171.766094      19 cuda_blas.cc:1418] Unable to register cuBLAS factory: Attempting to register factory for plugin cuBLAS when one has already been registered\n"
     ]
    },
    {
     "name": "stdout",
     "output_type": "stream",
     "text": [
      "✅ MTCNN已安装，支持高精度人脸检测\n",
      "   - 人脸检测精度: 高\n",
      "   - 检测置信度阈值: 0.9\n",
      "   - API版本: 新版本 (v1.0.0+)\n",
      "   - TensorFlow警告已抑制\n",
      "✅ PyAV已安装，支持GPU视频处理\n",
      "✅ SciPy已安装，支持频域分析\n",
      "✅ 所有库导入完成\n"
     ]
    }
   ],
   "source": [
    "# Cell 1: 导入库和环境设置\n",
    "\n",
    "# 抑制CUDA和TensorFlow警告信息\n",
    "import os\n",
    "import warnings\n",
    "\n",
    "# 设置环境变量 - 必须在导入TensorFlow之前设置\n",
    "os.environ['TF_CPP_MIN_LOG_LEVEL'] = '3'  # 抑制所有TensorFlow日志 (0=全部, 1=INFO, 2=WARNING, 3=ERROR)\n",
    "os.environ['CUDA_LAUNCH_BLOCKING'] = '0'  # 异步CUDA执行\n",
    "os.environ['PYTHONWARNINGS'] = 'ignore'   # 抑制Python警告\n",
    "\n",
    "# 抑制CUDA相关警告\n",
    "os.environ['TF_ENABLE_ONEDNN_OPTS'] = '0'  # 禁用oneDNN优化警告\n",
    "os.environ['TF_FORCE_GPU_ALLOW_GROWTH'] = 'true'  # GPU内存动态增长\n",
    "os.environ['CUDA_VISIBLE_DEVICES'] = '0,1'  # 明确指定可见的GPU设备\n",
    "\n",
    "# 抑制cuDNN/cuFFT/cuBLAS重复注册警告\n",
    "os.environ['TF_DISABLE_SEGMENT_REDUCTION_OP_DETERMINISM_EXCEPTIONS'] = '1'\n",
    "\n",
    "# 抑制所有警告\n",
    "warnings.filterwarnings('ignore')\n",
    "warnings.filterwarnings('ignore', category=UserWarning)\n",
    "warnings.filterwarnings('ignore', category=FutureWarning)\n",
    "warnings.filterwarnings('ignore', category=DeprecationWarning)\n",
    "\n",
    "# 修复CUDA多进程问题\n",
    "import multiprocessing as mp\n",
    "try:\n",
    "    mp.set_start_method('spawn', force=True)\n",
    "except RuntimeError:\n",
    "    pass  # 如果已经设置过，忽略错误\n",
    "\n",
    "import os\n",
    "import cv2\n",
    "import numpy as np\n",
    "import pandas as pd\n",
    "import matplotlib.pyplot as plt\n",
    "import seaborn as sns\n",
    "from tqdm import tqdm\n",
    "import random\n",
    "import warnings\n",
    "import gc\n",
    "import json\n",
    "import time\n",
    "import sys\n",
    "from pathlib import Path\n",
    "from datetime import datetime\n",
    "from PIL import Image\n",
    "warnings.filterwarnings('ignore')\n",
    "\n",
    "# PyTorch相关\n",
    "import torch\n",
    "import torch.nn as nn\n",
    "import torch.optim as optim\n",
    "import torch.nn.functional as F\n",
    "from torch.utils.data import Dataset, DataLoader\n",
    "import torchvision.transforms as transforms\n",
    "from torchvision import transforms\n",
    "import torchvision.transforms.functional as TF\n",
    "import torchvision.models as models\n",
    "from torchvision.io import read_video\n",
    "from torch.optim.lr_scheduler import CosineAnnealingWarmRestarts, ReduceLROnPlateau\n",
    "from torch.cuda.amp import GradScaler, autocast\n",
    "\n",
    "# 初始化CUDA并抑制警告\n",
    "if torch.cuda.is_available():\n",
    "    # 初始化CUDA上下文以避免后续警告\n",
    "    torch.cuda.init()\n",
    "    # 设置CUDA设备\n",
    "    torch.cuda.set_device(0)\n",
    "    # 清理CUDA缓存\n",
    "    torch.cuda.empty_cache()\n",
    "    print(f\"🚀 CUDA已初始化，检测到 {torch.cuda.device_count()} 个GPU设备\")\n",
    "    for i in range(torch.cuda.device_count()):\n",
    "        gpu_name = torch.cuda.get_device_name(i)\n",
    "        gpu_memory = torch.cuda.get_device_properties(i).total_memory / 1024**3\n",
    "        print(f\"   - GPU {i}: {gpu_name} ({gpu_memory:.1f} GB)\")\n",
    "else:\n",
    "    print(\"⚠️ CUDA不可用，将使用CPU模式\")\n",
    "\n",
    "# 机器学习指标\n",
    "from sklearn.metrics import (\n",
    "    accuracy_score, precision_score, recall_score, f1_score,\n",
    "    roc_auc_score, confusion_matrix, classification_report,\n",
    "    roc_curve, auc, precision_recall_curve, balanced_accuracy_score\n",
    ")\n",
    "from sklearn.model_selection import train_test_split\n",
    "\n",
    "# 系统监控和性能分析\n",
    "import psutil\n",
    "import traceback\n",
    "\n",
    "# 高精度人脸检测 - MTCNN\n",
    "try:\n",
    "    # 在导入MTCNN之前进一步抑制TensorFlow警告\n",
    "    import logging\n",
    "    logging.getLogger('tensorflow').setLevel(logging.ERROR)\n",
    "    \n",
    "    # 抑制absl日志\n",
    "    try:\n",
    "        import absl.logging\n",
    "        absl.logging.set_verbosity(absl.logging.ERROR)\n",
    "    except ImportError:\n",
    "        pass\n",
    "    \n",
    "    from mtcnn import MTCNN\n",
    "    MTCNN_AVAILABLE = True\n",
    "    print(\"✅ MTCNN已安装，支持高精度人脸检测\")\n",
    "    print(\"   - 人脸检测精度: 高\")\n",
    "    print(\"   - 检测置信度阈值: 0.9\")\n",
    "    print(\"   - API版本: 新版本 (v1.0.0+)\")\n",
    "    print(\"   - TensorFlow警告已抑制\")\n",
    "except ImportError:\n",
    "    MTCNN_AVAILABLE = False\n",
    "    print(\"⚠️ MTCNN未安装，将使用OpenCV人脸检测\")\n",
    "    print(\"   - 人脸检测精度: 中等\")\n",
    "    print(\"   - 建议安装MTCNN以获得更高精度:\")\n",
    "    print(\"   - 安装命令: !pip install mtcnn\")\n",
    "    print(\"   - 或者: !pip install mtcnn[tensorflow]\")\n",
    "    print(\"   - 注意: 需要TensorFlow >= 2.12\")\n",
    "    print(\"   - 影响: 人脸检测精度略有降低，但不影响整体训练\")\n",
    "\n",
    "# 视频处理 (PyAV)\n",
    "try:\n",
    "    import av\n",
    "    PYAV_AVAILABLE = True\n",
    "    print(\"✅ PyAV已安装，支持GPU视频处理\")\n",
    "except ImportError:\n",
    "    PYAV_AVAILABLE = False\n",
    "    print(\"⚠️ PyAV未安装，视频处理将回退到CPU模式\")\n",
    "\n",
    "# 数据增强\n",
    "try:\n",
    "    import albumentations as A\n",
    "    from albumentations.pytorch import ToTensorV2\n",
    "    ALBUMENTATIONS_AVAILABLE = True\n",
    "except ImportError:\n",
    "    ALBUMENTATIONS_AVAILABLE = False\n",
    "    print(\"警告: albumentations未安装，将使用基础数据增强\")\n",
    "\n",
    "# 频域分析支持\n",
    "try:\n",
    "    from scipy import fftpack\n",
    "    from scipy.signal import butter, filtfilt\n",
    "    SCIPY_AVAILABLE = True\n",
    "    print(\"✅ SciPy已安装，支持频域分析\")\n",
    "except ImportError:\n",
    "    SCIPY_AVAILABLE = False\n",
    "    print(\"⚠️ SciPy未安装，频域分析功能受限\")\n",
    "\n",
    "print(\"✅ 所有库导入完成\")"
   ]
  },
  {
   "cell_type": "code",
   "execution_count": 3,
   "id": "e2e9440e",
   "metadata": {
    "execution": {
     "iopub.execute_input": "2025-07-30T12:23:08.021356Z",
     "iopub.status.busy": "2025-07-30T12:23:08.020827Z",
     "iopub.status.idle": "2025-07-30T12:23:08.231118Z",
     "shell.execute_reply": "2025-07-30T12:23:08.230219Z"
    },
    "jupyter": {
     "source_hidden": true
    },
    "papermill": {
     "duration": 0.22058,
     "end_time": "2025-07-30T12:23:08.232311",
     "exception": false,
     "start_time": "2025-07-30T12:23:08.011731",
     "status": "completed"
    },
    "tags": []
   },
   "outputs": [
    {
     "name": "stdout",
     "output_type": "stream",
     "text": [
      "使用设备: cuda\n",
      "🎮 GPU数量: 2\n",
      "🎮 GPU型号: Tesla T4\n",
      "💾 单GPU内存: 14.7 GB\n",
      "💾 总GPU内存: 29.5 GB\n",
      "✅ 检测到 2 个GPU，启用多GPU并行训练\n",
      "✅ Kaggle T4 GPU优化配置已启用\n",
      "数据类型策略: FP32 (兼容性优先)\n",
      "环境: Kaggle\n",
      "数据基础路径: /kaggle/input/ff-c23/FaceForensics++_C23\n",
      "✅ 环境设置完成\n"
     ]
    }
   ],
   "source": [
    "# Cell 2: 全局配置和工具函数 - Kaggle T4 优化版本\n",
    "\n",
    "def set_seed(seed=42):\n",
    "    \"\"\"设置随机种子确保可重复性\"\"\"\n",
    "    random.seed(seed)\n",
    "    np.random.seed(seed)\n",
    "    torch.manual_seed(seed)\n",
    "    if torch.cuda.is_available():\n",
    "        torch.cuda.manual_seed(seed)\n",
    "        torch.cuda.manual_seed_all(seed)\n",
    "    # Kaggle环境优化：平衡性能和可重复性\n",
    "    torch.backends.cudnn.deterministic = False\n",
    "    torch.backends.cudnn.benchmark = True\n",
    "\n",
    "set_seed(42)\n",
    "\n",
    "# Kaggle T4 GPU配置\n",
    "device = torch.device('cuda' if torch.cuda.is_available() else 'cpu')\n",
    "print(f\"使用设备: {device}\")\n",
    "\n",
    "if torch.cuda.is_available():\n",
    "    gpu_count = torch.cuda.device_count()\n",
    "    gpu_name = torch.cuda.get_device_name(0)\n",
    "    gpu_memory = torch.cuda.get_device_properties(0).total_memory / 1024**3\n",
    "    \n",
    "    print(f\"🎮 GPU数量: {gpu_count}\")\n",
    "    print(f\"🎮 GPU型号: {gpu_name}\")\n",
    "    print(f\"💾 单GPU内存: {gpu_memory:.1f} GB\")\n",
    "    print(f\"💾 总GPU内存: {gpu_memory * gpu_count:.1f} GB\")\n",
    "    \n",
    "    # 多GPU配置\n",
    "    USE_MULTI_GPU = gpu_count > 1\n",
    "    if USE_MULTI_GPU:\n",
    "        print(f\"✅ 检测到 {gpu_count} 个GPU，启用多GPU并行训练\")\n",
    "        # 双T4 GPU优化配置\n",
    "        torch.cuda.set_per_process_memory_fraction(0.8)  # 双T4可以使用更多内存\n",
    "    else:\n",
    "        print(\"📝 单GPU模式\")\n",
    "        torch.cuda.set_per_process_memory_fraction(0.7)  # 单GPU保守配置\n",
    "    \n",
    "    torch.backends.cuda.matmul.allow_tf32 = True\n",
    "    torch.backends.cudnn.allow_tf32 = True\n",
    "    \n",
    "    print(\"✅ Kaggle T4 GPU优化配置已启用\")\n",
    "else:\n",
    "    USE_MULTI_GPU = False\n",
    "\n",
    "# 创建必要的目录\n",
    "for dir_name in ['./data', './models', './logs', './results']:\n",
    "    os.makedirs(dir_name, exist_ok=True)\n",
    "\n",
    "# Kaggle环境检测\n",
    "IS_KAGGLE = os.path.exists('/kaggle')\n",
    "BASE_DATA_DIR = '/kaggle/input/ff-c23/FaceForensics++_C23' if IS_KAGGLE else './dataset/FaceForensics++_C23'\n",
    "\n",
    "# 统一数据类型配置 - 全部使用FP32提升兼容性\n",
    "USE_FP32_ONLY = True  # 强制使用FP32，确保最佳兼容性\n",
    "print(f\"数据类型策略: FP32 (兼容性优先)\")\n",
    "\n",
    "print(f\"环境: {'Kaggle' if IS_KAGGLE else '本地'}\")\n",
    "print(f\"数据基础路径: {BASE_DATA_DIR}\")\n",
    "print(\"✅ 环境设置完成\")"
   ]
  },
  {
   "cell_type": "code",
   "execution_count": 4,
   "id": "a7c7f502",
   "metadata": {
    "execution": {
     "iopub.execute_input": "2025-07-30T12:23:08.251422Z",
     "iopub.status.busy": "2025-07-30T12:23:08.251182Z",
     "iopub.status.idle": "2025-07-30T12:23:08.292900Z",
     "shell.execute_reply": "2025-07-30T12:23:08.292193Z"
    },
    "jupyter": {
     "source_hidden": true
    },
    "papermill": {
     "duration": 0.052833,
     "end_time": "2025-07-30T12:23:08.294138",
     "exception": false,
     "start_time": "2025-07-30T12:23:08.241305",
     "status": "completed"
    },
    "tags": []
   },
   "outputs": [
    {
     "name": "stdout",
     "output_type": "stream",
     "text": [
      "✅ 数据处理函数定义完成\n"
     ]
    }
   ],
   "source": [
    "# Cell 3: 数据处理函数\n",
    "def extract_frames_gpu_accelerated(video_path, max_frames=16, target_size=(128, 128),\n",
    "                                  quality_threshold=20, use_gpu=True, use_mtcnn=True):\n",
    "    \"\"\"GPU加速的帧提取函数 - 集成MTCNN人脸检测\"\"\"\n",
    "    try:\n",
    "        # 检查PyAV是否可用\n",
    "        if not globals().get('PYAV_AVAILABLE', False):\n",
    "            print(f\"PyAV不可用，使用CPU回退处理: {video_path}\")\n",
    "            return extract_frames_cpu_fallback(video_path, max_frames, target_size, quality_threshold, use_mtcnn)\n",
    "            \n",
    "        # 设备选择 - 优先使用GPU\n",
    "        device = torch.device('cuda' if torch.cuda.is_available() else 'cpu')\n",
    "        \n",
    "        # 使用torchvision的GPU加速视频读取\n",
    "        if not use_gpu:\n",
    "            device = torch.device('cpu')\n",
    "            \n",
    "        # 读取视频（torchvision自动处理解码）\n",
    "        try:\n",
    "            video_tensor, audio, info = read_video(video_path, pts_unit='sec')\n",
    "            # video_tensor shape: (T, H, W, C)\n",
    "        except Exception as e:\n",
    "            print(f\"GPU视频读取失败，回退到CPU: {e}\")\n",
    "            return extract_frames_cpu_fallback(video_path, max_frames, target_size, quality_threshold, use_mtcnn)\n",
    "        \n",
    "        if video_tensor.size(0) == 0:\n",
    "            return []\n",
    "            \n",
    "        # 移动到GPU进行处理\n",
    "        video_tensor = video_tensor.to(device, non_blocking=True)\n",
    "        total_frames = video_tensor.size(0)\n",
    "        \n",
    "        # 智能帧采样策略\n",
    "        if total_frames <= max_frames:\n",
    "            frame_indices = torch.arange(0, total_frames, device=device)\n",
    "        else:\n",
    "            # 均匀采样\n",
    "            step = total_frames / max_frames\n",
    "            frame_indices = torch.arange(0, total_frames, step, device=device).long()[:max_frames]\n",
    "        \n",
    "        # 批量提取帧\n",
    "        selected_frames = video_tensor[frame_indices]  # (max_frames, H, W, C)\n",
    "        \n",
    "        # GPU上进行质量检测（使用Sobel算子代替Laplacian）\n",
    "        if quality_threshold > 0:\n",
    "            # 转换为灰度图进行质量检测（先转换为float类型）\n",
    "            gray_frames = selected_frames.float().mean(dim=-1, keepdim=True)  # (T, H, W, 1)\n",
    "            gray_frames = gray_frames.permute(0, 3, 1, 2)  # (T, 1, H, W)\n",
    "            \n",
    "            # 使用Sobel算子计算图像质量\n",
    "            sobel_x = torch.tensor([[-1, 0, 1], [-2, 0, 2], [-1, 0, 1]], \n",
    "                                 dtype=torch.float32, device=device).view(1, 1, 3, 3)\n",
    "            sobel_y = torch.tensor([[-1, -2, -1], [0, 0, 0], [1, 2, 1]], \n",
    "                                 dtype=torch.float32, device=device).view(1, 1, 3, 3)\n",
    "            \n",
    "            grad_x = F.conv2d(gray_frames, sobel_x, padding=1)\n",
    "            grad_y = F.conv2d(gray_frames, sobel_y, padding=1)\n",
    "            quality_scores = (grad_x.pow(2) + grad_y.pow(2)).mean(dim=[1, 2, 3])\n",
    "            \n",
    "            # 过滤低质量帧\n",
    "            quality_mask = quality_scores > quality_threshold\n",
    "            if quality_mask.sum() > 0:\n",
    "                selected_frames = selected_frames[quality_mask]\n",
    "            \n",
    "        # GPU上进行尺寸调整\n",
    "        selected_frames = selected_frames.permute(0, 3, 1, 2).float()  # (T, C, H, W)\n",
    "        if selected_frames.size(-1) != target_size[0] or selected_frames.size(-2) != target_size[1]:\n",
    "            selected_frames = F.interpolate(selected_frames, size=target_size, \n",
    "                                          mode='bilinear', align_corners=False)\n",
    "        \n",
    "        # 确保帧数足够\n",
    "        current_frames = selected_frames.size(0)\n",
    "        if current_frames < max_frames:\n",
    "            # 重复最后一帧\n",
    "            if current_frames > 0:\n",
    "                last_frame = selected_frames[-1:].repeat(max_frames - current_frames, 1, 1, 1)\n",
    "                selected_frames = torch.cat([selected_frames, last_frame], dim=0)\n",
    "            else:\n",
    "                # 创建黑色帧\n",
    "                selected_frames = torch.zeros(max_frames, 3, target_size[0], target_size[1], \n",
    "                                            device=device, dtype=torch.float32)\n",
    "        \n",
    "        # 限制到最大帧数\n",
    "        selected_frames = selected_frames[:max_frames]\n",
    "        \n",
    "        # 转换回CPU numpy格式（为了兼容现有代码）\n",
    "        frames_cpu = selected_frames.permute(0, 2, 3, 1).cpu().numpy().astype(np.uint8)\n",
    "        frames_list = [frame for frame in frames_cpu]\n",
    "        \n",
    "        # 应用MTCNN人脸检测和裁剪\n",
    "        if use_mtcnn and globals().get('MTCNN_AVAILABLE', False):\n",
    "            frames_list = apply_mtcnn_face_detection(frames_list, target_size)\n",
    "        \n",
    "        return frames_list\n",
    "        \n",
    "    except Exception as e:\n",
    "        print(f\"GPU帧提取失败，回退到CPU: {e}\")\n",
    "        return extract_frames_cpu_fallback(video_path, max_frames, target_size, quality_threshold, use_mtcnn)\n",
    "\n",
    "def apply_mtcnn_face_detection(frames, target_size=(128, 128)):\n",
    "    \"\"\"使用MTCNN进行人脸检测和裁剪 - 兼容新版本API\"\"\"\n",
    "    try:\n",
    "        # 新版本MTCNN构造函数不需要参数\n",
    "        detector = MTCNN()\n",
    "        processed_frames = []\n",
    "        \n",
    "        for frame in frames:\n",
    "            # MTCNN需要RGB格式\n",
    "            frame_rgb = cv2.cvtColor(frame, cv2.COLOR_BGR2RGB) if len(frame.shape) == 3 else frame\n",
    "            \n",
    "            # 检测人脸 - 新版本API在detect_faces方法中传递参数\n",
    "            results = detector.detect_faces(\n",
    "                frame_rgb,\n",
    "                min_face_size=40,  # 最小人脸尺寸\n",
    "                threshold_pnet=0.6,  # PNet阈值\n",
    "                threshold_rnet=0.7,  # RNet阈值  \n",
    "                threshold_onet=0.8   # ONet阈值\n",
    "            )\n",
    "            \n",
    "            if results and len(results) > 0:\n",
    "                # 选择置信度最高的人脸\n",
    "                best_face = max(results, key=lambda x: x['confidence'])\n",
    "                \n",
    "                if best_face['confidence'] > 0.9:  # 高置信度阈值\n",
    "                    # 提取人脸区域\n",
    "                    x, y, w, h = best_face['box']\n",
    "                    \n",
    "                    # 扩展边界框以包含更多上下文\n",
    "                    margin = 0.2\n",
    "                    x_margin = int(w * margin)\n",
    "                    y_margin = int(h * margin)\n",
    "                    \n",
    "                    x1 = max(0, x - x_margin)\n",
    "                    y1 = max(0, y - y_margin)\n",
    "                    x2 = min(frame_rgb.shape[1], x + w + x_margin)\n",
    "                    y2 = min(frame_rgb.shape[0], y + h + y_margin)\n",
    "                    \n",
    "                    # 裁剪人脸\n",
    "                    face_crop = frame_rgb[y1:y2, x1:x2]\n",
    "                    \n",
    "                    # 使用统一的帧处理函数\n",
    "                    processed_frame = resize_and_validate_frame(face_crop, target_size, 0)  # MTCNN不需要额外质量检查\n",
    "                    if processed_frame is None:\n",
    "                        processed_frames.append(cv2.resize(face_crop, target_size))  # 如果处理失败，返回原帧\n",
    "                    else:\n",
    "                        processed_frames.append(processed_frame)\n",
    "                else:\n",
    "                    # 置信度不够，使用原始帧\n",
    "                    processed_frames.append(cv2.resize(frame_rgb, target_size))\n",
    "            else:\n",
    "                # 没有检测到人脸，使用原始帧\n",
    "                processed_frames.append(cv2.resize(frame_rgb, target_size))\n",
    "        \n",
    "        return processed_frames\n",
    "        \n",
    "    except Exception as e:\n",
    "        print(f\"MTCNN人脸检测失败，使用原始帧: {e}\")\n",
    "        return [cv2.resize(frame, target_size) for frame in frames]\n",
    "\n",
    "def resize_and_validate_frame(frame, target_size, quality_threshold=20):\n",
    "    \"\"\"统一的帧处理函数：调整大小并验证质量\"\"\"\n",
    "    if frame is None:\n",
    "        return None\n",
    "    \n",
    "    # 调整尺寸\n",
    "    resized_frame = cv2.resize(frame, target_size)\n",
    "    \n",
    "    # 质量检查\n",
    "    if quality_threshold > 0:\n",
    "        # 计算图像的方差作为质量指标\n",
    "        gray = cv2.cvtColor(resized_frame, cv2.COLOR_RGB2GRAY) if len(resized_frame.shape) == 3 else resized_frame\n",
    "        variance = cv2.Laplacian(gray, cv2.CV_64F).var()\n",
    "        if variance < quality_threshold:\n",
    "            return None\n",
    "    \n",
    "    return resized_frame\n",
    "\n",
    "def extract_frames_cpu_fallback(video_path, max_frames=16, target_size=(128, 128), quality_threshold=20, use_mtcnn=True):\n",
    "    \"\"\"CPU回退的帧提取函数 - 集成MTCNN\"\"\"\n",
    "    cap = cv2.VideoCapture(video_path)\n",
    "    frames = []\n",
    "\n",
    "    if not cap.isOpened():\n",
    "        print(f\"无法打开视频: {video_path}\")\n",
    "        return frames\n",
    "\n",
    "    total_frames = int(cap.get(cv2.CAP_PROP_FRAME_COUNT))\n",
    "    if total_frames == 0:\n",
    "        cap.release()\n",
    "        return frames\n",
    "\n",
    "    # 均匀采样策略\n",
    "    if total_frames <= max_frames:\n",
    "        frame_indices = list(range(0, total_frames, max(1, total_frames // max_frames)))\n",
    "    else:\n",
    "        step = max(1, total_frames // max_frames)\n",
    "        frame_indices = list(range(0, total_frames, step))[:max_frames]\n",
    "\n",
    "    frame_count = 0\n",
    "    for frame_idx in frame_indices:\n",
    "        if frame_count >= max_frames:\n",
    "            break\n",
    "\n",
    "        cap.set(cv2.CAP_PROP_POS_FRAMES, frame_idx)\n",
    "        ret, frame = cap.read()\n",
    "\n",
    "        if ret:\n",
    "            frame = cv2.cvtColor(frame, cv2.COLOR_BGR2RGB)\n",
    "            \n",
    "            # 使用统一的帧处理函数\n",
    "            processed_frame = resize_and_validate_frame(frame, target_size, quality_threshold)\n",
    "            if processed_frame is None:\n",
    "                continue\n",
    "            frame = processed_frame\n",
    "            frames.append(frame)\n",
    "            frame_count += 1\n",
    "\n",
    "    cap.release()\n",
    "\n",
    "    # 如果帧数不足，重复最后一帧\n",
    "    while len(frames) < max_frames and len(frames) > 0:\n",
    "        frames.append(frames[-1].copy())\n",
    "\n",
    "    # 应用MTCNN人脸检测\n",
    "    if use_mtcnn and globals().get('MTCNN_AVAILABLE', False):\n",
    "        frames = apply_mtcnn_face_detection(frames, target_size)\n",
    "\n",
    "    return frames[:max_frames]\n",
    "\n",
    "# 为了向后兼容，保留原函数名，但移除冗余参数\n",
    "def extract_frames_memory_efficient(video_path, max_frames=16, target_size=(128, 128),\n",
    "                                   quality_threshold=20, use_mtcnn=True):\n",
    "    \"\"\"兼容性包装函数，优先使用GPU加速，集成MTCNN\n",
    "    注意：skip_frames参数已移除，因为GPU版本使用更智能的采样策略\n",
    "    \"\"\"\n",
    "    return extract_frames_gpu_accelerated(video_path, max_frames, target_size, quality_threshold, use_mtcnn=use_mtcnn)\n",
    "\n",
    "def process_videos_simple(base_data_dir, max_videos_per_class=60, max_frames=16, max_real=None, max_fake=None):\n",
    "    \"\"\"简化的视频处理函数 - 优化假视频平均分配\"\"\"\n",
    "    # 打印设备信息（只打印一次）\n",
    "    device = torch.device('cuda' if torch.cuda.is_available() else 'cpu')\n",
    "    print(f\"📱 数据处理使用设备: {device}\")\n",
    "    \n",
    "    # 向后兼容：如果指定了新参数，使用新参数；否则使用旧参数\n",
    "    if max_real is None:\n",
    "        max_real = max_videos_per_class\n",
    "    if max_fake is None:\n",
    "        max_fake = max_videos_per_class\n",
    "    \n",
    "    data_list = []\n",
    "    fake_methods = ['Deepfakes', 'Face2Face', 'FaceShifter', 'FaceSwap', 'NeuralTextures', 'DeepFakeDetection']\n",
    "\n",
    "    print(\"开始处理真实视频...\")\n",
    "    # 处理真实视频\n",
    "    original_dir = os.path.join(base_data_dir, 'original')\n",
    "    if os.path.exists(original_dir):\n",
    "        video_files = [f for f in os.listdir(original_dir)\n",
    "                      if f.endswith(('.mp4', '.avi', '.mov'))]\n",
    "        \n",
    "        if len(video_files) > max_real:\n",
    "            video_files = random.sample(video_files, max_real)\n",
    "\n",
    "        print(f\"找到 {len(video_files)} 个真实视频\")\n",
    "\n",
    "        for video_file in tqdm(video_files, desc=\"处理真实视频\"):\n",
    "            try:\n",
    "                video_path = os.path.join(original_dir, video_file)\n",
    "                frames = extract_frames_memory_efficient(video_path, max_frames)\n",
    "                \n",
    "                if len(frames) >= max_frames // 2:  # 至少要有一半的帧\n",
    "                    data_list.append({\n",
    "                        'video_path': video_path,\n",
    "                        'frames': frames,\n",
    "                        'label': 0,  # 真实视频\n",
    "                        'method': 'original'\n",
    "                    })\n",
    "            except Exception as e:\n",
    "                print(f\"处理视频 {video_file} 时出错: {e}\")\n",
    "                continue\n",
    "\n",
    "    # 处理伪造视频 - 平均分配策略\n",
    "    print(\"开始处理伪造视频...\")\n",
    "    \n",
    "    # 统计每种方法的可用视频数量\n",
    "    method_videos = {}\n",
    "    total_available_fake = 0\n",
    "    \n",
    "    for method in fake_methods:\n",
    "        method_dir = os.path.join(base_data_dir, method)\n",
    "        if os.path.exists(method_dir):\n",
    "            videos = [os.path.join(method_dir, f) for f in os.listdir(method_dir) \n",
    "                     if f.endswith(('.mp4', '.avi', '.mov'))]\n",
    "            method_videos[method] = videos\n",
    "            total_available_fake += len(videos)\n",
    "            print(f\"  {method}: {len(videos)} 个视频\")\n",
    "        else:\n",
    "            method_videos[method] = []\n",
    "            print(f\"  {method}: 目录不存在\")\n",
    "    \n",
    "    print(f\"总共可用假视频: {total_available_fake} 个\")\n",
    "    \n",
    "    # 计算每种方法应该采样的视频数量（平均分配）\n",
    "    available_methods = [method for method in fake_methods if len(method_videos[method]) > 0]\n",
    "    if not available_methods:\n",
    "        print(\"❌ 未找到任何假视频方法\")\n",
    "        return data_list\n",
    "    \n",
    "    videos_per_method = max_fake // len(available_methods)\n",
    "    remaining_videos = max_fake % len(available_methods)\n",
    "    \n",
    "    print(f\"平均分配策略: 每种方法 {videos_per_method} 个视频\")\n",
    "    if remaining_videos > 0:\n",
    "        print(f\"剩余 {remaining_videos} 个视频将分配给前 {remaining_videos} 种方法\")\n",
    "    \n",
    "    # 为每种方法采样视频\n",
    "    selected_fake_videos = []\n",
    "    for i, method in enumerate(available_methods):\n",
    "        # 计算当前方法应该采样的数量\n",
    "        current_method_quota = videos_per_method\n",
    "        if i < remaining_videos:  # 前几种方法多分配一个\n",
    "            current_method_quota += 1\n",
    "        \n",
    "        available_videos = method_videos[method]\n",
    "        \n",
    "        # 如果可用视频数量少于配额，全部使用\n",
    "        if len(available_videos) <= current_method_quota:\n",
    "            method_selected = available_videos\n",
    "            print(f\"  {method}: 使用全部 {len(method_selected)} 个视频\")\n",
    "        else:\n",
    "            # 随机采样指定数量\n",
    "            method_selected = random.sample(available_videos, current_method_quota)\n",
    "            print(f\"  {method}: 采样 {len(method_selected)} 个视频\")\n",
    "        \n",
    "        selected_fake_videos.extend([(v, method) for v in method_selected])\n",
    "    \n",
    "    print(f\"总共选择 {len(selected_fake_videos)} 个假视频进行处理\")\n",
    "    \n",
    "    # 打乱选择的假视频顺序\n",
    "    random.shuffle(selected_fake_videos)\n",
    "    \n",
    "    # 处理选择的假视频\n",
    "    for video_path, method in tqdm(selected_fake_videos, desc=\"处理伪造视频\"):\n",
    "        try:\n",
    "            frames = extract_frames_memory_efficient(video_path, max_frames)\n",
    "            \n",
    "            if len(frames) >= max_frames // 2:\n",
    "                data_list.append({\n",
    "                    'video_path': video_path,\n",
    "                    'frames': frames,\n",
    "                    'label': 1,  # 伪造视频\n",
    "                    'method': method\n",
    "                })\n",
    "        except Exception as e:\n",
    "            print(f\"处理视频 {os.path.basename(video_path)} 时出错: {e}\")\n",
    "            continue\n",
    "\n",
    "    # 统计最终结果\n",
    "    method_counts = {}\n",
    "    for item in data_list:\n",
    "        if item['label'] == 1:  # 只统计假视频\n",
    "            method = item['method']\n",
    "            method_counts[method] = method_counts.get(method, 0) + 1\n",
    "    \n",
    "    print(f\"\\n✅ 数据处理完成，共处理 {len(data_list)} 个视频\")\n",
    "    print(\"假视频方法分布:\")\n",
    "    for method, count in method_counts.items():\n",
    "        print(f\"  {method}: {count} 个视频\")\n",
    "    \n",
    "    return data_list\n",
    "\n",
    "def create_dataset_split(data_list, test_size=0.2, val_size=0.1):\n",
    "    \"\"\"创建数据集划分\"\"\"\n",
    "    # 分离真实和伪造数据\n",
    "    real_data = [item for item in data_list if item['label'] == 0]\n",
    "    fake_data = [item for item in data_list if item['label'] == 1]\n",
    "    \n",
    "    print(f\"真实视频: {len(real_data)} 个\")\n",
    "    print(f\"伪造视频: {len(fake_data)} 个\")\n",
    "    \n",
    "    # 分别划分真实和伪造数据\n",
    "    real_train, real_temp = train_test_split(real_data, test_size=test_size+val_size, random_state=42)\n",
    "    real_val, real_test = train_test_split(real_temp, test_size=test_size/(test_size+val_size), random_state=42)\n",
    "    \n",
    "    fake_train, fake_temp = train_test_split(fake_data, test_size=test_size+val_size, random_state=42)\n",
    "    fake_val, fake_test = train_test_split(fake_temp, test_size=test_size/(test_size+val_size), random_state=42)\n",
    "    \n",
    "    # 合并数据\n",
    "    train_data = real_train + fake_train\n",
    "    val_data = real_val + fake_val\n",
    "    test_data = real_test + fake_test\n",
    "    \n",
    "    # 打乱数据\n",
    "    random.shuffle(train_data)\n",
    "    random.shuffle(val_data)\n",
    "    random.shuffle(test_data)\n",
    "    \n",
    "    return train_data, val_data, test_data\n",
    "\n",
    "def save_dataset_to_csv(data_list, filename):\n",
    "    \"\"\"将数据集保存为CSV文件 - 支持预提取帧路径\"\"\"\n",
    "    df_data = []\n",
    "    for item in data_list:\n",
    "        # 检查是否为预提取的帧数据\n",
    "        if 'frame_path' in item:\n",
    "            df_data.append({\n",
    "                'frame_path': item['frame_path'],\n",
    "                'label': item['label'],\n",
    "                'method': item['method'],\n",
    "                'num_frames': item.get('num_frames', 16)\n",
    "            })\n",
    "        else:\n",
    "            # 向后兼容：原始视频路径格式\n",
    "            df_data.append({\n",
    "                'video_path': item['video_path'],\n",
    "                'label': item['label'],\n",
    "                'method': item['method'],\n",
    "                'num_frames': len(item['frames'])\n",
    "            })\n",
    "    \n",
    "    df = pd.DataFrame(df_data)\n",
    "    df.to_csv(filename, index=False)\n",
    "    print(f\"数据集已保存到: {filename}\")\n",
    "    return df\n",
    "\n",
    "print(\"✅ 数据处理函数定义完成\")"
   ]
  },
  {
   "cell_type": "code",
   "execution_count": 5,
   "id": "00ae49fb",
   "metadata": {
    "execution": {
     "iopub.execute_input": "2025-07-30T12:23:08.312911Z",
     "iopub.status.busy": "2025-07-30T12:23:08.312660Z",
     "iopub.status.idle": "2025-07-30T12:23:08.346996Z",
     "shell.execute_reply": "2025-07-30T12:23:08.346176Z"
    },
    "jupyter": {
     "source_hidden": true
    },
    "papermill": {
     "duration": 0.04538,
     "end_time": "2025-07-30T12:23:08.348183",
     "exception": false,
     "start_time": "2025-07-30T12:23:08.302803",
     "status": "completed"
    },
    "tags": []
   },
   "outputs": [
    {
     "name": "stdout",
     "output_type": "stream",
     "text": [
      "✅ 数据集类定义完成\n"
     ]
    }
   ],
   "source": [
    "# Cell 4: 数据集类定义\n",
    "\n",
    "# 必要的导入\n",
    "import torch\n",
    "import pandas as pd\n",
    "import numpy as np\n",
    "from torch.utils.data import Dataset\n",
    "from PIL import Image\n",
    "\n",
    "class DeepfakeVideoDataset(Dataset):\n",
    "    \"\"\"深度伪造视频数据集类 - 支持预提取帧和多模态特征\"\"\"\n",
    "    \n",
    "    def __init__(self, csv_file, max_frames=16, gpu_preprocessing=True, \n",
    "                 extract_fourier=True, extract_compression=True, transform=None):\n",
    "        \"\"\"\n",
    "        初始化数据集 - 专用于预提取帧的GPU预处理\n",
    "        \n",
    "        Args:\n",
    "            csv_file: CSV文件路径（必须包含frame_path列）\n",
    "            max_frames: 最大帧数\n",
    "            gpu_preprocessing: 是否启用GPU预处理\n",
    "            extract_fourier: 是否提取傅里叶特征\n",
    "            extract_compression: 是否提取压缩特征\n",
    "            transform: 数据变换（可选）\n",
    "        \"\"\"\n",
    "        self.csv_file = csv_file\n",
    "        self.max_frames = max_frames\n",
    "        self.gpu_preprocessing = gpu_preprocessing\n",
    "        self.extract_fourier = extract_fourier\n",
    "        self.extract_compression = extract_compression\n",
    "        self.transform = transform  # 添加transform属性\n",
    "        \n",
    "        # 加载数据\n",
    "        self.df = pd.read_csv(csv_file)\n",
    "        \n",
    "        # 验证必须包含frame_path列\n",
    "        if 'frame_path' not in self.df.columns:\n",
    "            raise ValueError(f\"CSV文件 {csv_file} 必须包含 'frame_path' 列。请先运行预提取流程。\")\n",
    "        \n",
    "        print(f\"✅ 预提取帧模式，共 {len(self.df)} 个样本\")\n",
    "        \n",
    "        # GPU设备\n",
    "        self.device = torch.device('cuda' if torch.cuda.is_available() and gpu_preprocessing else 'cpu')\n",
    "        \n",
    "        # 预计算的标准化参数（ImageNet标准）\n",
    "        self.mean_tensor = torch.tensor([0.485, 0.456, 0.406], device=self.device).view(1, 3, 1, 1)\n",
    "        self.std_tensor = torch.tensor([0.229, 0.224, 0.225], device=self.device).view(1, 3, 1, 1)\n",
    "        \n",
    "        # 预计算数据统计信息\n",
    "        self._compute_dataset_stats()\n",
    "        \n",
    "        print(f\"✅ 数据集初始化完成: {len(self)} 个样本\")\n",
    "        print(f\"🚀 GPU预处理: {self.gpu_preprocessing} (设备: {self.device})\")\n",
    "        if self.extract_fourier:\n",
    "            print(\"📊 启用频域特征提取\")\n",
    "        if self.extract_compression:\n",
    "            print(\"🔍 启用压缩伪影分析\")\n",
    "\n",
    "    def _compute_dataset_stats(self):\n",
    "        \"\"\"预计算数据集统计信息\"\"\"\n",
    "        try:\n",
    "            self.real_count = len(self.df[self.df['label'] == 0])\n",
    "            self.fake_count = len(self.df[self.df['label'] == 1])\n",
    "        except Exception as e:\n",
    "            print(f\"⚠️ 计算数据统计时出错: {e}\")\n",
    "            self.real_count = 0\n",
    "            self.fake_count = 0\n",
    "        \n",
    "        print(f\"📊 数据分布: 真实={self.real_count}, 伪造={self.fake_count}\")\n",
    "\n",
    "    def __len__(self):\n",
    "        return len(self.df)\n",
    "\n",
    "    def __getitem__(self, idx):\n",
    "        \"\"\"获取数据项 - 专用于预提取帧的GPU预处理\"\"\"\n",
    "        try:\n",
    "            row = self.df.iloc[idx]\n",
    "            label = row['label']\n",
    "            frame_path = row['frame_path']\n",
    "\n",
    "            # 从预提取的帧文件加载\n",
    "            video_tensor = self._load_preextracted_frames(frame_path)\n",
    "            \n",
    "            # 确保帧数一致\n",
    "            video_tensor = self._ensure_frame_count(video_tensor)\n",
    "            \n",
    "            # GPU预处理\n",
    "            if self.gpu_preprocessing and video_tensor.device != self.device:\n",
    "                video_tensor = video_tensor.to(self.device, non_blocking=True)\n",
    "            \n",
    "            # 标准化\n",
    "            video_tensor = self._normalize_frames(video_tensor)\n",
    "            \n",
    "            # 应用变换（如果有）\n",
    "            if self.transform:\n",
    "                video_tensor = self._apply_transforms(video_tensor)\n",
    "\n",
    "            # 提取多模态特征\n",
    "            additional_features = self._extract_additional_features(video_tensor)\n",
    "\n",
    "            label_tensor = torch.tensor(label, dtype=torch.float32)\n",
    "            \n",
    "            # 清理GPU内存\n",
    "            if self.gpu_preprocessing:\n",
    "                torch.cuda.empty_cache()\n",
    "            \n",
    "            # 返回数据和额外特征\n",
    "            if additional_features:\n",
    "                return video_tensor, label_tensor, additional_features\n",
    "            else:\n",
    "                return video_tensor, label_tensor\n",
    "            \n",
    "        except Exception as e:\n",
    "            print(f\"⚠️ 获取数据项 {idx} 时出错: {e}\")\n",
    "            # 返回默认数据\n",
    "            return self._get_default_item()\n",
    "\n",
    "    def _extract_additional_features(self, frames_tensor):\n",
    "        \"\"\"提取额外的多模态特征\"\"\"\n",
    "        features = {}\n",
    "        \n",
    "        try:\n",
    "            # 将tensor转换为numpy进行特征提取\n",
    "            if frames_tensor.device != torch.device('cpu'):\n",
    "                frames_np = frames_tensor.cpu().numpy()\n",
    "            else:\n",
    "                frames_np = frames_tensor.numpy()\n",
    "            \n",
    "            # 反标准化以获得原始像素值\n",
    "            mean_np = self.mean_tensor.cpu().numpy().reshape(1, 3, 1, 1)\n",
    "            std_np = self.std_tensor.cpu().numpy().reshape(1, 3, 1, 1)\n",
    "            frames_np = frames_np * std_np + mean_np\n",
    "            frames_np = np.clip(frames_np * 255.0, 0, 255).astype(np.uint8)\n",
    "            \n",
    "            if self.extract_fourier:\n",
    "                # 提取频域特征（使用中间帧）\n",
    "                mid_frame_idx = len(frames_np) // 2\n",
    "                mid_frame = frames_np[mid_frame_idx].transpose(1, 2, 0)  # CHW -> HWC\n",
    "                \n",
    "                try:\n",
    "                    # 检查函数是否存在\n",
    "                    if 'extract_fourier_features' in globals():\n",
    "                        fourier_features = extract_fourier_features(mid_frame)\n",
    "                        if fourier_features:\n",
    "                            features['fourier'] = fourier_features\n",
    "                    else:\n",
    "                        # 如果函数不存在，创建简单的频域特征替代\n",
    "                        gray_frame = np.mean(mid_frame, axis=2)\n",
    "                        fft = np.fft.fft2(gray_frame)\n",
    "                        fft_magnitude = np.abs(fft)\n",
    "                        features['fourier'] = {\n",
    "                            'mean_magnitude': float(np.mean(fft_magnitude)),\n",
    "                            'std_magnitude': float(np.std(fft_magnitude)),\n",
    "                            'max_magnitude': float(np.max(fft_magnitude))\n",
    "                        }\n",
    "                except Exception as e:\n",
    "                    print(f\"⚠️ 频域特征提取失败: {e}\")\n",
    "            \n",
    "            if self.extract_compression:\n",
    "                # 提取压缩伪影特征\n",
    "                compression_features = []\n",
    "                for i in range(0, len(frames_np), 4):  # 每4帧采样一次\n",
    "                    frame = frames_np[i].transpose(1, 2, 0)  # CHW -> HWC\n",
    "                    try:\n",
    "                        # 检查函数是否存在\n",
    "                        if 'analyze_compression_artifacts' in globals():\n",
    "                            comp_feat = analyze_compression_artifacts(frame)\n",
    "                            if comp_feat:\n",
    "                                compression_features.append(comp_feat)\n",
    "                        else:\n",
    "                            # 如果函数不存在，创建简单的压缩特征替代\n",
    "                            gray_frame = np.mean(frame, axis=2)\n",
    "                            # 简单的DCT能量计算\n",
    "                            dct_energy = float(np.var(gray_frame))\n",
    "                            # 简单的边缘密度计算\n",
    "                            edges = np.abs(np.gradient(gray_frame.astype(float)))\n",
    "                            edge_density = float(np.mean(edges[0]**2 + edges[1]**2))\n",
    "                            \n",
    "                            comp_feat = {\n",
    "                                'dct_energy': dct_energy,\n",
    "                                'edge_density': edge_density,\n",
    "                                'dct_mean': dct_energy,\n",
    "                                'high_freq_energy': dct_energy * 0.1\n",
    "                            }\n",
    "                            compression_features.append(comp_feat)\n",
    "                    except Exception as e:\n",
    "                        print(f\"⚠️ 压缩特征提取失败: {e}\")\n",
    "                        continue\n",
    "                \n",
    "                if compression_features:\n",
    "                    # 聚合压缩特征\n",
    "                    features['compression'] = {\n",
    "                        'dct_mean': np.mean([f.get('dct_mean', f.get('dct_energy', 0)) for f in compression_features]),\n",
    "                        'dct_std': np.std([f.get('dct_mean', f.get('dct_energy', 0)) for f in compression_features]),\n",
    "                        'dct_energy': np.mean([f.get('dct_energy', 0) for f in compression_features]),\n",
    "                        'high_freq_energy': np.mean([f.get('high_freq_energy', f.get('dct_energy', 0) * 0.1) for f in compression_features]),\n",
    "                        'edge_density': np.mean([f.get('edge_density', 0) for f in compression_features])\n",
    "                    }\n",
    "            \n",
    "            # 计算时序一致性特征\n",
    "            if len(frames_np) > 1:\n",
    "                temporal_features = self._compute_temporal_consistency_tensor(frames_np)\n",
    "                if temporal_features:\n",
    "                    features['temporal'] = temporal_features\n",
    "            \n",
    "            return features if features else None\n",
    "            \n",
    "        except Exception as e:\n",
    "            print(f\"⚠️ 提取额外特征失败: {e}\")\n",
    "            return None\n",
    "\n",
    "    def _compute_temporal_consistency(self, frames):\n",
    "        \"\"\"计算时序一致性特征（向后兼容）\"\"\"\n",
    "        try:\n",
    "            # 计算相邻帧之间的差异\n",
    "            frame_diffs = []\n",
    "            for i in range(len(frames) - 1):\n",
    "                diff = np.mean(np.abs(frames[i+1].astype(float) - frames[i].astype(float)))\n",
    "                frame_diffs.append(diff)\n",
    "            \n",
    "            if frame_diffs:\n",
    "                return {\n",
    "                    'mean_frame_diff': np.mean(frame_diffs),\n",
    "                    'std_frame_diff': np.std(frame_diffs),\n",
    "                    'max_frame_diff': np.max(frame_diffs),\n",
    "                    'temporal_smoothness': 1.0 / (1.0 + np.std(frame_diffs))\n",
    "                }\n",
    "            \n",
    "            return None\n",
    "            \n",
    "        except Exception as e:\n",
    "            print(f\"⚠️ 计算时序特征失败: {e}\")\n",
    "            return None\n",
    "    \n",
    "    def _compute_temporal_consistency_tensor(self, frames_np):\n",
    "        \"\"\"计算时序一致性特征（tensor版本）\"\"\"\n",
    "        try:\n",
    "            # 计算相邻帧之间的差异\n",
    "            frame_diffs = []\n",
    "            for i in range(len(frames_np) - 1):\n",
    "                diff = np.mean(np.abs(frames_np[i+1].astype(float) - frames_np[i].astype(float)))\n",
    "                frame_diffs.append(diff)\n",
    "            \n",
    "            if frame_diffs:\n",
    "                return {\n",
    "                    'mean_frame_diff': np.mean(frame_diffs),\n",
    "                    'std_frame_diff': np.std(frame_diffs),\n",
    "                    'max_frame_diff': np.max(frame_diffs),\n",
    "                    'temporal_smoothness': 1.0 / (1.0 + np.std(frame_diffs))\n",
    "                }\n",
    "            \n",
    "            return None\n",
    "            \n",
    "        except Exception as e:\n",
    "            print(f\"⚠️ 计算时序特征失败: {e}\")\n",
    "            return None\n",
    "\n",
    "    def _load_preextracted_frames(self, frame_path):\n",
    "        \"\"\"从预提取的帧文件加载数据\"\"\"\n",
    "        try:\n",
    "            # 直接加载tensor（数据准备阶段保存的格式）\n",
    "            frames_tensor = torch.load(frame_path, map_location='cpu')\n",
    "            \n",
    "            # 如果加载的是字典格式，提取frames\n",
    "            if isinstance(frames_tensor, dict):\n",
    "                frames_tensor = frames_tensor['frames']\n",
    "            \n",
    "            # 确保数据类型和范围正确\n",
    "            if frames_tensor.dtype != torch.float32:\n",
    "                frames_tensor = frames_tensor.float()\n",
    "            \n",
    "            # 数据准备阶段已经将像素值标准化到[0,1]，这里需要恢复到[0,255]\n",
    "            if frames_tensor.max() <= 1.0:\n",
    "                frames_tensor = frames_tensor * 255.0\n",
    "            \n",
    "            return frames_tensor\n",
    "            \n",
    "        except Exception as e:\n",
    "            print(f\"加载预提取帧失败 {frame_path}: {e}\")\n",
    "            return self._create_default_frames_tensor()\n",
    "    \n",
    "\n",
    "    \n",
    "    def _create_default_frames_tensor(self):\n",
    "        \"\"\"创建默认帧张量\"\"\"\n",
    "        # 创建随机噪声帧而不是全零帧，使训练更有意义\n",
    "        frames_tensor = torch.randint(0, 50, (self.max_frames, 3, 128, 128), dtype=torch.float32)\n",
    "        return frames_tensor\n",
    "    \n",
    "    def _ensure_frame_count(self, frames_tensor):\n",
    "        \"\"\"确保帧数一致\"\"\"\n",
    "        current_frames = frames_tensor.shape[0]\n",
    "        \n",
    "        if current_frames < self.max_frames:\n",
    "            # 重复最后一帧\n",
    "            last_frame = frames_tensor[-1:]\n",
    "            repeat_count = self.max_frames - current_frames\n",
    "            repeated_frames = last_frame.repeat(repeat_count, 1, 1, 1)\n",
    "            frames_tensor = torch.cat([frames_tensor, repeated_frames], dim=0)\n",
    "        elif current_frames > self.max_frames:\n",
    "            # 截取前max_frames帧\n",
    "            frames_tensor = frames_tensor[:self.max_frames]\n",
    "        \n",
    "        return frames_tensor\n",
    "    \n",
    "    def _normalize_frames(self, frames_tensor):\n",
    "        \"\"\"标准化帧数据\"\"\"\n",
    "        # 确保像素值在[0, 1]范围内\n",
    "        if frames_tensor.max() > 1.0:\n",
    "            frames_tensor = frames_tensor / 255.0\n",
    "        \n",
    "        # 移动标准化参数到正确设备\n",
    "        if self.mean_tensor.device != frames_tensor.device:\n",
    "            self.mean_tensor = self.mean_tensor.to(frames_tensor.device)\n",
    "            self.std_tensor = self.std_tensor.to(frames_tensor.device)\n",
    "        \n",
    "        # ImageNet标准化\n",
    "        frames_tensor = (frames_tensor - self.mean_tensor) / self.std_tensor\n",
    "        \n",
    "        # 限制数值范围防止梯度爆炸\n",
    "        frames_tensor = torch.clamp(frames_tensor, -10, 10)\n",
    "        \n",
    "        return frames_tensor\n",
    "    \n",
    "    def _apply_transforms(self, frames_tensor):\n",
    "        \"\"\"应用数据变换\"\"\"\n",
    "        try:\n",
    "            # 将tensor转换回PIL格式进行变换\n",
    "            transformed_frames = []\n",
    "            \n",
    "            # 反标准化以获得原始像素值\n",
    "            denorm_tensor = frames_tensor * self.std_tensor + self.mean_tensor\n",
    "            denorm_tensor = torch.clamp(denorm_tensor * 255.0, 0, 255)\n",
    "            \n",
    "            for i in range(frames_tensor.shape[0]):\n",
    "                frame = denorm_tensor[i].permute(1, 2, 0).cpu().numpy().astype(np.uint8)\n",
    "                frame_pil = Image.fromarray(frame)\n",
    "                transformed_frame = self.transform(frame_pil)\n",
    "                \n",
    "                # 检查变换后是否有NaN或无穷值\n",
    "                if torch.isnan(transformed_frame).any() or torch.isinf(transformed_frame).any():\n",
    "                    print(f\"⚠️ 检测到NaN/Inf值，跳过变换\")\n",
    "                    return frames_tensor\n",
    "                \n",
    "                transformed_frames.append(transformed_frame)\n",
    "            \n",
    "            return torch.stack(transformed_frames)\n",
    "            \n",
    "        except Exception as e:\n",
    "            print(f\"⚠️ 数据变换失败，使用原始数据: {e}\")\n",
    "            return frames_tensor\n",
    "    \n",
    "\n",
    "\n",
    "    def _get_default_item(self):\n",
    "        \"\"\"获取默认数据项（用于错误恢复）\"\"\"\n",
    "        frames = self._create_default_frames()\n",
    "        video_tensor = torch.stack([\n",
    "            torch.from_numpy(frame).permute(2, 0, 1) for frame in frames\n",
    "        ]).float() / 255.0\n",
    "        \n",
    "        # 标准化\n",
    "        mean = torch.tensor([0.485, 0.456, 0.406]).view(1, 3, 1, 1)\n",
    "        std = torch.tensor([0.229, 0.224, 0.225]).view(1, 3, 1, 1)\n",
    "        video_tensor = (video_tensor - mean) / std\n",
    "        \n",
    "        label_tensor = torch.tensor(0.0, dtype=torch.float32)\n",
    "        return video_tensor, label_tensor\n",
    "\n",
    "    def _create_default_frames(self):\n",
    "        \"\"\"创建默认帧数据（numpy格式）\"\"\"\n",
    "        # 创建随机噪声帧而不是全零帧，使训练更有意义\n",
    "        frames = []\n",
    "        for _ in range(self.max_frames):\n",
    "            # 创建128x128x3的随机帧，值在[0, 50]范围内（低噪声）\n",
    "            frame = np.random.randint(0, 50, (128, 128, 3), dtype=np.uint8)\n",
    "            frames.append(frame)\n",
    "        return frames\n",
    "\n",
    "\n",
    "\n",
    "    def enable_ensemble_mode(self):\n",
    "        \"\"\"启用集成模式，提取所有可用特征\"\"\"\n",
    "        self.extract_fourier = True\n",
    "        self.extract_compression = True\n",
    "        print(\"🎯 启用集成模式：所有特征提取已激活\")\n",
    "\n",
    "print(\"✅ 数据集类定义完成\")"
   ]
  },
  {
   "cell_type": "code",
   "execution_count": 6,
   "id": "1622393c",
   "metadata": {
    "execution": {
     "iopub.execute_input": "2025-07-30T12:23:08.367349Z",
     "iopub.status.busy": "2025-07-30T12:23:08.367110Z",
     "iopub.status.idle": "2025-07-30T12:23:08.412486Z",
     "shell.execute_reply": "2025-07-30T12:23:08.411855Z"
    },
    "jupyter": {
     "source_hidden": true
    },
    "papermill": {
     "duration": 0.056569,
     "end_time": "2025-07-30T12:23:08.413654",
     "exception": false,
     "start_time": "2025-07-30T12:23:08.357085",
     "status": "completed"
    },
    "tags": []
   },
   "outputs": [
    {
     "name": "stdout",
     "output_type": "stream",
     "text": [
      "✅ 优化模型定义完成\n"
     ]
    }
   ],
   "source": [
    "# Cell 5: 模型定义 - 集成多模态特征和Ensemble策略\n",
    "class OptimizedDeepfakeDetector(nn.Module):\n",
    "    \"\"\"优化的深度伪造检测器 - 集成多模态特征和Ensemble策略\"\"\"\n",
    "    \n",
    "    def __init__(self, num_classes=1, dropout_rate=0.3, use_attention=True, \n",
    "                 use_multimodal=False, ensemble_mode=False):\n",
    "        super(OptimizedDeepfakeDetector, self).__init__()\n",
    "        \n",
    "        self.use_attention = use_attention\n",
    "        self.use_multimodal = use_multimodal\n",
    "        self.ensemble_mode = ensemble_mode\n",
    "        \n",
    "        # 主干网络 - ResNet18 (轻量化模型，更适合小数据集)\n",
    "        self.backbone = models.resnet18(pretrained=True)\n",
    "        backbone_features = self.backbone.fc.in_features  # ResNet18: 512维特征\n",
    "        self.backbone.fc = nn.Identity()  # 移除最后的分类层\n",
    "        \n",
    "        # 时序特征提取\n",
    "        self.temporal_conv = nn.Sequential(\n",
    "            nn.Conv3d(3, 64, kernel_size=(3, 3, 3), padding=(1, 1, 1)),\n",
    "            nn.BatchNorm3d(64),\n",
    "            nn.ReLU(inplace=True),\n",
    "            nn.AdaptiveAvgPool3d((1, 7, 7))\n",
    "        )\n",
    "        \n",
    "        # 注意力机制\n",
    "        if use_attention:\n",
    "            self.attention = nn.MultiheadAttention(\n",
    "                embed_dim=backbone_features, \n",
    "                num_heads=8, \n",
    "                dropout=dropout_rate,\n",
    "                batch_first=True\n",
    "            )\n",
    "            self.attention_norm = nn.LayerNorm(backbone_features)\n",
    "        \n",
    "        # 多模态特征融合\n",
    "        if use_multimodal:\n",
    "            # 频域特征处理 - 修正输入维度\n",
    "            self.fourier_fc = nn.Sequential(\n",
    "                nn.Linear(5, 256),  # 频域特征实际维度为5 (mean, std, max, energy, entropy)\n",
    "                nn.ReLU(inplace=True),\n",
    "                nn.Dropout(dropout_rate),\n",
    "                nn.Linear(256, 128)\n",
    "            )\n",
    "            \n",
    "            # 压缩伪影特征处理 - 修正输入维度\n",
    "            self.compression_fc = nn.Sequential(\n",
    "                nn.Linear(32, 64),  # 压缩特征扩展为32维\n",
    "                nn.ReLU(inplace=True),\n",
    "                nn.Dropout(dropout_rate),\n",
    "                nn.Linear(64, 32)\n",
    "            )\n",
    "            \n",
    "            # 时序一致性特征处理\n",
    "            self.temporal_fc = nn.Sequential(\n",
    "                nn.Linear(4, 64),  # 时序特征维度为4\n",
    "                nn.ReLU(inplace=True),\n",
    "                nn.Dropout(dropout_rate),\n",
    "                nn.Linear(64, 32)\n",
    "            )\n",
    "            \n",
    "            # 特征融合层 - 动态计算输入维度\n",
    "            # 基础特征: backbone_features (512 for ResNet18)\n",
    "            # 频域特征: 128 (fourier_fc输出)\n",
    "            # 压缩特征: 32 (compression_fc输出)  \n",
    "            # 时序特征: 32 (temporal_fc输出)\n",
    "            fusion_dim = backbone_features + 128 + 32 + 32  # 512 + 128 + 32 + 32 = 704\n",
    "            self.fusion_layer = nn.Sequential(\n",
    "                nn.Linear(fusion_dim, 256),  # 减少中间层维度\n",
    "                nn.ReLU(inplace=True),\n",
    "                nn.Dropout(dropout_rate),\n",
    "                nn.Linear(256, 128)  # 进一步减少输出维度\n",
    "            )\n",
    "            final_features = 128  # 减少最终特征维度\n",
    "        else:\n",
    "            final_features = backbone_features\n",
    "        \n",
    "        # 集成模式的多个分类头\n",
    "        if ensemble_mode:\n",
    "            # 主分类器 - 简化结构\n",
    "            self.main_classifier = nn.Sequential(\n",
    "                nn.Dropout(dropout_rate),\n",
    "                nn.Linear(final_features, 64),  # 减少中间层维度\n",
    "                nn.ReLU(inplace=True),\n",
    "                nn.Dropout(dropout_rate),\n",
    "                nn.Linear(64, num_classes)\n",
    "            )\n",
    "            \n",
    "            # 辅助分类器1 - 专注于空间特征\n",
    "            self.spatial_classifier = nn.Sequential(\n",
    "                nn.Dropout(dropout_rate),\n",
    "                nn.Linear(final_features, 32),  # 进一步减少维度\n",
    "                nn.ReLU(inplace=True),\n",
    "                nn.Linear(32, num_classes)\n",
    "            )\n",
    "            \n",
    "            # 辅助分类器2 - 专注于时序特征\n",
    "            self.temporal_classifier = nn.Sequential(\n",
    "                nn.Dropout(dropout_rate),\n",
    "                nn.Linear(final_features, 32),  # 进一步减少维度\n",
    "                nn.ReLU(inplace=True),\n",
    "                nn.Linear(32, num_classes)\n",
    "            )\n",
    "            \n",
    "            # 集成权重（可学习）\n",
    "            self.ensemble_weights = nn.Parameter(torch.ones(3) / 3)\n",
    "            \n",
    "        else:\n",
    "            # 单一分类器 - 简化结构，减少过拟合风险\n",
    "            self.classifier = nn.Sequential(\n",
    "                nn.Dropout(dropout_rate),\n",
    "                nn.Linear(final_features, 64),  # 大幅减少中间层维度\n",
    "                nn.ReLU(inplace=True),\n",
    "                nn.Dropout(dropout_rate),\n",
    "                nn.Linear(64, num_classes)  # 直接输出，移除多余层\n",
    "            )\n",
    "            \n",
    "            # 添加单一分类器用于处理基础特征（当多模态特征处理失败时）\n",
    "            self.single_classifier = nn.Sequential(\n",
    "                nn.Dropout(dropout_rate),\n",
    "                nn.Linear(backbone_features, 64),  # 减少中间层维度\n",
    "                nn.ReLU(inplace=True),\n",
    "                nn.Dropout(dropout_rate),\n",
    "                nn.Linear(64, num_classes)\n",
    "            )\n",
    "        \n",
    "        # 初始化权重\n",
    "        self._initialize_weights()\n",
    "        \n",
    "        print(f\"✅ 模型初始化完成 (ResNet18 轻量化版本)\")\n",
    "        print(f\"   - 主干网络: ResNet18 (512维特征)\")\n",
    "        print(f\"   - 注意力机制: {'启用' if use_attention else '禁用'}\")\n",
    "        print(f\"   - 多模态融合: {'启用' if use_multimodal else '禁用'}\")\n",
    "        print(f\"   - 集成模式: {'启用' if ensemble_mode else '禁用'}\")\n",
    "        print(f\"   - 预计参数量: ~11M (相比ResNet50减少约75%)\")\n",
    "\n",
    "    def _initialize_weights(self):\n",
    "        \"\"\"初始化权重\"\"\"\n",
    "        for m in self.modules():\n",
    "            if isinstance(m, nn.Linear):\n",
    "                nn.init.xavier_uniform_(m.weight)\n",
    "                if m.bias is not None:\n",
    "                    nn.init.constant_(m.bias, 0)\n",
    "            elif isinstance(m, nn.Conv3d):\n",
    "                nn.init.kaiming_normal_(m.weight, mode='fan_out', nonlinearity='relu')\n",
    "\n",
    "    def forward(self, x, additional_features=None):\n",
    "        \"\"\"\n",
    "        前向传播\n",
    "        Args:\n",
    "            x: 视频张量 (B, T, C, H, W)\n",
    "            additional_features: 额外特征字典\n",
    "        \"\"\"\n",
    "        batch_size, num_frames, channels, height, width = x.shape\n",
    "        \n",
    "        # 提取每帧的空间特征\n",
    "        x_reshaped = x.view(batch_size * num_frames, channels, height, width)\n",
    "        spatial_features = self.backbone(x_reshaped)  # (B*T, features)\n",
    "        spatial_features = spatial_features.view(batch_size, num_frames, -1)  # (B, T, features)\n",
    "        \n",
    "        # 时序特征聚合\n",
    "        if self.use_attention:\n",
    "            # 使用注意力机制聚合时序特征\n",
    "            attended_features, attention_weights = self.attention(\n",
    "                spatial_features, spatial_features, spatial_features\n",
    "            )\n",
    "            attended_features = self.attention_norm(attended_features + spatial_features)\n",
    "            # 全局平均池化\n",
    "            temporal_features = torch.mean(attended_features, dim=1)  # (B, features)\n",
    "        else:\n",
    "            # 简单平均池化\n",
    "            temporal_features = torch.mean(spatial_features, dim=1)  # (B, features)\n",
    "        \n",
    "        # 多模态特征融合\n",
    "        if self.use_multimodal and additional_features is not None:\n",
    "            fusion_features = [temporal_features]\n",
    "            \n",
    "            # 处理频域特征\n",
    "            if 'fourier' in additional_features:\n",
    "                try:\n",
    "                    fourier_feat = additional_features['fourier']\n",
    "                    if isinstance(fourier_feat, dict):\n",
    "                        # 安全地提取数值特征\n",
    "                        fourier_values = []\n",
    "                        for value in fourier_feat.values():\n",
    "                            if isinstance(value, (int, float)):\n",
    "                                fourier_values.append(float(value))\n",
    "                            elif isinstance(value, torch.Tensor):\n",
    "                                if value.numel() == 1:\n",
    "                                    fourier_values.append(float(value.item()))\n",
    "                                else:\n",
    "                                    fourier_values.append(float(value.mean().item()))\n",
    "                            elif isinstance(value, np.ndarray):\n",
    "                                if value.size == 1:\n",
    "                                    fourier_values.append(float(value.item()))\n",
    "                                else:\n",
    "                                    fourier_values.append(float(value.mean()))\n",
    "                            else:\n",
    "                                fourier_values.append(0.0)  # 默认值\n",
    "                        \n",
    "                        # 确保有足够的特征维度\n",
    "                        if len(fourier_values) < 5:  # fourier_fc期望5维输入\n",
    "                            fourier_values.extend([0.0] * (5 - len(fourier_values)))\n",
    "                        elif len(fourier_values) > 5:\n",
    "                            fourier_values = fourier_values[:5]\n",
    "                        \n",
    "                        fourier_tensor = torch.tensor([fourier_values] * batch_size, \n",
    "                                                    dtype=torch.float32, \n",
    "                                                    device=temporal_features.device)\n",
    "                    else:\n",
    "                        # 如果已经是张量，确保正确的形状\n",
    "                        if isinstance(fourier_feat, torch.Tensor):\n",
    "                            fourier_tensor = fourier_feat.to(temporal_features.device)\n",
    "                            if fourier_tensor.dim() == 1:\n",
    "                                fourier_tensor = fourier_tensor.unsqueeze(0).repeat(batch_size, 1)\n",
    "                        else:\n",
    "                            # 创建默认张量\n",
    "                            fourier_tensor = torch.zeros(batch_size, 5, \n",
    "                                                        dtype=torch.float32, \n",
    "                                                        device=temporal_features.device)\n",
    "                    \n",
    "                    fourier_processed = self.fourier_fc(fourier_tensor)\n",
    "                    fusion_features.append(fourier_processed)\n",
    "                except Exception as e:\n",
    "                    print(f\"⚠️ 频域特征处理失败: {e}\")\n",
    "                    # 使用默认特征\n",
    "                    fourier_tensor = torch.zeros(batch_size, 5, \n",
    "                                                dtype=torch.float32, \n",
    "                                                device=temporal_features.device)\n",
    "                    fourier_processed = self.fourier_fc(fourier_tensor)\n",
    "                    fusion_features.append(fourier_processed)\n",
    "            \n",
    "            # 处理压缩伪影特征\n",
    "            if 'compression' in additional_features:\n",
    "                try:\n",
    "                    comp_feat = additional_features['compression']\n",
    "                    if isinstance(comp_feat, dict):\n",
    "                        # 安全地提取压缩特征 - 修正为5个特征\n",
    "                        comp_values = []\n",
    "                        for key in ['dct_mean', 'dct_std', 'dct_energy', 'high_freq_energy', 'edge_density']:\n",
    "                            if key in comp_feat:\n",
    "                                value = comp_feat[key]\n",
    "                                if isinstance(value, (int, float)):\n",
    "                                    comp_values.append(float(value))\n",
    "                                elif isinstance(value, torch.Tensor):\n",
    "                                    comp_values.append(float(value.item() if value.numel() == 1 else value.mean().item()))\n",
    "                                elif isinstance(value, np.ndarray):\n",
    "                                    comp_values.append(float(value.item() if value.size == 1 else value.mean()))\n",
    "                                else:\n",
    "                                    comp_values.append(0.0)\n",
    "                            else:\n",
    "                                comp_values.append(0.0)\n",
    "                        \n",
    "                        # 扩展到32维：重复基础特征并添加派生特征\n",
    "                        extended_values = comp_values.copy()\n",
    "                        # 添加派生特征\n",
    "                        extended_values.extend([\n",
    "                            comp_values[0] * comp_values[1],  # mean * std\n",
    "                            comp_values[2] / (comp_values[3] + 1e-8),  # energy ratio\n",
    "                            comp_values[4] * comp_values[0],  # edge * mean\n",
    "                            np.sqrt(abs(comp_values[2])),  # sqrt energy\n",
    "                            comp_values[1] / (comp_values[0] + 1e-8),  # std/mean ratio\n",
    "                        ])\n",
    "                        # 重复填充到32维\n",
    "                        while len(extended_values) < 32:\n",
    "                            extended_values.extend(comp_values[:min(5, 32 - len(extended_values))])\n",
    "                        \n",
    "                        comp_tensor = torch.tensor([extended_values[:32]] * batch_size, \n",
    "                                                 dtype=torch.float32, \n",
    "                                                 device=temporal_features.device)\n",
    "                    else:\n",
    "                        if isinstance(comp_feat, torch.Tensor):\n",
    "                            comp_tensor = comp_feat.to(temporal_features.device)\n",
    "                            if comp_tensor.dim() == 1:\n",
    "                                comp_tensor = comp_tensor.unsqueeze(0).repeat(batch_size, 1)\n",
    "                            # 确保是32维\n",
    "                            if comp_tensor.size(-1) < 32:\n",
    "                                padding = torch.zeros(batch_size, 32 - comp_tensor.size(-1), \n",
    "                                                    dtype=torch.float32, \n",
    "                                                    device=temporal_features.device)\n",
    "                                comp_tensor = torch.cat([comp_tensor, padding], dim=-1)\n",
    "                            elif comp_tensor.size(-1) > 32:\n",
    "                                comp_tensor = comp_tensor[:, :32]\n",
    "                        else:\n",
    "                            comp_tensor = torch.zeros(batch_size, 32, \n",
    "                                                    dtype=torch.float32, \n",
    "                                                    device=temporal_features.device)\n",
    "                    \n",
    "                    comp_processed = self.compression_fc(comp_tensor)\n",
    "                    fusion_features.append(comp_processed)\n",
    "                except Exception as e:\n",
    "                    print(f\"⚠️ 压缩特征处理失败: {e}\")\n",
    "                    comp_tensor = torch.zeros(batch_size, 32, \n",
    "                                            dtype=torch.float32, \n",
    "                                            device=temporal_features.device)\n",
    "                    comp_processed = self.compression_fc(comp_tensor)\n",
    "                    fusion_features.append(comp_processed)\n",
    "            \n",
    "            # 处理时序一致性特征\n",
    "            if 'temporal' in additional_features:\n",
    "                try:\n",
    "                    temp_feat = additional_features['temporal']\n",
    "                    if isinstance(temp_feat, dict):\n",
    "                        # 安全地提取时序特征\n",
    "                        temp_values = []\n",
    "                        for key in ['mean_frame_diff', 'std_frame_diff', 'max_frame_diff', 'temporal_smoothness']:\n",
    "                            if key in temp_feat:\n",
    "                                value = temp_feat[key]\n",
    "                                if isinstance(value, (int, float)):\n",
    "                                    temp_values.append(float(value))\n",
    "                                elif isinstance(value, torch.Tensor):\n",
    "                                    temp_values.append(float(value.item() if value.numel() == 1 else value.mean().item()))\n",
    "                                elif isinstance(value, np.ndarray):\n",
    "                                    temp_values.append(float(value.item() if value.size == 1 else value.mean()))\n",
    "                                else:\n",
    "                                    temp_values.append(0.0)\n",
    "                            else:\n",
    "                                temp_values.append(0.0)\n",
    "                        \n",
    "                        temp_tensor = torch.tensor([temp_values] * batch_size, \n",
    "                                                 dtype=torch.float32, \n",
    "                                                 device=temporal_features.device)\n",
    "                    else:\n",
    "                        if isinstance(temp_feat, torch.Tensor):\n",
    "                            temp_tensor = temp_feat.to(temporal_features.device)\n",
    "                            if temp_tensor.dim() == 1:\n",
    "                                temp_tensor = temp_tensor.unsqueeze(0).repeat(batch_size, 1)\n",
    "                        else:\n",
    "                            temp_tensor = torch.zeros(batch_size, 4, \n",
    "                                                    dtype=torch.float32, \n",
    "                                                    device=temporal_features.device)\n",
    "                    \n",
    "                    temp_processed = self.temporal_fc(temp_tensor)\n",
    "                    fusion_features.append(temp_processed)\n",
    "                except Exception as e:\n",
    "                    print(f\"⚠️ 时序特征处理失败: {e}\")\n",
    "                    temp_tensor = torch.zeros(batch_size, 4, \n",
    "                                            dtype=torch.float32, \n",
    "                                            device=temporal_features.device)\n",
    "                    temp_processed = self.temporal_fc(temp_tensor)\n",
    "                    fusion_features.append(temp_processed)\n",
    "            \n",
    "            # 特征融合 - 确保维度一致性\n",
    "            if len(fusion_features) > 1:\n",
    "                try:\n",
    "                    # 检查每个特征的维度\n",
    "                    feature_dims = [f.shape[1] for f in fusion_features]\n",
    "                    total_dim = sum(feature_dims)\n",
    "                    expected_dim = self.fusion_layer[0].in_features\n",
    "                    \n",
    "                    if total_dim == expected_dim:\n",
    "                        # 维度匹配，直接融合\n",
    "                        fused_features = torch.cat(fusion_features, dim=1)\n",
    "                        final_features = self.fusion_layer(fused_features)\n",
    "                    else:\n",
    "                        # 维度不匹配时进行调整（这是正常的多模态特征处理）\n",
    "                        if total_dim < expected_dim:\n",
    "                            # 维度不足，用零填充\n",
    "                            padding_dim = expected_dim - total_dim\n",
    "                            fused_features = torch.cat(fusion_features, dim=1)\n",
    "                            padding = torch.zeros(batch_size, padding_dim, \n",
    "                                                dtype=fused_features.dtype, \n",
    "                                                device=fused_features.device)\n",
    "                            fused_features = torch.cat([fused_features, padding], dim=1)\n",
    "                            final_features = self.fusion_layer(fused_features)\n",
    "                            # 只在调试模式下输出详细信息\n",
    "                            if hasattr(self, 'debug_mode') and self.debug_mode:\n",
    "                                print(f\"🔧 特征填充: {total_dim} -> {expected_dim}\")\n",
    "                        elif total_dim > expected_dim:\n",
    "                            # 维度过多，截断到期望维度\n",
    "                            fused_features = torch.cat(fusion_features, dim=1)\n",
    "                            fused_features = fused_features[:, :expected_dim]\n",
    "                            final_features = self.fusion_layer(fused_features)\n",
    "                            # 只在调试模式下输出详细信息\n",
    "                            if hasattr(self, 'debug_mode') and self.debug_mode:\n",
    "                                print(f\"🔧 特征截断: {total_dim} -> {expected_dim}\")\n",
    "                        else:\n",
    "                            # 理论上不应该到达这里\n",
    "                            print(f\"⚠️ 特征融合异常，使用基础特征\")\n",
    "                            final_features = temporal_features\n",
    "                            \n",
    "                except Exception as e:\n",
    "                    print(f\"⚠️ 特征融合失败: {e}\")\n",
    "                    final_features = temporal_features\n",
    "            else:\n",
    "                final_features = temporal_features\n",
    "        else:\n",
    "            final_features = temporal_features\n",
    "        \n",
    "        # 分类预测 - 根据特征维度选择合适的分类器\n",
    "        if self.ensemble_mode:\n",
    "            # 集成预测\n",
    "            main_pred = self.main_classifier(final_features)\n",
    "            spatial_pred = self.spatial_classifier(final_features)\n",
    "            temporal_pred = self.temporal_classifier(final_features)\n",
    "            \n",
    "            # 加权融合\n",
    "            weights = F.softmax(self.ensemble_weights, dim=0)\n",
    "            ensemble_pred = (weights[0] * main_pred + \n",
    "                           weights[1] * spatial_pred + \n",
    "                           weights[2] * temporal_pred)\n",
    "            \n",
    "            if self.training:\n",
    "                # 训练时返回所有预测用于多任务学习\n",
    "                return {\n",
    "                    'main': main_pred,\n",
    "                    'spatial': spatial_pred,\n",
    "                    'temporal': temporal_pred,\n",
    "                    'ensemble': ensemble_pred\n",
    "                }\n",
    "            else:\n",
    "                # 推理时只返回集成结果\n",
    "                return ensemble_pred\n",
    "        else:\n",
    "            # 检查特征维度并选择合适的分类器\n",
    "            feature_dim = final_features.shape[1]\n",
    "            \n",
    "            # 获取分类器的输入维度\n",
    "            classifier_input_dim = None\n",
    "            single_classifier_input_dim = None\n",
    "            \n",
    "            # 找到第一个Linear层来获取输入维度\n",
    "            for layer in self.classifier:\n",
    "                if isinstance(layer, nn.Linear):\n",
    "                    classifier_input_dim = layer.in_features\n",
    "                    break\n",
    "            \n",
    "            for layer in self.single_classifier:\n",
    "                if isinstance(layer, nn.Linear):\n",
    "                    single_classifier_input_dim = layer.in_features\n",
    "                    break\n",
    "            \n",
    "            # 根据特征维度选择合适的分类器\n",
    "            if classifier_input_dim and feature_dim == classifier_input_dim:\n",
    "                logits = self.classifier(final_features)\n",
    "            elif single_classifier_input_dim and feature_dim == single_classifier_input_dim:\n",
    "                logits = self.single_classifier(final_features)\n",
    "            else:\n",
    "                # 如果都不匹配，尝试使用单一分类器（通常处理基础特征）\n",
    "                print(f\"⚠️ 特征维度 {feature_dim} 不匹配任何分类器，使用单一分类器\")\n",
    "                logits = self.single_classifier(final_features)\n",
    "            \n",
    "            # 检查输出是否包含NaN或无穷值\n",
    "            if torch.isnan(logits).any() or torch.isinf(logits).any():\n",
    "                print(\"⚠️ 模型输出包含NaN/Inf，使用安全的默认输出\")\n",
    "                # 返回安全的默认输出（中性预测）\n",
    "                batch_size = logits.shape[0]\n",
    "                device = logits.device\n",
    "                logits = torch.zeros(batch_size, 1, device=device, dtype=torch.float32)\n",
    "            \n",
    "            # 限制logits的数值范围，避免极端值\n",
    "            logits = torch.clamp(logits, -10, 10)\n",
    "            \n",
    "            return logits\n",
    "\n",
    "    def get_attention_weights(self, x):\n",
    "        \"\"\"获取注意力权重（用于可视化）\"\"\"\n",
    "        if not self.use_attention:\n",
    "            return None\n",
    "        \n",
    "        batch_size, num_frames, channels, height, width = x.shape\n",
    "        x_reshaped = x.view(batch_size * num_frames, channels, height, width)\n",
    "        spatial_features = self.backbone(x_reshaped)\n",
    "        spatial_features = spatial_features.view(batch_size, num_frames, -1)\n",
    "        \n",
    "        _, attention_weights = self.attention(\n",
    "            spatial_features, spatial_features, spatial_features\n",
    "        )\n",
    "        \n",
    "        return attention_weights\n",
    "\n",
    "    def enable_ensemble_mode(self):\n",
    "        \"\"\"启用集成模式\"\"\"\n",
    "        self.ensemble_mode = True\n",
    "        print(\"🎯 集成模式已启用\")\n",
    "\n",
    "    def disable_ensemble_mode(self):\n",
    "        \"\"\"禁用集成模式\"\"\"\n",
    "        self.ensemble_mode = False\n",
    "        print(\"🎯 集成模式已禁用\")\n",
    "\n",
    "    def get_model_info(self):\n",
    "        \"\"\"获取模型信息\"\"\"\n",
    "        total_params = sum(p.numel() for p in self.parameters())\n",
    "        trainable_params = sum(p.numel() for p in self.parameters() if p.requires_grad)\n",
    "        \n",
    "        return {\n",
    "            'total_parameters': total_params,\n",
    "            'trainable_parameters': trainable_params,\n",
    "            'use_attention': self.use_attention,\n",
    "            'use_multimodal': self.use_multimodal,\n",
    "            'ensemble_mode': self.ensemble_mode\n",
    "        }\n",
    "\n",
    "def create_ensemble_models(num_models=3, **kwargs):\n",
    "    \"\"\"创建多个模型用于集成学习\"\"\"\n",
    "    models = []\n",
    "    for i in range(num_models):\n",
    "        # 为每个模型使用不同的配置\n",
    "        model_kwargs = kwargs.copy()\n",
    "        if i == 0:\n",
    "            model_kwargs.update({'use_attention': True, 'dropout_rate': 0.3})\n",
    "        elif i == 1:\n",
    "            model_kwargs.update({'use_attention': False, 'dropout_rate': 0.4})\n",
    "        else:\n",
    "            model_kwargs.update({'use_attention': True, 'dropout_rate': 0.2})\n",
    "        \n",
    "        model = OptimizedDeepfakeDetector(**model_kwargs)\n",
    "        models.append(model)\n",
    "    \n",
    "    print(f\"✅ 创建了 {num_models} 个集成模型\")\n",
    "    return models\n",
    "\n",
    "print(\"✅ 优化模型定义完成\")"
   ]
  },
  {
   "cell_type": "code",
   "execution_count": 7,
   "id": "95b665b3",
   "metadata": {
    "execution": {
     "iopub.execute_input": "2025-07-30T12:23:08.431548Z",
     "iopub.status.busy": "2025-07-30T12:23:08.431252Z",
     "iopub.status.idle": "2025-07-30T12:23:08.448122Z",
     "shell.execute_reply": "2025-07-30T12:23:08.447305Z"
    },
    "jupyter": {
     "source_hidden": true
    },
    "papermill": {
     "duration": 0.027513,
     "end_time": "2025-07-30T12:23:08.449385",
     "exception": false,
     "start_time": "2025-07-30T12:23:08.421872",
     "status": "completed"
    },
    "tags": []
   },
   "outputs": [
    {
     "name": "stdout",
     "output_type": "stream",
     "text": [
      "✅ 损失函数和工具类定义完成\n"
     ]
    }
   ],
   "source": [
    "# Cell 6: 损失函数和工具类\n",
    "\n",
    "class FocalLoss(nn.Module):\n",
    "    \"\"\"焦点损失函数 - 解决类别不平衡问题（修复版本）\"\"\"\n",
    "    \n",
    "    def __init__(self, alpha=0.25, gamma=2.0, pos_weight=None, reduction='mean'):\n",
    "        super(FocalLoss, self).__init__()\n",
    "        self.alpha = alpha\n",
    "        self.gamma = gamma\n",
    "        self.pos_weight = pos_weight\n",
    "        self.reduction = reduction\n",
    "\n",
    "    def forward(self, inputs, targets):\n",
    "        # 添加数值稳定性检查\n",
    "        inputs = torch.clamp(inputs, min=-10, max=10)  # 防止极值导致NaN\n",
    "        \n",
    "        # 使用 BCEWithLogitsLoss 以兼容 autocast，支持pos_weight\n",
    "        ce_loss = nn.BCEWithLogitsLoss(pos_weight=self.pos_weight, reduction='none')(inputs, targets)\n",
    "        \n",
    "        # 添加数值稳定性\n",
    "        ce_loss = torch.clamp(ce_loss, min=1e-8, max=100)\n",
    "        \n",
    "        # 计算概率用于focal weight\n",
    "        pt = torch.exp(-ce_loss)\n",
    "        pt = torch.clamp(pt, min=1e-8, max=1-1e-8)  # 防止极值\n",
    "        \n",
    "        # 动态alpha：对于正样本使用alpha，负样本使用(1-alpha)\n",
    "        alpha_t = self.alpha * targets + (1 - self.alpha) * (1 - targets)\n",
    "        focal_loss = alpha_t * (1 - pt) ** self.gamma * ce_loss\n",
    "        \n",
    "        # 检查NaN并替换\n",
    "        focal_loss = torch.where(torch.isnan(focal_loss), torch.zeros_like(focal_loss), focal_loss)\n",
    "\n",
    "        if self.reduction == 'mean':\n",
    "            return focal_loss.mean()\n",
    "        elif self.reduction == 'sum':\n",
    "            return focal_loss.sum()\n",
    "        else:\n",
    "            return focal_loss\n",
    "\n",
    "class LabelSmoothingLoss(nn.Module):\n",
    "    \"\"\"标签平滑损失函数\"\"\"\n",
    "    \n",
    "    def __init__(self, smoothing=0.1, pos_weight=None):\n",
    "        super(LabelSmoothingLoss, self).__init__()\n",
    "        self.smoothing = smoothing\n",
    "        self.pos_weight = pos_weight\n",
    "    \n",
    "    def forward(self, inputs, targets):\n",
    "        # 标签平滑\n",
    "        targets_smooth = targets * (1 - self.smoothing) + 0.5 * self.smoothing\n",
    "        \n",
    "        # 使用BCEWithLogitsLoss\n",
    "        loss = nn.BCEWithLogitsLoss(pos_weight=self.pos_weight, reduction='mean')(inputs, targets_smooth)\n",
    "        return loss\n",
    "\n",
    "class CombinedLoss(nn.Module):\n",
    "    \"\"\"组合损失函数：Focal Loss + Label Smoothing\"\"\"\n",
    "    \n",
    "    def __init__(self, focal_weight=0.7, smooth_weight=0.3, alpha=0.25, gamma=2.0, \n",
    "                 smoothing=0.1, pos_weight=None):\n",
    "        super(CombinedLoss, self).__init__()\n",
    "        self.focal_weight = focal_weight\n",
    "        self.smooth_weight = smooth_weight\n",
    "        self.focal_loss = FocalLoss(alpha=alpha, gamma=gamma, pos_weight=pos_weight)\n",
    "        self.smooth_loss = LabelSmoothingLoss(smoothing=smoothing, pos_weight=pos_weight)\n",
    "    \n",
    "    def forward(self, inputs, targets):\n",
    "        focal = self.focal_loss(inputs, targets)\n",
    "        smooth = self.smooth_loss(inputs, targets)\n",
    "        return self.focal_weight * focal + self.smooth_weight * smooth\n",
    "\n",
    "class EarlyStopping:\n",
    "    \"\"\"早停机制\"\"\"\n",
    "    \n",
    "    def __init__(self, patience=7, min_delta=0, restore_best_weights=True):\n",
    "        self.patience = patience\n",
    "        self.min_delta = min_delta\n",
    "        self.restore_best_weights = restore_best_weights\n",
    "        self.best_loss = None\n",
    "        self.counter = 0\n",
    "        self.best_weights = None\n",
    "\n",
    "    def __call__(self, val_loss, model):\n",
    "        if self.best_loss is None:\n",
    "            self.best_loss = val_loss\n",
    "            self.save_checkpoint(model)\n",
    "        elif val_loss < self.best_loss - self.min_delta:\n",
    "            self.best_loss = val_loss\n",
    "            self.counter = 0\n",
    "            self.save_checkpoint(model)\n",
    "        else:\n",
    "            self.counter += 1\n",
    "\n",
    "        if self.counter >= self.patience:\n",
    "            if self.restore_best_weights:\n",
    "                model.load_state_dict(self.best_weights)\n",
    "            return True\n",
    "        return False\n",
    "\n",
    "    def save_checkpoint(self, model):\n",
    "        self.best_weights = model.state_dict().copy()\n",
    "\n",
    "def get_transforms(mode='train', image_size=128):\n",
    "    \"\"\"获取优化的数据变换 - 类别平衡增强版本\"\"\"\n",
    "    if mode == 'train':\n",
    "        return transforms.Compose([\n",
    "            transforms.Resize((int(image_size * 1.15), int(image_size * 1.15))),  # 增加resize比例\n",
    "            transforms.RandomCrop((image_size, image_size)),\n",
    "            transforms.RandomHorizontalFlip(p=0.6),  # 增加翻转概率\n",
    "            transforms.ColorJitter(brightness=0.3, contrast=0.3, saturation=0.3, hue=0.15),  # 增强颜色变换\n",
    "            transforms.RandomRotation(degrees=15),  # 增加旋转角度\n",
    "            transforms.RandomAffine(degrees=0, translate=(0.15, 0.15), scale=(0.9, 1.1)),  # 增强仿射变换\n",
    "            transforms.RandomPerspective(distortion_scale=0.2, p=0.3),  # 添加透视变换\n",
    "            transforms.ToTensor(),\n",
    "            transforms.Normalize(mean=[0.485, 0.456, 0.406], std=[0.229, 0.224, 0.225]),\n",
    "            transforms.RandomErasing(p=0.15, scale=(0.02, 0.15))  # 增加随机擦除\n",
    "        ])\n",
    "    else:\n",
    "        return transforms.Compose([\n",
    "            transforms.Resize((image_size, image_size)),\n",
    "            transforms.ToTensor(),\n",
    "            transforms.Normalize(mean=[0.485, 0.456, 0.406], std=[0.229, 0.224, 0.225])\n",
    "        ])\n",
    "\n",
    "def compute_class_weights(dataset):\n",
    "    \"\"\"计算类别权重\"\"\"\n",
    "    if hasattr(dataset, 'real_count') and hasattr(dataset, 'fake_count'):\n",
    "        real_count = dataset.real_count\n",
    "        fake_count = dataset.fake_count\n",
    "    else:\n",
    "        # 回退方案\n",
    "        real_count = 1\n",
    "        fake_count = 1\n",
    "    \n",
    "    total = real_count + fake_count\n",
    "    weight_real = total / (2 * real_count) if real_count > 0 else 1.0\n",
    "    weight_fake = total / (2 * fake_count) if fake_count > 0 else 1.0\n",
    "    \n",
    "    return torch.tensor([weight_fake / weight_real])  # pos_weight for BCEWithLogitsLoss\n",
    "\n",
    "print(\"✅ 损失函数和工具类定义完成\")"
   ]
  },
  {
   "cell_type": "code",
   "execution_count": 8,
   "id": "cc63cd0f",
   "metadata": {
    "execution": {
     "iopub.execute_input": "2025-07-30T12:23:08.467897Z",
     "iopub.status.busy": "2025-07-30T12:23:08.467677Z",
     "iopub.status.idle": "2025-07-30T12:23:08.512577Z",
     "shell.execute_reply": "2025-07-30T12:23:08.511852Z"
    },
    "jupyter": {
     "source_hidden": true
    },
    "papermill": {
     "duration": 0.055591,
     "end_time": "2025-07-30T12:23:08.513708",
     "exception": false,
     "start_time": "2025-07-30T12:23:08.458117",
     "status": "completed"
    },
    "tags": []
   },
   "outputs": [
    {
     "name": "stdout",
     "output_type": "stream",
     "text": [
      "✅ 优化训练函数定义完成\n"
     ]
    }
   ],
   "source": [
    "# Cell 7: 训练函数 - 集成多任务学习和高级优化策略\n",
    "\n",
    "def train_epoch(model, train_loader, criterion, optimizer, device, scheduler=None, \n",
    "                use_amp=False, gradient_clip=1.0, ensemble_mode=False):\n",
    "    \"\"\"\n",
    "    训练一个epoch - 支持集成学习和多任务学习\n",
    "    \n",
    "    Args:\n",
    "        model: 模型\n",
    "        train_loader: 训练数据加载器\n",
    "        criterion: 损失函数\n",
    "        optimizer: 优化器\n",
    "        device: 设备\n",
    "        scheduler: 学习率调度器\n",
    "        use_amp: 是否使用混合精度训练\n",
    "        gradient_clip: 梯度裁剪阈值\n",
    "        ensemble_mode: 是否为集成模式\n",
    "    \"\"\"\n",
    "    model.train()\n",
    "    total_loss = 0.0\n",
    "    total_samples = 0\n",
    "    correct_predictions = 0\n",
    "    \n",
    "    # 集成模式的损失统计\n",
    "    if ensemble_mode:\n",
    "        ensemble_losses = {\n",
    "            'main': 0.0,\n",
    "            'spatial': 0.0,\n",
    "            'temporal': 0.0,\n",
    "            'ensemble': 0.0\n",
    "        }\n",
    "    \n",
    "    # 混合精度训练\n",
    "    if use_amp:\n",
    "        scaler = torch.cuda.amp.GradScaler()\n",
    "    \n",
    "    progress_bar = tqdm(train_loader, desc=\"训练中\", leave=False)\n",
    "    \n",
    "    # 添加训练开始的调试信息\n",
    "    print(f\"🔍 训练开始调试信息:\")\n",
    "    print(f\"   - 数据加载器长度: {len(train_loader)}\")\n",
    "    print(f\"   - 当前学习率: {optimizer.param_groups[0]['lr']:.2e}\")\n",
    "    print(f\"   - 设备: {device}\")\n",
    "    print(f\"   - 混合精度: {'启用' if use_amp else '禁用'}\")\n",
    "    \n",
    "    for batch_idx, batch_data in enumerate(progress_bar):\n",
    "        # 定期清理GPU内存\n",
    "        if batch_idx % 10 == 0 and torch.cuda.is_available():\n",
    "            torch.cuda.empty_cache()\n",
    "            \n",
    "        # 内存监控\n",
    "        if batch_idx % 20 == 0 and torch.cuda.is_available():\n",
    "            memory_allocated = torch.cuda.memory_allocated() / 1024**3\n",
    "            memory_reserved = torch.cuda.memory_reserved() / 1024**3\n",
    "            print(f\"📊 批次 {batch_idx}: GPU内存 {memory_allocated:.1f}GB / {memory_reserved:.1f}GB\")\n",
    "        \n",
    "        # 处理不同的数据格式\n",
    "        if len(batch_data) == 3:\n",
    "            # 包含额外特征\n",
    "            videos, labels, additional_features = batch_data\n",
    "            videos = videos.to(device)\n",
    "            labels = labels.to(device)\n",
    "            \n",
    "            # 处理额外特征\n",
    "            if additional_features and isinstance(additional_features, dict):\n",
    "                for key, value in additional_features.items():\n",
    "                    if isinstance(value, torch.Tensor):\n",
    "                        additional_features[key] = value.to(device)\n",
    "        else:\n",
    "            # 标准格式\n",
    "            videos, labels = batch_data\n",
    "            videos = videos.to(device)\n",
    "            labels = labels.to(device)\n",
    "            additional_features = None\n",
    "        \n",
    "        optimizer.zero_grad()\n",
    "        \n",
    "        try:\n",
    "            if use_amp:\n",
    "                # 混合精度前向传播\n",
    "                with torch.cuda.amp.autocast():\n",
    "                    if additional_features is not None:\n",
    "                        outputs = model(videos, additional_features)\n",
    "                    else:\n",
    "                        outputs = model(videos)\n",
    "                    \n",
    "                    # 检查模型输出是否包含NaN\n",
    "                    if isinstance(outputs, dict):\n",
    "                        for key, output in outputs.items():\n",
    "                            if torch.isnan(output).any() or torch.isinf(output).any():\n",
    "                                print(f\"⚠️ 批次 {batch_idx}: 模型输出 {key} 包含NaN/Inf\")\n",
    "                                raise ValueError(f\"Model output {key} contains NaN/Inf\")\n",
    "                    else:\n",
    "                        if torch.isnan(outputs).any() or torch.isinf(outputs).any():\n",
    "                            print(f\"⚠️ 批次 {batch_idx}: 模型输出包含NaN/Inf\")\n",
    "                            raise ValueError(\"Model output contains NaN/Inf\")\n",
    "                    \n",
    "                    # 计算损失\n",
    "                    if ensemble_mode and isinstance(outputs, dict):\n",
    "                        # 集成模式的多任务损失\n",
    "                        losses = {}\n",
    "                        total_ensemble_loss = 0\n",
    "                        \n",
    "                        for key, pred in outputs.items():\n",
    "                            if pred.dim() > 1:\n",
    "                                pred = pred.squeeze(-1)\n",
    "                            loss = criterion(pred, labels)\n",
    "                            losses[key] = loss\n",
    "                            \n",
    "                            # 不同任务的权重\n",
    "                            if key == 'ensemble':\n",
    "                                weight = 0.5  # 集成预测权重最高\n",
    "                            elif key == 'main':\n",
    "                                weight = 0.3\n",
    "                            else:\n",
    "                                weight = 0.1  # 辅助任务权重较低\n",
    "                            \n",
    "                            total_ensemble_loss += weight * loss\n",
    "                        \n",
    "                        loss = total_ensemble_loss\n",
    "                        pred_probs = torch.sigmoid(outputs['ensemble'])\n",
    "                        \n",
    "                        # 更新集成损失统计\n",
    "                        for key, l in losses.items():\n",
    "                            ensemble_losses[key] += l.item()\n",
    "                    else:\n",
    "                        # 标准模式\n",
    "                        if outputs.dim() > 1:\n",
    "                            outputs = outputs.squeeze(-1)\n",
    "                        loss = criterion(outputs, labels)\n",
    "                        pred_probs = torch.sigmoid(outputs)\n",
    "                    \n",
    "                    # 检查损失是否为NaN\n",
    "                    if torch.isnan(loss) or torch.isinf(loss):\n",
    "                        print(f\"⚠️ 批次 {batch_idx}: 损失为NaN/Inf，跳过此批次\")\n",
    "                        raise ValueError(\"Loss is NaN/Inf\")\n",
    "                \n",
    "                # 混合精度反向传播\n",
    "                scaler.scale(loss).backward()\n",
    "                \n",
    "                # 梯度裁剪\n",
    "                if gradient_clip > 0:\n",
    "                    scaler.unscale_(optimizer)\n",
    "                    torch.nn.utils.clip_grad_norm_(model.parameters(), gradient_clip)\n",
    "                \n",
    "                scaler.step(optimizer)\n",
    "                scaler.update()\n",
    "            else:\n",
    "                # 标准精度训练\n",
    "                if additional_features is not None:\n",
    "                    outputs = model(videos, additional_features)\n",
    "                else:\n",
    "                    outputs = model(videos)\n",
    "                \n",
    "                # 检查模型输出是否包含NaN\n",
    "                if isinstance(outputs, dict):\n",
    "                    for key, output in outputs.items():\n",
    "                        if torch.isnan(output).any() or torch.isinf(output).any():\n",
    "                            print(f\"⚠️ 批次 {batch_idx}: 模型输出 {key} 包含NaN/Inf\")\n",
    "                            raise ValueError(f\"Model output {key} contains NaN/Inf\")\n",
    "                else:\n",
    "                    if torch.isnan(outputs).any() or torch.isinf(outputs).any():\n",
    "                        print(f\"⚠️ 批次 {batch_idx}: 模型输出包含NaN/Inf\")\n",
    "                        raise ValueError(\"Model output contains NaN/Inf\")\n",
    "                \n",
    "                # 计算损失\n",
    "                if ensemble_mode and isinstance(outputs, dict):\n",
    "                    # 集成模式的多任务损失\n",
    "                    losses = {}\n",
    "                    total_ensemble_loss = 0\n",
    "                    \n",
    "                    for key, pred in outputs.items():\n",
    "                        if pred.dim() > 1:\n",
    "                            pred = pred.squeeze(-1)\n",
    "                        loss_item = criterion(pred, labels)\n",
    "                        losses[key] = loss_item\n",
    "                        \n",
    "                        # 不同任务的权重\n",
    "                        if key == 'ensemble':\n",
    "                            weight = 0.5\n",
    "                        elif key == 'main':\n",
    "                            weight = 0.3\n",
    "                        else:\n",
    "                            weight = 0.1\n",
    "                        \n",
    "                        total_ensemble_loss += weight * loss_item\n",
    "                    \n",
    "                    loss = total_ensemble_loss\n",
    "                    pred_probs = torch.sigmoid(outputs['ensemble'])\n",
    "                    \n",
    "                    # 更新集成损失统计\n",
    "                    for key, l in losses.items():\n",
    "                        ensemble_losses[key] += l.item()\n",
    "                else:\n",
    "                    # 标准模式\n",
    "                    if outputs.dim() > 1:\n",
    "                        outputs = outputs.squeeze(-1)\n",
    "                    loss = criterion(outputs, labels)\n",
    "                    pred_probs = torch.sigmoid(outputs)\n",
    "                \n",
    "                # 检查损失是否为NaN\n",
    "                if torch.isnan(loss) or torch.isinf(loss):\n",
    "                    print(f\"⚠️ 批次 {batch_idx}: 损失为NaN/Inf，跳过此批次\")\n",
    "                    raise ValueError(\"Loss is NaN/Inf\")\n",
    "                \n",
    "                loss.backward()\n",
    "                \n",
    "                # 梯度裁剪\n",
    "                if gradient_clip > 0:\n",
    "                    torch.nn.utils.clip_grad_norm_(model.parameters(), gradient_clip)\n",
    "                \n",
    "                optimizer.step()\n",
    "            \n",
    "            # 确保pred_probs是正确的张量格式\n",
    "            if pred_probs.dim() > 1:\n",
    "                pred_probs = pred_probs.squeeze(-1)\n",
    "            \n",
    "            # 计算准确率\n",
    "            predictions = (pred_probs > 0.5).float()\n",
    "            correct_predictions += (predictions == labels).sum().item()\n",
    "            \n",
    "            # 更新统计\n",
    "            total_loss += loss.item()\n",
    "            total_samples += labels.size(0)\n",
    "            \n",
    "            # 添加成功批次的调试信息（仅前3个批次）\n",
    "            if batch_idx < 3:\n",
    "                print(f\"🔍 批次 {batch_idx} 成功:\")\n",
    "                print(f\"   - 损失值: {loss.item():.6f}\")\n",
    "                print(f\"   - 样本数: {labels.size(0)}\")\n",
    "                print(f\"   - 预测概率范围: [{pred_probs.min().item():.4f}, {pred_probs.max().item():.4f}]\")\n",
    "                print(f\"   - 标签分布: {labels.sum().item()}/{labels.size(0)}\")\n",
    "            \n",
    "            # 更新进度条\n",
    "            avg_loss = total_loss / (batch_idx + 1)\n",
    "            accuracy = correct_predictions / total_samples\n",
    "            \n",
    "            if ensemble_mode:\n",
    "                progress_bar.set_postfix({\n",
    "                    'Loss': f'{avg_loss:.4f}',\n",
    "                    'Acc': f'{accuracy:.4f}',\n",
    "                    'Ensemble': f'{ensemble_losses[\"ensemble\"]/(batch_idx+1):.4f}'\n",
    "                })\n",
    "            else:\n",
    "                progress_bar.set_postfix({\n",
    "                    'Loss': f'{avg_loss:.4f}',\n",
    "                    'Acc': f'{accuracy:.4f}'\n",
    "                })\n",
    "            \n",
    "            # 每个批次后清理变量\n",
    "            del videos, labels\n",
    "            if additional_features is not None:\n",
    "                del additional_features\n",
    "            if 'outputs' in locals():\n",
    "                del outputs\n",
    "            if 'pred_probs' in locals():\n",
    "                del pred_probs\n",
    "            \n",
    "        except Exception as e:\n",
    "            print(f\"⚠️ 训练批次 {batch_idx} 出错: {e}\")\n",
    "            import traceback\n",
    "            print(f\"详细错误信息: {traceback.format_exc()}\")\n",
    "            # 添加调试信息\n",
    "            print(f\"🔍 调试信息 - 当前批次: {batch_idx}, 总样本数: {total_samples}, 总损失: {total_loss}\")\n",
    "            # 清理GPU内存\n",
    "            if torch.cuda.is_available():\n",
    "                torch.cuda.empty_cache()\n",
    "            continue\n",
    "    \n",
    "    # 检查是否有有效的训练数据\n",
    "    if total_samples == 0:\n",
    "        print(\"⚠️ 警告: 没有成功处理任何训练批次!\")\n",
    "        return {\n",
    "            'loss': float('inf'),\n",
    "            'accuracy': 0.0,\n",
    "            'learning_rate': optimizer.param_groups[0]['lr']\n",
    "        }\n",
    "    \n",
    "    # 学习率调度\n",
    "    if scheduler is not None:\n",
    "        if isinstance(scheduler, torch.optim.lr_scheduler.ReduceLROnPlateau):\n",
    "            scheduler.step(total_loss / max(len(train_loader), 1))\n",
    "        else:\n",
    "            scheduler.step()\n",
    "    \n",
    "    # 返回训练结果\n",
    "    avg_loss = total_loss / max(len(train_loader), 1)\n",
    "    accuracy = correct_predictions / max(total_samples, 1)\n",
    "    \n",
    "    # 添加详细调试信息\n",
    "    print(f\"🔍 训练结果调试:\")\n",
    "    print(f\"   - 总损失: {total_loss}\")\n",
    "    print(f\"   - 数据加载器长度: {len(train_loader)}\")\n",
    "    print(f\"   - 平均损失: {avg_loss}\")\n",
    "    print(f\"   - 正确预测数: {correct_predictions}\")\n",
    "    print(f\"   - 总样本数: {total_samples}\")\n",
    "    print(f\"   - 准确率: {accuracy}\")\n",
    "    \n",
    "    results = {\n",
    "        'loss': avg_loss,\n",
    "        'accuracy': accuracy,\n",
    "        'learning_rate': optimizer.param_groups[0]['lr']\n",
    "    }\n",
    "    \n",
    "    if ensemble_mode:\n",
    "        # 添加集成损失统计\n",
    "        for key in ensemble_losses:\n",
    "            results[f'{key}_loss'] = ensemble_losses[key] / len(train_loader)\n",
    "    \n",
    "    return results\n",
    "\n",
    "def validate_epoch(model, val_loader, criterion, device, ensemble_mode=False):\n",
    "    \"\"\"\n",
    "    验证一个epoch - 支持集成学习评估\n",
    "    \n",
    "    Args:\n",
    "        model: 模型\n",
    "        val_loader: 验证数据加载器\n",
    "        criterion: 损失函数\n",
    "        device: 设备\n",
    "        ensemble_mode: 是否为集成模式\n",
    "    \"\"\"\n",
    "    model.eval()\n",
    "    total_loss = 0.0\n",
    "    total_samples = 0\n",
    "    correct_predictions = 0\n",
    "    all_predictions = []\n",
    "    all_labels = []\n",
    "    \n",
    "    # 集成模式的损失统计\n",
    "    if ensemble_mode:\n",
    "        ensemble_losses = {\n",
    "            'main': 0.0,\n",
    "            'spatial': 0.0,\n",
    "            'temporal': 0.0,\n",
    "            'ensemble': 0.0\n",
    "        }\n",
    "        ensemble_predictions = {\n",
    "            'main': [],\n",
    "            'spatial': [],\n",
    "            'temporal': [],\n",
    "            'ensemble': []\n",
    "        }\n",
    "    \n",
    "    progress_bar = tqdm(val_loader, desc=\"验证中\", leave=False)\n",
    "    \n",
    "    with torch.no_grad():\n",
    "        for batch_idx, batch_data in enumerate(progress_bar):\n",
    "            try:\n",
    "                # 处理不同的数据格式\n",
    "                if len(batch_data) == 3:\n",
    "                    videos, labels, additional_features = batch_data\n",
    "                    videos = videos.to(device)\n",
    "                    labels = labels.to(device)\n",
    "                    \n",
    "                    # 处理额外特征\n",
    "                    if additional_features and isinstance(additional_features, dict):\n",
    "                        for key, value in additional_features.items():\n",
    "                            if isinstance(value, torch.Tensor):\n",
    "                                additional_features[key] = value.to(device)\n",
    "                else:\n",
    "                    videos, labels = batch_data\n",
    "                    videos = videos.to(device)\n",
    "                    labels = labels.to(device)\n",
    "                    additional_features = None\n",
    "                \n",
    "                # 前向传播\n",
    "                if additional_features is not None:\n",
    "                    outputs = model(videos, additional_features)\n",
    "                else:\n",
    "                    outputs = model(videos)\n",
    "                \n",
    "                # 计算损失和预测\n",
    "                if ensemble_mode and isinstance(outputs, dict):\n",
    "                    # 集成模式\n",
    "                    losses = {}\n",
    "                    total_ensemble_loss = 0\n",
    "                    \n",
    "                    for key, pred in outputs.items():\n",
    "                        if pred.dim() > 1:\n",
    "                            pred = pred.squeeze(-1)\n",
    "                        loss_item = criterion(pred, labels)\n",
    "                        losses[key] = loss_item\n",
    "                        \n",
    "                        # 权重与训练时保持一致\n",
    "                        if key == 'ensemble':\n",
    "                            weight = 0.5\n",
    "                        elif key == 'main':\n",
    "                            weight = 0.3\n",
    "                        else:\n",
    "                            weight = 0.1\n",
    "                        \n",
    "                        total_ensemble_loss += weight * loss_item\n",
    "                        \n",
    "                        # 保存预测结果\n",
    "                        pred_probs_item = torch.sigmoid(pred)\n",
    "                        ensemble_predictions[key].extend(pred_probs_item.cpu().numpy())\n",
    "                        ensemble_losses[key] += loss_item.item()\n",
    "                    \n",
    "                    loss = total_ensemble_loss\n",
    "                    pred_probs = torch.sigmoid(outputs['ensemble'])\n",
    "                else:\n",
    "                    # 标准模式\n",
    "                    if outputs.dim() > 1:\n",
    "                        outputs = outputs.squeeze(-1)\n",
    "                    loss = criterion(outputs, labels)\n",
    "                    pred_probs = torch.sigmoid(outputs)\n",
    "                \n",
    "                # 确保pred_probs是正确的张量格式\n",
    "                if pred_probs.dim() > 1:\n",
    "                    pred_probs = pred_probs.squeeze(-1)\n",
    "                \n",
    "                # 计算准确率\n",
    "                predictions = (pred_probs > 0.5).float()\n",
    "                correct_predictions += (predictions == labels).sum().item()\n",
    "                \n",
    "                # 保存预测和标签用于详细评估\n",
    "                all_predictions.extend(pred_probs.cpu().numpy())\n",
    "                all_labels.extend(labels.cpu().numpy())\n",
    "                \n",
    "                # 更新统计\n",
    "                total_loss += loss.item()\n",
    "                total_samples += labels.size(0)\n",
    "                \n",
    "                # 更新进度条\n",
    "                avg_loss = total_loss / (batch_idx + 1)\n",
    "                accuracy = correct_predictions / total_samples\n",
    "                progress_bar.set_postfix({\n",
    "                    'Val Loss': f'{avg_loss:.4f}',\n",
    "                    'Val Acc': f'{accuracy:.4f}'\n",
    "                })\n",
    "                \n",
    "            except Exception as e:\n",
    "                print(f\"⚠️ 验证批次 {batch_idx} 出错: {e}\")\n",
    "                import traceback\n",
    "                print(f\"详细错误信息: {traceback.format_exc()}\")\n",
    "                continue\n",
    "    \n",
    "    # 检查是否有有效的验证数据\n",
    "    if total_samples == 0:\n",
    "        print(\"⚠️ 警告: 没有成功处理任何验证批次!\")\n",
    "        return {\n",
    "            'loss': float('inf'),\n",
    "            'accuracy': 0.0,\n",
    "            'auc': 0.0,\n",
    "            'precision': 0.0,\n",
    "            'recall': 0.0,\n",
    "            'f1': 0.0,\n",
    "            'predictions': [],\n",
    "            'labels': []\n",
    "        }\n",
    "    \n",
    "    # 计算最终指标\n",
    "    avg_loss = total_loss / max(len(val_loader), 1)\n",
    "    accuracy = correct_predictions / max(total_samples, 1)\n",
    "    \n",
    "    # 计算AUC等高级指标\n",
    "    try:\n",
    "        from sklearn.metrics import roc_auc_score, precision_recall_fscore_support\n",
    "        auc_score = roc_auc_score(all_labels, all_predictions)\n",
    "        precision, recall, f1, _ = precision_recall_fscore_support(\n",
    "            all_labels, \n",
    "            np.array(all_predictions) > 0.5, \n",
    "            average='binary'\n",
    "        )\n",
    "    except Exception as e:\n",
    "        print(f\"⚠️ 计算高级指标失败: {e}\")\n",
    "        auc_score = 0.0\n",
    "        precision = recall = f1 = 0.0\n",
    "    \n",
    "    results = {\n",
    "        'loss': avg_loss,\n",
    "        'accuracy': accuracy,\n",
    "        'auc': auc_score,\n",
    "        'precision': precision,\n",
    "        'recall': recall,\n",
    "        'f1': f1,\n",
    "        'predictions': all_predictions,\n",
    "        'labels': all_labels\n",
    "    }\n",
    "    \n",
    "    if ensemble_mode:\n",
    "        # 添加集成评估结果\n",
    "        for key in ensemble_losses:\n",
    "            results[f'{key}_loss'] = ensemble_losses[key] / len(val_loader)\n",
    "            results[f'{key}_predictions'] = ensemble_predictions[key]\n",
    "        \n",
    "        # 计算集成模型的AUC\n",
    "        try:\n",
    "            ensemble_auc = roc_auc_score(all_labels, ensemble_predictions['ensemble'])\n",
    "            results['ensemble_auc'] = ensemble_auc\n",
    "        except:\n",
    "            results['ensemble_auc'] = 0.0\n",
    "    \n",
    "    return results\n",
    "\n",
    "def train_ensemble_models(models, train_loader, val_loader, criterion, optimizers, \n",
    "                         device, num_epochs=10, schedulers=None, use_amp=False):\n",
    "    \"\"\"\n",
    "    训练多个模型进行集成学习\n",
    "    \n",
    "    Args:\n",
    "        models: 模型列表\n",
    "        train_loader: 训练数据加载器\n",
    "        val_loader: 验证数据加载器\n",
    "        criterion: 损失函数\n",
    "        optimizers: 优化器列表\n",
    "        device: 设备\n",
    "        num_epochs: 训练轮数\n",
    "        schedulers: 学习率调度器列表\n",
    "        use_amp: 是否使用混合精度训练\n",
    "    \"\"\"\n",
    "    ensemble_results = []\n",
    "    \n",
    "    for i, (model, optimizer) in enumerate(zip(models, optimizers)):\n",
    "        print(f\"\\n🚀 训练集成模型 {i+1}/{len(models)}\")\n",
    "        \n",
    "        scheduler = schedulers[i] if schedulers else None\n",
    "        model_results = {'train_history': [], 'val_history': []}\n",
    "        \n",
    "        best_val_auc = 0.0\n",
    "        best_model_state = None\n",
    "        \n",
    "        for epoch in range(num_epochs):\n",
    "            print(f\"\\nEpoch {epoch+1}/{num_epochs}\")\n",
    "            \n",
    "            # 训练\n",
    "            train_results = train_epoch(\n",
    "                model, train_loader, criterion, optimizer, device,\n",
    "                scheduler=scheduler, use_amp=use_amp\n",
    "            )\n",
    "            \n",
    "            # 验证\n",
    "            val_results = validate_epoch(model, val_loader, criterion, device)\n",
    "            \n",
    "            # 保存历史\n",
    "            model_results['train_history'].append(train_results)\n",
    "            model_results['val_history'].append(val_results)\n",
    "            \n",
    "            # 保存最佳模型\n",
    "            if val_results['auc'] > best_val_auc:\n",
    "                best_val_auc = val_results['auc']\n",
    "                best_model_state = model.state_dict().copy()\n",
    "            \n",
    "            print(f\"训练 - Loss: {train_results['loss']:.4f}, Acc: {train_results['accuracy']:.4f}\")\n",
    "            print(f\"验证 - Loss: {val_results['loss']:.4f}, Acc: {val_results['accuracy']:.4f}, AUC: {val_results['auc']:.4f}\")\n",
    "        \n",
    "        # 加载最佳模型权重\n",
    "        if best_model_state is not None:\n",
    "            model.load_state_dict(best_model_state)\n",
    "        \n",
    "        model_results['best_val_auc'] = best_val_auc\n",
    "        ensemble_results.append(model_results)\n",
    "        \n",
    "        print(f\"✅ 模型 {i+1} 训练完成，最佳验证AUC: {best_val_auc:.4f}\")\n",
    "    \n",
    "    return ensemble_results\n",
    "\n",
    "def ensemble_predict(models, data_loader, device, weights=None):\n",
    "    \"\"\"\n",
    "    使用多个模型进行集成预测\n",
    "    \n",
    "    Args:\n",
    "        models: 模型列表\n",
    "        data_loader: 数据加载器\n",
    "        device: 设备\n",
    "        weights: 模型权重（如果为None则使用平均权重）\n",
    "    \"\"\"\n",
    "    if weights is None:\n",
    "        weights = [1.0 / len(models)] * len(models)\n",
    "    \n",
    "    all_predictions = []\n",
    "    all_labels = []\n",
    "    \n",
    "    # 设置所有模型为评估模式\n",
    "    for model in models:\n",
    "        model.eval()\n",
    "    \n",
    "    with torch.no_grad():\n",
    "        for batch_data in tqdm(data_loader, desc=\"集成预测中\"):\n",
    "            if len(batch_data) == 3:\n",
    "                videos, labels, additional_features = batch_data\n",
    "                videos = videos.to(device)\n",
    "                labels = labels.to(device)\n",
    "                \n",
    "                if additional_features and isinstance(additional_features, dict):\n",
    "                    for key, value in additional_features.items():\n",
    "                        if isinstance(value, torch.Tensor):\n",
    "                            additional_features[key] = value.to(device)\n",
    "            else:\n",
    "                videos, labels = batch_data\n",
    "                videos = videos.to(device)\n",
    "                labels = labels.to(device)\n",
    "                additional_features = None\n",
    "            \n",
    "            # 收集所有模型的预测\n",
    "            batch_predictions = []\n",
    "            for model in models:\n",
    "                if additional_features is not None:\n",
    "                    outputs = model(videos, additional_features)\n",
    "                else:\n",
    "                    outputs = model(videos)\n",
    "                \n",
    "                if isinstance(outputs, dict):\n",
    "                    # 集成模式，使用ensemble输出\n",
    "                    pred = outputs['ensemble']\n",
    "                else:\n",
    "                    pred = outputs\n",
    "                \n",
    "                if pred.dim() > 1:\n",
    "                    pred = pred.squeeze(-1)\n",
    "                \n",
    "                pred_probs = torch.sigmoid(pred)\n",
    "                batch_predictions.append(pred_probs.cpu().numpy())\n",
    "            \n",
    "            # 加权平均\n",
    "            ensemble_pred = np.average(batch_predictions, axis=0, weights=weights)\n",
    "            all_predictions.extend(ensemble_pred)\n",
    "            all_labels.extend(labels.cpu().numpy())\n",
    "    \n",
    "    return np.array(all_predictions), np.array(all_labels)\n",
    "\n",
    "print(\"✅ 优化训练函数定义完成\")"
   ]
  },
  {
   "cell_type": "code",
   "execution_count": 9,
   "id": "0097a2df",
   "metadata": {
    "execution": {
     "iopub.execute_input": "2025-07-30T12:23:08.532001Z",
     "iopub.status.busy": "2025-07-30T12:23:08.531763Z",
     "iopub.status.idle": "2025-07-30T12:23:08.563647Z",
     "shell.execute_reply": "2025-07-30T12:23:08.563018Z"
    },
    "jupyter": {
     "source_hidden": true
    },
    "papermill": {
     "duration": 0.042524,
     "end_time": "2025-07-30T12:23:08.564767",
     "exception": false,
     "start_time": "2025-07-30T12:23:08.522243",
     "status": "completed"
    },
    "tags": []
   },
   "outputs": [
    {
     "name": "stdout",
     "output_type": "stream",
     "text": [
      "✅ 评估函数和可视化定义完成\n"
     ]
    }
   ],
   "source": [
    "# Cell 8: 评估函数和可视化\n",
    "\n",
    "def evaluate_model_optimized(model, test_loader, criterion, device):\n",
    "    \"\"\"优化的模型评估函数\"\"\"\n",
    "    model.eval()\n",
    "    total_loss = 0.0\n",
    "    all_predictions = []\n",
    "    all_targets = []\n",
    "    all_scores = []\n",
    "    \n",
    "    inference_times = []\n",
    "    \n",
    "    print(\"🚀 开始模型评估...\")\n",
    "    \n",
    "    with torch.no_grad():\n",
    "        for batch_idx, batch_data in enumerate(tqdm(test_loader, desc=\"评估进度\")):\n",
    "            # 处理不同的返回格式：(data, target) 或 (data, target, additional_features)\n",
    "            if len(batch_data) == 2:\n",
    "                data, target = batch_data\n",
    "                additional_features = None\n",
    "            elif len(batch_data) == 3:\n",
    "                data, target, additional_features = batch_data\n",
    "            else:\n",
    "                raise ValueError(f\"数据加载器返回了意外的数据格式，长度为 {len(batch_data)}\")\n",
    "            \n",
    "            data, target = data.to(device), target.to(device)\n",
    "            \n",
    "            # 处理额外特征的设备转移\n",
    "            if additional_features is not None:\n",
    "                if isinstance(additional_features, dict):\n",
    "                    for key, value in additional_features.items():\n",
    "                        if isinstance(value, torch.Tensor):\n",
    "                            additional_features[key] = value.to(device)\n",
    "            \n",
    "            # 记录推理时间\n",
    "            start_time = time.time()\n",
    "            \n",
    "            # 处理模型输出 - 模型可能返回单个张量或字典\n",
    "            if additional_features is not None:\n",
    "                model_output = model(data, additional_features)\n",
    "            else:\n",
    "                model_output = model(data)\n",
    "            \n",
    "            inference_time = time.time() - start_time\n",
    "            inference_times.append(inference_time)\n",
    "            \n",
    "            # 处理不同的输出格式\n",
    "            if isinstance(model_output, dict):\n",
    "                # 集成模式，使用ensemble输出\n",
    "                output = model_output.get('ensemble', model_output.get('main', list(model_output.values())[0]))\n",
    "            else:\n",
    "                # 标准模式，直接使用输出\n",
    "                output = model_output\n",
    "            \n",
    "            # 确保输出和目标的维度匹配\n",
    "            if output.dim() > 1:\n",
    "                output = output.squeeze(-1)  # 将 [batch, 1] 压缩为 [batch]\n",
    "            \n",
    "            # 确保目标标签是正确的数据类型和维度\n",
    "            if target.dim() > 1:\n",
    "                target = target.squeeze(-1)  # 将 [batch, 1] 压缩为 [batch]\n",
    "            target = target.float()  # 确保是float类型\n",
    "            \n",
    "            # 计算损失\n",
    "            loss = criterion(output, target)\n",
    "            total_loss += loss.item()\n",
    "            \n",
    "            # 收集预测结果 (应用 sigmoid 获得概率)\n",
    "            probs = torch.sigmoid(output)\n",
    "            predictions = (probs > 0.5).float()\n",
    "            all_predictions.extend(predictions.cpu().numpy())\n",
    "            all_targets.extend(target.cpu().numpy())\n",
    "            all_scores.extend(probs.cpu().numpy())\n",
    "    \n",
    "    avg_loss = total_loss / len(test_loader)\n",
    "    avg_inference_time = np.mean(inference_times)\n",
    "    total_inference_time = np.sum(inference_times)\n",
    "    \n",
    "    print(f\"✅ 评估完成\")\n",
    "    print(f\"平均损失: {avg_loss:.4f}\")\n",
    "    print(f\"平均推理时间: {avg_inference_time*1000:.2f} ms/batch\")\n",
    "    \n",
    "    return {\n",
    "        'loss': avg_loss,\n",
    "        'predictions': np.array(all_predictions),\n",
    "        'targets': np.array(all_targets),\n",
    "        'scores': np.array(all_scores),\n",
    "        'avg_inference_time': avg_inference_time,\n",
    "        'total_inference_time': total_inference_time\n",
    "    }\n",
    "\n",
    "def calculate_comprehensive_metrics(predictions, targets, scores):\n",
    "    \"\"\"计算全面的评估指标，包含类别不平衡分析和阈值优化\"\"\"\n",
    "    # 基础指标\n",
    "    accuracy = accuracy_score(targets, predictions)\n",
    "    balanced_acc = balanced_accuracy_score(targets, predictions)\n",
    "    precision = precision_score(targets, predictions, zero_division=0)\n",
    "    recall = recall_score(targets, predictions, zero_division=0)\n",
    "    f1 = f1_score(targets, predictions, zero_division=0)\n",
    "    \n",
    "    # 阈值优化 - 寻找最佳阈值以平衡类别\n",
    "    thresholds = np.arange(0.1, 0.9, 0.05)\n",
    "    best_threshold = 0.5\n",
    "    best_balanced_acc = balanced_acc\n",
    "    best_f1 = f1\n",
    "    \n",
    "    threshold_results = []\n",
    "    for threshold in thresholds:\n",
    "        thresh_predictions = (scores > threshold).astype(int)\n",
    "        thresh_balanced_acc = balanced_accuracy_score(targets, thresh_predictions)\n",
    "        thresh_f1 = f1_score(targets, thresh_predictions, zero_division=0)\n",
    "        \n",
    "        # 计算真实和伪造视频的准确率\n",
    "        cm_thresh = confusion_matrix(targets, thresh_predictions)\n",
    "        if cm_thresh.size == 4:\n",
    "            tn, fp, fn, tp = cm_thresh.ravel()\n",
    "            real_acc = tn / (tn + fp) if (tn + fp) > 0 else 0\n",
    "            fake_acc = tp / (tp + fn) if (tp + fn) > 0 else 0\n",
    "        else:\n",
    "            real_acc = fake_acc = 0\n",
    "        \n",
    "        threshold_results.append({\n",
    "            'threshold': threshold,\n",
    "            'balanced_accuracy': thresh_balanced_acc,\n",
    "            'f1': thresh_f1,\n",
    "            'real_accuracy': real_acc,\n",
    "            'fake_accuracy': fake_acc\n",
    "        })\n",
    "        \n",
    "        # 更新最佳阈值（优先考虑平衡准确率）\n",
    "        if thresh_balanced_acc > best_balanced_acc:\n",
    "            best_threshold = threshold\n",
    "            best_balanced_acc = thresh_balanced_acc\n",
    "            best_f1 = thresh_f1\n",
    "    \n",
    "    # 使用最佳阈值重新计算预测\n",
    "    optimized_predictions = (scores > best_threshold).astype(int)\n",
    "    \n",
    "    # 混淆矩阵\n",
    "    cm = confusion_matrix(targets, predictions)\n",
    "    cm_optimized = confusion_matrix(targets, optimized_predictions)\n",
    "    tn, fp, fn, tp = cm.ravel() if cm.size == 4 else (0, 0, 0, 0)\n",
    "    tn_opt, fp_opt, fn_opt, tp_opt = cm_optimized.ravel() if cm_optimized.size == 4 else (0, 0, 0, 0)\n",
    "    \n",
    "    # 特异性和负预测值\n",
    "    specificity = tn / (tn + fp) if (tn + fp) > 0 else 0\n",
    "    npv = tn / (tn + fn) if (tn + fn) > 0 else 0\n",
    "    \n",
    "    # 类别特定指标\n",
    "    real_total = np.sum(targets == 0)\n",
    "    fake_total = np.sum(targets == 1)\n",
    "    real_correct = tn  # 真实视频正确预测为真实\n",
    "    fake_correct = tp  # 伪造视频正确预测为伪造\n",
    "    \n",
    "    real_accuracy = real_correct / real_total if real_total > 0 else 0\n",
    "    fake_accuracy = fake_correct / fake_total if fake_total > 0 else 0\n",
    "    \n",
    "    # 优化后的类别准确率\n",
    "    real_correct_opt = tn_opt\n",
    "    fake_correct_opt = tp_opt\n",
    "    real_accuracy_opt = real_correct_opt / real_total if real_total > 0 else 0\n",
    "    fake_accuracy_opt = fake_correct_opt / fake_total if fake_total > 0 else 0\n",
    "    \n",
    "    # 类别不平衡分析\n",
    "    class_distribution = {\n",
    "        'real_samples': int(real_total),\n",
    "        'fake_samples': int(fake_total),\n",
    "        'imbalance_ratio': fake_total / real_total if real_total > 0 else float('inf')\n",
    "    }\n",
    "    \n",
    "    # AUC指标\n",
    "    try:\n",
    "        auc_roc = roc_auc_score(targets, scores)\n",
    "    except:\n",
    "        auc_roc = 0.0\n",
    "    \n",
    "    try:\n",
    "        precision_curve, recall_curve, _ = precision_recall_curve(targets, scores)\n",
    "        auc_pr = auc(recall_curve, precision_curve)\n",
    "    except:\n",
    "        auc_pr = 0.0\n",
    "    \n",
    "    return {\n",
    "        'accuracy': accuracy,\n",
    "        'balanced_accuracy': balanced_acc,\n",
    "        'precision': precision,\n",
    "        'recall': recall,\n",
    "        'specificity': specificity,\n",
    "        'f1': f1,\n",
    "        'auc_roc': auc_roc,\n",
    "        'auc_pr': auc_pr,\n",
    "        'npv': npv,\n",
    "        'confusion_matrix': cm,\n",
    "        'tn': tn, 'fp': fp, 'fn': fn, 'tp': tp,\n",
    "        'real_accuracy': real_accuracy,\n",
    "        'fake_accuracy': fake_accuracy,\n",
    "        'class_distribution': class_distribution,\n",
    "        # 阈值优化结果\n",
    "        'best_threshold': best_threshold,\n",
    "        'optimized_predictions': optimized_predictions,\n",
    "        'optimized_confusion_matrix': cm_optimized,\n",
    "        'optimized_balanced_accuracy': best_balanced_acc,\n",
    "        'optimized_real_accuracy': real_accuracy_opt,\n",
    "        'optimized_fake_accuracy': fake_accuracy_opt,\n",
    "        'threshold_analysis': threshold_results\n",
    "    }\n",
    "\n",
    "def plot_enhanced_confusion_matrix(cm, save_path):\n",
    "    \"\"\"绘制增强的混淆矩阵\"\"\"\n",
    "    plt.figure(figsize=(10, 8))\n",
    "    \n",
    "    # 计算百分比\n",
    "    cm_percent = cm.astype('float') / cm.sum(axis=1)[:, np.newaxis] * 100\n",
    "    \n",
    "    # 创建标签\n",
    "    labels = np.array([[\n",
    "        f'{cm[i,j]}\\n({cm_percent[i,j]:.1f}%)' \n",
    "        for j in range(cm.shape[1])\n",
    "    ] for i in range(cm.shape[0])])\n",
    "    \n",
    "    # 绘制热图\n",
    "    sns.heatmap(cm, annot=labels, fmt='', cmap='Blues', \n",
    "                xticklabels=['真实', '伪造'],\n",
    "                yticklabels=['真实', '伪造'],\n",
    "                cbar_kws={'label': '样本数量'})\n",
    "    \n",
    "    plt.title('增强混淆矩阵', fontsize=16, fontweight='bold')\n",
    "    plt.xlabel('预测标签', fontsize=12)\n",
    "    plt.ylabel('真实标签', fontsize=12)\n",
    "    \n",
    "    # 添加统计信息\n",
    "    tn, fp, fn, tp = cm.ravel()\n",
    "    accuracy = (tp + tn) / (tp + tn + fp + fn)\n",
    "    precision = tp / (tp + fp) if (tp + fp) > 0 else 0\n",
    "    recall = tp / (tp + fn) if (tp + fn) > 0 else 0\n",
    "    f1 = 2 * (precision * recall) / (precision + recall) if (precision + recall) > 0 else 0\n",
    "    \n",
    "    stats_text = f'准确率: {accuracy:.3f}\\n精确率: {precision:.3f}\\n召回率: {recall:.3f}\\nF1分数: {f1:.3f}'\n",
    "    plt.text(2.1, 0.5, stats_text, fontsize=10, \n",
    "             bbox=dict(boxstyle='round', facecolor='lightgray', alpha=0.8))\n",
    "    \n",
    "    plt.tight_layout()\n",
    "    plt.savefig(save_path, dpi=300, bbox_inches='tight')\n",
    "    plt.show()\n",
    "    print(f\"混淆矩阵已保存到: {save_path}\")\n",
    "\n",
    "def plot_roc_pr_curves(targets, scores, save_path):\n",
    "    \"\"\"绘制ROC和PR曲线\"\"\"\n",
    "    fig, (ax1, ax2) = plt.subplots(1, 2, figsize=(15, 6))\n",
    "    \n",
    "    # ROC曲线\n",
    "    fpr, tpr, _ = roc_curve(targets, scores)\n",
    "    roc_auc = auc(fpr, tpr)\n",
    "    \n",
    "    ax1.plot(fpr, tpr, color='darkorange', lw=2,\n",
    "             label=f'ROC曲线 (AUC = {roc_auc:.4f})')\n",
    "    ax1.plot([0, 1], [0, 1], color='navy', lw=2, linestyle='--')\n",
    "    ax1.set_xlim([0.0, 1.0])\n",
    "    ax1.set_ylim([0.0, 1.05])\n",
    "    ax1.set_xlabel('假正率')\n",
    "    ax1.set_ylabel('真正率')\n",
    "    ax1.set_title('ROC曲线')\n",
    "    ax1.legend(loc='lower right')\n",
    "    ax1.grid(True, alpha=0.3)\n",
    "    \n",
    "    # PR曲线\n",
    "    precision_curve, recall_curve, _ = precision_recall_curve(targets, scores)\n",
    "    pr_auc = auc(recall_curve, precision_curve)\n",
    "    \n",
    "    ax2.plot(recall_curve, precision_curve, color='darkgreen', lw=2,\n",
    "             label=f'PR曲线 (AUC = {pr_auc:.4f})')\n",
    "    ax2.set_xlim([0.0, 1.0])\n",
    "    ax2.set_ylim([0.0, 1.05])\n",
    "    ax2.set_xlabel('召回率')\n",
    "    ax2.set_ylabel('精确率')\n",
    "    ax2.set_title('精确率-召回率曲线')\n",
    "    ax2.legend(loc='lower left')\n",
    "    ax2.grid(True, alpha=0.3)\n",
    "    \n",
    "    plt.tight_layout()\n",
    "    plt.savefig(save_path, dpi=300, bbox_inches='tight')\n",
    "    plt.show()\n",
    "    print(f\"ROC/PR曲线已保存到: {save_path}\")\n",
    "\n",
    "def generate_class_imbalance_report(metrics):\n",
    "    \"\"\"生成详细的类别不平衡分析报告\"\"\"\n",
    "    print(\"\\n\" + \"=\"*60)\n",
    "    print(\"📊 类别不平衡分析报告\")\n",
    "    print(\"=\"*60)\n",
    "    \n",
    "    # 数据分布\n",
    "    dist = metrics['class_distribution']\n",
    "    print(f\"\\n📈 数据分布:\")\n",
    "    print(f\"  真实视频样本: {dist['real_samples']}\")\n",
    "    print(f\"  伪造视频样本: {dist['fake_samples']}\")\n",
    "    print(f\"  不平衡比例: {dist['imbalance_ratio']:.2f}:1 (伪造:真实)\")\n",
    "    \n",
    "    # 类别特定性能\n",
    "    print(f\"\\n🎯 类别特定准确率:\")\n",
    "    print(f\"  真实视频检测准确率: {metrics['real_accuracy']*100:.2f}%\")\n",
    "    print(f\"  伪造视频检测准确率: {metrics['fake_accuracy']*100:.2f}%\")\n",
    "    \n",
    "    # 混淆矩阵分析\n",
    "    tn, fp, fn, tp = metrics['tn'], metrics['fp'], metrics['fn'], metrics['tp']\n",
    "    print(f\"\\n📋 混淆矩阵分析:\")\n",
    "    print(f\"  真负例 (TN): {tn} - 正确识别的真实视频\")\n",
    "    print(f\"  假正例 (FP): {fp} - 误判为伪造的真实视频\")\n",
    "    print(f\"  假负例 (FN): {fn} - 误判为真实的伪造视频\")\n",
    "    print(f\"  真正例 (TP): {tp} - 正确识别的伪造视频\")\n",
    "    \n",
    "    # 偏向性分析\n",
    "    total_predictions = tn + fp + fn + tp\n",
    "    predicted_real = tn + fn\n",
    "    predicted_fake = fp + tp\n",
    "    \n",
    "    print(f\"\\n⚖️ 模型偏向性分析:\")\n",
    "    print(f\"  预测为真实的样本: {predicted_real} ({predicted_real/total_predictions*100:.1f}%)\")\n",
    "    print(f\"  预测为伪造的样本: {predicted_fake} ({predicted_fake/total_predictions*100:.1f}%)\")\n",
    "    \n",
    "    # 问题诊断\n",
    "    print(f\"\\n🔍 问题诊断:\")\n",
    "    if metrics['real_accuracy'] < 0.1:\n",
    "        print(\"  ❌ 严重问题: 模型几乎无法识别真实视频\")\n",
    "    elif metrics['real_accuracy'] < 0.5:\n",
    "        print(\"  ⚠️  问题: 真实视频识别能力较差\")\n",
    "    else:\n",
    "        print(\"  ✅ 真实视频识别能力正常\")\n",
    "        \n",
    "    if metrics['fake_accuracy'] > 0.9 and metrics['real_accuracy'] < 0.1:\n",
    "        print(\"  ❌ 严重偏向: 模型过度偏向预测伪造视频\")\n",
    "    \n",
    "    if metrics['auc_roc'] < 0.6:\n",
    "        print(\"  ❌ AUC-ROC过低: 模型判别能力接近随机猜测\")\n",
    "    \n",
    "    # 改进建议\n",
    "    print(f\"\\n💡 改进建议:\")\n",
    "    if dist['imbalance_ratio'] > 3.0:\n",
    "        print(\"  1. 增加真实视频样本或减少伪造视频样本\")\n",
    "        print(\"  2. 使用更强的类别权重 (pos_weight > 3.0)\")\n",
    "        print(\"  3. 调整Focal Loss参数 (降低alpha, 增加gamma)\")\n",
    "    \n",
    "    if metrics['real_accuracy'] < 0.3:\n",
    "        print(\"  4. 检查数据质量，确保真实视频标签正确\")\n",
    "        print(\"  5. 使用成本敏感学习方法\")\n",
    "        print(\"  6. 考虑使用SMOTE等过采样技术\")\n",
    "    \n",
    "    if metrics['auc_roc'] < 0.6:\n",
    "        print(\"  7. 重新设计模型架构\")\n",
    "        print(\"  8. 增加模型复杂度或使用预训练模型\")\n",
    "        print(\"  9. 检查特征提取是否有效\")\n",
    "    \n",
    "    print(\"=\"*60)\n",
    "\n",
    "print(\"✅ 评估函数和可视化定义完成\")"
   ]
  },
  {
   "cell_type": "code",
   "execution_count": 10,
   "id": "fd9fd289",
   "metadata": {
    "collapsed": true,
    "execution": {
     "iopub.execute_input": "2025-07-30T12:23:08.582920Z",
     "iopub.status.busy": "2025-07-30T12:23:08.582731Z",
     "iopub.status.idle": "2025-07-30T14:55:35.334950Z",
     "shell.execute_reply": "2025-07-30T14:55:35.334015Z"
    },
    "jupyter": {
     "outputs_hidden": true
    },
    "papermill": {
     "duration": 9146.763192,
     "end_time": "2025-07-30T14:55:35.336590",
     "exception": false,
     "start_time": "2025-07-30T12:23:08.573398",
     "status": "completed"
    },
    "tags": []
   },
   "outputs": [
    {
     "name": "stdout",
     "output_type": "stream",
     "text": [
      "📋 配置参数:\n",
      "   真实视频数量: 600\n",
      "   假视频数量: 600\n",
      "   每视频帧数: 36\n",
      "   真假比例: 1:1\n",
      "   预计总样本: 1200\n",
      "🎬 开始直接预提取视频帧到 ./data/frames...\n",
      "📊 简化数据配置:\n",
      "  - 真实视频: 600\n",
      "  - 假视频: 600\n",
      "  - 每视频帧数: 36\n",
      "  - 真假比例: 1:1\n",
      "  - 预计总帧数: 43200\n",
      "  - 优化目标: 提高训练效率，减少内存使用\n",
      "📱 数据处理使用设备: cuda\n",
      "🎯 开始处理真实视频...\n",
      "找到 600 个真实视频\n"
     ]
    },
    {
     "name": "stderr",
     "output_type": "stream",
     "text": [
      "处理真实视频:   0%|          | 0/600 [00:00<?, ?it/s]I0000 00:00:1753878192.791526      19 gpu_device.cc:2022] Created device /job:localhost/replica:0/task:0/device:GPU:0 with 13010 MB memory:  -> device: 0, name: Tesla T4, pci bus id: 0000:00:04.0, compute capability: 7.5\n",
      "I0000 00:00:1753878192.792155      19 gpu_device.cc:2022] Created device /job:localhost/replica:0/task:0/device:GPU:1 with 13942 MB memory:  -> device: 1, name: Tesla T4, pci bus id: 0000:00:05.0, compute capability: 7.5\n",
      "处理真实视频: 100%|██████████| 600/600 [1:19:09<00:00,  7.92s/it]\n"
     ]
    },
    {
     "name": "stdout",
     "output_type": "stream",
     "text": [
      "🎭 开始处理假视频...\n",
      "  Deepfakes: 1000 个视频\n",
      "  Face2Face: 1000 个视频\n",
      "  FaceShifter: 1000 个视频\n",
      "  FaceSwap: 1000 个视频\n",
      "  NeuralTextures: 1000 个视频\n",
      "  DeepFakeDetection: 1000 个视频\n",
      "总共可用假视频: 6000 个\n",
      "平均分配策略: 每种方法 100 个视频\n",
      "  Deepfakes: 采样 100 个视频\n"
     ]
    },
    {
     "name": "stderr",
     "output_type": "stream",
     "text": [
      "处理Deepfakes: 100%|██████████| 100/100 [12:17<00:00,  7.37s/it]\n"
     ]
    },
    {
     "name": "stdout",
     "output_type": "stream",
     "text": [
      "  Face2Face: 采样 100 个视频\n"
     ]
    },
    {
     "name": "stderr",
     "output_type": "stream",
     "text": [
      "处理Face2Face: 100%|██████████| 100/100 [13:13<00:00,  7.93s/it]\n"
     ]
    },
    {
     "name": "stdout",
     "output_type": "stream",
     "text": [
      "  FaceShifter: 采样 100 个视频\n"
     ]
    },
    {
     "name": "stderr",
     "output_type": "stream",
     "text": [
      "处理FaceShifter: 100%|██████████| 100/100 [12:00<00:00,  7.21s/it]\n"
     ]
    },
    {
     "name": "stdout",
     "output_type": "stream",
     "text": [
      "  FaceSwap: 采样 100 个视频\n"
     ]
    },
    {
     "name": "stderr",
     "output_type": "stream",
     "text": [
      "处理FaceSwap: 100%|██████████| 100/100 [08:46<00:00,  5.27s/it]\n"
     ]
    },
    {
     "name": "stdout",
     "output_type": "stream",
     "text": [
      "  NeuralTextures: 采样 100 个视频\n"
     ]
    },
    {
     "name": "stderr",
     "output_type": "stream",
     "text": [
      "处理NeuralTextures: 100%|██████████| 100/100 [07:43<00:00,  4.64s/it]\n"
     ]
    },
    {
     "name": "stdout",
     "output_type": "stream",
     "text": [
      "  DeepFakeDetection: 采样 100 个视频\n"
     ]
    },
    {
     "name": "stderr",
     "output_type": "stream",
     "text": [
      "处理DeepFakeDetection: 100%|██████████| 100/100 [19:15<00:00, 11.55s/it]"
     ]
    },
    {
     "name": "stdout",
     "output_type": "stream",
     "text": [
      "\n",
      "✅ 直接预提取完成: 1200 个视频\n",
      "   真实视频: 600 个\n",
      "   假视频: 600 个\n",
      "假视频方法分布:\n",
      "  Deepfakes: 100 个视频\n",
      "  Face2Face: 100 个视频\n",
      "  FaceShifter: 100 个视频\n",
      "  FaceSwap: 100 个视频\n",
      "  NeuralTextures: 100 个视频\n",
      "  DeepFakeDetection: 100 个视频\n",
      "\n",
      "📊 总体数据统计: 1200 个样本\n",
      "   真实视频: 600 个\n",
      "   假视频: 600 个\n",
      "\n",
      "📊 分割数据集...\n",
      "真实视频: 600 个\n",
      "伪造视频: 600 个\n",
      "训练集: 840 样本\n",
      "验证集: 180 样本\n",
      "测试集: 180 样本\n",
      "\n",
      "💾 保存数据集...\n",
      "数据集已保存到: ./data/train.csv\n",
      "数据集已保存到: ./data/val.csv\n",
      "数据集已保存到: ./data/test.csv\n",
      "\n",
      "📈 数据集统计:\n",
      "训练集: 真实=420, 伪造=420, 总计=840\n",
      "验证集: 真实=90, 伪造=90, 总计=180\n",
      "测试集: 真实=90, 伪造=90, 总计=180\n",
      "\n",
      "✅ 数据准备完成！\n",
      "   📊 数据分布: 真实视频 600 | 假视频 600\n",
      "   📈 当前比例: 1:1\n",
      "   🎯 数据集规模: 1200 个样本\n",
      "   🚀 可以开始训练了！\n"
     ]
    },
    {
     "name": "stderr",
     "output_type": "stream",
     "text": [
      "\n"
     ]
    }
   ],
   "source": [
    "# Cell 9: 数据准备 - 直接预提取优化版本\n",
    "\n",
    "# ==================== 配置参数 ====================\n",
    "# 数据集路径配置\n",
    "DATA_BASE_DIR = '/kaggle/input/ff-c23/FaceForensics++_C23'\n",
    "\n",
    "# 可自定义预处理视频数量 - 类别平衡优化版本\n",
    "MAX_REAL_VIDEOS = 600      # 真实视频数量\n",
    "MAX_FAKE_VIDEOS = 600      # 假视频数量，调整为1:1平衡\n",
    "MAX_FRAMES_PER_VIDEO = 36\n",
    "\n",
    "# 真假视频比例建议\n",
    "# 1:1 - 平衡数据集，适合大多数情况 ✅ 当前使用\n",
    "# 1:2 - 轻微偏向假视频，提高假视频检测能力\n",
    "# 1:3 - 中等偏向假视频，适合实际应用场景\n",
    "# 1:6 - 强烈偏向假视频，模拟真实世界分布\n",
    "REAL_FAKE_RATIO = \"1:1\"  # 完全平衡数据集，解决类别不平衡\n",
    "\n",
    "def direct_extract_frames_from_videos(base_data_dir, max_real=MAX_REAL_VIDEOS, max_fake=MAX_FAKE_VIDEOS, max_frames=MAX_FRAMES_PER_VIDEO, frames_dir='./data/frames'):\n",
    "    \"\"\"\n",
    "    直接从视频目录预提取帧到硬盘 - 一步到位的优化方案\n",
    "    \n",
    "    Args:\n",
    "        base_data_dir: 数据集根目录\n",
    "        max_real: 最大真实视频数量\n",
    "        max_fake: 最大假视频数量\n",
    "        max_frames: 每个视频提取的帧数\n",
    "        frames_dir: 帧存储目录\n",
    "    \n",
    "    Returns:\n",
    "        extracted_data: 包含预提取帧路径的数据列表\n",
    "    \"\"\"\n",
    "    print(f\"🎬 开始直接预提取视频帧到 {frames_dir}...\")\n",
    "    \n",
    "    print(f\"📊 简化数据配置:\")\n",
    "    print(f\"  - 真实视频: {max_real}\")\n",
    "    print(f\"  - 假视频: {max_fake}\")\n",
    "    print(f\"  - 每视频帧数: {max_frames}\")\n",
    "    print(f\"  - 真假比例: {REAL_FAKE_RATIO}\")\n",
    "    print(f\"  - 预计总帧数: {(max_real + max_fake) * max_frames}\")\n",
    "    print(f\"  - 优化目标: 提高训练效率，减少内存使用\")\n",
    "    \n",
    "    # 创建必要的目录\n",
    "    os.makedirs('./data', exist_ok=True)\n",
    "    os.makedirs(frames_dir, exist_ok=True)\n",
    "    \n",
    "    # 打印设备信息\n",
    "    device = torch.device('cuda' if torch.cuda.is_available() else 'cpu')\n",
    "    print(f\"📱 数据处理使用设备: {device}\")\n",
    "    \n",
    "    extracted_data = []\n",
    "    fake_methods = ['Deepfakes', 'Face2Face', 'FaceShifter', 'FaceSwap', 'NeuralTextures', 'DeepFakeDetection']\n",
    "    \n",
    "    # ==================== 处理真实视频 ====================\n",
    "    print(\"🎯 开始处理真实视频...\")\n",
    "    original_dir = os.path.join(base_data_dir, 'original')\n",
    "    if os.path.exists(original_dir):\n",
    "        video_files = [f for f in os.listdir(original_dir)\n",
    "                      if f.endswith(('.mp4', '.avi', '.mov'))]\n",
    "        \n",
    "        if len(video_files) > max_real:\n",
    "            video_files = random.sample(video_files, max_real)\n",
    "        \n",
    "        print(f\"找到 {len(video_files)} 个真实视频\")\n",
    "        \n",
    "        for video_file in tqdm(video_files, desc=\"处理真实视频\"):\n",
    "            try:\n",
    "                video_path = os.path.join(original_dir, video_file)\n",
    "                \n",
    "                # 生成帧文件路径\n",
    "                video_name = os.path.splitext(video_file)[0]\n",
    "                frame_file = os.path.join(frames_dir, f\"{video_name}_frames.pt\")\n",
    "                \n",
    "                # 检查是否已存在\n",
    "                if os.path.exists(frame_file):\n",
    "                    # 对于已存在的文件，我们需要加载它来获取帧数\n",
    "                    try:\n",
    "                        existing_frames = torch.load(frame_file)\n",
    "                        num_frames = len(existing_frames)\n",
    "                    except:\n",
    "                        num_frames = max_frames  # 默认值\n",
    "                    \n",
    "                    extracted_data.append({\n",
    "                        'frame_path': frame_file,\n",
    "                        'label': 0,\n",
    "                        'method': 'original',\n",
    "                        'original_video': video_path,\n",
    "                        'num_frames': num_frames\n",
    "                    })\n",
    "                    continue\n",
    "                \n",
    "                # 直接提取帧并保存\n",
    "                frames = extract_frames_memory_efficient(video_path, max_frames)\n",
    "                \n",
    "                if len(frames) >= max_frames // 2:  # 至少要有一半的帧\n",
    "                    # 转换为tensor并保存\n",
    "                    frames_tensor = torch.stack([\n",
    "                        torch.from_numpy(frame).permute(2, 0, 1).float() / 255.0\n",
    "                        for frame in frames\n",
    "                    ])\n",
    "                    \n",
    "                    torch.save(frames_tensor, frame_file)\n",
    "                    \n",
    "                    extracted_data.append({\n",
    "                        'frame_path': frame_file,\n",
    "                        'label': 0,  # 真实视频\n",
    "                        'method': 'original',\n",
    "                        'original_video': video_path,\n",
    "                        'num_frames': len(frames)\n",
    "                    })\n",
    "                else:\n",
    "                    print(f\"⚠️ 跳过帧数不足的视频: {video_file}\")\n",
    "                    \n",
    "            except Exception as e:\n",
    "                print(f\"❌ 处理真实视频失败 {video_file}: {e}\")\n",
    "                continue\n",
    "    \n",
    "    # ==================== 处理假视频 - 平均分配策略 ====================\n",
    "    print(\"🎭 开始处理假视频...\")\n",
    "    \n",
    "    # 统计每种方法的可用视频数量\n",
    "    method_videos = {}\n",
    "    total_available_fake = 0\n",
    "    \n",
    "    for method in fake_methods:\n",
    "        method_dir = os.path.join(base_data_dir, method)\n",
    "        if os.path.exists(method_dir):\n",
    "            videos = [os.path.join(method_dir, f) for f in os.listdir(method_dir) \n",
    "                     if f.endswith(('.mp4', '.avi', '.mov'))]\n",
    "            method_videos[method] = videos\n",
    "            total_available_fake += len(videos)\n",
    "            print(f\"  {method}: {len(videos)} 个视频\")\n",
    "        else:\n",
    "            method_videos[method] = []\n",
    "            print(f\"  {method}: 目录不存在\")\n",
    "    \n",
    "    print(f\"总共可用假视频: {total_available_fake} 个\")\n",
    "    \n",
    "    # 计算每种方法应该采样的视频数量（平均分配）\n",
    "    available_methods = [method for method in fake_methods if len(method_videos[method]) > 0]\n",
    "    if not available_methods:\n",
    "        print(\"❌ 未找到任何假视频方法\")\n",
    "        return extracted_data\n",
    "    \n",
    "    videos_per_method = max_fake // len(available_methods)\n",
    "    remaining_videos = max_fake % len(available_methods)\n",
    "    \n",
    "    print(f\"平均分配策略: 每种方法 {videos_per_method} 个视频\")\n",
    "    if remaining_videos > 0:\n",
    "        print(f\"剩余 {remaining_videos} 个视频将分配给前 {remaining_videos} 种方法\")\n",
    "    \n",
    "    # 为每种方法采样并直接处理视频\n",
    "    for i, method in enumerate(available_methods):\n",
    "        # 计算当前方法应该采样的数量\n",
    "        current_method_quota = videos_per_method\n",
    "        if i < remaining_videos:  # 前几种方法多分配一个\n",
    "            current_method_quota += 1\n",
    "        \n",
    "        available_videos = method_videos[method]\n",
    "        \n",
    "        # 如果可用视频数量少于配额，全部使用\n",
    "        if len(available_videos) <= current_method_quota:\n",
    "            method_selected = available_videos\n",
    "            print(f\"  {method}: 使用全部 {len(method_selected)} 个视频\")\n",
    "        else:\n",
    "            # 随机采样指定数量\n",
    "            method_selected = random.sample(available_videos, current_method_quota)\n",
    "            print(f\"  {method}: 采样 {len(method_selected)} 个视频\")\n",
    "        \n",
    "        # 直接处理选择的视频\n",
    "        for video_path in tqdm(method_selected, desc=f\"处理{method}\"):\n",
    "            try:\n",
    "                # 生成帧文件路径\n",
    "                video_name = os.path.splitext(os.path.basename(video_path))[0]\n",
    "                frame_file = os.path.join(frames_dir, f\"{video_name}_frames.pt\")\n",
    "                \n",
    "                # 检查是否已存在\n",
    "                if os.path.exists(frame_file):\n",
    "                    # 对于已存在的文件，我们需要加载它来获取帧数\n",
    "                    try:\n",
    "                        existing_frames = torch.load(frame_file)\n",
    "                        num_frames = len(existing_frames)\n",
    "                    except:\n",
    "                        num_frames = max_frames  # 默认值\n",
    "                    \n",
    "                    extracted_data.append({\n",
    "                        'frame_path': frame_file,\n",
    "                        'label': 1,\n",
    "                        'method': method,\n",
    "                        'original_video': video_path,\n",
    "                        'num_frames': num_frames\n",
    "                    })\n",
    "                    continue\n",
    "                \n",
    "                # 直接提取帧并保存\n",
    "                frames = extract_frames_memory_efficient(video_path, max_frames)\n",
    "                \n",
    "                if len(frames) >= max_frames // 2:\n",
    "                    # 转换为tensor并保存\n",
    "                    frames_tensor = torch.stack([\n",
    "                        torch.from_numpy(frame).permute(2, 0, 1).float() / 255.0\n",
    "                        for frame in frames\n",
    "                    ])\n",
    "                    \n",
    "                    torch.save(frames_tensor, frame_file)\n",
    "                    \n",
    "                    extracted_data.append({\n",
    "                        'frame_path': frame_file,\n",
    "                        'label': 1,  # 假视频\n",
    "                        'method': method,\n",
    "                        'original_video': video_path,\n",
    "                        'num_frames': len(frames)\n",
    "                    })\n",
    "                else:\n",
    "                    print(f\"⚠️ 跳过帧数不足的视频: {os.path.basename(video_path)}\")\n",
    "                    \n",
    "            except Exception as e:\n",
    "                print(f\"❌ 处理假视频失败 {os.path.basename(video_path)}: {e}\")\n",
    "                continue\n",
    "    \n",
    "    # 统计最终结果\n",
    "    real_count = sum(1 for item in extracted_data if item['label'] == 0)\n",
    "    fake_count = sum(1 for item in extracted_data if item['label'] == 1)\n",
    "    \n",
    "    method_counts = {}\n",
    "    for item in extracted_data:\n",
    "        if item['label'] == 1:  # 只统计假视频\n",
    "            method = item['method']\n",
    "            method_counts[method] = method_counts.get(method, 0) + 1\n",
    "    \n",
    "    print(f\"\\n✅ 直接预提取完成: {len(extracted_data)} 个视频\")\n",
    "    print(f\"   真实视频: {real_count} 个\")\n",
    "    print(f\"   假视频: {fake_count} 个\")\n",
    "    print(\"假视频方法分布:\")\n",
    "    for method, count in method_counts.items():\n",
    "        print(f\"  {method}: {count} 个视频\")\n",
    "    \n",
    "    return extracted_data\n",
    "\n",
    "\n",
    "print(f\"📋 配置参数:\")\n",
    "print(f\"   真实视频数量: {MAX_REAL_VIDEOS}\")\n",
    "print(f\"   假视频数量: {MAX_FAKE_VIDEOS}\")\n",
    "print(f\"   每视频帧数: {MAX_FRAMES_PER_VIDEO}\")\n",
    "print(f\"   真假比例: {REAL_FAKE_RATIO}\")\n",
    "print(f\"   预计总样本: {MAX_REAL_VIDEOS + MAX_FAKE_VIDEOS}\")\n",
    "\n",
    "# 直接预提取帧 - 一步到位的优化方案\n",
    "extracted_data = direct_extract_frames_from_videos(\n",
    "    base_data_dir=DATA_BASE_DIR,\n",
    "    max_real=MAX_REAL_VIDEOS,\n",
    "    max_fake=MAX_FAKE_VIDEOS,\n",
    "    max_frames=MAX_FRAMES_PER_VIDEO\n",
    ")\n",
    "\n",
    "if len(extracted_data) == 0:\n",
    "    raise ValueError(\"❌ 预提取帧失败，无法继续。请检查视频路径和格式。\")\n",
    "\n",
    "# 统计总体数据分布\n",
    "total_real = sum(1 for item in extracted_data if item['label'] == 0)\n",
    "total_fake = sum(1 for item in extracted_data if item['label'] == 1)\n",
    "print(f\"\\n📊 总体数据统计: {len(extracted_data)} 个样本\")\n",
    "print(f\"   真实视频: {total_real} 个\")\n",
    "print(f\"   假视频: {total_fake} 个\")\n",
    "\n",
    "# 数据集分割\n",
    "print(\"\\n📊 分割数据集...\")\n",
    "train_data, val_data, test_data = create_dataset_split(\n",
    "    extracted_data,  # 使用预提取的数据\n",
    "    test_size=0.15,  # 测试集比例\n",
    "    val_size=0.15    # 验证集比例\n",
    ")\n",
    "\n",
    "print(f\"训练集: {len(train_data)} 样本\")\n",
    "print(f\"验证集: {len(val_data)} 样本\")\n",
    "print(f\"测试集: {len(test_data)} 样本\")\n",
    "\n",
    "# 保存数据集\n",
    "print(\"\\n💾 保存数据集...\")\n",
    "save_dataset_to_csv(train_data, './data/train.csv')\n",
    "save_dataset_to_csv(val_data, './data/val.csv')\n",
    "save_dataset_to_csv(test_data, './data/test.csv')\n",
    "\n",
    "# 显示数据集统计\n",
    "print(\"\\n📈 数据集统计:\")\n",
    "for name, data in [(\"训练\", train_data), (\"验证\", val_data), (\"测试\", test_data)]:\n",
    "    real_count = sum(1 for item in data if item['label'] == 0)\n",
    "    fake_count = sum(1 for item in data if item['label'] == 1)\n",
    "    print(f\"{name}集: 真实={real_count}, 伪造={fake_count}, 总计={len(data)}\")\n",
    "\n",
    "print(f\"\\n✅ 数据准备完成！\")\n",
    "print(f\"   📊 数据分布: 真实视频 {total_real} | 假视频 {total_fake}\")\n",
    "print(f\"   📈 当前比例: {REAL_FAKE_RATIO}\")\n",
    "print(f\"   🎯 数据集规模: {len(extracted_data)} 个样本\")\n",
    "print(f\"   🚀 可以开始训练了！\")"
   ]
  },
  {
   "cell_type": "code",
   "execution_count": 11,
   "id": "d1268835",
   "metadata": {
    "execution": {
     "iopub.execute_input": "2025-07-30T14:55:35.469580Z",
     "iopub.status.busy": "2025-07-30T14:55:35.469271Z",
     "iopub.status.idle": "2025-07-30T14:55:36.220154Z",
     "shell.execute_reply": "2025-07-30T14:55:36.219280Z"
    },
    "papermill": {
     "duration": 0.818207,
     "end_time": "2025-07-30T14:55:36.221387",
     "exception": false,
     "start_time": "2025-07-30T14:55:35.403180",
     "status": "completed"
    },
    "tags": []
   },
   "outputs": [
    {
     "name": "stdout",
     "output_type": "stream",
     "text": [
      "🤖 创建和配置模型...\n"
     ]
    },
    {
     "name": "stderr",
     "output_type": "stream",
     "text": [
      "Downloading: \"https://download.pytorch.org/models/resnet18-f37072fd.pth\" to /root/.cache/torch/hub/checkpoints/resnet18-f37072fd.pth\n",
      "100%|██████████| 44.7M/44.7M [00:00<00:00, 173MB/s]\n"
     ]
    },
    {
     "name": "stdout",
     "output_type": "stream",
     "text": [
      "✅ 模型初始化完成 (ResNet18 轻量化版本)\n",
      "   - 主干网络: ResNet18 (512维特征)\n",
      "   - 注意力机制: 禁用\n",
      "   - 多模态融合: 禁用\n",
      "   - 集成模式: 禁用\n",
      "   - 预计参数量: ~11M (相比ResNet50减少约75%)\n",
      "🚀 启用多GPU并行训练，使用 2 个GPU\n",
      "📦 有效批次大小: 32 (单GPU: 16)\n",
      "✅ 模型已创建并移动到 cuda\n",
      "📊 模型参数数量: 11,247,682\n",
      "🎮 GPU: Tesla T4\n",
      "💾 GPU内存: 14.7GB\n",
      "🔧 内存使用限制: 60%\n",
      "⚠️ train_loader未定义，使用默认类别权重\n",
      "📊 类别分布 - 真实: 1, 伪造: 1\n",
      "⚖️ 正样本权重: 1.00\n",
      "📝 使用FP32训练 (解决NaN问题)\n",
      "🎯 ResNet18优化训练配置:\n",
      "  - 主干网络: ResNet18 (轻量化)\n",
      "  - 批次大小: 16 (相比ResNet50增加100%)\n",
      "  - 训练轮数: 50\n",
      "  - 初始学习率: 2.00e-04\n",
      "  - 权重衰减: 0.010\n",
      "  - FocalLoss参数: alpha=0.9, gamma=2.0\n",
      "  - 早停耐心值: 25\n",
      "  - 混合精度: 禁用\n",
      "  - 模型复杂度: 轻量化版本 (~11M参数)\n",
      "✅ ResNet18轻量化模型和训练配置完成\n"
     ]
    }
   ],
   "source": [
    "# Cell 10: 模型初始化和训练配置 \n",
    "print(\"🤖 创建和配置模型...\")\n",
    "\n",
    "# 训练配置参数 - ResNet18优化版本\n",
    "batch_size = 16\n",
    "\n",
    "# 创建轻量化模型 - ResNet18版本\n",
    "model = OptimizedDeepfakeDetector(\n",
    "    num_classes=1,\n",
    "    dropout_rate=0.2,  # 适中的dropout率，平衡过拟合和欠拟合\n",
    "    use_attention=False,  # 禁用注意力机制，简化模型\n",
    "    use_multimodal=False,  # 禁用多模态特征融合\n",
    "    ensemble_mode=False   # 单模型模式\n",
    ").to(device)\n",
    "\n",
    "# 多GPU并行支持\n",
    "if torch.cuda.is_available() and torch.cuda.device_count() > 1:\n",
    "    print(f\"🚀 启用多GPU并行训练，使用 {torch.cuda.device_count()} 个GPU\")\n",
    "    model = nn.DataParallel(model)\n",
    "    # 调整批次大小以充分利用多GPU\n",
    "    effective_batch_size = batch_size * torch.cuda.device_count()\n",
    "    print(f\"📦 有效批次大小: {effective_batch_size} (单GPU: {batch_size})\")\n",
    "else:\n",
    "    print(\"📝 单GPU训练模式\")\n",
    "\n",
    "print(f\"✅ 模型已创建并移动到 {device}\")\n",
    "print(f\"📊 模型参数数量: {sum(p.numel() for p in model.parameters()):,}\")\n",
    "\n",
    "# 优化GPU内存配置 - 更保守的内存使用避免OOM\n",
    "if torch.cuda.is_available():\n",
    "    torch.cuda.set_per_process_memory_fraction(0.6)  # 降低到60%避免内存溢出\n",
    "    torch.cuda.empty_cache()  # 清理缓存\n",
    "    print(f\"🎮 GPU: {torch.cuda.get_device_name(0)}\")\n",
    "    print(f\"💾 GPU内存: {torch.cuda.get_device_properties(0).total_memory / 1024**3:.1f}GB\")\n",
    "    print(f\"🔧 内存使用限制: 60%\")\n",
    "\n",
    "# 损失函数 - 使用类别权重平衡\n",
    "# 计算类别权重 - 修复版本\n",
    "if 'train_loader' in globals() and train_loader is not None:\n",
    "    # 从train_loader获取数据集\n",
    "    train_dataset = train_loader.dataset\n",
    "    \n",
    "    if hasattr(train_dataset, 'real_count') and hasattr(train_dataset, 'fake_count'):\n",
    "        # 使用预计算的统计信息\n",
    "        real_count = train_dataset.real_count\n",
    "        fake_count = train_dataset.fake_count\n",
    "    else:\n",
    "        # 回退方案：手动计算\n",
    "        if hasattr(train_dataset, 'data_list') and train_dataset.data_list is not None:\n",
    "            real_count = sum(1 for item in train_dataset.data_list if item['label'] == 0)\n",
    "            fake_count = sum(1 for item in train_dataset.data_list if item['label'] == 1)\n",
    "        elif hasattr(train_dataset, 'df') and train_dataset.df is not None:\n",
    "            real_count = len(train_dataset.df[train_dataset.df['label'] == 0])\n",
    "            fake_count = len(train_dataset.df[train_dataset.df['label'] == 1])\n",
    "        else:\n",
    "            # 默认值\n",
    "            real_count = 1\n",
    "            fake_count = 1\n",
    "            print(\"⚠️ 无法获取类别分布，使用默认权重\")\n",
    "else:\n",
    "    # 如果没有train_loader，使用默认值\n",
    "    real_count = 1\n",
    "    fake_count = 1\n",
    "    print(\"⚠️ train_loader未定义，使用默认类别权重\")\n",
    "\n",
    "# 确保计数不为零\n",
    "real_count = max(real_count, 1)\n",
    "fake_count = max(fake_count, 1)\n",
    "\n",
    "pos_weight = torch.tensor([real_count / fake_count], device=device)\n",
    "\n",
    "print(f\"📊 类别分布 - 真实: {real_count}, 伪造: {fake_count}\")\n",
    "print(f\"⚖️ 正样本权重: {pos_weight.item():.2f}\")\n",
    "\n",
    "# 使用FocalLoss处理类别不平衡 - ResNet18优化版本\n",
    "criterion = FocalLoss(\n",
    "    alpha=0.9,   # 增加alpha值，更多关注真实视频(少数类)\n",
    "    gamma=2.0,   # 适中的gamma值，关注困难样本但不过度\n",
    "    pos_weight=pos_weight,\n",
    "    reduction='mean'\n",
    ")\n",
    "\n",
    "# 优化器配置 - ResNet18优化版本\n",
    "optimizer = optim.AdamW(\n",
    "    model.parameters(),\n",
    "    lr=2e-4,  # 适中的学习率，适合ResNet18的收敛特性\n",
    "    weight_decay=0.01,  # 适中的权重衰减，防止过拟合\n",
    "    betas=(0.9, 0.999),\n",
    "    eps=1e-8\n",
    ")\n",
    "\n",
    "# 学习率调度器 - 更激进的学习率策略\n",
    "scheduler = CosineAnnealingWarmRestarts(\n",
    "    optimizer,\n",
    "    T_0=5,  # 增加重启周期，让模型有更多时间学习\n",
    "    T_mult=1,  # 保持周期不变\n",
    "    eta_min=1e-5  # 提高最小学习率\n",
    ")\n",
    "\n",
    "# 早停机制 - 更宽松的监控\n",
    "early_stopping = EarlyStopping(\n",
    "    patience=25,  # 增加耐心值，给模型更多学习时间\n",
    "    min_delta=0.005,  # 降低最小改进阈值\n",
    "    restore_best_weights=True\n",
    ")\n",
    "\n",
    "# 混合精度训练 - 暂时禁用以解决NaN问题\n",
    "use_amp = False  # 强制禁用混合精度训练，避免数值不稳定\n",
    "scaler = None\n",
    "print(\"📝 使用FP32训练 (解决NaN问题)\")\n",
    "\n",
    "# 训练配置 - ResNet18优化版本\n",
    "num_epochs = 50  # 保持训练轮数，给模型充分学习时间\n",
    "print(f\"🎯 ResNet18优化训练配置:\")\n",
    "print(f\"  - 主干网络: ResNet18 (轻量化)\")\n",
    "print(f\"  - 批次大小: {batch_size} (相比ResNet50增加100%)\")\n",
    "print(f\"  - 训练轮数: {num_epochs}\")\n",
    "print(f\"  - 初始学习率: {optimizer.param_groups[0]['lr']:.2e}\")\n",
    "print(f\"  - 权重衰减: {optimizer.param_groups[0]['weight_decay']:.3f}\")\n",
    "print(f\"  - FocalLoss参数: alpha={criterion.alpha:.1f}, gamma={criterion.gamma:.1f}\")\n",
    "print(f\"  - 早停耐心值: {early_stopping.patience}\")\n",
    "print(f\"  - 混合精度: {'启用' if use_amp else '禁用'}\")\n",
    "print(f\"  - 模型复杂度: 轻量化版本 (~11M参数)\")\n",
    "\n",
    "print(\"✅ ResNet18轻量化模型和训练配置完成\")"
   ]
  },
  {
   "cell_type": "code",
   "execution_count": 12,
   "id": "aadd72dd",
   "metadata": {
    "execution": {
     "iopub.execute_input": "2025-07-30T14:55:36.339577Z",
     "iopub.status.busy": "2025-07-30T14:55:36.339306Z",
     "iopub.status.idle": "2025-07-30T14:55:36.465402Z",
     "shell.execute_reply": "2025-07-30T14:55:36.464484Z"
    },
    "jupyter": {
     "source_hidden": true
    },
    "papermill": {
     "duration": 0.186348,
     "end_time": "2025-07-30T14:55:36.466666",
     "exception": false,
     "start_time": "2025-07-30T14:55:36.280318",
     "status": "completed"
    },
    "tags": []
   },
   "outputs": [
    {
     "name": "stdout",
     "output_type": "stream",
     "text": [
      "✅ 数据加载器函数定义完成（三步优化专用）\n",
      "\n",
      "🚀 创建数据加载器实例...\n",
      "📊 创建数据加载器（三步优化模式）...\n",
      "🔧 检测到GPU预处理，自动禁用pin_memory以避免冲突\n",
      "✅ 预提取帧模式，共 840 个样本\n",
      "📊 数据分布: 真实=420, 伪造=420\n",
      "✅ 数据集初始化完成: 840 个样本\n",
      "🚀 GPU预处理: True (设备: cuda)\n",
      "📊 启用频域特征提取\n",
      "🔍 启用压缩伪影分析\n",
      "✅ 预提取帧模式，共 180 个样本\n",
      "📊 数据分布: 真实=90, 伪造=90\n",
      "✅ 数据集初始化完成: 180 个样本\n",
      "🚀 GPU预处理: True (设备: cuda)\n",
      "📊 启用频域特征提取\n",
      "🔍 启用压缩伪影分析\n",
      "✅ 预提取帧模式，共 180 个样本\n",
      "📊 数据分布: 真实=90, 伪造=90\n",
      "✅ 数据集初始化完成: 180 个样本\n",
      "🚀 GPU预处理: True (设备: cuda)\n",
      "📊 启用频域特征提取\n",
      "🔍 启用压缩伪影分析\n",
      "训练集大小: 840\n",
      "验证集大小: 180\n",
      "测试集大小: 180\n",
      "类别分布: {0: 420, 1: 420}\n",
      "✅ 使用加权随机采样器进行类别平衡\n",
      "🔧 使用 0 个工作进程（Kaggle优化）\n",
      "✅ 数据加载器创建完成\n",
      "📈 三步优化性能提升:\n",
      "  - 预提取帧: 消除重复I/O\n",
      "  - GPU预处理: 加速特征提取\n",
      "  - 总体训练速度提升: 3-4倍\n"
     ]
    }
   ],
   "source": [
    "# Cell 11: 数据加载器\n",
    "\n",
    "# 必要的导入\n",
    "import torch\n",
    "import pandas as pd\n",
    "from torch.utils.data import DataLoader, WeightedRandomSampler\n",
    "\n",
    "# 注意：需要先执行 cell_04_dataset_class.py 来定义 DeepfakeVideoDataset\n",
    "# 如果在Jupyter中，DeepfakeVideoDataset 应该已经在之前的cell中定义\n",
    "\n",
    "def create_data_loaders(batch_size=1, num_workers=0, pin_memory=True):\n",
    "    \"\"\"创建数据加载器 - 专用于预提取帧的GPU预处理\"\"\"\n",
    "    \n",
    "    print(\"📊 创建数据加载器（三步优化模式）...\")\n",
    "    \n",
    "    # GPU预处理配置\n",
    "    gpu_preprocessing = True\n",
    "    \n",
    "    # 重要：当启用GPU预处理时，必须禁用pin_memory\n",
    "    # 因为数据已经在GPU上，pin_memory只适用于CPU tensor\n",
    "    if gpu_preprocessing:\n",
    "        pin_memory = False\n",
    "        print(\"🔧 检测到GPU预处理，自动禁用pin_memory以避免冲突\")\n",
    "    \n",
    "    # 创建数据集实例 - 专用于预提取帧\n",
    "    train_dataset = DeepfakeVideoDataset(\n",
    "        csv_file='./data/train.csv',\n",
    "        max_frames=16,\n",
    "        gpu_preprocessing=gpu_preprocessing,  # 启用GPU预处理\n",
    "        extract_fourier=True,   # 启用多模态特征\n",
    "        extract_compression=True\n",
    "    )\n",
    "    \n",
    "    val_dataset = DeepfakeVideoDataset(\n",
    "        csv_file='./data/val.csv',\n",
    "        max_frames=16,\n",
    "        gpu_preprocessing=gpu_preprocessing,  # 启用GPU预处理\n",
    "        extract_fourier=True,   # 启用多模态特征\n",
    "        extract_compression=True\n",
    "    )\n",
    "    \n",
    "    test_dataset = DeepfakeVideoDataset(\n",
    "        csv_file='./data/test.csv',\n",
    "        max_frames=16,\n",
    "        gpu_preprocessing=gpu_preprocessing,  # 启用GPU预处理\n",
    "        extract_fourier=True,   # 启用多模态特征\n",
    "        extract_compression=True\n",
    "    )\n",
    "    \n",
    "    print(f\"训练集大小: {len(train_dataset)}\")\n",
    "    print(f\"验证集大小: {len(val_dataset)}\")\n",
    "    print(f\"测试集大小: {len(test_dataset)}\")\n",
    "    \n",
    "    # 计算类别权重用于平衡采样\n",
    "    train_df = pd.read_csv('./data/train.csv')\n",
    "    class_counts = train_df['label'].value_counts().sort_index()\n",
    "    total_samples = len(train_df)\n",
    "    \n",
    "    print(f\"类别分布: {class_counts.to_dict()}\")\n",
    "    \n",
    "    # 创建平衡采样器\n",
    "    if len(class_counts) > 1:\n",
    "        # 计算类别权重\n",
    "        class_weights = total_samples / (len(class_counts) * class_counts.values)\n",
    "        sample_weights = [class_weights[int(label)] for label in train_df['label']]\n",
    "        \n",
    "        # 创建加权随机采样器\n",
    "        sampler = WeightedRandomSampler(\n",
    "            weights=sample_weights,\n",
    "            num_samples=len(sample_weights),\n",
    "            replacement=True\n",
    "        )\n",
    "        \n",
    "        print(\"✅ 使用加权随机采样器进行类别平衡\")\n",
    "        shuffle_train = False  # 使用采样器时不能shuffle\n",
    "    else:\n",
    "        sampler = None\n",
    "        shuffle_train = True\n",
    "        print(\"⚠️ 只有一个类别，跳过类别平衡\")\n",
    "    \n",
    "    # Kaggle优化配置\n",
    "    safe_num_workers = 0  # 单进程模式避免序列化问题\n",
    "    print(f\"🔧 使用 {safe_num_workers} 个工作进程（Kaggle优化）\")\n",
    "    \n",
    "    # 创建数据加载器 - 三步优化配置\n",
    "    train_loader = DataLoader(\n",
    "        train_dataset,\n",
    "        batch_size=batch_size,\n",
    "        shuffle=shuffle_train,\n",
    "        sampler=sampler,\n",
    "        num_workers=safe_num_workers,\n",
    "        pin_memory=pin_memory,  # 已根据GPU预处理自动调整\n",
    "        drop_last=True,\n",
    "        persistent_workers=False,\n",
    "        prefetch_factor=2 if safe_num_workers > 0 else None\n",
    "    )\n",
    "    \n",
    "    val_loader = DataLoader(\n",
    "        val_dataset,\n",
    "        batch_size=batch_size,\n",
    "        shuffle=False,\n",
    "        num_workers=safe_num_workers,\n",
    "        pin_memory=pin_memory,  # 已根据GPU预处理自动调整\n",
    "        drop_last=False,\n",
    "        persistent_workers=False,\n",
    "        prefetch_factor=2 if safe_num_workers > 0 else None\n",
    "    )\n",
    "    \n",
    "    test_loader = DataLoader(\n",
    "        test_dataset,\n",
    "        batch_size=batch_size,\n",
    "        shuffle=False,\n",
    "        num_workers=safe_num_workers,\n",
    "        pin_memory=pin_memory,  # 已根据GPU预处理自动调整\n",
    "        drop_last=False,\n",
    "        persistent_workers=False,\n",
    "        prefetch_factor=2 if safe_num_workers > 0 else None\n",
    "    )\n",
    "    \n",
    "    print(\"✅ 数据加载器创建完成\")\n",
    "    print(f\"📈 三步优化性能提升:\")\n",
    "    print(f\"  - 预提取帧: 消除重复I/O\")\n",
    "    print(f\"  - GPU预处理: 加速特征提取\")\n",
    "    print(f\"  - 总体训练速度提升: 3-4倍\")\n",
    "    \n",
    "    return train_loader, val_loader, test_loader\n",
    "\n",
    "print(\"✅ 数据加载器函数定义完成（三步优化专用）\")\n",
    "\n",
    "# 创建数据加载器实例\n",
    "print(\"\\n🚀 创建数据加载器实例...\")\n",
    "train_loader, val_loader, test_loader = create_data_loaders(\n",
    "    batch_size=batch_size,  # 使用之前定义的batch_size\n",
    "    num_workers=0,\n",
    "    pin_memory=True\n",
    ")"
   ]
  },
  {
   "cell_type": "code",
   "execution_count": 13,
   "id": "9cba9033",
   "metadata": {
    "execution": {
     "iopub.execute_input": "2025-07-30T14:55:36.585330Z",
     "iopub.status.busy": "2025-07-30T14:55:36.585070Z",
     "iopub.status.idle": "2025-07-30T15:15:27.490831Z",
     "shell.execute_reply": "2025-07-30T15:15:27.489884Z"
    },
    "jupyter": {
     "source_hidden": true
    },
    "papermill": {
     "duration": 1190.96931,
     "end_time": "2025-07-30T15:15:27.494078",
     "exception": false,
     "start_time": "2025-07-30T14:55:36.524768",
     "status": "completed"
    },
    "tags": []
   },
   "outputs": [
    {
     "name": "stdout",
     "output_type": "stream",
     "text": [
      "🚀 开始训练...\n",
      "📊 训练配置: 52 个训练批次, 12 个验证批次\n",
      "🎯 模型参数数量: 11,247,682\n",
      "💾 设备: cuda\n",
      "📦 批次大小: 16\n",
      "🎮 GPU数量: 2\n",
      "🎮 GPU型号: Tesla T4\n",
      "🚀 多GPU并行训练模式\n",
      "📦 有效批次大小: 32\n",
      "\n",
      "🔄 开始训练循环...\n",
      "\n",
      "Epoch 1/50\n"
     ]
    },
    {
     "name": "stderr",
     "output_type": "stream",
     "text": [
      "训练中:   0%|          | 0/52 [00:00<?, ?it/s]"
     ]
    },
    {
     "name": "stdout",
     "output_type": "stream",
     "text": [
      "🔍 训练开始调试信息:\n",
      "   - 数据加载器长度: 52\n",
      "   - 当前学习率: 2.00e-04\n",
      "   - 设备: cuda\n",
      "   - 混合精度: 启用\n",
      "📊 批次 0: GPU内存 0.1GB / 0.3GB\n"
     ]
    },
    {
     "name": "stderr",
     "output_type": "stream",
     "text": [
      "训练中:   2%|▏         | 1/52 [00:07<06:29,  7.64s/it, Loss=0.0538, Acc=0.5000]"
     ]
    },
    {
     "name": "stdout",
     "output_type": "stream",
     "text": [
      "🔍 批次 0 成功:\n",
      "   - 损失值: 0.053821\n",
      "   - 样本数: 16\n",
      "   - 预测概率范围: [0.3022, 0.9072]\n",
      "   - 标签分布: 5.0/16\n"
     ]
    },
    {
     "name": "stderr",
     "output_type": "stream",
     "text": [
      "训练中:   4%|▍         | 2/52 [00:08<03:15,  3.91s/it, Loss=0.1061, Acc=0.4062]"
     ]
    },
    {
     "name": "stdout",
     "output_type": "stream",
     "text": [
      "🔍 批次 1 成功:\n",
      "   - 损失值: 0.158313\n",
      "   - 样本数: 16\n",
      "   - 预测概率范围: [0.1823, 0.8125]\n",
      "   - 标签分布: 7.0/16\n"
     ]
    },
    {
     "name": "stderr",
     "output_type": "stream",
     "text": [
      "训练中:   6%|▌         | 3/52 [00:10<02:11,  2.69s/it, Loss=0.1094, Acc=0.3750]"
     ]
    },
    {
     "name": "stdout",
     "output_type": "stream",
     "text": [
      "🔍 批次 2 成功:\n",
      "   - 损失值: 0.116099\n",
      "   - 样本数: 16\n",
      "   - 预测概率范围: [0.2751, 0.9375]\n",
      "   - 标签分布: 6.0/16\n"
     ]
    },
    {
     "name": "stderr",
     "output_type": "stream",
     "text": [
      "训练中:  38%|███▊      | 20/52 [00:27<00:30,  1.05it/s, Loss=0.1104, Acc=0.5062]"
     ]
    },
    {
     "name": "stdout",
     "output_type": "stream",
     "text": [
      "📊 批次 20: GPU内存 0.3GB / 0.5GB\n"
     ]
    },
    {
     "name": "stderr",
     "output_type": "stream",
     "text": [
      "训练中:  77%|███████▋  | 40/52 [00:45<00:10,  1.18it/s, Loss=0.0952, Acc=0.5281]"
     ]
    },
    {
     "name": "stdout",
     "output_type": "stream",
     "text": [
      "📊 批次 40: GPU内存 0.3GB / 0.5GB\n"
     ]
    },
    {
     "name": "stderr",
     "output_type": "stream",
     "text": [
      "                                                                                \r"
     ]
    },
    {
     "name": "stdout",
     "output_type": "stream",
     "text": [
      "🔍 训练结果调试:\n",
      "   - 总损失: 4.744414392858744\n",
      "   - 数据加载器长度: 52\n",
      "   - 平均损失: 0.0912387383242066\n",
      "   - 正确预测数: 460\n",
      "   - 总样本数: 832\n",
      "   - 准确率: 0.5528846153846154\n"
     ]
    },
    {
     "name": "stderr",
     "output_type": "stream",
     "text": [
      "                                                                                        \r"
     ]
    },
    {
     "name": "stdout",
     "output_type": "stream",
     "text": [
      "训练: Loss=0.0912, Acc=55.29%\n",
      "验证: Loss=0.1560, Acc=46.67%, AUC=0.4841, F1=0.6033\n",
      "学习率: 1.34e-04, 用时: 69.1s\n",
      "🎯 新的最佳模型! Acc: 46.67%, AUC: 0.4841\n",
      "💾 最佳模型已保存\n",
      "\n",
      "Epoch 2/50\n"
     ]
    },
    {
     "name": "stderr",
     "output_type": "stream",
     "text": [
      "训练中:   0%|          | 0/52 [00:00<?, ?it/s]"
     ]
    },
    {
     "name": "stdout",
     "output_type": "stream",
     "text": [
      "🔍 训练开始调试信息:\n",
      "   - 数据加载器长度: 52\n",
      "   - 当前学习率: 1.34e-04\n",
      "   - 设备: cuda\n",
      "   - 混合精度: 启用\n",
      "📊 批次 0: GPU内存 0.2GB / 0.5GB\n"
     ]
    },
    {
     "name": "stderr",
     "output_type": "stream",
     "text": [
      "训练中:   2%|▏         | 1/52 [00:00<00:42,  1.19it/s, Loss=0.1056, Acc=0.2500]"
     ]
    },
    {
     "name": "stdout",
     "output_type": "stream",
     "text": [
      "🔍 批次 0 成功:\n",
      "   - 损失值: 0.105555\n",
      "   - 样本数: 16\n",
      "   - 预测概率范围: [0.1292, 0.9878]\n",
      "   - 标签分布: 3.0/16\n"
     ]
    },
    {
     "name": "stderr",
     "output_type": "stream",
     "text": [
      "训练中:   4%|▍         | 2/52 [00:01<00:39,  1.27it/s, Loss=0.1432, Acc=0.3125]"
     ]
    },
    {
     "name": "stdout",
     "output_type": "stream",
     "text": [
      "🔍 批次 1 成功:\n",
      "   - 损失值: 0.180817\n",
      "   - 样本数: 16\n",
      "   - 预测概率范围: [0.1076, 0.9414]\n",
      "   - 标签分布: 6.0/16\n"
     ]
    },
    {
     "name": "stderr",
     "output_type": "stream",
     "text": [
      "训练中:   6%|▌         | 3/52 [00:02<00:38,  1.29it/s, Loss=0.1131, Acc=0.3750]"
     ]
    },
    {
     "name": "stdout",
     "output_type": "stream",
     "text": [
      "🔍 批次 2 成功:\n",
      "   - 损失值: 0.052783\n",
      "   - 样本数: 16\n",
      "   - 预测概率范围: [0.1338, 0.9736]\n",
      "   - 标签分布: 6.0/16\n"
     ]
    },
    {
     "name": "stderr",
     "output_type": "stream",
     "text": [
      "训练中:  38%|███▊      | 20/52 [00:15<00:24,  1.31it/s, Loss=0.0850, Acc=0.5719]"
     ]
    },
    {
     "name": "stdout",
     "output_type": "stream",
     "text": [
      "📊 批次 20: GPU内存 0.3GB / 0.5GB\n"
     ]
    },
    {
     "name": "stderr",
     "output_type": "stream",
     "text": [
      "训练中:  77%|███████▋  | 40/52 [00:30<00:08,  1.34it/s, Loss=0.0792, Acc=0.6141]"
     ]
    },
    {
     "name": "stdout",
     "output_type": "stream",
     "text": [
      "📊 批次 40: GPU内存 0.3GB / 0.5GB\n"
     ]
    },
    {
     "name": "stderr",
     "output_type": "stream",
     "text": [
      "                                                                                \r"
     ]
    },
    {
     "name": "stdout",
     "output_type": "stream",
     "text": [
      "🔍 训练结果调试:\n",
      "   - 总损失: 3.881753074005246\n",
      "   - 数据加载器长度: 52\n",
      "   - 平均损失: 0.07464909757702397\n",
      "   - 正确预测数: 499\n",
      "   - 总样本数: 832\n",
      "   - 准确率: 0.5997596153846154\n"
     ]
    },
    {
     "name": "stderr",
     "output_type": "stream",
     "text": [
      "                                                                                        \r"
     ]
    },
    {
     "name": "stdout",
     "output_type": "stream",
     "text": [
      "训练: Loss=0.0746, Acc=59.98%\n",
      "验证: Loss=0.0927, Acc=46.67%, AUC=0.4999, F1=0.6129\n",
      "学习率: 2.81e-05, 用时: 50.1s\n",
      "\n",
      "Epoch 3/50\n"
     ]
    },
    {
     "name": "stderr",
     "output_type": "stream",
     "text": [
      "训练中:   0%|          | 0/52 [00:00<?, ?it/s]"
     ]
    },
    {
     "name": "stdout",
     "output_type": "stream",
     "text": [
      "🔍 训练开始调试信息:\n",
      "   - 数据加载器长度: 52\n",
      "   - 当前学习率: 2.81e-05\n",
      "   - 设备: cuda\n",
      "   - 混合精度: 启用\n",
      "📊 批次 0: GPU内存 0.2GB / 0.5GB\n"
     ]
    },
    {
     "name": "stderr",
     "output_type": "stream",
     "text": [
      "训练中:   2%|▏         | 1/52 [00:00<00:37,  1.37it/s, Loss=0.0766, Acc=0.5625]"
     ]
    },
    {
     "name": "stdout",
     "output_type": "stream",
     "text": [
      "🔍 批次 0 成功:\n",
      "   - 损失值: 0.076597\n",
      "   - 样本数: 16\n",
      "   - 预测概率范围: [0.3677, 0.9805]\n",
      "   - 标签分布: 6.0/16\n"
     ]
    },
    {
     "name": "stderr",
     "output_type": "stream",
     "text": [
      "训练中:   4%|▍         | 2/52 [00:01<00:37,  1.34it/s, Loss=0.0697, Acc=0.5938]"
     ]
    },
    {
     "name": "stdout",
     "output_type": "stream",
     "text": [
      "🔍 批次 1 成功:\n",
      "   - 损失值: 0.062804\n",
      "   - 样本数: 16\n",
      "   - 预测概率范围: [0.3430, 0.9502]\n",
      "   - 标签分布: 8.0/16\n"
     ]
    },
    {
     "name": "stderr",
     "output_type": "stream",
     "text": [
      "训练中:   6%|▌         | 3/52 [00:02<00:35,  1.39it/s, Loss=0.0612, Acc=0.5833]"
     ]
    },
    {
     "name": "stdout",
     "output_type": "stream",
     "text": [
      "🔍 批次 2 成功:\n",
      "   - 损失值: 0.044256\n",
      "   - 样本数: 16\n",
      "   - 预测概率范围: [0.3018, 0.8848]\n",
      "   - 标签分布: 8.0/16\n"
     ]
    },
    {
     "name": "stderr",
     "output_type": "stream",
     "text": [
      "训练中:  38%|███▊      | 20/52 [00:14<00:22,  1.43it/s, Loss=0.0483, Acc=0.5875]"
     ]
    },
    {
     "name": "stdout",
     "output_type": "stream",
     "text": [
      "📊 批次 20: GPU内存 0.3GB / 0.5GB\n"
     ]
    },
    {
     "name": "stderr",
     "output_type": "stream",
     "text": [
      "训练中:  77%|███████▋  | 40/52 [00:28<00:08,  1.39it/s, Loss=0.0495, Acc=0.6047]"
     ]
    },
    {
     "name": "stdout",
     "output_type": "stream",
     "text": [
      "📊 批次 40: GPU内存 0.3GB / 0.5GB\n"
     ]
    },
    {
     "name": "stderr",
     "output_type": "stream",
     "text": [
      "                                                                                \r"
     ]
    },
    {
     "name": "stdout",
     "output_type": "stream",
     "text": [
      "🔍 训练结果调试:\n",
      "   - 总损失: 2.5376775255426764\n",
      "   - 数据加载器长度: 52\n",
      "   - 平均损失: 0.048801490875820704\n",
      "   - 正确预测数: 507\n",
      "   - 总样本数: 832\n",
      "   - 准确率: 0.609375\n"
     ]
    },
    {
     "name": "stderr",
     "output_type": "stream",
     "text": [
      "                                                                                        \r"
     ]
    },
    {
     "name": "stdout",
     "output_type": "stream",
     "text": [
      "训练: Loss=0.0488, Acc=60.94%\n",
      "验证: Loss=0.0950, Acc=45.00%, AUC=0.4942, F1=0.5959\n",
      "学习率: 1.82e-04, 用时: 46.3s\n",
      "\n",
      "Epoch 4/50\n"
     ]
    },
    {
     "name": "stderr",
     "output_type": "stream",
     "text": [
      "训练中:   0%|          | 0/52 [00:00<?, ?it/s]"
     ]
    },
    {
     "name": "stdout",
     "output_type": "stream",
     "text": [
      "🔍 训练开始调试信息:\n",
      "   - 数据加载器长度: 52\n",
      "   - 当前学习率: 1.82e-04\n",
      "   - 设备: cuda\n",
      "   - 混合精度: 启用\n",
      "📊 批次 0: GPU内存 0.2GB / 0.5GB\n"
     ]
    },
    {
     "name": "stderr",
     "output_type": "stream",
     "text": [
      "训练中:   2%|▏         | 1/52 [00:00<00:32,  1.55it/s, Loss=0.0275, Acc=0.6875]"
     ]
    },
    {
     "name": "stdout",
     "output_type": "stream",
     "text": [
      "🔍 批次 0 成功:\n",
      "   - 损失值: 0.027499\n",
      "   - 样本数: 16\n",
      "   - 预测概率范围: [0.1222, 0.9541]\n",
      "   - 标签分布: 8.0/16\n"
     ]
    },
    {
     "name": "stderr",
     "output_type": "stream",
     "text": [
      "训练中:   4%|▍         | 2/52 [00:01<00:33,  1.47it/s, Loss=0.0398, Acc=0.6250]"
     ]
    },
    {
     "name": "stdout",
     "output_type": "stream",
     "text": [
      "🔍 批次 1 成功:\n",
      "   - 损失值: 0.052067\n",
      "   - 样本数: 16\n",
      "   - 预测概率范围: [0.3738, 0.9380]\n",
      "   - 标签分布: 9.0/16\n"
     ]
    },
    {
     "name": "stderr",
     "output_type": "stream",
     "text": [
      "训练中:   6%|▌         | 3/52 [00:02<00:33,  1.47it/s, Loss=0.0378, Acc=0.6250]"
     ]
    },
    {
     "name": "stdout",
     "output_type": "stream",
     "text": [
      "🔍 批次 2 成功:\n",
      "   - 损失值: 0.033950\n",
      "   - 样本数: 16\n",
      "   - 预测概率范围: [0.3289, 0.9331]\n",
      "   - 标签分布: 7.0/16\n"
     ]
    },
    {
     "name": "stderr",
     "output_type": "stream",
     "text": [
      "训练中:  38%|███▊      | 20/52 [00:13<00:22,  1.44it/s, Loss=0.0473, Acc=0.6000]"
     ]
    },
    {
     "name": "stdout",
     "output_type": "stream",
     "text": [
      "📊 批次 20: GPU内存 0.3GB / 0.5GB\n"
     ]
    },
    {
     "name": "stderr",
     "output_type": "stream",
     "text": [
      "训练中:  77%|███████▋  | 40/52 [00:26<00:08,  1.45it/s, Loss=0.0543, Acc=0.6141]"
     ]
    },
    {
     "name": "stdout",
     "output_type": "stream",
     "text": [
      "📊 批次 40: GPU内存 0.3GB / 0.5GB\n"
     ]
    },
    {
     "name": "stderr",
     "output_type": "stream",
     "text": [
      "                                                                                \r"
     ]
    },
    {
     "name": "stdout",
     "output_type": "stream",
     "text": [
      "🔍 训练结果调试:\n",
      "   - 总损失: 2.799238905310631\n",
      "   - 数据加载器长度: 52\n",
      "   - 平均损失: 0.053831517409819826\n",
      "   - 正确预测数: 501\n",
      "   - 总样本数: 832\n",
      "   - 准确率: 0.6021634615384616\n"
     ]
    },
    {
     "name": "stderr",
     "output_type": "stream",
     "text": [
      "                                                                                        \r"
     ]
    },
    {
     "name": "stdout",
     "output_type": "stream",
     "text": [
      "训练: Loss=0.0538, Acc=60.22%\n",
      "验证: Loss=0.1017, Acc=43.89%, AUC=0.4701, F1=0.6039\n",
      "学习率: 7.56e-05, 用时: 44.3s\n",
      "\n",
      "Epoch 5/50\n"
     ]
    },
    {
     "name": "stderr",
     "output_type": "stream",
     "text": [
      "训练中:   0%|          | 0/52 [00:00<?, ?it/s]"
     ]
    },
    {
     "name": "stdout",
     "output_type": "stream",
     "text": [
      "🔍 训练开始调试信息:\n",
      "   - 数据加载器长度: 52\n",
      "   - 当前学习率: 7.56e-05\n",
      "   - 设备: cuda\n",
      "   - 混合精度: 启用\n",
      "📊 批次 0: GPU内存 0.2GB / 0.5GB\n"
     ]
    },
    {
     "name": "stderr",
     "output_type": "stream",
     "text": [
      "训练中:   2%|▏         | 1/52 [00:00<00:30,  1.69it/s, Loss=0.0559, Acc=0.5000]"
     ]
    },
    {
     "name": "stdout",
     "output_type": "stream",
     "text": [
      "🔍 批次 0 成功:\n",
      "   - 损失值: 0.055940\n",
      "   - 样本数: 16\n",
      "   - 预测概率范围: [0.2654, 0.9219]\n",
      "   - 标签分布: 7.0/16\n"
     ]
    },
    {
     "name": "stderr",
     "output_type": "stream",
     "text": [
      "训练中:   4%|▍         | 2/52 [00:01<00:30,  1.61it/s, Loss=0.0598, Acc=0.4688]"
     ]
    },
    {
     "name": "stdout",
     "output_type": "stream",
     "text": [
      "🔍 批次 1 成功:\n",
      "   - 损失值: 0.063687\n",
      "   - 样本数: 16\n",
      "   - 预测概率范围: [0.5591, 0.9868]\n",
      "   - 标签分布: 7.0/16\n"
     ]
    },
    {
     "name": "stderr",
     "output_type": "stream",
     "text": [
      "训练中:   6%|▌         | 3/52 [00:01<00:31,  1.56it/s, Loss=0.0498, Acc=0.5000]"
     ]
    },
    {
     "name": "stdout",
     "output_type": "stream",
     "text": [
      "🔍 批次 2 成功:\n",
      "   - 损失值: 0.029825\n",
      "   - 样本数: 16\n",
      "   - 预测概率范围: [0.4990, 0.9731]\n",
      "   - 标签分布: 8.0/16\n"
     ]
    },
    {
     "name": "stderr",
     "output_type": "stream",
     "text": [
      "训练中:  38%|███▊      | 20/52 [00:12<00:20,  1.55it/s, Loss=0.0439, Acc=0.5687]"
     ]
    },
    {
     "name": "stdout",
     "output_type": "stream",
     "text": [
      "📊 批次 20: GPU内存 0.3GB / 0.5GB\n"
     ]
    },
    {
     "name": "stderr",
     "output_type": "stream",
     "text": [
      "训练中:  77%|███████▋  | 40/52 [00:25<00:07,  1.58it/s, Loss=0.0411, Acc=0.6109]"
     ]
    },
    {
     "name": "stdout",
     "output_type": "stream",
     "text": [
      "📊 批次 40: GPU内存 0.3GB / 0.5GB\n"
     ]
    },
    {
     "name": "stderr",
     "output_type": "stream",
     "text": [
      "                                                                                \r"
     ]
    },
    {
     "name": "stdout",
     "output_type": "stream",
     "text": [
      "🔍 训练结果调试:\n",
      "   - 总损失: 2.1698053497821093\n",
      "   - 数据加载器长度: 52\n",
      "   - 平均损失: 0.04172702595734826\n",
      "   - 正确预测数: 501\n",
      "   - 总样本数: 832\n",
      "   - 准确率: 0.6021634615384616\n"
     ]
    },
    {
     "name": "stderr",
     "output_type": "stream",
     "text": [
      "                                                                                        \r"
     ]
    },
    {
     "name": "stdout",
     "output_type": "stream",
     "text": [
      "训练: Loss=0.0417, Acc=60.22%\n",
      "验证: Loss=0.1127, Acc=44.44%, AUC=0.4462, F1=0.5868\n",
      "学习率: 2.00e-04, 用时: 43.0s\n",
      "\n",
      "Epoch 6/50\n"
     ]
    },
    {
     "name": "stderr",
     "output_type": "stream",
     "text": [
      "训练中:   0%|          | 0/52 [00:00<?, ?it/s]"
     ]
    },
    {
     "name": "stdout",
     "output_type": "stream",
     "text": [
      "🔍 训练开始调试信息:\n",
      "   - 数据加载器长度: 52\n",
      "   - 当前学习率: 2.00e-04\n",
      "   - 设备: cuda\n",
      "   - 混合精度: 启用\n",
      "📊 批次 0: GPU内存 0.2GB / 0.5GB\n"
     ]
    },
    {
     "name": "stderr",
     "output_type": "stream",
     "text": [
      "训练中:   2%|▏         | 1/52 [00:00<00:30,  1.68it/s, Loss=0.0290, Acc=0.5000]"
     ]
    },
    {
     "name": "stdout",
     "output_type": "stream",
     "text": [
      "🔍 批次 0 成功:\n",
      "   - 损失值: 0.028997\n",
      "   - 样本数: 16\n",
      "   - 预测概率范围: [0.3928, 0.9771]\n",
      "   - 标签分布: 6.0/16\n"
     ]
    },
    {
     "name": "stderr",
     "output_type": "stream",
     "text": [
      "训练中:   4%|▍         | 2/52 [00:01<00:31,  1.61it/s, Loss=0.0253, Acc=0.5625]"
     ]
    },
    {
     "name": "stdout",
     "output_type": "stream",
     "text": [
      "🔍 批次 1 成功:\n",
      "   - 损失值: 0.021687\n",
      "   - 样本数: 16\n",
      "   - 预测概率范围: [0.4324, 0.9629]\n",
      "   - 标签分布: 10.0/16\n"
     ]
    },
    {
     "name": "stderr",
     "output_type": "stream",
     "text": [
      "训练中:   6%|▌         | 3/52 [00:01<00:31,  1.56it/s, Loss=0.0288, Acc=0.5625]"
     ]
    },
    {
     "name": "stdout",
     "output_type": "stream",
     "text": [
      "🔍 批次 2 成功:\n",
      "   - 损失值: 0.035783\n",
      "   - 样本数: 16\n",
      "   - 预测概率范围: [0.2764, 0.9604]\n",
      "   - 标签分布: 8.0/16\n"
     ]
    },
    {
     "name": "stderr",
     "output_type": "stream",
     "text": [
      "训练中:  38%|███▊      | 20/52 [00:12<00:20,  1.56it/s, Loss=0.0412, Acc=0.6219]"
     ]
    },
    {
     "name": "stdout",
     "output_type": "stream",
     "text": [
      "📊 批次 20: GPU内存 0.3GB / 0.5GB\n"
     ]
    },
    {
     "name": "stderr",
     "output_type": "stream",
     "text": [
      "训练中:  77%|███████▋  | 40/52 [00:25<00:07,  1.56it/s, Loss=0.0401, Acc=0.6156]"
     ]
    },
    {
     "name": "stdout",
     "output_type": "stream",
     "text": [
      "📊 批次 40: GPU内存 0.3GB / 0.5GB\n"
     ]
    },
    {
     "name": "stderr",
     "output_type": "stream",
     "text": [
      "                                                                                \r"
     ]
    },
    {
     "name": "stdout",
     "output_type": "stream",
     "text": [
      "🔍 训练结果调试:\n",
      "   - 总损失: 2.079971658065915\n",
      "   - 数据加载器长度: 52\n",
      "   - 平均损失: 0.03999945496280606\n",
      "   - 正确预测数: 511\n",
      "   - 总样本数: 832\n",
      "   - 准确率: 0.6141826923076923\n"
     ]
    },
    {
     "name": "stderr",
     "output_type": "stream",
     "text": [
      "                                                                                        \r"
     ]
    },
    {
     "name": "stdout",
     "output_type": "stream",
     "text": [
      "训练: Loss=0.0400, Acc=61.42%\n",
      "验证: Loss=0.1922, Acc=47.22%, AUC=0.4944, F1=0.5581\n",
      "学习率: 1.34e-04, 用时: 42.8s\n",
      "🎯 新的最佳模型! Acc: 47.22%, AUC: 0.4944\n",
      "💾 最佳模型已保存\n",
      "\n",
      "Epoch 7/50\n"
     ]
    },
    {
     "name": "stderr",
     "output_type": "stream",
     "text": [
      "训练中:   0%|          | 0/52 [00:00<?, ?it/s]"
     ]
    },
    {
     "name": "stdout",
     "output_type": "stream",
     "text": [
      "🔍 训练开始调试信息:\n",
      "   - 数据加载器长度: 52\n",
      "   - 当前学习率: 1.34e-04\n",
      "   - 设备: cuda\n",
      "   - 混合精度: 启用\n",
      "📊 批次 0: GPU内存 0.2GB / 0.5GB\n"
     ]
    },
    {
     "name": "stderr",
     "output_type": "stream",
     "text": [
      "训练中:   2%|▏         | 1/52 [00:00<00:30,  1.67it/s, Loss=0.0150, Acc=0.7500]"
     ]
    },
    {
     "name": "stdout",
     "output_type": "stream",
     "text": [
      "🔍 批次 0 成功:\n",
      "   - 损失值: 0.014979\n",
      "   - 样本数: 16\n",
      "   - 预测概率范围: [0.0873, 0.9834]\n",
      "   - 标签分布: 7.0/16\n"
     ]
    },
    {
     "name": "stderr",
     "output_type": "stream",
     "text": [
      "训练中:   4%|▍         | 2/52 [00:01<00:31,  1.61it/s, Loss=0.0277, Acc=0.6875]"
     ]
    },
    {
     "name": "stdout",
     "output_type": "stream",
     "text": [
      "🔍 批次 1 成功:\n",
      "   - 损失值: 0.040368\n",
      "   - 样本数: 16\n",
      "   - 预测概率范围: [0.2190, 0.9824]\n",
      "   - 标签分布: 8.0/16\n"
     ]
    },
    {
     "name": "stderr",
     "output_type": "stream",
     "text": [
      "训练中:   6%|▌         | 3/52 [00:01<00:31,  1.58it/s, Loss=0.0293, Acc=0.7292]"
     ]
    },
    {
     "name": "stdout",
     "output_type": "stream",
     "text": [
      "🔍 批次 2 成功:\n",
      "   - 损失值: 0.032690\n",
      "   - 样本数: 16\n",
      "   - 预测概率范围: [0.3647, 0.9185]\n",
      "   - 标签分布: 8.0/16\n"
     ]
    },
    {
     "name": "stderr",
     "output_type": "stream",
     "text": [
      "训练中:  38%|███▊      | 20/52 [00:12<00:20,  1.56it/s, Loss=0.0405, Acc=0.6781]"
     ]
    },
    {
     "name": "stdout",
     "output_type": "stream",
     "text": [
      "📊 批次 20: GPU内存 0.3GB / 0.5GB\n"
     ]
    },
    {
     "name": "stderr",
     "output_type": "stream",
     "text": [
      "训练中:  77%|███████▋  | 40/52 [00:25<00:07,  1.54it/s, Loss=0.0382, Acc=0.6281]"
     ]
    },
    {
     "name": "stdout",
     "output_type": "stream",
     "text": [
      "📊 批次 40: GPU内存 0.3GB / 0.5GB\n"
     ]
    },
    {
     "name": "stderr",
     "output_type": "stream",
     "text": [
      "                                                                                \r"
     ]
    },
    {
     "name": "stdout",
     "output_type": "stream",
     "text": [
      "🔍 训练结果调试:\n",
      "   - 总损失: 1.957187312655151\n",
      "   - 数据加载器长度: 52\n",
      "   - 平均损失: 0.037638217551060595\n",
      "   - 正确预测数: 519\n",
      "   - 总样本数: 832\n",
      "   - 准确率: 0.6237980769230769\n"
     ]
    },
    {
     "name": "stderr",
     "output_type": "stream",
     "text": [
      "                                                                                        \r"
     ]
    },
    {
     "name": "stdout",
     "output_type": "stream",
     "text": [
      "训练: Loss=0.0376, Acc=62.38%\n",
      "验证: Loss=0.1150, Acc=42.78%, AUC=0.4532, F1=0.5761\n",
      "学习率: 2.81e-05, 用时: 42.7s\n",
      "\n",
      "Epoch 8/50\n"
     ]
    },
    {
     "name": "stderr",
     "output_type": "stream",
     "text": [
      "训练中:   0%|          | 0/52 [00:00<?, ?it/s]"
     ]
    },
    {
     "name": "stdout",
     "output_type": "stream",
     "text": [
      "🔍 训练开始调试信息:\n",
      "   - 数据加载器长度: 52\n",
      "   - 当前学习率: 2.81e-05\n",
      "   - 设备: cuda\n",
      "   - 混合精度: 启用\n",
      "📊 批次 0: GPU内存 0.2GB / 0.5GB\n"
     ]
    },
    {
     "name": "stderr",
     "output_type": "stream",
     "text": [
      "训练中:   2%|▏         | 1/52 [00:00<00:30,  1.67it/s, Loss=0.0393, Acc=0.7500]"
     ]
    },
    {
     "name": "stdout",
     "output_type": "stream",
     "text": [
      "🔍 批次 0 成功:\n",
      "   - 损失值: 0.039310\n",
      "   - 样本数: 16\n",
      "   - 预测概率范围: [0.3606, 0.9893]\n",
      "   - 标签分布: 10.0/16\n"
     ]
    },
    {
     "name": "stderr",
     "output_type": "stream",
     "text": [
      "训练中:   4%|▍         | 2/52 [00:01<00:30,  1.62it/s, Loss=0.0651, Acc=0.6562]"
     ]
    },
    {
     "name": "stdout",
     "output_type": "stream",
     "text": [
      "🔍 批次 1 成功:\n",
      "   - 损失值: 0.090973\n",
      "   - 样本数: 16\n",
      "   - 预测概率范围: [0.1741, 0.9590]\n",
      "   - 标签分布: 8.0/16\n"
     ]
    },
    {
     "name": "stderr",
     "output_type": "stream",
     "text": [
      "训练中:   6%|▌         | 3/52 [00:01<00:30,  1.60it/s, Loss=0.0572, Acc=0.6250]"
     ]
    },
    {
     "name": "stdout",
     "output_type": "stream",
     "text": [
      "🔍 批次 2 成功:\n",
      "   - 损失值: 0.041186\n",
      "   - 样本数: 16\n",
      "   - 预测概率范围: [0.1677, 0.9858]\n",
      "   - 标签分布: 6.0/16\n"
     ]
    },
    {
     "name": "stderr",
     "output_type": "stream",
     "text": [
      "训练中:  38%|███▊      | 20/52 [00:12<00:20,  1.57it/s, Loss=0.0364, Acc=0.6250]"
     ]
    },
    {
     "name": "stdout",
     "output_type": "stream",
     "text": [
      "📊 批次 20: GPU内存 0.3GB / 0.5GB\n"
     ]
    },
    {
     "name": "stderr",
     "output_type": "stream",
     "text": [
      "训练中:  77%|███████▋  | 40/52 [00:25<00:07,  1.57it/s, Loss=0.0376, Acc=0.6062]"
     ]
    },
    {
     "name": "stdout",
     "output_type": "stream",
     "text": [
      "📊 批次 40: GPU内存 0.3GB / 0.5GB\n"
     ]
    },
    {
     "name": "stderr",
     "output_type": "stream",
     "text": [
      "                                                                                \r"
     ]
    },
    {
     "name": "stdout",
     "output_type": "stream",
     "text": [
      "🔍 训练结果调试:\n",
      "   - 总损失: 1.9080933816730976\n",
      "   - 数据加载器长度: 52\n",
      "   - 平均损失: 0.036694103493713416\n",
      "   - 正确预测数: 503\n",
      "   - 总样本数: 832\n",
      "   - 准确率: 0.6045673076923077\n"
     ]
    },
    {
     "name": "stderr",
     "output_type": "stream",
     "text": [
      "                                                                                        \r"
     ]
    },
    {
     "name": "stdout",
     "output_type": "stream",
     "text": [
      "训练: Loss=0.0367, Acc=60.46%\n",
      "验证: Loss=0.1182, Acc=44.44%, AUC=0.4558, F1=0.5868\n",
      "学习率: 1.82e-04, 用时: 42.5s\n",
      "\n",
      "Epoch 9/50\n"
     ]
    },
    {
     "name": "stderr",
     "output_type": "stream",
     "text": [
      "训练中:   0%|          | 0/52 [00:00<?, ?it/s]"
     ]
    },
    {
     "name": "stdout",
     "output_type": "stream",
     "text": [
      "🔍 训练开始调试信息:\n",
      "   - 数据加载器长度: 52\n",
      "   - 当前学习率: 1.82e-04\n",
      "   - 设备: cuda\n",
      "   - 混合精度: 启用\n",
      "📊 批次 0: GPU内存 0.2GB / 0.5GB\n"
     ]
    },
    {
     "name": "stderr",
     "output_type": "stream",
     "text": [
      "训练中:   2%|▏         | 1/52 [00:00<00:30,  1.68it/s, Loss=0.0273, Acc=0.6875]"
     ]
    },
    {
     "name": "stdout",
     "output_type": "stream",
     "text": [
      "🔍 批次 0 成功:\n",
      "   - 损失值: 0.027327\n",
      "   - 样本数: 16\n",
      "   - 预测概率范围: [0.1666, 0.9590]\n",
      "   - 标签分布: 9.0/16\n"
     ]
    },
    {
     "name": "stderr",
     "output_type": "stream",
     "text": [
      "训练中:   4%|▍         | 2/52 [00:01<00:30,  1.63it/s, Loss=0.0527, Acc=0.6250]"
     ]
    },
    {
     "name": "stdout",
     "output_type": "stream",
     "text": [
      "🔍 批次 1 成功:\n",
      "   - 损失值: 0.078124\n",
      "   - 样本数: 16\n",
      "   - 预测概率范围: [0.1730, 0.9731]\n",
      "   - 标签分布: 8.0/16\n"
     ]
    },
    {
     "name": "stderr",
     "output_type": "stream",
     "text": [
      "训练中:   6%|▌         | 3/52 [00:01<00:31,  1.57it/s, Loss=0.0604, Acc=0.6458]"
     ]
    },
    {
     "name": "stdout",
     "output_type": "stream",
     "text": [
      "🔍 批次 2 成功:\n",
      "   - 损失值: 0.075641\n",
      "   - 样本数: 16\n",
      "   - 预测概率范围: [0.2629, 0.9785]\n",
      "   - 标签分布: 11.0/16\n"
     ]
    },
    {
     "name": "stderr",
     "output_type": "stream",
     "text": [
      "训练中:  38%|███▊      | 20/52 [00:12<00:20,  1.57it/s, Loss=0.0366, Acc=0.6438]"
     ]
    },
    {
     "name": "stdout",
     "output_type": "stream",
     "text": [
      "📊 批次 20: GPU内存 0.3GB / 0.5GB\n"
     ]
    },
    {
     "name": "stderr",
     "output_type": "stream",
     "text": [
      "训练中:  77%|███████▋  | 40/52 [00:25<00:07,  1.56it/s, Loss=0.0347, Acc=0.6750]"
     ]
    },
    {
     "name": "stdout",
     "output_type": "stream",
     "text": [
      "📊 批次 40: GPU内存 0.3GB / 0.5GB\n"
     ]
    },
    {
     "name": "stderr",
     "output_type": "stream",
     "text": [
      "                                                                                \r"
     ]
    },
    {
     "name": "stdout",
     "output_type": "stream",
     "text": [
      "🔍 训练结果调试:\n",
      "   - 总损失: 1.7290551625192165\n",
      "   - 数据加载器长度: 52\n",
      "   - 平均损失: 0.033251060817677244\n",
      "   - 正确预测数: 571\n",
      "   - 总样本数: 832\n",
      "   - 准确率: 0.6862980769230769\n"
     ]
    },
    {
     "name": "stderr",
     "output_type": "stream",
     "text": [
      "                                                                                        \r"
     ]
    },
    {
     "name": "stdout",
     "output_type": "stream",
     "text": [
      "训练: Loss=0.0333, Acc=68.63%\n",
      "验证: Loss=0.1080, Acc=42.78%, AUC=0.4291, F1=0.5796\n",
      "学习率: 7.56e-05, 用时: 42.4s\n",
      "\n",
      "Epoch 10/50\n"
     ]
    },
    {
     "name": "stderr",
     "output_type": "stream",
     "text": [
      "训练中:   0%|          | 0/52 [00:00<?, ?it/s]"
     ]
    },
    {
     "name": "stdout",
     "output_type": "stream",
     "text": [
      "🔍 训练开始调试信息:\n",
      "   - 数据加载器长度: 52\n",
      "   - 当前学习率: 7.56e-05\n",
      "   - 设备: cuda\n",
      "   - 混合精度: 启用\n",
      "📊 批次 0: GPU内存 0.2GB / 0.5GB\n"
     ]
    },
    {
     "name": "stderr",
     "output_type": "stream",
     "text": [
      "训练中:   2%|▏         | 1/52 [00:00<00:30,  1.67it/s, Loss=0.0204, Acc=0.5000]"
     ]
    },
    {
     "name": "stdout",
     "output_type": "stream",
     "text": [
      "🔍 批次 0 成功:\n",
      "   - 损失值: 0.020353\n",
      "   - 样本数: 16\n",
      "   - 预测概率范围: [0.3899, 0.9585]\n",
      "   - 标签分布: 6.0/16\n"
     ]
    },
    {
     "name": "stderr",
     "output_type": "stream",
     "text": [
      "训练中:   4%|▍         | 2/52 [00:01<00:31,  1.61it/s, Loss=0.0257, Acc=0.5625]"
     ]
    },
    {
     "name": "stdout",
     "output_type": "stream",
     "text": [
      "🔍 批次 1 成功:\n",
      "   - 损失值: 0.030981\n",
      "   - 样本数: 16\n",
      "   - 预测概率范围: [0.3186, 0.9463]\n",
      "   - 标签分布: 6.0/16\n"
     ]
    },
    {
     "name": "stderr",
     "output_type": "stream",
     "text": [
      "训练中:   6%|▌         | 3/52 [00:01<00:30,  1.60it/s, Loss=0.0297, Acc=0.5625]"
     ]
    },
    {
     "name": "stdout",
     "output_type": "stream",
     "text": [
      "🔍 批次 2 成功:\n",
      "   - 损失值: 0.037715\n",
      "   - 样本数: 16\n",
      "   - 预测概率范围: [0.3574, 0.9858]\n",
      "   - 标签分布: 8.0/16\n"
     ]
    },
    {
     "name": "stderr",
     "output_type": "stream",
     "text": [
      "训练中:  38%|███▊      | 20/52 [00:12<00:20,  1.56it/s, Loss=0.0323, Acc=0.6250]"
     ]
    },
    {
     "name": "stdout",
     "output_type": "stream",
     "text": [
      "📊 批次 20: GPU内存 0.3GB / 0.5GB\n"
     ]
    },
    {
     "name": "stderr",
     "output_type": "stream",
     "text": [
      "训练中:  77%|███████▋  | 40/52 [00:25<00:07,  1.56it/s, Loss=0.0300, Acc=0.6578]"
     ]
    },
    {
     "name": "stdout",
     "output_type": "stream",
     "text": [
      "📊 批次 40: GPU内存 0.3GB / 0.5GB\n"
     ]
    },
    {
     "name": "stderr",
     "output_type": "stream",
     "text": [
      "                                                                                \r"
     ]
    },
    {
     "name": "stdout",
     "output_type": "stream",
     "text": [
      "🔍 训练结果调试:\n",
      "   - 总损失: 1.5798553600907326\n",
      "   - 数据加载器长度: 52\n",
      "   - 平均损失: 0.030381833847898703\n",
      "   - 正确预测数: 546\n",
      "   - 总样本数: 832\n",
      "   - 准确率: 0.65625\n"
     ]
    },
    {
     "name": "stderr",
     "output_type": "stream",
     "text": [
      "                                                                                        \r"
     ]
    },
    {
     "name": "stdout",
     "output_type": "stream",
     "text": [
      "训练: Loss=0.0304, Acc=65.62%\n",
      "验证: Loss=0.1351, Acc=43.33%, AUC=0.4338, F1=0.5678\n",
      "学习率: 2.00e-04, 用时: 42.4s\n",
      "\n",
      "Epoch 11/50\n"
     ]
    },
    {
     "name": "stderr",
     "output_type": "stream",
     "text": [
      "训练中:   0%|          | 0/52 [00:00<?, ?it/s]"
     ]
    },
    {
     "name": "stdout",
     "output_type": "stream",
     "text": [
      "🔍 训练开始调试信息:\n",
      "   - 数据加载器长度: 52\n",
      "   - 当前学习率: 2.00e-04\n",
      "   - 设备: cuda\n",
      "   - 混合精度: 启用\n",
      "📊 批次 0: GPU内存 0.2GB / 0.5GB\n"
     ]
    },
    {
     "name": "stderr",
     "output_type": "stream",
     "text": [
      "训练中:   2%|▏         | 1/52 [00:00<00:30,  1.68it/s, Loss=0.0230, Acc=0.8750]"
     ]
    },
    {
     "name": "stdout",
     "output_type": "stream",
     "text": [
      "🔍 批次 0 成功:\n",
      "   - 损失值: 0.022972\n",
      "   - 样本数: 16\n",
      "   - 预测概率范围: [0.3555, 0.9893]\n",
      "   - 标签分布: 9.0/16\n"
     ]
    },
    {
     "name": "stderr",
     "output_type": "stream",
     "text": [
      "训练中:   4%|▍         | 2/52 [00:01<00:30,  1.63it/s, Loss=0.0290, Acc=0.7500]"
     ]
    },
    {
     "name": "stdout",
     "output_type": "stream",
     "text": [
      "🔍 批次 1 成功:\n",
      "   - 损失值: 0.034987\n",
      "   - 样本数: 16\n",
      "   - 预测概率范围: [0.1893, 0.9648]\n",
      "   - 标签分布: 5.0/16\n"
     ]
    },
    {
     "name": "stderr",
     "output_type": "stream",
     "text": [
      "训练中:   6%|▌         | 3/52 [00:01<00:30,  1.60it/s, Loss=0.0308, Acc=0.6875]"
     ]
    },
    {
     "name": "stdout",
     "output_type": "stream",
     "text": [
      "🔍 批次 2 成功:\n",
      "   - 损失值: 0.034319\n",
      "   - 样本数: 16\n",
      "   - 预测概率范围: [0.3413, 0.9731]\n",
      "   - 标签分布: 7.0/16\n"
     ]
    },
    {
     "name": "stderr",
     "output_type": "stream",
     "text": [
      "训练中:  38%|███▊      | 20/52 [00:12<00:20,  1.55it/s, Loss=0.0264, Acc=0.6969]"
     ]
    },
    {
     "name": "stdout",
     "output_type": "stream",
     "text": [
      "📊 批次 20: GPU内存 0.3GB / 0.5GB\n"
     ]
    },
    {
     "name": "stderr",
     "output_type": "stream",
     "text": [
      "训练中:  77%|███████▋  | 40/52 [00:25<00:07,  1.58it/s, Loss=0.0270, Acc=0.7188]"
     ]
    },
    {
     "name": "stdout",
     "output_type": "stream",
     "text": [
      "📊 批次 40: GPU内存 0.3GB / 0.5GB\n"
     ]
    },
    {
     "name": "stderr",
     "output_type": "stream",
     "text": [
      "                                                                                \r"
     ]
    },
    {
     "name": "stdout",
     "output_type": "stream",
     "text": [
      "🔍 训练结果调试:\n",
      "   - 总损失: 1.609143021516502\n",
      "   - 数据加载器长度: 52\n",
      "   - 平均损失: 0.030945058106086575\n",
      "   - 正确预测数: 593\n",
      "   - 总样本数: 832\n",
      "   - 准确率: 0.7127403846153846\n"
     ]
    },
    {
     "name": "stderr",
     "output_type": "stream",
     "text": [
      "                                                                                        \r"
     ]
    },
    {
     "name": "stdout",
     "output_type": "stream",
     "text": [
      "训练: Loss=0.0309, Acc=71.27%\n",
      "验证: Loss=0.1472, Acc=41.11%, AUC=0.4205, F1=0.5351\n",
      "学习率: 1.34e-04, 用时: 42.4s\n",
      "\n",
      "Epoch 12/50\n"
     ]
    },
    {
     "name": "stderr",
     "output_type": "stream",
     "text": [
      "训练中:   0%|          | 0/52 [00:00<?, ?it/s]"
     ]
    },
    {
     "name": "stdout",
     "output_type": "stream",
     "text": [
      "🔍 训练开始调试信息:\n",
      "   - 数据加载器长度: 52\n",
      "   - 当前学习率: 1.34e-04\n",
      "   - 设备: cuda\n",
      "   - 混合精度: 启用\n",
      "📊 批次 0: GPU内存 0.2GB / 0.5GB\n"
     ]
    },
    {
     "name": "stderr",
     "output_type": "stream",
     "text": [
      "训练中:   2%|▏         | 1/52 [00:00<00:32,  1.57it/s, Loss=0.0338, Acc=0.5000]"
     ]
    },
    {
     "name": "stdout",
     "output_type": "stream",
     "text": [
      "🔍 批次 0 成功:\n",
      "   - 损失值: 0.033847\n",
      "   - 样本数: 16\n",
      "   - 预测概率范围: [0.3284, 0.9126]\n",
      "   - 标签分布: 6.0/16\n"
     ]
    },
    {
     "name": "stderr",
     "output_type": "stream",
     "text": [
      "训练中:   4%|▍         | 2/52 [00:01<00:31,  1.59it/s, Loss=0.0280, Acc=0.6250]"
     ]
    },
    {
     "name": "stdout",
     "output_type": "stream",
     "text": [
      "🔍 批次 1 成功:\n",
      "   - 损失值: 0.022123\n",
      "   - 样本数: 16\n",
      "   - 预测概率范围: [0.0333, 0.9355]\n",
      "   - 标签分布: 8.0/16\n"
     ]
    },
    {
     "name": "stderr",
     "output_type": "stream",
     "text": [
      "训练中:   6%|▌         | 3/52 [00:01<00:30,  1.59it/s, Loss=0.0239, Acc=0.7083]"
     ]
    },
    {
     "name": "stdout",
     "output_type": "stream",
     "text": [
      "🔍 批次 2 成功:\n",
      "   - 损失值: 0.015614\n",
      "   - 样本数: 16\n",
      "   - 预测概率范围: [0.1591, 0.9492]\n",
      "   - 标签分布: 9.0/16\n"
     ]
    },
    {
     "name": "stderr",
     "output_type": "stream",
     "text": [
      "训练中:  38%|███▊      | 20/52 [00:12<00:20,  1.57it/s, Loss=0.0311, Acc=0.6844]"
     ]
    },
    {
     "name": "stdout",
     "output_type": "stream",
     "text": [
      "📊 批次 20: GPU内存 0.3GB / 0.5GB\n"
     ]
    },
    {
     "name": "stderr",
     "output_type": "stream",
     "text": [
      "训练中:  77%|███████▋  | 40/52 [00:25<00:07,  1.57it/s, Loss=0.0308, Acc=0.6734]"
     ]
    },
    {
     "name": "stdout",
     "output_type": "stream",
     "text": [
      "📊 批次 40: GPU内存 0.3GB / 0.5GB\n"
     ]
    },
    {
     "name": "stderr",
     "output_type": "stream",
     "text": [
      "                                                                                \r"
     ]
    },
    {
     "name": "stdout",
     "output_type": "stream",
     "text": [
      "🔍 训练结果调试:\n",
      "   - 总损失: 1.534048662520945\n",
      "   - 数据加载器长度: 52\n",
      "   - 平均损失: 0.02950093581771048\n",
      "   - 正确预测数: 582\n",
      "   - 总样本数: 832\n",
      "   - 准确率: 0.6995192307692307\n"
     ]
    },
    {
     "name": "stderr",
     "output_type": "stream",
     "text": [
      "                                                                                        \r"
     ]
    },
    {
     "name": "stdout",
     "output_type": "stream",
     "text": [
      "训练: Loss=0.0295, Acc=69.95%\n",
      "验证: Loss=0.2093, Acc=41.67%, AUC=0.4363, F1=0.5374\n",
      "学习率: 2.81e-05, 用时: 42.5s\n",
      "\n",
      "Epoch 13/50\n"
     ]
    },
    {
     "name": "stderr",
     "output_type": "stream",
     "text": [
      "训练中:   0%|          | 0/52 [00:00<?, ?it/s]"
     ]
    },
    {
     "name": "stdout",
     "output_type": "stream",
     "text": [
      "🔍 训练开始调试信息:\n",
      "   - 数据加载器长度: 52\n",
      "   - 当前学习率: 2.81e-05\n",
      "   - 设备: cuda\n",
      "   - 混合精度: 启用\n",
      "📊 批次 0: GPU内存 0.2GB / 0.5GB\n"
     ]
    },
    {
     "name": "stderr",
     "output_type": "stream",
     "text": [
      "训练中:   2%|▏         | 1/52 [00:00<00:30,  1.69it/s, Loss=0.0215, Acc=0.6875]"
     ]
    },
    {
     "name": "stdout",
     "output_type": "stream",
     "text": [
      "🔍 批次 0 成功:\n",
      "   - 损失值: 0.021491\n",
      "   - 样本数: 16\n",
      "   - 预测概率范围: [0.1744, 0.9937]\n",
      "   - 标签分布: 7.0/16\n"
     ]
    },
    {
     "name": "stderr",
     "output_type": "stream",
     "text": [
      "训练中:   4%|▍         | 2/52 [00:01<00:30,  1.63it/s, Loss=0.0343, Acc=0.6562]"
     ]
    },
    {
     "name": "stdout",
     "output_type": "stream",
     "text": [
      "🔍 批次 1 成功:\n",
      "   - 损失值: 0.047009\n",
      "   - 样本数: 16\n",
      "   - 预测概率范围: [0.2496, 0.9629]\n",
      "   - 标签分布: 6.0/16\n"
     ]
    },
    {
     "name": "stderr",
     "output_type": "stream",
     "text": [
      "训练中:   6%|▌         | 3/52 [00:01<00:30,  1.61it/s, Loss=0.0324, Acc=0.6042]"
     ]
    },
    {
     "name": "stdout",
     "output_type": "stream",
     "text": [
      "🔍 批次 2 成功:\n",
      "   - 损失值: 0.028607\n",
      "   - 样本数: 16\n",
      "   - 预测概率范围: [0.1708, 0.9937]\n",
      "   - 标签分布: 6.0/16\n"
     ]
    },
    {
     "name": "stderr",
     "output_type": "stream",
     "text": [
      "训练中:  38%|███▊      | 20/52 [00:12<00:20,  1.55it/s, Loss=0.0253, Acc=0.7063]"
     ]
    },
    {
     "name": "stdout",
     "output_type": "stream",
     "text": [
      "📊 批次 20: GPU内存 0.3GB / 0.5GB\n"
     ]
    },
    {
     "name": "stderr",
     "output_type": "stream",
     "text": [
      "训练中:  77%|███████▋  | 40/52 [00:25<00:07,  1.56it/s, Loss=0.0266, Acc=0.7109]"
     ]
    },
    {
     "name": "stdout",
     "output_type": "stream",
     "text": [
      "📊 批次 40: GPU内存 0.3GB / 0.5GB\n"
     ]
    },
    {
     "name": "stderr",
     "output_type": "stream",
     "text": [
      "                                                                                \r"
     ]
    },
    {
     "name": "stdout",
     "output_type": "stream",
     "text": [
      "🔍 训练结果调试:\n",
      "   - 总损失: 1.4092825502157211\n",
      "   - 数据加载器长度: 52\n",
      "   - 平均损失: 0.027101587504148483\n",
      "   - 正确预测数: 599\n",
      "   - 总样本数: 832\n",
      "   - 准确率: 0.7199519230769231\n"
     ]
    },
    {
     "name": "stderr",
     "output_type": "stream",
     "text": [
      "                                                                                        \r"
     ]
    },
    {
     "name": "stdout",
     "output_type": "stream",
     "text": [
      "训练: Loss=0.0271, Acc=72.00%\n",
      "验证: Loss=0.1925, Acc=42.22%, AUC=0.4227, F1=0.5398\n",
      "学习率: 1.82e-04, 用时: 42.5s\n",
      "\n",
      "Epoch 14/50\n"
     ]
    },
    {
     "name": "stderr",
     "output_type": "stream",
     "text": [
      "训练中:   0%|          | 0/52 [00:00<?, ?it/s]"
     ]
    },
    {
     "name": "stdout",
     "output_type": "stream",
     "text": [
      "🔍 训练开始调试信息:\n",
      "   - 数据加载器长度: 52\n",
      "   - 当前学习率: 1.82e-04\n",
      "   - 设备: cuda\n",
      "   - 混合精度: 启用\n",
      "📊 批次 0: GPU内存 0.2GB / 0.5GB\n"
     ]
    },
    {
     "name": "stderr",
     "output_type": "stream",
     "text": [
      "训练中:   2%|▏         | 1/52 [00:00<00:30,  1.67it/s, Loss=0.0170, Acc=0.8125]"
     ]
    },
    {
     "name": "stdout",
     "output_type": "stream",
     "text": [
      "🔍 批次 0 成功:\n",
      "   - 损失值: 0.017018\n",
      "   - 样本数: 16\n",
      "   - 预测概率范围: [0.1381, 0.9155]\n",
      "   - 标签分布: 7.0/16\n"
     ]
    },
    {
     "name": "stderr",
     "output_type": "stream",
     "text": [
      "训练中:   4%|▍         | 2/52 [00:01<00:31,  1.61it/s, Loss=0.0187, Acc=0.8438]"
     ]
    },
    {
     "name": "stdout",
     "output_type": "stream",
     "text": [
      "🔍 批次 1 成功:\n",
      "   - 损失值: 0.020471\n",
      "   - 样本数: 16\n",
      "   - 预测概率范围: [0.1301, 0.9683]\n",
      "   - 标签分布: 10.0/16\n"
     ]
    },
    {
     "name": "stderr",
     "output_type": "stream",
     "text": [
      "训练中:   6%|▌         | 3/52 [00:01<00:30,  1.60it/s, Loss=0.0247, Acc=0.7708]"
     ]
    },
    {
     "name": "stdout",
     "output_type": "stream",
     "text": [
      "🔍 批次 2 成功:\n",
      "   - 损失值: 0.036700\n",
      "   - 样本数: 16\n",
      "   - 预测概率范围: [0.2042, 0.8804]\n",
      "   - 标签分布: 6.0/16\n"
     ]
    },
    {
     "name": "stderr",
     "output_type": "stream",
     "text": [
      "训练中:  38%|███▊      | 20/52 [00:12<00:20,  1.57it/s, Loss=0.0284, Acc=0.6969]"
     ]
    },
    {
     "name": "stdout",
     "output_type": "stream",
     "text": [
      "📊 批次 20: GPU内存 0.3GB / 0.5GB\n"
     ]
    },
    {
     "name": "stderr",
     "output_type": "stream",
     "text": [
      "训练中:  77%|███████▋  | 40/52 [00:25<00:07,  1.56it/s, Loss=0.0276, Acc=0.7078]"
     ]
    },
    {
     "name": "stdout",
     "output_type": "stream",
     "text": [
      "📊 批次 40: GPU内存 0.3GB / 0.5GB\n"
     ]
    },
    {
     "name": "stderr",
     "output_type": "stream",
     "text": [
      "                                                                                \r"
     ]
    },
    {
     "name": "stdout",
     "output_type": "stream",
     "text": [
      "🔍 训练结果调试:\n",
      "   - 总损失: 1.4220729740336537\n",
      "   - 数据加载器长度: 52\n",
      "   - 平均损失: 0.02734755719295488\n",
      "   - 正确预测数: 587\n",
      "   - 总样本数: 832\n",
      "   - 准确率: 0.7055288461538461\n"
     ]
    },
    {
     "name": "stderr",
     "output_type": "stream",
     "text": [
      "                                                                                        \r"
     ]
    },
    {
     "name": "stdout",
     "output_type": "stream",
     "text": [
      "训练: Loss=0.0273, Acc=70.55%\n",
      "验证: Loss=0.2394, Acc=37.78%, AUC=0.4037, F1=0.5044\n",
      "学习率: 7.56e-05, 用时: 42.6s\n",
      "\n",
      "Epoch 15/50\n"
     ]
    },
    {
     "name": "stderr",
     "output_type": "stream",
     "text": [
      "训练中:   0%|          | 0/52 [00:00<?, ?it/s]"
     ]
    },
    {
     "name": "stdout",
     "output_type": "stream",
     "text": [
      "🔍 训练开始调试信息:\n",
      "   - 数据加载器长度: 52\n",
      "   - 当前学习率: 7.56e-05\n",
      "   - 设备: cuda\n",
      "   - 混合精度: 启用\n",
      "📊 批次 0: GPU内存 0.2GB / 0.5GB\n"
     ]
    },
    {
     "name": "stderr",
     "output_type": "stream",
     "text": [
      "训练中:   2%|▏         | 1/52 [00:00<00:30,  1.67it/s, Loss=0.0209, Acc=0.8125]"
     ]
    },
    {
     "name": "stdout",
     "output_type": "stream",
     "text": [
      "🔍 批次 0 成功:\n",
      "   - 损失值: 0.020918\n",
      "   - 样本数: 16\n",
      "   - 预测概率范围: [0.0599, 0.9883]\n",
      "   - 标签分布: 9.0/16\n"
     ]
    },
    {
     "name": "stderr",
     "output_type": "stream",
     "text": [
      "训练中:   4%|▍         | 2/52 [00:01<00:31,  1.60it/s, Loss=0.0307, Acc=0.7188]"
     ]
    },
    {
     "name": "stdout",
     "output_type": "stream",
     "text": [
      "🔍 批次 1 成功:\n",
      "   - 损失值: 0.040383\n",
      "   - 样本数: 16\n",
      "   - 预测概率范围: [0.1411, 0.9897]\n",
      "   - 标签分布: 10.0/16\n"
     ]
    },
    {
     "name": "stderr",
     "output_type": "stream",
     "text": [
      "训练中:   6%|▌         | 3/52 [00:01<00:30,  1.58it/s, Loss=0.0272, Acc=0.7083]"
     ]
    },
    {
     "name": "stdout",
     "output_type": "stream",
     "text": [
      "🔍 批次 2 成功:\n",
      "   - 损失值: 0.020286\n",
      "   - 样本数: 16\n",
      "   - 预测概率范围: [0.0895, 0.9590]\n",
      "   - 标签分布: 8.0/16\n"
     ]
    },
    {
     "name": "stderr",
     "output_type": "stream",
     "text": [
      "训练中:  38%|███▊      | 20/52 [00:12<00:20,  1.56it/s, Loss=0.0239, Acc=0.7375]"
     ]
    },
    {
     "name": "stdout",
     "output_type": "stream",
     "text": [
      "📊 批次 20: GPU内存 0.3GB / 0.5GB\n"
     ]
    },
    {
     "name": "stderr",
     "output_type": "stream",
     "text": [
      "训练中:  77%|███████▋  | 40/52 [00:25<00:07,  1.56it/s, Loss=0.0242, Acc=0.7547]"
     ]
    },
    {
     "name": "stdout",
     "output_type": "stream",
     "text": [
      "📊 批次 40: GPU内存 0.3GB / 0.5GB\n"
     ]
    },
    {
     "name": "stderr",
     "output_type": "stream",
     "text": [
      "                                                                                \r"
     ]
    },
    {
     "name": "stdout",
     "output_type": "stream",
     "text": [
      "🔍 训练结果调试:\n",
      "   - 总损失: 1.2650291472673416\n",
      "   - 数据加载器长度: 52\n",
      "   - 平均损失: 0.02432748360129503\n",
      "   - 正确预测数: 621\n",
      "   - 总样本数: 832\n",
      "   - 准确率: 0.7463942307692307\n"
     ]
    },
    {
     "name": "stderr",
     "output_type": "stream",
     "text": [
      "                                                                                        \r"
     ]
    },
    {
     "name": "stdout",
     "output_type": "stream",
     "text": [
      "训练: Loss=0.0243, Acc=74.64%\n",
      "验证: Loss=0.2654, Acc=35.56%, AUC=0.3978, F1=0.4727\n",
      "学习率: 2.00e-04, 用时: 42.5s\n",
      "\n",
      "Epoch 16/50\n"
     ]
    },
    {
     "name": "stderr",
     "output_type": "stream",
     "text": [
      "训练中:   0%|          | 0/52 [00:00<?, ?it/s]"
     ]
    },
    {
     "name": "stdout",
     "output_type": "stream",
     "text": [
      "🔍 训练开始调试信息:\n",
      "   - 数据加载器长度: 52\n",
      "   - 当前学习率: 2.00e-04\n",
      "   - 设备: cuda\n",
      "   - 混合精度: 启用\n",
      "📊 批次 0: GPU内存 0.2GB / 0.5GB\n"
     ]
    },
    {
     "name": "stderr",
     "output_type": "stream",
     "text": [
      "训练中:   2%|▏         | 1/52 [00:00<00:30,  1.66it/s, Loss=0.0428, Acc=0.7500]"
     ]
    },
    {
     "name": "stdout",
     "output_type": "stream",
     "text": [
      "🔍 批次 0 成功:\n",
      "   - 损失值: 0.042838\n",
      "   - 样本数: 16\n",
      "   - 预测概率范围: [0.1447, 0.9961]\n",
      "   - 标签分布: 10.0/16\n"
     ]
    },
    {
     "name": "stderr",
     "output_type": "stream",
     "text": [
      "训练中:   4%|▍         | 2/52 [00:01<00:31,  1.59it/s, Loss=0.0286, Acc=0.7812]"
     ]
    },
    {
     "name": "stdout",
     "output_type": "stream",
     "text": [
      "🔍 批次 1 成功:\n",
      "   - 损失值: 0.014428\n",
      "   - 样本数: 16\n",
      "   - 预测概率范围: [0.0358, 0.9707]\n",
      "   - 标签分布: 9.0/16\n"
     ]
    },
    {
     "name": "stderr",
     "output_type": "stream",
     "text": [
      "训练中:   6%|▌         | 3/52 [00:01<00:31,  1.57it/s, Loss=0.0246, Acc=0.8333]"
     ]
    },
    {
     "name": "stdout",
     "output_type": "stream",
     "text": [
      "🔍 批次 2 成功:\n",
      "   - 损失值: 0.016630\n",
      "   - 样本数: 16\n",
      "   - 预测概率范围: [0.1533, 0.9844]\n",
      "   - 标签分布: 9.0/16\n"
     ]
    },
    {
     "name": "stderr",
     "output_type": "stream",
     "text": [
      "训练中:  38%|███▊      | 20/52 [00:12<00:20,  1.56it/s, Loss=0.0202, Acc=0.7688]"
     ]
    },
    {
     "name": "stdout",
     "output_type": "stream",
     "text": [
      "📊 批次 20: GPU内存 0.3GB / 0.5GB\n"
     ]
    },
    {
     "name": "stderr",
     "output_type": "stream",
     "text": [
      "训练中:  77%|███████▋  | 40/52 [00:25<00:07,  1.57it/s, Loss=0.0241, Acc=0.7766]"
     ]
    },
    {
     "name": "stdout",
     "output_type": "stream",
     "text": [
      "📊 批次 40: GPU内存 0.3GB / 0.5GB\n"
     ]
    },
    {
     "name": "stderr",
     "output_type": "stream",
     "text": [
      "                                                                                \r"
     ]
    },
    {
     "name": "stdout",
     "output_type": "stream",
     "text": [
      "🔍 训练结果调试:\n",
      "   - 总损失: 1.275472209788859\n",
      "   - 数据加载器长度: 52\n",
      "   - 平均损失: 0.024528311726708826\n",
      "   - 正确预测数: 652\n",
      "   - 总样本数: 832\n",
      "   - 准确率: 0.7836538461538461\n"
     ]
    },
    {
     "name": "stderr",
     "output_type": "stream",
     "text": [
      "                                                                                        \r"
     ]
    },
    {
     "name": "stdout",
     "output_type": "stream",
     "text": [
      "训练: Loss=0.0245, Acc=78.37%\n",
      "验证: Loss=0.2014, Acc=40.56%, AUC=0.4115, F1=0.5485\n",
      "学习率: 1.34e-04, 用时: 42.4s\n",
      "\n",
      "Epoch 17/50\n"
     ]
    },
    {
     "name": "stderr",
     "output_type": "stream",
     "text": [
      "训练中:   0%|          | 0/52 [00:00<?, ?it/s]"
     ]
    },
    {
     "name": "stdout",
     "output_type": "stream",
     "text": [
      "🔍 训练开始调试信息:\n",
      "   - 数据加载器长度: 52\n",
      "   - 当前学习率: 1.34e-04\n",
      "   - 设备: cuda\n",
      "   - 混合精度: 启用\n",
      "📊 批次 0: GPU内存 0.2GB / 0.5GB\n"
     ]
    },
    {
     "name": "stderr",
     "output_type": "stream",
     "text": [
      "训练中:   2%|▏         | 1/52 [00:00<00:30,  1.68it/s, Loss=0.0332, Acc=0.7500]"
     ]
    },
    {
     "name": "stdout",
     "output_type": "stream",
     "text": [
      "🔍 批次 0 成功:\n",
      "   - 损失值: 0.033166\n",
      "   - 样本数: 16\n",
      "   - 预测概率范围: [0.1464, 0.9785]\n",
      "   - 标签分布: 10.0/16\n"
     ]
    },
    {
     "name": "stderr",
     "output_type": "stream",
     "text": [
      "训练中:   4%|▍         | 2/52 [00:01<00:31,  1.60it/s, Loss=0.0333, Acc=0.5938]"
     ]
    },
    {
     "name": "stdout",
     "output_type": "stream",
     "text": [
      "🔍 批次 1 成功:\n",
      "   - 损失值: 0.033445\n",
      "   - 样本数: 16\n",
      "   - 预测概率范围: [0.1421, 0.9761]\n",
      "   - 标签分布: 5.0/16\n"
     ]
    },
    {
     "name": "stderr",
     "output_type": "stream",
     "text": [
      "训练中:   6%|▌         | 3/52 [00:01<00:30,  1.60it/s, Loss=0.0286, Acc=0.6458]"
     ]
    },
    {
     "name": "stdout",
     "output_type": "stream",
     "text": [
      "🔍 批次 2 成功:\n",
      "   - 损失值: 0.019155\n",
      "   - 样本数: 16\n",
      "   - 预测概率范围: [0.1299, 0.9619]\n",
      "   - 标签分布: 8.0/16\n"
     ]
    },
    {
     "name": "stderr",
     "output_type": "stream",
     "text": [
      "训练中:  38%|███▊      | 20/52 [00:12<00:20,  1.56it/s, Loss=0.0232, Acc=0.7406]"
     ]
    },
    {
     "name": "stdout",
     "output_type": "stream",
     "text": [
      "📊 批次 20: GPU内存 0.3GB / 0.5GB\n"
     ]
    },
    {
     "name": "stderr",
     "output_type": "stream",
     "text": [
      "训练中:  77%|███████▋  | 40/52 [00:25<00:07,  1.54it/s, Loss=0.0244, Acc=0.7422]"
     ]
    },
    {
     "name": "stdout",
     "output_type": "stream",
     "text": [
      "📊 批次 40: GPU内存 0.3GB / 0.5GB\n"
     ]
    },
    {
     "name": "stderr",
     "output_type": "stream",
     "text": [
      "                                                                                \r"
     ]
    },
    {
     "name": "stdout",
     "output_type": "stream",
     "text": [
      "🔍 训练结果调试:\n",
      "   - 总损失: 1.2687953766435385\n",
      "   - 数据加载器长度: 52\n",
      "   - 平均损失: 0.024399911089298818\n",
      "   - 正确预测数: 618\n",
      "   - 总样本数: 832\n",
      "   - 准确率: 0.7427884615384616\n"
     ]
    },
    {
     "name": "stderr",
     "output_type": "stream",
     "text": [
      "                                                                                        \r"
     ]
    },
    {
     "name": "stdout",
     "output_type": "stream",
     "text": [
      "训练: Loss=0.0244, Acc=74.28%\n",
      "验证: Loss=0.2765, Acc=42.22%, AUC=0.4322, F1=0.5357\n",
      "学习率: 2.81e-05, 用时: 42.5s\n",
      "\n",
      "Epoch 18/50\n"
     ]
    },
    {
     "name": "stderr",
     "output_type": "stream",
     "text": [
      "训练中:   0%|          | 0/52 [00:00<?, ?it/s]"
     ]
    },
    {
     "name": "stdout",
     "output_type": "stream",
     "text": [
      "🔍 训练开始调试信息:\n",
      "   - 数据加载器长度: 52\n",
      "   - 当前学习率: 2.81e-05\n",
      "   - 设备: cuda\n",
      "   - 混合精度: 启用\n",
      "📊 批次 0: GPU内存 0.2GB / 0.5GB\n"
     ]
    },
    {
     "name": "stderr",
     "output_type": "stream",
     "text": [
      "训练中:   2%|▏         | 1/52 [00:00<00:30,  1.69it/s, Loss=0.0130, Acc=0.8750]"
     ]
    },
    {
     "name": "stdout",
     "output_type": "stream",
     "text": [
      "🔍 批次 0 成功:\n",
      "   - 损失值: 0.012969\n",
      "   - 样本数: 16\n",
      "   - 预测概率范围: [0.2260, 0.9624]\n",
      "   - 标签分布: 9.0/16\n"
     ]
    },
    {
     "name": "stderr",
     "output_type": "stream",
     "text": [
      "训练中:   4%|▍         | 2/52 [00:01<00:30,  1.62it/s, Loss=0.0308, Acc=0.7812]"
     ]
    },
    {
     "name": "stdout",
     "output_type": "stream",
     "text": [
      "🔍 批次 1 成功:\n",
      "   - 损失值: 0.048701\n",
      "   - 样本数: 16\n",
      "   - 预测概率范围: [0.3628, 0.9927]\n",
      "   - 标签分布: 11.0/16\n"
     ]
    },
    {
     "name": "stderr",
     "output_type": "stream",
     "text": [
      "训练中:   6%|▌         | 3/52 [00:01<00:30,  1.61it/s, Loss=0.0252, Acc=0.7708]"
     ]
    },
    {
     "name": "stdout",
     "output_type": "stream",
     "text": [
      "🔍 批次 2 成功:\n",
      "   - 损失值: 0.013836\n",
      "   - 样本数: 16\n",
      "   - 预测概率范围: [0.1737, 0.9937]\n",
      "   - 标签分布: 9.0/16\n"
     ]
    },
    {
     "name": "stderr",
     "output_type": "stream",
     "text": [
      "训练中:  38%|███▊      | 20/52 [00:12<00:20,  1.58it/s, Loss=0.0228, Acc=0.7719]"
     ]
    },
    {
     "name": "stdout",
     "output_type": "stream",
     "text": [
      "📊 批次 20: GPU内存 0.3GB / 0.5GB\n"
     ]
    },
    {
     "name": "stderr",
     "output_type": "stream",
     "text": [
      "训练中:  77%|███████▋  | 40/52 [00:25<00:07,  1.54it/s, Loss=0.0247, Acc=0.7203]"
     ]
    },
    {
     "name": "stdout",
     "output_type": "stream",
     "text": [
      "📊 批次 40: GPU内存 0.3GB / 0.5GB\n"
     ]
    },
    {
     "name": "stderr",
     "output_type": "stream",
     "text": [
      "                                                                                \r"
     ]
    },
    {
     "name": "stdout",
     "output_type": "stream",
     "text": [
      "🔍 训练结果调试:\n",
      "   - 总损失: 1.2667443891987205\n",
      "   - 数据加载器长度: 52\n",
      "   - 平均损失: 0.024360469023052316\n",
      "   - 正确预测数: 610\n",
      "   - 总样本数: 832\n",
      "   - 准确率: 0.7331730769230769\n"
     ]
    },
    {
     "name": "stderr",
     "output_type": "stream",
     "text": [
      "                                                                                        \r"
     ]
    },
    {
     "name": "stdout",
     "output_type": "stream",
     "text": [
      "训练: Loss=0.0244, Acc=73.32%\n",
      "验证: Loss=0.2662, Acc=39.44%, AUC=0.4230, F1=0.5023\n",
      "学习率: 1.82e-04, 用时: 42.2s\n",
      "\n",
      "Epoch 19/50\n"
     ]
    },
    {
     "name": "stderr",
     "output_type": "stream",
     "text": [
      "训练中:   0%|          | 0/52 [00:00<?, ?it/s]"
     ]
    },
    {
     "name": "stdout",
     "output_type": "stream",
     "text": [
      "🔍 训练开始调试信息:\n",
      "   - 数据加载器长度: 52\n",
      "   - 当前学习率: 1.82e-04\n",
      "   - 设备: cuda\n",
      "   - 混合精度: 启用\n",
      "📊 批次 0: GPU内存 0.2GB / 0.5GB\n"
     ]
    },
    {
     "name": "stderr",
     "output_type": "stream",
     "text": [
      "训练中:   2%|▏         | 1/52 [00:00<00:30,  1.65it/s, Loss=0.0380, Acc=0.5625]"
     ]
    },
    {
     "name": "stdout",
     "output_type": "stream",
     "text": [
      "🔍 批次 0 成功:\n",
      "   - 损失值: 0.038002\n",
      "   - 样本数: 16\n",
      "   - 预测概率范围: [0.0903, 0.9468]\n",
      "   - 标签分布: 6.0/16\n"
     ]
    },
    {
     "name": "stderr",
     "output_type": "stream",
     "text": [
      "训练中:   4%|▍         | 2/52 [00:01<00:31,  1.59it/s, Loss=0.0398, Acc=0.6562]"
     ]
    },
    {
     "name": "stdout",
     "output_type": "stream",
     "text": [
      "🔍 批次 1 成功:\n",
      "   - 损失值: 0.041527\n",
      "   - 样本数: 16\n",
      "   - 预测概率范围: [0.0839, 0.9854]\n",
      "   - 标签分布: 8.0/16\n"
     ]
    },
    {
     "name": "stderr",
     "output_type": "stream",
     "text": [
      "训练中:   6%|▌         | 3/52 [00:01<00:30,  1.59it/s, Loss=0.0348, Acc=0.6875]"
     ]
    },
    {
     "name": "stdout",
     "output_type": "stream",
     "text": [
      "🔍 批次 2 成功:\n",
      "   - 损失值: 0.024742\n",
      "   - 样本数: 16\n",
      "   - 预测概率范围: [0.1674, 0.9819]\n",
      "   - 标签分布: 7.0/16\n"
     ]
    },
    {
     "name": "stderr",
     "output_type": "stream",
     "text": [
      "训练中:  38%|███▊      | 20/52 [00:12<00:20,  1.58it/s, Loss=0.0242, Acc=0.7719]"
     ]
    },
    {
     "name": "stdout",
     "output_type": "stream",
     "text": [
      "📊 批次 20: GPU内存 0.3GB / 0.5GB\n"
     ]
    },
    {
     "name": "stderr",
     "output_type": "stream",
     "text": [
      "训练中:  77%|███████▋  | 40/52 [00:25<00:07,  1.58it/s, Loss=0.0234, Acc=0.7594]"
     ]
    },
    {
     "name": "stdout",
     "output_type": "stream",
     "text": [
      "📊 批次 40: GPU内存 0.3GB / 0.5GB\n"
     ]
    },
    {
     "name": "stderr",
     "output_type": "stream",
     "text": [
      "                                                                                \r"
     ]
    },
    {
     "name": "stdout",
     "output_type": "stream",
     "text": [
      "🔍 训练结果调试:\n",
      "   - 总损失: 1.2444972777739167\n",
      "   - 数据加载器长度: 52\n",
      "   - 平均损失: 0.023932639957190707\n",
      "   - 正确预测数: 645\n",
      "   - 总样本数: 832\n",
      "   - 准确率: 0.7752403846153846\n"
     ]
    },
    {
     "name": "stderr",
     "output_type": "stream",
     "text": [
      "                                                                                        \r"
     ]
    },
    {
     "name": "stdout",
     "output_type": "stream",
     "text": [
      "训练: Loss=0.0239, Acc=77.52%\n",
      "验证: Loss=0.3103, Acc=40.56%, AUC=0.4223, F1=0.5023\n",
      "学习率: 7.56e-05, 用时: 42.2s\n",
      "\n",
      "Epoch 20/50\n"
     ]
    },
    {
     "name": "stderr",
     "output_type": "stream",
     "text": [
      "训练中:   0%|          | 0/52 [00:00<?, ?it/s]"
     ]
    },
    {
     "name": "stdout",
     "output_type": "stream",
     "text": [
      "🔍 训练开始调试信息:\n",
      "   - 数据加载器长度: 52\n",
      "   - 当前学习率: 7.56e-05\n",
      "   - 设备: cuda\n",
      "   - 混合精度: 启用\n",
      "📊 批次 0: GPU内存 0.2GB / 0.5GB\n"
     ]
    },
    {
     "name": "stderr",
     "output_type": "stream",
     "text": [
      "训练中:   2%|▏         | 1/52 [00:00<00:30,  1.65it/s, Loss=0.0142, Acc=0.8750]"
     ]
    },
    {
     "name": "stdout",
     "output_type": "stream",
     "text": [
      "🔍 批次 0 成功:\n",
      "   - 损失值: 0.014223\n",
      "   - 样本数: 16\n",
      "   - 预测概率范围: [0.0203, 0.9941]\n",
      "   - 标签分布: 8.0/16\n"
     ]
    },
    {
     "name": "stderr",
     "output_type": "stream",
     "text": [
      "训练中:   4%|▍         | 2/52 [00:01<00:31,  1.61it/s, Loss=0.0168, Acc=0.8438]"
     ]
    },
    {
     "name": "stdout",
     "output_type": "stream",
     "text": [
      "🔍 批次 1 成功:\n",
      "   - 损失值: 0.019460\n",
      "   - 样本数: 16\n",
      "   - 预测概率范围: [0.0277, 0.9946]\n",
      "   - 标签分布: 8.0/16\n"
     ]
    },
    {
     "name": "stderr",
     "output_type": "stream",
     "text": [
      "训练中:   6%|▌         | 3/52 [00:01<00:30,  1.61it/s, Loss=0.0178, Acc=0.8333]"
     ]
    },
    {
     "name": "stdout",
     "output_type": "stream",
     "text": [
      "🔍 批次 2 成功:\n",
      "   - 损失值: 0.019841\n",
      "   - 样本数: 16\n",
      "   - 预测概率范围: [0.0478, 0.9912]\n",
      "   - 标签分布: 9.0/16\n"
     ]
    },
    {
     "name": "stderr",
     "output_type": "stream",
     "text": [
      "训练中:  38%|███▊      | 20/52 [00:12<00:20,  1.57it/s, Loss=0.0223, Acc=0.8281]"
     ]
    },
    {
     "name": "stdout",
     "output_type": "stream",
     "text": [
      "📊 批次 20: GPU内存 0.3GB / 0.5GB\n"
     ]
    },
    {
     "name": "stderr",
     "output_type": "stream",
     "text": [
      "训练中:  77%|███████▋  | 40/52 [00:25<00:07,  1.55it/s, Loss=0.0243, Acc=0.7953]"
     ]
    },
    {
     "name": "stdout",
     "output_type": "stream",
     "text": [
      "📊 批次 40: GPU内存 0.3GB / 0.5GB\n"
     ]
    },
    {
     "name": "stderr",
     "output_type": "stream",
     "text": [
      "                                                                                \r"
     ]
    },
    {
     "name": "stdout",
     "output_type": "stream",
     "text": [
      "🔍 训练结果调试:\n",
      "   - 总损失: 1.2412439845502377\n",
      "   - 数据加载器长度: 52\n",
      "   - 平均损失: 0.02387007662596611\n",
      "   - 正确预测数: 654\n",
      "   - 总样本数: 832\n",
      "   - 准确率: 0.7860576923076923\n"
     ]
    },
    {
     "name": "stderr",
     "output_type": "stream",
     "text": [
      "                                                                                        \r"
     ]
    },
    {
     "name": "stdout",
     "output_type": "stream",
     "text": [
      "训练: Loss=0.0239, Acc=78.61%\n",
      "验证: Loss=0.3344, Acc=38.33%, AUC=0.4243, F1=0.4638\n",
      "学习率: 2.00e-04, 用时: 42.4s\n",
      "\n",
      "Epoch 21/50\n"
     ]
    },
    {
     "name": "stderr",
     "output_type": "stream",
     "text": [
      "训练中:   0%|          | 0/52 [00:00<?, ?it/s]"
     ]
    },
    {
     "name": "stdout",
     "output_type": "stream",
     "text": [
      "🔍 训练开始调试信息:\n",
      "   - 数据加载器长度: 52\n",
      "   - 当前学习率: 2.00e-04\n",
      "   - 设备: cuda\n",
      "   - 混合精度: 启用\n",
      "📊 批次 0: GPU内存 0.2GB / 0.5GB\n"
     ]
    },
    {
     "name": "stderr",
     "output_type": "stream",
     "text": [
      "训练中:   2%|▏         | 1/52 [00:00<00:30,  1.70it/s, Loss=0.0318, Acc=0.6250]"
     ]
    },
    {
     "name": "stdout",
     "output_type": "stream",
     "text": [
      "🔍 批次 0 成功:\n",
      "   - 损失值: 0.031848\n",
      "   - 样本数: 16\n",
      "   - 预测概率范围: [0.0850, 0.9854]\n",
      "   - 标签分布: 6.0/16\n"
     ]
    },
    {
     "name": "stderr",
     "output_type": "stream",
     "text": [
      "训练中:   4%|▍         | 2/52 [00:01<00:30,  1.63it/s, Loss=0.0516, Acc=0.7188]"
     ]
    },
    {
     "name": "stdout",
     "output_type": "stream",
     "text": [
      "🔍 批次 1 成功:\n",
      "   - 损失值: 0.071281\n",
      "   - 样本数: 16\n",
      "   - 预测概率范围: [0.0489, 0.9946]\n",
      "   - 标签分布: 9.0/16\n"
     ]
    },
    {
     "name": "stderr",
     "output_type": "stream",
     "text": [
      "训练中:   6%|▌         | 3/52 [00:01<00:30,  1.61it/s, Loss=0.0469, Acc=0.6875]"
     ]
    },
    {
     "name": "stdout",
     "output_type": "stream",
     "text": [
      "🔍 批次 2 成功:\n",
      "   - 损失值: 0.037545\n",
      "   - 样本数: 16\n",
      "   - 预测概率范围: [0.2004, 0.9365]\n",
      "   - 标签分布: 8.0/16\n"
     ]
    },
    {
     "name": "stderr",
     "output_type": "stream",
     "text": [
      "训练中:  38%|███▊      | 20/52 [00:12<00:20,  1.59it/s, Loss=0.0243, Acc=0.6875]"
     ]
    },
    {
     "name": "stdout",
     "output_type": "stream",
     "text": [
      "📊 批次 20: GPU内存 0.3GB / 0.5GB\n"
     ]
    },
    {
     "name": "stderr",
     "output_type": "stream",
     "text": [
      "训练中:  77%|███████▋  | 40/52 [00:25<00:07,  1.58it/s, Loss=0.0240, Acc=0.7344]"
     ]
    },
    {
     "name": "stdout",
     "output_type": "stream",
     "text": [
      "📊 批次 40: GPU内存 0.3GB / 0.5GB\n"
     ]
    },
    {
     "name": "stderr",
     "output_type": "stream",
     "text": [
      "                                                                                \r"
     ]
    },
    {
     "name": "stdout",
     "output_type": "stream",
     "text": [
      "🔍 训练结果调试:\n",
      "   - 总损失: 1.2224100278690457\n",
      "   - 数据加载器长度: 52\n",
      "   - 平均损失: 0.023507885151327804\n",
      "   - 正确预测数: 621\n",
      "   - 总样本数: 832\n",
      "   - 准确率: 0.7463942307692307\n"
     ]
    },
    {
     "name": "stderr",
     "output_type": "stream",
     "text": [
      "                                                                                        \r"
     ]
    },
    {
     "name": "stdout",
     "output_type": "stream",
     "text": [
      "训练: Loss=0.0235, Acc=74.64%\n",
      "验证: Loss=0.2157, Acc=38.89%, AUC=0.3868, F1=0.5217\n",
      "学习率: 1.34e-04, 用时: 42.2s\n",
      "\n",
      "Epoch 22/50\n"
     ]
    },
    {
     "name": "stderr",
     "output_type": "stream",
     "text": [
      "训练中:   0%|          | 0/52 [00:00<?, ?it/s]"
     ]
    },
    {
     "name": "stdout",
     "output_type": "stream",
     "text": [
      "🔍 训练开始调试信息:\n",
      "   - 数据加载器长度: 52\n",
      "   - 当前学习率: 1.34e-04\n",
      "   - 设备: cuda\n",
      "   - 混合精度: 启用\n",
      "📊 批次 0: GPU内存 0.2GB / 0.5GB\n"
     ]
    },
    {
     "name": "stderr",
     "output_type": "stream",
     "text": [
      "训练中:   2%|▏         | 1/52 [00:00<00:30,  1.66it/s, Loss=0.0214, Acc=0.7500]"
     ]
    },
    {
     "name": "stdout",
     "output_type": "stream",
     "text": [
      "🔍 批次 0 成功:\n",
      "   - 损失值: 0.021394\n",
      "   - 样本数: 16\n",
      "   - 预测概率范围: [0.0895, 0.9761]\n",
      "   - 标签分布: 8.0/16\n"
     ]
    },
    {
     "name": "stderr",
     "output_type": "stream",
     "text": [
      "训练中:   4%|▍         | 2/52 [00:01<00:30,  1.62it/s, Loss=0.0229, Acc=0.7500]"
     ]
    },
    {
     "name": "stdout",
     "output_type": "stream",
     "text": [
      "🔍 批次 1 成功:\n",
      "   - 损失值: 0.024365\n",
      "   - 样本数: 16\n",
      "   - 预测概率范围: [0.0718, 0.9995]\n",
      "   - 标签分布: 9.0/16\n"
     ]
    },
    {
     "name": "stderr",
     "output_type": "stream",
     "text": [
      "训练中:   6%|▌         | 3/52 [00:01<00:30,  1.59it/s, Loss=0.0236, Acc=0.7917]"
     ]
    },
    {
     "name": "stdout",
     "output_type": "stream",
     "text": [
      "🔍 批次 2 成功:\n",
      "   - 损失值: 0.024903\n",
      "   - 样本数: 16\n",
      "   - 预测概率范围: [0.0972, 0.9971]\n",
      "   - 标签分布: 8.0/16\n"
     ]
    },
    {
     "name": "stderr",
     "output_type": "stream",
     "text": [
      "训练中:  38%|███▊      | 20/52 [00:12<00:20,  1.58it/s, Loss=0.0229, Acc=0.7469]"
     ]
    },
    {
     "name": "stdout",
     "output_type": "stream",
     "text": [
      "📊 批次 20: GPU内存 0.3GB / 0.5GB\n"
     ]
    },
    {
     "name": "stderr",
     "output_type": "stream",
     "text": [
      "训练中:  77%|███████▋  | 40/52 [00:25<00:07,  1.58it/s, Loss=0.0212, Acc=0.7547]"
     ]
    },
    {
     "name": "stdout",
     "output_type": "stream",
     "text": [
      "📊 批次 40: GPU内存 0.3GB / 0.5GB\n"
     ]
    },
    {
     "name": "stderr",
     "output_type": "stream",
     "text": [
      "                                                                                \r"
     ]
    },
    {
     "name": "stdout",
     "output_type": "stream",
     "text": [
      "🔍 训练结果调试:\n",
      "   - 总损失: 1.1072915247641504\n",
      "   - 数据加载器长度: 52\n",
      "   - 平均损失: 0.02129406778392597\n",
      "   - 正确预测数: 627\n",
      "   - 总样本数: 832\n",
      "   - 准确率: 0.7536057692307693\n"
     ]
    },
    {
     "name": "stderr",
     "output_type": "stream",
     "text": [
      "                                                                                        \r"
     ]
    },
    {
     "name": "stdout",
     "output_type": "stream",
     "text": [
      "训练: Loss=0.0213, Acc=75.36%\n",
      "验证: Loss=0.2860, Acc=39.44%, AUC=0.3875, F1=0.4977\n",
      "学习率: 2.81e-05, 用时: 42.2s\n",
      "\n",
      "Epoch 23/50\n"
     ]
    },
    {
     "name": "stderr",
     "output_type": "stream",
     "text": [
      "训练中:   0%|          | 0/52 [00:00<?, ?it/s]"
     ]
    },
    {
     "name": "stdout",
     "output_type": "stream",
     "text": [
      "🔍 训练开始调试信息:\n",
      "   - 数据加载器长度: 52\n",
      "   - 当前学习率: 2.81e-05\n",
      "   - 设备: cuda\n",
      "   - 混合精度: 启用\n",
      "📊 批次 0: GPU内存 0.2GB / 0.5GB\n"
     ]
    },
    {
     "name": "stderr",
     "output_type": "stream",
     "text": [
      "训练中:   2%|▏         | 1/52 [00:00<00:30,  1.66it/s, Loss=0.0264, Acc=0.6875]"
     ]
    },
    {
     "name": "stdout",
     "output_type": "stream",
     "text": [
      "🔍 批次 0 成功:\n",
      "   - 损失值: 0.026361\n",
      "   - 样本数: 16\n",
      "   - 预测概率范围: [0.0084, 0.9985]\n",
      "   - 标签分布: 8.0/16\n"
     ]
    },
    {
     "name": "stderr",
     "output_type": "stream",
     "text": [
      "训练中:   4%|▍         | 2/52 [00:01<00:30,  1.62it/s, Loss=0.0176, Acc=0.8125]"
     ]
    },
    {
     "name": "stdout",
     "output_type": "stream",
     "text": [
      "🔍 批次 1 成功:\n",
      "   - 损失值: 0.008882\n",
      "   - 样本数: 16\n",
      "   - 预测概率范围: [0.0993, 0.9746]\n",
      "   - 标签分布: 8.0/16\n"
     ]
    },
    {
     "name": "stderr",
     "output_type": "stream",
     "text": [
      "训练中:   6%|▌         | 3/52 [00:01<00:30,  1.60it/s, Loss=0.0574, Acc=0.8333]"
     ]
    },
    {
     "name": "stdout",
     "output_type": "stream",
     "text": [
      "🔍 批次 2 成功:\n",
      "   - 损失值: 0.136829\n",
      "   - 样本数: 16\n",
      "   - 预测概率范围: [0.0741, 0.9678]\n",
      "   - 标签分布: 8.0/16\n"
     ]
    },
    {
     "name": "stderr",
     "output_type": "stream",
     "text": [
      "训练中:  38%|███▊      | 20/52 [00:12<00:20,  1.56it/s, Loss=0.0240, Acc=0.8281]"
     ]
    },
    {
     "name": "stdout",
     "output_type": "stream",
     "text": [
      "📊 批次 20: GPU内存 0.3GB / 0.5GB\n"
     ]
    },
    {
     "name": "stderr",
     "output_type": "stream",
     "text": [
      "训练中:  77%|███████▋  | 40/52 [00:25<00:07,  1.56it/s, Loss=0.0224, Acc=0.8141]"
     ]
    },
    {
     "name": "stdout",
     "output_type": "stream",
     "text": [
      "📊 批次 40: GPU内存 0.3GB / 0.5GB\n"
     ]
    },
    {
     "name": "stderr",
     "output_type": "stream",
     "text": [
      "                                                                                \r"
     ]
    },
    {
     "name": "stdout",
     "output_type": "stream",
     "text": [
      "🔍 训练结果调试:\n",
      "   - 总损失: 1.1526268729940057\n",
      "   - 数据加载器长度: 52\n",
      "   - 平均损失: 0.022165901403730877\n",
      "   - 正确预测数: 665\n",
      "   - 总样本数: 832\n",
      "   - 准确率: 0.7992788461538461\n"
     ]
    },
    {
     "name": "stderr",
     "output_type": "stream",
     "text": [
      "                                                                                        \r"
     ]
    },
    {
     "name": "stdout",
     "output_type": "stream",
     "text": [
      "训练: Loss=0.0222, Acc=79.93%\n",
      "验证: Loss=0.3450, Acc=40.00%, AUC=0.3936, F1=0.5000\n",
      "学习率: 1.82e-04, 用时: 42.4s\n",
      "\n",
      "Epoch 24/50\n"
     ]
    },
    {
     "name": "stderr",
     "output_type": "stream",
     "text": [
      "训练中:   0%|          | 0/52 [00:00<?, ?it/s]"
     ]
    },
    {
     "name": "stdout",
     "output_type": "stream",
     "text": [
      "🔍 训练开始调试信息:\n",
      "   - 数据加载器长度: 52\n",
      "   - 当前学习率: 1.82e-04\n",
      "   - 设备: cuda\n",
      "   - 混合精度: 启用\n",
      "📊 批次 0: GPU内存 0.2GB / 0.5GB\n"
     ]
    },
    {
     "name": "stderr",
     "output_type": "stream",
     "text": [
      "训练中:   2%|▏         | 1/52 [00:00<00:30,  1.65it/s, Loss=0.0118, Acc=0.8750]"
     ]
    },
    {
     "name": "stdout",
     "output_type": "stream",
     "text": [
      "🔍 批次 0 成功:\n",
      "   - 损失值: 0.011799\n",
      "   - 样本数: 16\n",
      "   - 预测概率范围: [0.1455, 0.9863]\n",
      "   - 标签分布: 6.0/16\n"
     ]
    },
    {
     "name": "stderr",
     "output_type": "stream",
     "text": [
      "训练中:   4%|▍         | 2/52 [00:01<00:31,  1.60it/s, Loss=0.0170, Acc=0.8125]"
     ]
    },
    {
     "name": "stdout",
     "output_type": "stream",
     "text": [
      "🔍 批次 1 成功:\n",
      "   - 损失值: 0.022129\n",
      "   - 样本数: 16\n",
      "   - 预测概率范围: [0.0202, 0.9258]\n",
      "   - 标签分布: 8.0/16\n"
     ]
    },
    {
     "name": "stderr",
     "output_type": "stream",
     "text": [
      "训练中:   6%|▌         | 3/52 [00:01<00:31,  1.57it/s, Loss=0.0173, Acc=0.8125]"
     ]
    },
    {
     "name": "stdout",
     "output_type": "stream",
     "text": [
      "🔍 批次 2 成功:\n",
      "   - 损失值: 0.017928\n",
      "   - 样本数: 16\n",
      "   - 预测概率范围: [0.0373, 0.9937]\n",
      "   - 标签分布: 9.0/16\n"
     ]
    },
    {
     "name": "stderr",
     "output_type": "stream",
     "text": [
      "训练中:  38%|███▊      | 20/52 [00:13<00:21,  1.52it/s, Loss=0.0178, Acc=0.8562]"
     ]
    },
    {
     "name": "stdout",
     "output_type": "stream",
     "text": [
      "📊 批次 20: GPU内存 0.3GB / 0.5GB\n"
     ]
    },
    {
     "name": "stderr",
     "output_type": "stream",
     "text": [
      "训练中:  77%|███████▋  | 40/52 [00:25<00:07,  1.58it/s, Loss=0.0191, Acc=0.8297]"
     ]
    },
    {
     "name": "stdout",
     "output_type": "stream",
     "text": [
      "📊 批次 40: GPU内存 0.3GB / 0.5GB\n"
     ]
    },
    {
     "name": "stderr",
     "output_type": "stream",
     "text": [
      "                                                                                \r"
     ]
    },
    {
     "name": "stdout",
     "output_type": "stream",
     "text": [
      "🔍 训练结果调试:\n",
      "   - 总损失: 1.1015439699403942\n",
      "   - 数据加载器长度: 52\n",
      "   - 平均损失: 0.02118353788346912\n",
      "   - 正确预测数: 682\n",
      "   - 总样本数: 832\n",
      "   - 准确率: 0.8197115384615384\n"
     ]
    },
    {
     "name": "stderr",
     "output_type": "stream",
     "text": [
      "                                                                                        \r"
     ]
    },
    {
     "name": "stdout",
     "output_type": "stream",
     "text": [
      "训练: Loss=0.0212, Acc=81.97%\n",
      "验证: Loss=0.3383, Acc=40.56%, AUC=0.4159, F1=0.5286\n",
      "学习率: 7.56e-05, 用时: 42.7s\n",
      "\n",
      "Epoch 25/50\n"
     ]
    },
    {
     "name": "stderr",
     "output_type": "stream",
     "text": [
      "训练中:   0%|          | 0/52 [00:00<?, ?it/s]"
     ]
    },
    {
     "name": "stdout",
     "output_type": "stream",
     "text": [
      "🔍 训练开始调试信息:\n",
      "   - 数据加载器长度: 52\n",
      "   - 当前学习率: 7.56e-05\n",
      "   - 设备: cuda\n",
      "   - 混合精度: 启用\n",
      "📊 批次 0: GPU内存 0.2GB / 0.5GB\n"
     ]
    },
    {
     "name": "stderr",
     "output_type": "stream",
     "text": [
      "训练中:   2%|▏         | 1/52 [00:00<00:29,  1.70it/s, Loss=0.0262, Acc=0.6250]"
     ]
    },
    {
     "name": "stdout",
     "output_type": "stream",
     "text": [
      "🔍 批次 0 成功:\n",
      "   - 损失值: 0.026165\n",
      "   - 样本数: 16\n",
      "   - 预测概率范围: [0.0981, 0.9990]\n",
      "   - 标签分布: 6.0/16\n"
     ]
    },
    {
     "name": "stderr",
     "output_type": "stream",
     "text": [
      "训练中:   4%|▍         | 2/52 [00:01<00:30,  1.64it/s, Loss=0.0231, Acc=0.6875]"
     ]
    },
    {
     "name": "stdout",
     "output_type": "stream",
     "text": [
      "🔍 批次 1 成功:\n",
      "   - 损失值: 0.020002\n",
      "   - 样本数: 16\n",
      "   - 预测概率范围: [0.0560, 0.9673]\n",
      "   - 标签分布: 5.0/16\n"
     ]
    },
    {
     "name": "stderr",
     "output_type": "stream",
     "text": [
      "训练中:   6%|▌         | 3/52 [00:01<00:30,  1.61it/s, Loss=0.0194, Acc=0.7500]"
     ]
    },
    {
     "name": "stdout",
     "output_type": "stream",
     "text": [
      "🔍 批次 2 成功:\n",
      "   - 损失值: 0.011962\n",
      "   - 样本数: 16\n",
      "   - 预测概率范围: [0.0259, 0.9937]\n",
      "   - 标签分布: 11.0/16\n"
     ]
    },
    {
     "name": "stderr",
     "output_type": "stream",
     "text": [
      "训练中:  38%|███▊      | 20/52 [00:12<00:20,  1.58it/s, Loss=0.0291, Acc=0.7750]"
     ]
    },
    {
     "name": "stdout",
     "output_type": "stream",
     "text": [
      "📊 批次 20: GPU内存 0.3GB / 0.5GB\n"
     ]
    },
    {
     "name": "stderr",
     "output_type": "stream",
     "text": [
      "训练中:  77%|███████▋  | 40/52 [00:25<00:07,  1.57it/s, Loss=0.0232, Acc=0.7875]"
     ]
    },
    {
     "name": "stdout",
     "output_type": "stream",
     "text": [
      "📊 批次 40: GPU内存 0.3GB / 0.5GB\n"
     ]
    },
    {
     "name": "stderr",
     "output_type": "stream",
     "text": [
      "                                                                                \r"
     ]
    },
    {
     "name": "stdout",
     "output_type": "stream",
     "text": [
      "🔍 训练结果调试:\n",
      "   - 总损失: 1.1802029591053724\n",
      "   - 数据加载器长度: 52\n",
      "   - 平均损失: 0.022696210752026394\n",
      "   - 正确预测数: 649\n",
      "   - 总样本数: 832\n",
      "   - 准确率: 0.7800480769230769\n"
     ]
    },
    {
     "name": "stderr",
     "output_type": "stream",
     "text": [
      "                                                                                        \r"
     ]
    },
    {
     "name": "stdout",
     "output_type": "stream",
     "text": [
      "训练: Loss=0.0227, Acc=78.00%\n",
      "验证: Loss=0.3067, Acc=40.00%, AUC=0.3989, F1=0.5046\n",
      "学习率: 2.00e-04, 用时: 42.4s\n",
      "\n",
      "Epoch 26/50\n"
     ]
    },
    {
     "name": "stderr",
     "output_type": "stream",
     "text": [
      "训练中:   0%|          | 0/52 [00:00<?, ?it/s]"
     ]
    },
    {
     "name": "stdout",
     "output_type": "stream",
     "text": [
      "🔍 训练开始调试信息:\n",
      "   - 数据加载器长度: 52\n",
      "   - 当前学习率: 2.00e-04\n",
      "   - 设备: cuda\n",
      "   - 混合精度: 启用\n",
      "📊 批次 0: GPU内存 0.2GB / 0.5GB\n"
     ]
    },
    {
     "name": "stderr",
     "output_type": "stream",
     "text": [
      "训练中:   2%|▏         | 1/52 [00:00<00:30,  1.65it/s, Loss=0.0082, Acc=0.9375]"
     ]
    },
    {
     "name": "stdout",
     "output_type": "stream",
     "text": [
      "🔍 批次 0 成功:\n",
      "   - 损失值: 0.008244\n",
      "   - 样本数: 16\n",
      "   - 预测概率范围: [0.1409, 0.9985]\n",
      "   - 标签分布: 8.0/16\n"
     ]
    },
    {
     "name": "stderr",
     "output_type": "stream",
     "text": [
      "训练中:   4%|▍         | 2/52 [00:01<00:30,  1.62it/s, Loss=0.0158, Acc=0.8125]"
     ]
    },
    {
     "name": "stdout",
     "output_type": "stream",
     "text": [
      "🔍 批次 1 成功:\n",
      "   - 损失值: 0.023380\n",
      "   - 样本数: 16\n",
      "   - 预测概率范围: [0.0681, 0.9912]\n",
      "   - 标签分布: 6.0/16\n"
     ]
    },
    {
     "name": "stderr",
     "output_type": "stream",
     "text": [
      "训练中:   6%|▌         | 3/52 [00:01<00:30,  1.61it/s, Loss=0.0161, Acc=0.8125]"
     ]
    },
    {
     "name": "stdout",
     "output_type": "stream",
     "text": [
      "🔍 批次 2 成功:\n",
      "   - 损失值: 0.016629\n",
      "   - 样本数: 16\n",
      "   - 预测概率范围: [0.0640, 0.9980]\n",
      "   - 标签分布: 6.0/16\n"
     ]
    },
    {
     "name": "stderr",
     "output_type": "stream",
     "text": [
      "训练中:  38%|███▊      | 20/52 [00:12<00:20,  1.57it/s, Loss=0.0224, Acc=0.8187]"
     ]
    },
    {
     "name": "stdout",
     "output_type": "stream",
     "text": [
      "📊 批次 20: GPU内存 0.3GB / 0.5GB\n"
     ]
    },
    {
     "name": "stderr",
     "output_type": "stream",
     "text": [
      "训练中:  77%|███████▋  | 40/52 [00:25<00:07,  1.58it/s, Loss=0.0259, Acc=0.7937]"
     ]
    },
    {
     "name": "stdout",
     "output_type": "stream",
     "text": [
      "📊 批次 40: GPU内存 0.3GB / 0.5GB\n"
     ]
    },
    {
     "name": "stderr",
     "output_type": "stream",
     "text": [
      "                                                                                \r"
     ]
    },
    {
     "name": "stdout",
     "output_type": "stream",
     "text": [
      "🔍 训练结果调试:\n",
      "   - 总损失: 1.3125727656297386\n",
      "   - 数据加载器长度: 52\n",
      "   - 平均损失: 0.02524178395441805\n",
      "   - 正确预测数: 660\n",
      "   - 总样本数: 832\n",
      "   - 准确率: 0.7932692307692307\n"
     ]
    },
    {
     "name": "stderr",
     "output_type": "stream",
     "text": [
      "                                                                                        \r"
     ]
    },
    {
     "name": "stdout",
     "output_type": "stream",
     "text": [
      "训练: Loss=0.0252, Acc=79.33%\n",
      "验证: Loss=0.2426, Acc=42.22%, AUC=0.4325, F1=0.5185\n",
      "学习率: 1.34e-04, 用时: 42.4s\n",
      "\n",
      "Epoch 27/50\n"
     ]
    },
    {
     "name": "stderr",
     "output_type": "stream",
     "text": [
      "训练中:   0%|          | 0/52 [00:00<?, ?it/s]"
     ]
    },
    {
     "name": "stdout",
     "output_type": "stream",
     "text": [
      "🔍 训练开始调试信息:\n",
      "   - 数据加载器长度: 52\n",
      "   - 当前学习率: 1.34e-04\n",
      "   - 设备: cuda\n",
      "   - 混合精度: 启用\n",
      "📊 批次 0: GPU内存 0.2GB / 0.5GB\n"
     ]
    },
    {
     "name": "stderr",
     "output_type": "stream",
     "text": [
      "训练中:   2%|▏         | 1/52 [00:00<00:30,  1.69it/s, Loss=0.0129, Acc=0.6875]"
     ]
    },
    {
     "name": "stdout",
     "output_type": "stream",
     "text": [
      "🔍 批次 0 成功:\n",
      "   - 损失值: 0.012897\n",
      "   - 样本数: 16\n",
      "   - 预测概率范围: [0.1508, 0.9814]\n",
      "   - 标签分布: 6.0/16\n"
     ]
    },
    {
     "name": "stderr",
     "output_type": "stream",
     "text": [
      "训练中:   4%|▍         | 2/52 [00:01<00:31,  1.61it/s, Loss=0.0133, Acc=0.7500]"
     ]
    },
    {
     "name": "stdout",
     "output_type": "stream",
     "text": [
      "🔍 批次 1 成功:\n",
      "   - 损失值: 0.013670\n",
      "   - 样本数: 16\n",
      "   - 预测概率范围: [0.0257, 0.9961]\n",
      "   - 标签分布: 8.0/16\n"
     ]
    },
    {
     "name": "stderr",
     "output_type": "stream",
     "text": [
      "训练中:   6%|▌         | 3/52 [00:01<00:30,  1.60it/s, Loss=0.0157, Acc=0.7917]"
     ]
    },
    {
     "name": "stdout",
     "output_type": "stream",
     "text": [
      "🔍 批次 2 成功:\n",
      "   - 损失值: 0.020639\n",
      "   - 样本数: 16\n",
      "   - 预测概率范围: [0.2040, 0.9966]\n",
      "   - 标签分布: 7.0/16\n"
     ]
    },
    {
     "name": "stderr",
     "output_type": "stream",
     "text": [
      "训练中:  38%|███▊      | 20/52 [00:12<00:20,  1.56it/s, Loss=0.0240, Acc=0.7781]"
     ]
    },
    {
     "name": "stdout",
     "output_type": "stream",
     "text": [
      "📊 批次 20: GPU内存 0.3GB / 0.5GB\n"
     ]
    },
    {
     "name": "stderr",
     "output_type": "stream",
     "text": [
      "训练中:  77%|███████▋  | 40/52 [00:25<00:07,  1.55it/s, Loss=0.0266, Acc=0.7516]"
     ]
    },
    {
     "name": "stdout",
     "output_type": "stream",
     "text": [
      "📊 批次 40: GPU内存 0.3GB / 0.5GB\n"
     ]
    },
    {
     "name": "stderr",
     "output_type": "stream",
     "text": [
      "                                                                                \r"
     ]
    },
    {
     "name": "stdout",
     "output_type": "stream",
     "text": [
      "🔍 训练结果调试:\n",
      "   - 总损失: 1.3242477579042315\n",
      "   - 数据加载器长度: 52\n",
      "   - 平均损失: 0.02546630303661984\n",
      "   - 正确预测数: 623\n",
      "   - 总样本数: 832\n",
      "   - 准确率: 0.7487980769230769\n"
     ]
    },
    {
     "name": "stderr",
     "output_type": "stream",
     "text": [
      "                                                                                        \r"
     ]
    },
    {
     "name": "stdout",
     "output_type": "stream",
     "text": [
      "训练: Loss=0.0255, Acc=74.88%\n",
      "验证: Loss=0.2225, Acc=35.56%, AUC=0.3637, F1=0.5043\n",
      "学习率: 2.81e-05, 用时: 42.5s\n",
      "\n",
      "⏹️ 早停触发，在第 27 轮停止训练\n",
      "\n",
      "✅ 训练完成!\n",
      "🏆 最终最佳性能: Loss=0.1922, Acc=47.22%, AUC=0.4944\n",
      "💾 峰值GPU内存使用: 2.3GB\n"
     ]
    },
    {
     "data": {
      "image/png": "[encoded data removed]",
      "text/plain": [
       "<Figure size 1500x1000 with 4 Axes>"
      ]
     },
     "metadata": {},
     "output_type": "display_data"
    },
    {
     "name": "stdout",
     "output_type": "stream",
     "text": [
      "📊 训练历史图表已保存到 ./models/training_history.png\n"
     ]
    }
   ],
   "source": [
    "# Cell 12: 训练循环\n",
    "\n",
    "# 确保模型保存目录存在\n",
    "os.makedirs('./models', exist_ok=True)\n",
    "\n",
    "print(\"🚀 开始训练...\")\n",
    "print(f\"📊 训练配置: {len(train_loader)} 个训练批次, {len(val_loader)} 个验证批次\")\n",
    "print(f\"🎯 模型参数数量: {sum(p.numel() for p in model.parameters()):,}\")\n",
    "print(f\"💾 设备: {device}\")\n",
    "print(f\"📦 批次大小: {batch_size}\")\n",
    "\n",
    "if torch.cuda.is_available():\n",
    "    gpu_count = torch.cuda.device_count()\n",
    "    print(f\"🎮 GPU数量: {gpu_count}\")\n",
    "    print(f\"🎮 GPU型号: {torch.cuda.get_device_name(0)}\")\n",
    "    if gpu_count > 1:\n",
    "        print(f\"🚀 多GPU并行训练模式\")\n",
    "        print(f\"📦 有效批次大小: {batch_size * gpu_count}\")\n",
    "    torch.cuda.reset_peak_memory_stats()\n",
    "\n",
    "# 训练历史记录\n",
    "train_history = {\n",
    "    'train_loss': [],\n",
    "    'val_loss': [],\n",
    "    'train_acc': [],\n",
    "    'val_acc': [],\n",
    "    'val_auc': [],\n",
    "    'val_precision': [],\n",
    "    'val_recall': [],\n",
    "    'val_f1': []\n",
    "}\n",
    "\n",
    "best_val_loss = float('inf')\n",
    "best_val_acc = 0.0\n",
    "best_val_auc = 0.0\n",
    "\n",
    "# 训练循环\n",
    "print(\"\\n🔄 开始训练循环...\")\n",
    "for epoch in range(num_epochs):\n",
    "    epoch_start_time = time.time()\n",
    "    print(f\"\\nEpoch {epoch+1}/{num_epochs}\")\n",
    "    \n",
    "    # 训练阶段\n",
    "    train_results = train_epoch(\n",
    "        model, train_loader, criterion, optimizer, device, \n",
    "        scheduler=scheduler, use_amp=True, gradient_clip=1.0\n",
    "    )\n",
    "    \n",
    "    # 验证阶段\n",
    "    val_results = validate_epoch(\n",
    "        model, val_loader, criterion, device\n",
    "    )\n",
    "    \n",
    "    # 提取结果\n",
    "    train_loss = train_results['loss']\n",
    "    train_acc = train_results['accuracy'] * 100\n",
    "    \n",
    "    val_loss = val_results['loss']\n",
    "    val_acc = val_results['accuracy'] * 100\n",
    "    val_auc = val_results['auc']\n",
    "    val_precision = val_results['precision']\n",
    "    val_recall = val_results['recall']\n",
    "    val_f1 = val_results['f1']\n",
    "    \n",
    "    # 记录历史\n",
    "    train_history['train_loss'].append(train_loss)\n",
    "    train_history['train_acc'].append(train_acc)\n",
    "    train_history['val_loss'].append(val_loss)\n",
    "    train_history['val_acc'].append(val_acc)\n",
    "    train_history['val_auc'].append(val_auc)\n",
    "    train_history['val_precision'].append(val_precision)\n",
    "    train_history['val_recall'].append(val_recall)\n",
    "    train_history['val_f1'].append(val_f1)\n",
    "    \n",
    "    # 学习率调度\n",
    "    scheduler.step()\n",
    "    current_lr = optimizer.param_groups[0]['lr']\n",
    "    \n",
    "    # 计算epoch时间\n",
    "    epoch_time = time.time() - epoch_start_time\n",
    "    \n",
    "    # 打印结果\n",
    "    print(f\"训练: Loss={train_loss:.4f}, Acc={train_acc:.2f}%\")\n",
    "    print(f\"验证: Loss={val_loss:.4f}, Acc={val_acc:.2f}%, AUC={val_auc:.4f}, F1={val_f1:.4f}\")\n",
    "    print(f\"学习率: {current_lr:.2e}, 用时: {epoch_time:.1f}s\")\n",
    "    \n",
    "    # 保存最佳模型\n",
    "    if val_acc > best_val_acc:\n",
    "        best_val_loss = val_loss\n",
    "        best_val_acc = val_acc\n",
    "        best_val_auc = val_auc\n",
    "        \n",
    "        print(f\"🎯 新的最佳模型! Acc: {best_val_acc:.2f}%, AUC: {best_val_auc:.4f}\")\n",
    "        \n",
    "        # 保存最佳模型\n",
    "        torch.save({\n",
    "            'epoch': epoch,\n",
    "            'model_state_dict': model.state_dict(),\n",
    "            'optimizer_state_dict': optimizer.state_dict(),\n",
    "            'best_val_loss': best_val_loss,\n",
    "            'best_val_acc': best_val_acc,\n",
    "            'best_val_auc': best_val_auc,\n",
    "            'train_history': train_history\n",
    "        }, './models/best_model.pth')\n",
    "        print(\"💾 最佳模型已保存\")\n",
    "    \n",
    "    # 早停检查\n",
    "    if early_stopping(val_loss, model):\n",
    "        print(f\"\\n⏹️ 早停触发，在第 {epoch+1} 轮停止训练\")\n",
    "        break\n",
    "    \n",
    "    # 清理GPU缓存 - 多GPU内存管理\n",
    "    if torch.cuda.is_available():\n",
    "        current_memory = torch.cuda.memory_allocated() / 1024**3\n",
    "        gpu_count = torch.cuda.device_count()\n",
    "        \n",
    "        # 多GPU环境下的内存阈值调整\n",
    "        memory_threshold = 20 if gpu_count > 1 else 10\n",
    "        \n",
    "        if current_memory > memory_threshold:\n",
    "            print(f\"🧹 GPU内存清理: {current_memory:.1f}GB > {memory_threshold}GB\")\n",
    "            torch.cuda.empty_cache()\n",
    "            if gpu_count > 1:\n",
    "                # 多GPU环境下清理所有GPU\n",
    "                for i in range(gpu_count):\n",
    "                    with torch.cuda.device(i):\n",
    "                        torch.cuda.empty_cache()\n",
    "        \n",
    "        # 检查训练时间\n",
    "        epoch_time = time.time() - epoch_start_time\n",
    "        max_epoch_time = 2 * 3600 if gpu_count > 1 else 1 * 3600  # 多GPU允许更长时间\n",
    "        \n",
    "        if epoch_time > max_epoch_time:\n",
    "            print(f\"⏰ 单轮训练时间过长 ({epoch_time/3600:.1f}小时)，停止训练\")\n",
    "            break\n",
    "\n",
    "print(\"\\n✅ 训练完成!\")\n",
    "print(f\"🏆 最终最佳性能: Loss={best_val_loss:.4f}, Acc={best_val_acc:.2f}%, AUC={best_val_auc:.4f}\")\n",
    "\n",
    "if torch.cuda.is_available():\n",
    "    print(f\"💾 峰值GPU内存使用: {torch.cuda.max_memory_allocated() / 1024**3:.1f}GB\")\n",
    "\n",
    "# 绘制训练历史\n",
    "def plot_training_history():\n",
    "    \"\"\"绘制训练历史图表\"\"\"\n",
    "    fig, axes = plt.subplots(2, 2, figsize=(15, 10))\n",
    "    fig.suptitle('训练历史', fontsize=16, fontweight='bold')\n",
    "    \n",
    "    # Loss\n",
    "    axes[0, 0].plot(train_history['train_loss'], label='训练Loss', color='blue')\n",
    "    axes[0, 0].plot(train_history['val_loss'], label='验证Loss', color='red')\n",
    "    axes[0, 0].set_title('Loss变化')\n",
    "    axes[0, 0].set_xlabel('Epoch')\n",
    "    axes[0, 0].set_ylabel('Loss')\n",
    "    axes[0, 0].legend()\n",
    "    axes[0, 0].grid(True)\n",
    "    \n",
    "    # Accuracy\n",
    "    axes[0, 1].plot(train_history['train_acc'], label='训练Acc', color='blue')\n",
    "    axes[0, 1].plot(train_history['val_acc'], label='验证Acc', color='red')\n",
    "    axes[0, 1].set_title('准确率变化')\n",
    "    axes[0, 1].set_xlabel('Epoch')\n",
    "    axes[0, 1].set_ylabel('Accuracy (%)')\n",
    "    axes[0, 1].legend()\n",
    "    axes[0, 1].grid(True)\n",
    "    \n",
    "    # AUC\n",
    "    axes[1, 0].plot(train_history['val_auc'], label='验证AUC', color='red')\n",
    "    axes[1, 0].set_title('AUC变化')\n",
    "    axes[1, 0].set_xlabel('Epoch')\n",
    "    axes[1, 0].set_ylabel('AUC')\n",
    "    axes[1, 0].legend()\n",
    "    axes[1, 0].grid(True)\n",
    "    \n",
    "    # F1 Score\n",
    "    axes[1, 1].plot(train_history['val_f1'], label='验证F1', color='red')\n",
    "    axes[1, 1].set_title('F1分数变化')\n",
    "    axes[1, 1].set_xlabel('Epoch')\n",
    "    axes[1, 1].set_ylabel('F1 Score')\n",
    "    axes[1, 1].legend()\n",
    "    axes[1, 1].grid(True)\n",
    "    \n",
    "    plt.tight_layout()\n",
    "    plt.savefig('./models/training_history.png', dpi=300, bbox_inches='tight')\n",
    "    plt.show()\n",
    "\n",
    "# 绘制训练历史\n",
    "plot_training_history()\n",
    "\n",
    "print(\"📊 训练历史图表已保存到 ./models/training_history.png\")"
   ]
  },
  {
   "cell_type": "code",
   "execution_count": 14,
   "id": "e30dccb8",
   "metadata": {
    "execution": {
     "iopub.execute_input": "2025-07-30T15:15:27.947919Z",
     "iopub.status.busy": "2025-07-30T15:15:27.947604Z",
     "iopub.status.idle": "2025-07-30T15:15:46.314184Z",
     "shell.execute_reply": "2025-07-30T15:15:46.313223Z"
    },
    "jupyter": {
     "source_hidden": true
    },
    "papermill": {
     "duration": 18.598415,
     "end_time": "2025-07-30T15:15:46.320752",
     "exception": false,
     "start_time": "2025-07-30T15:15:27.722337",
     "status": "completed"
    },
    "tags": []
   },
   "outputs": [
    {
     "name": "stdout",
     "output_type": "stream",
     "text": [
      "📊 开始模型评估...\n",
      "============================================================\n",
      "🔄 加载最佳模型...\n",
      "✅ 成功加载第 6 轮的最佳模型\n",
      "最佳验证准确率: 47.22%\n",
      "最佳验证AUC: 0.4944\n",
      "\n",
      "🔍 在测试集上评估模型...\n",
      "🚀 开始模型评估...\n"
     ]
    },
    {
     "name": "stderr",
     "output_type": "stream",
     "text": [
      "评估进度: 100%|██████████| 12/12 [00:15<00:00,  1.27s/it]\n"
     ]
    },
    {
     "name": "stdout",
     "output_type": "stream",
     "text": [
      "✅ 评估完成\n",
      "平均损失: 0.1649\n",
      "平均推理时间: 543.15 ms/batch\n",
      "\n",
      "📈 计算评估指标...\n",
      "\n",
      "📊 详细评估结果:\n",
      "==================================================\n",
      "测试损失: 0.1649\n",
      "准确率: 0.4667 (46.67%)\n",
      "平衡准确率: 0.4667 (46.67%)\n",
      "精确率: 0.4773\n",
      "召回率: 0.7000\n",
      "特异性: 0.2333\n",
      "F1分数: 0.5676\n",
      "AUC-ROC: 0.4332\n",
      "AUC-PR: 0.5077\n",
      "负预测值: 0.4375\n",
      "\n",
      "🔍 混淆矩阵分析:\n",
      "真负例 (TN): 21\n",
      "假正例 (FP): 69\n",
      "假负例 (FN): 27\n",
      "真正例 (TP): 63\n",
      "\n",
      "⚡ 性能分析:\n",
      "平均推理时间: 543.15 ms/batch\n",
      "总推理时间: 6.52 秒\n",
      "每个样本推理时间: 33.95 ms\n",
      "\n",
      "📋 类别特定分析:\n",
      "总样本数: 180\n",
      "真实视频样本: 90 (50.0%)\n",
      "伪造视频样本: 90 (50.0%)\n",
      "真实视频检测准确率: 0.2333 (23.33%)\n",
      "伪造视频检测准确率: 0.7000 (70.00%)\n",
      "\n",
      "📊 生成评估图表...\n"
     ]
    },
    {
     "data": {
      "image/png": "[encoded data removed]",
      "text/plain": [
       "<Figure size 1000x800 with 2 Axes>"
      ]
     },
     "metadata": {},
     "output_type": "display_data"
    },
    {
     "name": "stdout",
     "output_type": "stream",
     "text": [
      "混淆矩阵已保存到: ./results/evaluation/confusion_matrix.png\n"
     ]
    },
    {
     "data": {
      "image/png": "[encoded data removed]",
      "text/plain": [
       "<Figure size 1500x600 with 2 Axes>"
      ]
     },
     "metadata": {},
     "output_type": "display_data"
    },
    {
     "name": "stdout",
     "output_type": "stream",
     "text": [
      "ROC/PR曲线已保存到: ./results/evaluation/roc_pr_curves.png\n"
     ]
    },
    {
     "data": {
      "image/png": "[encoded data removed]",
      "text/plain": [
       "<Figure size 1200x500 with 2 Axes>"
      ]
     },
     "metadata": {},
     "output_type": "display_data"
    },
    {
     "name": "stdout",
     "output_type": "stream",
     "text": [
      "✅ 评估图表生成完成\n",
      "\n",
      "============================================================\n",
      "📊 类别不平衡分析报告\n",
      "============================================================\n",
      "\n",
      "📈 数据分布:\n",
      "  真实视频样本: 90\n",
      "  伪造视频样本: 90\n",
      "  不平衡比例: 1.00:1 (伪造:真实)\n",
      "\n",
      "🎯 类别特定准确率:\n",
      "  真实视频检测准确率: 23.33%\n",
      "  伪造视频检测准确率: 70.00%\n",
      "\n",
      "📋 混淆矩阵分析:\n",
      "  真负例 (TN): 21 - 正确识别的真实视频\n",
      "  假正例 (FP): 69 - 误判为伪造的真实视频\n",
      "  假负例 (FN): 27 - 误判为真实的伪造视频\n",
      "  真正例 (TP): 63 - 正确识别的伪造视频\n",
      "\n",
      "⚖️ 模型偏向性分析:\n",
      "  预测为真实的样本: 48 (26.7%)\n",
      "  预测为伪造的样本: 132 (73.3%)\n",
      "\n",
      "🔍 问题诊断:\n",
      "  ⚠️  问题: 真实视频识别能力较差\n",
      "  ❌ AUC-ROC过低: 模型判别能力接近随机猜测\n",
      "\n",
      "💡 改进建议:\n",
      "  4. 检查数据质量，确保真实视频标签正确\n",
      "  5. 使用成本敏感学习方法\n",
      "  6. 考虑使用SMOTE等过采样技术\n",
      "  7. 重新设计模型架构\n",
      "  8. 增加模型复杂度或使用预训练模型\n",
      "  9. 检查特征提取是否有效\n",
      "============================================================\n",
      "============================================================\n",
      "🎉 模型评估完成！\n",
      "📁 所有结果已保存到 ./results/evaluation/ 目录\n",
      "\n",
      "💡 如果发现严重的类别偏向问题，请参考上述改进建议进行优化\n"
     ]
    }
   ],
   "source": [
    "# Cell 13: 模型评估和结果分析\n",
    "\n",
    "print(\"📊 开始模型评估...\")\n",
    "print(\"=\" * 60)\n",
    "\n",
    "# 加载最佳模型\n",
    "print(\"🔄 加载最佳模型...\")\n",
    "try:\n",
    "    # 使用weights_only=False来兼容旧版本的模型文件\n",
    "    checkpoint = torch.load('./models/best_model.pth', map_location=device, weights_only=False)\n",
    "    model.load_state_dict(checkpoint['model_state_dict'])\n",
    "    best_epoch = checkpoint['epoch']\n",
    "    best_val_acc = checkpoint['best_val_acc']\n",
    "    best_val_auc = checkpoint['best_val_auc']\n",
    "    \n",
    "    print(f\"✅ 成功加载第 {best_epoch+1} 轮的最佳模型\")\n",
    "    print(f\"最佳验证准确率: {best_val_acc:.2f}%\")\n",
    "    print(f\"最佳验证AUC: {best_val_auc:.4f}\")\n",
    "except Exception as e:\n",
    "    print(f\"❌ 加载模型失败: {e}\")\n",
    "    print(\"使用当前模型进行评估\")\n",
    "\n",
    "# 在测试集上评估模型\n",
    "print(\"\\n🔍 在测试集上评估模型...\")\n",
    "eval_results = evaluate_model_optimized(model, test_loader, criterion, device)\n",
    "\n",
    "# 计算全面的评估指标\n",
    "print(\"\\n📈 计算评估指标...\")\n",
    "metrics = calculate_comprehensive_metrics(\n",
    "    eval_results['predictions'], \n",
    "    eval_results['targets'], \n",
    "    eval_results['scores']\n",
    ")\n",
    "\n",
    "# 打印详细结果\n",
    "print(\"\\n📊 详细评估结果:\")\n",
    "print(\"=\" * 50)\n",
    "print(f\"测试损失: {eval_results['loss']:.4f}\")\n",
    "print(f\"准确率: {metrics['accuracy']:.4f} ({metrics['accuracy']*100:.2f}%)\")\n",
    "print(f\"平衡准确率: {metrics['balanced_accuracy']:.4f} ({metrics['balanced_accuracy']*100:.2f}%)\")\n",
    "print(f\"精确率: {metrics['precision']:.4f}\")\n",
    "print(f\"召回率: {metrics['recall']:.4f}\")\n",
    "print(f\"特异性: {metrics['specificity']:.4f}\")\n",
    "print(f\"F1分数: {metrics['f1']:.4f}\")\n",
    "print(f\"AUC-ROC: {metrics['auc_roc']:.4f}\")\n",
    "print(f\"AUC-PR: {metrics['auc_pr']:.4f}\")\n",
    "print(f\"负预测值: {metrics['npv']:.4f}\")\n",
    "\n",
    "# 混淆矩阵详细信息\n",
    "print(\"\\n🔍 混淆矩阵分析:\")\n",
    "print(f\"真负例 (TN): {metrics['tn']}\")\n",
    "print(f\"假正例 (FP): {metrics['fp']}\")\n",
    "print(f\"假负例 (FN): {metrics['fn']}\")\n",
    "print(f\"真正例 (TP): {metrics['tp']}\")\n",
    "\n",
    "# 性能分析\n",
    "print(\"\\n⚡ 性能分析:\")\n",
    "print(f\"平均推理时间: {eval_results['avg_inference_time']*1000:.2f} ms/batch\")\n",
    "print(f\"总推理时间: {eval_results['total_inference_time']:.2f} 秒\")\n",
    "print(f\"每个样本推理时间: {eval_results['avg_inference_time']*1000/batch_size:.2f} ms\")\n",
    "\n",
    "# 计算额外指标\n",
    "total_samples = len(eval_results['targets'])\n",
    "real_samples = np.sum(eval_results['targets'] == 0)\n",
    "fake_samples = np.sum(eval_results['targets'] == 1)\n",
    "real_accuracy = np.sum((eval_results['predictions'] == 0) & (eval_results['targets'] == 0)) / real_samples if real_samples > 0 else 0\n",
    "fake_accuracy = np.sum((eval_results['predictions'] == 1) & (eval_results['targets'] == 1)) / fake_samples if fake_samples > 0 else 0\n",
    "\n",
    "print(\"\\n📋 类别特定分析:\")\n",
    "print(f\"总样本数: {total_samples}\")\n",
    "print(f\"真实视频样本: {real_samples} ({real_samples/total_samples*100:.1f}%)\")\n",
    "print(f\"伪造视频样本: {fake_samples} ({fake_samples/total_samples*100:.1f}%)\")\n",
    "print(f\"真实视频检测准确率: {real_accuracy:.4f} ({real_accuracy*100:.2f}%)\")\n",
    "print(f\"伪造视频检测准确率: {fake_accuracy:.4f} ({fake_accuracy*100:.2f}%)\")\n",
    "\n",
    "# 生成可视化图表\n",
    "print(\"\\n📊 生成评估图表...\")\n",
    "\n",
    "# 确保结果目录存在\n",
    "os.makedirs('./results/evaluation', exist_ok=True)\n",
    "\n",
    "# 绘制增强混淆矩阵\n",
    "plot_enhanced_confusion_matrix(\n",
    "    metrics['confusion_matrix'], \n",
    "    './results/evaluation/confusion_matrix.png'\n",
    ")\n",
    "\n",
    "# 绘制ROC和PR曲线\n",
    "plot_roc_pr_curves(\n",
    "    eval_results['targets'], \n",
    "    eval_results['scores'], \n",
    "    './results/evaluation/roc_pr_curves.png'\n",
    ")\n",
    "\n",
    "# 预测分数分布图\n",
    "plt.figure(figsize=(12, 5))\n",
    "\n",
    "# 真实视频的预测分数分布\n",
    "plt.subplot(1, 2, 1)\n",
    "real_scores = eval_results['scores'][eval_results['targets'] == 0]\n",
    "fake_scores = eval_results['scores'][eval_results['targets'] == 1]\n",
    "\n",
    "plt.hist(real_scores, bins=30, alpha=0.7, label='真实视频', color='blue', density=True)\n",
    "plt.hist(fake_scores, bins=30, alpha=0.7, label='伪造视频', color='red', density=True)\n",
    "plt.xlabel('预测分数')\n",
    "plt.ylabel('密度')\n",
    "plt.title('预测分数分布')\n",
    "plt.legend()\n",
    "plt.grid(True, alpha=0.3)\n",
    "\n",
    "# 预测分数箱线图\n",
    "plt.subplot(1, 2, 2)\n",
    "scores_data = [real_scores, fake_scores]\n",
    "labels = ['真实视频', '伪造视频']\n",
    "plt.boxplot(scores_data, labels=labels)\n",
    "plt.ylabel('预测分数')\n",
    "plt.title('预测分数箱线图')\n",
    "plt.grid(True, alpha=0.3)\n",
    "\n",
    "plt.tight_layout()\n",
    "plt.savefig('./results/evaluation/score_distribution.png', dpi=300, bbox_inches='tight')\n",
    "plt.show()\n",
    "\n",
    "print(\"✅ 评估图表生成完成\")\n",
    "\n",
    "# 生成详细的类别不平衡分析报告\n",
    "generate_class_imbalance_report(metrics)\n",
    "\n",
    "print(\"=\" * 60)\n",
    "print(\"🎉 模型评估完成！\")\n",
    "print(\"📁 所有结果已保存到 ./results/evaluation/ 目录\")\n",
    "print(\"\\n💡 如果发现严重的类别偏向问题，请参考上述改进建议进行优化\")"
   ]
  },
  {
   "cell_type": "code",
   "execution_count": 15,
   "id": "107962a7",
   "metadata": {
    "execution": {
     "iopub.execute_input": "2025-07-30T15:15:46.792319Z",
     "iopub.status.busy": "2025-07-30T15:15:46.792011Z",
     "iopub.status.idle": "2025-07-30T15:15:46.840698Z",
     "shell.execute_reply": "2025-07-30T15:15:46.839405Z"
    },
    "jupyter": {
     "source_hidden": true
    },
    "papermill": {
     "duration": 0.287007,
     "end_time": "2025-07-30T15:15:46.842160",
     "exception": false,
     "start_time": "2025-07-30T15:15:46.555153",
     "status": "completed"
    },
    "tags": []
   },
   "outputs": [
    {
     "name": "stdout",
     "output_type": "stream",
     "text": [
      "💾 保存实验结果...\n",
      "============================================================\n",
      "✅ 实验结果已保存到: ./results/experiment_results.json\n",
      "✅ 训练历史已保存到: ./results/training_history.csv\n",
      "✅ 测试预测结果已保存到: ./results/test_predictions.csv\n",
      "\n",
      "📋 生成实验报告...\n",
      "✅ 实验报告已保存到: ./results/experiment_report.txt\n",
      "\n",
      "============================================================\n",
      "🎉 深度伪造检测模型训练和评估完成！\n",
      "============================================================\n",
      "📊 最终测试准确率: 46.67%\n",
      "📊 AUC-ROC分数: 0.4332\n",
      "📊 F1分数: 0.5676\n",
      "\n",
      "📁 所有结果文件已保存到 ./results/ 目录\n",
      "📁 最佳模型已保存到 ./models/best_model.pth\n",
      "\n",
      "✨ 实验成功完成！\n",
      "============================================================\n",
      "\n",
      "📂 生成的文件结构:\n",
      "\n",
      "./models/\n",
      "  └── best_model.pth\n",
      "./results/\n",
      "  ├── experiment_results.json\n",
      "  ├── experiment_report.txt\n",
      "  ├── training_history.csv\n",
      "  └── test_predictions.csv\n",
      "\n",
      "\n",
      "🚀 可以使用以下代码加载训练好的模型进行推理:\n",
      "\n",
      "# 加载模型\n",
      "model = OptimizedDeepfakeDetector(...)\n",
      "checkpoint = torch.load('./models/best_model.pth', weights_only=False)\n",
      "model.load_state_dict(checkpoint['model_state_dict'])\n",
      "model.eval()\n",
      "\n",
      "\n",
      "✅ 训练完成！\n"
     ]
    }
   ],
   "source": [
    "# Cell 14: 结果保存和总结\n",
    "\n",
    "print(\"💾 保存实验结果...\")\n",
    "print(\"=\" * 60)\n",
    "\n",
    "# 确保结果目录存在\n",
    "os.makedirs('./results', exist_ok=True)\n",
    "\n",
    "# 准备保存的结果数据\n",
    "results_summary = {\n",
    "    'experiment_info': {\n",
    "        'timestamp': datetime.now().isoformat(),\n",
    "        'model_architecture': 'OptimizedDeepfakeDetector',\n",
    "        'backbone': 'resnet50',\n",
    "        'total_epochs': len(train_history['train_loss']),\n",
    "        'early_stopping': True\n",
    "    },\n",
    "    'dataset_info': {\n",
    "        'train_samples': len(train_loader.dataset) if train_loader else 0,\n",
    "        'val_samples': len(val_loader.dataset) if val_loader else 0,\n",
    "        'test_samples': len(test_loader.dataset) if test_loader else 0,\n",
    "        'batch_size': batch_size\n",
    "    },\n",
    "    'training_config': {\n",
    "        'optimizer': 'AdamW',\n",
    "        'learning_rate': 1e-4,\n",
    "        'weight_decay': 1e-4,\n",
    "        'loss_function': 'FocalLoss',\n",
    "        'scheduler': 'OneCycleLR',\n",
    "        'early_stopping_patience': 7\n",
    "    },\n",
    "    'final_metrics': {\n",
    "        'test_loss': float(eval_results['loss']),\n",
    "        'accuracy': float(metrics['accuracy']),\n",
    "        'precision': float(metrics['precision']),\n",
    "        'recall': float(metrics['recall']),\n",
    "        'f1_score': float(metrics['f1']),\n",
    "        'auc_roc': float(metrics['auc_roc'])\n",
    "    },\n",
    "    'confusion_matrix': {\n",
    "        'tn': int(metrics['tn']),\n",
    "        'fp': int(metrics['fp']),\n",
    "        'fn': int(metrics['fn']),\n",
    "        'tp': int(metrics['tp'])\n",
    "    },\n",
    "    'training_history': {\n",
    "        'train_loss': [float(x) for x in train_history['train_loss']],\n",
    "        'train_acc': [float(x) for x in train_history['train_acc']],\n",
    "        'val_loss': [float(x) for x in train_history['val_loss']],\n",
    "        'val_acc': [float(x) for x in train_history['val_acc']],\n",
    "        'val_auc': [float(x) for x in train_history['val_auc']],\n",
    "        'val_precision': [float(x) for x in train_history.get('val_precision', [])],\n",
    "        'val_recall': [float(x) for x in train_history.get('val_recall', [])],\n",
    "        'val_f1': [float(x) for x in train_history.get('val_f1', [])]\n",
    "    },\n",
    "    'class_specific_metrics': {\n",
    "        'real_video_accuracy': float(real_accuracy),\n",
    "        'fake_video_accuracy': float(fake_accuracy),\n",
    "        'real_samples_count': int(real_samples),\n",
    "        'fake_samples_count': int(fake_samples)\n",
    "    },\n",
    "    'class_balance_optimization': {\n",
    "        'original_threshold': 0.5,\n",
    "        'optimized_threshold': float(metrics.get('best_threshold', 0.5)),\n",
    "        'original_balanced_accuracy': float(metrics['balanced_accuracy']),\n",
    "        'optimized_balanced_accuracy': float(metrics.get('optimized_balanced_accuracy', metrics['balanced_accuracy'])),\n",
    "        'original_real_accuracy': float(metrics['real_accuracy']),\n",
    "        'optimized_real_accuracy': float(metrics.get('optimized_real_accuracy', metrics['real_accuracy'])),\n",
    "        'original_fake_accuracy': float(metrics['fake_accuracy']),\n",
    "        'optimized_fake_accuracy': float(metrics.get('optimized_fake_accuracy', metrics['fake_accuracy']))\n",
    "    }\n",
    "}\n",
    "\n",
    "# 保存结果到JSON文件\n",
    "results_file = './results/experiment_results.json'\n",
    "with open(results_file, 'w', encoding='utf-8') as f:\n",
    "    json.dump(results_summary, f, indent=2, ensure_ascii=False)\n",
    "\n",
    "print(f\"✅ 实验结果已保存到: {results_file}\")\n",
    "\n",
    "# 保存训练历史到CSV\n",
    "history_df = pd.DataFrame(train_history)\n",
    "history_df.to_csv('./results/training_history.csv', index=False)\n",
    "print(\"✅ 训练历史已保存到: ./results/training_history.csv\")\n",
    "\n",
    "# 保存预测结果\n",
    "predictions_df = pd.DataFrame({\n",
    "    'true_label': eval_results['targets'],\n",
    "    'predicted_label': eval_results['predictions'],\n",
    "    'prediction_score': eval_results['scores']\n",
    "})\n",
    "predictions_df.to_csv('./results/test_predictions.csv', index=False)\n",
    "print(\"✅ 测试预测结果已保存到: ./results/test_predictions.csv\")\n",
    "\n",
    "# 生成实验报告\n",
    "print(\"\\n📋 生成实验报告...\")\n",
    "report = f\"\"\"\n",
    "深度伪造检测模型实验报告\n",
    "{'='*50}\n",
    "\n",
    "实验时间: {datetime.now().strftime('%Y-%m-%d %H:%M:%S')}\n",
    "模型架构: OptimizedDeepfakeDetector (ResNet50 + LSTM + Attention)\n",
    "\n",
    "数据集信息:\n",
    "- 训练样本: {len(train_loader.dataset) if train_loader else 0:,}\n",
    "- 验证样本: {len(val_loader.dataset) if val_loader else 0:,}\n",
    "- 测试样本: {len(test_loader.dataset) if test_loader else 0:,}\n",
    "- 批次大小: {batch_size}\n",
    "\n",
    "训练配置:\n",
    "- 优化器: AdamW (lr=1e-4, weight_decay=1e-4)\n",
    "- 损失函数: Focal Loss\n",
    "- 学习率调度: OneCycleLR\n",
    "- 早停机制: patience=7\n",
    "\n",
    "最终性能指标:\n",
    "- 准确率: {metrics['accuracy']*100:.2f}%\n",
    "- 精确率: {metrics['precision']:.4f}\n",
    "- 召回率: {metrics['recall']:.4f}\n",
    "- F1分数: {metrics['f1']:.4f}\n",
    "- AUC-ROC: {metrics['auc_roc']:.4f}\n",
    "\n",
    "混淆矩阵:\n",
    "- 真负例 (TN): {metrics['tn']}\n",
    "- 假正例 (FP): {metrics['fp']}\n",
    "- 假负例 (FN): {metrics['fn']}\n",
    "- 真正例 (TP): {metrics['tp']}\n",
    "\n",
    "类别特定性能:\n",
    "- 真实视频检测准确率: {real_accuracy*100:.2f}%\n",
    "- 伪造视频检测准确率: {fake_accuracy*100:.2f}%\n",
    "\n",
    "类别平衡优化结果:\n",
    "- 原始分类阈值: 0.5\n",
    "- 优化分类阈值: {metrics.get('best_threshold', 0.5):.3f}\n",
    "- 原始平衡准确率: {metrics['balanced_accuracy']*100:.2f}%\n",
    "- 优化平衡准确率: {metrics.get('optimized_balanced_accuracy', metrics['balanced_accuracy'])*100:.2f}%\n",
    "- 优化后真实视频准确率: {metrics.get('optimized_real_accuracy', real_accuracy)*100:.2f}%\n",
    "- 优化后伪造视频准确率: {metrics.get('optimized_fake_accuracy', fake_accuracy)*100:.2f}%\n",
    "\n",
    "训练总结:\n",
    "- 训练轮数: {len(train_history['train_loss'])}\n",
    "- 最佳验证准确率: {max(train_history['val_acc']):.2f}%\n",
    "- 最佳验证AUC: {max(train_history['val_auc']):.4f}\n",
    "\n",
    "文件输出:\n",
    "- 模型权重: ./models/best_model.pth\n",
    "- 实验结果: ./results/experiment_results.json\n",
    "- 训练历史: ./results/training_history.csv\n",
    "- 预测结果: ./results/test_predictions.csv\n",
    "\n",
    "{'='*50}\n",
    "实验完成时间: {datetime.now().strftime('%Y-%m-%d %H:%M:%S')}\n",
    "\"\"\"\n",
    "\n",
    "# 保存报告\n",
    "with open('./results/experiment_report.txt', 'w', encoding='utf-8') as f:\n",
    "    f.write(report)\n",
    "\n",
    "print(\"✅ 实验报告已保存到: ./results/experiment_report.txt\")\n",
    "\n",
    "# 打印最终总结\n",
    "print(\"\\n\" + \"=\"*60)\n",
    "print(\"🎉 深度伪造检测模型训练和评估完成！\")\n",
    "print(\"=\"*60)\n",
    "print(f\"📊 最终测试准确率: {metrics['accuracy']*100:.2f}%\")\n",
    "print(f\"📊 AUC-ROC分数: {metrics['auc_roc']:.4f}\")\n",
    "print(f\"📊 F1分数: {metrics['f1']:.4f}\")\n",
    "print(\"\\n📁 所有结果文件已保存到 ./results/ 目录\")\n",
    "print(\"📁 最佳模型已保存到 ./models/best_model.pth\")\n",
    "print(\"\\n✨ 实验成功完成！\")\n",
    "print(\"=\"*60)\n",
    "\n",
    "# 显示文件结构\n",
    "print(\"\\n📂 生成的文件结构:\")\n",
    "print(\"\"\"\n",
    "./models/\n",
    "  └── best_model.pth\n",
    "./results/\n",
    "  ├── experiment_results.json\n",
    "  ├── experiment_report.txt\n",
    "  ├── training_history.csv\n",
    "  └── test_predictions.csv\n",
    "\"\"\")\n",
    "\n",
    "print(\"\\n🚀 可以使用以下代码加载训练好的模型进行推理:\")\n",
    "print(\"\"\"\n",
    "# 加载模型\n",
    "model = OptimizedDeepfakeDetector(...)\n",
    "checkpoint = torch.load('./models/best_model.pth', weights_only=False)\n",
    "model.load_state_dict(checkpoint['model_state_dict'])\n",
    "model.eval()\n",
    "\"\"\")\n",
    "\n",
    "print(\"\\n✅ 训练完成！\")"
   ]
  }
 ],
 "metadata": {
  "kaggle": {
   "accelerator": "nvidiaTeslaT4",
   "dataSources": [
    {
     "datasetId": 6248577,
     "sourceId": 10125851,
     "sourceType": "datasetVersion"
    }
   ],
   "dockerImageVersionId": 31041,
   "isGpuEnabled": true,
   "isInternetEnabled": true,
   "language": "python",
   "sourceType": "notebook"
  },
  "kernelspec": {
   "display_name": "Python 3",
   "language": "python",
   "name": "python3"
  },
  "language_info": {
   "codemirror_mode": {
    "name": "ipython",
    "version": 3
   },
   "file_extension": ".py",
   "mimetype": "text/x-python",
   "name": "python",
   "nbconvert_exporter": "python",
   "pygments_lexer": "ipython3",
   "version": "3.11.11"
  },
  "papermill": {
   "default_parameters": {},
   "duration": 10418.597006,
   "end_time": "2025-07-30T15:15:51.390330",
   "environment_variables": {},
   "exception": null,
   "input_path": "__notebook__.ipynb",
   "output_path": "__notebook__.ipynb",
   "parameters": {},
   "start_time": "2025-07-30T12:22:12.793324",
   "version": "2.6.0"
  }
 },
 "nbformat": 4,
 "nbformat_minor": 5
}
